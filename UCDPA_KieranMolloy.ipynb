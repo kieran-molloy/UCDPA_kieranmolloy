{
 "cells": [
  {
   "cell_type": "markdown",
   "id": "62b73650-40bf-4cf5-b0e1-add5e135416a",
   "metadata": {},
   "source": [
    "# Kieran Molloy UCDPA Project \n",
    "### Course CIDAB 2022-01-18\n",
    "***"
   ]
  },
  {
   "cell_type": "markdown",
   "id": "c778e28c-3ac9-4b69-9a21-a14a798d209b",
   "metadata": {},
   "source": [
    "### Environment Information\n",
    "<table align=\"left\">\n",
    "<tr>\n",
    "    <th>Environment Type</th>\n",
    "    <th>Anaconda Version</th>\n",
    "    <th>Anaconda Build Channel</th>\n",
    "    <th>Python Version</th>\n",
    "</tr>\n",
    "<tr>\n",
    "    <td>Anaconda </td>\n",
    "    <td>2021.11 </td>\n",
    "    <td>py39_0 </td>\n",
    "    <td>3.9.7 </td>\n",
    "</tr>\n",
    "</table>"
   ]
  },
  {
   "cell_type": "markdown",
   "id": "afe1772b-f4b1-4b51-a3a4-9c24f29ed8d3",
   "metadata": {
    "tags": []
   },
   "source": [
    "## Links to Kaggle Datasource: \n",
    "***\n",
    "\n",
    "#### _[Transactional Retail Dataset of Electronics Store](https://www.kaggle.com/datasets/muhammadshahrayar/transactional-retail-dataset-of-electronics-store)_\n",
    "\n",
    "*  _[dirty_data.csv](https://www.kaggle.com/datasets/muhammadshahrayar/transactional-retail-dataset-of-electronics-store?select=dirty_data.csv)_\n",
    "*  _[missing_data.csv](https://www.kaggle.com/datasets/muhammadshahrayar/transactional-retail-dataset-of-electronics-store?select=missing_data.csv)_\n",
    "*  _[warehouses.csv](https://www.kaggle.com/datasets/muhammadshahrayar/transactional-retail-dataset-of-electronics-store?select=warehouses.csv)_\n"
   ]
  },
  {
   "cell_type": "markdown",
   "id": "46c99b8e-b1e6-4b5c-9436-6e63806301af",
   "metadata": {},
   "source": [
    "## Install Modules"
   ]
  },
  {
   "cell_type": "code",
   "execution_count": 345,
   "id": "879d252f-8f3c-4757-94e9-cdb84a520855",
   "metadata": {},
   "outputs": [],
   "source": [
    "# %pip install geopy"
   ]
  },
  {
   "cell_type": "markdown",
   "id": "e954165f-785e-469f-9d11-f464f7ce3008",
   "metadata": {},
   "source": [
    "## Import Modules\n",
    "***"
   ]
  },
  {
   "cell_type": "code",
   "execution_count": 435,
   "id": "7fb5ef44-cccd-4c79-b53b-64ac594b15e3",
   "metadata": {},
   "outputs": [],
   "source": [
    "from matplotlib import pyplot as plt\n",
    "from IPython.display import display \n",
    "\n",
    "import pandas as pd\n",
    "import numpy as np\n",
    "import seaborn as sns\n",
    "\n",
    "from datetime import datetime\n",
    "\n",
    "from geopy.distance import geodesic"
   ]
  },
  {
   "cell_type": "markdown",
   "id": "aa0be544-123d-4dc7-9429-df54040e671b",
   "metadata": {},
   "source": [
    "## Set Variables\n",
    "***"
   ]
  },
  {
   "cell_type": "code",
   "execution_count": 347,
   "id": "82297830-167e-46bc-83b0-36026355871b",
   "metadata": {},
   "outputs": [],
   "source": [
    "dirty_data = 'dirty_data.csv'\n",
    "missing_data = 'missing_data.csv'\n",
    "warehouses = 'warehouses.csv'"
   ]
  },
  {
   "cell_type": "markdown",
   "id": "b4a97a52-1f03-4cca-84ea-fc64d0b2c2e1",
   "metadata": {
    "tags": []
   },
   "source": [
    "## Functions\n",
    "***"
   ]
  },
  {
   "cell_type": "code",
   "execution_count": 348,
   "id": "a0aee1ca-9eb0-4972-b84a-fe555c89e8b4",
   "metadata": {},
   "outputs": [],
   "source": [
    "def get_missing_nearest_warehouse(lat , Long ):\n",
    "    ''' use coordinates to find the closest warehouse '''\n",
    "    \n",
    "    # customer coordinates are provided\n",
    "    coords_customer = lat, Long\n",
    "    \n",
    "    # get warehouse latitude and longitide from warehouse table\n",
    "    coords_Nickolson = df_warehouses['lat'].loc[df_warehouses.index[0]], df_warehouses['lon'].loc[df_warehouses.index[0]]\n",
    "    coords_Thompson = df_warehouses['lat'].loc[df_warehouses.index[1]], df_warehouses['lon'].loc[df_warehouses.index[1]]\n",
    "    coords_Bakers = df_warehouses['lat'].loc[df_warehouses.index[2]], df_warehouses['lon'].loc[df_warehouses.index[2]]\n",
    "    \n",
    "    # use geodesic to do a km distance comparison\n",
    "    Nickolson_cust_dist = geodesic(coords_customer, coords_Nickolson).km\n",
    "    Thompson_cust_dist = geodesic(coords_customer, coords_Thompson).km\n",
    "    Bakers_cust_dist = geodesic(coords_customer, coords_Bakers).km\n",
    "    \n",
    "    val = (Nickolson_cust_dist ,Thompson_cust_dist ,Bakers_cust_dist)\n",
    "    \n",
    "    x = val.index(min(val))\n",
    "    \n",
    "    if x == 0:\n",
    "        warehouse = 'Nickolson'\n",
    "        distance = Nickolson_cust_dist\n",
    "        return(warehouse , distance)\n",
    "    elif x == 1:\n",
    "        warehouse = 'Thompson'\n",
    "        distance = Nickolson_cust_dist\n",
    "        return(warehouse , distance)\n",
    "    else: \n",
    "        warehouse = 'Bakers'\n",
    "        distance = Nickolson_cust_dist\n",
    "        return(warehouse , distance)"
   ]
  },
  {
   "cell_type": "code",
   "execution_count": 349,
   "id": "f9c3130b-999f-4a0a-b752-21265f8eb20c",
   "metadata": {},
   "outputs": [],
   "source": [
    "def get_missing_order_price(order_total, delivery_charges, coupon_discount):\n",
    "    ''' calculate order_price from order_total, delivery_charges and coupon_discount '''\n",
    "    order_price = (order_total - delivery_charges) / (100-coupon_discount) * 100\n",
    "    return(round(order_price, 2))"
   ]
  },
  {
   "cell_type": "code",
   "execution_count": 350,
   "id": "24d8ad60-44ef-46bc-9465-a94ce7956f9a",
   "metadata": {},
   "outputs": [],
   "source": [
    "def get_missing_order_total(order_price, delivery_charges, coupon_discount):\n",
    "    ''' calculate order_total from order_price, delivery_charges and coupon_discount'''\n",
    "    order_total = order_price - (order_price / 100 * coupon_discount) + delivery_charges\n",
    "    return(round(order_total, 2))"
   ]
  },
  {
   "cell_type": "code",
   "execution_count": 441,
   "id": "061ab880-0f9e-4ca1-ba42-0deb9082a277",
   "metadata": {},
   "outputs": [],
   "source": [
    "def get_missing_season(date):\n",
    "    '''calculate season from date'''\n",
    "    # Spring = months 9,10,11\n",
    "    # summer = months 12,1,2\n",
    "    # Autumn = months 3,4,5\n",
    "    # Winter = months 6,7,8\n",
    "\n",
    "    month = date.month\n",
    "\n",
    "    if month in [9,10,11]:\n",
    "        season = 'Spring'\n",
    "    elif month in [12,1,2]:\n",
    "        season = 'Summer'\n",
    "    elif month in [3,4,5]:\n",
    "        season = 'Autumn'\n",
    "    else:\n",
    "        season = 'Winter'\n",
    "    \n",
    "    return(season)"
   ]
  },
  {
   "cell_type": "code",
   "execution_count": 437,
   "id": "4f7ae408-5581-44aa-81fd-8fca43164bbc",
   "metadata": {},
   "outputs": [
    {
     "data": {
      "text/plain": [
       "'Summer'"
      ]
     },
     "execution_count": 437,
     "metadata": {},
     "output_type": "execute_result"
    }
   ],
   "source": [
    "get_missing_season()"
   ]
  },
  {
   "cell_type": "markdown",
   "id": "2dfd0b92-8771-4163-af08-d7bceb0c567b",
   "metadata": {
    "tags": []
   },
   "source": [
    "## CSV import \n",
    "***"
   ]
  },
  {
   "cell_type": "code",
   "execution_count": 352,
   "id": "c83e5fb3-0851-46c9-9bee-ecc62ccf1bda",
   "metadata": {},
   "outputs": [],
   "source": [
    "# read the CSV from the local Jupyter Notebook directory \n",
    "df_dirty_data = pd.read_csv(dirty_data)\n",
    "df_missing_data = pd.read_csv(missing_data)\n",
    "df_warehouses = pd.read_csv(warehouses)"
   ]
  },
  {
   "cell_type": "markdown",
   "id": "952b0116-adff-45ee-96bd-b089410d845a",
   "metadata": {
    "toc-hr-collapsed": true
   },
   "source": [
    "## Initial CSV Review\n",
    "***"
   ]
  },
  {
   "cell_type": "markdown",
   "id": "849d9fa2-d21f-4964-b2b7-98eef342b08a",
   "metadata": {},
   "source": [
    "### df_dirty_data dataframe"
   ]
  },
  {
   "cell_type": "code",
   "execution_count": 353,
   "id": "388aeae0-cca8-4d2b-a240-4c0c09b1c40e",
   "metadata": {},
   "outputs": [
    {
     "data": {
      "text/plain": [
       "pandas.core.frame.DataFrame"
      ]
     },
     "execution_count": 353,
     "metadata": {},
     "output_type": "execute_result"
    }
   ],
   "source": [
    "type(df_dirty_data)"
   ]
  },
  {
   "cell_type": "code",
   "execution_count": 354,
   "id": "bb2ae2d7-edcf-4cec-98d3-066e3a9f1f56",
   "metadata": {},
   "outputs": [
    {
     "name": "stdout",
     "output_type": "stream",
     "text": [
      "Index(['order_id', 'customer_id', 'date', 'nearest_warehouse', 'shopping_cart',\n",
      "       'order_price', 'delivery_charges', 'customer_lat', 'customer_long',\n",
      "       'coupon_discount', 'order_total', 'season', 'is_expedited_delivery',\n",
      "       'distance_to_nearest_warehouse', 'latest_customer_review',\n",
      "       'is_happy_customer'],\n",
      "      dtype='object')\n"
     ]
    }
   ],
   "source": [
    "print(df_dirty_data.columns)"
   ]
  },
  {
   "cell_type": "code",
   "execution_count": 355,
   "id": "1720377b-2e41-439d-b8c9-e80a9688850d",
   "metadata": {
    "tags": []
   },
   "outputs": [
    {
     "data": {
      "text/html": [
       "<div>\n",
       "<style scoped>\n",
       "    .dataframe tbody tr th:only-of-type {\n",
       "        vertical-align: middle;\n",
       "    }\n",
       "\n",
       "    .dataframe tbody tr th {\n",
       "        vertical-align: top;\n",
       "    }\n",
       "\n",
       "    .dataframe thead th {\n",
       "        text-align: right;\n",
       "    }\n",
       "</style>\n",
       "<table border=\"1\" class=\"dataframe\">\n",
       "  <thead>\n",
       "    <tr style=\"text-align: right;\">\n",
       "      <th></th>\n",
       "      <th>order_id</th>\n",
       "      <th>customer_id</th>\n",
       "      <th>date</th>\n",
       "      <th>nearest_warehouse</th>\n",
       "      <th>shopping_cart</th>\n",
       "      <th>order_price</th>\n",
       "      <th>delivery_charges</th>\n",
       "      <th>customer_lat</th>\n",
       "      <th>customer_long</th>\n",
       "      <th>coupon_discount</th>\n",
       "      <th>order_total</th>\n",
       "      <th>season</th>\n",
       "      <th>is_expedited_delivery</th>\n",
       "      <th>distance_to_nearest_warehouse</th>\n",
       "      <th>latest_customer_review</th>\n",
       "      <th>is_happy_customer</th>\n",
       "    </tr>\n",
       "  </thead>\n",
       "  <tbody>\n",
       "    <tr>\n",
       "      <th>0</th>\n",
       "      <td>ORD182494</td>\n",
       "      <td>ID6197211592</td>\n",
       "      <td>2019-06-22</td>\n",
       "      <td>Thompson</td>\n",
       "      <td>[('Lucent 330S', 1), ('Thunder line', 2), ('iS...</td>\n",
       "      <td>12200</td>\n",
       "      <td>79.89</td>\n",
       "      <td>-37.815105</td>\n",
       "      <td>144.932843</td>\n",
       "      <td>10</td>\n",
       "      <td>11059.89</td>\n",
       "      <td>Winter</td>\n",
       "      <td>True</td>\n",
       "      <td>1.2800</td>\n",
       "      <td>perfect phone and trusted seller. phone itself...</td>\n",
       "      <td>True</td>\n",
       "    </tr>\n",
       "    <tr>\n",
       "      <th>1</th>\n",
       "      <td>ORD395518</td>\n",
       "      <td>ID0282825849</td>\n",
       "      <td>2019-12-29</td>\n",
       "      <td>Thompson</td>\n",
       "      <td>[('Thunder line', 1), ('Universe Note', 2)]</td>\n",
       "      <td>9080</td>\n",
       "      <td>62.71</td>\n",
       "      <td>-37.802736</td>\n",
       "      <td>144.951118</td>\n",
       "      <td>0</td>\n",
       "      <td>9142.71</td>\n",
       "      <td>Summer</td>\n",
       "      <td>False</td>\n",
       "      <td>1.1621</td>\n",
       "      <td>it keeps dropping calls the wifi don't work th...</td>\n",
       "      <td>False</td>\n",
       "    </tr>\n",
       "    <tr>\n",
       "      <th>2</th>\n",
       "      <td>ORD494479</td>\n",
       "      <td>ID0579391891</td>\n",
       "      <td>2019-03-02</td>\n",
       "      <td>Nickolson</td>\n",
       "      <td>[('Thunder line', 1), ('pearTV', 2)]</td>\n",
       "      <td>10670</td>\n",
       "      <td>65.87</td>\n",
       "      <td>-37.821302</td>\n",
       "      <td>144.957581</td>\n",
       "      <td>10</td>\n",
       "      <td>9668.87</td>\n",
       "      <td>Autumn</td>\n",
       "      <td>False</td>\n",
       "      <td>1.0949</td>\n",
       "      <td>five stars this is a great cheap phone.</td>\n",
       "      <td>True</td>\n",
       "    </tr>\n",
       "    <tr>\n",
       "      <th>3</th>\n",
       "      <td>ORD019224</td>\n",
       "      <td>ID4544561904</td>\n",
       "      <td>2019-01-12</td>\n",
       "      <td>Nickolson</td>\n",
       "      <td>[('Universe Note', 1), ('Alcon 10', 2), ('Oliv...</td>\n",
       "      <td>24800</td>\n",
       "      <td>57.61</td>\n",
       "      <td>-37.811416</td>\n",
       "      <td>144.973073</td>\n",
       "      <td>15</td>\n",
       "      <td>21137.61</td>\n",
       "      <td>Summer</td>\n",
       "      <td>False</td>\n",
       "      <td>0.8571</td>\n",
       "      <td>charger did not fit the charger didn't fit.</td>\n",
       "      <td>False</td>\n",
       "    </tr>\n",
       "    <tr>\n",
       "      <th>4</th>\n",
       "      <td>ORD104032</td>\n",
       "      <td>ID6231506320</td>\n",
       "      <td>2019-11-28</td>\n",
       "      <td>Nickolson</td>\n",
       "      <td>[('Universe Note', 1), ('Olivia x460', 1), ('i...</td>\n",
       "      <td>9145</td>\n",
       "      <td>75.54</td>\n",
       "      <td>37.823859</td>\n",
       "      <td>144.969892</td>\n",
       "      <td>25</td>\n",
       "      <td>6934.29</td>\n",
       "      <td>Spring</td>\n",
       "      <td>False</td>\n",
       "      <td>0.5867</td>\n",
       "      <td>four stars good</td>\n",
       "      <td>True</td>\n",
       "    </tr>\n",
       "    <tr>\n",
       "      <th>5</th>\n",
       "      <td>ORD146760</td>\n",
       "      <td>ID0311654900</td>\n",
       "      <td>2019-09-16</td>\n",
       "      <td>Bakers</td>\n",
       "      <td>[('Thunder line', 2), ('Universe Note', 1)]</td>\n",
       "      <td>7810</td>\n",
       "      <td>71.22</td>\n",
       "      <td>37.820245</td>\n",
       "      <td>145.014944</td>\n",
       "      <td>10</td>\n",
       "      <td>7100.22</td>\n",
       "      <td>Spring</td>\n",
       "      <td>False</td>\n",
       "      <td>2.0752</td>\n",
       "      <td>stolen phone sold us a stolen phone so we coul...</td>\n",
       "      <td>False</td>\n",
       "    </tr>\n",
       "    <tr>\n",
       "      <th>6</th>\n",
       "      <td>ORD337984</td>\n",
       "      <td>ID3394768956</td>\n",
       "      <td>2019-09-14</td>\n",
       "      <td>Thompson</td>\n",
       "      <td>[('Candle Inferno', 1), ('Alcon 10', 1), ('Tos...</td>\n",
       "      <td>13700</td>\n",
       "      <td>74.84</td>\n",
       "      <td>-37.807743</td>\n",
       "      <td>144.951570</td>\n",
       "      <td>5</td>\n",
       "      <td>13089.84</td>\n",
       "      <td>Spring</td>\n",
       "      <td>False</td>\n",
       "      <td>0.6767</td>\n",
       "      <td>love our inferno stick,easy to set up and have...</td>\n",
       "      <td>True</td>\n",
       "    </tr>\n",
       "    <tr>\n",
       "      <th>7</th>\n",
       "      <td>ORD072312</td>\n",
       "      <td>ID0774517121</td>\n",
       "      <td>2019-05-23</td>\n",
       "      <td>Thompson</td>\n",
       "      <td>[('Universe Note', 1), ('Thunder line', 2), ('...</td>\n",
       "      <td>7960</td>\n",
       "      <td>52.28</td>\n",
       "      <td>-37.806337</td>\n",
       "      <td>144.959544</td>\n",
       "      <td>5</td>\n",
       "      <td>10789.79</td>\n",
       "      <td>Autumn</td>\n",
       "      <td>False</td>\n",
       "      <td>1.3043</td>\n",
       "      <td>it sucks mine came with dead pixels</td>\n",
       "      <td>False</td>\n",
       "    </tr>\n",
       "    <tr>\n",
       "      <th>8</th>\n",
       "      <td>ORD377837</td>\n",
       "      <td>ID4769265355</td>\n",
       "      <td>2019-10-09</td>\n",
       "      <td>Bakers</td>\n",
       "      <td>[('Alcon 10', 2), ('Thunder line', 1), ('Candl...</td>\n",
       "      <td>25390</td>\n",
       "      <td>107.58</td>\n",
       "      <td>-37.810810</td>\n",
       "      <td>145.014073</td>\n",
       "      <td>10</td>\n",
       "      <td>22958.58</td>\n",
       "      <td>Spring</td>\n",
       "      <td>True</td>\n",
       "      <td>1.6595</td>\n",
       "      <td>this is how top phone should look like! super ...</td>\n",
       "      <td>True</td>\n",
       "    </tr>\n",
       "    <tr>\n",
       "      <th>9</th>\n",
       "      <td>ORD462194</td>\n",
       "      <td>ID5301568579</td>\n",
       "      <td>2019-03-21</td>\n",
       "      <td>Thompson</td>\n",
       "      <td>[('Universe Note', 1), ('Lucent 330S', 1), ('T...</td>\n",
       "      <td>13320</td>\n",
       "      <td>62.26</td>\n",
       "      <td>-37.808675</td>\n",
       "      <td>144.942337</td>\n",
       "      <td>15</td>\n",
       "      <td>11384.26</td>\n",
       "      <td>winter</td>\n",
       "      <td>True</td>\n",
       "      <td>0.6093</td>\n",
       "      <td>does not live up to its reputation. customer s...</td>\n",
       "      <td>False</td>\n",
       "    </tr>\n",
       "  </tbody>\n",
       "</table>\n",
       "</div>"
      ],
      "text/plain": [
       "    order_id   customer_id        date nearest_warehouse  \\\n",
       "0  ORD182494  ID6197211592  2019-06-22          Thompson   \n",
       "1  ORD395518  ID0282825849  2019-12-29          Thompson   \n",
       "2  ORD494479  ID0579391891  2019-03-02         Nickolson   \n",
       "3  ORD019224  ID4544561904  2019-01-12         Nickolson   \n",
       "4  ORD104032  ID6231506320  2019-11-28         Nickolson   \n",
       "5  ORD146760  ID0311654900  2019-09-16            Bakers   \n",
       "6  ORD337984  ID3394768956  2019-09-14          Thompson   \n",
       "7  ORD072312  ID0774517121  2019-05-23          Thompson   \n",
       "8  ORD377837  ID4769265355  2019-10-09            Bakers   \n",
       "9  ORD462194  ID5301568579  2019-03-21          Thompson   \n",
       "\n",
       "                                       shopping_cart  order_price  \\\n",
       "0  [('Lucent 330S', 1), ('Thunder line', 2), ('iS...        12200   \n",
       "1        [('Thunder line', 1), ('Universe Note', 2)]         9080   \n",
       "2               [('Thunder line', 1), ('pearTV', 2)]        10670   \n",
       "3  [('Universe Note', 1), ('Alcon 10', 2), ('Oliv...        24800   \n",
       "4  [('Universe Note', 1), ('Olivia x460', 1), ('i...         9145   \n",
       "5        [('Thunder line', 2), ('Universe Note', 1)]         7810   \n",
       "6  [('Candle Inferno', 1), ('Alcon 10', 1), ('Tos...        13700   \n",
       "7  [('Universe Note', 1), ('Thunder line', 2), ('...         7960   \n",
       "8  [('Alcon 10', 2), ('Thunder line', 1), ('Candl...        25390   \n",
       "9  [('Universe Note', 1), ('Lucent 330S', 1), ('T...        13320   \n",
       "\n",
       "   delivery_charges  customer_lat  customer_long  coupon_discount  \\\n",
       "0             79.89    -37.815105     144.932843               10   \n",
       "1             62.71    -37.802736     144.951118                0   \n",
       "2             65.87    -37.821302     144.957581               10   \n",
       "3             57.61    -37.811416     144.973073               15   \n",
       "4             75.54     37.823859     144.969892               25   \n",
       "5             71.22     37.820245     145.014944               10   \n",
       "6             74.84    -37.807743     144.951570                5   \n",
       "7             52.28    -37.806337     144.959544                5   \n",
       "8            107.58    -37.810810     145.014073               10   \n",
       "9             62.26    -37.808675     144.942337               15   \n",
       "\n",
       "   order_total  season  is_expedited_delivery  distance_to_nearest_warehouse  \\\n",
       "0     11059.89  Winter                   True                         1.2800   \n",
       "1      9142.71  Summer                  False                         1.1621   \n",
       "2      9668.87  Autumn                  False                         1.0949   \n",
       "3     21137.61  Summer                  False                         0.8571   \n",
       "4      6934.29  Spring                  False                         0.5867   \n",
       "5      7100.22  Spring                  False                         2.0752   \n",
       "6     13089.84  Spring                  False                         0.6767   \n",
       "7     10789.79  Autumn                  False                         1.3043   \n",
       "8     22958.58  Spring                   True                         1.6595   \n",
       "9     11384.26  winter                   True                         0.6093   \n",
       "\n",
       "                              latest_customer_review  is_happy_customer  \n",
       "0  perfect phone and trusted seller. phone itself...               True  \n",
       "1  it keeps dropping calls the wifi don't work th...              False  \n",
       "2            five stars this is a great cheap phone.               True  \n",
       "3        charger did not fit the charger didn't fit.              False  \n",
       "4                                    four stars good               True  \n",
       "5  stolen phone sold us a stolen phone so we coul...              False  \n",
       "6  love our inferno stick,easy to set up and have...               True  \n",
       "7                it sucks mine came with dead pixels              False  \n",
       "8  this is how top phone should look like! super ...               True  \n",
       "9  does not live up to its reputation. customer s...              False  "
      ]
     },
     "execution_count": 355,
     "metadata": {},
     "output_type": "execute_result"
    }
   ],
   "source": [
    "df_dirty_data.head(10)"
   ]
  },
  {
   "cell_type": "code",
   "execution_count": 356,
   "id": "10acd33b-e9ec-4111-8c62-8db0daa1861f",
   "metadata": {},
   "outputs": [
    {
     "data": {
      "text/html": [
       "<div>\n",
       "<style scoped>\n",
       "    .dataframe tbody tr th:only-of-type {\n",
       "        vertical-align: middle;\n",
       "    }\n",
       "\n",
       "    .dataframe tbody tr th {\n",
       "        vertical-align: top;\n",
       "    }\n",
       "\n",
       "    .dataframe thead th {\n",
       "        text-align: right;\n",
       "    }\n",
       "</style>\n",
       "<table border=\"1\" class=\"dataframe\">\n",
       "  <thead>\n",
       "    <tr style=\"text-align: right;\">\n",
       "      <th></th>\n",
       "      <th>order_price</th>\n",
       "      <th>delivery_charges</th>\n",
       "      <th>customer_lat</th>\n",
       "      <th>customer_long</th>\n",
       "      <th>coupon_discount</th>\n",
       "      <th>order_total</th>\n",
       "      <th>distance_to_nearest_warehouse</th>\n",
       "    </tr>\n",
       "  </thead>\n",
       "  <tbody>\n",
       "    <tr>\n",
       "      <th>count</th>\n",
       "      <td>500.000000</td>\n",
       "      <td>500.000000</td>\n",
       "      <td>500.000000</td>\n",
       "      <td>500.000000</td>\n",
       "      <td>500.000000</td>\n",
       "      <td>5.000000e+02</td>\n",
       "      <td>500.000000</td>\n",
       "    </tr>\n",
       "    <tr>\n",
       "      <th>mean</th>\n",
       "      <td>25522.216000</td>\n",
       "      <td>76.658200</td>\n",
       "      <td>-35.835234</td>\n",
       "      <td>144.969494</td>\n",
       "      <td>10.890000</td>\n",
       "      <td>3.920967e+04</td>\n",
       "      <td>2.204224</td>\n",
       "    </tr>\n",
       "    <tr>\n",
       "      <th>std</th>\n",
       "      <td>86333.729169</td>\n",
       "      <td>14.481465</td>\n",
       "      <td>12.045393</td>\n",
       "      <td>0.022720</td>\n",
       "      <td>8.649134</td>\n",
       "      <td>2.741940e+05</td>\n",
       "      <td>8.812416</td>\n",
       "    </tr>\n",
       "    <tr>\n",
       "      <th>min</th>\n",
       "      <td>585.000000</td>\n",
       "      <td>46.350000</td>\n",
       "      <td>-37.827123</td>\n",
       "      <td>144.924967</td>\n",
       "      <td>0.000000</td>\n",
       "      <td>6.392900e+02</td>\n",
       "      <td>0.107800</td>\n",
       "    </tr>\n",
       "    <tr>\n",
       "      <th>25%</th>\n",
       "      <td>7050.000000</td>\n",
       "      <td>65.982500</td>\n",
       "      <td>-37.818222</td>\n",
       "      <td>144.953488</td>\n",
       "      <td>5.000000</td>\n",
       "      <td>6.454735e+03</td>\n",
       "      <td>0.751425</td>\n",
       "    </tr>\n",
       "    <tr>\n",
       "      <th>50%</th>\n",
       "      <td>12807.500000</td>\n",
       "      <td>76.310000</td>\n",
       "      <td>-37.812165</td>\n",
       "      <td>144.965357</td>\n",
       "      <td>10.000000</td>\n",
       "      <td>1.129396e+04</td>\n",
       "      <td>1.030100</td>\n",
       "    </tr>\n",
       "    <tr>\n",
       "      <th>75%</th>\n",
       "      <td>20360.000000</td>\n",
       "      <td>82.555000</td>\n",
       "      <td>-37.805364</td>\n",
       "      <td>144.983985</td>\n",
       "      <td>15.000000</td>\n",
       "      <td>1.811919e+04</td>\n",
       "      <td>1.408625</td>\n",
       "    </tr>\n",
       "    <tr>\n",
       "      <th>max</th>\n",
       "      <td>947691.000000</td>\n",
       "      <td>114.040000</td>\n",
       "      <td>37.826339</td>\n",
       "      <td>145.019837</td>\n",
       "      <td>25.000000</td>\n",
       "      <td>5.688270e+06</td>\n",
       "      <td>94.973400</td>\n",
       "    </tr>\n",
       "  </tbody>\n",
       "</table>\n",
       "</div>"
      ],
      "text/plain": [
       "         order_price  delivery_charges  customer_lat  customer_long  \\\n",
       "count     500.000000        500.000000    500.000000     500.000000   \n",
       "mean    25522.216000         76.658200    -35.835234     144.969494   \n",
       "std     86333.729169         14.481465     12.045393       0.022720   \n",
       "min       585.000000         46.350000    -37.827123     144.924967   \n",
       "25%      7050.000000         65.982500    -37.818222     144.953488   \n",
       "50%     12807.500000         76.310000    -37.812165     144.965357   \n",
       "75%     20360.000000         82.555000    -37.805364     144.983985   \n",
       "max    947691.000000        114.040000     37.826339     145.019837   \n",
       "\n",
       "       coupon_discount   order_total  distance_to_nearest_warehouse  \n",
       "count       500.000000  5.000000e+02                     500.000000  \n",
       "mean         10.890000  3.920967e+04                       2.204224  \n",
       "std           8.649134  2.741940e+05                       8.812416  \n",
       "min           0.000000  6.392900e+02                       0.107800  \n",
       "25%           5.000000  6.454735e+03                       0.751425  \n",
       "50%          10.000000  1.129396e+04                       1.030100  \n",
       "75%          15.000000  1.811919e+04                       1.408625  \n",
       "max          25.000000  5.688270e+06                      94.973400  "
      ]
     },
     "metadata": {},
     "output_type": "display_data"
    }
   ],
   "source": [
    "# using display for better formatting in Notebook , use print usually\n",
    "display(df_dirty_data.describe())"
   ]
  },
  {
   "cell_type": "code",
   "execution_count": 357,
   "id": "6a944981-e550-49b6-9203-a451ea533b9b",
   "metadata": {},
   "outputs": [
    {
     "name": "stdout",
     "output_type": "stream",
     "text": [
      "<class 'pandas.core.frame.DataFrame'>\n",
      "RangeIndex: 500 entries, 0 to 499\n",
      "Data columns (total 16 columns):\n",
      " #   Column                         Non-Null Count  Dtype  \n",
      "---  ------                         --------------  -----  \n",
      " 0   order_id                       500 non-null    object \n",
      " 1   customer_id                    500 non-null    object \n",
      " 2   date                           500 non-null    object \n",
      " 3   nearest_warehouse              500 non-null    object \n",
      " 4   shopping_cart                  500 non-null    object \n",
      " 5   order_price                    500 non-null    int64  \n",
      " 6   delivery_charges               500 non-null    float64\n",
      " 7   customer_lat                   500 non-null    float64\n",
      " 8   customer_long                  500 non-null    float64\n",
      " 9   coupon_discount                500 non-null    int64  \n",
      " 10  order_total                    500 non-null    float64\n",
      " 11  season                         500 non-null    object \n",
      " 12  is_expedited_delivery          500 non-null    bool   \n",
      " 13  distance_to_nearest_warehouse  500 non-null    float64\n",
      " 14  latest_customer_review         500 non-null    object \n",
      " 15  is_happy_customer              500 non-null    bool   \n",
      "dtypes: bool(2), float64(5), int64(2), object(7)\n",
      "memory usage: 55.8+ KB\n",
      "None\n"
     ]
    }
   ],
   "source": [
    "print(df_dirty_data.info())"
   ]
  },
  {
   "cell_type": "code",
   "execution_count": 358,
   "id": "7bc22bf2-f085-4b6d-bc84-1cdca978d4c5",
   "metadata": {},
   "outputs": [
    {
     "name": "stdout",
     "output_type": "stream",
     "text": [
      "(500, 16)\n"
     ]
    }
   ],
   "source": [
    "print(df_dirty_data.shape)"
   ]
  },
  {
   "cell_type": "code",
   "execution_count": 359,
   "id": "e43166f6-aa90-45df-87f0-fdf5b3003015",
   "metadata": {},
   "outputs": [
    {
     "name": "stdout",
     "output_type": "stream",
     "text": [
      "order_id                         False\n",
      "customer_id                      False\n",
      "date                             False\n",
      "nearest_warehouse                False\n",
      "shopping_cart                    False\n",
      "order_price                      False\n",
      "delivery_charges                 False\n",
      "customer_lat                     False\n",
      "customer_long                    False\n",
      "coupon_discount                  False\n",
      "order_total                      False\n",
      "season                           False\n",
      "is_expedited_delivery            False\n",
      "distance_to_nearest_warehouse    False\n",
      "latest_customer_review           False\n",
      "is_happy_customer                False\n",
      "dtype: bool\n"
     ]
    }
   ],
   "source": [
    "print(df_dirty_data.isna().any())"
   ]
  },
  {
   "cell_type": "code",
   "execution_count": 360,
   "id": "65e724c4-939d-4ab8-a754-3013a745c859",
   "metadata": {},
   "outputs": [
    {
     "name": "stdout",
     "output_type": "stream",
     "text": [
      "order_id                         0\n",
      "customer_id                      0\n",
      "date                             0\n",
      "nearest_warehouse                0\n",
      "shopping_cart                    0\n",
      "order_price                      0\n",
      "delivery_charges                 0\n",
      "customer_lat                     0\n",
      "customer_long                    0\n",
      "coupon_discount                  0\n",
      "order_total                      0\n",
      "season                           0\n",
      "is_expedited_delivery            0\n",
      "distance_to_nearest_warehouse    0\n",
      "latest_customer_review           0\n",
      "is_happy_customer                0\n",
      "dtype: int64\n"
     ]
    }
   ],
   "source": [
    "print(df_dirty_data.isnull().sum())"
   ]
  },
  {
   "cell_type": "markdown",
   "id": "6d52ed62-38b9-4c5d-bfd4-567f4267f1f0",
   "metadata": {},
   "source": [
    "### df_missing_data dataframe"
   ]
  },
  {
   "cell_type": "code",
   "execution_count": 361,
   "id": "b7550627-ac18-4396-b32e-b842880fbd12",
   "metadata": {},
   "outputs": [
    {
     "data": {
      "text/plain": [
       "pandas.core.frame.DataFrame"
      ]
     },
     "execution_count": 361,
     "metadata": {},
     "output_type": "execute_result"
    }
   ],
   "source": [
    "type(df_missing_data)"
   ]
  },
  {
   "cell_type": "code",
   "execution_count": 362,
   "id": "627579ee-6649-4b88-bf58-0419e4de0e6e",
   "metadata": {},
   "outputs": [
    {
     "name": "stdout",
     "output_type": "stream",
     "text": [
      "Index(['order_id', 'customer_id', 'date', 'nearest_warehouse', 'shopping_cart',\n",
      "       'order_price', 'delivery_charges', 'customer_lat', 'customer_long',\n",
      "       'coupon_discount', 'order_total', 'season', 'is_expedited_delivery',\n",
      "       'distance_to_nearest_warehouse', 'latest_customer_review',\n",
      "       'is_happy_customer'],\n",
      "      dtype='object')\n"
     ]
    }
   ],
   "source": [
    "print(df_missing_data.columns)"
   ]
  },
  {
   "cell_type": "code",
   "execution_count": 363,
   "id": "fccae01e-e519-444c-826d-ec912fe11314",
   "metadata": {
    "tags": []
   },
   "outputs": [
    {
     "data": {
      "text/html": [
       "<div>\n",
       "<style scoped>\n",
       "    .dataframe tbody tr th:only-of-type {\n",
       "        vertical-align: middle;\n",
       "    }\n",
       "\n",
       "    .dataframe tbody tr th {\n",
       "        vertical-align: top;\n",
       "    }\n",
       "\n",
       "    .dataframe thead th {\n",
       "        text-align: right;\n",
       "    }\n",
       "</style>\n",
       "<table border=\"1\" class=\"dataframe\">\n",
       "  <thead>\n",
       "    <tr style=\"text-align: right;\">\n",
       "      <th></th>\n",
       "      <th>order_id</th>\n",
       "      <th>customer_id</th>\n",
       "      <th>date</th>\n",
       "      <th>nearest_warehouse</th>\n",
       "      <th>shopping_cart</th>\n",
       "      <th>order_price</th>\n",
       "      <th>delivery_charges</th>\n",
       "      <th>customer_lat</th>\n",
       "      <th>customer_long</th>\n",
       "      <th>coupon_discount</th>\n",
       "      <th>order_total</th>\n",
       "      <th>season</th>\n",
       "      <th>is_expedited_delivery</th>\n",
       "      <th>distance_to_nearest_warehouse</th>\n",
       "      <th>latest_customer_review</th>\n",
       "      <th>is_happy_customer</th>\n",
       "    </tr>\n",
       "  </thead>\n",
       "  <tbody>\n",
       "    <tr>\n",
       "      <th>0</th>\n",
       "      <td>ORD382112</td>\n",
       "      <td>ID0289597187</td>\n",
       "      <td>2019-03-06</td>\n",
       "      <td>Thompson</td>\n",
       "      <td>[('pearTV', 1), ('Candle Inferno', 2)]</td>\n",
       "      <td>7170.0</td>\n",
       "      <td>61.72</td>\n",
       "      <td>-37.811782</td>\n",
       "      <td>144.951972</td>\n",
       "      <td>15</td>\n",
       "      <td>6156.22</td>\n",
       "      <td>Autumn</td>\n",
       "      <td>True</td>\n",
       "      <td>0.4425</td>\n",
       "      <td>to many adds in ui it has adds, sends info to ...</td>\n",
       "      <td>False</td>\n",
       "    </tr>\n",
       "    <tr>\n",
       "      <th>1</th>\n",
       "      <td>ORD378488</td>\n",
       "      <td>ID1668523020</td>\n",
       "      <td>2019-05-05</td>\n",
       "      <td>Thompson</td>\n",
       "      <td>[('Thunder line', 1), ('Lucent 330S', 2), ('Al...</td>\n",
       "      <td>13590.0</td>\n",
       "      <td>65.20</td>\n",
       "      <td>-37.808236</td>\n",
       "      <td>144.942181</td>\n",
       "      <td>10</td>\n",
       "      <td>12296.20</td>\n",
       "      <td>Autumn</td>\n",
       "      <td>False</td>\n",
       "      <td>0.6547</td>\n",
       "      <td>s10e haven't had this phone but a short time b...</td>\n",
       "      <td>True</td>\n",
       "    </tr>\n",
       "    <tr>\n",
       "      <th>2</th>\n",
       "      <td>ORD279446</td>\n",
       "      <td>ID0370751503</td>\n",
       "      <td>2019-03-24</td>\n",
       "      <td>Bakers</td>\n",
       "      <td>[('Candle Inferno', 2), ('Universe Note', 1)]</td>\n",
       "      <td>4310.0</td>\n",
       "      <td>78.75</td>\n",
       "      <td>-37.812941</td>\n",
       "      <td>144.985883</td>\n",
       "      <td>15</td>\n",
       "      <td>3742.25</td>\n",
       "      <td>NaN</td>\n",
       "      <td>True</td>\n",
       "      <td>0.8852</td>\n",
       "      <td>best bang for your buck! great overall android...</td>\n",
       "      <td>True</td>\n",
       "    </tr>\n",
       "    <tr>\n",
       "      <th>3</th>\n",
       "      <td>ORD277196</td>\n",
       "      <td>ID0634774947</td>\n",
       "      <td>2019-01-12</td>\n",
       "      <td>Thompson</td>\n",
       "      <td>[('pearTV', 1), ('Thunder line', 1), ('Olivia ...</td>\n",
       "      <td>10940.0</td>\n",
       "      <td>92.59</td>\n",
       "      <td>-37.811748</td>\n",
       "      <td>144.938192</td>\n",
       "      <td>25</td>\n",
       "      <td>8297.59</td>\n",
       "      <td>Summer</td>\n",
       "      <td>True</td>\n",
       "      <td>0.7875</td>\n",
       "      <td>good it was a gift for my niece. it to her in ...</td>\n",
       "      <td>True</td>\n",
       "    </tr>\n",
       "    <tr>\n",
       "      <th>4</th>\n",
       "      <td>ORD116193</td>\n",
       "      <td>ID3313210924</td>\n",
       "      <td>2019-09-02</td>\n",
       "      <td>Nickolson</td>\n",
       "      <td>[('pearTV', 2), ('Universe Note', 2), ('Thunde...</td>\n",
       "      <td>21700.0</td>\n",
       "      <td>95.62</td>\n",
       "      <td>-37.818393</td>\n",
       "      <td>144.967034</td>\n",
       "      <td>5</td>\n",
       "      <td>20710.62</td>\n",
       "      <td>Spring</td>\n",
       "      <td>True</td>\n",
       "      <td>0.2225</td>\n",
       "      <td>excellent product excellent product, was recei...</td>\n",
       "      <td>True</td>\n",
       "    </tr>\n",
       "    <tr>\n",
       "      <th>5</th>\n",
       "      <td>ORD005004</td>\n",
       "      <td>ID0472236192</td>\n",
       "      <td>2019-05-07</td>\n",
       "      <td>Nickolson</td>\n",
       "      <td>[('Thunder line', 2), ('Lucent 330S', 2)]</td>\n",
       "      <td>6820.0</td>\n",
       "      <td>84.09</td>\n",
       "      <td>-37.801502</td>\n",
       "      <td>144.966104</td>\n",
       "      <td>0</td>\n",
       "      <td>6904.09</td>\n",
       "      <td>Autumn</td>\n",
       "      <td>True</td>\n",
       "      <td>1.9268</td>\n",
       "      <td>i love it very nice and good product would rec...</td>\n",
       "      <td>True</td>\n",
       "    </tr>\n",
       "    <tr>\n",
       "      <th>6</th>\n",
       "      <td>ORD296379</td>\n",
       "      <td>ID0591306178</td>\n",
       "      <td>2019-01-19</td>\n",
       "      <td>Nickolson</td>\n",
       "      <td>[('Thunder line', 1), ('pearTV', 1)]</td>\n",
       "      <td>8490.0</td>\n",
       "      <td>77.51</td>\n",
       "      <td>-37.823700</td>\n",
       "      <td>144.956314</td>\n",
       "      <td>0</td>\n",
       "      <td>8567.51</td>\n",
       "      <td>Summer</td>\n",
       "      <td>False</td>\n",
       "      <td>1.2953</td>\n",
       "      <td>great phone great phone i am still using that ...</td>\n",
       "      <td>True</td>\n",
       "    </tr>\n",
       "    <tr>\n",
       "      <th>7</th>\n",
       "      <td>ORD447851</td>\n",
       "      <td>ID0591430562</td>\n",
       "      <td>2019-02-07</td>\n",
       "      <td>NaN</td>\n",
       "      <td>[('Alcon 10', 2), ('Toshika 750', 2), ('Univer...</td>\n",
       "      <td>32440.0</td>\n",
       "      <td>67.27</td>\n",
       "      <td>-37.817412</td>\n",
       "      <td>144.967590</td>\n",
       "      <td>5</td>\n",
       "      <td>30885.27</td>\n",
       "      <td>Summer</td>\n",
       "      <td>False</td>\n",
       "      <td>0.2169</td>\n",
       "      <td>five stars it was a gift, my nephew is loving it.</td>\n",
       "      <td>True</td>\n",
       "    </tr>\n",
       "    <tr>\n",
       "      <th>8</th>\n",
       "      <td>ORD078449</td>\n",
       "      <td>ID0030287324</td>\n",
       "      <td>2019-10-20</td>\n",
       "      <td>Nickolson</td>\n",
       "      <td>[('Olivia x460', 2), ('iAssist Line', 2)]</td>\n",
       "      <td>6900.0</td>\n",
       "      <td>105.50</td>\n",
       "      <td>-37.807081</td>\n",
       "      <td>144.967288</td>\n",
       "      <td>15</td>\n",
       "      <td>5970.50</td>\n",
       "      <td>Spring</td>\n",
       "      <td>True</td>\n",
       "      <td>1.2971</td>\n",
       "      <td>definitively would buy again. has been great t...</td>\n",
       "      <td>True</td>\n",
       "    </tr>\n",
       "    <tr>\n",
       "      <th>9</th>\n",
       "      <td>ORD018258</td>\n",
       "      <td>ID0245537598</td>\n",
       "      <td>2019-05-27</td>\n",
       "      <td>Nickolson</td>\n",
       "      <td>[('Universe Note', 1), ('Lucent 330S', 1), ('i...</td>\n",
       "      <td>7205.0</td>\n",
       "      <td>65.39</td>\n",
       "      <td>-37.810164</td>\n",
       "      <td>144.966819</td>\n",
       "      <td>15</td>\n",
       "      <td>6189.64</td>\n",
       "      <td>Autumn</td>\n",
       "      <td>False</td>\n",
       "      <td>0.9688</td>\n",
       "      <td>my best snapchat phone my snapchats are crysta...</td>\n",
       "      <td>True</td>\n",
       "    </tr>\n",
       "  </tbody>\n",
       "</table>\n",
       "</div>"
      ],
      "text/plain": [
       "    order_id   customer_id        date nearest_warehouse  \\\n",
       "0  ORD382112  ID0289597187  2019-03-06          Thompson   \n",
       "1  ORD378488  ID1668523020  2019-05-05          Thompson   \n",
       "2  ORD279446  ID0370751503  2019-03-24            Bakers   \n",
       "3  ORD277196  ID0634774947  2019-01-12          Thompson   \n",
       "4  ORD116193  ID3313210924  2019-09-02         Nickolson   \n",
       "5  ORD005004  ID0472236192  2019-05-07         Nickolson   \n",
       "6  ORD296379  ID0591306178  2019-01-19         Nickolson   \n",
       "7  ORD447851  ID0591430562  2019-02-07               NaN   \n",
       "8  ORD078449  ID0030287324  2019-10-20         Nickolson   \n",
       "9  ORD018258  ID0245537598  2019-05-27         Nickolson   \n",
       "\n",
       "                                       shopping_cart  order_price  \\\n",
       "0             [('pearTV', 1), ('Candle Inferno', 2)]       7170.0   \n",
       "1  [('Thunder line', 1), ('Lucent 330S', 2), ('Al...      13590.0   \n",
       "2      [('Candle Inferno', 2), ('Universe Note', 1)]       4310.0   \n",
       "3  [('pearTV', 1), ('Thunder line', 1), ('Olivia ...      10940.0   \n",
       "4  [('pearTV', 2), ('Universe Note', 2), ('Thunde...      21700.0   \n",
       "5          [('Thunder line', 2), ('Lucent 330S', 2)]       6820.0   \n",
       "6               [('Thunder line', 1), ('pearTV', 1)]       8490.0   \n",
       "7  [('Alcon 10', 2), ('Toshika 750', 2), ('Univer...      32440.0   \n",
       "8          [('Olivia x460', 2), ('iAssist Line', 2)]       6900.0   \n",
       "9  [('Universe Note', 1), ('Lucent 330S', 1), ('i...       7205.0   \n",
       "\n",
       "   delivery_charges  customer_lat  customer_long  coupon_discount  \\\n",
       "0             61.72    -37.811782     144.951972               15   \n",
       "1             65.20    -37.808236     144.942181               10   \n",
       "2             78.75    -37.812941     144.985883               15   \n",
       "3             92.59    -37.811748     144.938192               25   \n",
       "4             95.62    -37.818393     144.967034                5   \n",
       "5             84.09    -37.801502     144.966104                0   \n",
       "6             77.51    -37.823700     144.956314                0   \n",
       "7             67.27    -37.817412     144.967590                5   \n",
       "8            105.50    -37.807081     144.967288               15   \n",
       "9             65.39    -37.810164     144.966819               15   \n",
       "\n",
       "   order_total  season  is_expedited_delivery  distance_to_nearest_warehouse  \\\n",
       "0      6156.22  Autumn                   True                         0.4425   \n",
       "1     12296.20  Autumn                  False                         0.6547   \n",
       "2      3742.25     NaN                   True                         0.8852   \n",
       "3      8297.59  Summer                   True                         0.7875   \n",
       "4     20710.62  Spring                   True                         0.2225   \n",
       "5      6904.09  Autumn                   True                         1.9268   \n",
       "6      8567.51  Summer                  False                         1.2953   \n",
       "7     30885.27  Summer                  False                         0.2169   \n",
       "8      5970.50  Spring                   True                         1.2971   \n",
       "9      6189.64  Autumn                  False                         0.9688   \n",
       "\n",
       "                              latest_customer_review is_happy_customer  \n",
       "0  to many adds in ui it has adds, sends info to ...             False  \n",
       "1  s10e haven't had this phone but a short time b...              True  \n",
       "2  best bang for your buck! great overall android...              True  \n",
       "3  good it was a gift for my niece. it to her in ...              True  \n",
       "4  excellent product excellent product, was recei...              True  \n",
       "5  i love it very nice and good product would rec...              True  \n",
       "6  great phone great phone i am still using that ...              True  \n",
       "7  five stars it was a gift, my nephew is loving it.              True  \n",
       "8  definitively would buy again. has been great t...              True  \n",
       "9  my best snapchat phone my snapchats are crysta...              True  "
      ]
     },
     "execution_count": 363,
     "metadata": {},
     "output_type": "execute_result"
    }
   ],
   "source": [
    "df_missing_data.head(10)"
   ]
  },
  {
   "cell_type": "code",
   "execution_count": 364,
   "id": "2ac9b672-f316-445e-8264-4c44199f7901",
   "metadata": {},
   "outputs": [
    {
     "data": {
      "text/html": [
       "<div>\n",
       "<style scoped>\n",
       "    .dataframe tbody tr th:only-of-type {\n",
       "        vertical-align: middle;\n",
       "    }\n",
       "\n",
       "    .dataframe tbody tr th {\n",
       "        vertical-align: top;\n",
       "    }\n",
       "\n",
       "    .dataframe thead th {\n",
       "        text-align: right;\n",
       "    }\n",
       "</style>\n",
       "<table border=\"1\" class=\"dataframe\">\n",
       "  <thead>\n",
       "    <tr style=\"text-align: right;\">\n",
       "      <th></th>\n",
       "      <th>order_price</th>\n",
       "      <th>delivery_charges</th>\n",
       "      <th>customer_lat</th>\n",
       "      <th>customer_long</th>\n",
       "      <th>coupon_discount</th>\n",
       "      <th>order_total</th>\n",
       "      <th>distance_to_nearest_warehouse</th>\n",
       "    </tr>\n",
       "  </thead>\n",
       "  <tbody>\n",
       "    <tr>\n",
       "      <th>count</th>\n",
       "      <td>490.000000</td>\n",
       "      <td>500.000000</td>\n",
       "      <td>490.000000</td>\n",
       "      <td>490.000000</td>\n",
       "      <td>500.000000</td>\n",
       "      <td>490.000000</td>\n",
       "      <td>490.000000</td>\n",
       "    </tr>\n",
       "    <tr>\n",
       "      <th>mean</th>\n",
       "      <td>13217.867347</td>\n",
       "      <td>77.683380</td>\n",
       "      <td>-37.812597</td>\n",
       "      <td>144.966114</td>\n",
       "      <td>11.190000</td>\n",
       "      <td>11939.841020</td>\n",
       "      <td>1.077335</td>\n",
       "    </tr>\n",
       "    <tr>\n",
       "      <th>std</th>\n",
       "      <td>7552.951453</td>\n",
       "      <td>14.566667</td>\n",
       "      <td>0.007593</td>\n",
       "      <td>0.021054</td>\n",
       "      <td>8.734213</td>\n",
       "      <td>7032.605471</td>\n",
       "      <td>0.509914</td>\n",
       "    </tr>\n",
       "    <tr>\n",
       "      <th>min</th>\n",
       "      <td>580.000000</td>\n",
       "      <td>46.200000</td>\n",
       "      <td>-37.828216</td>\n",
       "      <td>144.921217</td>\n",
       "      <td>0.000000</td>\n",
       "      <td>568.640000</td>\n",
       "      <td>0.054900</td>\n",
       "    </tr>\n",
       "    <tr>\n",
       "      <th>25%</th>\n",
       "      <td>7140.000000</td>\n",
       "      <td>66.975000</td>\n",
       "      <td>-37.818755</td>\n",
       "      <td>144.951541</td>\n",
       "      <td>5.000000</td>\n",
       "      <td>6486.542500</td>\n",
       "      <td>0.723625</td>\n",
       "    </tr>\n",
       "    <tr>\n",
       "      <th>50%</th>\n",
       "      <td>12180.000000</td>\n",
       "      <td>77.275000</td>\n",
       "      <td>-37.813053</td>\n",
       "      <td>144.963409</td>\n",
       "      <td>10.000000</td>\n",
       "      <td>10756.615000</td>\n",
       "      <td>1.043350</td>\n",
       "    </tr>\n",
       "    <tr>\n",
       "      <th>75%</th>\n",
       "      <td>18327.500000</td>\n",
       "      <td>85.217500</td>\n",
       "      <td>-37.806714</td>\n",
       "      <td>144.980157</td>\n",
       "      <td>15.000000</td>\n",
       "      <td>16315.555000</td>\n",
       "      <td>1.389525</td>\n",
       "    </tr>\n",
       "    <tr>\n",
       "      <th>max</th>\n",
       "      <td>37300.000000</td>\n",
       "      <td>110.990000</td>\n",
       "      <td>-37.788265</td>\n",
       "      <td>145.017015</td>\n",
       "      <td>25.000000</td>\n",
       "      <td>37362.470000</td>\n",
       "      <td>3.138800</td>\n",
       "    </tr>\n",
       "  </tbody>\n",
       "</table>\n",
       "</div>"
      ],
      "text/plain": [
       "        order_price  delivery_charges  customer_lat  customer_long  \\\n",
       "count    490.000000        500.000000    490.000000     490.000000   \n",
       "mean   13217.867347         77.683380    -37.812597     144.966114   \n",
       "std     7552.951453         14.566667      0.007593       0.021054   \n",
       "min      580.000000         46.200000    -37.828216     144.921217   \n",
       "25%     7140.000000         66.975000    -37.818755     144.951541   \n",
       "50%    12180.000000         77.275000    -37.813053     144.963409   \n",
       "75%    18327.500000         85.217500    -37.806714     144.980157   \n",
       "max    37300.000000        110.990000    -37.788265     145.017015   \n",
       "\n",
       "       coupon_discount   order_total  distance_to_nearest_warehouse  \n",
       "count       500.000000    490.000000                     490.000000  \n",
       "mean         11.190000  11939.841020                       1.077335  \n",
       "std           8.734213   7032.605471                       0.509914  \n",
       "min           0.000000    568.640000                       0.054900  \n",
       "25%           5.000000   6486.542500                       0.723625  \n",
       "50%          10.000000  10756.615000                       1.043350  \n",
       "75%          15.000000  16315.555000                       1.389525  \n",
       "max          25.000000  37362.470000                       3.138800  "
      ]
     },
     "metadata": {},
     "output_type": "display_data"
    }
   ],
   "source": [
    "# using display for better formatting in Notebook , use print usually\n",
    "display(df_missing_data.describe())"
   ]
  },
  {
   "cell_type": "code",
   "execution_count": 365,
   "id": "53ab0018-fb3b-4122-b1be-82fa074d361c",
   "metadata": {},
   "outputs": [
    {
     "name": "stdout",
     "output_type": "stream",
     "text": [
      "<class 'pandas.core.frame.DataFrame'>\n",
      "RangeIndex: 500 entries, 0 to 499\n",
      "Data columns (total 16 columns):\n",
      " #   Column                         Non-Null Count  Dtype  \n",
      "---  ------                         --------------  -----  \n",
      " 0   order_id                       500 non-null    object \n",
      " 1   customer_id                    500 non-null    object \n",
      " 2   date                           500 non-null    object \n",
      " 3   nearest_warehouse              490 non-null    object \n",
      " 4   shopping_cart                  500 non-null    object \n",
      " 5   order_price                    490 non-null    float64\n",
      " 6   delivery_charges               500 non-null    float64\n",
      " 7   customer_lat                   490 non-null    float64\n",
      " 8   customer_long                  490 non-null    float64\n",
      " 9   coupon_discount                500 non-null    int64  \n",
      " 10  order_total                    490 non-null    float64\n",
      " 11  season                         490 non-null    object \n",
      " 12  is_expedited_delivery          500 non-null    bool   \n",
      " 13  distance_to_nearest_warehouse  490 non-null    float64\n",
      " 14  latest_customer_review         500 non-null    object \n",
      " 15  is_happy_customer              490 non-null    object \n",
      "dtypes: bool(1), float64(6), int64(1), object(8)\n",
      "memory usage: 59.2+ KB\n",
      "None\n"
     ]
    }
   ],
   "source": [
    "print(df_missing_data.info())"
   ]
  },
  {
   "cell_type": "code",
   "execution_count": 366,
   "id": "fb757aae-f190-428d-80a8-8d7f7ef912f2",
   "metadata": {},
   "outputs": [
    {
     "name": "stdout",
     "output_type": "stream",
     "text": [
      "(500, 16)\n"
     ]
    }
   ],
   "source": [
    "print(df_missing_data.shape)"
   ]
  },
  {
   "cell_type": "code",
   "execution_count": 367,
   "id": "60d385cb-8222-492a-a051-dc93aaa40e42",
   "metadata": {},
   "outputs": [
    {
     "name": "stdout",
     "output_type": "stream",
     "text": [
      "order_id                         False\n",
      "customer_id                      False\n",
      "date                             False\n",
      "nearest_warehouse                 True\n",
      "shopping_cart                    False\n",
      "order_price                       True\n",
      "delivery_charges                 False\n",
      "customer_lat                      True\n",
      "customer_long                     True\n",
      "coupon_discount                  False\n",
      "order_total                       True\n",
      "season                            True\n",
      "is_expedited_delivery            False\n",
      "distance_to_nearest_warehouse     True\n",
      "latest_customer_review           False\n",
      "is_happy_customer                 True\n",
      "dtype: bool\n"
     ]
    }
   ],
   "source": [
    "print(df_missing_data.isna().any())"
   ]
  },
  {
   "cell_type": "code",
   "execution_count": 368,
   "id": "6b889eec-f06f-4fe2-9ee6-a2d1ca19158a",
   "metadata": {},
   "outputs": [
    {
     "name": "stdout",
     "output_type": "stream",
     "text": [
      "order_id                          0\n",
      "customer_id                       0\n",
      "date                              0\n",
      "nearest_warehouse                10\n",
      "shopping_cart                     0\n",
      "order_price                      10\n",
      "delivery_charges                  0\n",
      "customer_lat                     10\n",
      "customer_long                    10\n",
      "coupon_discount                   0\n",
      "order_total                      10\n",
      "season                           10\n",
      "is_expedited_delivery             0\n",
      "distance_to_nearest_warehouse    10\n",
      "latest_customer_review            0\n",
      "is_happy_customer                10\n",
      "dtype: int64\n"
     ]
    }
   ],
   "source": [
    "print(df_missing_data.isnull().sum())"
   ]
  },
  {
   "cell_type": "markdown",
   "id": "2991f09a-c51c-4b0b-bb18-22deb27bc6b9",
   "metadata": {
    "tags": []
   },
   "source": [
    "### df_warehouses dataframe"
   ]
  },
  {
   "cell_type": "code",
   "execution_count": 369,
   "id": "081ae7ad-8b7f-4215-ae80-80958a0bf4b7",
   "metadata": {},
   "outputs": [
    {
     "data": {
      "text/plain": [
       "pandas.core.frame.DataFrame"
      ]
     },
     "execution_count": 369,
     "metadata": {},
     "output_type": "execute_result"
    }
   ],
   "source": [
    "type(df_warehouses)"
   ]
  },
  {
   "cell_type": "code",
   "execution_count": 370,
   "id": "8cda7604-8aa6-406c-8fde-63c768656c33",
   "metadata": {},
   "outputs": [
    {
     "name": "stdout",
     "output_type": "stream",
     "text": [
      "Index(['names', 'lat', 'lon'], dtype='object')\n"
     ]
    }
   ],
   "source": [
    "print(df_warehouses.columns)"
   ]
  },
  {
   "cell_type": "code",
   "execution_count": 371,
   "id": "8177f7a7-e30c-4293-a2bf-3907d6b40ab4",
   "metadata": {},
   "outputs": [
    {
     "data": {
      "text/plain": [
       "pandas.core.frame.DataFrame"
      ]
     },
     "execution_count": 371,
     "metadata": {},
     "output_type": "execute_result"
    }
   ],
   "source": [
    "type(df_warehouses)"
   ]
  },
  {
   "cell_type": "code",
   "execution_count": 372,
   "id": "6e38d688-feab-48fb-a875-da67a9a65db9",
   "metadata": {},
   "outputs": [
    {
     "data": {
      "text/html": [
       "<div>\n",
       "<style scoped>\n",
       "    .dataframe tbody tr th:only-of-type {\n",
       "        vertical-align: middle;\n",
       "    }\n",
       "\n",
       "    .dataframe tbody tr th {\n",
       "        vertical-align: top;\n",
       "    }\n",
       "\n",
       "    .dataframe thead th {\n",
       "        text-align: right;\n",
       "    }\n",
       "</style>\n",
       "<table border=\"1\" class=\"dataframe\">\n",
       "  <thead>\n",
       "    <tr style=\"text-align: right;\">\n",
       "      <th></th>\n",
       "      <th>names</th>\n",
       "      <th>lat</th>\n",
       "      <th>lon</th>\n",
       "    </tr>\n",
       "  </thead>\n",
       "  <tbody>\n",
       "    <tr>\n",
       "      <th>0</th>\n",
       "      <td>Nickolson</td>\n",
       "      <td>-37.818595</td>\n",
       "      <td>144.969551</td>\n",
       "    </tr>\n",
       "    <tr>\n",
       "      <th>1</th>\n",
       "      <td>Thompson</td>\n",
       "      <td>-37.812673</td>\n",
       "      <td>144.947069</td>\n",
       "    </tr>\n",
       "    <tr>\n",
       "      <th>2</th>\n",
       "      <td>Bakers</td>\n",
       "      <td>-37.809996</td>\n",
       "      <td>144.995232</td>\n",
       "    </tr>\n",
       "  </tbody>\n",
       "</table>\n",
       "</div>"
      ],
      "text/plain": [
       "       names        lat         lon\n",
       "0  Nickolson -37.818595  144.969551\n",
       "1   Thompson -37.812673  144.947069\n",
       "2     Bakers -37.809996  144.995232"
      ]
     },
     "execution_count": 372,
     "metadata": {},
     "output_type": "execute_result"
    }
   ],
   "source": [
    "df_warehouses.head()"
   ]
  },
  {
   "cell_type": "code",
   "execution_count": 373,
   "id": "5fef5255-c30a-4ee0-b949-a435764888d1",
   "metadata": {},
   "outputs": [
    {
     "data": {
      "text/html": [
       "<div>\n",
       "<style scoped>\n",
       "    .dataframe tbody tr th:only-of-type {\n",
       "        vertical-align: middle;\n",
       "    }\n",
       "\n",
       "    .dataframe tbody tr th {\n",
       "        vertical-align: top;\n",
       "    }\n",
       "\n",
       "    .dataframe thead th {\n",
       "        text-align: right;\n",
       "    }\n",
       "</style>\n",
       "<table border=\"1\" class=\"dataframe\">\n",
       "  <thead>\n",
       "    <tr style=\"text-align: right;\">\n",
       "      <th></th>\n",
       "      <th>lat</th>\n",
       "      <th>lon</th>\n",
       "    </tr>\n",
       "  </thead>\n",
       "  <tbody>\n",
       "    <tr>\n",
       "      <th>count</th>\n",
       "      <td>3.000000</td>\n",
       "      <td>3.000000</td>\n",
       "    </tr>\n",
       "    <tr>\n",
       "      <th>mean</th>\n",
       "      <td>-37.813755</td>\n",
       "      <td>144.970617</td>\n",
       "    </tr>\n",
       "    <tr>\n",
       "      <th>std</th>\n",
       "      <td>0.004400</td>\n",
       "      <td>0.024099</td>\n",
       "    </tr>\n",
       "    <tr>\n",
       "      <th>min</th>\n",
       "      <td>-37.818595</td>\n",
       "      <td>144.947069</td>\n",
       "    </tr>\n",
       "    <tr>\n",
       "      <th>25%</th>\n",
       "      <td>-37.815634</td>\n",
       "      <td>144.958310</td>\n",
       "    </tr>\n",
       "    <tr>\n",
       "      <th>50%</th>\n",
       "      <td>-37.812673</td>\n",
       "      <td>144.969551</td>\n",
       "    </tr>\n",
       "    <tr>\n",
       "      <th>75%</th>\n",
       "      <td>-37.811335</td>\n",
       "      <td>144.982392</td>\n",
       "    </tr>\n",
       "    <tr>\n",
       "      <th>max</th>\n",
       "      <td>-37.809996</td>\n",
       "      <td>144.995232</td>\n",
       "    </tr>\n",
       "  </tbody>\n",
       "</table>\n",
       "</div>"
      ],
      "text/plain": [
       "             lat         lon\n",
       "count   3.000000    3.000000\n",
       "mean  -37.813755  144.970617\n",
       "std     0.004400    0.024099\n",
       "min   -37.818595  144.947069\n",
       "25%   -37.815634  144.958310\n",
       "50%   -37.812673  144.969551\n",
       "75%   -37.811335  144.982392\n",
       "max   -37.809996  144.995232"
      ]
     },
     "metadata": {},
     "output_type": "display_data"
    }
   ],
   "source": [
    "# using display for better formatting in Notebook , use print usually\n",
    "display(df_warehouses.describe())"
   ]
  },
  {
   "cell_type": "code",
   "execution_count": 374,
   "id": "049279d6-671b-4c9b-b6e4-26b11891567a",
   "metadata": {},
   "outputs": [
    {
     "name": "stdout",
     "output_type": "stream",
     "text": [
      "<class 'pandas.core.frame.DataFrame'>\n",
      "RangeIndex: 3 entries, 0 to 2\n",
      "Data columns (total 3 columns):\n",
      " #   Column  Non-Null Count  Dtype  \n",
      "---  ------  --------------  -----  \n",
      " 0   names   3 non-null      object \n",
      " 1   lat     3 non-null      float64\n",
      " 2   lon     3 non-null      float64\n",
      "dtypes: float64(2), object(1)\n",
      "memory usage: 200.0+ bytes\n",
      "None\n"
     ]
    }
   ],
   "source": [
    "print(df_warehouses.info())"
   ]
  },
  {
   "cell_type": "code",
   "execution_count": 375,
   "id": "acf81536-9f60-4800-96fb-b3533a8ec833",
   "metadata": {},
   "outputs": [
    {
     "name": "stdout",
     "output_type": "stream",
     "text": [
      "(3, 3)\n"
     ]
    }
   ],
   "source": [
    "print(df_warehouses.shape)"
   ]
  },
  {
   "cell_type": "code",
   "execution_count": 376,
   "id": "e2c05942-e334-4370-987b-854ab9e2883f",
   "metadata": {},
   "outputs": [
    {
     "name": "stdout",
     "output_type": "stream",
     "text": [
      "names    False\n",
      "lat      False\n",
      "lon      False\n",
      "dtype: bool\n"
     ]
    }
   ],
   "source": [
    "print(df_warehouses.isna().any())"
   ]
  },
  {
   "cell_type": "code",
   "execution_count": 377,
   "id": "3e09a714-c0db-4e49-8587-0271437ab46e",
   "metadata": {},
   "outputs": [
    {
     "name": "stdout",
     "output_type": "stream",
     "text": [
      "names    0\n",
      "lat      0\n",
      "lon      0\n",
      "dtype: int64\n"
     ]
    }
   ],
   "source": [
    "print(df_warehouses.isnull().sum())"
   ]
  },
  {
   "cell_type": "markdown",
   "id": "f08eaede-2702-4cc7-91fa-2872be90f16d",
   "metadata": {},
   "source": [
    "## Re-import from CSV \n",
    "***"
   ]
  },
  {
   "cell_type": "code",
   "execution_count": 378,
   "id": "24b10824-6ca1-4477-99e0-9096847866ce",
   "metadata": {},
   "outputs": [],
   "source": [
    "# read the CSV from the local Jupyter Notebook directory \n",
    "# parsing dates on import since dates were objects\n",
    "df_dirty_data = pd.read_csv(dirty_data, parse_dates=['date'], dtype={'order_price': 'float'}) \n",
    "df_missing_data = pd.read_csv(missing_data, parse_dates=['date']) \n",
    "#  cant use dtype={'is_happy_customer': 'bool'} because is_happy_customer contains NaN "
   ]
  },
  {
   "cell_type": "code",
   "execution_count": 379,
   "id": "9fa0e64d-20b0-4e0d-988d-d97d3de1bca7",
   "metadata": {},
   "outputs": [
    {
     "name": "stdout",
     "output_type": "stream",
     "text": [
      "<class 'pandas.core.frame.DataFrame'>\n",
      "RangeIndex: 500 entries, 0 to 499\n",
      "Data columns (total 16 columns):\n",
      " #   Column                         Non-Null Count  Dtype         \n",
      "---  ------                         --------------  -----         \n",
      " 0   order_id                       500 non-null    object        \n",
      " 1   customer_id                    500 non-null    object        \n",
      " 2   date                           500 non-null    datetime64[ns]\n",
      " 3   nearest_warehouse              500 non-null    object        \n",
      " 4   shopping_cart                  500 non-null    object        \n",
      " 5   order_price                    500 non-null    float64       \n",
      " 6   delivery_charges               500 non-null    float64       \n",
      " 7   customer_lat                   500 non-null    float64       \n",
      " 8   customer_long                  500 non-null    float64       \n",
      " 9   coupon_discount                500 non-null    int64         \n",
      " 10  order_total                    500 non-null    float64       \n",
      " 11  season                         500 non-null    object        \n",
      " 12  is_expedited_delivery          500 non-null    bool          \n",
      " 13  distance_to_nearest_warehouse  500 non-null    float64       \n",
      " 14  latest_customer_review         500 non-null    object        \n",
      " 15  is_happy_customer              500 non-null    bool          \n",
      "dtypes: bool(2), datetime64[ns](1), float64(6), int64(1), object(6)\n",
      "memory usage: 55.8+ KB\n",
      "None\n"
     ]
    }
   ],
   "source": [
    "print(df_dirty_data.info())"
   ]
  },
  {
   "cell_type": "code",
   "execution_count": 380,
   "id": "05179a25-d14f-4030-90d4-302bdcdcf323",
   "metadata": {},
   "outputs": [
    {
     "name": "stdout",
     "output_type": "stream",
     "text": [
      "<class 'pandas.core.frame.DataFrame'>\n",
      "RangeIndex: 500 entries, 0 to 499\n",
      "Data columns (total 16 columns):\n",
      " #   Column                         Non-Null Count  Dtype         \n",
      "---  ------                         --------------  -----         \n",
      " 0   order_id                       500 non-null    object        \n",
      " 1   customer_id                    500 non-null    object        \n",
      " 2   date                           500 non-null    datetime64[ns]\n",
      " 3   nearest_warehouse              490 non-null    object        \n",
      " 4   shopping_cart                  500 non-null    object        \n",
      " 5   order_price                    490 non-null    float64       \n",
      " 6   delivery_charges               500 non-null    float64       \n",
      " 7   customer_lat                   490 non-null    float64       \n",
      " 8   customer_long                  490 non-null    float64       \n",
      " 9   coupon_discount                500 non-null    int64         \n",
      " 10  order_total                    490 non-null    float64       \n",
      " 11  season                         490 non-null    object        \n",
      " 12  is_expedited_delivery          500 non-null    bool          \n",
      " 13  distance_to_nearest_warehouse  490 non-null    float64       \n",
      " 14  latest_customer_review         500 non-null    object        \n",
      " 15  is_happy_customer              490 non-null    object        \n",
      "dtypes: bool(1), datetime64[ns](1), float64(6), int64(1), object(7)\n",
      "memory usage: 59.2+ KB\n",
      "None\n"
     ]
    }
   ],
   "source": [
    "print(df_missing_data.info())"
   ]
  },
  {
   "cell_type": "markdown",
   "id": "68e00d95-1fe5-467d-a6fd-f6bac3e289ec",
   "metadata": {},
   "source": [
    "## Detect and fix errors in dirty_data\n",
    "***"
   ]
  },
  {
   "cell_type": "markdown",
   "id": "6aaed04d-fea8-45ce-a5f4-329b25a12af2",
   "metadata": {},
   "source": [
    "## Fix missing values in missing_data\n",
    "***"
   ]
  },
  {
   "cell_type": "markdown",
   "id": "c564fe1e-7f75-46ce-bfc7-e2c84ff26133",
   "metadata": {},
   "source": [
    "### missing 'nearest_warehouse'"
   ]
  },
  {
   "cell_type": "code",
   "execution_count": 381,
   "id": "6ef80c5a-329b-4363-a9d2-541752044ebd",
   "metadata": {},
   "outputs": [],
   "source": [
    "# checking the missing values for nearest_warehouse\n",
    "nearest_warehouse_indexto_update = df_missing_data[df_missing_data['nearest_warehouse'].isnull()].index\n",
    "\n",
    "for i in nearest_warehouse_indexto_update:\n",
    "    df_missing_data.at[i,'nearest_warehouse'] = get_missing_nearest_warehouse(df_missing_data.at[i,'customer_lat'],df_missing_data.at[i,'customer_long'])[0]"
   ]
  },
  {
   "cell_type": "code",
   "execution_count": 382,
   "id": "73666fb1-ba1c-4887-8a4c-8a4f26fe2a5e",
   "metadata": {},
   "outputs": [
    {
     "data": {
      "text/plain": [
       "Int64Index([], dtype='int64')"
      ]
     },
     "execution_count": 382,
     "metadata": {},
     "output_type": "execute_result"
    }
   ],
   "source": [
    "# no more missing values for nearest_warehouse\n",
    "df_missing_data[df_missing_data['nearest_warehouse'].isnull()].index"
   ]
  },
  {
   "cell_type": "code",
   "execution_count": 383,
   "id": "c0d2de29-962b-4750-b508-06b24566cbad",
   "metadata": {},
   "outputs": [
    {
     "name": "stdout",
     "output_type": "stream",
     "text": [
      "Nickolson\n",
      "Bakers\n",
      "Bakers\n",
      "Nickolson\n",
      "Thompson\n",
      "Nickolson\n",
      "Bakers\n",
      "Thompson\n",
      "Nickolson\n",
      "Bakers\n"
     ]
    }
   ],
   "source": [
    "# check the indexes 'nearest_warehouse' --  all done\n",
    "for i in nearest_warehouse_indexto_update:\n",
    "    print(df_missing_data.at[i,'nearest_warehouse'])"
   ]
  },
  {
   "cell_type": "code",
   "execution_count": 384,
   "id": "96e1198e-84ac-4211-bed4-2d1154682308",
   "metadata": {},
   "outputs": [
    {
     "data": {
      "text/html": [
       "<div>\n",
       "<style scoped>\n",
       "    .dataframe tbody tr th:only-of-type {\n",
       "        vertical-align: middle;\n",
       "    }\n",
       "\n",
       "    .dataframe tbody tr th {\n",
       "        vertical-align: top;\n",
       "    }\n",
       "\n",
       "    .dataframe thead th {\n",
       "        text-align: right;\n",
       "    }\n",
       "</style>\n",
       "<table border=\"1\" class=\"dataframe\">\n",
       "  <thead>\n",
       "    <tr style=\"text-align: right;\">\n",
       "      <th></th>\n",
       "      <th>nearest_warehouse</th>\n",
       "    </tr>\n",
       "  </thead>\n",
       "  <tbody>\n",
       "    <tr>\n",
       "      <th>0</th>\n",
       "      <td>Thompson</td>\n",
       "    </tr>\n",
       "    <tr>\n",
       "      <th>1</th>\n",
       "      <td>Thompson</td>\n",
       "    </tr>\n",
       "    <tr>\n",
       "      <th>2</th>\n",
       "      <td>Bakers</td>\n",
       "    </tr>\n",
       "    <tr>\n",
       "      <th>3</th>\n",
       "      <td>Thompson</td>\n",
       "    </tr>\n",
       "    <tr>\n",
       "      <th>4</th>\n",
       "      <td>Nickolson</td>\n",
       "    </tr>\n",
       "    <tr>\n",
       "      <th>...</th>\n",
       "      <td>...</td>\n",
       "    </tr>\n",
       "    <tr>\n",
       "      <th>495</th>\n",
       "      <td>Thompson</td>\n",
       "    </tr>\n",
       "    <tr>\n",
       "      <th>496</th>\n",
       "      <td>Nickolson</td>\n",
       "    </tr>\n",
       "    <tr>\n",
       "      <th>497</th>\n",
       "      <td>Nickolson</td>\n",
       "    </tr>\n",
       "    <tr>\n",
       "      <th>498</th>\n",
       "      <td>Nickolson</td>\n",
       "    </tr>\n",
       "    <tr>\n",
       "      <th>499</th>\n",
       "      <td>Thompson</td>\n",
       "    </tr>\n",
       "  </tbody>\n",
       "</table>\n",
       "<p>500 rows × 1 columns</p>\n",
       "</div>"
      ],
      "text/plain": [
       "    nearest_warehouse\n",
       "0            Thompson\n",
       "1            Thompson\n",
       "2              Bakers\n",
       "3            Thompson\n",
       "4           Nickolson\n",
       "..                ...\n",
       "495          Thompson\n",
       "496         Nickolson\n",
       "497         Nickolson\n",
       "498         Nickolson\n",
       "499          Thompson\n",
       "\n",
       "[500 rows x 1 columns]"
      ]
     },
     "execution_count": 384,
     "metadata": {},
     "output_type": "execute_result"
    }
   ],
   "source": [
    "df_missing_data.filter(items=[\"nearest_warehouse\"])"
   ]
  },
  {
   "cell_type": "markdown",
   "id": "8771f275-2b8e-4aff-90c5-307463969a02",
   "metadata": {},
   "source": [
    "### missing 'order_price'"
   ]
  },
  {
   "cell_type": "code",
   "execution_count": null,
   "id": "8cfcc664-28ff-4cef-afc8-bada364e6f83",
   "metadata": {},
   "outputs": [],
   "source": [
    "# getting the index for the missing values for order_price\n",
    "order_price_indexto_update = df_missing_data[df_missing_data['order_price'].isnull()].index"
   ]
  },
  {
   "cell_type": "code",
   "execution_count": 385,
   "id": "a66a1727-22d5-4af5-bb19-537e7fc3a1bb",
   "metadata": {},
   "outputs": [],
   "source": [
    "# updating the missing values for order_price\n",
    "for i in order_price_indexto_update:\n",
    "    df_missing_data.at[i,'order_price'] = get_missing_order_price(df_missing_data.at[i,'order_total'],df_missing_data.at[i,'delivery_charges'],df_missing_data.at[i,'coupon_discount'])"
   ]
  },
  {
   "cell_type": "code",
   "execution_count": 386,
   "id": "a1ba47c5-6d21-4d7d-a8fd-85fce7e8d873",
   "metadata": {},
   "outputs": [
    {
     "data": {
      "text/html": [
       "<div>\n",
       "<style scoped>\n",
       "    .dataframe tbody tr th:only-of-type {\n",
       "        vertical-align: middle;\n",
       "    }\n",
       "\n",
       "    .dataframe tbody tr th {\n",
       "        vertical-align: top;\n",
       "    }\n",
       "\n",
       "    .dataframe thead th {\n",
       "        text-align: right;\n",
       "    }\n",
       "</style>\n",
       "<table border=\"1\" class=\"dataframe\">\n",
       "  <thead>\n",
       "    <tr style=\"text-align: right;\">\n",
       "      <th></th>\n",
       "      <th>order_id</th>\n",
       "      <th>customer_id</th>\n",
       "      <th>date</th>\n",
       "      <th>nearest_warehouse</th>\n",
       "      <th>shopping_cart</th>\n",
       "      <th>order_price</th>\n",
       "      <th>delivery_charges</th>\n",
       "      <th>customer_lat</th>\n",
       "      <th>customer_long</th>\n",
       "      <th>coupon_discount</th>\n",
       "      <th>order_total</th>\n",
       "      <th>season</th>\n",
       "      <th>is_expedited_delivery</th>\n",
       "      <th>distance_to_nearest_warehouse</th>\n",
       "      <th>latest_customer_review</th>\n",
       "      <th>is_happy_customer</th>\n",
       "    </tr>\n",
       "  </thead>\n",
       "  <tbody>\n",
       "  </tbody>\n",
       "</table>\n",
       "</div>"
      ],
      "text/plain": [
       "Empty DataFrame\n",
       "Columns: [order_id, customer_id, date, nearest_warehouse, shopping_cart, order_price, delivery_charges, customer_lat, customer_long, coupon_discount, order_total, season, is_expedited_delivery, distance_to_nearest_warehouse, latest_customer_review, is_happy_customer]\n",
       "Index: []"
      ]
     },
     "execution_count": 386,
     "metadata": {},
     "output_type": "execute_result"
    }
   ],
   "source": [
    "# no more missing values for order_price\n",
    "df_missing_data[df_missing_data['order_price'].isnull()]"
   ]
  },
  {
   "cell_type": "code",
   "execution_count": 387,
   "id": "219ad6ad-84aa-49f7-b2b6-33a17e5aac74",
   "metadata": {},
   "outputs": [
    {
     "name": "stdout",
     "output_type": "stream",
     "text": [
      "13625.0\n",
      "31385.0\n",
      "21210.0\n",
      "16710.0\n",
      "17250.0\n",
      "4680.0\n",
      "34660.0\n",
      "14630.0\n",
      "4685.0\n",
      "32215.0\n"
     ]
    }
   ],
   "source": [
    "# check the indexes 'order_price' --  all done\n",
    "for i in order_price_indexto_update:\n",
    "    print(df_missing_data.at[i,'order_price'])"
   ]
  },
  {
   "cell_type": "code",
   "execution_count": 388,
   "id": "0534708b-e3d5-42c6-a89b-d621b8abda30",
   "metadata": {},
   "outputs": [
    {
     "data": {
      "text/html": [
       "<div>\n",
       "<style scoped>\n",
       "    .dataframe tbody tr th:only-of-type {\n",
       "        vertical-align: middle;\n",
       "    }\n",
       "\n",
       "    .dataframe tbody tr th {\n",
       "        vertical-align: top;\n",
       "    }\n",
       "\n",
       "    .dataframe thead th {\n",
       "        text-align: right;\n",
       "    }\n",
       "</style>\n",
       "<table border=\"1\" class=\"dataframe\">\n",
       "  <thead>\n",
       "    <tr style=\"text-align: right;\">\n",
       "      <th></th>\n",
       "      <th>order_price</th>\n",
       "    </tr>\n",
       "  </thead>\n",
       "  <tbody>\n",
       "    <tr>\n",
       "      <th>0</th>\n",
       "      <td>7170.0</td>\n",
       "    </tr>\n",
       "    <tr>\n",
       "      <th>1</th>\n",
       "      <td>13590.0</td>\n",
       "    </tr>\n",
       "    <tr>\n",
       "      <th>2</th>\n",
       "      <td>4310.0</td>\n",
       "    </tr>\n",
       "    <tr>\n",
       "      <th>3</th>\n",
       "      <td>10940.0</td>\n",
       "    </tr>\n",
       "    <tr>\n",
       "      <th>4</th>\n",
       "      <td>21700.0</td>\n",
       "    </tr>\n",
       "    <tr>\n",
       "      <th>...</th>\n",
       "      <td>...</td>\n",
       "    </tr>\n",
       "    <tr>\n",
       "      <th>495</th>\n",
       "      <td>10660.0</td>\n",
       "    </tr>\n",
       "    <tr>\n",
       "      <th>496</th>\n",
       "      <td>22970.0</td>\n",
       "    </tr>\n",
       "    <tr>\n",
       "      <th>497</th>\n",
       "      <td>34350.0</td>\n",
       "    </tr>\n",
       "    <tr>\n",
       "      <th>498</th>\n",
       "      <td>6725.0</td>\n",
       "    </tr>\n",
       "    <tr>\n",
       "      <th>499</th>\n",
       "      <td>20985.0</td>\n",
       "    </tr>\n",
       "  </tbody>\n",
       "</table>\n",
       "<p>500 rows × 1 columns</p>\n",
       "</div>"
      ],
      "text/plain": [
       "     order_price\n",
       "0         7170.0\n",
       "1        13590.0\n",
       "2         4310.0\n",
       "3        10940.0\n",
       "4        21700.0\n",
       "..           ...\n",
       "495      10660.0\n",
       "496      22970.0\n",
       "497      34350.0\n",
       "498       6725.0\n",
       "499      20985.0\n",
       "\n",
       "[500 rows x 1 columns]"
      ]
     },
     "execution_count": 388,
     "metadata": {},
     "output_type": "execute_result"
    }
   ],
   "source": [
    "df_missing_data.filter(items=[\"order_price\"])"
   ]
  },
  {
   "cell_type": "markdown",
   "id": "5e17d800-1f0f-411a-b0b7-8bdb9e514ff2",
   "metadata": {},
   "source": [
    "### missing 'order_total'"
   ]
  },
  {
   "cell_type": "code",
   "execution_count": null,
   "id": "b2824bfe-568a-4bd6-b61c-b97794187c59",
   "metadata": {},
   "outputs": [],
   "source": [
    "# getting the index for the missing values for order_total\n",
    "order_total_indexto_update = df_missing_data[df_missing_data['order_total'].isnull()].index"
   ]
  },
  {
   "cell_type": "code",
   "execution_count": 389,
   "id": "38f0b28a-84d1-4e24-aef4-fc237e17ff7b",
   "metadata": {},
   "outputs": [],
   "source": [
    "# updating the missing values for order_total\n",
    "for i in order_total_indexto_update:\n",
    "    df_missing_data.at[i,'order_total'] = get_missing_order_price(df_missing_data.at[i,'order_price'],df_missing_data.at[i,'delivery_charges'],df_missing_data.at[i,'coupon_discount'])"
   ]
  },
  {
   "cell_type": "code",
   "execution_count": 390,
   "id": "20f04507-5e90-40ba-b580-e47e3cf1e20c",
   "metadata": {},
   "outputs": [
    {
     "data": {
      "text/html": [
       "<div>\n",
       "<style scoped>\n",
       "    .dataframe tbody tr th:only-of-type {\n",
       "        vertical-align: middle;\n",
       "    }\n",
       "\n",
       "    .dataframe tbody tr th {\n",
       "        vertical-align: top;\n",
       "    }\n",
       "\n",
       "    .dataframe thead th {\n",
       "        text-align: right;\n",
       "    }\n",
       "</style>\n",
       "<table border=\"1\" class=\"dataframe\">\n",
       "  <thead>\n",
       "    <tr style=\"text-align: right;\">\n",
       "      <th></th>\n",
       "      <th>order_id</th>\n",
       "      <th>customer_id</th>\n",
       "      <th>date</th>\n",
       "      <th>nearest_warehouse</th>\n",
       "      <th>shopping_cart</th>\n",
       "      <th>order_price</th>\n",
       "      <th>delivery_charges</th>\n",
       "      <th>customer_lat</th>\n",
       "      <th>customer_long</th>\n",
       "      <th>coupon_discount</th>\n",
       "      <th>order_total</th>\n",
       "      <th>season</th>\n",
       "      <th>is_expedited_delivery</th>\n",
       "      <th>distance_to_nearest_warehouse</th>\n",
       "      <th>latest_customer_review</th>\n",
       "      <th>is_happy_customer</th>\n",
       "    </tr>\n",
       "  </thead>\n",
       "  <tbody>\n",
       "  </tbody>\n",
       "</table>\n",
       "</div>"
      ],
      "text/plain": [
       "Empty DataFrame\n",
       "Columns: [order_id, customer_id, date, nearest_warehouse, shopping_cart, order_price, delivery_charges, customer_lat, customer_long, coupon_discount, order_total, season, is_expedited_delivery, distance_to_nearest_warehouse, latest_customer_review, is_happy_customer]\n",
       "Index: []"
      ]
     },
     "execution_count": 390,
     "metadata": {},
     "output_type": "execute_result"
    }
   ],
   "source": [
    "# no more missing values for order_total\n",
    "df_missing_data[df_missing_data['order_total'].isnull()]"
   ]
  },
  {
   "cell_type": "code",
   "execution_count": 391,
   "id": "00ca30d4-1b82-473c-bb9a-72c32dd4395e",
   "metadata": {},
   "outputs": [
    {
     "name": "stdout",
     "output_type": "stream",
     "text": [
      "13084.86\n",
      "13186.16\n",
      "23360.61\n",
      "19956.24\n",
      "11220.79\n",
      "16101.97\n",
      "11938.83\n",
      "4617.95\n",
      "5767.24\n",
      "29020.16\n"
     ]
    }
   ],
   "source": [
    "# check the indexes 'order_total' --  all done\n",
    "for i in order_total_indexto_update:\n",
    "    print(df_missing_data.at[i,'order_total'])"
   ]
  },
  {
   "cell_type": "code",
   "execution_count": 392,
   "id": "3e66e084-0e88-404c-8484-71d965666843",
   "metadata": {},
   "outputs": [
    {
     "data": {
      "text/html": [
       "<div>\n",
       "<style scoped>\n",
       "    .dataframe tbody tr th:only-of-type {\n",
       "        vertical-align: middle;\n",
       "    }\n",
       "\n",
       "    .dataframe tbody tr th {\n",
       "        vertical-align: top;\n",
       "    }\n",
       "\n",
       "    .dataframe thead th {\n",
       "        text-align: right;\n",
       "    }\n",
       "</style>\n",
       "<table border=\"1\" class=\"dataframe\">\n",
       "  <thead>\n",
       "    <tr style=\"text-align: right;\">\n",
       "      <th></th>\n",
       "      <th>order_total</th>\n",
       "    </tr>\n",
       "  </thead>\n",
       "  <tbody>\n",
       "    <tr>\n",
       "      <th>0</th>\n",
       "      <td>6156.22</td>\n",
       "    </tr>\n",
       "    <tr>\n",
       "      <th>1</th>\n",
       "      <td>12296.20</td>\n",
       "    </tr>\n",
       "    <tr>\n",
       "      <th>2</th>\n",
       "      <td>3742.25</td>\n",
       "    </tr>\n",
       "    <tr>\n",
       "      <th>3</th>\n",
       "      <td>8297.59</td>\n",
       "    </tr>\n",
       "    <tr>\n",
       "      <th>4</th>\n",
       "      <td>20710.62</td>\n",
       "    </tr>\n",
       "    <tr>\n",
       "      <th>...</th>\n",
       "      <td>...</td>\n",
       "    </tr>\n",
       "    <tr>\n",
       "      <th>495</th>\n",
       "      <td>9107.20</td>\n",
       "    </tr>\n",
       "    <tr>\n",
       "      <th>496</th>\n",
       "      <td>19607.53</td>\n",
       "    </tr>\n",
       "    <tr>\n",
       "      <th>497</th>\n",
       "      <td>29276.07</td>\n",
       "    </tr>\n",
       "    <tr>\n",
       "      <th>498</th>\n",
       "      <td>5821.39</td>\n",
       "    </tr>\n",
       "    <tr>\n",
       "      <th>499</th>\n",
       "      <td>17914.24</td>\n",
       "    </tr>\n",
       "  </tbody>\n",
       "</table>\n",
       "<p>500 rows × 1 columns</p>\n",
       "</div>"
      ],
      "text/plain": [
       "     order_total\n",
       "0        6156.22\n",
       "1       12296.20\n",
       "2        3742.25\n",
       "3        8297.59\n",
       "4       20710.62\n",
       "..           ...\n",
       "495      9107.20\n",
       "496     19607.53\n",
       "497     29276.07\n",
       "498      5821.39\n",
       "499     17914.24\n",
       "\n",
       "[500 rows x 1 columns]"
      ]
     },
     "execution_count": 392,
     "metadata": {},
     "output_type": "execute_result"
    }
   ],
   "source": [
    "df_missing_data.filter(items=[\"order_total\"])"
   ]
  },
  {
   "cell_type": "markdown",
   "id": "c7e2caaf-d480-49ba-b594-3eb381606793",
   "metadata": {},
   "source": [
    "### missing 'season'"
   ]
  },
  {
   "cell_type": "code",
   "execution_count": 393,
   "id": "01156331-2e00-4868-9103-5450e6a90052",
   "metadata": {},
   "outputs": [
    {
     "data": {
      "text/html": [
       "<div>\n",
       "<style scoped>\n",
       "    .dataframe tbody tr th:only-of-type {\n",
       "        vertical-align: middle;\n",
       "    }\n",
       "\n",
       "    .dataframe tbody tr th {\n",
       "        vertical-align: top;\n",
       "    }\n",
       "\n",
       "    .dataframe thead th {\n",
       "        text-align: right;\n",
       "    }\n",
       "</style>\n",
       "<table border=\"1\" class=\"dataframe\">\n",
       "  <thead>\n",
       "    <tr style=\"text-align: right;\">\n",
       "      <th></th>\n",
       "      <th>order_id</th>\n",
       "      <th>customer_id</th>\n",
       "      <th>date</th>\n",
       "      <th>nearest_warehouse</th>\n",
       "      <th>shopping_cart</th>\n",
       "      <th>order_price</th>\n",
       "      <th>delivery_charges</th>\n",
       "      <th>customer_lat</th>\n",
       "      <th>customer_long</th>\n",
       "      <th>coupon_discount</th>\n",
       "      <th>order_total</th>\n",
       "      <th>season</th>\n",
       "      <th>is_expedited_delivery</th>\n",
       "      <th>distance_to_nearest_warehouse</th>\n",
       "      <th>latest_customer_review</th>\n",
       "      <th>is_happy_customer</th>\n",
       "    </tr>\n",
       "  </thead>\n",
       "  <tbody>\n",
       "    <tr>\n",
       "      <th>2</th>\n",
       "      <td>ORD279446</td>\n",
       "      <td>ID0370751503</td>\n",
       "      <td>2019-03-24</td>\n",
       "      <td>Bakers</td>\n",
       "      <td>[('Candle Inferno', 2), ('Universe Note', 1)]</td>\n",
       "      <td>4310.0</td>\n",
       "      <td>78.75</td>\n",
       "      <td>-37.812941</td>\n",
       "      <td>144.985883</td>\n",
       "      <td>15</td>\n",
       "      <td>3742.25</td>\n",
       "      <td>NaN</td>\n",
       "      <td>True</td>\n",
       "      <td>0.8852</td>\n",
       "      <td>best bang for your buck! great overall android...</td>\n",
       "      <td>True</td>\n",
       "    </tr>\n",
       "    <tr>\n",
       "      <th>76</th>\n",
       "      <td>ORD083901</td>\n",
       "      <td>ID5457962366</td>\n",
       "      <td>2019-09-14</td>\n",
       "      <td>Thompson</td>\n",
       "      <td>[('Toshika 750', 1), ('pearTV', 1), ('iStream'...</td>\n",
       "      <td>10780.0</td>\n",
       "      <td>78.41</td>\n",
       "      <td>-37.822479</td>\n",
       "      <td>144.939978</td>\n",
       "      <td>15</td>\n",
       "      <td>9241.41</td>\n",
       "      <td>NaN</td>\n",
       "      <td>False</td>\n",
       "      <td>1.2571</td>\n",
       "      <td>excelent product excellent relationship qualit...</td>\n",
       "      <td>True</td>\n",
       "    </tr>\n",
       "    <tr>\n",
       "      <th>110</th>\n",
       "      <td>ORD250242</td>\n",
       "      <td>ID0287630803</td>\n",
       "      <td>2019-10-13</td>\n",
       "      <td>Thompson</td>\n",
       "      <td>[('Olivia x460', 2), ('iStream', 2)]</td>\n",
       "      <td>2750.0</td>\n",
       "      <td>100.85</td>\n",
       "      <td>-37.806362</td>\n",
       "      <td>144.946628</td>\n",
       "      <td>5</td>\n",
       "      <td>2713.35</td>\n",
       "      <td>NaN</td>\n",
       "      <td>True</td>\n",
       "      <td>0.7036</td>\n",
       "      <td>wtc as of right now it's more of a paper weigh...</td>\n",
       "      <td>True</td>\n",
       "    </tr>\n",
       "    <tr>\n",
       "      <th>132</th>\n",
       "      <td>ORD078069</td>\n",
       "      <td>ID1458418088</td>\n",
       "      <td>2019-01-12</td>\n",
       "      <td>Bakers</td>\n",
       "      <td>[('Lucent 330S', 1), ('Toshika 750', 2), ('pea...</td>\n",
       "      <td>16180.0</td>\n",
       "      <td>101.81</td>\n",
       "      <td>-37.819670</td>\n",
       "      <td>145.010019</td>\n",
       "      <td>0</td>\n",
       "      <td>16281.81</td>\n",
       "      <td>NaN</td>\n",
       "      <td>True</td>\n",
       "      <td>1.6884</td>\n",
       "      <td>excelente el producto llego en perfectas condi...</td>\n",
       "      <td>True</td>\n",
       "    </tr>\n",
       "    <tr>\n",
       "      <th>135</th>\n",
       "      <td>ORD016552</td>\n",
       "      <td>ID0283334264</td>\n",
       "      <td>2019-10-20</td>\n",
       "      <td>Thompson</td>\n",
       "      <td>[('iAssist Line', 1), ('Universe Note', 1), ('...</td>\n",
       "      <td>10035.0</td>\n",
       "      <td>83.29</td>\n",
       "      <td>-37.801340</td>\n",
       "      <td>144.956120</td>\n",
       "      <td>25</td>\n",
       "      <td>7609.54</td>\n",
       "      <td>NaN</td>\n",
       "      <td>False</td>\n",
       "      <td>1.4917</td>\n",
       "      <td>saves you money and trustworthy. i love my pho...</td>\n",
       "      <td>True</td>\n",
       "    </tr>\n",
       "    <tr>\n",
       "      <th>173</th>\n",
       "      <td>ORD429692</td>\n",
       "      <td>ID0575539547</td>\n",
       "      <td>2019-10-27</td>\n",
       "      <td>Nickolson</td>\n",
       "      <td>[('iAssist Line', 1), ('Alcon 10', 2), ('pearT...</td>\n",
       "      <td>32745.0</td>\n",
       "      <td>79.86</td>\n",
       "      <td>-37.823686</td>\n",
       "      <td>144.982575</td>\n",
       "      <td>15</td>\n",
       "      <td>27913.11</td>\n",
       "      <td>NaN</td>\n",
       "      <td>False</td>\n",
       "      <td>1.2778</td>\n",
       "      <td>overall good phone fingerprint not so good</td>\n",
       "      <td>True</td>\n",
       "    </tr>\n",
       "    <tr>\n",
       "      <th>209</th>\n",
       "      <td>ORD434639</td>\n",
       "      <td>ID1449297341</td>\n",
       "      <td>2019-06-03</td>\n",
       "      <td>Nickolson</td>\n",
       "      <td>[('Thunder line', 1), ('iStream', 2), ('Univer...</td>\n",
       "      <td>9380.0</td>\n",
       "      <td>51.44</td>\n",
       "      <td>-37.815768</td>\n",
       "      <td>144.980178</td>\n",
       "      <td>25</td>\n",
       "      <td>7086.44</td>\n",
       "      <td>NaN</td>\n",
       "      <td>False</td>\n",
       "      <td>0.9860</td>\n",
       "      <td>doesn't work arrived with completely dead batt...</td>\n",
       "      <td>False</td>\n",
       "    </tr>\n",
       "    <tr>\n",
       "      <th>310</th>\n",
       "      <td>ORD032506</td>\n",
       "      <td>ID0628177290</td>\n",
       "      <td>2019-06-28</td>\n",
       "      <td>Thompson</td>\n",
       "      <td>[('iStream', 2), ('Alcon 10', 2), ('Candle Inf...</td>\n",
       "      <td>18630.0</td>\n",
       "      <td>61.78</td>\n",
       "      <td>-37.811359</td>\n",
       "      <td>144.947461</td>\n",
       "      <td>5</td>\n",
       "      <td>17760.28</td>\n",
       "      <td>NaN</td>\n",
       "      <td>False</td>\n",
       "      <td>0.1503</td>\n",
       "      <td>photo quality is amazing. the phone is fast an...</td>\n",
       "      <td>True</td>\n",
       "    </tr>\n",
       "    <tr>\n",
       "      <th>335</th>\n",
       "      <td>ORD027479</td>\n",
       "      <td>ID0493051199</td>\n",
       "      <td>2019-06-19</td>\n",
       "      <td>Bakers</td>\n",
       "      <td>[('Candle Inferno', 2), ('Alcon 10', 1), ('iSt...</td>\n",
       "      <td>9960.0</td>\n",
       "      <td>63.76</td>\n",
       "      <td>-37.807695</td>\n",
       "      <td>144.989743</td>\n",
       "      <td>5</td>\n",
       "      <td>9525.76</td>\n",
       "      <td>NaN</td>\n",
       "      <td>False</td>\n",
       "      <td>0.5465</td>\n",
       "      <td>perfect starter phone fantastic phone for y 11...</td>\n",
       "      <td>True</td>\n",
       "    </tr>\n",
       "    <tr>\n",
       "      <th>442</th>\n",
       "      <td>ORD437147</td>\n",
       "      <td>ID0052450505</td>\n",
       "      <td>2019-10-31</td>\n",
       "      <td>Thompson</td>\n",
       "      <td>[('iAssist Line', 2), ('Alcon 10', 2)]</td>\n",
       "      <td>22350.0</td>\n",
       "      <td>85.96</td>\n",
       "      <td>-37.795479</td>\n",
       "      <td>144.936073</td>\n",
       "      <td>15</td>\n",
       "      <td>19083.46</td>\n",
       "      <td>NaN</td>\n",
       "      <td>False</td>\n",
       "      <td>2.1445</td>\n",
       "      <td>this was a gift for a family member they reall...</td>\n",
       "      <td>True</td>\n",
       "    </tr>\n",
       "  </tbody>\n",
       "</table>\n",
       "</div>"
      ],
      "text/plain": [
       "      order_id   customer_id       date nearest_warehouse  \\\n",
       "2    ORD279446  ID0370751503 2019-03-24            Bakers   \n",
       "76   ORD083901  ID5457962366 2019-09-14          Thompson   \n",
       "110  ORD250242  ID0287630803 2019-10-13          Thompson   \n",
       "132  ORD078069  ID1458418088 2019-01-12            Bakers   \n",
       "135  ORD016552  ID0283334264 2019-10-20          Thompson   \n",
       "173  ORD429692  ID0575539547 2019-10-27         Nickolson   \n",
       "209  ORD434639  ID1449297341 2019-06-03         Nickolson   \n",
       "310  ORD032506  ID0628177290 2019-06-28          Thompson   \n",
       "335  ORD027479  ID0493051199 2019-06-19            Bakers   \n",
       "442  ORD437147  ID0052450505 2019-10-31          Thompson   \n",
       "\n",
       "                                         shopping_cart  order_price  \\\n",
       "2        [('Candle Inferno', 2), ('Universe Note', 1)]       4310.0   \n",
       "76   [('Toshika 750', 1), ('pearTV', 1), ('iStream'...      10780.0   \n",
       "110               [('Olivia x460', 2), ('iStream', 2)]       2750.0   \n",
       "132  [('Lucent 330S', 1), ('Toshika 750', 2), ('pea...      16180.0   \n",
       "135  [('iAssist Line', 1), ('Universe Note', 1), ('...      10035.0   \n",
       "173  [('iAssist Line', 1), ('Alcon 10', 2), ('pearT...      32745.0   \n",
       "209  [('Thunder line', 1), ('iStream', 2), ('Univer...       9380.0   \n",
       "310  [('iStream', 2), ('Alcon 10', 2), ('Candle Inf...      18630.0   \n",
       "335  [('Candle Inferno', 2), ('Alcon 10', 1), ('iSt...       9960.0   \n",
       "442             [('iAssist Line', 2), ('Alcon 10', 2)]      22350.0   \n",
       "\n",
       "     delivery_charges  customer_lat  customer_long  coupon_discount  \\\n",
       "2               78.75    -37.812941     144.985883               15   \n",
       "76              78.41    -37.822479     144.939978               15   \n",
       "110            100.85    -37.806362     144.946628                5   \n",
       "132            101.81    -37.819670     145.010019                0   \n",
       "135             83.29    -37.801340     144.956120               25   \n",
       "173             79.86    -37.823686     144.982575               15   \n",
       "209             51.44    -37.815768     144.980178               25   \n",
       "310             61.78    -37.811359     144.947461                5   \n",
       "335             63.76    -37.807695     144.989743                5   \n",
       "442             85.96    -37.795479     144.936073               15   \n",
       "\n",
       "     order_total season  is_expedited_delivery  distance_to_nearest_warehouse  \\\n",
       "2        3742.25    NaN                   True                         0.8852   \n",
       "76       9241.41    NaN                  False                         1.2571   \n",
       "110      2713.35    NaN                   True                         0.7036   \n",
       "132     16281.81    NaN                   True                         1.6884   \n",
       "135      7609.54    NaN                  False                         1.4917   \n",
       "173     27913.11    NaN                  False                         1.2778   \n",
       "209      7086.44    NaN                  False                         0.9860   \n",
       "310     17760.28    NaN                  False                         0.1503   \n",
       "335      9525.76    NaN                  False                         0.5465   \n",
       "442     19083.46    NaN                  False                         2.1445   \n",
       "\n",
       "                                latest_customer_review is_happy_customer  \n",
       "2    best bang for your buck! great overall android...              True  \n",
       "76   excelent product excellent relationship qualit...              True  \n",
       "110  wtc as of right now it's more of a paper weigh...              True  \n",
       "132  excelente el producto llego en perfectas condi...              True  \n",
       "135  saves you money and trustworthy. i love my pho...              True  \n",
       "173         overall good phone fingerprint not so good              True  \n",
       "209  doesn't work arrived with completely dead batt...             False  \n",
       "310  photo quality is amazing. the phone is fast an...              True  \n",
       "335  perfect starter phone fantastic phone for y 11...              True  \n",
       "442  this was a gift for a family member they reall...              True  "
      ]
     },
     "execution_count": 393,
     "metadata": {},
     "output_type": "execute_result"
    }
   ],
   "source": [
    "# checking the missing values for season\n",
    "df_missing_data[df_missing_data['season'].isnull()]"
   ]
  },
  {
   "cell_type": "code",
   "execution_count": 394,
   "id": "c3ae807b-8e2d-40a6-8b34-1e22e1bece89",
   "metadata": {},
   "outputs": [
    {
     "name": "stdout",
     "output_type": "stream",
     "text": [
      "['Autumn' 'Spring' 'Summer' 'Winter' nan]\n"
     ]
    }
   ],
   "source": [
    "# getting the distinct values for season\n",
    "print(df_missing_data['season'].sort_values().unique())"
   ]
  },
  {
   "cell_type": "code",
   "execution_count": 404,
   "id": "17701abf-5888-46d5-aa16-f37e8d2a3cf9",
   "metadata": {},
   "outputs": [
    {
     "data": {
      "text/html": [
       "<div>\n",
       "<style scoped>\n",
       "    .dataframe tbody tr th:only-of-type {\n",
       "        vertical-align: middle;\n",
       "    }\n",
       "\n",
       "    .dataframe tbody tr th {\n",
       "        vertical-align: top;\n",
       "    }\n",
       "\n",
       "    .dataframe thead th {\n",
       "        text-align: right;\n",
       "    }\n",
       "</style>\n",
       "<table border=\"1\" class=\"dataframe\">\n",
       "  <thead>\n",
       "    <tr style=\"text-align: right;\">\n",
       "      <th></th>\n",
       "      <th></th>\n",
       "    </tr>\n",
       "    <tr>\n",
       "      <th>date</th>\n",
       "      <th>season</th>\n",
       "    </tr>\n",
       "  </thead>\n",
       "  <tbody>\n",
       "    <tr>\n",
       "      <th>2019-01-31</th>\n",
       "      <th>Summer</th>\n",
       "    </tr>\n",
       "    <tr>\n",
       "      <th>2019-02-28</th>\n",
       "      <th>Summer</th>\n",
       "    </tr>\n",
       "    <tr>\n",
       "      <th>2019-03-31</th>\n",
       "      <th>Autumn</th>\n",
       "    </tr>\n",
       "    <tr>\n",
       "      <th>2019-04-30</th>\n",
       "      <th>Autumn</th>\n",
       "    </tr>\n",
       "    <tr>\n",
       "      <th>2019-05-31</th>\n",
       "      <th>Autumn</th>\n",
       "    </tr>\n",
       "    <tr>\n",
       "      <th>2019-06-30</th>\n",
       "      <th>Winter</th>\n",
       "    </tr>\n",
       "    <tr>\n",
       "      <th>2019-07-31</th>\n",
       "      <th>Winter</th>\n",
       "    </tr>\n",
       "    <tr>\n",
       "      <th>2019-08-31</th>\n",
       "      <th>Winter</th>\n",
       "    </tr>\n",
       "    <tr>\n",
       "      <th>2019-09-30</th>\n",
       "      <th>Spring</th>\n",
       "    </tr>\n",
       "    <tr>\n",
       "      <th>2019-10-31</th>\n",
       "      <th>Spring</th>\n",
       "    </tr>\n",
       "    <tr>\n",
       "      <th>2019-11-30</th>\n",
       "      <th>Spring</th>\n",
       "    </tr>\n",
       "    <tr>\n",
       "      <th>2019-12-31</th>\n",
       "      <th>Summer</th>\n",
       "    </tr>\n",
       "  </tbody>\n",
       "</table>\n",
       "</div>"
      ],
      "text/plain": [
       "Empty DataFrame\n",
       "Columns: []\n",
       "Index: [(2019-01-31 00:00:00, Summer), (2019-02-28 00:00:00, Summer), (2019-03-31 00:00:00, Autumn), (2019-04-30 00:00:00, Autumn), (2019-05-31 00:00:00, Autumn), (2019-06-30 00:00:00, Winter), (2019-07-31 00:00:00, Winter), (2019-08-31 00:00:00, Winter), (2019-09-30 00:00:00, Spring), (2019-10-31 00:00:00, Spring), (2019-11-30 00:00:00, Spring), (2019-12-31 00:00:00, Summer)]"
      ]
     },
     "execution_count": 404,
     "metadata": {},
     "output_type": "execute_result"
    }
   ],
   "source": [
    "# get the seasons months from the grouping of the orders..obviously Southern hemisphere - rndom lat long shows Melbourne\n",
    "df_missing_data.groupby([pd.Grouper(key='date', axis=0, freq='M'),'season']).sum().filter(items=['date','season'])\n",
    "# summer = months 12,1,2\n",
    "# Autumn = months 3,4,5\n",
    "# Winter = months 6,7,8\n",
    "# Spring = months 9,10,11"
   ]
  },
  {
   "cell_type": "code",
   "execution_count": 425,
   "id": "446c3cc1-de31-4eb2-a8cf-c9dea314f9d9",
   "metadata": {},
   "outputs": [
    {
     "data": {
      "text/plain": [
       "Int64Index([2, 76, 110, 132, 135, 173, 209, 310, 335, 442], dtype='int64')"
      ]
     },
     "execution_count": 425,
     "metadata": {},
     "output_type": "execute_result"
    }
   ],
   "source": [
    "# getting the index for the missing values for season\n",
    "season_indexto_update = df_missing_data[df_missing_data['season'].isnull()].index"
   ]
  },
  {
   "cell_type": "code",
   "execution_count": 447,
   "id": "a4802be3-f005-43c9-a552-5ecb979d6360",
   "metadata": {},
   "outputs": [],
   "source": [
    "# updating missing values for season\n",
    "for i in season_indexto_update:\n",
    "    df_missing_data.at[i,'season'] = (get_missing_season(df_missing_data.at[i,'date']))"
   ]
  },
  {
   "cell_type": "code",
   "execution_count": 448,
   "id": "0d41b27c-5368-4cbf-92ca-9923feebf1eb",
   "metadata": {},
   "outputs": [
    {
     "data": {
      "text/plain": [
       "Int64Index([], dtype='int64')"
      ]
     },
     "execution_count": 448,
     "metadata": {},
     "output_type": "execute_result"
    }
   ],
   "source": [
    "# no more missing values for season\n",
    "df_missing_data[df_missing_data['season'].isnull()].index"
   ]
  },
  {
   "cell_type": "code",
   "execution_count": 450,
   "id": "ba1ad4df-c65e-4ee7-849a-4b830211c12e",
   "metadata": {},
   "outputs": [
    {
     "name": "stdout",
     "output_type": "stream",
     "text": [
      "Autumn\n",
      "Spring\n",
      "Spring\n",
      "Summer\n",
      "Spring\n",
      "Spring\n",
      "Winter\n",
      "Winter\n",
      "Winter\n",
      "Spring\n"
     ]
    }
   ],
   "source": [
    "# check the indexes 'nearest_warehouse' --  all done\n",
    "for i in season_indexto_update:\n",
    "    print(df_missing_data.at[i,'season'])"
   ]
  },
  {
   "cell_type": "markdown",
   "id": "684c7332-b8b5-431a-ab49-2cdaa1c08364",
   "metadata": {},
   "source": [
    "### missing 'distance_to_nearest_warehouse'"
   ]
  },
  {
   "cell_type": "code",
   "execution_count": null,
   "id": "d5d0961d-5791-479b-9ee2-9c160cc420e4",
   "metadata": {},
   "outputs": [],
   "source": [
    "# getting the index for the missing values for nearest_warehouse\n",
    "distance_to_nearest_warehouse_indexto_update = df_missing_data[df_missing_data['distance_to_nearest_warehouse'].isnull()].index"
   ]
  },
  {
   "cell_type": "code",
   "execution_count": 397,
   "id": "d587097c-5386-44cc-96a4-c7c9bb96ba97",
   "metadata": {},
   "outputs": [],
   "source": [
    "# updating  missing values for nearest_warehouse\n",
    "for i in distance_to_nearest_warehouse_indexto_update:\n",
    "    df_missing_data.at[i,'distance_to_nearest_warehouse'] = get_missing_nearest_warehouse(df_missing_data.at[i,'customer_lat'],df_missing_data.at[i,'customer_long'])[1]"
   ]
  },
  {
   "cell_type": "code",
   "execution_count": 398,
   "id": "f138eac8-9a8a-4491-8ac1-39b5fb3b07e9",
   "metadata": {},
   "outputs": [
    {
     "data": {
      "text/plain": [
       "Int64Index([], dtype='int64')"
      ]
     },
     "execution_count": 398,
     "metadata": {},
     "output_type": "execute_result"
    }
   ],
   "source": [
    "# no more missing values for nearest_warehouse\n",
    "df_missing_data[df_missing_data['distance_to_nearest_warehouse'].isnull()].index"
   ]
  },
  {
   "cell_type": "code",
   "execution_count": 399,
   "id": "cb8eaa1e-d891-4612-9546-f840340c5673",
   "metadata": {},
   "outputs": [
    {
     "name": "stdout",
     "output_type": "stream",
     "text": [
      "0.2169\n",
      "1.1454\n",
      "1.1544\n",
      "1.0207\n",
      "0.8885\n",
      "1.5714\n",
      "1.4257\n",
      "3.1388\n",
      "0.5139\n",
      "0.4241\n"
     ]
    }
   ],
   "source": [
    "# check the indexes 'nearest_warehouse' --  all done\n",
    "for i in nearest_warehouse_indexto_update:\n",
    "    print(df_missing_data.at[i,'distance_to_nearest_warehouse'])"
   ]
  },
  {
   "cell_type": "code",
   "execution_count": 400,
   "id": "8f8561d3-ec51-45fd-b9df-87c7152daee5",
   "metadata": {},
   "outputs": [
    {
     "data": {
      "text/html": [
       "<div>\n",
       "<style scoped>\n",
       "    .dataframe tbody tr th:only-of-type {\n",
       "        vertical-align: middle;\n",
       "    }\n",
       "\n",
       "    .dataframe tbody tr th {\n",
       "        vertical-align: top;\n",
       "    }\n",
       "\n",
       "    .dataframe thead th {\n",
       "        text-align: right;\n",
       "    }\n",
       "</style>\n",
       "<table border=\"1\" class=\"dataframe\">\n",
       "  <thead>\n",
       "    <tr style=\"text-align: right;\">\n",
       "      <th></th>\n",
       "      <th>distance_to_nearest_warehouse</th>\n",
       "    </tr>\n",
       "  </thead>\n",
       "  <tbody>\n",
       "    <tr>\n",
       "      <th>0</th>\n",
       "      <td>0.4425</td>\n",
       "    </tr>\n",
       "    <tr>\n",
       "      <th>1</th>\n",
       "      <td>0.6547</td>\n",
       "    </tr>\n",
       "    <tr>\n",
       "      <th>2</th>\n",
       "      <td>0.8852</td>\n",
       "    </tr>\n",
       "    <tr>\n",
       "      <th>3</th>\n",
       "      <td>0.7875</td>\n",
       "    </tr>\n",
       "    <tr>\n",
       "      <th>4</th>\n",
       "      <td>0.2225</td>\n",
       "    </tr>\n",
       "    <tr>\n",
       "      <th>...</th>\n",
       "      <td>...</td>\n",
       "    </tr>\n",
       "    <tr>\n",
       "      <th>495</th>\n",
       "      <td>0.3104</td>\n",
       "    </tr>\n",
       "    <tr>\n",
       "      <th>496</th>\n",
       "      <td>1.8010</td>\n",
       "    </tr>\n",
       "    <tr>\n",
       "      <th>497</th>\n",
       "      <td>1.0563</td>\n",
       "    </tr>\n",
       "    <tr>\n",
       "      <th>498</th>\n",
       "      <td>1.2289</td>\n",
       "    </tr>\n",
       "    <tr>\n",
       "      <th>499</th>\n",
       "      <td>0.8646</td>\n",
       "    </tr>\n",
       "  </tbody>\n",
       "</table>\n",
       "<p>500 rows × 1 columns</p>\n",
       "</div>"
      ],
      "text/plain": [
       "     distance_to_nearest_warehouse\n",
       "0                           0.4425\n",
       "1                           0.6547\n",
       "2                           0.8852\n",
       "3                           0.7875\n",
       "4                           0.2225\n",
       "..                             ...\n",
       "495                         0.3104\n",
       "496                         1.8010\n",
       "497                         1.0563\n",
       "498                         1.2289\n",
       "499                         0.8646\n",
       "\n",
       "[500 rows x 1 columns]"
      ]
     },
     "execution_count": 400,
     "metadata": {},
     "output_type": "execute_result"
    }
   ],
   "source": [
    "df_missing_data.filter(items=[\"distance_to_nearest_warehouse\"])"
   ]
  },
  {
   "cell_type": "markdown",
   "id": "b7136cb6-623d-4111-80e3-26ebb93abb61",
   "metadata": {},
   "source": []
  },
  {
   "cell_type": "markdown",
   "id": "30ad199b-54a9-47b7-9cce-eb5ce2b71791",
   "metadata": {},
   "source": [
    "## Analyse\n",
    "***"
   ]
  },
  {
   "cell_type": "code",
   "execution_count": 401,
   "id": "cf37f7bd-48ce-41dc-9348-d7db1c2d436e",
   "metadata": {},
   "outputs": [
    {
     "name": "stdout",
     "output_type": "stream",
     "text": [
      "Index(['order_id', 'customer_id', 'date', 'nearest_warehouse', 'shopping_cart',\n",
      "       'order_price', 'delivery_charges', 'customer_lat', 'customer_long',\n",
      "       'coupon_discount', 'order_total', 'season', 'is_expedited_delivery',\n",
      "       'distance_to_nearest_warehouse', 'latest_customer_review',\n",
      "       'is_happy_customer'],\n",
      "      dtype='object')\n"
     ]
    }
   ],
   "source": [
    "print(df_missing_data.columns)"
   ]
  },
  {
   "cell_type": "markdown",
   "id": "78872474-40c1-445d-affa-63124884d8db",
   "metadata": {},
   "source": [
    "## Visualise\n",
    "***"
   ]
  },
  {
   "cell_type": "code",
   "execution_count": null,
   "id": "ab9f502e-25f5-48a5-a775-ff0410e7c33f",
   "metadata": {},
   "outputs": [],
   "source": []
  }
 ],
 "metadata": {
  "kernelspec": {
   "display_name": "Python 3 (ipykernel)",
   "language": "python",
   "name": "python3"
  },
  "language_info": {
   "codemirror_mode": {
    "name": "ipython",
    "version": 3
   },
   "file_extension": ".py",
   "mimetype": "text/x-python",
   "name": "python",
   "nbconvert_exporter": "python",
   "pygments_lexer": "ipython3",
   "version": "3.9.7"
  }
 },
 "nbformat": 4,
 "nbformat_minor": 5
}
