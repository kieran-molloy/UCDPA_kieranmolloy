{
 "cells": [
  {
   "cell_type": "markdown",
   "id": "62b73650-40bf-4cf5-b0e1-add5e135416a",
   "metadata": {
    "tags": [],
    "toc-hr-collapsed": true
   },
   "source": [
    "# Kieran Molloy UCDPA Project \n",
    "### Course CIDAB 2022-01-18\n",
    "***"
   ]
  },
  {
   "cell_type": "markdown",
   "id": "c778e28c-3ac9-4b69-9a21-a14a798d209b",
   "metadata": {},
   "source": [
    "### Environment Information\n",
    "<table align=\"left\">\n",
    "<tr>\n",
    "    <th>Environment Type</th>\n",
    "    <th>Anaconda Version</th>\n",
    "    <th>Anaconda Build Channel</th>\n",
    "    <th>Python Version</th>\n",
    "</tr>\n",
    "<tr>\n",
    "    <td>Anaconda </td>\n",
    "    <td>2021.11 </td>\n",
    "    <td>py39_0 </td>\n",
    "    <td>3.9.7 </td>\n",
    "</tr>\n",
    "</table>"
   ]
  },
  {
   "cell_type": "markdown",
   "id": "afe1772b-f4b1-4b51-a3a4-9c24f29ed8d3",
   "metadata": {
    "tags": []
   },
   "source": [
    "## Links to Kaggle Datasource: \n",
    "***\n",
    "\n",
    "#### _[Transactional Retail Dataset of Electronics Store](https://www.kaggle.com/datasets/muhammadshahrayar/transactional-retail-dataset-of-electronics-store)_\n",
    "\n",
    "*  _[dirty_data.csv](https://www.kaggle.com/datasets/muhammadshahrayar/transactional-retail-dataset-of-electronics-store?select=dirty_data.csv)_\n",
    "*  _[missing_data.csv](https://www.kaggle.com/datasets/muhammadshahrayar/transactional-retail-dataset-of-electronics-store?select=missing_data.csv)_\n",
    "*  _[warehouses.csv](https://www.kaggle.com/datasets/muhammadshahrayar/transactional-retail-dataset-of-electronics-store?select=warehouses.csv)_\n"
   ]
  },
  {
   "cell_type": "markdown",
   "id": "46c99b8e-b1e6-4b5c-9436-6e63806301af",
   "metadata": {},
   "source": [
    "# Setup"
   ]
  },
  {
   "cell_type": "markdown",
   "id": "c1d223bc-06ca-42b9-83af-827a0ed51921",
   "metadata": {},
   "source": [
    "## Install Modules"
   ]
  },
  {
   "cell_type": "code",
   "execution_count": 2,
   "id": "879d252f-8f3c-4757-94e9-cdb84a520855",
   "metadata": {},
   "outputs": [],
   "source": [
    "#commented out installers prevent re-run, uncomment if required \n",
    "#%pip install geopy\n",
    "#%pip install plotly"
   ]
  },
  {
   "cell_type": "markdown",
   "id": "e954165f-785e-469f-9d11-f464f7ce3008",
   "metadata": {},
   "source": [
    "## Import Modules\n",
    "***"
   ]
  },
  {
   "cell_type": "code",
   "execution_count": 3,
   "id": "7fb5ef44-cccd-4c79-b53b-64ac594b15e3",
   "metadata": {},
   "outputs": [],
   "source": [
    "from matplotlib import pyplot as plt\n",
    "from IPython.display import display \n",
    "\n",
    "import pandas as pd\n",
    "import numpy as np\n",
    "import seaborn as sns\n",
    "# import itertools\n",
    "import time\n",
    "from datetime import datetime\n",
    "\n",
    "\n",
    "from geopy.distance import geodesic\n",
    "from geopy.geocoders import Nominatim\n",
    "import plotly.express as px "
   ]
  },
  {
   "cell_type": "markdown",
   "id": "aa0be544-123d-4dc7-9429-df54040e671b",
   "metadata": {},
   "source": [
    "## Set Variables\n",
    "***"
   ]
  },
  {
   "cell_type": "code",
   "execution_count": 4,
   "id": "82297830-167e-46bc-83b0-36026355871b",
   "metadata": {},
   "outputs": [],
   "source": [
    "dirty_data = 'dirty_data.csv'\n",
    "missing_data = 'missing_data.csv'\n",
    "warehouses = 'warehouses.csv'\n",
    "customer_addresses = 'customer_addresses.csv' "
   ]
  },
  {
   "cell_type": "markdown",
   "id": "b4a97a52-1f03-4cca-84ea-fc64d0b2c2e1",
   "metadata": {
    "tags": []
   },
   "source": [
    "## Functions\n",
    "***"
   ]
  },
  {
   "cell_type": "code",
   "execution_count": 5,
   "id": "a0aee1ca-9eb0-4972-b84a-fe555c89e8b4",
   "metadata": {},
   "outputs": [],
   "source": [
    "def get_missing_nearest_warehouse(lat , Long ):\n",
    "    ''' use coordinates to find the closest warehouse (crow flies) using geodesic API'''\n",
    "    \n",
    "    # customer coordinates are provided\n",
    "    coords_customer = lat, Long\n",
    "    \n",
    "    # get warehouse latitude and longitide from warehouse table\n",
    "    coords_Nickolson = df_warehouses['lat'].loc[df_warehouses.index[0]], df_warehouses['lon'].loc[df_warehouses.index[0]]\n",
    "    coords_Thompson = df_warehouses['lat'].loc[df_warehouses.index[1]], df_warehouses['lon'].loc[df_warehouses.index[1]]\n",
    "    coords_Bakers = df_warehouses['lat'].loc[df_warehouses.index[2]], df_warehouses['lon'].loc[df_warehouses.index[2]]\n",
    "    \n",
    "    # use geodesic to do a km distance comparison\n",
    "    Nickolson_cust_dist = geodesic(coords_customer, coords_Nickolson).km\n",
    "    Thompson_cust_dist = geodesic(coords_customer, coords_Thompson).km\n",
    "    Bakers_cust_dist = geodesic(coords_customer, coords_Bakers).km\n",
    "    \n",
    "    val = (Nickolson_cust_dist ,Thompson_cust_dist ,Bakers_cust_dist)\n",
    "    \n",
    "    # get the min value distance value\n",
    "    min_dist = val.index(min(val))\n",
    "    \n",
    "     # convert min_dist to warehouse name and distance in km\n",
    "    if min_dist == 0:\n",
    "        warehouse = 'Nickolson'\n",
    "        distance = Nickolson_cust_dist\n",
    "        return(warehouse , distance)\n",
    "    elif min_dist == 1:\n",
    "        warehouse = 'Thompson'\n",
    "        distance = Nickolson_cust_dist\n",
    "        return(warehouse , distance)\n",
    "    else: \n",
    "        warehouse = 'Bakers'\n",
    "        distance = Nickolson_cust_dist\n",
    "        return(str(warehouse) , distance)\n",
    "        # test values : get_missing_nearest_warehouse(-37.815105 ,144.932843)"
   ]
  },
  {
   "cell_type": "code",
   "execution_count": 6,
   "id": "f9c3130b-999f-4a0a-b752-21265f8eb20c",
   "metadata": {},
   "outputs": [],
   "source": [
    "def get_missing_order_price(order_total, delivery_charges, coupon_discount):\n",
    "    ''' calculate order_price from order_total, delivery_charges and coupon_discount '''\n",
    "    order_price = (order_total - delivery_charges) / (100-coupon_discount) * 100\n",
    "    return(round(order_price, 2))\n",
    "    # test : get_missing_order_price(11059.89 ,79.89 ,10 )"
   ]
  },
  {
   "cell_type": "code",
   "execution_count": 7,
   "id": "24d8ad60-44ef-46bc-9465-a94ce7956f9a",
   "metadata": {},
   "outputs": [],
   "source": [
    "def get_missing_order_total(order_price, delivery_charges, coupon_discount):\n",
    "    ''' calculate order_total from order_price, delivery_charges and coupon_discount'''\n",
    "    order_total = order_price - (order_price / 100 * coupon_discount) + delivery_charges\n",
    "    return(round(order_total, 2))\n",
    "    # test values : get_missing_order_total(11059.89 ,79.89 ,10 )"
   ]
  },
  {
   "cell_type": "code",
   "execution_count": 8,
   "id": "061ab880-0f9e-4ca1-ba42-0deb9082a277",
   "metadata": {},
   "outputs": [],
   "source": [
    "def get_missing_season(date):\n",
    "    '''calculate season from date'''\n",
    "    # Spring = months 9,10,11\n",
    "    # summer = months 12,1,2\n",
    "    # Autumn = months 3,4,5\n",
    "    # Winter = months 6,7,8\n",
    "\n",
    "    month = date.month\n",
    "\n",
    "    if month in [9,10,11]:\n",
    "        season = 'Spring'\n",
    "    elif month in [12,1,2]:\n",
    "        season = 'Summer'\n",
    "    elif month in [3,4,5]:\n",
    "        season = 'Autumn'\n",
    "    else:\n",
    "        season = 'Winter'\n",
    "    \n",
    "    return(season)\n",
    "    # test values : get_missing_season(datetime(2019, 6, 22))"
   ]
  },
  {
   "cell_type": "code",
   "execution_count": 9,
   "id": "c1317990-e3c3-4bc5-9a51-cc9c3cd6709a",
   "metadata": {},
   "outputs": [],
   "source": [
    "def get_geo_address(customer_id, lat, long):\n",
    "    '''use  Nominatim API to get address data from customer_lat and customer_long'''\n",
    "    \n",
    "    # simple multiply by -1   \n",
    "    geolocator = Nominatim(user_agent=\"app\")\n",
    "    \n",
    "    # simple multiply by -1   \n",
    "    coordinates =  str(lat) + \" \" + str(long)\n",
    "\n",
    "    # select the required address \n",
    "    location = geolocator.reverse(coordinates,timeout=None)\n",
    "    address = location.raw['address']\n",
    "    road = address.get('road', '')\n",
    "    suburb = address.get('suburb', '')\n",
    "    city = address.get('city', '')\n",
    "    postcode = address.get('postcode', '')\n",
    "    state = address.get('state', '')\n",
    "    country = address.get('country', '')\n",
    "    \n",
    "    return(customer_id, road, suburb, city, postcode, state, country)\n",
    "    # test values : get_geo_address('ID6231506320' ,-37.8117454 ,144.9564037)"
   ]
  },
  {
   "cell_type": "code",
   "execution_count": 10,
   "id": "1c1a44a7-bf83-432e-811c-94555aa66f5c",
   "metadata": {
    "tags": []
   },
   "outputs": [],
   "source": [
    "def convert_to_negative(val):\n",
    "    '''get the negative of a passed value'''\n",
    "    \n",
    "    # simple multiply by -1     \n",
    "    negative_val = val * (-1)\n",
    "    \n",
    "    return negative_val\n",
    "    # test values : convert_to_negative(37.8117454)"
   ]
  },
  {
   "cell_type": "markdown",
   "id": "2dfd0b92-8771-4163-af08-d7bceb0c567b",
   "metadata": {
    "tags": []
   },
   "source": [
    "# CSV Import and review \n",
    "***"
   ]
  },
  {
   "cell_type": "markdown",
   "id": "0d70b59e-0a46-44ab-833c-41e4cfbc5442",
   "metadata": {},
   "source": [
    "<div class=\"alert alert-block alert-info\"><b></b><strong>df_dirty_data</strong> and <strong>df_missing_data</strong> are imported , datatype changes are made on import where possible</div>"
   ]
  },
  {
   "cell_type": "code",
   "execution_count": 11,
   "id": "c83e5fb3-0851-46c9-9bee-ecc62ccf1bda",
   "metadata": {},
   "outputs": [],
   "source": [
    "# read the CSV from the local Jupyter Notebook directory \n",
    "# parsing dates on import since dates were objects also change datatype on order_price\n",
    "df_dirty_data = pd.read_csv(dirty_data, parse_dates=['date'], dtype={'order_price': 'float'}) \n",
    "df_missing_data = pd.read_csv(missing_data, parse_dates=['date']) \n",
    "df_warehouses = pd.read_csv(warehouses)\n",
    "df_customer_addresses = pd.read_csv(customer_addresses) #this csv is created in Section 7"
   ]
  },
  {
   "cell_type": "markdown",
   "id": "952b0116-adff-45ee-96bd-b089410d845a",
   "metadata": {
    "toc-hr-collapsed": true
   },
   "source": [
    "## Data Review\n",
    "***"
   ]
  },
  {
   "cell_type": "markdown",
   "id": "849d9fa2-d21f-4964-b2b7-98eef342b08a",
   "metadata": {},
   "source": [
    "### df_dirty_data dataframe review"
   ]
  },
  {
   "cell_type": "code",
   "execution_count": null,
   "id": "388aeae0-cca8-4d2b-a240-4c0c09b1c40e",
   "metadata": {},
   "outputs": [],
   "source": [
    "type(df_dirty_data)"
   ]
  },
  {
   "cell_type": "code",
   "execution_count": null,
   "id": "bb2ae2d7-edcf-4cec-98d3-066e3a9f1f56",
   "metadata": {
    "tags": []
   },
   "outputs": [],
   "source": [
    "print(df_dirty_data.columns)"
   ]
  },
  {
   "cell_type": "code",
   "execution_count": null,
   "id": "1720377b-2e41-439d-b8c9-e80a9688850d",
   "metadata": {
    "tags": []
   },
   "outputs": [],
   "source": [
    "# will use display command for better tabular formatting in jupyter Notebook\n",
    "display(df_dirty_data.head(10))"
   ]
  },
  {
   "cell_type": "code",
   "execution_count": null,
   "id": "10acd33b-e9ec-4111-8c62-8db0daa1861f",
   "metadata": {},
   "outputs": [],
   "source": [
    "# will use display command for better tabular formatting in jupyter Notebook\n",
    "display(df_dirty_data.describe())"
   ]
  },
  {
   "cell_type": "code",
   "execution_count": null,
   "id": "6a944981-e550-49b6-9203-a451ea533b9b",
   "metadata": {},
   "outputs": [],
   "source": [
    "print(df_dirty_data.info())"
   ]
  },
  {
   "cell_type": "code",
   "execution_count": null,
   "id": "7bc22bf2-f085-4b6d-bc84-1cdca978d4c5",
   "metadata": {},
   "outputs": [],
   "source": [
    "print(df_dirty_data.shape)"
   ]
  },
  {
   "cell_type": "code",
   "execution_count": null,
   "id": "e43166f6-aa90-45df-87f0-fdf5b3003015",
   "metadata": {},
   "outputs": [],
   "source": [
    "print(df_dirty_data.isna().any())"
   ]
  },
  {
   "cell_type": "code",
   "execution_count": null,
   "id": "65e724c4-939d-4ab8-a754-3013a745c859",
   "metadata": {},
   "outputs": [],
   "source": [
    "print(df_dirty_data.isna().sum())"
   ]
  },
  {
   "cell_type": "markdown",
   "id": "6d52ed62-38b9-4c5d-bfd4-567f4267f1f0",
   "metadata": {},
   "source": [
    "### df_missing_data dataframe review"
   ]
  },
  {
   "cell_type": "code",
   "execution_count": null,
   "id": "b7550627-ac18-4396-b32e-b842880fbd12",
   "metadata": {
    "tags": []
   },
   "outputs": [],
   "source": [
    "type(df_missing_data)"
   ]
  },
  {
   "cell_type": "code",
   "execution_count": null,
   "id": "627579ee-6649-4b88-bf58-0419e4de0e6e",
   "metadata": {},
   "outputs": [],
   "source": [
    "print(df_missing_data.columns)"
   ]
  },
  {
   "cell_type": "code",
   "execution_count": null,
   "id": "fccae01e-e519-444c-826d-ec912fe11314",
   "metadata": {
    "tags": []
   },
   "outputs": [],
   "source": [
    "display(df_missing_data.head(10))"
   ]
  },
  {
   "cell_type": "code",
   "execution_count": null,
   "id": "2ac9b672-f316-445e-8264-4c44199f7901",
   "metadata": {},
   "outputs": [],
   "source": [
    "display(df_missing_data.describe())"
   ]
  },
  {
   "cell_type": "code",
   "execution_count": null,
   "id": "53ab0018-fb3b-4122-b1be-82fa074d361c",
   "metadata": {},
   "outputs": [],
   "source": [
    "print(df_missing_data.info())"
   ]
  },
  {
   "cell_type": "code",
   "execution_count": null,
   "id": "fb757aae-f190-428d-80a8-8d7f7ef912f2",
   "metadata": {},
   "outputs": [],
   "source": [
    "print(df_missing_data.shape)"
   ]
  },
  {
   "cell_type": "code",
   "execution_count": null,
   "id": "60d385cb-8222-492a-a051-dc93aaa40e42",
   "metadata": {},
   "outputs": [],
   "source": [
    "print(df_missing_data.isna().any())"
   ]
  },
  {
   "cell_type": "code",
   "execution_count": null,
   "id": "6b889eec-f06f-4fe2-9ee6-a2d1ca19158a",
   "metadata": {},
   "outputs": [],
   "source": [
    "print(df_missing_data.isna().sum())"
   ]
  },
  {
   "cell_type": "markdown",
   "id": "2991f09a-c51c-4b0b-bb18-22deb27bc6b9",
   "metadata": {
    "tags": []
   },
   "source": [
    "### df_warehouses dataframe review"
   ]
  },
  {
   "cell_type": "code",
   "execution_count": null,
   "id": "081ae7ad-8b7f-4215-ae80-80958a0bf4b7",
   "metadata": {},
   "outputs": [],
   "source": [
    "type(df_warehouses)"
   ]
  },
  {
   "cell_type": "code",
   "execution_count": null,
   "id": "8cda7604-8aa6-406c-8fde-63c768656c33",
   "metadata": {},
   "outputs": [],
   "source": [
    "print(df_warehouses.columns)"
   ]
  },
  {
   "cell_type": "code",
   "execution_count": null,
   "id": "8177f7a7-e30c-4293-a2bf-3907d6b40ab4",
   "metadata": {},
   "outputs": [],
   "source": [
    "type(df_warehouses)"
   ]
  },
  {
   "cell_type": "code",
   "execution_count": null,
   "id": "6e38d688-feab-48fb-a875-da67a9a65db9",
   "metadata": {},
   "outputs": [],
   "source": [
    "display(df_warehouses.head())"
   ]
  },
  {
   "cell_type": "code",
   "execution_count": null,
   "id": "5fef5255-c30a-4ee0-b949-a435764888d1",
   "metadata": {},
   "outputs": [],
   "source": [
    "display(df_warehouses.describe())"
   ]
  },
  {
   "cell_type": "code",
   "execution_count": null,
   "id": "049279d6-671b-4c9b-b6e4-26b11891567a",
   "metadata": {},
   "outputs": [],
   "source": [
    "print(df_warehouses.info())"
   ]
  },
  {
   "cell_type": "code",
   "execution_count": null,
   "id": "acf81536-9f60-4800-96fb-b3533a8ec833",
   "metadata": {},
   "outputs": [],
   "source": [
    "print(df_warehouses.shape)"
   ]
  },
  {
   "cell_type": "code",
   "execution_count": null,
   "id": "e2c05942-e334-4370-987b-854ab9e2883f",
   "metadata": {},
   "outputs": [],
   "source": [
    "print(df_warehouses.isna().any())"
   ]
  },
  {
   "cell_type": "code",
   "execution_count": null,
   "id": "3e09a714-c0db-4e49-8587-0271437ab46e",
   "metadata": {},
   "outputs": [],
   "source": [
    "print(df_warehouses.isna().sum())"
   ]
  },
  {
   "cell_type": "markdown",
   "id": "71b30b67-14b1-4b96-bb7a-789f19abf164",
   "metadata": {
    "tags": []
   },
   "source": [
    "### df_customer_addresses dataframe review"
   ]
  },
  {
   "cell_type": "markdown",
   "id": "ca0522b1-a868-453a-b0a1-6bd3fe66f125",
   "metadata": {},
   "source": [
    "[This DataFrame is created in Section 7](#df_customer_addresses)"
   ]
  },
  {
   "cell_type": "code",
   "execution_count": null,
   "id": "5247a9ef-06bb-49fd-bb5d-95d187cddba2",
   "metadata": {},
   "outputs": [],
   "source": [
    "type(df_customer_addresses)"
   ]
  },
  {
   "cell_type": "code",
   "execution_count": null,
   "id": "775bd391-0a2b-4c69-bd6b-1c2702111e38",
   "metadata": {},
   "outputs": [],
   "source": [
    "print(df_customer_addresses.columns)"
   ]
  },
  {
   "cell_type": "code",
   "execution_count": null,
   "id": "203a16de-e1cd-42ac-abb5-0217097e816b",
   "metadata": {},
   "outputs": [],
   "source": [
    "type(df_customer_addresses)"
   ]
  },
  {
   "cell_type": "code",
   "execution_count": null,
   "id": "b84e827d-4323-42fb-bc0e-3799f1376d35",
   "metadata": {},
   "outputs": [],
   "source": [
    "display(df_customer_addresses.head())"
   ]
  },
  {
   "cell_type": "code",
   "execution_count": null,
   "id": "fe56fba0-921e-4044-9485-6d4dada27d56",
   "metadata": {},
   "outputs": [],
   "source": [
    "display(df_customer_addresses.describe())"
   ]
  },
  {
   "cell_type": "code",
   "execution_count": null,
   "id": "87b396c5-dfef-4ecb-89d2-dcdb43564b76",
   "metadata": {},
   "outputs": [],
   "source": [
    "print(df_customer_addresses.info())"
   ]
  },
  {
   "cell_type": "code",
   "execution_count": null,
   "id": "8b7f1a8c-5e54-4b6e-9af7-d6fd8e464a4d",
   "metadata": {},
   "outputs": [],
   "source": [
    "print(df_customer_addresses.shape)"
   ]
  },
  {
   "cell_type": "code",
   "execution_count": null,
   "id": "121c8937-b6a9-497f-8603-d1a52a993af3",
   "metadata": {},
   "outputs": [],
   "source": [
    "print(df_customer_addresses.isna().any())"
   ]
  },
  {
   "cell_type": "code",
   "execution_count": null,
   "id": "58d8482a-08c1-438c-b55b-b8900f8953eb",
   "metadata": {},
   "outputs": [],
   "source": [
    "print(df_customer_addresses.isna().sum())"
   ]
  },
  {
   "cell_type": "markdown",
   "id": "fb4272c9-8867-4bd9-a41f-10e73d30da47",
   "metadata": {},
   "source": [
    "## Create Indexes"
   ]
  },
  {
   "cell_type": "code",
   "execution_count": null,
   "id": "1cf3a19d-1ef6-4abf-bd1b-29df3cd5a5dd",
   "metadata": {},
   "outputs": [],
   "source": [
    "# check for orderid uniqueness in df_dirty_data\n",
    "duplicate_dirty_data = df_dirty_data[df_dirty_data.duplicated(['order_id'])]\n",
    "print(duplicate_dirty_data)"
   ]
  },
  {
   "cell_type": "code",
   "execution_count": null,
   "id": "c2d466e4-8413-40de-b887-f9225fc55dce",
   "metadata": {},
   "outputs": [],
   "source": [
    "# check for orderid uniqueness in df_missing_data \n",
    "duplicate_missing_data = df_missing_data[df_missing_data.duplicated(['order_id'])]\n",
    "print(duplicate_missing_data)"
   ]
  },
  {
   "cell_type": "code",
   "execution_count": null,
   "id": "0fe0ba84-1b0f-4e6e-a8f3-fadf078a8222",
   "metadata": {},
   "outputs": [],
   "source": [
    "# create an order_id index on df_dirty_data\n",
    "df_dirty_data.set_index('order_id',inplace=True)"
   ]
  },
  {
   "cell_type": "code",
   "execution_count": null,
   "id": "65b49006-e9c6-4203-a52b-41a8c9ef66ae",
   "metadata": {},
   "outputs": [],
   "source": [
    "# create an order_id index on df_missing_data\n",
    "df_missing_data.set_index('order_id',inplace=True)"
   ]
  },
  {
   "cell_type": "code",
   "execution_count": null,
   "id": "dcf266b5-12a8-49d7-b16c-b6b02e7314a6",
   "metadata": {},
   "outputs": [],
   "source": [
    "print(df_dirty_data.index)"
   ]
  },
  {
   "cell_type": "code",
   "execution_count": null,
   "id": "6e9cde49-6d1c-42c7-97a4-76566d5f5c7a",
   "metadata": {},
   "outputs": [],
   "source": [
    "print(df_missing_data.index)"
   ]
  },
  {
   "cell_type": "markdown",
   "id": "68e00d95-1fe5-467d-a6fd-f6bac3e289ec",
   "metadata": {
    "toc-hr-collapsed": true
   },
   "source": [
    "# Detect and fix errors in df_dirty_data DataFrame\n",
    "***"
   ]
  },
  {
   "cell_type": "markdown",
   "id": "2ed979e2-08f5-4f8d-833b-0ff1f8bd2293",
   "metadata": {},
   "source": [
    "<div class=\"alert alert-block alert-info\"><b></b>Work is done here to fix anomolous data issues with <strong>df_dirty_data</strong> DataFrame</div>"
   ]
  },
  {
   "cell_type": "code",
   "execution_count": null,
   "id": "9361a438-1305-4151-ac45-4c38e2e6422b",
   "metadata": {},
   "outputs": [],
   "source": [
    "# show missing values - none found\n",
    "print(df_dirty_data.isna().sum())"
   ]
  },
  {
   "cell_type": "code",
   "execution_count": null,
   "id": "ccc92a0b-3448-4273-87fa-2b46e92cafc1",
   "metadata": {},
   "outputs": [],
   "source": [
    "print(df_dirty_data.info())"
   ]
  },
  {
   "cell_type": "code",
   "execution_count": null,
   "id": "0e5aabd5-a1f0-456f-a6c2-e2f3dc1933d7",
   "metadata": {},
   "outputs": [],
   "source": [
    "display(df_dirty_data.head())"
   ]
  },
  {
   "cell_type": "code",
   "execution_count": null,
   "id": "2dc47964-f593-4e2b-81c0-50a0491bc831",
   "metadata": {},
   "outputs": [],
   "source": [
    "columns = df_dirty_data.columns\n",
    "print(len(columns))"
   ]
  },
  {
   "cell_type": "markdown",
   "id": "d810b761-6b69-4fc3-a933-b7dc6b42da2d",
   "metadata": {},
   "source": [
    "### Rename 'nearest_warehouse' values"
   ]
  },
  {
   "cell_type": "code",
   "execution_count": null,
   "id": "76849294-3b95-452a-b20c-1487f5c1ea13",
   "metadata": {},
   "outputs": [],
   "source": [
    "# getting the unique values for 'nearest_warehouse'\n",
    "nearest_warehouse = df_dirty_data['nearest_warehouse'].sort_values().unique()\n",
    "print(nearest_warehouse)"
   ]
  },
  {
   "cell_type": "code",
   "execution_count": null,
   "id": "ad7b1529-be5e-4704-b864-e60df248ab05",
   "metadata": {},
   "outputs": [],
   "source": [
    "df_dirty_data['nearest_warehouse'] = df_dirty_data['nearest_warehouse'].str.title()"
   ]
  },
  {
   "cell_type": "markdown",
   "id": "5268fe2e-5fb5-43c2-9fcc-cbbf3d2d8eee",
   "metadata": {},
   "source": [
    "### Rename 'season' values"
   ]
  },
  {
   "cell_type": "code",
   "execution_count": null,
   "id": "cefda4bb-ba21-444f-8954-dca0099c9ad0",
   "metadata": {},
   "outputs": [],
   "source": [
    "# getting the unique values for 'season'\n",
    "season = df_dirty_data['season'].sort_values().unique()\n",
    "print(season)"
   ]
  },
  {
   "cell_type": "code",
   "execution_count": null,
   "id": "7e990bdf-e85d-4f7b-be15-6a10dcee0654",
   "metadata": {},
   "outputs": [],
   "source": [
    "df_dirty_data['season'] = df_dirty_data['season'].str.title()"
   ]
  },
  {
   "cell_type": "markdown",
   "id": "b3916d84-e645-4438-b4e6-55464414b1ab",
   "metadata": {},
   "source": [
    "### Check 'order_price' and 'order_total' some values dont seem correct"
   ]
  },
  {
   "cell_type": "code",
   "execution_count": null,
   "id": "bbe7485b-c9d6-4f92-b77a-42111267b5e9",
   "metadata": {},
   "outputs": [],
   "source": []
  },
  {
   "cell_type": "code",
   "execution_count": 107,
   "id": "1b531c69-1e5c-43c2-8032-6cca59b5bd83",
   "metadata": {},
   "outputs": [
    {
     "name": "stdout",
     "output_type": "stream",
     "text": [
      "Q2 quantile of order_price :  12807.5\n",
      "Q1 quantile of order_price :  7050.0\n",
      "Q3 quantile of order_price :  20360.0\n",
      "100th quantile of order_price :  4002.000000000002\n"
     ]
    }
   ],
   "source": [
    "arr = df_dirty_data['order_price']\n",
    "\n",
    "print(\"Q2 quantile of order_price : \", np.quantile(arr, .50))\n",
    "print(\"Q1 quantile of order_price : \", np.quantile(arr, .25))\n",
    "print(\"Q3 quantile of order_price : \", np.quantile(arr, .75))\n",
    "print(\"100th quantile of order_price : \", np.quantile(arr, .1))"
   ]
  },
  {
   "cell_type": "code",
   "execution_count": 108,
   "id": "93d54746-631c-4f5e-b5e6-c888f49a5d63",
   "metadata": {},
   "outputs": [
    {
     "name": "stdout",
     "output_type": "stream",
     "text": [
      "Q2 quantile of order_total :  11293.96\n",
      "Q1 quantile of order_total :  6454.735\n",
      "Q3 quantile of order_total :  18119.1875\n",
      "100th quantile of order_total :  3747.313000000001\n"
     ]
    }
   ],
   "source": [
    "arr = df_dirty_data['order_total']\n",
    "\n",
    "print(\"Q2 quantile of order_total : \", np.quantile(arr, .50))\n",
    "print(\"Q1 quantile of order_total : \", np.quantile(arr, .25))\n",
    "print(\"Q3 quantile of order_total : \", np.quantile(arr, .75))\n",
    "print(\"100th quantile of order_total : \", np.quantile(arr, .1))"
   ]
  },
  {
   "cell_type": "markdown",
   "id": "a902ac28-3373-4228-802d-0799438f0c51",
   "metadata": {},
   "source": [
    "#### visually comparing 'shopping_cart'  'order_price'  'delivery_charges'  'coupon_discount'  'order_total' "
   ]
  },
  {
   "cell_type": "code",
   "execution_count": null,
   "id": "2b4e66fd-861f-45d7-87c4-1f674f5d3f59",
   "metadata": {},
   "outputs": [],
   "source": [
    "# sorted by 'order_total','order_price'\n",
    "df_dirty_data[['shopping_cart','order_price','delivery_charges','coupon_discount','order_total']].sort_values(ascending = False, by=['order_total','order_price']).head(10)"
   ]
  },
  {
   "cell_type": "code",
   "execution_count": null,
   "id": "429a8759-83c1-45fc-bd95-3dc52002b4b7",
   "metadata": {},
   "outputs": [],
   "source": [
    "# sorted by 'order_price','order_total'\n",
    "df_dirty_data[['shopping_cart','order_price','delivery_charges','coupon_discount','order_total']].sort_values(ascending = False, by=['order_price','order_total']).head(10)"
   ]
  },
  {
   "cell_type": "code",
   "execution_count": null,
   "id": "8a151a53-7a2f-419f-a7d8-39f12737f569",
   "metadata": {},
   "outputs": [],
   "source": [
    "# sorted by 'order_price','shopping_cart' perhaps anomolies are from items purchased \n",
    "df_dirty_data[['shopping_cart','order_price','delivery_charges','coupon_discount','order_total']].sort_values(ascending = False, by=['order_price','shopping_cart']).head(10)"
   ]
  },
  {
   "cell_type": "code",
   "execution_count": null,
   "id": "b172843e-dc29-4b00-bdd2-61e0d6495f9b",
   "metadata": {},
   "outputs": [],
   "source": [
    "pd.set_option('display.max_colwidth', 100)\n",
    "df_dirty_data[['shopping_cart','order_price','delivery_charges','coupon_discount','order_total']].sort_values(ascending = True, by=['order_price']).head(40)"
   ]
  },
  {
   "cell_type": "code",
   "execution_count": null,
   "id": "aacb9129-97dc-40e6-9a7c-0af3cd037fc1",
   "metadata": {},
   "outputs": [],
   "source": [
    "pd.set_option('max_colwidth', 100)\n",
    "df_shopping_cart = df_dirty_data[['shopping_cart','order_price']]\n",
    "\n",
    "# df_shopping_cart_filter = df_shopping_cart[lambda row : row['shopping_cart'].str.contains('Thunder line.*Lucent 330S' ,regex=True)]\n",
    "df_shopping_cart_filter = df_shopping_cart[lambda row : row['shopping_cart'].str.contains('Thunder line.*Lucent 330S|Lucent 330S.*Thunder line' ,regex=True)].head(40)\n",
    "\n",
    "df_shopping_cart_filter.sort_values('shopping_cart')\n",
    "# 'Thunder line' ,'Lucent 330S' ,'Alcon 10', 'Universe Note', 'Olivia x460', 'Candle Inferno', 'iAssist Line', 'iStream', 'Toshika 750', 'pearTV'"
   ]
  },
  {
   "cell_type": "code",
   "execution_count": 146,
   "id": "61ba99cd-ee32-47eb-bfaa-a45d1d5e271a",
   "metadata": {},
   "outputs": [
    {
     "data": {
      "image/png": "[encoded data removed]",
      "text/plain": [
       "<Figure size 432x288 with 1 Axes>"
      ]
     },
     "metadata": {
      "needs_background": "light"
     },
     "output_type": "display_data"
    }
   ],
   "source": [
    "# if we look at order_price versus order_total \n",
    "sns.scatterplot(data=df_dirty_data,y='order_total', x='order_price');"
   ]
  },
  {
   "cell_type": "code",
   "execution_count": 109,
   "id": "317342b6-2268-4af6-9a18-dbea8ec17d61",
   "metadata": {},
   "outputs": [
    {
     "name": "stdout",
     "output_type": "stream",
     "text": [
      "Minimum order_price 585.0\n",
      "Minimum order_total 639.29\n",
      "Maximum order_price 947691.0\n",
      "Maximum order_total 5688269.6\n"
     ]
    }
   ],
   "source": [
    "# Minimum and maximum order_price versus order_total \n",
    "print('Minimum order_price ' + str(df_dirty_data['order_price'].min()));\n",
    "print('Minimum order_total ' + str(df_dirty_data['order_total'].min()));\n",
    "print('Maximum order_price ' + str(df_dirty_data['order_price'].max()));\n",
    "print('Maximum order_total ' + str(df_dirty_data['order_total'].max()));"
   ]
  },
  {
   "cell_type": "markdown",
   "id": "fffafabd-8a97-4087-aee8-fa195dc24f69",
   "metadata": {},
   "source": [
    "#### calculating the actual order_total that dont add up from 'order_price' 'delivery_charges' 'coupon_discount' , listing those order_ids "
   ]
  },
  {
   "cell_type": "code",
   "execution_count": 133,
   "id": "65b21b33-9f25-4353-b58f-87f3ff1d97af",
   "metadata": {},
   "outputs": [],
   "source": [
    "# lets find where (order_price - coupon_discount + delivery_charges != order_total) dont add up \n",
    "# we can use function get_missing_order_total to get order_id where they dont match \n",
    "# add to new dataframe df_incorrect_order_total\n",
    "\n",
    "df_incorrect_order_total = pd.DataFrame()\n",
    "\n",
    "for i, row in df_dirty_data.iterrows():\n",
    "    if df_dirty_data.at[i,'order_total'] != get_missing_order_total(df_dirty_data.at[i,'order_price'],df_dirty_data.at[i,'delivery_charges'],df_dirty_data.at[i,'coupon_discount']):\n",
    "        df_incorrect_order_total = df_incorrect_order_total.append({'customer_id':i,\n",
    "                'order_id':df_dirty_data.at[i,'order_id'],      \n",
    "                'order_price':df_dirty_data.at[i,'order_price'],                                 \n",
    "                'delivery_charges':df_dirty_data.at[i,'delivery_charges'],\n",
    "                'coupon_discount':df_dirty_data.at[i,'coupon_discount'], \n",
    "                'order_total':df_dirty_data.at[i,'order_total']\n",
    "               },ignore_index=True)"
   ]
  },
  {
   "cell_type": "code",
   "execution_count": 150,
   "id": "db3338b8-fba2-4ac5-b505-85ab440a4088",
   "metadata": {},
   "outputs": [
    {
     "data": {
      "text/html": [
       "<div>\n",
       "<style scoped>\n",
       "    .dataframe tbody tr th:only-of-type {\n",
       "        vertical-align: middle;\n",
       "    }\n",
       "\n",
       "    .dataframe tbody tr th {\n",
       "        vertical-align: top;\n",
       "    }\n",
       "\n",
       "    .dataframe thead th {\n",
       "        text-align: right;\n",
       "    }\n",
       "</style>\n",
       "<table border=\"1\" class=\"dataframe\">\n",
       "  <thead>\n",
       "    <tr style=\"text-align: right;\">\n",
       "      <th></th>\n",
       "      <th>customer_id</th>\n",
       "      <th>order_id</th>\n",
       "      <th>order_price</th>\n",
       "      <th>delivery_charges</th>\n",
       "      <th>coupon_discount</th>\n",
       "      <th>order_total</th>\n",
       "    </tr>\n",
       "  </thead>\n",
       "  <tbody>\n",
       "    <tr>\n",
       "      <th>21</th>\n",
       "      <td>305.0</td>\n",
       "      <td>ORD039111</td>\n",
       "      <td>10820.0</td>\n",
       "      <td>64.03</td>\n",
       "      <td>0.0</td>\n",
       "      <td>5688269.60</td>\n",
       "    </tr>\n",
       "    <tr>\n",
       "      <th>15</th>\n",
       "      <td>267.0</td>\n",
       "      <td>ORD139508</td>\n",
       "      <td>16150.0</td>\n",
       "      <td>62.70</td>\n",
       "      <td>5.0</td>\n",
       "      <td>969651.79</td>\n",
       "    </tr>\n",
       "    <tr>\n",
       "      <th>10</th>\n",
       "      <td>204.0</td>\n",
       "      <td>ORD451441</td>\n",
       "      <td>8790.0</td>\n",
       "      <td>85.53</td>\n",
       "      <td>5.0</td>\n",
       "      <td>967408.88</td>\n",
       "    </tr>\n",
       "    <tr>\n",
       "      <th>1</th>\n",
       "      <td>12.0</td>\n",
       "      <td>ORD124395</td>\n",
       "      <td>19010.0</td>\n",
       "      <td>94.75</td>\n",
       "      <td>0.0</td>\n",
       "      <td>926057.25</td>\n",
       "    </tr>\n",
       "    <tr>\n",
       "      <th>31</th>\n",
       "      <td>385.0</td>\n",
       "      <td>ORD015029</td>\n",
       "      <td>2455.0</td>\n",
       "      <td>77.02</td>\n",
       "      <td>5.0</td>\n",
       "      <td>909463.94</td>\n",
       "    </tr>\n",
       "    <tr>\n",
       "      <th>34</th>\n",
       "      <td>426.0</td>\n",
       "      <td>ORD057375</td>\n",
       "      <td>18460.0</td>\n",
       "      <td>93.52</td>\n",
       "      <td>25.0</td>\n",
       "      <td>665085.66</td>\n",
       "    </tr>\n",
       "    <tr>\n",
       "      <th>14</th>\n",
       "      <td>261.0</td>\n",
       "      <td>ORD244594</td>\n",
       "      <td>22130.0</td>\n",
       "      <td>108.92</td>\n",
       "      <td>25.0</td>\n",
       "      <td>649193.76</td>\n",
       "    </tr>\n",
       "    <tr>\n",
       "      <th>12</th>\n",
       "      <td>238.0</td>\n",
       "      <td>ORD450897</td>\n",
       "      <td>17530.0</td>\n",
       "      <td>79.05</td>\n",
       "      <td>0.0</td>\n",
       "      <td>648477.60</td>\n",
       "    </tr>\n",
       "    <tr>\n",
       "      <th>3</th>\n",
       "      <td>41.0</td>\n",
       "      <td>ORD481832</td>\n",
       "      <td>14070.0</td>\n",
       "      <td>73.33</td>\n",
       "      <td>15.0</td>\n",
       "      <td>620502.30</td>\n",
       "    </tr>\n",
       "    <tr>\n",
       "      <th>17</th>\n",
       "      <td>277.0</td>\n",
       "      <td>ORD131352</td>\n",
       "      <td>7760.0</td>\n",
       "      <td>76.34</td>\n",
       "      <td>5.0</td>\n",
       "      <td>507327.39</td>\n",
       "    </tr>\n",
       "    <tr>\n",
       "      <th>2</th>\n",
       "      <td>31.0</td>\n",
       "      <td>ORD383725</td>\n",
       "      <td>15820.0</td>\n",
       "      <td>64.81</td>\n",
       "      <td>15.0</td>\n",
       "      <td>402307.25</td>\n",
       "    </tr>\n",
       "    <tr>\n",
       "      <th>7</th>\n",
       "      <td>81.0</td>\n",
       "      <td>ORD016018</td>\n",
       "      <td>19165.0</td>\n",
       "      <td>71.34</td>\n",
       "      <td>25.0</td>\n",
       "      <td>393761.23</td>\n",
       "    </tr>\n",
       "    <tr>\n",
       "      <th>24</th>\n",
       "      <td>310.0</td>\n",
       "      <td>ORD028403</td>\n",
       "      <td>9950.0</td>\n",
       "      <td>76.41</td>\n",
       "      <td>25.0</td>\n",
       "      <td>88124.81</td>\n",
       "    </tr>\n",
       "    <tr>\n",
       "      <th>27</th>\n",
       "      <td>351.0</td>\n",
       "      <td>ORD381638</td>\n",
       "      <td>18075.0</td>\n",
       "      <td>79.49</td>\n",
       "      <td>0.0</td>\n",
       "      <td>87224.69</td>\n",
       "    </tr>\n",
       "    <tr>\n",
       "      <th>30</th>\n",
       "      <td>378.0</td>\n",
       "      <td>ORD428011</td>\n",
       "      <td>2455.0</td>\n",
       "      <td>71.64</td>\n",
       "      <td>5.0</td>\n",
       "      <td>82214.42</td>\n",
       "    </tr>\n",
       "    <tr>\n",
       "      <th>16</th>\n",
       "      <td>276.0</td>\n",
       "      <td>ORD063814</td>\n",
       "      <td>21190.0</td>\n",
       "      <td>66.49</td>\n",
       "      <td>15.0</td>\n",
       "      <td>33706.75</td>\n",
       "    </tr>\n",
       "    <tr>\n",
       "      <th>9</th>\n",
       "      <td>156.0</td>\n",
       "      <td>ORD127141</td>\n",
       "      <td>69685.0</td>\n",
       "      <td>92.70</td>\n",
       "      <td>0.0</td>\n",
       "      <td>31212.70</td>\n",
       "    </tr>\n",
       "    <tr>\n",
       "      <th>4</th>\n",
       "      <td>57.0</td>\n",
       "      <td>ORD386513</td>\n",
       "      <td>17410.0</td>\n",
       "      <td>66.70</td>\n",
       "      <td>5.0</td>\n",
       "      <td>22306.28</td>\n",
       "    </tr>\n",
       "    <tr>\n",
       "      <th>32</th>\n",
       "      <td>397.0</td>\n",
       "      <td>ORD057456</td>\n",
       "      <td>653959.0</td>\n",
       "      <td>66.18</td>\n",
       "      <td>5.0</td>\n",
       "      <td>21441.18</td>\n",
       "    </tr>\n",
       "    <tr>\n",
       "      <th>39</th>\n",
       "      <td>495.0</td>\n",
       "      <td>ORD475510</td>\n",
       "      <td>386776.0</td>\n",
       "      <td>59.70</td>\n",
       "      <td>10.0</td>\n",
       "      <td>20174.70</td>\n",
       "    </tr>\n",
       "    <tr>\n",
       "      <th>11</th>\n",
       "      <td>237.0</td>\n",
       "      <td>ORD420200</td>\n",
       "      <td>865916.0</td>\n",
       "      <td>92.90</td>\n",
       "      <td>15.0</td>\n",
       "      <td>19468.65</td>\n",
       "    </tr>\n",
       "    <tr>\n",
       "      <th>18</th>\n",
       "      <td>289.0</td>\n",
       "      <td>ORD339649</td>\n",
       "      <td>597240.0</td>\n",
       "      <td>79.91</td>\n",
       "      <td>5.0</td>\n",
       "      <td>18338.91</td>\n",
       "    </tr>\n",
       "    <tr>\n",
       "      <th>5</th>\n",
       "      <td>67.0</td>\n",
       "      <td>ORD158007</td>\n",
       "      <td>61619.0</td>\n",
       "      <td>79.39</td>\n",
       "      <td>15.0</td>\n",
       "      <td>18316.14</td>\n",
       "    </tr>\n",
       "    <tr>\n",
       "      <th>37</th>\n",
       "      <td>472.0</td>\n",
       "      <td>ORD453668</td>\n",
       "      <td>672832.0</td>\n",
       "      <td>62.82</td>\n",
       "      <td>25.0</td>\n",
       "      <td>17972.82</td>\n",
       "    </tr>\n",
       "    <tr>\n",
       "      <th>6</th>\n",
       "      <td>70.0</td>\n",
       "      <td>ORD122655</td>\n",
       "      <td>655164.0</td>\n",
       "      <td>81.70</td>\n",
       "      <td>10.0</td>\n",
       "      <td>16803.70</td>\n",
       "    </tr>\n",
       "    <tr>\n",
       "      <th>36</th>\n",
       "      <td>455.0</td>\n",
       "      <td>ORD249776</td>\n",
       "      <td>454996.0</td>\n",
       "      <td>79.28</td>\n",
       "      <td>15.0</td>\n",
       "      <td>13628.28</td>\n",
       "    </tr>\n",
       "    <tr>\n",
       "      <th>35</th>\n",
       "      <td>445.0</td>\n",
       "      <td>ORD317652</td>\n",
       "      <td>5630.0</td>\n",
       "      <td>77.85</td>\n",
       "      <td>5.0</td>\n",
       "      <td>13143.99</td>\n",
       "    </tr>\n",
       "    <tr>\n",
       "      <th>19</th>\n",
       "      <td>292.0</td>\n",
       "      <td>ORD253502</td>\n",
       "      <td>13350.0</td>\n",
       "      <td>99.58</td>\n",
       "      <td>15.0</td>\n",
       "      <td>11203.14</td>\n",
       "    </tr>\n",
       "    <tr>\n",
       "      <th>33</th>\n",
       "      <td>404.0</td>\n",
       "      <td>ORD216875</td>\n",
       "      <td>87622.0</td>\n",
       "      <td>78.72</td>\n",
       "      <td>5.0</td>\n",
       "      <td>10808.97</td>\n",
       "    </tr>\n",
       "    <tr>\n",
       "      <th>0</th>\n",
       "      <td>7.0</td>\n",
       "      <td>ORD072312</td>\n",
       "      <td>7960.0</td>\n",
       "      <td>52.28</td>\n",
       "      <td>5.0</td>\n",
       "      <td>10789.79</td>\n",
       "    </tr>\n",
       "    <tr>\n",
       "      <th>25</th>\n",
       "      <td>313.0</td>\n",
       "      <td>ORD496181</td>\n",
       "      <td>461736.0</td>\n",
       "      <td>87.31</td>\n",
       "      <td>25.0</td>\n",
       "      <td>9709.81</td>\n",
       "    </tr>\n",
       "    <tr>\n",
       "      <th>26</th>\n",
       "      <td>335.0</td>\n",
       "      <td>ORD116440</td>\n",
       "      <td>947691.0</td>\n",
       "      <td>90.82</td>\n",
       "      <td>10.0</td>\n",
       "      <td>9266.32</td>\n",
       "    </tr>\n",
       "    <tr>\n",
       "      <th>20</th>\n",
       "      <td>299.0</td>\n",
       "      <td>ORD379975</td>\n",
       "      <td>96385.0</td>\n",
       "      <td>77.51</td>\n",
       "      <td>25.0</td>\n",
       "      <td>8458.76</td>\n",
       "    </tr>\n",
       "    <tr>\n",
       "      <th>29</th>\n",
       "      <td>363.0</td>\n",
       "      <td>ORD130025</td>\n",
       "      <td>98614.0</td>\n",
       "      <td>98.48</td>\n",
       "      <td>15.0</td>\n",
       "      <td>5449.23</td>\n",
       "    </tr>\n",
       "    <tr>\n",
       "      <th>22</th>\n",
       "      <td>307.0</td>\n",
       "      <td>ORD346356</td>\n",
       "      <td>63500.0</td>\n",
       "      <td>107.18</td>\n",
       "      <td>25.0</td>\n",
       "      <td>4622.18</td>\n",
       "    </tr>\n",
       "    <tr>\n",
       "      <th>13</th>\n",
       "      <td>249.0</td>\n",
       "      <td>ORD113085</td>\n",
       "      <td>2757.0</td>\n",
       "      <td>84.54</td>\n",
       "      <td>5.0</td>\n",
       "      <td>4483.04</td>\n",
       "    </tr>\n",
       "    <tr>\n",
       "      <th>28</th>\n",
       "      <td>362.0</td>\n",
       "      <td>ORD349135</td>\n",
       "      <td>2990.0</td>\n",
       "      <td>52.20</td>\n",
       "      <td>25.0</td>\n",
       "      <td>3434.70</td>\n",
       "    </tr>\n",
       "    <tr>\n",
       "      <th>38</th>\n",
       "      <td>474.0</td>\n",
       "      <td>ORD449772</td>\n",
       "      <td>1619.0</td>\n",
       "      <td>106.26</td>\n",
       "      <td>15.0</td>\n",
       "      <td>2443.76</td>\n",
       "    </tr>\n",
       "    <tr>\n",
       "      <th>8</th>\n",
       "      <td>120.0</td>\n",
       "      <td>ORD059126</td>\n",
       "      <td>3552.0</td>\n",
       "      <td>72.82</td>\n",
       "      <td>10.0</td>\n",
       "      <td>2421.82</td>\n",
       "    </tr>\n",
       "    <tr>\n",
       "      <th>23</th>\n",
       "      <td>308.0</td>\n",
       "      <td>ORD165713</td>\n",
       "      <td>585.0</td>\n",
       "      <td>91.79</td>\n",
       "      <td>25.0</td>\n",
       "      <td>639.29</td>\n",
       "    </tr>\n",
       "  </tbody>\n",
       "</table>\n",
       "</div>"
      ],
      "text/plain": [
       "    customer_id   order_id  order_price  delivery_charges  coupon_discount  \\\n",
       "21        305.0  ORD039111      10820.0             64.03              0.0   \n",
       "15        267.0  ORD139508      16150.0             62.70              5.0   \n",
       "10        204.0  ORD451441       8790.0             85.53              5.0   \n",
       "1          12.0  ORD124395      19010.0             94.75              0.0   \n",
       "31        385.0  ORD015029       2455.0             77.02              5.0   \n",
       "34        426.0  ORD057375      18460.0             93.52             25.0   \n",
       "14        261.0  ORD244594      22130.0            108.92             25.0   \n",
       "12        238.0  ORD450897      17530.0             79.05              0.0   \n",
       "3          41.0  ORD481832      14070.0             73.33             15.0   \n",
       "17        277.0  ORD131352       7760.0             76.34              5.0   \n",
       "2          31.0  ORD383725      15820.0             64.81             15.0   \n",
       "7          81.0  ORD016018      19165.0             71.34             25.0   \n",
       "24        310.0  ORD028403       9950.0             76.41             25.0   \n",
       "27        351.0  ORD381638      18075.0             79.49              0.0   \n",
       "30        378.0  ORD428011       2455.0             71.64              5.0   \n",
       "16        276.0  ORD063814      21190.0             66.49             15.0   \n",
       "9         156.0  ORD127141      69685.0             92.70              0.0   \n",
       "4          57.0  ORD386513      17410.0             66.70              5.0   \n",
       "32        397.0  ORD057456     653959.0             66.18              5.0   \n",
       "39        495.0  ORD475510     386776.0             59.70             10.0   \n",
       "11        237.0  ORD420200     865916.0             92.90             15.0   \n",
       "18        289.0  ORD339649     597240.0             79.91              5.0   \n",
       "5          67.0  ORD158007      61619.0             79.39             15.0   \n",
       "37        472.0  ORD453668     672832.0             62.82             25.0   \n",
       "6          70.0  ORD122655     655164.0             81.70             10.0   \n",
       "36        455.0  ORD249776     454996.0             79.28             15.0   \n",
       "35        445.0  ORD317652       5630.0             77.85              5.0   \n",
       "19        292.0  ORD253502      13350.0             99.58             15.0   \n",
       "33        404.0  ORD216875      87622.0             78.72              5.0   \n",
       "0           7.0  ORD072312       7960.0             52.28              5.0   \n",
       "25        313.0  ORD496181     461736.0             87.31             25.0   \n",
       "26        335.0  ORD116440     947691.0             90.82             10.0   \n",
       "20        299.0  ORD379975      96385.0             77.51             25.0   \n",
       "29        363.0  ORD130025      98614.0             98.48             15.0   \n",
       "22        307.0  ORD346356      63500.0            107.18             25.0   \n",
       "13        249.0  ORD113085       2757.0             84.54              5.0   \n",
       "28        362.0  ORD349135       2990.0             52.20             25.0   \n",
       "38        474.0  ORD449772       1619.0            106.26             15.0   \n",
       "8         120.0  ORD059126       3552.0             72.82             10.0   \n",
       "23        308.0  ORD165713        585.0             91.79             25.0   \n",
       "\n",
       "    order_total  \n",
       "21   5688269.60  \n",
       "15    969651.79  \n",
       "10    967408.88  \n",
       "1     926057.25  \n",
       "31    909463.94  \n",
       "34    665085.66  \n",
       "14    649193.76  \n",
       "12    648477.60  \n",
       "3     620502.30  \n",
       "17    507327.39  \n",
       "2     402307.25  \n",
       "7     393761.23  \n",
       "24     88124.81  \n",
       "27     87224.69  \n",
       "30     82214.42  \n",
       "16     33706.75  \n",
       "9      31212.70  \n",
       "4      22306.28  \n",
       "32     21441.18  \n",
       "39     20174.70  \n",
       "11     19468.65  \n",
       "18     18338.91  \n",
       "5      18316.14  \n",
       "37     17972.82  \n",
       "6      16803.70  \n",
       "36     13628.28  \n",
       "35     13143.99  \n",
       "19     11203.14  \n",
       "33     10808.97  \n",
       "0      10789.79  \n",
       "25      9709.81  \n",
       "26      9266.32  \n",
       "20      8458.76  \n",
       "29      5449.23  \n",
       "22      4622.18  \n",
       "13      4483.04  \n",
       "28      3434.70  \n",
       "38      2443.76  \n",
       "8       2421.82  \n",
       "23       639.29  "
      ]
     },
     "metadata": {},
     "output_type": "display_data"
    }
   ],
   "source": [
    "display(df_incorrect_order_total.sort_values('order_total', ascending=False))"
   ]
  },
  {
   "cell_type": "markdown",
   "id": "1cfaa8e9-b10c-481c-887f-003d83104d7a",
   "metadata": {},
   "source": [
    "#### calculating the actual order_price that dont add up from 'order_total' 'delivery_charges' 'coupon_discount' , listing those order_ids"
   ]
  },
  {
   "cell_type": "code",
   "execution_count": 135,
   "id": "2f7b4795-57e7-48d6-9d0b-a19e329a16aa",
   "metadata": {},
   "outputs": [],
   "source": [
    "# lets find where (order_total - delivery_charges / coupon_discount != order_price) dont add up\n",
    "# we can use function get_missing_order_price to get order_id where they dont match\n",
    "# add to new dataframe df_incorrect_order_price\n",
    "\n",
    "df_incorrect_order_price = pd.DataFrame()\n",
    "\n",
    "for i, row in df_dirty_data.iterrows():\n",
    "    if df_dirty_data.at[i,'order_price'] != get_missing_order_price(df_dirty_data.at[i,'order_total'],df_dirty_data.at[i,'delivery_charges'],df_dirty_data.at[i,'coupon_discount']):\n",
    "        df_incorrect_order_price = df_incorrect_order_price.append({'customer_id':i,\n",
    "                'order_id':df_dirty_data.at[i,'order_id'],                                                  \n",
    "                'order_price':df_dirty_data.at[i,'order_price'],                                 \n",
    "                'delivery_charges':df_dirty_data.at[i,'delivery_charges'],\n",
    "                'coupon_discount':df_dirty_data.at[i,'coupon_discount'], \n",
    "                'order_total':df_dirty_data.at[i,'order_total']\n",
    "               },ignore_index=True)\n"
   ]
  },
  {
   "cell_type": "code",
   "execution_count": null,
   "id": "423a7e74-f9df-4498-92e1-5cdb94c41624",
   "metadata": {},
   "outputs": [],
   "source": [
    "df_incorrect_order_price.sort_values('order_total', ascending=False)"
   ]
  },
  {
   "cell_type": "code",
   "execution_count": 148,
   "id": "f5e40aa5-d095-4d22-b5b8-66b304a9a7ce",
   "metadata": {},
   "outputs": [
    {
     "name": "stdout",
     "output_type": "stream",
     "text": [
      "40\n"
     ]
    }
   ],
   "source": [
    "# we can conclude that 40 orders have incorrect calculations for either order_price or order_total, \n",
    "# the next step woud be to calculate the per item cost in 'shopping_cart' to see where the discrepancies,but i believe it would be out of scope for this assignment\n",
    "df_incorrect_order_id = df_incorrect_order_price['order_id'] = df_incorrect_order_total['order_id']\n",
    "print(df_incorrect_order_id.count())"
   ]
  },
  {
   "cell_type": "code",
   "execution_count": 147,
   "id": "47eaaaa6-0f28-4f69-b4b2-85085d14c0d1",
   "metadata": {},
   "outputs": [
    {
     "name": "stdout",
     "output_type": "stream",
     "text": [
      "0     ORD072312\n",
      "1     ORD124395\n",
      "2     ORD383725\n",
      "3     ORD481832\n",
      "4     ORD386513\n",
      "5     ORD158007\n",
      "6     ORD122655\n",
      "7     ORD016018\n",
      "8     ORD059126\n",
      "9     ORD127141\n",
      "10    ORD451441\n",
      "11    ORD420200\n",
      "12    ORD450897\n",
      "13    ORD113085\n",
      "14    ORD244594\n",
      "15    ORD139508\n",
      "16    ORD063814\n",
      "17    ORD131352\n",
      "18    ORD339649\n",
      "19    ORD253502\n",
      "20    ORD379975\n",
      "21    ORD039111\n",
      "22    ORD346356\n",
      "23    ORD165713\n",
      "24    ORD028403\n",
      "25    ORD496181\n",
      "26    ORD116440\n",
      "27    ORD381638\n",
      "28    ORD349135\n",
      "29    ORD130025\n",
      "30    ORD428011\n",
      "31    ORD015029\n",
      "32    ORD057456\n",
      "33    ORD216875\n",
      "34    ORD057375\n",
      "35    ORD317652\n",
      "36    ORD249776\n",
      "37    ORD453668\n",
      "38    ORD449772\n",
      "39    ORD475510\n",
      "Name: order_id, dtype: object\n"
     ]
    }
   ],
   "source": [
    "# order_id's that are incorrect\n",
    "print(df_incorrect_order_id)"
   ]
  },
  {
   "cell_type": "markdown",
   "id": "4cd35de4-47cf-4043-ac0e-17c18cb01ca4",
   "metadata": {},
   "source": [
    "### Check Latitude and Longitude, some values seem incorrect , some latitude values are negative some are not"
   ]
  },
  {
   "cell_type": "markdown",
   "id": "b082dab7-e6d6-47d0-b407-f6b4026b42ac",
   "metadata": {},
   "source": [
    "#### Check Latitude and Longitude in df_dirty_data"
   ]
  },
  {
   "cell_type": "code",
   "execution_count": null,
   "id": "9f4116b3-a8fd-4241-a168-90624ff64eb9",
   "metadata": {},
   "outputs": [],
   "source": [
    "max_long = df_dirty_data['customer_long'].max();\n",
    "min_long = df_dirty_data['customer_long'].min()\n",
    "max_lat = df_dirty_data['customer_lat'].max();\n",
    "min_lat = df_dirty_data['customer_lat'].min()\n",
    "print('max_longitude:',max_long)\n",
    "print('max_latitude:',max_lat)\n",
    "print('min_longitude:',min_long)\n",
    "print('min_latitude:',min_lat)"
   ]
  },
  {
   "cell_type": "code",
   "execution_count": null,
   "id": "1216baab-f2b3-4e5b-85e2-820629005fb0",
   "metadata": {},
   "outputs": [],
   "source": [
    "#  using a scatterplot to visualise discrepancies in Latitude and Longitude in the df_dirty_data DataFrame\n",
    "#  the scatterplot shows there are some positive latitude values , we'll map these to see where they are\n",
    "sns.scatterplot(x='customer_lat', y='customer_long' ,data=df_dirty_data)\n",
    "plt.title('Customer Coordinates')\n",
    "plt.xlabel('Longitude')\n",
    "plt.ylabel('Latitude')\n",
    "# plt.ylim(144, 145)\n",
    "# plt.xlim(None, None)\n",
    "height = 20\n",
    "plt.show()"
   ]
  },
  {
   "cell_type": "code",
   "execution_count": null,
   "id": "28e55de6-fb83-4729-926a-0eb3dfea873e",
   "metadata": {},
   "outputs": [],
   "source": [
    "# map shows coordinates are in the Melbourne area and off the Japanese coast\n",
    "# zoom on the map for closer inspection\n",
    "fig = px.scatter_mapbox(df_dirty_data, lat=\"customer_lat\", lon=\"customer_long\",color_discrete_sequence=[\"DarkRed\"], zoom=2, height=600, center=dict(lat=-4, lon=160), size='customer_long')\n",
    "fig.update_layout(mapbox_style='open-street-map',margin={'r':500,'t':0,'l':0,'b':0})\n",
    "fig.show()"
   ]
  },
  {
   "cell_type": "code",
   "execution_count": null,
   "id": "027c8fa2-8179-4b56-8e63-b358fdb927e5",
   "metadata": {},
   "outputs": [],
   "source": [
    "# df_dirty_data.describe shows the max value\n",
    "display(df_dirty_data.describe()[['customer_lat']])\n",
    "# min and percentiles are in the -37 decimal range with the exception of the max 37, I suggest these latitudes should be negative, will change and observe the difference \n",
    "# if making the values negative re-positions to Melbourne it is probably ok"
   ]
  },
  {
   "cell_type": "code",
   "execution_count": null,
   "id": "38d5f2f9-73ea-441d-86f6-1e56578c5314",
   "metadata": {},
   "outputs": [],
   "source": [
    "# list all rows where 'customer_lat' is positive\n",
    "positive_customer_lat_to_update = df_dirty_data[df_dirty_data['customer_lat'] > 0 ]\n",
    "display(positive_customer_lat_to_update[['customer_lat']])"
   ]
  },
  {
   "cell_type": "code",
   "execution_count": null,
   "id": "da8258bd-9799-4554-8eae-a033f78d2f04",
   "metadata": {},
   "outputs": [],
   "source": [
    "# getting index where 'customer_lat' is positive\n",
    "positive_customer_lat_indexto_update = df_dirty_data[df_dirty_data['customer_lat'] > 0 ].index\n",
    "print(positive_customer_lat_indexto_update)"
   ]
  },
  {
   "cell_type": "code",
   "execution_count": null,
   "id": "7a4957e6-cf1f-41a9-bba8-ed285fc737fb",
   "metadata": {},
   "outputs": [],
   "source": [
    "# updating missing values for 'nearest_warehouse'\n",
    "for i, row in positive_customer_lat_to_update.iterrows():\n",
    "    df_dirty_data.at[i,'customer_lat'] = convert_to_negative(df_dirty_data.at[i,'customer_lat'])"
   ]
  },
  {
   "cell_type": "code",
   "execution_count": null,
   "id": "d9b989bf-5bfa-491b-b95e-87fdd7e37b77",
   "metadata": {},
   "outputs": [],
   "source": [
    "# list all rows where 'customer_lat' is positive : all fixed\n",
    "positive_customer_lat_to_update = df_dirty_data[df_dirty_data['customer_lat'] > 0 ]\n",
    "positive_customer_lat_to_update"
   ]
  },
  {
   "cell_type": "code",
   "execution_count": null,
   "id": "f48c0622-0671-49a7-975e-3133fc72f30f",
   "metadata": {},
   "outputs": [],
   "source": [
    "#check the indexes for the updated 'customer_lat' --  all done\n",
    "display(df_dirty_data[['customer_lat']].loc[positive_customer_lat_indexto_update])"
   ]
  },
  {
   "cell_type": "code",
   "execution_count": null,
   "id": "bb2090cc-445a-4b55-8978-02302fc6405f",
   "metadata": {},
   "outputs": [],
   "source": [
    "#  using a scatterplot to visualise updated in Latitude and Longitude in the df_dirty_data DataFrame\n",
    "# all values are negative\n",
    "sns.scatterplot(x='customer_lat', y='customer_long' ,data=df_dirty_data)\n",
    "plt.title('Customer Coordinates')\n",
    "plt.xlabel('Longitude')\n",
    "plt.ylabel('Latitude')\n",
    "height = 20\n",
    "plt.show()"
   ]
  },
  {
   "cell_type": "code",
   "execution_count": null,
   "id": "96b7ecfd-1458-4968-b074-97a92c64257c",
   "metadata": {},
   "outputs": [],
   "source": [
    "# check the updated coordinates are in the Melbourne area , all seem to be good, all located downtown Melbourne and north of Melbourne\n",
    "# zoom on the map for closer inspection\n",
    "fig = px.scatter_mapbox(df_dirty_data, lat=\"customer_lat\", lon='customer_long',color_discrete_sequence=['DarkRed'],center=dict(lat=-37.5, lon=145), zoom=7)\n",
    "fig.update_layout(mapbox_style='open-street-map',margin={'r':500,'t':0,'l':0,'b':0})\n",
    "fig.show()"
   ]
  },
  {
   "cell_type": "markdown",
   "id": "02a1bf65-1abc-4a1e-af20-86132ce99539",
   "metadata": {},
   "source": [
    "#### Check Latitude and Longitude in df_missing_data"
   ]
  },
  {
   "cell_type": "code",
   "execution_count": null,
   "id": "3c987149-7be7-4829-8866-89dfa12c96bb",
   "metadata": {},
   "outputs": [],
   "source": [
    "max_long = df_missing_data['customer_long'].max();\n",
    "min_long = df_missing_data['customer_long'].min()\n",
    "max_lat = df_missing_data['customer_lat'].max();\n",
    "min_lat = df_missing_data['customer_lat'].min()\n",
    "print('max_longitude:',max_long)\n",
    "print('max_latitude:',max_lat)\n",
    "print('min_longitude:',min_long)\n",
    "print('min_latitude:',min_lat)"
   ]
  },
  {
   "cell_type": "code",
   "execution_count": null,
   "id": "3f65375c-dafb-4e99-b790-23a8655d45ea",
   "metadata": {},
   "outputs": [],
   "source": [
    "# here we can see the scatterplot contains an even distribution for negative latitude values in the df_missing_data DataFrame\n",
    "sns.scatterplot(x='customer_lat', y='customer_long',data=df_missing_data)\n",
    "plt.title('df_missing_data Latitude and Longitude')\n",
    "# Set x-axis label\n",
    "plt.xlabel('Customer Longitude')\n",
    "# Set y-axis label\n",
    "plt.ylabel('Customer Latitude')\n",
    "plt.show()"
   ]
  },
  {
   "cell_type": "code",
   "execution_count": null,
   "id": "96d8b5ac-99e1-4b4a-9dc6-74338f4ef532",
   "metadata": {},
   "outputs": [],
   "source": [
    "# map shows all coordinates are in the Melbourne area in df_missing_data nothing seems out of order\n",
    "# zoom on the map for closer inspection\n",
    "fig = px.scatter_mapbox(df_missing_data, lat='customer_lat', lon='customer_long',color_discrete_sequence=['DarkRed'], zoom=11)\n",
    "fig.update_layout(mapbox_style='open-street-map',margin={'r':500,'t':0,'l':0,'b':0})\n",
    "fig.show()"
   ]
  },
  {
   "cell_type": "code",
   "execution_count": null,
   "id": "90c39e92-5a88-4239-8947-1758908b3da8",
   "metadata": {},
   "outputs": [],
   "source": []
  },
  {
   "cell_type": "markdown",
   "id": "6aaed04d-fea8-45ce-a5f4-329b25a12af2",
   "metadata": {
    "tags": [],
    "toc-hr-collapsed": true
   },
   "source": [
    "# Detect and Fix missing values in df_missing_data DataFrame\n",
    "***"
   ]
  },
  {
   "cell_type": "markdown",
   "id": "61607484-4a24-46dd-9b0b-990c2aa4cf5d",
   "metadata": {},
   "source": [
    "<div class=\"alert alert-block alert-info\"><b></b>Work is done here to fix missing data issues with <strong>df_missing_data</strong> DataFrame<br><strong>Work was not done to fix missing data in customer_lat, customer_long or is_happy_customer i think these are out of scope</strong></div>"
   ]
  },
  {
   "cell_type": "code",
   "execution_count": null,
   "id": "c682db15-f5d6-409e-88b3-ca59aaeda673",
   "metadata": {},
   "outputs": [],
   "source": [
    "# show missing values\n",
    "print(df_missing_data.isna().sum())"
   ]
  },
  {
   "cell_type": "markdown",
   "id": "c564fe1e-7f75-46ce-bfc7-e2c84ff26133",
   "metadata": {},
   "source": [
    "### Fix missing 'nearest_warehouse' values"
   ]
  },
  {
   "cell_type": "code",
   "execution_count": null,
   "id": "d16e4cc3-f743-4648-90dc-9ba4b5db0581",
   "metadata": {},
   "outputs": [],
   "source": [
    "# getting rows for the missing values for 'nearest_warehouse'\n",
    "nearest_warehouse_to_update = df_missing_data[df_missing_data['nearest_warehouse'].isna()]\n",
    "\n",
    "display(nearest_warehouse_to_update[['nearest_warehouse']])"
   ]
  },
  {
   "cell_type": "code",
   "execution_count": null,
   "id": "6c51e5f4-b943-45a2-a488-6995860371f6",
   "metadata": {},
   "outputs": [],
   "source": [
    "# getting index for the the missing values for 'nearest_warehouse'\n",
    "nearest_warehouse_indexto_update = df_missing_data[df_missing_data['nearest_warehouse'].isna()].index\n",
    "print(nearest_warehouse_indexto_update)"
   ]
  },
  {
   "cell_type": "code",
   "execution_count": null,
   "id": "873f95bb-d899-4656-b359-9cfa29b68af3",
   "metadata": {},
   "outputs": [],
   "source": [
    "# updating missing values for 'nearest_warehouse'\n",
    "for i, row in nearest_warehouse_to_update.iterrows():\n",
    "    df_missing_data.at[i,'nearest_warehouse'] = get_missing_nearest_warehouse(df_missing_data.at[i,'customer_lat'],df_missing_data.at[i,'customer_long'])[0]"
   ]
  },
  {
   "cell_type": "code",
   "execution_count": null,
   "id": "169526c3-92d3-447f-b4ec-5d495d194be1",
   "metadata": {},
   "outputs": [],
   "source": [
    "# no more missing values for 'nearest_warehouse'\n",
    "print(df_missing_data[df_missing_data['nearest_warehouse'].isna()])"
   ]
  },
  {
   "cell_type": "code",
   "execution_count": null,
   "id": "f76da13d-41c2-4141-b2f7-66e9bd7c1f14",
   "metadata": {},
   "outputs": [],
   "source": [
    "#check the indexes for the update 'nearest_warehouse' --  all done\n",
    "display(df_missing_data[['nearest_warehouse']].loc[nearest_warehouse_indexto_update])"
   ]
  },
  {
   "cell_type": "markdown",
   "id": "8771f275-2b8e-4aff-90c5-307463969a02",
   "metadata": {
    "tags": []
   },
   "source": [
    "### Fix missing 'order_price' values"
   ]
  },
  {
   "cell_type": "code",
   "execution_count": null,
   "id": "2caa14e7-b91c-4cf6-9fb1-76918d46a62d",
   "metadata": {},
   "outputs": [],
   "source": [
    "# getting rows for the missing values for 'order_price'\n",
    "order_price_to_update = df_missing_data[df_missing_data['order_price'].isna()]\n",
    "\n",
    "display(order_price_to_update[['order_price']])"
   ]
  },
  {
   "cell_type": "code",
   "execution_count": null,
   "id": "8cfcc664-28ff-4cef-afc8-bada364e6f83",
   "metadata": {},
   "outputs": [],
   "source": [
    "# getting index for the the missing values for 'order_price'\n",
    "order_price_indexto_update = df_missing_data[df_missing_data['order_price'].isna()].index\n",
    "print(order_price_indexto_update)"
   ]
  },
  {
   "cell_type": "code",
   "execution_count": null,
   "id": "a66a1727-22d5-4af5-bb19-537e7fc3a1bb",
   "metadata": {},
   "outputs": [],
   "source": [
    "# updating missing values for 'order_price'\n",
    "for i, row in order_price_to_update.iterrows():\n",
    "    df_missing_data.at[i,'order_price'] = get_missing_order_price(df_missing_data.at[i,'order_total'],df_missing_data.at[i,'delivery_charges'],df_missing_data.at[i,'coupon_discount'])"
   ]
  },
  {
   "cell_type": "code",
   "execution_count": null,
   "id": "a1ba47c5-6d21-4d7d-a8fd-85fce7e8d873",
   "metadata": {},
   "outputs": [],
   "source": [
    "# no more missing values for 'order_price'\n",
    "print(df_missing_data[df_missing_data['order_price'].isna()])"
   ]
  },
  {
   "cell_type": "code",
   "execution_count": null,
   "id": "219ad6ad-84aa-49f7-b2b6-33a17e5aac74",
   "metadata": {
    "tags": []
   },
   "outputs": [],
   "source": [
    "#check the indexes for the update 'order_price' --  all done\n",
    "display(df_missing_data[['order_price']].loc[order_price_indexto_update])"
   ]
  },
  {
   "cell_type": "markdown",
   "id": "5e17d800-1f0f-411a-b0b7-8bdb9e514ff2",
   "metadata": {},
   "source": [
    "### Fix missing 'order_total' values"
   ]
  },
  {
   "cell_type": "code",
   "execution_count": null,
   "id": "6f80a97d-6b87-47b5-a7f3-fc440668862c",
   "metadata": {},
   "outputs": [],
   "source": [
    "# getting rows for the missing values for 'order_total'\n",
    "order_total_to_update = df_missing_data[df_missing_data['order_total'].isna()]\n",
    "\n",
    "display(order_total_to_update[['order_total']])"
   ]
  },
  {
   "cell_type": "code",
   "execution_count": null,
   "id": "b2824bfe-568a-4bd6-b61c-b97794187c59",
   "metadata": {},
   "outputs": [],
   "source": [
    "# getting index for the the missing values for 'order_total'\n",
    "order_total_indexto_update = df_missing_data[df_missing_data['order_total'].isna()].index\n",
    "print(order_total_indexto_update)"
   ]
  },
  {
   "cell_type": "code",
   "execution_count": null,
   "id": "38f0b28a-84d1-4e24-aef4-fc237e17ff7b",
   "metadata": {},
   "outputs": [],
   "source": [
    "# updating missing values for 'order_total'\n",
    "for i, row in order_total_to_update.iterrows():\n",
    "    df_missing_data.at[i,'order_total'] = get_missing_order_total(df_missing_data.at[i,'order_price'],df_missing_data.at[i,'delivery_charges'],df_missing_data.at[i,'coupon_discount'])"
   ]
  },
  {
   "cell_type": "code",
   "execution_count": null,
   "id": "20f04507-5e90-40ba-b580-e47e3cf1e20c",
   "metadata": {},
   "outputs": [],
   "source": [
    "# no more missing values for 'order_total'\n",
    "print(df_missing_data[df_missing_data['order_total'].isna()])"
   ]
  },
  {
   "cell_type": "code",
   "execution_count": null,
   "id": "00ca30d4-1b82-473c-bb9a-72c32dd4395e",
   "metadata": {},
   "outputs": [],
   "source": [
    "#check the indexes for the update 'order_total' --  all done\n",
    "display(df_missing_data[['order_total']].loc[order_total_indexto_update])"
   ]
  },
  {
   "cell_type": "markdown",
   "id": "c7e2caaf-d480-49ba-b594-3eb381606793",
   "metadata": {},
   "source": [
    "### Fix missing 'season' values"
   ]
  },
  {
   "cell_type": "code",
   "execution_count": null,
   "id": "f9fb3dd8-ff34-419a-a18f-e240dbdc461a",
   "metadata": {
    "tags": []
   },
   "outputs": [],
   "source": [
    "# getting rows for the missing values for 'season'\n",
    "season_to_update = df_missing_data[df_missing_data['season'].isna()]\n",
    "\n",
    "display(season_to_update[['season']])"
   ]
  },
  {
   "cell_type": "code",
   "execution_count": null,
   "id": "642a360b-a734-41a9-8a70-a6b86f80bf0e",
   "metadata": {},
   "outputs": [],
   "source": [
    "# getting index for the the missing values for 'order_total'\n",
    "season_indexto_update = df_missing_data[df_missing_data['season'].isna()].index\n",
    "print(season_indexto_update)"
   ]
  },
  {
   "cell_type": "code",
   "execution_count": null,
   "id": "c3ae807b-8e2d-40a6-8b34-1e22e1bece89",
   "metadata": {},
   "outputs": [],
   "source": [
    "# getting the unique values for 'season'\n",
    "seasons = df_missing_data['season'].sort_values().unique()\n",
    "print(seasons)"
   ]
  },
  {
   "cell_type": "code",
   "execution_count": null,
   "id": "17701abf-5888-46d5-aa16-f37e8d2a3cf9",
   "metadata": {},
   "outputs": [],
   "source": [
    "# get the season months from the grouping of the orders..obviously Southern hemisphere - a random lat long shows its Melbourne, Australia area\n",
    "season_months = df_missing_data.groupby([pd.Grouper(key='date', axis=0, freq='M'),'season']).sum().filter(items=['date','season'])\n",
    "(season_months)\n",
    "# summer = months 12,1,2\n",
    "# Autumn = months 3,4,5\n",
    "# Winter = months 6,7,8\n",
    "# Spring = months 9,10,11"
   ]
  },
  {
   "cell_type": "code",
   "execution_count": null,
   "id": "a4802be3-f005-43c9-a552-5ecb979d6360",
   "metadata": {},
   "outputs": [],
   "source": [
    "# updating missing values for 'season'\n",
    "for i, row in season_to_update.iterrows():\n",
    "    df_missing_data.at[i,'season'] = get_missing_season(df_missing_data.at[i,'date'])"
   ]
  },
  {
   "cell_type": "code",
   "execution_count": null,
   "id": "0d41b27c-5368-4cbf-92ca-9923feebf1eb",
   "metadata": {},
   "outputs": [],
   "source": [
    "# no more missing values for 'season'\n",
    "print(df_missing_data[df_missing_data['season'].isna()])"
   ]
  },
  {
   "cell_type": "code",
   "execution_count": null,
   "id": "ba1ad4df-c65e-4ee7-849a-4b830211c12e",
   "metadata": {},
   "outputs": [],
   "source": [
    "#check the indexes for the update 'season' --  all done\n",
    "display(df_missing_data[['season']].loc[order_total_indexto_update])"
   ]
  },
  {
   "cell_type": "markdown",
   "id": "684c7332-b8b5-431a-ab49-2cdaa1c08364",
   "metadata": {},
   "source": [
    "### Fix missing 'distance_to_nearest_warehouse' values"
   ]
  },
  {
   "cell_type": "code",
   "execution_count": null,
   "id": "43ef7bc8-7f6c-4fe8-b1b1-89a230c995b4",
   "metadata": {},
   "outputs": [],
   "source": [
    "# getting rows for the missing values for 'distance_to_nearest_warehouse'\n",
    "distance_to_nearest_warehouse_to_update = df_missing_data[df_missing_data['distance_to_nearest_warehouse'].isna()]\n",
    "\n",
    "display(distance_to_nearest_warehouse_to_update[['distance_to_nearest_warehouse']])"
   ]
  },
  {
   "cell_type": "code",
   "execution_count": null,
   "id": "d5d0961d-5791-479b-9ee2-9c160cc420e4",
   "metadata": {},
   "outputs": [],
   "source": [
    "# getting index for the the missing values for 'distance_to_nearest_warehouse'\n",
    "distance_to_nearest_warehouse_indexto_update = df_missing_data[df_missing_data['distance_to_nearest_warehouse'].isna()].index\n",
    "print(distance_to_nearest_warehouse_indexto_update)"
   ]
  },
  {
   "cell_type": "code",
   "execution_count": null,
   "id": "d587097c-5386-44cc-96a4-c7c9bb96ba97",
   "metadata": {},
   "outputs": [],
   "source": [
    "# updating  missing values for 'nearest_warehouse'\n",
    "# for i in distance_to_nearest_warehouse_indexto_update:\n",
    "# df_missing_data.at[i,'distance_to_nearest_warehouse'] = get_missing_nearest_warehouse(df_missing_data.at[i,'customer_lat'],df_missing_data.at[i,'customer_long'])[1]\n",
    "\n",
    "# updating missing values for 'distance_to_nearest_warehouse'\n",
    "for i, row in distance_to_nearest_warehouse_to_update.iterrows():\n",
    "    df_missing_data.at[i,'distance_to_nearest_warehouse'] = get_missing_nearest_warehouse(df_missing_data.at[i,'customer_lat'],df_missing_data.at[i,'customer_long'])[1]"
   ]
  },
  {
   "cell_type": "code",
   "execution_count": null,
   "id": "f138eac8-9a8a-4491-8ac1-39b5fb3b07e9",
   "metadata": {},
   "outputs": [],
   "source": [
    "# no more missing values for 'distance_to_nearest_warehouse'\n",
    "print(df_missing_data[df_missing_data['distance_to_nearest_warehouse'].isna()])"
   ]
  },
  {
   "cell_type": "code",
   "execution_count": null,
   "id": "cb8eaa1e-d891-4612-9546-f840340c5673",
   "metadata": {},
   "outputs": [],
   "source": [
    "#check the indexes for the update 'season' --  all done\n",
    "display(df_missing_data[['distance_to_nearest_warehouse']].loc[order_total_indexto_update])"
   ]
  },
  {
   "cell_type": "markdown",
   "id": "bbb17f95-98c6-47f7-8b95-58cb14837edb",
   "metadata": {},
   "source": [
    "### Fix missing 'customer_lat' values - not progressing with this: out of scope for this assignment"
   ]
  },
  {
   "cell_type": "code",
   "execution_count": null,
   "id": "bc29ba84-d4a3-469f-99be-8fd15bc04ae0",
   "metadata": {},
   "outputs": [],
   "source": [
    "# show missing 'customer_lat' rows\n",
    "customer_lat_to_update = df_missing_data[df_missing_data['customer_lat'].isna()]\n",
    "display(customer_lat_to_update[['customer_lat']])"
   ]
  },
  {
   "cell_type": "code",
   "execution_count": null,
   "id": "8d246860-e621-49b3-ba76-e6cd6c05ad4b",
   "metadata": {},
   "outputs": [],
   "source": [
    "# getting the index for the missing values for customer_lat\n",
    "customer_lat_indexto_update = df_missing_data[df_missing_data['customer_lat'].isna()].index\n",
    "customer_lat_indexto_update"
   ]
  },
  {
   "cell_type": "markdown",
   "id": "39f52e65-7db4-478c-a247-3923d404436d",
   "metadata": {},
   "source": [
    "### Fix missing 'customer_long' values - not progressing with this: out of scope for this assignment"
   ]
  },
  {
   "cell_type": "code",
   "execution_count": null,
   "id": "c98294fd-d5d5-413c-868e-97971dcfbd45",
   "metadata": {},
   "outputs": [],
   "source": [
    "# show missing 'customer_long' rows\n",
    "customer_lat_to_update = df_missing_data[df_missing_data['customer_long'].isna()]\n",
    "display(customer_lat_to_update[['customer_long']])"
   ]
  },
  {
   "cell_type": "code",
   "execution_count": null,
   "id": "b1eeb048-9258-4b95-ab24-c4686b02a8da",
   "metadata": {},
   "outputs": [],
   "source": [
    "# getting the index for the missing values for customer_long\n",
    "customer_long_indexto_update = df_missing_data[df_missing_data['customer_long'].isna()].index\n",
    "customer_long_indexto_update"
   ]
  },
  {
   "cell_type": "code",
   "execution_count": null,
   "id": "9a7ccb12-7dea-4a6e-82e5-1eaa6f7773b3",
   "metadata": {},
   "outputs": [],
   "source": [
    "# show missing values\n",
    "print(df_missing_data.isna().sum())"
   ]
  },
  {
   "cell_type": "markdown",
   "id": "4d89e215-f84c-4f4e-8e1d-2144884114f0",
   "metadata": {},
   "source": [
    "### Fix missing 'is_happy_customer' values - not progressing with this: out of scope for this assignment"
   ]
  },
  {
   "cell_type": "markdown",
   "id": "44c47a5d-fa1a-409b-b8cc-a27d312624a3",
   "metadata": {},
   "source": [
    "* would need sentiment analysis against the latest_customer_review column"
   ]
  },
  {
   "cell_type": "markdown",
   "id": "65f496f3-7ac8-4454-98c1-817e3fa0b80e",
   "metadata": {},
   "source": [
    "# Merge/Append Dataframes\n",
    "***"
   ]
  },
  {
   "cell_type": "markdown",
   "id": "525e78e9-b307-498c-bae6-d8a850be9560",
   "metadata": {},
   "source": [
    "<div class=\"alert alert-block alert-info\"><b></b>Work is complete on correcting issues with <strong>df_missing_data</strong> and <strong>df_dirty_data</strong> they are appended here to create <strong>df_order_data</strong><br> NaN are filtered from 'customer_lat', 'customer_long' and 'is_happy_customer' </div>"
   ]
  },
  {
   "cell_type": "code",
   "execution_count": null,
   "id": "09d23957-c6e4-4d95-b276-116fa29fa56e",
   "metadata": {},
   "outputs": [],
   "source": [
    "df_missing_data.shape"
   ]
  },
  {
   "cell_type": "code",
   "execution_count": null,
   "id": "41890901-d501-450c-b2cc-5ad6c5f99e0b",
   "metadata": {},
   "outputs": [],
   "source": [
    "df_dirty_data.shape"
   ]
  },
  {
   "cell_type": "code",
   "execution_count": null,
   "id": "1f788b84-a3a7-4ddb-8fe5-3db41943eadf",
   "metadata": {},
   "outputs": [],
   "source": [
    "# remove NaN for 'customer_lat', 'customer_long' and 'is_happy_customer' from df_missing_data\n",
    "df_missing_data_NoNa = df_missing_data[(df_missing_data['customer_lat'].isna()) & (df_missing_data['customer_long'].isna()) & (df_missing_data['is_happy_customer'].isna())]\n",
    "df_missing_data_NoNa.shape"
   ]
  },
  {
   "cell_type": "code",
   "execution_count": null,
   "id": "cb81f007-098a-4102-970d-605a0e994d2e",
   "metadata": {},
   "outputs": [],
   "source": [
    "# remove NaN for 'customer_lat', 'customer_long' and 'is_happy_customer' from  df_dirty_data\n",
    "df_dirty_data_NoNa = df_dirty_data[(df_dirty_data['customer_lat'].isna()) & (df_dirty_data['customer_long'].isna()) & (df_dirty_data['is_happy_customer'].isna())]\n",
    "df_dirty_data_NoNa.shape"
   ]
  },
  {
   "cell_type": "code",
   "execution_count": null,
   "id": "d499b712-8f6f-4097-9624-bb0ece3b93f1",
   "metadata": {},
   "outputs": [],
   "source": [
    "# create a new dataframe from df_dirty_data_NoNa and df_missing_data_NoNa \n",
    "df_order_data = df_dirty_data_NoNa.append(df_missing_data_NoNa,ignore_index = False)\n",
    "df_order_data.shape"
   ]
  },
  {
   "cell_type": "markdown",
   "id": "f4b5f0cc-8edc-473d-910d-ed7a374d27bb",
   "metadata": {},
   "source": [
    "<a id=\"df_customer_addresses\"></a>"
   ]
  },
  {
   "cell_type": "markdown",
   "id": "7eeef6ad-41dc-4603-a239-1f656d8d022b",
   "metadata": {
    "tags": [],
    "toc-hr-collapsed": true
   },
   "source": [
    "# Create new df_customer_addresses DataFrame\n",
    "***"
   ]
  },
  {
   "cell_type": "markdown",
   "id": "8f8c391c-ef06-4d85-ba27-ab1d04584402",
   "metadata": {},
   "source": [
    "<div class=\"alert alert-block alert-info\"><b></b><strong>df_customer_addresses</strong> is created here from <strong>df_order_data</strong>.<br><strong>df_customer_addresses</strong> contains addresses for customers by making an Nominatum API call using the <strong>get_geo_address</strong> function<br><strong>df_customer_addresses</strong> is exported to <strong>customer_addresses.csv</strong> for re-use</div>"
   ]
  },
  {
   "cell_type": "code",
   "execution_count": null,
   "id": "34cd9d88-6212-4aa0-9840-140c8514ff2f",
   "metadata": {},
   "outputs": [],
   "source": [
    "# getting 'customer_lat' and 'customer_long'] for df_order_data\n",
    "customerid_lat_long = df_order_data[['customer_id','customer_lat','customer_long']]\n",
    "\n",
    "display(customerid_lat_long.head(10))"
   ]
  },
  {
   "cell_type": "code",
   "execution_count": null,
   "id": "72105191-004e-4131-8d53-abeeabe7ba0b",
   "metadata": {},
   "outputs": [],
   "source": [
    "# get address for each customer and create a new Dataframe called df_customer_addresses\n",
    "# create_df_customer_addresses = 0 so it doesnt run if 'All Cells are Run'\n",
    "# Change create_df_customer_addresses = 1 to create the df_customer_addresses Dataframe , estimated time 970 records @ 1 second each ~ 17mins.. more like 30mins\n",
    "\n",
    "create_df_customer_addresses = 0\n",
    "\n",
    "if create_df_customer_addresses == 1:\n",
    "    print('Creating df_customer_addresses Dataframe')\n",
    "    df_customer_addresses = pd.DataFrame()\n",
    "    x=1\n",
    "    for i, row in customerid_lat_long.iterrows():\n",
    "            #print to screen to get completion estimate from x     \n",
    "            print(x,row[0],row[1],row[2])\n",
    "            x+=1\n",
    "            #add 1 second delay from Nominatum rate limiting         \n",
    "            time.sleep(1)\n",
    "            # pass values to the get_geo_address function          \n",
    "            df_customer_addresses = df_customer_addresses.append({'customer_id':get_geo_address(row[0],row[1],row[2])[0], \n",
    "                        'road':get_geo_address(row[0],row[1],row[2])[1],\n",
    "                        'suburb':get_geo_address(row[0],row[1],row[2])[2],\n",
    "                        'city':get_geo_address(row[0],row[1],row[2])[3],\n",
    "                        'postcode':get_geo_address(row[0],row[1],row[2])[4],                                 \n",
    "                        'state':get_geo_address(row[0],row[1],row[2])[5], \n",
    "                        'country':get_geo_address(row[0],row[1],row[2])[6]\n",
    "                       },ignore_index=True)\n",
    "else:\n",
    "    print('Dataframe df_customer_addresses not required')\n"
   ]
  },
  {
   "cell_type": "code",
   "execution_count": null,
   "id": "29dc7b47-011f-414d-8a8d-84f7a2c3e8ea",
   "metadata": {},
   "outputs": [],
   "source": [
    "# output df_customer_addresses created in previous step to csv in local notebook path\n",
    "df_customer_addresses.to_csv(r'customer_addresses.csv')"
   ]
  },
  {
   "cell_type": "code",
   "execution_count": null,
   "id": "ed57c893-449b-4989-b72c-009d3b84059c",
   "metadata": {},
   "outputs": [],
   "source": [
    "display(df_customer_addresses)"
   ]
  },
  {
   "cell_type": "markdown",
   "id": "30ad199b-54a9-47b7-9cce-eb5ce2b71791",
   "metadata": {},
   "source": [
    "## Analyse\n",
    "***"
   ]
  },
  {
   "cell_type": "code",
   "execution_count": null,
   "id": "cf37f7bd-48ce-41dc-9348-d7db1c2d436e",
   "metadata": {},
   "outputs": [],
   "source": [
    "print(df_missing_data.columns)"
   ]
  },
  {
   "cell_type": "markdown",
   "id": "78872474-40c1-445d-affa-63124884d8db",
   "metadata": {},
   "source": [
    "## Visualise\n",
    "***"
   ]
  },
  {
   "cell_type": "code",
   "execution_count": null,
   "id": "ab9f502e-25f5-48a5-a775-ff0410e7c33f",
   "metadata": {},
   "outputs": [],
   "source": []
  },
  {
   "cell_type": "code",
   "execution_count": null,
   "id": "e2e35dc3-8ed4-4b3f-bc3f-3a9f7138d5a8",
   "metadata": {},
   "outputs": [],
   "source": []
  }
 ],
 "metadata": {
  "kernelspec": {
   "display_name": "Python 3 (ipykernel)",
   "language": "python",
   "name": "python3"
  },
  "language_info": {
   "codemirror_mode": {
    "name": "ipython",
    "version": 3
   },
   "file_extension": ".py",
   "mimetype": "text/x-python",
   "name": "python",
   "nbconvert_exporter": "python",
   "pygments_lexer": "ipython3",
   "version": "3.9.7"
  },
  "toc-autonumbering": true,
  "toc-showcode": false,
  "toc-showmarkdowntxt": true,
  "toc-showtags": false
 },
 "nbformat": 4,
 "nbformat_minor": 5
}
