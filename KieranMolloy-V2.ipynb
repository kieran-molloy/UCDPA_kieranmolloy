{
 "cells": [
  {
   "cell_type": "markdown",
   "id": "62b73650-40bf-4cf5-b0e1-add5e135416a",
   "metadata": {
    "tags": [],
    "toc-hr-collapsed": true
   },
   "source": [
    "### Version 2 - post submission: ignore this\n",
    "***"
   ]
  },
  {
   "cell_type": "markdown",
   "id": "c778e28c-3ac9-4b69-9a21-a14a798d209b",
   "metadata": {},
   "source": [
    "### Environment Information\n",
    "<table align='left'>\n",
    "<tr>\n",
    "    <th>Environment Type</th>\n",
    "    <th>Anaconda Version</th>\n",
    "    <th>Anaconda Build Channel</th>\n",
    "    <th>Python Version</th>\n",
    "</tr>\n",
    "<tr>\n",
    "    <td>Anaconda </td>\n",
    "    <td>2021.11 </td>\n",
    "    <td>py39_0 </td>\n",
    "    <td>3.9.11 </td>\n",
    "</tr>\n",
    "</table>"
   ]
  },
  {
   "cell_type": "markdown",
   "id": "afe1772b-f4b1-4b51-a3a4-9c24f29ed8d3",
   "metadata": {
    "tags": []
   },
   "source": [
    "## Links to Kaggle Datasource: \n",
    "***\n",
    "\n",
    "#### _[Transactional Retail Dataset of Electronics Store](https://www.kaggle.com/datasets/muhammadshahrayar/transactional-retail-dataset-of-electronics-store)_\n",
    "\n",
    "*  _[dirty_data.csv](https://www.kaggle.com/datasets/muhammadshahrayar/transactional-retail-dataset-of-electronics-store?select=dirty_data.csv)_\n",
    "*  _[missing_data.csv](https://www.kaggle.com/datasets/muhammadshahrayar/transactional-retail-dataset-of-electronics-store?select=missing_data.csv)_\n",
    "*  _[warehouses.csv](https://www.kaggle.com/datasets/muhammadshahrayar/transactional-retail-dataset-of-electronics-store?select=warehouses.csv)_\n"
   ]
  },
  {
   "cell_type": "markdown",
   "id": "5e009c96-ce2c-40e5-990d-79806ecedb6c",
   "metadata": {},
   "source": [
    "# Table of Contents\n",
    "- [3: Setup](#setup)\n",
    "- [4: CSV Import and review](#CSVImport)\n",
    "- [5: Detect and fix errors in df_dirty_data DataFrame](#Fix_df_dirty_data)\n",
    "    - [Repair 'nearest_warehouse' name](#rename_nearest_warehouse)\n",
    "    - [Investigate incorrect 'order_total' and 'order_price'](#order_price_total)\n",
    "    - [Repair 'season' names](#rename_season)\n",
    "    - [Repair 'customer_lat'itude and longitude](#fix_latitude)\n",
    "- [6: Detect and fix errors in df_missing_data DataFrame](#Fix_df_missing_data)\n",
    "    - [Identify and insert missing 'nearest_warehouse' values](#missing_nearest_warehouse)\n",
    "    - [Identify and insert missing 'order_price' values](#missing_order_price)\n",
    "    - [Identify and insert missing 'order_total' values](#missing_order_total)\n",
    "    - [Identify and insert missing 'season' values](#missing_season)\n",
    "    - [Identify and insert missing 'distance_to_nearest_warehouse' values](#missing_distance_to_nearest_warehouse)\n",
    "- [7: Append cleaned Dataframes df_dirty_data and df_missing_data](#Appenddf_dirty_datadf_missing_data)\n",
    "- [8: Create new df_customer_addresses DataFrame and export to CSV](#df_customer_addresses) \n",
    "- [9: Create new df_warehouse_addresses DataFrame and export to CSV](#df_warehouse_addresses) \n",
    "- [10: Merge df_order_data, df_customer_addresses and df_warehouse_addresses](#merge_df_order_data) \n",
    "- [11: Summary Statistics](#summary_statistics) \n",
    "- [12: Visualisations](#Visualisations)\n",
    "\n",
    "\n",
    "\n"
   ]
  },
  {
   "cell_type": "markdown",
   "id": "341957bd-6b59-4bb3-bb79-5c355bf3acab",
   "metadata": {},
   "source": [
    "<a id='setup'></a>"
   ]
  },
  {
   "cell_type": "markdown",
   "id": "46c99b8e-b1e6-4b5c-9436-6e63806301af",
   "metadata": {
    "tags": [],
    "toc-hr-collapsed": true
   },
   "source": [
    "# Setup"
   ]
  },
  {
   "cell_type": "markdown",
   "id": "dd727cec-c3fc-41fa-afef-0c5489ff7e45",
   "metadata": {},
   "source": [
    "<div class='alert alert-block alert-info'><b></b>installing an importing modules, setting variables and functions </div>"
   ]
  },
  {
   "cell_type": "markdown",
   "id": "c1d223bc-06ca-42b9-83af-827a0ed51921",
   "metadata": {},
   "source": [
    "## Install Modules"
   ]
  },
  {
   "cell_type": "code",
   "execution_count": null,
   "id": "879d252f-8f3c-4757-94e9-cdb84a520855",
   "metadata": {},
   "outputs": [],
   "source": [
    "# modules required\n",
    "%pip install matplotlib\n",
    "%pip install pandas\n",
    "%pip install seaborn\n",
    "%pip install geopy\n",
    "%pip install plotly"
   ]
  },
  {
   "cell_type": "markdown",
   "id": "e954165f-785e-469f-9d11-f464f7ce3008",
   "metadata": {},
   "source": [
    "## Import Modules\n",
    "***"
   ]
  },
  {
   "cell_type": "code",
   "execution_count": null,
   "id": "7fb5ef44-cccd-4c79-b53b-64ac594b15e3",
   "metadata": {},
   "outputs": [],
   "source": [
    "from matplotlib import pyplot as plt\n",
    "\n",
    "import pandas as pd\n",
    "import numpy as np\n",
    "import seaborn as sns\n",
    "\n",
    "import time\n",
    "from datetime import datetime\n",
    "\n",
    "from geopy.distance import geodesic\n",
    "from geopy.geocoders import Nominatim\n",
    "import plotly.express as px\n",
    "\n",
    "from IPython.display import display"
   ]
  },
  {
   "cell_type": "markdown",
   "id": "aa0be544-123d-4dc7-9429-df54040e671b",
   "metadata": {},
   "source": [
    "## Set Variables\n",
    "***"
   ]
  },
  {
   "cell_type": "code",
   "execution_count": null,
   "id": "82297830-167e-46bc-83b0-36026355871b",
   "metadata": {},
   "outputs": [],
   "source": [
    "# set all csv variables\n",
    "dirty_data = 'dirty_data.csv'\n",
    "missing_data = 'missing_data.csv'\n",
    "warehouse_data = 'warehouses.csv'\n",
    "customer_addresses = 'customer_addresses.csv' \n",
    "warehouse_addresses = 'warehouse_addresses.csv'\n",
    "\n",
    "create_df_customer_addresses = 0 # set to 1 if you wnat section 8 to run:\n",
    "create_df_warehouse_addresses = 0 # set to 1 if you wnat section 9 to run:"
   ]
  },
  {
   "cell_type": "markdown",
   "id": "b4a97a52-1f03-4cca-84ea-fc64d0b2c2e1",
   "metadata": {
    "tags": []
   },
   "source": [
    "## Functions\n",
    "***"
   ]
  },
  {
   "cell_type": "code",
   "execution_count": null,
   "id": "a0aee1ca-9eb0-4972-b84a-fe555c89e8b4",
   "metadata": {},
   "outputs": [],
   "source": [
    "def get_nearest_warehouse(lat, Long ):\n",
    "    ''' use coordinates to find the closest warehouse (crow flies) using geodesic API'''\n",
    "    \n",
    "    # test values:  get_nearest_warehouse(-37.815105, 144.932843)\n",
    "    \n",
    "    # customer coordinates are provided\n",
    "    coords_customer = lat, Long\n",
    "    \n",
    "    # get warehouse latitude and longitide from warehouse table\n",
    "    coords_Nickolson = df_warehouse_data['lat'].loc[df_warehouse_data.index[0]], df_warehouse_data['lon'].loc[df_warehouse_data.index[0]]\n",
    "    coords_Thompson = df_warehouse_data['lat'].loc[df_warehouse_data.index[1]], df_warehouse_data['lon'].loc[df_warehouse_data.index[1]]\n",
    "    coords_Bakers = df_warehouse_data['lat'].loc[df_warehouse_data.index[2]], df_warehouse_data['lon'].loc[df_warehouse_data.index[2]]\n",
    "    \n",
    "    # use geodesic to do a km distance comparison\n",
    "    Nickolson_cust_dist = geodesic(coords_customer, coords_Nickolson).km\n",
    "    Thompson_cust_dist = geodesic(coords_customer, coords_Thompson).km\n",
    "    Bakers_cust_dist = geodesic(coords_customer, coords_Bakers).km\n",
    "    \n",
    "    val = (Nickolson_cust_dist, Thompson_cust_dist, Bakers_cust_dist)\n",
    "    \n",
    "    # get the min value distance value\n",
    "    min_dist = val.index(min(val))\n",
    "    \n",
    "     # convert min_dist to warehouse name and distance in km\n",
    "    if min_dist == 0:\n",
    "        warehouse = 'Nickolson'\n",
    "        distance = Nickolson_cust_dist\n",
    "        return(warehouse, distance)\n",
    "    elif min_dist == 1:\n",
    "        warehouse = 'Thompson'\n",
    "        distance = Nickolson_cust_dist\n",
    "        return(warehouse, distance)\n",
    "    else: \n",
    "        warehouse = 'Bakers'\n",
    "        distance = Nickolson_cust_dist\n",
    "        \n",
    "        return str(warehouse), distance        "
   ]
  },
  {
   "cell_type": "code",
   "execution_count": null,
   "id": "f9c3130b-999f-4a0a-b752-21265f8eb20c",
   "metadata": {},
   "outputs": [],
   "source": [
    "def get_order_price(order_total, delivery_charges, coupon_discount):\n",
    "    ''' calculate order_price from order_total, delivery_charges and coupon_discount '''\n",
    "        # test:  get_order_price(11059.89, 79.89, 10 )\n",
    "        \n",
    "    order_price = (order_total - delivery_charges) / (100-coupon_discount) * 100\n",
    "    return round(order_price, 2) "
   ]
  },
  {
   "cell_type": "code",
   "execution_count": null,
   "id": "24d8ad60-44ef-46bc-9465-a94ce7956f9a",
   "metadata": {},
   "outputs": [],
   "source": [
    "def get_order_total(order_price, delivery_charges, coupon_discount):\n",
    "    ''' calculate order_total from order_price, delivery_charges and coupon_discount'''\n",
    "    # test values : get_order_total(11059.89, 79.89, 10 )\n",
    "    \n",
    "    order_total = order_price - (order_price / 100 * coupon_discount) + delivery_charges\n",
    "    return round(order_total, 2)\n"
   ]
  },
  {
   "cell_type": "code",
   "execution_count": null,
   "id": "061ab880-0f9e-4ca1-ba42-0deb9082a277",
   "metadata": {},
   "outputs": [],
   "source": [
    "def get_season(date):\n",
    "    '''calculate season from date'''\n",
    "    # test values : get_season(datetime(2019, 6, 22))\n",
    "    \n",
    "    # Spring = months 9,10,11\n",
    "    # summer = months 12,1,2\n",
    "    # Autumn = months 3,4,5\n",
    "    # Winter = months 6,7,8\n",
    "\n",
    "    month = date.month\n",
    "\n",
    "    if month in [9,10,11]:\n",
    "        season = 'Spring'\n",
    "    elif month in [12,1,2]:\n",
    "        season = 'Summer'\n",
    "    elif month in [3,4,5]:\n",
    "        season = 'Autumn'\n",
    "    else:\n",
    "        season = 'Winter'\n",
    "    \n",
    "    return season"
   ]
  },
  {
   "cell_type": "code",
   "execution_count": null,
   "id": "c1317990-e3c3-4bc5-9a51-cc9c3cd6709a",
   "metadata": {},
   "outputs": [],
   "source": [
    "def get_geo_address(customer_id, lat, long):\n",
    "    '''use  Nominatim API to get address data from customer_lat and customer_long'''\n",
    "    # test values:  get_geo_address('ID6231506320', -37.8117454, 144.9564037)\n",
    "    \n",
    "    # create an instance     \n",
    "    geolocator = Nominatim(user_agent='app')\n",
    "      \n",
    "    coordinates =  str(lat) + ' ' + str(long)\n",
    "    \n",
    "    #apply the method to get the location\n",
    "    location = geolocator.reverse(coordinates,timeout=None)\n",
    "    # return the required address      \n",
    "    address = location.raw['address']\n",
    "    road = address.get('road', '')\n",
    "    suburb = address.get('suburb', '')\n",
    "    city = address.get('city', '')\n",
    "    postcode = address.get('postcode', '')\n",
    "    state = address.get('state', '')\n",
    "    country = address.get('country', '')\n",
    "    \n",
    "    return customer_id, road, suburb, city, postcode, state, country"
   ]
  },
  {
   "cell_type": "code",
   "execution_count": null,
   "id": "1c1a44a7-bf83-432e-811c-94555aa66f5c",
   "metadata": {
    "tags": []
   },
   "outputs": [],
   "source": [
    "def convert_to_negative(val):\n",
    "    '''get the negative of a passed value'''\n",
    "    # test values:  convert_to_negative(37.8117454)\n",
    "    \n",
    "    # simple multiply by -1     \n",
    "    negative_val = val * (-1)\n",
    "    \n",
    "    return negative_val"
   ]
  },
  {
   "cell_type": "markdown",
   "id": "888ab1a2-9a2c-4f41-ae28-fecb81d6b15e",
   "metadata": {},
   "source": [
    "<a id='CSVImport'></a>"
   ]
  },
  {
   "cell_type": "markdown",
   "id": "2dfd0b92-8771-4163-af08-d7bceb0c567b",
   "metadata": {
    "tags": [],
    "toc-hr-collapsed": true
   },
   "source": [
    "# CSV Import and review\n",
    "***"
   ]
  },
  {
   "cell_type": "markdown",
   "id": "0d70b59e-0a46-44ab-833c-41e4cfbc5442",
   "metadata": {},
   "source": [
    "<div class='alert alert-block alert-info'><b></b>Create DataFrames<strong>  df_dirty_data</strong>, <strong>df_missing_data</strong>, <strong>df_warehouse_data</strong>, <strong>df_customer_addresses</strong> and <strong>df_warehouse_addresses</strong><br>Imported from relevent CSVs<br>Datatype changes are made on import where possible, some indexes set and columns selected</div>"
   ]
  },
  {
   "cell_type": "code",
   "execution_count": null,
   "id": "c83e5fb3-0851-46c9-9bee-ecc62ccf1bda",
   "metadata": {},
   "outputs": [],
   "source": [
    "# read the CSV from the local Jupyter Notebook directory \n",
    "# parsing dates on import since dates were objects also change datatype on order_price\n",
    "df_dirty_data = pd.read_csv(dirty_data, parse_dates=['date'], dtype={'order_price': 'float'}) \n",
    "df_missing_data = pd.read_csv(missing_data, parse_dates=['date']) \n",
    "df_warehouse_data = pd.read_csv(warehouse_data)\n",
    "df_customer_addresses = pd.read_csv(customer_addresses, dtype={'postcode': 'int'}, usecols=['customer_id','road','suburb','city','postcode','state','country'],index_col='customer_id') #this csv is created for this assignment in Section 7\n",
    "df_warehouse_addresses = pd.read_csv(warehouse_addresses, dtype={'postcode': 'int'}, usecols=['warehouse','road','suburb','city','postcode','state','country'], index_col='warehouse')  #this csv is created for this assignment in Section 8"
   ]
  },
  {
   "cell_type": "markdown",
   "id": "952b0116-adff-45ee-96bd-b089410d845a",
   "metadata": {
    "toc-hr-collapsed": true
   },
   "source": [
    "## Data Review\n",
    "***"
   ]
  },
  {
   "cell_type": "markdown",
   "id": "849d9fa2-d21f-4964-b2b7-98eef342b08a",
   "metadata": {},
   "source": [
    "### df_dirty_data dataframe review"
   ]
  },
  {
   "cell_type": "code",
   "execution_count": null,
   "id": "388aeae0-cca8-4d2b-a240-4c0c09b1c40e",
   "metadata": {},
   "outputs": [],
   "source": [
    "type(df_dirty_data)"
   ]
  },
  {
   "cell_type": "code",
   "execution_count": null,
   "id": "bb2ae2d7-edcf-4cec-98d3-066e3a9f1f56",
   "metadata": {
    "tags": []
   },
   "outputs": [],
   "source": [
    "print(df_dirty_data.columns)"
   ]
  },
  {
   "cell_type": "code",
   "execution_count": null,
   "id": "1720377b-2e41-439d-b8c9-e80a9688850d",
   "metadata": {
    "tags": []
   },
   "outputs": [],
   "source": [
    "# will use display command for better tabular formatting in jupyter Notebook\n",
    "display(df_dirty_data.head())"
   ]
  },
  {
   "cell_type": "code",
   "execution_count": null,
   "id": "10acd33b-e9ec-4111-8c62-8db0daa1861f",
   "metadata": {},
   "outputs": [],
   "source": [
    "# will use display command for better tabular formatting in jupyter Notebook\n",
    "display(df_dirty_data.describe())"
   ]
  },
  {
   "cell_type": "code",
   "execution_count": null,
   "id": "6a944981-e550-49b6-9203-a451ea533b9b",
   "metadata": {},
   "outputs": [],
   "source": [
    "print(df_dirty_data.info())"
   ]
  },
  {
   "cell_type": "code",
   "execution_count": null,
   "id": "7bc22bf2-f085-4b6d-bc84-1cdca978d4c5",
   "metadata": {},
   "outputs": [],
   "source": [
    "print(df_dirty_data.shape)"
   ]
  },
  {
   "cell_type": "code",
   "execution_count": null,
   "id": "e43166f6-aa90-45df-87f0-fdf5b3003015",
   "metadata": {},
   "outputs": [],
   "source": [
    "# no NaN found\n",
    "print(df_dirty_data.isnull().any())"
   ]
  },
  {
   "cell_type": "code",
   "execution_count": null,
   "id": "65e724c4-939d-4ab8-a754-3013a745c859",
   "metadata": {},
   "outputs": [],
   "source": [
    "missing_values_count = df_dirty_data.isnull().sum()\n",
    "print(missing_values_count[0:16])"
   ]
  },
  {
   "cell_type": "markdown",
   "id": "6d52ed62-38b9-4c5d-bfd4-567f4267f1f0",
   "metadata": {},
   "source": [
    "### df_missing_data dataframe review"
   ]
  },
  {
   "cell_type": "code",
   "execution_count": null,
   "id": "b7550627-ac18-4396-b32e-b842880fbd12",
   "metadata": {
    "tags": []
   },
   "outputs": [],
   "source": [
    "type(df_missing_data)"
   ]
  },
  {
   "cell_type": "code",
   "execution_count": null,
   "id": "627579ee-6649-4b88-bf58-0419e4de0e6e",
   "metadata": {},
   "outputs": [],
   "source": [
    "print(df_missing_data.columns)"
   ]
  },
  {
   "cell_type": "code",
   "execution_count": null,
   "id": "fccae01e-e519-444c-826d-ec912fe11314",
   "metadata": {
    "tags": []
   },
   "outputs": [],
   "source": [
    "display(df_missing_data.head())"
   ]
  },
  {
   "cell_type": "code",
   "execution_count": null,
   "id": "2ac9b672-f316-445e-8264-4c44199f7901",
   "metadata": {},
   "outputs": [],
   "source": [
    "display(df_missing_data.describe())"
   ]
  },
  {
   "cell_type": "code",
   "execution_count": null,
   "id": "53ab0018-fb3b-4122-b1be-82fa074d361c",
   "metadata": {},
   "outputs": [],
   "source": [
    "print(df_missing_data.info())"
   ]
  },
  {
   "cell_type": "code",
   "execution_count": null,
   "id": "fb757aae-f190-428d-80a8-8d7f7ef912f2",
   "metadata": {},
   "outputs": [],
   "source": [
    "print(df_missing_data.shape)"
   ]
  },
  {
   "cell_type": "code",
   "execution_count": null,
   "id": "60d385cb-8222-492a-a051-dc93aaa40e42",
   "metadata": {},
   "outputs": [],
   "source": [
    "print(df_missing_data.isnull().any())"
   ]
  },
  {
   "cell_type": "code",
   "execution_count": null,
   "id": "6b889eec-f06f-4fe2-9ee6-a2d1ca19158a",
   "metadata": {},
   "outputs": [],
   "source": [
    "print(df_missing_data.isnull().sum())"
   ]
  },
  {
   "cell_type": "markdown",
   "id": "2991f09a-c51c-4b0b-bb18-22deb27bc6b9",
   "metadata": {
    "tags": []
   },
   "source": [
    "### df_warehouse_data dataframe review"
   ]
  },
  {
   "cell_type": "code",
   "execution_count": null,
   "id": "081ae7ad-8b7f-4215-ae80-80958a0bf4b7",
   "metadata": {
    "tags": []
   },
   "outputs": [],
   "source": [
    "type(df_warehouse_data)"
   ]
  },
  {
   "cell_type": "code",
   "execution_count": null,
   "id": "8cda7604-8aa6-406c-8fde-63c768656c33",
   "metadata": {},
   "outputs": [],
   "source": [
    "print(df_warehouse_data.columns)"
   ]
  },
  {
   "cell_type": "code",
   "execution_count": null,
   "id": "8177f7a7-e30c-4293-a2bf-3907d6b40ab4",
   "metadata": {},
   "outputs": [],
   "source": [
    "type(df_warehouse_data)"
   ]
  },
  {
   "cell_type": "code",
   "execution_count": null,
   "id": "6e38d688-feab-48fb-a875-da67a9a65db9",
   "metadata": {},
   "outputs": [],
   "source": [
    "display(df_warehouse_data.head())"
   ]
  },
  {
   "cell_type": "code",
   "execution_count": null,
   "id": "5fef5255-c30a-4ee0-b949-a435764888d1",
   "metadata": {},
   "outputs": [],
   "source": [
    "display(df_warehouse_data.describe())"
   ]
  },
  {
   "cell_type": "code",
   "execution_count": null,
   "id": "049279d6-671b-4c9b-b6e4-26b11891567a",
   "metadata": {},
   "outputs": [],
   "source": [
    "print(df_warehouse_data.info())"
   ]
  },
  {
   "cell_type": "code",
   "execution_count": null,
   "id": "acf81536-9f60-4800-96fb-b3533a8ec833",
   "metadata": {},
   "outputs": [],
   "source": [
    "print(df_warehouse_data.shape)"
   ]
  },
  {
   "cell_type": "code",
   "execution_count": null,
   "id": "e2c05942-e334-4370-987b-854ab9e2883f",
   "metadata": {},
   "outputs": [],
   "source": [
    "print(df_warehouse_data.isnull().any())"
   ]
  },
  {
   "cell_type": "code",
   "execution_count": null,
   "id": "3e09a714-c0db-4e49-8587-0271437ab46e",
   "metadata": {
    "tags": []
   },
   "outputs": [],
   "source": [
    "print(df_warehouse_data.isnull().sum())"
   ]
  },
  {
   "cell_type": "markdown",
   "id": "71b30b67-14b1-4b96-bb7a-789f19abf164",
   "metadata": {
    "tags": []
   },
   "source": [
    "### df_customer_addresses dataframe review"
   ]
  },
  {
   "cell_type": "markdown",
   "id": "ca0522b1-a868-453a-b0a1-6bd3fe66f125",
   "metadata": {},
   "source": [
    "[This DataFrame is created in Section 8](#df_customer_addresses)"
   ]
  },
  {
   "cell_type": "code",
   "execution_count": null,
   "id": "5247a9ef-06bb-49fd-bb5d-95d187cddba2",
   "metadata": {},
   "outputs": [],
   "source": [
    "type(df_customer_addresses)"
   ]
  },
  {
   "cell_type": "code",
   "execution_count": null,
   "id": "775bd391-0a2b-4c69-bd6b-1c2702111e38",
   "metadata": {},
   "outputs": [],
   "source": [
    "print(df_customer_addresses.columns)"
   ]
  },
  {
   "cell_type": "code",
   "execution_count": null,
   "id": "203a16de-e1cd-42ac-abb5-0217097e816b",
   "metadata": {},
   "outputs": [],
   "source": [
    "type(df_customer_addresses)"
   ]
  },
  {
   "cell_type": "code",
   "execution_count": null,
   "id": "b84e827d-4323-42fb-bc0e-3799f1376d35",
   "metadata": {},
   "outputs": [],
   "source": [
    "display(df_customer_addresses.head())"
   ]
  },
  {
   "cell_type": "code",
   "execution_count": null,
   "id": "fe56fba0-921e-4044-9485-6d4dada27d56",
   "metadata": {},
   "outputs": [],
   "source": [
    "display(df_customer_addresses.describe())"
   ]
  },
  {
   "cell_type": "code",
   "execution_count": null,
   "id": "87b396c5-dfef-4ecb-89d2-dcdb43564b76",
   "metadata": {},
   "outputs": [],
   "source": [
    "print(df_customer_addresses.info())"
   ]
  },
  {
   "cell_type": "code",
   "execution_count": null,
   "id": "8b7f1a8c-5e54-4b6e-9af7-d6fd8e464a4d",
   "metadata": {},
   "outputs": [],
   "source": [
    "print(df_customer_addresses.shape)"
   ]
  },
  {
   "cell_type": "code",
   "execution_count": null,
   "id": "121c8937-b6a9-497f-8603-d1a52a993af3",
   "metadata": {},
   "outputs": [],
   "source": [
    "print(df_customer_addresses.isnull().any())"
   ]
  },
  {
   "cell_type": "code",
   "execution_count": null,
   "id": "58d8482a-08c1-438c-b55b-b8900f8953eb",
   "metadata": {},
   "outputs": [],
   "source": [
    "print(df_customer_addresses.isnull().sum())"
   ]
  },
  {
   "cell_type": "markdown",
   "id": "7eea741d-dc4d-4c2c-bb9e-f81c66c3c0df",
   "metadata": {
    "tags": []
   },
   "source": [
    "### df_warehouse_addresses dataframe review"
   ]
  },
  {
   "cell_type": "markdown",
   "id": "c95ce5bb-748a-41b3-ab87-6f13e4b5b652",
   "metadata": {},
   "source": [
    "[This DataFrame is created in Section 9](#df_warehouse_addresses)"
   ]
  },
  {
   "cell_type": "code",
   "execution_count": null,
   "id": "4fee9ba6-eb33-467e-9651-22dfce724ace",
   "metadata": {},
   "outputs": [],
   "source": [
    "type(df_warehouse_addresses)"
   ]
  },
  {
   "cell_type": "code",
   "execution_count": null,
   "id": "0d09318e-f175-4a79-9364-ba5ef0544d73",
   "metadata": {},
   "outputs": [],
   "source": [
    "print(df_warehouse_addresses.columns)"
   ]
  },
  {
   "cell_type": "code",
   "execution_count": null,
   "id": "a4f2d056-689a-45a0-a4a2-d2e94bf062b1",
   "metadata": {},
   "outputs": [],
   "source": [
    "type(df_warehouse_addresses)"
   ]
  },
  {
   "cell_type": "code",
   "execution_count": null,
   "id": "cfefc1c9-7e2a-4a28-91a5-4b6403d5852e",
   "metadata": {},
   "outputs": [],
   "source": [
    "display(df_warehouse_addresses.head())"
   ]
  },
  {
   "cell_type": "code",
   "execution_count": null,
   "id": "641b6742-941a-453c-812d-131e65cdd3d0",
   "metadata": {},
   "outputs": [],
   "source": [
    "display(df_warehouse_addresses.describe())"
   ]
  },
  {
   "cell_type": "code",
   "execution_count": null,
   "id": "f63e6289-e6ae-4ade-834a-08b04c69b651",
   "metadata": {},
   "outputs": [],
   "source": [
    "print(df_warehouse_addresses.info())"
   ]
  },
  {
   "cell_type": "code",
   "execution_count": null,
   "id": "85dfa1f7-847f-4757-9dee-655e6f872c07",
   "metadata": {},
   "outputs": [],
   "source": [
    "print(df_warehouse_addresses.shape)"
   ]
  },
  {
   "cell_type": "code",
   "execution_count": null,
   "id": "f89be3d8-d5d8-4cf1-ac96-cdc284565c06",
   "metadata": {},
   "outputs": [],
   "source": [
    "print(df_warehouse_addresses.isnull().any())"
   ]
  },
  {
   "cell_type": "code",
   "execution_count": null,
   "id": "e7d05bbd-2346-483d-aaa2-27e74b3d5979",
   "metadata": {},
   "outputs": [],
   "source": [
    "print(df_warehouse_addresses.isnull().sum())"
   ]
  },
  {
   "cell_type": "markdown",
   "id": "fb4272c9-8867-4bd9-a41f-10e73d30da47",
   "metadata": {},
   "source": [
    "## Create Indexes"
   ]
  },
  {
   "cell_type": "code",
   "execution_count": null,
   "id": "1cf3a19d-1ef6-4abf-bd1b-29df3cd5a5dd",
   "metadata": {},
   "outputs": [],
   "source": [
    "# check for orderid uniqueness in df_dirty_data\n",
    "duplicate_dirty_data = df_dirty_data[df_dirty_data.duplicated(['order_id'])]\n",
    "print(duplicate_dirty_data)"
   ]
  },
  {
   "cell_type": "code",
   "execution_count": null,
   "id": "c2d466e4-8413-40de-b887-f9225fc55dce",
   "metadata": {},
   "outputs": [],
   "source": [
    "# check for orderid uniqueness in df_missing_data \n",
    "duplicate_missing_data = df_missing_data[df_missing_data.duplicated(['order_id'])]\n",
    "print(duplicate_missing_data)"
   ]
  },
  {
   "cell_type": "code",
   "execution_count": null,
   "id": "0fe0ba84-1b0f-4e6e-a8f3-fadf078a8222",
   "metadata": {},
   "outputs": [],
   "source": [
    "# create an order_id index on df_dirty_data\n",
    "df_dirty_data.set_index('order_id',inplace=True)"
   ]
  },
  {
   "cell_type": "code",
   "execution_count": null,
   "id": "65b49006-e9c6-4203-a52b-41a8c9ef66ae",
   "metadata": {},
   "outputs": [],
   "source": [
    "# create an order_id index on df_missing_data\n",
    "df_missing_data.set_index('order_id',inplace=True)"
   ]
  },
  {
   "cell_type": "code",
   "execution_count": null,
   "id": "dcf266b5-12a8-49d7-b16c-b6b02e7314a6",
   "metadata": {},
   "outputs": [],
   "source": [
    "print(df_dirty_data.index)"
   ]
  },
  {
   "cell_type": "code",
   "execution_count": null,
   "id": "6e9cde49-6d1c-42c7-97a4-76566d5f5c7a",
   "metadata": {},
   "outputs": [],
   "source": [
    "print(df_missing_data.index)"
   ]
  },
  {
   "cell_type": "markdown",
   "id": "d886c93d-0625-4d91-84c9-bb574299543b",
   "metadata": {},
   "source": [
    "<a id='Fix_df_dirty_data'></a>"
   ]
  },
  {
   "cell_type": "markdown",
   "id": "68e00d95-1fe5-467d-a6fd-f6bac3e289ec",
   "metadata": {
    "tags": [],
    "toc-hr-collapsed": true
   },
   "source": [
    "# Detect and fix errors in df_dirty_data DataFrame\n",
    "***"
   ]
  },
  {
   "cell_type": "markdown",
   "id": "2ed979e2-08f5-4f8d-833b-0ff1f8bd2293",
   "metadata": {},
   "source": [
    "<div class='alert alert-block alert-info'><b></b>Fixing anomolous data issues with <strong>df_dirty_data</strong> DataFrame</div>"
   ]
  },
  {
   "cell_type": "code",
   "execution_count": null,
   "id": "9361a438-1305-4151-ac45-4c38e2e6422b",
   "metadata": {},
   "outputs": [],
   "source": [
    "# show missing values - none found\n",
    "print(df_dirty_data.isnull().sum())"
   ]
  },
  {
   "cell_type": "code",
   "execution_count": null,
   "id": "ccc92a0b-3448-4273-87fa-2b46e92cafc1",
   "metadata": {},
   "outputs": [],
   "source": [
    "print(df_dirty_data.info())"
   ]
  },
  {
   "cell_type": "code",
   "execution_count": null,
   "id": "b65ac4f6-f865-4f72-ba6c-e8f4430c2185",
   "metadata": {},
   "outputs": [],
   "source": [
    "df_dirty_data['customer_id'].sort_values().unique()"
   ]
  },
  {
   "cell_type": "code",
   "execution_count": null,
   "id": "f83bea2a-69c7-4ab4-9be4-bc52670071d5",
   "metadata": {},
   "outputs": [],
   "source": [
    "df_dirty_data['customer_id'].apply(len).unique()"
   ]
  },
  {
   "cell_type": "code",
   "execution_count": null,
   "id": "0f18a336-3154-4ed5-861d-30778eafd9aa",
   "metadata": {},
   "outputs": [],
   "source": [
    "type(df_dirty_data['customer_id'].sort_values().unique())"
   ]
  },
  {
   "cell_type": "code",
   "execution_count": null,
   "id": "0e5aabd5-a1f0-456f-a6c2-e2f3dc1933d7",
   "metadata": {},
   "outputs": [],
   "source": [
    "display(df_dirty_data.head())"
   ]
  },
  {
   "cell_type": "code",
   "execution_count": null,
   "id": "2dc47964-f593-4e2b-81c0-50a0491bc831",
   "metadata": {
    "tags": []
   },
   "outputs": [],
   "source": [
    "columns = df_dirty_data.columns\n",
    "print(len(columns))"
   ]
  },
  {
   "cell_type": "markdown",
   "id": "3d780136-0712-4e59-90da-c564e5848755",
   "metadata": {},
   "source": [
    "<a id='rename_nearest_warehouse'></a>"
   ]
  },
  {
   "cell_type": "markdown",
   "id": "d810b761-6b69-4fc3-a933-b7dc6b42da2d",
   "metadata": {},
   "source": [
    "### Repair 'nearest_warehouse name"
   ]
  },
  {
   "cell_type": "code",
   "execution_count": null,
   "id": "76849294-3b95-452a-b20c-1487f5c1ea13",
   "metadata": {
    "tags": []
   },
   "outputs": [],
   "source": [
    "# getting the unique values for 'nearest_warehouse' \n",
    "nearest_warehouse = df_dirty_data['nearest_warehouse'].sort_values().unique()\n",
    "print(nearest_warehouse)"
   ]
  },
  {
   "cell_type": "code",
   "execution_count": null,
   "id": "ad7b1529-be5e-4704-b864-e60df248ab05",
   "metadata": {},
   "outputs": [],
   "source": [
    "# capatilise the first character \n",
    "df_dirty_data['nearest_warehouse'] = df_dirty_data['nearest_warehouse'].str.title()"
   ]
  },
  {
   "cell_type": "markdown",
   "id": "975bb74a-bfe7-4c12-8b9d-d519a70e68cc",
   "metadata": {},
   "source": [
    "<a id='rename_season'></a>"
   ]
  },
  {
   "cell_type": "markdown",
   "id": "5268fe2e-5fb5-43c2-9fcc-cbbf3d2d8eee",
   "metadata": {},
   "source": [
    "### Repair 'season' names"
   ]
  },
  {
   "cell_type": "code",
   "execution_count": null,
   "id": "cefda4bb-ba21-444f-8954-dca0099c9ad0",
   "metadata": {},
   "outputs": [],
   "source": [
    "# getting the unique values for 'season'\n",
    "season = df_dirty_data['season'].sort_values().unique()\n",
    "print(season)"
   ]
  },
  {
   "cell_type": "code",
   "execution_count": null,
   "id": "7e990bdf-e85d-4f7b-be15-6a10dcee0654",
   "metadata": {},
   "outputs": [],
   "source": [
    "# capatilise the first character \n",
    "df_dirty_data['season'] = df_dirty_data['season'].str.title()"
   ]
  },
  {
   "cell_type": "markdown",
   "id": "90254f76-8867-4f22-aaf0-36bbeac86860",
   "metadata": {},
   "source": [
    "<a id='order_price_total'></a>"
   ]
  },
  {
   "cell_type": "markdown",
   "id": "b3916d84-e645-4438-b4e6-55464414b1ab",
   "metadata": {},
   "source": [
    "### Repair incorrect 'order_total' and 'order_price'"
   ]
  },
  {
   "cell_type": "code",
   "execution_count": null,
   "id": "1b531c69-1e5c-43c2-8032-6cca59b5bd83",
   "metadata": {},
   "outputs": [],
   "source": [
    "price = df_dirty_data['order_price']\n",
    "\n",
    "print('Q2 quantile of order_price : ', np.quantile(price, .50))\n",
    "print('Q1 quantile of order_price : ', np.quantile(price, .25))\n",
    "print('Q3 quantile of order_price : ', np.quantile(price, .75))\n",
    "print('100th quantile of order_price : ', np.quantile(price, .1))"
   ]
  },
  {
   "cell_type": "code",
   "execution_count": null,
   "id": "93d54746-631c-4f5e-b5e6-c888f49a5d63",
   "metadata": {},
   "outputs": [],
   "source": [
    "total = df_dirty_data['order_total']\n",
    "\n",
    "print('Q2 quantile of order_total : ', np.quantile(total, .50))\n",
    "print('Q1 quantile of order_total : ', np.quantile(total, .25))\n",
    "print('Q3 quantile of order_total : ', np.quantile(total, .75))\n",
    "print('100th quantile of order_total : ', np.quantile(total, .1))"
   ]
  },
  {
   "cell_type": "markdown",
   "id": "a902ac28-3373-4228-802d-0799438f0c51",
   "metadata": {},
   "source": [
    "### visually comparing 'shopping_cart'  'order_price'  'delivery_charges'  'coupon_discount'  'order_total' "
   ]
  },
  {
   "cell_type": "code",
   "execution_count": null,
   "id": "2b4e66fd-861f-45d7-87c4-1f674f5d3f59",
   "metadata": {},
   "outputs": [],
   "source": [
    "# sorted by 'order_total','order_price'\n",
    "df_dirty_data[['shopping_cart','order_price','delivery_charges','coupon_discount','order_total']].sort_values(ascending = False, by=['order_total','order_price']).head(10)"
   ]
  },
  {
   "cell_type": "code",
   "execution_count": null,
   "id": "429a8759-83c1-45fc-bd95-3dc52002b4b7",
   "metadata": {},
   "outputs": [],
   "source": [
    "# sorted by 'order_price','order_total'\n",
    "df_dirty_data[['shopping_cart','order_price','delivery_charges','coupon_discount','order_total']].sort_values(ascending = False, by=['order_price','order_total']).head(10)"
   ]
  },
  {
   "cell_type": "code",
   "execution_count": null,
   "id": "8a151a53-7a2f-419f-a7d8-39f12737f569",
   "metadata": {},
   "outputs": [],
   "source": [
    "# sorted by 'order_price','shopping_cart' perhaps anomolies are from items purchased \n",
    "df_dirty_data[['shopping_cart','order_price','delivery_charges','coupon_discount','order_total']].sort_values(ascending = False, by=['order_price','shopping_cart']).head(10)"
   ]
  },
  {
   "cell_type": "code",
   "execution_count": null,
   "id": "b172843e-dc29-4b00-bdd2-61e0d6495f9b",
   "metadata": {},
   "outputs": [],
   "source": [
    "pd.set_option('display.max_colwidth', 100)\n",
    "df_dirty_data[['shopping_cart','order_price','delivery_charges','coupon_discount','order_total']].sort_values(ascending = True, by=['order_price']).head()"
   ]
  },
  {
   "cell_type": "code",
   "execution_count": null,
   "id": "aacb9129-97dc-40e6-9a7c-0af3cd037fc1",
   "metadata": {},
   "outputs": [],
   "source": [
    "pd.set_option('max_colwidth', 100)\n",
    "df_shopping_cart = df_dirty_data[['shopping_cart','order_price']]\n",
    "\n",
    "# df_shopping_cart_filter = df_shopping_cart[lambda row : row['shopping_cart'].str.contains('Thunder line.*Lucent 330S', regex=True)]\n",
    "df_shopping_cart_filter = df_shopping_cart[lambda row : row['shopping_cart'].str.contains('Thunder line.*Lucent 330S|Lucent 330S.*Thunder line', regex=True)].head()\n",
    "\n",
    "df_shopping_cart_filter.sort_values('shopping_cart')\n",
    "# unique items 'Thunder line', 'Lucent 330S', 'Alcon 10', 'Universe Note', 'Olivia x460', 'Candle Inferno', 'iAssist Line', 'iStream', 'Toshika 750', 'pearTV'"
   ]
  },
  {
   "cell_type": "code",
   "execution_count": null,
   "id": "61ba99cd-ee32-47eb-bfaa-a45d1d5e271a",
   "metadata": {},
   "outputs": [],
   "source": [
    "# if we look at order_price versus order_total there are some outliers \n",
    "sns.scatterplot(data=df_dirty_data,y='order_total', x='order_price');"
   ]
  },
  {
   "cell_type": "code",
   "execution_count": null,
   "id": "317342b6-2268-4af6-9a18-dbea8ec17d61",
   "metadata": {},
   "outputs": [],
   "source": [
    "# Minimum and maximum order_price versus order_total \n",
    "print('Minimum order_price ' + str(df_dirty_data['order_price'].min()));\n",
    "print('Minimum order_total ' + str(df_dirty_data['order_total'].min()));\n",
    "print('Maximum order_price ' + str(df_dirty_data['order_price'].max()));\n",
    "print('Maximum order_total ' + str(df_dirty_data['order_total'].max()));"
   ]
  },
  {
   "cell_type": "code",
   "execution_count": null,
   "id": "c8f16878-f25b-4bc7-9a32-95a85c4a9c24",
   "metadata": {},
   "outputs": [],
   "source": [
    "df_dirty_data.head()"
   ]
  },
  {
   "cell_type": "markdown",
   "id": "fffafabd-8a97-4087-aee8-fa195dc24f69",
   "metadata": {},
   "source": [
    "#### calculating the actual order_total that dont add up from 'order_price' 'delivery_charges' 'coupon_discount', listing those order_ids "
   ]
  },
  {
   "cell_type": "code",
   "execution_count": null,
   "id": "65b21b33-9f25-4353-b58f-87f3ff1d97af",
   "metadata": {},
   "outputs": [],
   "source": [
    "# lets find where (order_price - coupon_discount + delivery_charges != order_total) dont add up \n",
    "# we can use function get_order_total to get order_id where they dont match \n",
    "# add incorrect rows to new dataframe df_incorrect_order_total\n",
    "\n",
    "df_incorrect_order_total = pd.DataFrame()\n",
    "\n",
    "for i, row in df_dirty_data.iterrows():\n",
    "    if df_dirty_data.at[i, 'order_total'] != get_order_total(df_dirty_data.at[i,'order_price'],df_dirty_data.at[i,'delivery_charges'],df_dirty_data.at[i,'coupon_discount']):\n",
    "        df_incorrect_order_total = pd.concat([df_incorrect_order_total, pd.DataFrame.from_records([{'order_id':i, 'order_price':df_dirty_data.at[i,'order_price'],\n",
    "                                                                                                    'delivery_charges':df_dirty_data.at[i,'delivery_charges'],\n",
    "                                                                                                    'coupon_discount':df_dirty_data.at[i,'coupon_discount'],\n",
    "                                                                                                    'order_total':df_dirty_data.at[i,'order_total']}])],ignore_index=True)"
   ]
  },
  {
   "cell_type": "code",
   "execution_count": null,
   "id": "db3338b8-fba2-4ac5-b505-85ab440a4088",
   "metadata": {},
   "outputs": [],
   "source": [
    "display(df_incorrect_order_total.sort_values('order_total', ascending=False))"
   ]
  },
  {
   "cell_type": "markdown",
   "id": "1cfaa8e9-b10c-481c-887f-003d83104d7a",
   "metadata": {},
   "source": [
    "#### calculating the actual order_price that dont add up from 'order_total' 'delivery_charges' 'coupon_discount', listing those order_ids"
   ]
  },
  {
   "cell_type": "code",
   "execution_count": null,
   "id": "2f7b4795-57e7-48d6-9d0b-a19e329a16aa",
   "metadata": {},
   "outputs": [],
   "source": [
    "# lets find where (order_total - delivery_charges / coupon_discount != order_price) dont add up\n",
    "# we can use function get_order_price to get order_id where they dont match\n",
    "# add incorrect rows dataframe df_incorrect_order_price\n",
    "\n",
    "df_incorrect_order_price = pd.DataFrame()\n",
    "\n",
    "for i, row in df_dirty_data.iterrows():\n",
    "    if df_dirty_data.at[i,'order_price'] != get_order_price(df_dirty_data.at[i,'order_total'],df_dirty_data.at[i,'delivery_charges'],df_dirty_data.at[i,'coupon_discount']):\n",
    "        df_incorrect_order_price = pd.concat([df_incorrect_order_price, pd.DataFrame.from_records([{'order_id':i,                                               \n",
    "                'order_price':df_dirty_data.at[i,'order_price'],                                 \n",
    "                'delivery_charges':df_dirty_data.at[i,'delivery_charges'],\n",
    "                'coupon_discount':df_dirty_data.at[i,'coupon_discount'], \n",
    "                'order_total':df_dirty_data.at[i,'order_total']}])],ignore_index=True)"
   ]
  },
  {
   "cell_type": "code",
   "execution_count": null,
   "id": "423a7e74-f9df-4498-92e1-5cdb94c41624",
   "metadata": {},
   "outputs": [],
   "source": [
    "display(df_incorrect_order_price.sort_values('order_total', ascending=False))"
   ]
  },
  {
   "cell_type": "code",
   "execution_count": null,
   "id": "f5e40aa5-d095-4d22-b5b8-66b304a9a7ce",
   "metadata": {},
   "outputs": [],
   "source": [
    "# we can conclude that 40 orders have incorrect calculations for either order_price or order_total,they will be removed \n",
    "# it makes sense that df_incorrect_order_price and df_incorrect_order_total contain the same rows \n",
    "df_incorrect_order_id = df_incorrect_order_price['order_id'] = df_incorrect_order_total['order_id']\n",
    "print(df_incorrect_order_id.count())"
   ]
  },
  {
   "cell_type": "code",
   "execution_count": null,
   "id": "47eaaaa6-0f28-4f69-b4b2-85085d14c0d1",
   "metadata": {
    "tags": []
   },
   "outputs": [],
   "source": [
    "# list of order_id's that are incorrect\n",
    "list_incorrect_order_id = df_incorrect_order_id.tolist()\n",
    "print(list_incorrect_order_id)"
   ]
  },
  {
   "cell_type": "markdown",
   "id": "717dd3eb-76c9-4a85-b643-b62383b86120",
   "metadata": {
    "tags": []
   },
   "source": [
    "### remove list_incorrect_order_id from df_dirty_data "
   ]
  },
  {
   "cell_type": "code",
   "execution_count": null,
   "id": "5b4740a3-bf59-44e1-ba95-1bda1786eda9",
   "metadata": {},
   "outputs": [],
   "source": [
    "# use the list created above 'list_incorrect_order_id' to remove orders that have incorrect order_price and order_total's \n",
    "print(df_dirty_data.drop(df_dirty_data[df_dirty_data.index.isin(list_incorrect_order_id)].index,inplace=True))"
   ]
  },
  {
   "cell_type": "code",
   "execution_count": null,
   "id": "5a3ef7ec-bc62-4965-9c62-abd8e9f4bf44",
   "metadata": {},
   "outputs": [],
   "source": [
    "df_dirty_data.head()"
   ]
  },
  {
   "cell_type": "markdown",
   "id": "9b3586f8-d661-438f-8577-da7e692355af",
   "metadata": {},
   "source": [
    "<a id='fix_latitude'></a>"
   ]
  },
  {
   "cell_type": "markdown",
   "id": "4cd35de4-47cf-4043-ac0e-17c18cb01ca4",
   "metadata": {},
   "source": [
    "### Repair 'customer_lat'itude and longitude"
   ]
  },
  {
   "cell_type": "markdown",
   "id": "b082dab7-e6d6-47d0-b407-f6b4026b42ac",
   "metadata": {
    "tags": []
   },
   "source": [
    "#### Check Latitude and Longitude in df_dirty_data"
   ]
  },
  {
   "cell_type": "code",
   "execution_count": null,
   "id": "9f4116b3-a8fd-4241-a168-90624ff64eb9",
   "metadata": {
    "tags": []
   },
   "outputs": [],
   "source": [
    "max_long = df_dirty_data['customer_long'].max();\n",
    "min_long = df_dirty_data['customer_long'].min()\n",
    "max_lat = df_dirty_data['customer_lat'].max();\n",
    "min_lat = df_dirty_data['customer_lat'].min()\n",
    "print('max_longitude:',max_long)\n",
    "print('max_latitude:',max_lat)\n",
    "print('min_longitude:',min_long)\n",
    "print('min_latitude:',min_lat)"
   ]
  },
  {
   "cell_type": "code",
   "execution_count": null,
   "id": "ee4a764e-861c-487d-ad80-6e23cd271ba7",
   "metadata": {},
   "outputs": [],
   "source": [
    "# getting index where 'customer_lat' is positive\n",
    "positive_customer_lat_indexto_update = df_dirty_data[df_dirty_data['customer_lat'] > 0 ].index\n",
    "print(positive_customer_lat_indexto_update)"
   ]
  },
  {
   "cell_type": "code",
   "execution_count": null,
   "id": "1216baab-f2b3-4e5b-85e2-820629005fb0",
   "metadata": {},
   "outputs": [],
   "source": [
    "#  using a scatterplot to visualise discrepancies in Latitude and Longitude in the df_dirty_data DataFrame\n",
    "#  the scatterplot shows there are some positive latitude values, we'll map these to see where they are\n",
    "plt.figure(figsize = (10,6))\n",
    "sns.set_theme(style='darkgrid');\n",
    "\n",
    "ax = sns.scatterplot(x='customer_lat', y='customer_long', data=df_dirty_data, hue='customer_lat', palette = 'vlag')\n",
    "plt.title('Customer Coordinates')\n",
    "plt.xlabel('Longitude')\n",
    "plt.ylabel('Latitude')\n",
    "plt.show()  "
   ]
  },
  {
   "cell_type": "code",
   "execution_count": null,
   "id": "28e55de6-fb83-4729-926a-0eb3dfea873e",
   "metadata": {},
   "outputs": [],
   "source": [
    "# map shows coordinates are in the Melbourne area and off the Japanese coast, unless Captain Nemo ordered some supplies im assuming this to be incorrect\n",
    "# zoom on the map for closer inspection\n",
    "# needs WebGL enabled in browser\n",
    "fig = px.scatter_mapbox(df_dirty_data, lat='customer_lat', lon='customer_long',color_discrete_sequence=['DarkRed'], zoom=2, height=600, center=dict(lat=-4, lon=160), size='customer_long')\n",
    "fig.update_layout(mapbox_style='open-street-map',margin={'r':500,'t':0,'l':0,'b':0})\n",
    "fig.show()"
   ]
  },
  {
   "cell_type": "code",
   "execution_count": null,
   "id": "027c8fa2-8179-4b56-8e63-b358fdb927e5",
   "metadata": {},
   "outputs": [],
   "source": [
    "# df_dirty_data.describe shows the max value\n",
    "display(df_dirty_data.describe()[['customer_lat']])\n",
    "# min and percentiles are in the -37 decimal range with the exception of the max 37, I suggest these latitudes should be negative, will change and observe the difference \n",
    "# if making the values negative re-positions to Melbourne it is probably ok"
   ]
  },
  {
   "cell_type": "code",
   "execution_count": null,
   "id": "38d5f2f9-73ea-441d-86f6-1e56578c5314",
   "metadata": {},
   "outputs": [],
   "source": [
    "# list all rows where 'customer_lat' is positive\n",
    "positive_customer_lat_to_update = df_dirty_data[df_dirty_data['customer_lat'] > 0 ]\n",
    "display(positive_customer_lat_to_update[['customer_lat']])"
   ]
  },
  {
   "cell_type": "code",
   "execution_count": null,
   "id": "da8258bd-9799-4554-8eae-a033f78d2f04",
   "metadata": {},
   "outputs": [],
   "source": [
    "# getting index where 'customer_lat' is positive\n",
    "positive_customer_lat_indexto_update = df_dirty_data[df_dirty_data['customer_lat'] > 0 ].index\n",
    "print(positive_customer_lat_indexto_update)"
   ]
  },
  {
   "cell_type": "code",
   "execution_count": null,
   "id": "7a4957e6-cf1f-41a9-bba8-ed285fc737fb",
   "metadata": {},
   "outputs": [],
   "source": [
    "# updating  values for 'customer_lat'\n",
    "for i, row in positive_customer_lat_to_update.iterrows():\n",
    "    df_dirty_data.at[i,'customer_lat'] = convert_to_negative(df_dirty_data.at[i,'customer_lat'])"
   ]
  },
  {
   "cell_type": "code",
   "execution_count": null,
   "id": "d9b989bf-5bfa-491b-b95e-87fdd7e37b77",
   "metadata": {},
   "outputs": [],
   "source": [
    "# list all rows where 'customer_lat' is positive : all fixed\n",
    "positive_customer_lat_to_update = df_dirty_data[df_dirty_data['customer_lat'] > 0 ]\n",
    "display(positive_customer_lat_to_update)"
   ]
  },
  {
   "cell_type": "code",
   "execution_count": null,
   "id": "f48c0622-0671-49a7-975e-3133fc72f30f",
   "metadata": {},
   "outputs": [],
   "source": [
    "#check the indexes for the updated 'customer_lat' --  all done\n",
    "display(df_dirty_data[['customer_lat']].loc[positive_customer_lat_indexto_update])"
   ]
  },
  {
   "cell_type": "code",
   "execution_count": null,
   "id": "bb2090cc-445a-4b55-8978-02302fc6405f",
   "metadata": {},
   "outputs": [],
   "source": [
    "# using a scatterplot to visualise updated in Latitude and Longitude in the df_dirty_data DataFrame\n",
    "# all values are negative and all within -37\n",
    "plt.figure(figsize = (10,6))\n",
    "sns.set_theme(style='darkgrid');\n",
    "\n",
    "sns.scatterplot(x='customer_lat', y='customer_long', data=df_dirty_data, hue='customer_lat', palette = 'vlag')\n",
    "plt.title('Customer Coordinates')\n",
    "plt.xlabel('Latitude')\n",
    "plt.ylabel('Longitude')\n",
    "plt.show()"
   ]
  },
  {
   "cell_type": "code",
   "execution_count": null,
   "id": "96b7ecfd-1458-4968-b074-97a92c64257c",
   "metadata": {},
   "outputs": [],
   "source": [
    "# check the updated coordinates are in the Melbourne area, all seem to be good, all located downtown Melbourne and north of Melbourne\n",
    "# zoom on the map for closer inspection\n",
    "# needs WebGL enabled in browser\n",
    "fig = px.scatter_mapbox(df_dirty_data, lat='customer_lat', lon='customer_long',color_discrete_sequence=['DarkRed'],center=dict(lat=-37.5, lon=145), zoom=7)\n",
    "fig.update_layout(mapbox_style='open-street-map',margin={'r':500,'t':0,'l':0,'b':0})\n",
    "fig.show()"
   ]
  },
  {
   "cell_type": "markdown",
   "id": "02a1bf65-1abc-4a1e-af20-86132ce99539",
   "metadata": {},
   "source": [
    "#### Check Latitude and Longitude in df_missing_data"
   ]
  },
  {
   "cell_type": "code",
   "execution_count": null,
   "id": "3c987149-7be7-4829-8866-89dfa12c96bb",
   "metadata": {},
   "outputs": [],
   "source": [
    "max_long = df_missing_data['customer_long'].max();\n",
    "min_long = df_missing_data['customer_long'].min()\n",
    "max_lat = df_missing_data['customer_lat'].max();\n",
    "min_lat = df_missing_data['customer_lat'].min()\n",
    "print('max_longitude:',max_long)\n",
    "print('max_latitude:',max_lat)\n",
    "print('min_longitude:',min_long)\n",
    "print('min_latitude:',min_lat)"
   ]
  },
  {
   "cell_type": "code",
   "execution_count": null,
   "id": "3f65375c-dafb-4e99-b790-23a8655d45ea",
   "metadata": {},
   "outputs": [],
   "source": [
    "# here we can see the scatterplot contains an even distribution for negative latitude values in the df_missing_data DataFrame\n",
    "# all -37\n",
    "plt.figure(figsize = (10,6))\n",
    "sns.set_theme(style='darkgrid');\n",
    "\n",
    "sns.scatterplot(x='customer_lat', y='customer_long',data=df_missing_data,  hue='customer_lat', palette = 'vlag')\n",
    "plt.title('Cutomer Coordinates',)\n",
    "# Set x-axis label\n",
    "plt.xlabel('Latitude')\n",
    "# Set y-axis label\n",
    "plt.ylabel('Longitude')\n",
    "plt.show()"
   ]
  },
  {
   "cell_type": "code",
   "execution_count": null,
   "id": "96d8b5ac-99e1-4b4a-9dc6-74338f4ef532",
   "metadata": {},
   "outputs": [],
   "source": [
    "# map shows all coordinates are in the Melbourne area in df_missing_data nothing seems out of order\n",
    "# zoom on the map for closer inspection\n",
    "fig = px.scatter_mapbox(df_missing_data, lat='customer_lat', lon='customer_long',color_discrete_sequence=['DarkRed'], zoom=11)\n",
    "fig.update_layout(mapbox_style='open-street-map',margin={'r':500,'t':0,'l':0,'b':0})\n",
    "fig.show()"
   ]
  },
  {
   "cell_type": "markdown",
   "id": "cac26951-ed52-43bf-98e1-b04a04b0c036",
   "metadata": {},
   "source": [
    "<a id='Fix_df_missing_data'></a>"
   ]
  },
  {
   "cell_type": "markdown",
   "id": "6aaed04d-fea8-45ce-a5f4-329b25a12af2",
   "metadata": {
    "tags": [],
    "toc-hr-collapsed": true
   },
   "source": [
    "# Detect and Fix missing values in df_missing_data DataFrame\n",
    "***"
   ]
  },
  {
   "cell_type": "markdown",
   "id": "61607484-4a24-46dd-9b0b-990c2aa4cf5d",
   "metadata": {},
   "source": [
    "<div class='alert alert-block alert-info'><b></b>Fixing missing data issues with <strong>df_missing_data</strong> DataFrame</div>"
   ]
  },
  {
   "cell_type": "code",
   "execution_count": null,
   "id": "c682db15-f5d6-409e-88b3-ca59aaeda673",
   "metadata": {
    "tags": []
   },
   "outputs": [],
   "source": [
    "# show missing values\n",
    "print(df_missing_data.isnull().sum())"
   ]
  },
  {
   "cell_type": "markdown",
   "id": "2137a671-dee0-46f5-9b52-4e01a953234e",
   "metadata": {},
   "source": [
    "<a id='missing_nearest_warehouse'></a>"
   ]
  },
  {
   "cell_type": "markdown",
   "id": "c564fe1e-7f75-46ce-bfc7-e2c84ff26133",
   "metadata": {},
   "source": [
    "### Identify and insert missing 'nearest_warehouse' values"
   ]
  },
  {
   "cell_type": "code",
   "execution_count": null,
   "id": "d16e4cc3-f743-4648-90dc-9ba4b5db0581",
   "metadata": {},
   "outputs": [],
   "source": [
    "# getting rows for the missing values for 'nearest_warehouse'\n",
    "nearest_warehouse_to_update = df_missing_data[df_missing_data['nearest_warehouse'].isnull()]\n",
    "\n",
    "display(nearest_warehouse_to_update[['nearest_warehouse']])"
   ]
  },
  {
   "cell_type": "code",
   "execution_count": null,
   "id": "6c51e5f4-b943-45a2-a488-6995860371f6",
   "metadata": {},
   "outputs": [],
   "source": [
    "# getting index for the the missing values for 'nearest_warehouse'\n",
    "nearest_warehouse_indexto_update = df_missing_data[df_missing_data['nearest_warehouse'].isnull()].index\n",
    "print(nearest_warehouse_indexto_update)"
   ]
  },
  {
   "cell_type": "code",
   "execution_count": null,
   "id": "873f95bb-d899-4656-b359-9cfa29b68af3",
   "metadata": {},
   "outputs": [],
   "source": [
    "# updating missing values for 'nearest_warehouse'\n",
    "for i, row in nearest_warehouse_to_update.iterrows():\n",
    "    df_missing_data.at[i,'nearest_warehouse'] = get_nearest_warehouse(df_missing_data.at[i,'customer_lat'],df_missing_data.at[i,'customer_long'])[0]"
   ]
  },
  {
   "cell_type": "code",
   "execution_count": null,
   "id": "169526c3-92d3-447f-b4ec-5d495d194be1",
   "metadata": {},
   "outputs": [],
   "source": [
    "# no more missing values for 'nearest_warehouse'\n",
    "print(df_missing_data[df_missing_data['nearest_warehouse'].isnull()])"
   ]
  },
  {
   "cell_type": "code",
   "execution_count": null,
   "id": "f76da13d-41c2-4141-b2f7-66e9bd7c1f14",
   "metadata": {},
   "outputs": [],
   "source": [
    "#check the indexes for the update 'nearest_warehouse' --  all done\n",
    "display(df_missing_data[['nearest_warehouse']].loc[nearest_warehouse_indexto_update])"
   ]
  },
  {
   "cell_type": "markdown",
   "id": "233fd93d-6945-4ddb-b21a-664a534d66f0",
   "metadata": {},
   "source": [
    "<a id='missing_order_price'></a>"
   ]
  },
  {
   "cell_type": "markdown",
   "id": "8771f275-2b8e-4aff-90c5-307463969a02",
   "metadata": {
    "tags": []
   },
   "source": [
    "### Identify and insert missing 'order_price' values"
   ]
  },
  {
   "cell_type": "code",
   "execution_count": null,
   "id": "2caa14e7-b91c-4cf6-9fb1-76918d46a62d",
   "metadata": {},
   "outputs": [],
   "source": [
    "# getting rows for the missing values for 'order_price'\n",
    "order_price_to_update = df_missing_data[df_missing_data['order_price'].isnull()]\n",
    "\n",
    "display(order_price_to_update[['order_price']])"
   ]
  },
  {
   "cell_type": "code",
   "execution_count": null,
   "id": "8cfcc664-28ff-4cef-afc8-bada364e6f83",
   "metadata": {},
   "outputs": [],
   "source": [
    "# getting index for the the missing values for 'order_price'\n",
    "order_price_indexto_update = df_missing_data[df_missing_data['order_price'].isnull()].index\n",
    "print(order_price_indexto_update)"
   ]
  },
  {
   "cell_type": "code",
   "execution_count": null,
   "id": "a66a1727-22d5-4af5-bb19-537e7fc3a1bb",
   "metadata": {},
   "outputs": [],
   "source": [
    "# updating missing values for 'order_price'\n",
    "for i, row in order_price_to_update.iterrows():\n",
    "    df_missing_data.at[i,'order_price'] = get_order_price(df_missing_data.at[i,'order_total'],df_missing_data.at[i,'delivery_charges'],df_missing_data.at[i,'coupon_discount'])"
   ]
  },
  {
   "cell_type": "code",
   "execution_count": null,
   "id": "a1ba47c5-6d21-4d7d-a8fd-85fce7e8d873",
   "metadata": {},
   "outputs": [],
   "source": [
    "# no more missing values for 'order_price'\n",
    "print(df_missing_data[df_missing_data['order_price'].isnull()])"
   ]
  },
  {
   "cell_type": "code",
   "execution_count": null,
   "id": "219ad6ad-84aa-49f7-b2b6-33a17e5aac74",
   "metadata": {
    "tags": []
   },
   "outputs": [],
   "source": [
    "#check the indexes for the update 'order_price' --  all done\n",
    "display(df_missing_data[['order_price']].loc[order_price_indexto_update])"
   ]
  },
  {
   "cell_type": "markdown",
   "id": "06b070e7-625f-4384-897a-44a83cc3a5fc",
   "metadata": {},
   "source": [
    "<a id='missing_order_total'></a>"
   ]
  },
  {
   "cell_type": "markdown",
   "id": "5e17d800-1f0f-411a-b0b7-8bdb9e514ff2",
   "metadata": {},
   "source": [
    "### Identify and insert missing 'order_price' values"
   ]
  },
  {
   "cell_type": "code",
   "execution_count": null,
   "id": "6f80a97d-6b87-47b5-a7f3-fc440668862c",
   "metadata": {},
   "outputs": [],
   "source": [
    "# getting rows for the missing values for 'order_total'\n",
    "order_total_to_update = df_missing_data[df_missing_data['order_total'].isnull()]\n",
    "\n",
    "display(order_total_to_update[['order_total']])"
   ]
  },
  {
   "cell_type": "code",
   "execution_count": null,
   "id": "b2824bfe-568a-4bd6-b61c-b97794187c59",
   "metadata": {},
   "outputs": [],
   "source": [
    "# getting index for the the missing values for 'order_total'\n",
    "order_total_indexto_update = df_missing_data[df_missing_data['order_total'].isnull()].index\n",
    "print(order_total_indexto_update)"
   ]
  },
  {
   "cell_type": "code",
   "execution_count": null,
   "id": "38f0b28a-84d1-4e24-aef4-fc237e17ff7b",
   "metadata": {},
   "outputs": [],
   "source": [
    "# updating missing values for 'order_total'\n",
    "for i, row in order_total_to_update.iterrows():\n",
    "    df_missing_data.at[i,'order_total'] = get_order_total(df_missing_data.at[i,'order_price'],df_missing_data.at[i,'delivery_charges'],df_missing_data.at[i,'coupon_discount'])"
   ]
  },
  {
   "cell_type": "code",
   "execution_count": null,
   "id": "20f04507-5e90-40ba-b580-e47e3cf1e20c",
   "metadata": {},
   "outputs": [],
   "source": [
    "# no more missing values for 'order_total'\n",
    "print(df_missing_data[df_missing_data['order_total'].isnull()])"
   ]
  },
  {
   "cell_type": "code",
   "execution_count": null,
   "id": "00ca30d4-1b82-473c-bb9a-72c32dd4395e",
   "metadata": {},
   "outputs": [],
   "source": [
    "#check the indexes for the update 'order_total' --  all done\n",
    "display(df_missing_data[['order_total']].loc[order_total_indexto_update])"
   ]
  },
  {
   "cell_type": "markdown",
   "id": "8abddb63-4840-420d-b000-bbffff43af9b",
   "metadata": {},
   "source": [
    "<a id='missing_season'></a>"
   ]
  },
  {
   "cell_type": "markdown",
   "id": "c7e2caaf-d480-49ba-b594-3eb381606793",
   "metadata": {},
   "source": [
    "### Identify and insert missing 'season' values"
   ]
  },
  {
   "cell_type": "code",
   "execution_count": null,
   "id": "f9fb3dd8-ff34-419a-a18f-e240dbdc461a",
   "metadata": {
    "tags": []
   },
   "outputs": [],
   "source": [
    "# getting rows for the missing values for 'season'\n",
    "season_to_update = df_missing_data[df_missing_data['season'].isnull()]\n",
    "\n",
    "display(season_to_update[['season']])"
   ]
  },
  {
   "cell_type": "code",
   "execution_count": null,
   "id": "642a360b-a734-41a9-8a70-a6b86f80bf0e",
   "metadata": {},
   "outputs": [],
   "source": [
    "# getting index for the the missing values for 'order_total'\n",
    "season_indexto_update = df_missing_data[df_missing_data['season'].isnull()].index\n",
    "print(season_indexto_update)"
   ]
  },
  {
   "cell_type": "code",
   "execution_count": null,
   "id": "c3ae807b-8e2d-40a6-8b34-1e22e1bece89",
   "metadata": {},
   "outputs": [],
   "source": [
    "# getting the unique values for 'season'\n",
    "seasons = df_missing_data['season'].sort_values().unique()\n",
    "print(seasons)"
   ]
  },
  {
   "cell_type": "code",
   "execution_count": null,
   "id": "17701abf-5888-46d5-aa16-f37e8d2a3cf9",
   "metadata": {},
   "outputs": [],
   "source": [
    "# get the season months from the grouping of the orders..obviously Southern hemisphere - a random lat long shows its Melbourne, Australia area\n",
    "season_months = df_missing_data.groupby([pd.Grouper(key='date', axis=0, freq='M'),'season']).sum().filter(items=['date','season'])\n",
    "display(season_months)\n",
    "# summer = months 12,1,2\n",
    "# Autumn = months 3,4,5\n",
    "# Winter = months 6,7,8\n",
    "# Spring = months 9,10,11"
   ]
  },
  {
   "cell_type": "code",
   "execution_count": null,
   "id": "a4802be3-f005-43c9-a552-5ecb979d6360",
   "metadata": {},
   "outputs": [],
   "source": [
    "# updating missing values for 'season'\n",
    "for i, row in df_missing_data.iterrows():\n",
    "    df_missing_data.at[i,'season'] = get_season(df_missing_data.at[i,'date'])"
   ]
  },
  {
   "cell_type": "code",
   "execution_count": null,
   "id": "0d41b27c-5368-4cbf-92ca-9923feebf1eb",
   "metadata": {},
   "outputs": [],
   "source": [
    "# no more missing values for 'season'\n",
    "print(df_missing_data[df_missing_data['season'].isnull()])"
   ]
  },
  {
   "cell_type": "code",
   "execution_count": null,
   "id": "ba1ad4df-c65e-4ee7-849a-4b830211c12e",
   "metadata": {},
   "outputs": [],
   "source": [
    "#check the indexes for the update 'season' --  all done\n",
    "display(df_missing_data[['season']].loc[order_total_indexto_update])"
   ]
  },
  {
   "cell_type": "markdown",
   "id": "69b3157f-5ab3-4f76-87f3-f72b1ab9ac4b",
   "metadata": {},
   "source": [
    "<a id='missing_distance_to_nearest_warehouse'></a>"
   ]
  },
  {
   "cell_type": "markdown",
   "id": "684c7332-b8b5-431a-ab49-2cdaa1c08364",
   "metadata": {},
   "source": [
    "### Identify and insert missing 'distance_to_nearest_warehouse' values"
   ]
  },
  {
   "cell_type": "code",
   "execution_count": null,
   "id": "43ef7bc8-7f6c-4fe8-b1b1-89a230c995b4",
   "metadata": {},
   "outputs": [],
   "source": [
    "# getting rows for the missing values for 'distance_to_nearest_warehouse'\n",
    "distance_to_nearest_warehouse_to_update = df_missing_data[df_missing_data['distance_to_nearest_warehouse'].isnull()]\n",
    "\n",
    "display(distance_to_nearest_warehouse_to_update[['distance_to_nearest_warehouse']])"
   ]
  },
  {
   "cell_type": "code",
   "execution_count": null,
   "id": "d5d0961d-5791-479b-9ee2-9c160cc420e4",
   "metadata": {},
   "outputs": [],
   "source": [
    "# getting index for the the missing values for 'distance_to_nearest_warehouse'\n",
    "distance_to_nearest_warehouse_indexto_update = df_missing_data[df_missing_data['distance_to_nearest_warehouse'].isnull()].index\n",
    "print(distance_to_nearest_warehouse_indexto_update)"
   ]
  },
  {
   "cell_type": "code",
   "execution_count": null,
   "id": "d587097c-5386-44cc-96a4-c7c9bb96ba97",
   "metadata": {},
   "outputs": [],
   "source": [
    "# updating missing values for 'distance_to_nearest_warehouse'\n",
    "for i, row in distance_to_nearest_warehouse_to_update.iterrows():\n",
    "    df_missing_data.at[i,'distance_to_nearest_warehouse'] = get_nearest_warehouse(df_missing_data.at[i,'customer_lat'],df_missing_data.at[i,'customer_long'])[1]"
   ]
  },
  {
   "cell_type": "code",
   "execution_count": null,
   "id": "f138eac8-9a8a-4491-8ac1-39b5fb3b07e9",
   "metadata": {},
   "outputs": [],
   "source": [
    "# no more missing values for 'distance_to_nearest_warehouse'\n",
    "print(df_missing_data[df_missing_data['distance_to_nearest_warehouse'].isnull()])"
   ]
  },
  {
   "cell_type": "code",
   "execution_count": null,
   "id": "cb8eaa1e-d891-4612-9546-f840340c5673",
   "metadata": {},
   "outputs": [],
   "source": [
    "#check the indexes for the update 'season' --  all done\n",
    "display(df_missing_data[['distance_to_nearest_warehouse']].loc[order_total_indexto_update])"
   ]
  },
  {
   "cell_type": "markdown",
   "id": "b8f1d5ac-bf3d-4c8d-b40d-1f23d3cc223e",
   "metadata": {},
   "source": [
    "<a id='Appenddf_dirty_datadf_missing_data'></a>"
   ]
  },
  {
   "cell_type": "markdown",
   "id": "65f496f3-7ac8-4454-98c1-817e3fa0b80e",
   "metadata": {},
   "source": [
    "# Append cleaned Dataframes df_dirty_data and df_missing_data\n",
    "***"
   ]
  },
  {
   "cell_type": "markdown",
   "id": "525e78e9-b307-498c-bae6-d8a850be9560",
   "metadata": {},
   "source": [
    "<div class='alert alert-block alert-info'><b></b>Work is complete on correcting issues with <strong>df_missing_data</strong> and <strong>df_dirty_data</strong> they are appended here to create <strong>df_order_data</strong><br> NaN are filtered from 'customer_lat', 'customer_long' and 'is_happy_customer'</div>"
   ]
  },
  {
   "cell_type": "code",
   "execution_count": null,
   "id": "09d23957-c6e4-4d95-b276-116fa29fa56e",
   "metadata": {},
   "outputs": [],
   "source": [
    "df_missing_data.shape"
   ]
  },
  {
   "cell_type": "code",
   "execution_count": null,
   "id": "b5f1c19a-a12a-4ba2-9f4e-54c2c4cab6fa",
   "metadata": {},
   "outputs": [],
   "source": [
    "df_missing_data.info()"
   ]
  },
  {
   "cell_type": "code",
   "execution_count": null,
   "id": "7e84b53d-cde2-40dc-b583-ebcbc4ede36c",
   "metadata": {},
   "outputs": [],
   "source": [
    "df_missing_data.index"
   ]
  },
  {
   "cell_type": "code",
   "execution_count": null,
   "id": "e90483a4-aa50-48c8-86f3-8a0589960c16",
   "metadata": {},
   "outputs": [],
   "source": [
    "df_missing_data.isnull().sum()"
   ]
  },
  {
   "cell_type": "code",
   "execution_count": null,
   "id": "41890901-d501-450c-b2cc-5ad6c5f99e0b",
   "metadata": {},
   "outputs": [],
   "source": [
    "df_dirty_data.shape"
   ]
  },
  {
   "cell_type": "code",
   "execution_count": null,
   "id": "5730aeb7-25a4-4b1b-86ee-87fe9dfdcc43",
   "metadata": {},
   "outputs": [],
   "source": [
    "df_dirty_data.info()"
   ]
  },
  {
   "cell_type": "code",
   "execution_count": null,
   "id": "f79d0152-a5b5-4ffa-b278-0a562e669ba0",
   "metadata": {},
   "outputs": [],
   "source": [
    "df_dirty_data.index"
   ]
  },
  {
   "cell_type": "code",
   "execution_count": null,
   "id": "d64becaf-d809-4d13-b71c-964e3670f1e1",
   "metadata": {},
   "outputs": [],
   "source": [
    "df_dirty_data.isnull().sum()"
   ]
  },
  {
   "cell_type": "code",
   "execution_count": null,
   "id": "1f788b84-a3a7-4ddb-8fe5-3db41943eadf",
   "metadata": {},
   "outputs": [],
   "source": [
    "# remove NaN for 'customer_lat', 'customer_long' and 'is_happy_customer' from df_missing_data\n",
    "df_missing_data_NoNa = df_missing_data[(df_missing_data['customer_lat'].notna()) & (df_missing_data['customer_long'].notna()) & (df_missing_data['is_happy_customer'].notna())]\n",
    "display(df_missing_data_NoNa)"
   ]
  },
  {
   "cell_type": "code",
   "execution_count": null,
   "id": "d499b712-8f6f-4097-9624-bb0ece3b93f1",
   "metadata": {},
   "outputs": [],
   "source": [
    "# create a new dataframe from df_dirty_data_NoNa and df_missing_data_NoNa \n",
    "# df_order_data = df_dirty_data_NoNa.append(df_missing_data_NoNa, ignore_index=False)\n",
    "df_order_data  = pd.concat([df_dirty_data, df_missing_data_NoNa], verify_integrity=True)\n",
    "\n",
    "# df_order_data = pd.concat([df_missing_data_NoNa, df_dirty_data_NoNa ], ignore_index=False)"
   ]
  },
  {
   "cell_type": "code",
   "execution_count": null,
   "id": "abec8911-facf-44b3-8b67-16cfb259425e",
   "metadata": {},
   "outputs": [],
   "source": [
    "df_order_data = df_order_data.reset_index()"
   ]
  },
  {
   "cell_type": "code",
   "execution_count": null,
   "id": "5ce6f4de-1747-4b92-8eff-6911f8233c9f",
   "metadata": {},
   "outputs": [],
   "source": [
    "display(df_order_data)"
   ]
  },
  {
   "cell_type": "code",
   "execution_count": null,
   "id": "6a921d6d-db84-4290-9330-38c1a93302fb",
   "metadata": {
    "tags": []
   },
   "outputs": [],
   "source": [
    "df_order_data.order_id.unique"
   ]
  },
  {
   "cell_type": "markdown",
   "id": "f4b5f0cc-8edc-473d-910d-ed7a374d27bb",
   "metadata": {
    "tags": []
   },
   "source": [
    "<a id='df_customer_addresses'></a>"
   ]
  },
  {
   "cell_type": "markdown",
   "id": "7eeef6ad-41dc-4603-a239-1f656d8d022b",
   "metadata": {
    "tags": []
   },
   "source": [
    "# Create new df_customer_addresses DataFrame and export to CSV\n",
    "***"
   ]
  },
  {
   "cell_type": "raw",
   "id": "28b70193-24ed-4e2d-9e5f-3b860b900359",
   "metadata": {},
   "source": []
  },
  {
   "cell_type": "markdown",
   "id": "8f8c391c-ef06-4d85-ba27-ab1d04584402",
   "metadata": {},
   "source": [
    "<div class='alert alert-block alert-info'><b></b><strong>df_customer_addresses</strong> is created here from <strong>df_order_data</strong>.<br><strong>df_customer_addresses</strong> contains addresses for customers by making an Nominatum API call using the <strong>get_geo_address</strong> function<br><strong>df_customer_addresses</strong> is exported to <strong>customer_addresses.csv</strong> for re-use\n",
    "<br><strong>create_df_customer_addresses = 0 </strong>so nothing will be created since i already created <strong>customer_addresses.csv</strong> for this assignment. <br>Set <strong>create_df_customer_addresses = 1 </strong> to recreate the dataset and csv</div>"
   ]
  },
  {
   "cell_type": "code",
   "execution_count": null,
   "id": "34cd9d88-6212-4aa0-9840-140c8514ff2f",
   "metadata": {},
   "outputs": [],
   "source": [
    "# getting 'customer_lat' and 'customer_long'] for df_order_data\n",
    "customerid_lat_long = df_order_data[['customer_id','customer_lat','customer_long']]\n",
    "\n",
    "display(customerid_lat_long.head(10))"
   ]
  },
  {
   "cell_type": "code",
   "execution_count": null,
   "id": "72105191-004e-4131-8d53-abeeabe7ba0b",
   "metadata": {},
   "outputs": [],
   "source": [
    "# get address for each customer and create a new Dataframe called df_customer_addresses\n",
    "# create_df_customer_addresses = 0 so it doesnt run if 'All Cells are Run'\n",
    "# Change create_df_customer_addresses = 1 to create the df_customer_addresses Dataframe, estimated time 970 records @ 1 second each ~ 17mins.. more like 30mins\n",
    "\n",
    "if create_df_customer_addresses == 1:\n",
    "    print('Creating df_customer_addresses Dataframe')\n",
    "    df_customer_addresses = pd.DataFrame()\n",
    "    x=1\n",
    "    for i, row in customerid_lat_long.iterrows():\n",
    "            #print to screen to get completion estimate from x     \n",
    "            print(row[0],row[1],row[2])\n",
    "            x+=1\n",
    "            #add 1 second delay from Nominatum rate limiting         \n",
    "            time.sleep(1)\n",
    "            # pass values to the get_geo_address function          \n",
    "            df_customer_addresses = df_customer_addresses.append({'customer_id':get_geo_address(row[0],row[1],row[2])[0], \n",
    "                        'road':get_geo_address(row[0],row[1],row[2])[1],\n",
    "                        'suburb':get_geo_address(row[0],row[1],row[2])[2],\n",
    "                        'city':get_geo_address(row[0],row[1],row[2])[3],\n",
    "                        'postcode':get_geo_address(row[0],row[1],row[2])[4],                                 \n",
    "                        'state':get_geo_address(row[0],row[1],row[2])[5], \n",
    "                        'country':get_geo_address(row[0],row[1],row[2])[6]\n",
    "                       },ignore_index=True)\n",
    "else:\n",
    "    print('Dataframe df_warehouse_addresses is previously created from CSV, use this to create the CSV')"
   ]
  },
  {
   "cell_type": "code",
   "execution_count": null,
   "id": "ed57c893-449b-4989-b72c-009d3b84059c",
   "metadata": {},
   "outputs": [],
   "source": [
    "duplicated = df_customer_addresses[df_customer_addresses.index.duplicated()]\n",
    "display(duplicated)"
   ]
  },
  {
   "cell_type": "code",
   "execution_count": null,
   "id": "a73cb2f7",
   "metadata": {},
   "outputs": [],
   "source": [
    "#  remove customer_address duplicates\n",
    "df_customer_addresses = df_customer_addresses[~df_customer_addresses.index.duplicated(keep='first')] = df_customer_addresses[~df_customer_addresses.index.duplicated(keep='first')]"
   ]
  },
  {
   "cell_type": "code",
   "execution_count": null,
   "id": "e9c817f4",
   "metadata": {},
   "outputs": [],
   "source": [
    "df_customer_addresses"
   ]
  },
  {
   "cell_type": "code",
   "execution_count": null,
   "id": "29dc7b47-011f-414d-8a8d-84f7a2c3e8ea",
   "metadata": {},
   "outputs": [],
   "source": [
    "# output df_customer_addresses created in previous step to csv in local notebook path\n",
    "if create_df_customer_addresses == 1:\n",
    "    df_customer_addresses.to_csv(r'customer_addresses.csv')"
   ]
  },
  {
   "cell_type": "code",
   "execution_count": null,
   "id": "c28baf88-fd2d-4d67-89de-7db82f6a6bd8",
   "metadata": {},
   "outputs": [],
   "source": [
    "display(df_customer_addresses)"
   ]
  },
  {
   "cell_type": "markdown",
   "id": "7f32fd29-e90d-401b-90f0-91027b8191b4",
   "metadata": {},
   "source": [
    "<a id='df_warehouse_addresses'></a>"
   ]
  },
  {
   "cell_type": "markdown",
   "id": "6098bcfa-f076-496d-8596-c3561f043f07",
   "metadata": {},
   "source": [
    "# Create new df_warehouse_addresses DataFrame and export to CSV\n",
    "***"
   ]
  },
  {
   "cell_type": "markdown",
   "id": "a1af9ced-ccc9-48ba-820b-a6bbb3aa7e20",
   "metadata": {},
   "source": [
    "<div class='alert alert-block alert-info'><b></b><strong>df_warehouse_addresses</strong> is created here from <strong>df_warehouses</strong>.<br><strong>df_warehouse_addresses</strong> contains addresses for warehouses by making an Nominatum API call using the <strong>get_geo_address</strong> function<br><strong>df_warehouse_addresses</strong> is exported to <strong>warehouse_addresses.csv</strong> for re-use<br>\n",
    "<strong>create_df_warehouse_addresses = 0 </strong>so nothing will be created since i already created <strong>warehouse_addresses.csv</strong> for this assignment. <br>Set <strong>create_df_warehouse_addresses = 1 </strong> to recreate the dataset and csv\n",
    "</div>\n"
   ]
  },
  {
   "cell_type": "code",
   "execution_count": null,
   "id": "79596025-2be6-4a03-925d-e50d05ccd989",
   "metadata": {},
   "outputs": [],
   "source": [
    "# getting '_lat' and 'customer_long'] for df_order_data\n",
    "warehouse_lat_long = df_warehouse_data[['names','lat','lon']]\n",
    "\n",
    "display(warehouse_lat_long)"
   ]
  },
  {
   "cell_type": "code",
   "execution_count": null,
   "id": "1d86929c-dbd5-4733-8093-adc100e9c7ae",
   "metadata": {},
   "outputs": [],
   "source": [
    "# get address for each customer and create a new Dataframe called df_customer_addresses\n",
    "# Change create_df_warehouse_addresses = 1 to create the create_df_warehouse_addresses Dataframe, estimated time 970 records @ 1 second each ~ 17mins.. more like 30mins\n",
    "\n",
    "if create_df_warehouse_addresses == 1:\n",
    "    print('Creating df_warehouse_addresses Dataframe')\n",
    "    df_warehouse_addresses = pd.DataFrame()\n",
    "    x=1\n",
    "    for i, row in warehouse_lat_long.iterrows():\n",
    "            #print to screen to get completion estimate from x     \n",
    "            print(x,row[0],row[1],row[2])\n",
    "            x+=1\n",
    "            #add 1 second delay from Nominatum rate limiting         \n",
    "            time.sleep(1)\n",
    "            # pass values to the get_geo_address function          \n",
    "            df_warehouse_addresses = df_warehouse_addresses.append({'warehouse':get_geo_address(row[0],row[1],row[2])[0],\n",
    "                        'road':get_geo_address(row[0],row[1],row[2])[1],\n",
    "                        'suburb':get_geo_address(row[0],row[1],row[2])[2],\n",
    "                        'city':get_geo_address(row[0],row[1],row[2])[3],\n",
    "                        'postcode':get_geo_address(row[0],row[1],row[2])[4],                                 \n",
    "                        'state':get_geo_address(row[0],row[1],row[2])[5], \n",
    "                        'country':get_geo_address(row[0],row[1],row[2])[6]\n",
    "                       },ignore_index=True)\n",
    "else:\n",
    "    print('Dataframe df_warehouse_addresses not required')\n"
   ]
  },
  {
   "cell_type": "code",
   "execution_count": null,
   "id": "220f2fe8-44b8-497d-999a-f8bb63358560",
   "metadata": {},
   "outputs": [],
   "source": [
    "# output df_customer_addresses created in previous step to csv in local notebook path\n",
    "if create_df_warehouse_addresses == 1:\n",
    "    df_warehouse_addresses.to_csv(r'warehouse_addresses.csv')"
   ]
  },
  {
   "cell_type": "code",
   "execution_count": null,
   "id": "4347bd07-0cfe-4b50-8d60-28b093c8699a",
   "metadata": {},
   "outputs": [],
   "source": [
    "display(df_warehouse_addresses)"
   ]
  },
  {
   "cell_type": "markdown",
   "id": "7d162b1d-90c0-431c-99bc-11a3848ff725",
   "metadata": {},
   "source": [
    "<a id='merge_df_order_data'></a>"
   ]
  },
  {
   "cell_type": "markdown",
   "id": "78872474-40c1-445d-affa-63124884d8db",
   "metadata": {},
   "source": [
    "# Merge df_order_data, df_customer_addresses and df_warehouse_addresses\n",
    "***"
   ]
  },
  {
   "cell_type": "markdown",
   "id": "9799fb3f-dc6b-47c9-9d1e-2ea53377883b",
   "metadata": {},
   "source": [
    "<div class='alert alert-block alert-info'><b></b>Merging <strong>df_order_data</strong>, <strong>df_customer_addresses</strong> and <strong>df_warehouse_addresses</strong> to create <strong>df_order_data_full</strong></div>"
   ]
  },
  {
   "cell_type": "code",
   "execution_count": null,
   "id": "ab9f502e-25f5-48a5-a775-ff0410e7c33f",
   "metadata": {},
   "outputs": [],
   "source": [
    "# data in df_order_data is cleanso we can merge with df_customer_addresses and df_warehouse_addresses\n",
    "df_order_data_full = df_order_data.merge(df_customer_addresses, how='left', on=['customer_id'])\\\n",
    ".merge(df_warehouse_addresses, how='left',left_on='nearest_warehouse', right_on='warehouse', suffixes=('_cust','_warehouse'))"
   ]
  },
  {
   "cell_type": "code",
   "execution_count": null,
   "id": "5f190c40-74fc-423c-ade4-f7a2b15e9423",
   "metadata": {},
   "outputs": [],
   "source": [
    "df_order_data_full.shape"
   ]
  },
  {
   "cell_type": "code",
   "execution_count": null,
   "id": "fd5339e7-af2a-4c79-ae07-4372c46d181e",
   "metadata": {},
   "outputs": [],
   "source": [
    "df_order_data_full.isnull().sum()"
   ]
  },
  {
   "cell_type": "code",
   "execution_count": null,
   "id": "e2e35dc3-8ed4-4b3f-bc3f-3a9f7138d5a8",
   "metadata": {},
   "outputs": [],
   "source": [
    "display(df_order_data_full[df_order_data_full['is_happy_customer']].head())"
   ]
  },
  {
   "cell_type": "code",
   "execution_count": null,
   "id": "363a306e-6ccc-43d0-91da-c416979f7c0f",
   "metadata": {},
   "outputs": [],
   "source": [
    "display(df_order_data_full.columns)"
   ]
  },
  {
   "cell_type": "markdown",
   "id": "13fa73e2-bc2d-410a-87fd-ebde94426e6c",
   "metadata": {},
   "source": [
    "<a id='summary_statistics'></a>"
   ]
  },
  {
   "cell_type": "markdown",
   "id": "0c2b1fef",
   "metadata": {},
   "source": [
    "# Summary Statistics"
   ]
  },
  {
   "cell_type": "code",
   "execution_count": null,
   "id": "02670a9f",
   "metadata": {},
   "outputs": [],
   "source": [
    "df_order_data_full['coupon_discount'].value_counts(sort=True)"
   ]
  },
  {
   "cell_type": "code",
   "execution_count": null,
   "id": "f6e07770",
   "metadata": {},
   "outputs": [],
   "source": [
    "df_order_data_full['is_happy_customer'].value_counts(sort=True)"
   ]
  },
  {
   "cell_type": "code",
   "execution_count": null,
   "id": "6b54717b",
   "metadata": {},
   "outputs": [],
   "source": [
    "df_order_data_full['nearest_warehouse'].value_counts(sort=True)"
   ]
  },
  {
   "cell_type": "code",
   "execution_count": null,
   "id": "e4ebbcd8",
   "metadata": {},
   "outputs": [],
   "source": [
    "df_order_data_full['nearest_warehouse'].value_counts(normalize=True)"
   ]
  },
  {
   "cell_type": "code",
   "execution_count": null,
   "id": "67b243c0",
   "metadata": {},
   "outputs": [],
   "source": [
    "df_order_data_full.groupby('nearest_warehouse')['is_happy_customer'].mean()"
   ]
  },
  {
   "cell_type": "code",
   "execution_count": null,
   "id": "9f8162c4",
   "metadata": {},
   "outputs": [],
   "source": [
    "df_order_data_full.groupby('nearest_warehouse')['order_total'].agg([min, max, sum])"
   ]
  },
  {
   "cell_type": "code",
   "execution_count": null,
   "id": "1ce89298",
   "metadata": {},
   "outputs": [],
   "source": [
    "df_order_data_full.pivot_table(values=\"order_total\", index=\"nearest_warehouse\", aggfunc=[np.mean, np.median])"
   ]
  },
  {
   "cell_type": "code",
   "execution_count": null,
   "id": "ddfef557-cbce-4689-8ff4-1c1aaa4c74e8",
   "metadata": {},
   "outputs": [],
   "source": [
    "# function to sum calculations to compare to catplot\n",
    "\n",
    "def SumWarehouseOrderTotal(warehouse):\n",
    "    order_winter=df_order_data_full[np.logical_and(df_order_data_full['season'] == 'Winter', df_order_data_full['nearest_warehouse'] == warehouse)]['order_total'].sum()\n",
    "    order_summer=df_order_data_full[np.logical_and(df_order_data_full['season'] == 'Summer', df_order_data_full['nearest_warehouse'] == warehouse)]['order_total'].sum()\n",
    "    order_autumn=df_order_data_full[np.logical_and(df_order_data_full['season'] == 'Autumn', df_order_data_full['nearest_warehouse'] == warehouse)]['order_total'].sum()\n",
    "    order_spring=df_order_data_full[np.logical_and(df_order_data_full['season'] == 'Spring', df_order_data_full['nearest_warehouse'] == warehouse)]['order_total'].sum()\n",
    "    print(warehouse + ': Winter(sum): ',order_winter,'\\n' + warehouse + ': Summer(sum): ',order_summer,'\\n' + warehouse + ': Autumn(sum): ',order_autumn,'\\n' + warehouse + ': Spring(sum): ',order_spring)"
   ]
  },
  {
   "cell_type": "code",
   "execution_count": null,
   "id": "486da296-00cd-47bc-b733-894a32ce5656",
   "metadata": {},
   "outputs": [],
   "source": [
    "SumWarehouseOrderTotal('Bakers')"
   ]
  },
  {
   "cell_type": "code",
   "execution_count": null,
   "id": "e8ba8505-162d-4084-af1f-4b4682abbc94",
   "metadata": {
    "tags": []
   },
   "outputs": [],
   "source": [
    "SumWarehouseOrderTotal('Thompson')"
   ]
  },
  {
   "cell_type": "code",
   "execution_count": null,
   "id": "b15f5418-4d62-4f04-bb75-3e1667dcc3bf",
   "metadata": {},
   "outputs": [],
   "source": [
    "SumWarehouseOrderTotal('Nickolson')"
   ]
  },
  {
   "cell_type": "code",
   "execution_count": null,
   "id": "829e5c0e-e3e9-4714-8c0c-3ad7da25a97c",
   "metadata": {},
   "outputs": [],
   "source": [
    "warehouses = df_order_data_full.groupby(['nearest_warehouse'])['order_id'].count()\n",
    "print(warehouses)"
   ]
  },
  {
   "cell_type": "markdown",
   "id": "96b36a49",
   "metadata": {},
   "source": [
    "<a id='Visualisations'></a>"
   ]
  },
  {
   "cell_type": "markdown",
   "id": "9f5d77d5-842c-4aea-93b4-795e396bc4a0",
   "metadata": {},
   "source": [
    "# Visualisations\n",
    "***"
   ]
  },
  {
   "cell_type": "markdown",
   "id": "8532e2ad-1c76-406b-b34f-557ec5caad72",
   "metadata": {},
   "source": [
    "<div class='alert alert-block alert-info'><b></b>Create Visualations for Analysis</div>"
   ]
  },
  {
   "cell_type": "code",
   "execution_count": null,
   "id": "ea6a8b41-90fe-43c2-ad97-e7557d04164c",
   "metadata": {},
   "outputs": [],
   "source": [
    "df_order_data_full.columns"
   ]
  },
  {
   "cell_type": "code",
   "execution_count": null,
   "id": "39aeeae9-f0fb-4444-b5bf-9d7935dabd1e",
   "metadata": {},
   "outputs": [],
   "source": [
    "#  total order price by happiness\n",
    "sns.set_theme(style='darkgrid',palette='Set2')\n",
    "plt.figure(figsize = (14, 10))\n",
    "\n",
    "# Draw a sub violinplot and split for easier comparison\n",
    "cp = sns.violinplot(data=df_order_data_full, x='nearest_warehouse', y='order_total', hue='is_happy_customer',split=True, inner='quart', linewidth=1)\n",
    "cp.set_title('Order total per Warehouse by Customer Happiness ', fontsize=15);\n",
    "cp.set_xlabel('\\nWarehouse')\n",
    "cp.set_ylabel('Order Total')\n",
    "cp.legend(handles=ax.legend_.legendHandles, labels=['Unhappy', 'Happy'])\n",
    "sns.despine(left=True)\n",
    "# plt.savefig('Plot_Images/1_Total_Order_Price_by_Happiness.jpg')\n",
    "plt.show();"
   ]
  },
  {
   "cell_type": "code",
   "execution_count": null,
   "id": "15a38930-36f1-4d62-8e59-39ccbf26256d",
   "metadata": {},
   "outputs": [],
   "source": [
    "#  Delivery Charge by Happiness\n",
    "\n",
    "sns.set_theme(style='darkgrid',palette='Set2')\n",
    "plt.figure(figsize = (14, 10))\n",
    "\n",
    "# Draw a sub violinplot and split for easier comparison\n",
    "cp = sns.violinplot(data=df_order_data_full, x='nearest_warehouse', y='delivery_charges', hue='is_happy_customer',split=True, inner='quart', linewidth=1)\n",
    "cp.set_title('Delivery Charge per Warehouse by Customer Happiness ', fontsize=15);\n",
    "cp.set_xlabel('\\nWarehouse')\n",
    "cp.set_ylabel('Delivery Charge')\n",
    "cp.legend(handles=ax.legend_.legendHandles, labels=['Unhappy', 'Happy'])\n",
    "sns.despine(left=True)\n",
    "# plt.savefig('Plot_Images/2_Delivery_Charge_by_Happiness.jpg')\n",
    "plt.show();"
   ]
  },
  {
   "cell_type": "code",
   "execution_count": null,
   "id": "107e844c-3fcc-43b2-9ed1-f1052f37a57f",
   "metadata": {},
   "outputs": [],
   "source": [
    "# calculate the order discount and add new column to df_order_data_full\n",
    "df_order_data_full['order_discount'] = (df_order_data_full['order_price'] / 100) * df_order_data_full['coupon_discount']"
   ]
  },
  {
   "cell_type": "code",
   "execution_count": null,
   "id": "9d4743c1-4f44-44e0-a68d-26f8d9ad1de1",
   "metadata": {},
   "outputs": [],
   "source": [
    "# Order Discount by Happiness\n",
    "\n",
    "sns.set_theme(style='darkgrid',palette='Set2')\n",
    "plt.figure(figsize = (14, 10))\n",
    "\n",
    "# Draw a sub violinplot and split for easier comparison\n",
    "cp = sns.violinplot(data=df_order_data_full, x='nearest_warehouse', y='order_discount', hue='is_happy_customer',split=True, inner='quart', linewidth=1)\n",
    "cp.set_title('Order Discount per Warehouse by Customer Happiness ', fontsize=15);\n",
    "cp.set_xlabel('\\nWarehouse')\n",
    "cp.set_ylabel('Order Discount')\n",
    "cp.legend(handles=ax.legend_.legendHandles, labels=['Unhappy', 'Happy'])\n",
    "sns.despine(left=True)\n",
    "# plt.savefig('Plot_Images/3_Order_Discount_by_Happiness.jpg')\n",
    "plt.show();"
   ]
  },
  {
   "cell_type": "code",
   "execution_count": null,
   "id": "416bb1f1-0973-48ab-85d2-f53443972f11",
   "metadata": {},
   "outputs": [],
   "source": [
    "# some order discounts seem high , checking if calculations are correct , all ok\n",
    "df_order_data_full[df_order_data_full['order_discount'] > 5000].sort_values(by='order_discount', ascending=False).head()"
   ]
  },
  {
   "cell_type": "code",
   "execution_count": null,
   "id": "a0486d5c-36fc-438f-9606-8ae1ac6957ff",
   "metadata": {},
   "outputs": [],
   "source": [
    "# some order discounts seem high , checking if calculations are correct , all ok\n",
    "df_order_data_full[['order_price','coupon_discount']].sort_values(by=['order_price','coupon_discount'],ascending = False)"
   ]
  },
  {
   "cell_type": "code",
   "execution_count": null,
   "id": "e0be58ab-83a3-4c98-94db-95b33eee777d",
   "metadata": {},
   "outputs": [],
   "source": [
    "# Order Totals by Warehouse\n",
    "season_order_tot = df_order_data_full.groupby(['nearest_warehouse'])['order_total'].sum()\n",
    "\n",
    "sns.set_theme(style='darkgrid',palette='Set2')\n",
    "plt.figure(figsize = (14, 10))\n",
    "\n",
    "season_order_tot.plot(kind = 'pie', title='Order Total by Warehouse')\n",
    "\n",
    "fontdict = { 'fontsize': 30}\n",
    "# plt.savefig('Plot_Images/4_Order_Total_by_Warehouse.jpg')\n",
    "plt.show();"
   ]
  },
  {
   "cell_type": "code",
   "execution_count": null,
   "id": "2b88e4ab-f03d-418a-876b-b1ef75fb2089",
   "metadata": {},
   "outputs": [],
   "source": [
    "# Total order value by Season grouped by Warehouse\n",
    "sns.set_theme(style='darkgrid',palette='Set2')\n",
    "\n",
    "cp = sns.catplot(x='nearest_warehouse', y='order_total', estimator=sum, data=df_order_data_full, kind='bar', hue='season',ci=None, legend=False)\n",
    "cp.fig.set_size_inches(14, 10)\n",
    "cp.fig.subplots_adjust(top=0.81,right=0.86) \n",
    "cp.set_ylabels('Sum of Order Total', fontsize=15)\n",
    "cp.set_xlabels('Warehouse by Season', fontsize=15)\n",
    "cp.set(title='Order Totals by Warehouse by Season')\n",
    "cp.ax.legend(loc=1,fontsize=12)\n",
    "\n",
    "ax = cp.facet_axis(0,0)\n",
    "for pos in ax.patches:\n",
    "    ax.text(pos.get_x() + .03, \n",
    "            pos.get_height() * 1.01, \n",
    "           '{0:.003f}M'.format(pos.get_height()/1000000),\n",
    "            color='black', \n",
    "            rotation='horizontal', \n",
    "            size='medium')\n",
    "# plt.savefig('Plot_Images/5_Total_Order_Value_by_Season_Grouped_by_Warehouse.jpg')\n",
    "plt.show();"
   ]
  },
  {
   "cell_type": "code",
   "execution_count": null,
   "id": "b31ebbb7-0162-4503-b96f-60bb459b1220",
   "metadata": {},
   "outputs": [],
   "source": [
    "# average distance to nearest Warehouse\n",
    "sns.set_theme(style='darkgrid', palette='Set2')\n",
    "\n",
    "cp = sns.catplot(x='nearest_warehouse', y='distance_to_nearest_warehouse', data=df_order_data_full, kind='bar', hue='season',ci=None, legend=False)\n",
    "cp.fig.set_size_inches(14,10)\n",
    "cp.fig.subplots_adjust(top=0.81,right=0.86) \n",
    "cp.set_ylabels('Distance to nearest Warehouse', fontsize=15)\n",
    "cp.set_xlabels('Warehouse by Season', fontsize=15)\n",
    "cp.set(title='Average Distance to Warehouse by Season')\n",
    "cp.ax.legend(loc=1,fontsize=12)\n",
    "\n",
    "ax = cp.facet_axis(0,0)\n",
    "for pos in ax.patches:\n",
    "    ax.text(pos.get_x() + .05, \n",
    "            pos.get_height() * 1.02, \n",
    "           '{0:.1f}'.format(pos.get_height()),\n",
    "            color='black', \n",
    "            rotation='horizontal', \n",
    "            size='large')\n",
    "# plt.savefig('Plot_Images/6_Average_Distance_to_Warehouse_by_Season.jpg')\n",
    "plt.show();"
   ]
  },
  {
   "cell_type": "code",
   "execution_count": null,
   "id": "00e6d7c2-6dad-43c6-899a-5b2540a46125",
   "metadata": {},
   "outputs": [],
   "source": [
    "# Order Total by Season Over Time\n",
    "sns.set_theme(style='darkgrid',palette='Set2')\n",
    "plt.figure(figsize = (14, 10))\n",
    "plt.title('Order Total by Season Over Time', fontsize=15)\n",
    "sns.scatterplot(data=df_order_data_full, x='date', y='order_total', hue='season')\n",
    "# plt.savefig('Plot_Images/7_Order_Total_by_Season_Over_Time.jpg')\n",
    "plt.show();"
   ]
  },
  {
   "cell_type": "code",
   "execution_count": null,
   "id": "03f3b080-8ab3-4d14-b0b5-0f63818612ed",
   "metadata": {},
   "outputs": [],
   "source": [
    "# Order Total by Warehouse Over Time\n",
    "sns.set_theme(style='darkgrid',palette='Set2')\n",
    "plt.figure(figsize = (14, 10))\n",
    "plt.title('Order Total by Warehouse Over Time', fontsize=15)\n",
    "sns.scatterplot(data=df_order_data_full, x='date', y='order_total', hue='nearest_warehouse')\n",
    "# plt.savefig('Plot_Images/8_Order_Total_by_Warehouse_Over_Time.jpg')\n",
    "plt.show();"
   ]
  },
  {
   "cell_type": "code",
   "execution_count": null,
   "id": "cdbe920e-1647-47fc-a545-15f37c4717ed",
   "metadata": {},
   "outputs": [],
   "source": [
    "# Order Total by delivery charge Over Time'\n",
    "plt.figure(figsize = (14, 10))\n",
    "sns.set_theme(palette='Set2', style='darkgrid')\n",
    "plt.title('Order Total by Delivery Charge Over Time', fontsize=15)\n",
    "sns.scatterplot(data=df_order_data_full, x='order_total', y='delivery_charges', hue='delivery_charges')\n",
    "# plt.savefig('Plot_Images/9_Order_Total_by_Delivery_Charge_Over_Time.jpg')\n",
    "plt.show();"
   ]
  },
  {
   "cell_type": "code",
   "execution_count": null,
   "id": "db427815-5d89-4e25-8074-747508417845",
   "metadata": {},
   "outputs": [],
   "source": [
    "# Total Daily Order Value versus Total Daily Delivery Charge\n",
    "sns.set_theme(style='darkgrid',palette='Set2')\n",
    "\n",
    "x =  df_order_data_full['date'].sort_values().unique()\n",
    "data_1 = df_order_data_full.groupby(['date'])['order_total'].sum()\n",
    "data_2 = df_order_data_full.groupby(['date'])['delivery_charges'].sum()\n",
    "\n",
    "plt.figure(figsize=(14,8));\n",
    "\n",
    "fig, ax1 = plt.subplots(figsize=(14,10))\n",
    "\n",
    "ax1.set_xlabel('Date') \n",
    "ax1.set_ylabel('Total Daily Order Value') \n",
    "plot_1 = ax1.plot(x, data_1, label='order_total') \n",
    "ax1.tick_params(axis ='y');\n",
    "\n",
    "ax2 = ax1.twinx() \n",
    "ax2.set_ylabel('Total daily Delivery Charge') \n",
    "plot_2 = ax2.plot(x, data_2,color='orange' ,label = 'delivery_charges') \n",
    "ax2.tick_params(axis ='y')\n",
    "\n",
    "lns = plot_1 + plot_2 \n",
    "labels = [l.get_label() for l in lns]\n",
    "plt.title('Total Daily Order Value versus Total Daily Delivery Charge',fontsize=15)\n",
    "plt.legend(lns, labels, loc=0)\n",
    "plt.savefig('Plot_Images/10_Total_Daily_Order_Value_versus_Total_Daily_Delivery_Charge.jpg')\n",
    "plt.show();"
   ]
  },
  {
   "cell_type": "code",
   "execution_count": null,
   "id": "6a26f5ad-af74-4b88-bb07-16b17a75f6ea",
   "metadata": {},
   "outputs": [],
   "source": []
  }
 ],
 "metadata": {
  "kernelspec": {
   "display_name": "Python 3 (ipykernel)",
   "language": "python",
   "name": "python3"
  },
  "language_info": {
   "codemirror_mode": {
    "name": "ipython",
    "version": 3
   },
   "file_extension": ".py",
   "mimetype": "text/x-python",
   "name": "python",
   "nbconvert_exporter": "python",
   "pygments_lexer": "ipython3",
   "version": "3.9.7"
  },
  "toc-autonumbering": true,
  "toc-showcode": false,
  "toc-showmarkdowntxt": false,
  "toc-showtags": false
 },
 "nbformat": 4,
 "nbformat_minor": 5
}
