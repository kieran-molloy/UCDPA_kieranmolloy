{
 "cells": [
  {
   "cell_type": "markdown",
   "id": "62b73650-40bf-4cf5-b0e1-add5e135416a",
   "metadata": {},
   "source": [
    "# Kieran Molloy UCDPA Project \n",
    "### Course CIDAB 2022-01-18\n",
    "***"
   ]
  },
  {
   "cell_type": "markdown",
   "id": "c778e28c-3ac9-4b69-9a21-a14a798d209b",
   "metadata": {},
   "source": [
    "### Environment Information\n",
    "<table align=\"left\">\n",
    "<tr>\n",
    "    <th>Environment Type</th>\n",
    "    <th>Anaconda Version</th>\n",
    "    <th>Anaconda Build Channel</th>\n",
    "    <th>Python Version</th>\n",
    "</tr>\n",
    "<tr>\n",
    "    <td>Anaconda </td>\n",
    "    <td>2021.11 </td>\n",
    "    <td>py39_0 </td>\n",
    "    <td>3.9.7 </td>\n",
    "</tr>\n",
    "</table>"
   ]
  },
  {
   "cell_type": "markdown",
   "id": "afe1772b-f4b1-4b51-a3a4-9c24f29ed8d3",
   "metadata": {
    "tags": []
   },
   "source": [
    "## Links to Kaggle Datasource: \n",
    "***\n",
    "\n",
    "#### _[Transactional Retail Dataset of Electronics Store](https://www.kaggle.com/datasets/muhammadshahrayar/transactional-retail-dataset-of-electronics-store)_\n",
    "\n",
    "*  _[dirty_data.csv](https://www.kaggle.com/datasets/muhammadshahrayar/transactional-retail-dataset-of-electronics-store?select=dirty_data.csv)_\n",
    "*  _[missing_data.csv](https://www.kaggle.com/datasets/muhammadshahrayar/transactional-retail-dataset-of-electronics-store?select=missing_data.csv)_\n",
    "*  _[warehouses.csv](https://www.kaggle.com/datasets/muhammadshahrayar/transactional-retail-dataset-of-electronics-store?select=warehouses.csv)_\n"
   ]
  },
  {
   "cell_type": "markdown",
   "id": "46c99b8e-b1e6-4b5c-9436-6e63806301af",
   "metadata": {},
   "source": [
    "## Install Modules"
   ]
  },
  {
   "cell_type": "code",
   "execution_count": 156,
   "id": "879d252f-8f3c-4757-94e9-cdb84a520855",
   "metadata": {},
   "outputs": [
    {
     "name": "stdout",
     "output_type": "stream",
     "text": [
      "Collecting plotly\n",
      "  Downloading plotly-5.6.0-py2.py3-none-any.whl (27.7 MB)\n",
      "\u001b[K     |████████████████████████████████| 27.7 MB 3.8 MB/s eta 0:00:01\n",
      "\u001b[?25hCollecting tenacity>=6.2.0\n",
      "  Using cached tenacity-8.0.1-py3-none-any.whl (24 kB)\n",
      "Requirement already satisfied: six in /Users/kieran/opt/anaconda3/lib/python3.9/site-packages (from plotly) (1.16.0)\n",
      "Installing collected packages: tenacity, plotly\n",
      "Successfully installed plotly-5.6.0 tenacity-8.0.1\n",
      "Note: you may need to restart the kernel to use updated packages.\n"
     ]
    }
   ],
   "source": [
    "# %pip install geopy\n",
    "%pip install plotly"
   ]
  },
  {
   "cell_type": "markdown",
   "id": "e954165f-785e-469f-9d11-f464f7ce3008",
   "metadata": {},
   "source": [
    "## Import Modules\n",
    "***"
   ]
  },
  {
   "cell_type": "code",
   "execution_count": 157,
   "id": "7fb5ef44-cccd-4c79-b53b-64ac594b15e3",
   "metadata": {},
   "outputs": [],
   "source": [
    "from matplotlib import pyplot as plt\n",
    "from IPython.display import display \n",
    "\n",
    "import pandas as pd\n",
    "import numpy as np\n",
    "import seaborn as sns\n",
    "import itertools\n",
    "import time\n",
    "from datetime import datetime\n",
    "\n",
    "from geopy.distance import geodesic\n",
    "from geopy.geocoders import Nominatim\n",
    "import plotly.express as px "
   ]
  },
  {
   "cell_type": "markdown",
   "id": "aa0be544-123d-4dc7-9429-df54040e671b",
   "metadata": {},
   "source": [
    "## Set Variables\n",
    "***"
   ]
  },
  {
   "cell_type": "code",
   "execution_count": null,
   "id": "82297830-167e-46bc-83b0-36026355871b",
   "metadata": {},
   "outputs": [],
   "source": [
    "dirty_data = 'dirty_data.csv'\n",
    "missing_data = 'missing_data.csv'\n",
    "warehouses = 'warehouses.csv'"
   ]
  },
  {
   "cell_type": "markdown",
   "id": "b4a97a52-1f03-4cca-84ea-fc64d0b2c2e1",
   "metadata": {
    "tags": []
   },
   "source": [
    "## Functions\n",
    "***"
   ]
  },
  {
   "cell_type": "code",
   "execution_count": null,
   "id": "a0aee1ca-9eb0-4972-b84a-fe555c89e8b4",
   "metadata": {},
   "outputs": [],
   "source": [
    "def get_missing_nearest_warehouse(lat , Long ):\n",
    "    ''' use coordinates to find the closest warehouse (clrow flies)'''\n",
    "    \n",
    "    # customer coordinates are provided\n",
    "    coords_customer = lat, Long\n",
    "    \n",
    "    # get warehouse latitude and longitide from warehouse table\n",
    "    coords_Nickolson = df_warehouses['lat'].loc[df_warehouses.index[0]], df_warehouses['lon'].loc[df_warehouses.index[0]]\n",
    "    coords_Thompson = df_warehouses['lat'].loc[df_warehouses.index[1]], df_warehouses['lon'].loc[df_warehouses.index[1]]\n",
    "    coords_Bakers = df_warehouses['lat'].loc[df_warehouses.index[2]], df_warehouses['lon'].loc[df_warehouses.index[2]]\n",
    "    \n",
    "    # use geodesic to do a km distance comparison return the min value\n",
    "    Nickolson_cust_dist = geodesic(coords_customer, coords_Nickolson).km\n",
    "    Thompson_cust_dist = geodesic(coords_customer, coords_Thompson).km\n",
    "    Bakers_cust_dist = geodesic(coords_customer, coords_Bakers).km\n",
    "    \n",
    "    val = (Nickolson_cust_dist ,Thompson_cust_dist ,Bakers_cust_dist)\n",
    "    \n",
    "    min_dist = val.index(min(val))\n",
    "    \n",
    "    if min_dist == 0:\n",
    "        warehouse = 'Nickolson'\n",
    "        distance = Nickolson_cust_dist\n",
    "        return(warehouse , distance)\n",
    "    elif min_dist == 1:\n",
    "        warehouse = 'Thompson'\n",
    "        distance = Nickolson_cust_dist\n",
    "        return(warehouse , distance)\n",
    "    else: \n",
    "        warehouse = 'Bakers'\n",
    "        distance = Nickolson_cust_dist\n",
    "        return(str(warehouse) , distance)"
   ]
  },
  {
   "cell_type": "code",
   "execution_count": null,
   "id": "f9c3130b-999f-4a0a-b752-21265f8eb20c",
   "metadata": {},
   "outputs": [],
   "source": [
    "def get_missing_order_price(order_total, delivery_charges, coupon_discount):\n",
    "    ''' calculate order_price from order_total, delivery_charges and coupon_discount '''\n",
    "    order_price = (order_total - delivery_charges) / (100-coupon_discount) * 100\n",
    "    return(round(order_price, 2))"
   ]
  },
  {
   "cell_type": "code",
   "execution_count": null,
   "id": "24d8ad60-44ef-46bc-9465-a94ce7956f9a",
   "metadata": {},
   "outputs": [],
   "source": [
    "def get_missing_order_total(order_price, delivery_charges, coupon_discount):\n",
    "    ''' calculate order_total from order_price, delivery_charges and coupon_discount'''\n",
    "    order_total = order_price - (order_price / 100 * coupon_discount) + delivery_charges\n",
    "    return(round(order_total, 2))"
   ]
  },
  {
   "cell_type": "code",
   "execution_count": null,
   "id": "061ab880-0f9e-4ca1-ba42-0deb9082a277",
   "metadata": {},
   "outputs": [],
   "source": [
    "def get_missing_season(date):\n",
    "    '''calculate season from date'''\n",
    "    # Spring = months 9,10,11\n",
    "    # summer = months 12,1,2\n",
    "    # Autumn = months 3,4,5\n",
    "    # Winter = months 6,7,8\n",
    "\n",
    "    month = date.month\n",
    "\n",
    "    if month in [9,10,11]:\n",
    "        season = 'Spring'\n",
    "    elif month in [12,1,2]:\n",
    "        season = 'Summer'\n",
    "    elif month in [3,4,5]:\n",
    "        season = 'Autumn'\n",
    "    else:\n",
    "        season = 'Winter'\n",
    "    \n",
    "    return(season)"
   ]
  },
  {
   "cell_type": "code",
   "execution_count": null,
   "id": "c1317990-e3c3-4bc5-9a51-cc9c3cd6709a",
   "metadata": {},
   "outputs": [],
   "source": [
    "def get_geo_address(customer_id, lat, long):\n",
    "\n",
    "    geolocator = Nominatim(user_agent=\"app\")\n",
    "    \n",
    "    coordinates =  str(lat) + \" \" + str(long)\n",
    "\n",
    "    location = geolocator.reverse(coordinates)\n",
    "    address = location.raw['address']\n",
    "    road = address.get('road', '')\n",
    "    suburb = address.get('suburb', '')\n",
    "    city = address.get('city', '')\n",
    "    postcode = address.get('postcode', '')\n",
    "    state = address.get('state', '')\n",
    "    country = address.get('country', '')\n",
    "    \n",
    "    return(customer_id, road, suburb, city, postcode, state, country)"
   ]
  },
  {
   "cell_type": "markdown",
   "id": "2dfd0b92-8771-4163-af08-d7bceb0c567b",
   "metadata": {
    "tags": []
   },
   "source": [
    "## CSV Initial Import for Review\n",
    "***"
   ]
  },
  {
   "cell_type": "code",
   "execution_count": null,
   "id": "c83e5fb3-0851-46c9-9bee-ecc62ccf1bda",
   "metadata": {},
   "outputs": [],
   "source": [
    "# read the CSV from the local Jupyter Notebook directory \n",
    "df_dirty_data = pd.read_csv(dirty_data)\n",
    "df_missing_data = pd.read_csv(missing_data)\n",
    "df_warehouses = pd.read_csv(warehouses)"
   ]
  },
  {
   "cell_type": "markdown",
   "id": "952b0116-adff-45ee-96bd-b089410d845a",
   "metadata": {
    "toc-hr-collapsed": true
   },
   "source": [
    "## Initial CSV Review\n",
    "***"
   ]
  },
  {
   "cell_type": "markdown",
   "id": "849d9fa2-d21f-4964-b2b7-98eef342b08a",
   "metadata": {},
   "source": [
    "### df_dirty_data dataframe review"
   ]
  },
  {
   "cell_type": "code",
   "execution_count": null,
   "id": "388aeae0-cca8-4d2b-a240-4c0c09b1c40e",
   "metadata": {},
   "outputs": [],
   "source": [
    "type(df_dirty_data)"
   ]
  },
  {
   "cell_type": "code",
   "execution_count": null,
   "id": "bb2ae2d7-edcf-4cec-98d3-066e3a9f1f56",
   "metadata": {},
   "outputs": [],
   "source": [
    "print(df_dirty_data.columns)"
   ]
  },
  {
   "cell_type": "code",
   "execution_count": null,
   "id": "1720377b-2e41-439d-b8c9-e80a9688850d",
   "metadata": {
    "tags": []
   },
   "outputs": [],
   "source": [
    "df_dirty_data.head(10)"
   ]
  },
  {
   "cell_type": "code",
   "execution_count": null,
   "id": "10acd33b-e9ec-4111-8c62-8db0daa1861f",
   "metadata": {},
   "outputs": [],
   "source": [
    "# using display command for better formatting in Notebook , use print usually\n",
    "display(df_dirty_data.describe())"
   ]
  },
  {
   "cell_type": "code",
   "execution_count": null,
   "id": "6a944981-e550-49b6-9203-a451ea533b9b",
   "metadata": {},
   "outputs": [],
   "source": [
    "print(df_dirty_data.info())"
   ]
  },
  {
   "cell_type": "code",
   "execution_count": null,
   "id": "7bc22bf2-f085-4b6d-bc84-1cdca978d4c5",
   "metadata": {},
   "outputs": [],
   "source": [
    "print(df_dirty_data.shape)"
   ]
  },
  {
   "cell_type": "code",
   "execution_count": null,
   "id": "e43166f6-aa90-45df-87f0-fdf5b3003015",
   "metadata": {},
   "outputs": [],
   "source": [
    "print(df_dirty_data.isna().any())"
   ]
  },
  {
   "cell_type": "code",
   "execution_count": null,
   "id": "65e724c4-939d-4ab8-a754-3013a745c859",
   "metadata": {},
   "outputs": [],
   "source": [
    "print(df_dirty_data.isna().sum())"
   ]
  },
  {
   "cell_type": "markdown",
   "id": "6d52ed62-38b9-4c5d-bfd4-567f4267f1f0",
   "metadata": {},
   "source": [
    "### df_missing_data dataframe review"
   ]
  },
  {
   "cell_type": "code",
   "execution_count": null,
   "id": "b7550627-ac18-4396-b32e-b842880fbd12",
   "metadata": {
    "tags": []
   },
   "outputs": [],
   "source": [
    "type(df_missing_data)"
   ]
  },
  {
   "cell_type": "code",
   "execution_count": null,
   "id": "627579ee-6649-4b88-bf58-0419e4de0e6e",
   "metadata": {},
   "outputs": [],
   "source": [
    "print(df_missing_data.columns)"
   ]
  },
  {
   "cell_type": "code",
   "execution_count": null,
   "id": "fccae01e-e519-444c-826d-ec912fe11314",
   "metadata": {
    "tags": []
   },
   "outputs": [],
   "source": [
    "df_missing_data.head(10)"
   ]
  },
  {
   "cell_type": "code",
   "execution_count": null,
   "id": "2ac9b672-f316-445e-8264-4c44199f7901",
   "metadata": {},
   "outputs": [],
   "source": [
    "# using display command for better formatting in Notebook , use print usually\n",
    "display(df_missing_data.describe())"
   ]
  },
  {
   "cell_type": "code",
   "execution_count": null,
   "id": "53ab0018-fb3b-4122-b1be-82fa074d361c",
   "metadata": {},
   "outputs": [],
   "source": [
    "print(df_missing_data.info())"
   ]
  },
  {
   "cell_type": "code",
   "execution_count": null,
   "id": "fb757aae-f190-428d-80a8-8d7f7ef912f2",
   "metadata": {},
   "outputs": [],
   "source": [
    "print(df_missing_data.shape)"
   ]
  },
  {
   "cell_type": "code",
   "execution_count": null,
   "id": "60d385cb-8222-492a-a051-dc93aaa40e42",
   "metadata": {},
   "outputs": [],
   "source": [
    "print(df_missing_data.isna().any())"
   ]
  },
  {
   "cell_type": "code",
   "execution_count": null,
   "id": "6b889eec-f06f-4fe2-9ee6-a2d1ca19158a",
   "metadata": {},
   "outputs": [],
   "source": [
    "print(df_missing_data.isna().sum())"
   ]
  },
  {
   "cell_type": "markdown",
   "id": "2991f09a-c51c-4b0b-bb18-22deb27bc6b9",
   "metadata": {
    "tags": []
   },
   "source": [
    "### df_warehouses dataframe review"
   ]
  },
  {
   "cell_type": "code",
   "execution_count": null,
   "id": "081ae7ad-8b7f-4215-ae80-80958a0bf4b7",
   "metadata": {},
   "outputs": [],
   "source": [
    "type(df_warehouses)"
   ]
  },
  {
   "cell_type": "code",
   "execution_count": null,
   "id": "8cda7604-8aa6-406c-8fde-63c768656c33",
   "metadata": {},
   "outputs": [],
   "source": [
    "print(df_warehouses.columns)"
   ]
  },
  {
   "cell_type": "code",
   "execution_count": null,
   "id": "8177f7a7-e30c-4293-a2bf-3907d6b40ab4",
   "metadata": {},
   "outputs": [],
   "source": [
    "type(df_warehouses)"
   ]
  },
  {
   "cell_type": "code",
   "execution_count": null,
   "id": "6e38d688-feab-48fb-a875-da67a9a65db9",
   "metadata": {},
   "outputs": [],
   "source": [
    "df_warehouses.head()"
   ]
  },
  {
   "cell_type": "code",
   "execution_count": null,
   "id": "5fef5255-c30a-4ee0-b949-a435764888d1",
   "metadata": {},
   "outputs": [],
   "source": [
    "# using display command for better formatting in Notebook , use print usually\n",
    "display(df_warehouses.describe())"
   ]
  },
  {
   "cell_type": "code",
   "execution_count": null,
   "id": "049279d6-671b-4c9b-b6e4-26b11891567a",
   "metadata": {},
   "outputs": [],
   "source": [
    "print(df_warehouses.info())"
   ]
  },
  {
   "cell_type": "code",
   "execution_count": null,
   "id": "acf81536-9f60-4800-96fb-b3533a8ec833",
   "metadata": {},
   "outputs": [],
   "source": [
    "print(df_warehouses.shape)"
   ]
  },
  {
   "cell_type": "code",
   "execution_count": null,
   "id": "e2c05942-e334-4370-987b-854ab9e2883f",
   "metadata": {},
   "outputs": [],
   "source": [
    "print(df_warehouses.isna().any())"
   ]
  },
  {
   "cell_type": "code",
   "execution_count": null,
   "id": "3e09a714-c0db-4e49-8587-0271437ab46e",
   "metadata": {},
   "outputs": [],
   "source": [
    "print(df_warehouses.isna().sum())"
   ]
  },
  {
   "cell_type": "markdown",
   "id": "f08eaede-2702-4cc7-91fa-2872be90f16d",
   "metadata": {},
   "source": [
    "## Re-import from CSV\n",
    "***"
   ]
  },
  {
   "cell_type": "code",
   "execution_count": null,
   "id": "24b10824-6ca1-4477-99e0-9096847866ce",
   "metadata": {},
   "outputs": [],
   "source": [
    "# read the CSV from the local Jupyter Notebook directory \n",
    "# parsing dates on import since dates were objects also change datatype on order_price\n",
    "df_dirty_data = pd.read_csv(dirty_data, parse_dates=['date'], dtype={'order_price': 'float'}) \n",
    "df_missing_data = pd.read_csv(missing_data, parse_dates=['date']) \n",
    "\n",
    "# cant use dtype={'is_happy_customer': 'bool'} because is_happy_customer contains NaN "
   ]
  },
  {
   "cell_type": "code",
   "execution_count": null,
   "id": "9fa0e64d-20b0-4e0d-988d-d97d3de1bca7",
   "metadata": {},
   "outputs": [],
   "source": [
    "print(df_dirty_data.info())"
   ]
  },
  {
   "cell_type": "code",
   "execution_count": null,
   "id": "05179a25-d14f-4030-90d4-302bdcdcf323",
   "metadata": {},
   "outputs": [],
   "source": [
    "print(df_missing_data.info())"
   ]
  },
  {
   "cell_type": "code",
   "execution_count": null,
   "id": "1cf3a19d-1ef6-4abf-bd1b-29df3cd5a5dd",
   "metadata": {},
   "outputs": [],
   "source": [
    "# check for orderid uniqueness in df_dirty_data\n",
    "duplicate_dirty_data = df_dirty_data[df_dirty_data.duplicated(['order_id'])]\n",
    "print(duplicate_dirty_data)"
   ]
  },
  {
   "cell_type": "code",
   "execution_count": null,
   "id": "c2d466e4-8413-40de-b887-f9225fc55dce",
   "metadata": {},
   "outputs": [],
   "source": [
    "# check for orderid uniqueness in df_missing_data \n",
    "duplicate_missing_data = df_missing_data[df_missing_data.duplicated(['order_id'])]\n",
    "print(duplicate_missing_data)"
   ]
  },
  {
   "cell_type": "code",
   "execution_count": null,
   "id": "0fe0ba84-1b0f-4e6e-a8f3-fadf078a8222",
   "metadata": {},
   "outputs": [],
   "source": [
    "# create an order_id index on df_dirty_data\n",
    "df_dirty_data.set_index('order_id',inplace=True)"
   ]
  },
  {
   "cell_type": "code",
   "execution_count": null,
   "id": "65b49006-e9c6-4203-a52b-41a8c9ef66ae",
   "metadata": {},
   "outputs": [],
   "source": [
    "# create an order_id index on df_missing_data\n",
    "df_missing_data.set_index('order_id',inplace=True)"
   ]
  },
  {
   "cell_type": "code",
   "execution_count": null,
   "id": "dcf266b5-12a8-49d7-b16c-b6b02e7314a6",
   "metadata": {},
   "outputs": [],
   "source": [
    "df_dirty_data.index"
   ]
  },
  {
   "cell_type": "code",
   "execution_count": null,
   "id": "6e9cde49-6d1c-42c7-97a4-76566d5f5c7a",
   "metadata": {},
   "outputs": [],
   "source": [
    "df_missing_data.index"
   ]
  },
  {
   "cell_type": "markdown",
   "id": "68e00d95-1fe5-467d-a6fd-f6bac3e289ec",
   "metadata": {},
   "source": [
    "# Detect and fix errors in df_dirty_data\n",
    "***"
   ]
  },
  {
   "cell_type": "code",
   "execution_count": null,
   "id": "9361a438-1305-4151-ac45-4c38e2e6422b",
   "metadata": {},
   "outputs": [],
   "source": [
    "# show missing values - none found\n",
    "print(df_dirty_data.isna().sum())"
   ]
  },
  {
   "cell_type": "code",
   "execution_count": null,
   "id": "ccc92a0b-3448-4273-87fa-2b46e92cafc1",
   "metadata": {},
   "outputs": [],
   "source": [
    "print(df_dirty_data.info())"
   ]
  },
  {
   "cell_type": "code",
   "execution_count": null,
   "id": "0e5aabd5-a1f0-456f-a6c2-e2f3dc1933d7",
   "metadata": {},
   "outputs": [],
   "source": [
    "display(df_dirty_data.head())"
   ]
  },
  {
   "cell_type": "code",
   "execution_count": null,
   "id": "2dc47964-f593-4e2b-81c0-50a0491bc831",
   "metadata": {},
   "outputs": [],
   "source": [
    "columns = df_dirty_data.columns\n",
    "print(len(columns))"
   ]
  },
  {
   "cell_type": "markdown",
   "id": "d810b761-6b69-4fc3-a933-b7dc6b42da2d",
   "metadata": {},
   "source": [
    "### Rename 'nearest_warehouse' values"
   ]
  },
  {
   "cell_type": "code",
   "execution_count": null,
   "id": "76849294-3b95-452a-b20c-1487f5c1ea13",
   "metadata": {},
   "outputs": [],
   "source": [
    "# getting the unique values for 'nearest_warehouse'\n",
    "nearest_warehouse = df_dirty_data['nearest_warehouse'].sort_values().unique()\n",
    "print(nearest_warehouse)"
   ]
  },
  {
   "cell_type": "code",
   "execution_count": null,
   "id": "ad7b1529-be5e-4704-b864-e60df248ab05",
   "metadata": {},
   "outputs": [],
   "source": [
    "df_dirty_data['nearest_warehouse'] = df_dirty_data['nearest_warehouse'].str.title()"
   ]
  },
  {
   "cell_type": "markdown",
   "id": "5268fe2e-5fb5-43c2-9fcc-cbbf3d2d8eee",
   "metadata": {},
   "source": [
    "### Rename 'season' values"
   ]
  },
  {
   "cell_type": "code",
   "execution_count": null,
   "id": "cefda4bb-ba21-444f-8954-dca0099c9ad0",
   "metadata": {},
   "outputs": [],
   "source": [
    "# getting the unique values for 'season'\n",
    "season = df_dirty_data['season'].sort_values().unique()\n",
    "print(season)"
   ]
  },
  {
   "cell_type": "code",
   "execution_count": null,
   "id": "7e990bdf-e85d-4f7b-be15-6a10dcee0654",
   "metadata": {},
   "outputs": [],
   "source": [
    "df_dirty_data['season'] = df_dirty_data['season'].str.title()"
   ]
  },
  {
   "cell_type": "markdown",
   "id": "b3916d84-e645-4438-b4e6-55464414b1ab",
   "metadata": {},
   "source": [
    "### Check 'order_price' and 'order_total' values dont seem correct"
   ]
  },
  {
   "cell_type": "code",
   "execution_count": null,
   "id": "c1c6452f-4773-4c86-b952-e749e6998c22",
   "metadata": {},
   "outputs": [],
   "source": [
    "type(df_dirty_data[['order_price','delivery_charges','coupon_discount','order_total']])"
   ]
  },
  {
   "cell_type": "code",
   "execution_count": null,
   "id": "1b531c69-1e5c-43c2-8032-6cca59b5bd83",
   "metadata": {},
   "outputs": [],
   "source": [
    "arr = df_dirty_data[['order_price']]\n",
    "\n",
    "print(\"Q2 quantile of order_price : \", np.quantile(arr, .50))\n",
    "print(\"Q1 quantile of order_price : \", np.quantile(arr, .25))\n",
    "print(\"Q3 quantile of order_price : \", np.quantile(arr, .75))\n",
    "print(\"100th quantile of order_price : \", np.quantile(arr, .1))\n"
   ]
  },
  {
   "cell_type": "code",
   "execution_count": null,
   "id": "2b4e66fd-861f-45d7-87c4-1f674f5d3f59",
   "metadata": {},
   "outputs": [],
   "source": [
    "# sorted by 'order_total','order_price'\n",
    "df_dirty_data[['shopping_cart','order_price','delivery_charges','coupon_discount','order_total']].sort_values(ascending = False, by=['order_total','order_price']).head(40)"
   ]
  },
  {
   "cell_type": "code",
   "execution_count": null,
   "id": "429a8759-83c1-45fc-bd95-3dc52002b4b7",
   "metadata": {},
   "outputs": [],
   "source": [
    "# sorted by 'order_price','order_total'\n",
    "df_dirty_data[['shopping_cart','order_price','delivery_charges','coupon_discount','order_total']].sort_values(ascending = False, by=['order_price','order_total']).head(40)"
   ]
  },
  {
   "cell_type": "code",
   "execution_count": null,
   "id": "8a151a53-7a2f-419f-a7d8-39f12737f569",
   "metadata": {},
   "outputs": [],
   "source": [
    "# sorted by 'order_total','order_price'\n",
    "df_dirty_data[['shopping_cart','order_price','delivery_charges','coupon_discount','order_total']].sort_values(ascending = False, by=['order_price','shopping_cart']).head(40)"
   ]
  },
  {
   "cell_type": "code",
   "execution_count": null,
   "id": "f3d39ea6-25b1-4c79-bae4-406465b7945e",
   "metadata": {},
   "outputs": [],
   "source": [
    "### Check lat and Longitude, valuse seem incorrect , some lat values are negative some are not"
   ]
  },
  {
   "cell_type": "code",
   "execution_count": 155,
   "id": "1216baab-f2b3-4e5b-85e2-820629005fb0",
   "metadata": {},
   "outputs": [
    {
     "data": {
      "image/png": "[encoded data removed]",
      "text/plain": [
       "<Figure size 432x288 with 1 Axes>"
      ]
     },
     "metadata": {
      "needs_background": "light"
     },
     "output_type": "display_data"
    }
   ],
   "source": [
    "\n",
    "sns.scatterplot(x='customer_lat', y='customer_long' ,data=df_dirty_data)\n",
    "# plt.title('df_dirty_data Latitude and Longitude')\n",
    "# Set x-axis label\n",
    "plt.xlabel('Customer Longitude')\n",
    "# Set y-axis label\n",
    "plt.ylabel('Customer Latitude')\n",
    "height = 20\n",
    "plt.show()"
   ]
  },
  {
   "cell_type": "code",
   "execution_count": 211,
   "id": "e854ff95-8886-4d74-bbdb-c0724580bfee",
   "metadata": {},
   "outputs": [
    {
     "data": {
      "application/vnd.plotly.v1+json": {
       "config": {
        "plotlyServerURL": "https://plot.ly"
       },
       "data": [
        {
         "geo": "geo",
         "hovertemplate": "customer_lat=%{lat}<br>customer_long=%{lon}<extra></extra>",
         "lat": [
          -37.8151052,
          -37.8027362,
          -37.8213016,
          -37.8114157,
          37.8238586,
          37.8202452,
          -37.8077429,
          -37.8063372,
          -37.8108099,
          -37.808675,
          -37.8113336,
          -37.8202279,
          -37.8054326,
          -37.8161657,
          -37.8094626,
          -37.8081254,
          -37.8042307,
          -37.8141139,
          -37.8091799,
          -37.8149171,
          -37.809311,
          -37.8028178,
          -37.8095956,
          -37.8069808,
          -37.7995959,
          -37.813288,
          -37.802871,
          -37.8200704,
          -37.812004,
          -37.8253426,
          -37.8201805,
          -37.8115241,
          -37.791144,
          -37.8076815,
          -37.7998828,
          -37.8069542,
          -37.8032831,
          -37.8095947,
          -37.8140167,
          -37.8119347,
          -37.8040253,
          -37.8200673,
          -37.8122134,
          -37.8121368,
          -37.8068782,
          -37.7990648,
          -37.8217934,
          -37.8240667,
          -37.8125043,
          -37.8210844,
          -37.8153678,
          -37.8113389,
          -37.8096114,
          -37.0266563,
          -37.8214213,
          -37.8221851,
          -37.8041871,
          -37.8248801,
          -37.8080577,
          -37.8147977,
          -37.8108227,
          -37.8039824,
          -37.8020319,
          -37.8146744,
          -37.8068633,
          -37.8207167,
          -37.8179057,
          -37.8066068,
          -37.8144836,
          -37.8023255,
          -37.8040911,
          -37.8248015,
          -37.8260331,
          -37.798879,
          -37.024913,
          -37.8062244,
          -37.8021972,
          -37.8125018,
          -37.8085633,
          -37.807841,
          -37.8204423,
          -37.8142701,
          -37.8176138,
          -37.818841,
          -37.8121236,
          -37.8144221,
          -37.8029953,
          -37.0916265,
          -37.8017591,
          -37.8009524,
          -37.808393,
          -37.818926,
          -37.8113504,
          -37.8004553,
          -37.8126057,
          -37.8103989,
          -37.7987935,
          -37.8154546,
          -37.8091486,
          -37.8122336,
          -37.8154669,
          -37.8228607,
          -37.8185923,
          -37.808839,
          -37.8069927,
          -37.8233794,
          -37.8201199,
          -37.8012858,
          -37.8214382,
          -37.8190391,
          -37.8173222,
          -37.8233588,
          -37.81703,
          -37.8053812,
          -37.809841,
          -37.8097225,
          -37.811881,
          -37.822806,
          -37.8182266,
          -37.8061754,
          -37.8097839,
          -37.8061658,
          -37.8050795,
          -37.8126709,
          -37.8175356,
          -37.8233446,
          -37.8244324,
          -37.8216013,
          -37.799787,
          -37.8161151,
          -37.8064775,
          -37.8219224,
          -37.8129752,
          -37.8087165,
          -37.8178333,
          -37.8095278,
          -37.8155841,
          -37.8082783,
          -37.8076984,
          -37.8203432,
          -37.8149433,
          -37.8165753,
          -37.7995098,
          -37.8041347,
          -37.8160065,
          -37.8133042,
          -37.8242254,
          -37.8180481,
          -37.8165205,
          -37.8168076,
          -37.8027598,
          -37.8143832,
          -37.8152578,
          -37.8150707,
          -37.8126386,
          -37.8228581,
          -37.8068271,
          -37.7891185,
          -37.8127283,
          -37.8239148,
          -37.8047366,
          -37.8114445,
          -37.8149718,
          -37.8127114,
          -37.8203616,
          -37.8127256,
          -37.8135169,
          -37.8138985,
          -37.8157863,
          -37.8155823,
          -37.8198852,
          -37.808701,
          -37.8113458,
          -37.8271233,
          -37.8064367,
          -37.8235366,
          -37.8094704,
          -37.806973,
          -37.8141653,
          -37.807684,
          -37.0449963,
          -37.814102,
          -37.8130127,
          -37.8047344,
          -37.8024492,
          -37.8049554,
          -37.8043182,
          -37.8032642,
          -37.8245985,
          -37.8200867,
          -37.8101542,
          -37.8223226,
          -37.8177896,
          -37.8125168,
          -37.8243601,
          -37.8084337,
          -37.8096666,
          -37.8016545,
          -37.8030333,
          -37.8036771,
          -37.8109126,
          -37.8033989,
          -37.8094864,
          -37.80348,
          -37.8012198,
          -37.8040317,
          -37.8070107,
          -37.8235722,
          -37.8240565,
          -37.8149579,
          -37.8148259,
          -37.8184877,
          -37.8252348,
          -37.0201952,
          -37.8049802,
          -37.8165343,
          -37.80231,
          -37.8158463,
          -37.0645635,
          -37.8055127,
          -37.814639,
          -37.8198853,
          -37.8256755,
          -37.817686,
          -37.8103235,
          -37.8147157,
          -37.8157484,
          -37.8123833,
          -37.814045,
          -37.8126201,
          -37.8013216,
          -37.8253884,
          -37.8141301,
          -37.8189215,
          -37.8244678,
          -37.8008011,
          -37.8016497,
          -37.8117454,
          -37.8164624,
          -37.815026,
          -37.8060043,
          -37.8054636,
          -37.8207552,
          -37.8079991,
          -37.8182368,
          37.8230927,
          -37.8106277,
          -37.8054323,
          -37.8127191,
          -37.8008617,
          -37.8038468,
          -37.823947,
          -37.8017388,
          -37.8188135,
          -37.8019703,
          -37.8047649,
          -37.8155951,
          -37.8176132,
          -37.8006194,
          -37.819329,
          -37.8024197,
          -37.7989968,
          -37.8254016,
          -37.8127528,
          -37.8063005,
          -37.8074988,
          -37.8183099,
          -37.8036241,
          -37.8094889,
          -37.8026405,
          -37.8025531,
          -37.8096417,
          -37.8233768,
          -37.8235063,
          -37.8019411,
          -37.8125849,
          -37.8206696,
          -37.811595,
          -37.8203732,
          -37.8146893,
          -37.8193442,
          -37.8148243,
          37.8045175,
          -37.802198,
          -37.8045436,
          -37.8100903,
          -37.8096284,
          -37.8187901,
          -37.8186293,
          -37.8012946,
          -37.8131438,
          -37.820842,
          -37.8134029,
          -37.8199587,
          -37.8063227,
          -37.8006466,
          -37.8071583,
          37.8263393,
          -37.8062538,
          -37.8192601,
          -37.8032475,
          -37.8012019,
          -37.8112736,
          -37.8056344,
          -37.821389,
          -37.8063268,
          -37.8027408,
          -37.8033314,
          -37.8007984,
          37.7914845,
          -37.8124005,
          -37.8131796,
          -37.8128124,
          -37.8184967,
          -37.8214422,
          -37.817826,
          -37.8174523,
          -37.8207881,
          -37.8192474,
          -37.8195758,
          -37.8020929,
          -37.818553,
          -37.821015,
          -37.8049082,
          -37.8003719,
          -37.8150464,
          -37.8136563,
          -37.8058336,
          -37.8075137,
          -37.8157195,
          -37.8243506,
          -37.8181279,
          -37.8072912,
          -37.7989897,
          -37.8246536,
          -37.8093685,
          -37.8008617,
          -37.8151119,
          -37.8024922,
          -37.826394,
          -37.8093611,
          -37.8105357,
          -37.8211126,
          -37.8162225,
          37.8081194,
          -37.8092623,
          -37.8007705,
          -37.8135412,
          -37.8181125,
          -37.8210654,
          -37.8088109,
          -37.8040695,
          -37.8087002,
          37.8102462,
          -37.8146899,
          -37.8182748,
          -37.8012547,
          -37.8061405,
          -37.8023661,
          -37.817826,
          -37.8209822,
          -37.818311,
          -37.8080795,
          -37.8183743,
          -37.8058582,
          -37.8184735,
          -37.8044309,
          -37.8019303,
          -37.8105551,
          -37.8132087,
          -37.8032857,
          -37.8142345,
          -37.8121827,
          -37.8002551,
          -37.8187778,
          -37.8065706,
          -37.8127164,
          -37.8192236,
          -37.8010132,
          -37.8155991,
          -37.8126201,
          -37.8140787,
          -37.8014968,
          -37.8179311,
          -37.8206783,
          -37.8125548,
          -37.8252835,
          -37.8117127,
          -37.808963,
          -37.8041173,
          -37.8048702,
          -37.8190572,
          -37.8000613,
          -37.8187231,
          -37.8083317,
          -37.8135027,
          37.8158973,
          -37.8108985,
          -37.8201111,
          -37.8119516,
          -37.815026,
          -37.8052239,
          -37.8010832,
          -37.8156977,
          -37.8092805,
          -37.8203826,
          -37.803208,
          -37.8156647,
          -37.8137364,
          -37.0548666,
          -37.8254825,
          -37.8038748,
          37.8074687,
          -37.8139812,
          -37.823736,
          -37.8126336,
          -37.8206252,
          -37.8001274,
          -37.8218441,
          -37.8196563,
          -37.803335,
          -37.8225159,
          -37.8211236,
          -37.8112924,
          -37.8215382,
          -37.8166074,
          -37.8137364,
          -37.8173281,
          -37.8092558,
          -37.8092064,
          -37.8164844,
          -37.8229997,
          -37.8004687,
          -37.8118633,
          -37.8241038,
          -37.8012586,
          -37.8262599,
          -37.8015275,
          -37.805314,
          -37.8220278,
          -37.8090833,
          -37.8244678,
          -37.8078693,
          -37.8101023,
          -37.8169681,
          -37.8120357,
          -37.8238772,
          -37.8043419,
          -37.8173149,
          -37.8176125,
          -37.8190869,
          -37.8223332,
          -37.8121475,
          -37.8152716,
          -37.8206574,
          -37.8046728,
          -37.8042012,
          -37.8210664,
          37.8235073,
          -37.8182207,
          -37.8074393,
          -37.8126977,
          -37.8197041,
          -37.808659,
          -37.821639,
          -37.8082928,
          -37.8198249,
          -37.801844,
          -37.8113898,
          -37.8185594,
          -37.8195942,
          -37.812587,
          -37.820156,
          -37.8134616,
          -37.8065224,
          -37.8003644,
          -37.8127111,
          -37.8114704,
          -37.8241714,
          -37.8217368,
          37.8040822,
          -37.8193638,
          -37.8198062,
          -37.8061546,
          -37.8064259,
          -37.810688,
          -37.802133,
          -37.8023916,
          -37.8164447,
          -37.8253564,
          -37.8080672,
          -37.8004308,
          -37.8105418,
          -37.8188878,
          -37.8162093,
          -37.817662,
          -37.8154693,
          -37.805979,
          37.8200711,
          -37.812231
         ],
         "legendgroup": "",
         "lon": [
          144.9328434,
          144.9511178,
          144.9575809,
          144.9730729,
          144.9698923,
          145.0149442,
          144.9515704,
          144.9595445,
          145.0140735,
          144.9423368,
          145.0086784,
          144.9574109,
          144.9413327,
          144.9752775,
          144.9723672,
          144.9867964,
          144.9717294,
          144.9714122,
          144.9728744,
          144.9680205,
          145.0185951,
          144.992404,
          144.9638143,
          144.9942382,
          144.9605411,
          145.0104152,
          145.0166333,
          145.0117177,
          144.9636734,
          144.9513179,
          144.980577,
          144.9592206,
          144.9368632,
          144.9544519,
          144.9272705,
          144.9542763,
          145.007438,
          144.9636776,
          144.9654387,
          145.0134889,
          144.9528506,
          144.9586124,
          144.9519126,
          144.9739924,
          144.9560174,
          144.9454199,
          144.9907543,
          145.0163708,
          144.9374633,
          144.9550887,
          144.975339,
          145.0085819,
          144.9595749,
          144.9630777,
          144.9639248,
          144.9786566,
          145.0022771,
          144.9847117,
          144.9609388,
          145.0118159,
          145.0166183,
          145.0075865,
          144.9570706,
          144.963545,
          144.9589424,
          144.9707771,
          144.9706398,
          144.9324524,
          144.9619659,
          144.9777778,
          144.9619114,
          144.9690242,
          144.9835017,
          144.9516355,
          144.9842075,
          144.9554662,
          144.9630762,
          144.9632414,
          145.0001673,
          144.938431,
          144.9640738,
          144.9493838,
          144.9730313,
          144.9532845,
          144.9739868,
          145.0161351,
          144.9281069,
          144.9952241,
          144.9632047,
          145.0120941,
          144.9593275,
          144.9624821,
          144.9534781,
          144.9485174,
          145.0110143,
          144.9726914,
          144.9827307,
          144.9704567,
          144.9609023,
          144.9365521,
          145.0135513,
          144.9665714,
          145.0052383,
          144.9834904,
          144.9729476,
          144.9766338,
          144.9669823,
          144.9457072,
          144.9456191,
          144.9467214,
          145.0040415,
          144.9785671,
          144.9518402,
          144.987412,
          144.9763289,
          144.9903011,
          145.0120477,
          145.0093369,
          144.9651144,
          144.9445034,
          144.9932567,
          144.9995386,
          144.9745234,
          144.9426601,
          144.989861,
          144.9814779,
          144.988745,
          144.961298,
          144.9579614,
          144.9570842,
          144.9614999,
          144.9685203,
          144.9619223,
          144.9537162,
          144.9621506,
          144.972628,
          144.9452766,
          144.9826774,
          145.0194326,
          145.0144456,
          144.9450349,
          144.9666375,
          144.9353777,
          144.9833648,
          144.938349,
          145.0198375,
          144.9840358,
          145.0038283,
          144.9859039,
          144.9994885,
          145.0039589,
          145.0146498,
          144.9634694,
          144.9889123,
          144.9735827,
          145.0141013,
          144.9548986,
          144.9380617,
          145.0170324,
          144.9475744,
          144.9460673,
          145.0122973,
          144.9602405,
          144.9679761,
          144.979064,
          144.9402147,
          144.9855861,
          144.9617555,
          144.9582671,
          144.9867456,
          144.9577337,
          144.9729558,
          144.9669715,
          144.9851161,
          144.9520099,
          144.9808725,
          144.9727182,
          145.0055785,
          144.9632906,
          144.9400828,
          145.0058842,
          144.984733,
          144.9389462,
          144.9882562,
          144.9634453,
          144.9705524,
          144.9500493,
          144.9500603,
          144.9698135,
          144.9584,
          144.9577029,
          144.9334506,
          144.9688707,
          144.9740097,
          144.9440946,
          144.9454319,
          144.9926783,
          144.9785723,
          144.946302,
          144.9499644,
          144.9904296,
          144.9497761,
          144.963764,
          144.936364,
          144.9630195,
          144.9695353,
          144.9490826,
          144.9560719,
          145.0159049,
          144.9275311,
          144.9270956,
          144.99459,
          144.9567953,
          144.9633614,
          144.9249672,
          145.0089471,
          144.9803506,
          144.9724814,
          144.9534946,
          144.9661838,
          144.9690426,
          144.9650779,
          144.9979215,
          144.9662605,
          144.9530079,
          144.9400839,
          145.0091263,
          144.9620705,
          144.9396343,
          144.965171,
          145.0010984,
          145.0153092,
          144.949235,
          144.9548983,
          144.9565472,
          144.953491,
          144.9874269,
          144.9564037,
          144.9860256,
          144.9608825,
          144.9572258,
          144.9333753,
          144.9480634,
          144.9732055,
          144.9961532,
          144.9379385,
          144.9775804,
          144.9696279,
          144.9568527,
          144.9608163,
          144.9648389,
          144.9543146,
          144.9574225,
          144.9641165,
          144.9584927,
          144.9326798,
          144.9580329,
          144.9591096,
          145.0102248,
          144.9611237,
          144.934978,
          144.9778822,
          145.0142044,
          144.9374607,
          144.9416009,
          144.9421199,
          144.9669939,
          145.0079488,
          144.9679925,
          144.9577484,
          144.9565899,
          144.971036,
          144.969933,
          144.9675756,
          144.9487068,
          145.0155287,
          144.9411187,
          144.9456969,
          144.9793657,
          144.9504304,
          144.9320883,
          144.9376494,
          144.9694499,
          144.9604986,
          144.9487414,
          144.9785812,
          144.9725683,
          144.9529565,
          145.0039008,
          144.9457873,
          144.9553881,
          144.9695038,
          145.0025066,
          145.0127352,
          144.9594192,
          144.9357718,
          144.9749101,
          144.9859063,
          144.9417001,
          144.9575378,
          144.9890489,
          144.9699293,
          144.9729621,
          144.9668635,
          144.9839684,
          145.0097338,
          144.9734085,
          144.9591308,
          145.0054278,
          144.9367602,
          144.9366922,
          144.9515325,
          144.9657905,
          145.0154168,
          144.9580457,
          144.9923277,
          144.9459675,
          144.979309,
          144.9610481,
          144.9632486,
          144.9795497,
          144.9678922,
          144.9771755,
          144.9468264,
          144.9752763,
          144.9718458,
          144.9612615,
          145.0195185,
          144.9879565,
          144.9371449,
          144.9438143,
          144.9485845,
          144.9444704,
          144.9667971,
          144.9547414,
          144.9493415,
          144.9608163,
          144.9612114,
          144.9809522,
          145.0194182,
          144.9645195,
          144.9593008,
          144.9472811,
          144.9383605,
          144.9731848,
          144.9838244,
          144.9574101,
          144.9426636,
          144.9486411,
          144.9664847,
          144.9831656,
          144.9582857,
          144.9566447,
          144.9613499,
          144.9690651,
          144.9755146,
          144.9626936,
          144.9449158,
          144.9620569,
          144.9923277,
          144.9845129,
          145.0043774,
          144.9692773,
          144.9486428,
          145.0183945,
          144.9486815,
          144.9624253,
          144.9572928,
          145.0006641,
          144.9903708,
          144.9502708,
          144.9637244,
          144.9697962,
          144.9509615,
          144.9528494,
          144.9449806,
          144.9429385,
          144.9611303,
          144.9775605,
          144.9622488,
          144.965171,
          144.9641242,
          144.9548846,
          144.9673941,
          144.9793054,
          144.9650658,
          145.011873,
          144.9716148,
          144.9489466,
          144.9479909,
          144.961308,
          144.9614507,
          144.9611656,
          145.0037836,
          144.9547551,
          144.9656729,
          144.964698,
          144.9966202,
          144.9684911,
          144.9860757,
          144.9608825,
          145.0165925,
          144.9637813,
          144.9582655,
          144.9320471,
          144.9820358,
          144.9738755,
          144.9979117,
          144.936811,
          144.9344702,
          144.9962161,
          145.015497,
          144.9708683,
          144.971284,
          144.9761444,
          144.937464,
          144.9822383,
          144.98119,
          145.0153367,
          144.9716825,
          144.9899256,
          144.9477823,
          144.9549655,
          144.9637186,
          144.9671453,
          145.0056193,
          144.936811,
          144.990782,
          144.9915114,
          144.9606935,
          144.9442059,
          144.9644869,
          144.9807587,
          144.9638606,
          144.9905894,
          145.0051308,
          144.9288674,
          144.9622044,
          144.9416774,
          144.9475811,
          145.0116283,
          144.9565472,
          144.9919205,
          144.9641327,
          144.9901651,
          144.9668588,
          144.981668,
          144.9488589,
          144.9688801,
          145.0108561,
          144.9821753,
          144.9969724,
          144.9737734,
          144.9523118,
          144.9411965,
          144.9365014,
          144.9279658,
          144.9440588,
          144.9398909,
          144.9433514,
          144.9670156,
          144.990166,
          145.0144204,
          144.9493715,
          144.9450746,
          144.9766195,
          144.9954347,
          144.9813581,
          144.9714697,
          144.9991529,
          144.9901822,
          144.965275,
          144.9669682,
          144.944369,
          144.9317679,
          144.9792888,
          144.9688045,
          144.9375319,
          144.9537569,
          144.9306951,
          145.0052811,
          144.9902238,
          145.0016147,
          144.9583045,
          144.9439917,
          144.9855034,
          145.0041449,
          144.9981578,
          144.9458051,
          144.9462415,
          144.9692183,
          145.0095141,
          144.9720184,
          144.9538868,
          144.9640567,
          144.9704051,
          144.9680827,
          144.9661013,
          144.9844351,
          144.9886793
         ],
         "marker": {
          "color": "#636efa",
          "symbol": "circle"
         },
         "mode": "markers",
         "name": "",
         "showlegend": false,
         "type": "scattergeo"
        }
       ],
       "layout": {
        "autosize": true,
        "geo": {
         "center": {
          "lat": -2,
          "lon": 160
         },
         "domain": {
          "x": [
           0,
           1
          ],
          "y": [
           0,
           1
          ]
         },
         "fitbounds": false,
         "projection": {
          "rotation": {
           "lon": 0
          },
          "scale": 2
         }
        },
        "legend": {
         "tracegroupgap": 0
        },
        "margin": {
         "t": 60
        },
        "template": {
         "data": {
          "bar": [
           {
            "error_x": {
             "color": "#2a3f5f"
            },
            "error_y": {
             "color": "#2a3f5f"
            },
            "marker": {
             "line": {
              "color": "#E5ECF6",
              "width": 0.5
             },
             "pattern": {
              "fillmode": "overlay",
              "size": 10,
              "solidity": 0.2
             }
            },
            "type": "bar"
           }
          ],
          "barpolar": [
           {
            "marker": {
             "line": {
              "color": "#E5ECF6",
              "width": 0.5
             },
             "pattern": {
              "fillmode": "overlay",
              "size": 10,
              "solidity": 0.2
             }
            },
            "type": "barpolar"
           }
          ],
          "carpet": [
           {
            "aaxis": {
             "endlinecolor": "#2a3f5f",
             "gridcolor": "white",
             "linecolor": "white",
             "minorgridcolor": "white",
             "startlinecolor": "#2a3f5f"
            },
            "baxis": {
             "endlinecolor": "#2a3f5f",
             "gridcolor": "white",
             "linecolor": "white",
             "minorgridcolor": "white",
             "startlinecolor": "#2a3f5f"
            },
            "type": "carpet"
           }
          ],
          "choropleth": [
           {
            "colorbar": {
             "outlinewidth": 0,
             "ticks": ""
            },
            "type": "choropleth"
           }
          ],
          "contour": [
           {
            "colorbar": {
             "outlinewidth": 0,
             "ticks": ""
            },
            "colorscale": [
             [
              0,
              "#0d0887"
             ],
             [
              0.1111111111111111,
              "#46039f"
             ],
             [
              0.2222222222222222,
              "#7201a8"
             ],
             [
              0.3333333333333333,
              "#9c179e"
             ],
             [
              0.4444444444444444,
              "#bd3786"
             ],
             [
              0.5555555555555556,
              "#d8576b"
             ],
             [
              0.6666666666666666,
              "#ed7953"
             ],
             [
              0.7777777777777778,
              "#fb9f3a"
             ],
             [
              0.8888888888888888,
              "#fdca26"
             ],
             [
              1,
              "#f0f921"
             ]
            ],
            "type": "contour"
           }
          ],
          "contourcarpet": [
           {
            "colorbar": {
             "outlinewidth": 0,
             "ticks": ""
            },
            "type": "contourcarpet"
           }
          ],
          "heatmap": [
           {
            "colorbar": {
             "outlinewidth": 0,
             "ticks": ""
            },
            "colorscale": [
             [
              0,
              "#0d0887"
             ],
             [
              0.1111111111111111,
              "#46039f"
             ],
             [
              0.2222222222222222,
              "#7201a8"
             ],
             [
              0.3333333333333333,
              "#9c179e"
             ],
             [
              0.4444444444444444,
              "#bd3786"
             ],
             [
              0.5555555555555556,
              "#d8576b"
             ],
             [
              0.6666666666666666,
              "#ed7953"
             ],
             [
              0.7777777777777778,
              "#fb9f3a"
             ],
             [
              0.8888888888888888,
              "#fdca26"
             ],
             [
              1,
              "#f0f921"
             ]
            ],
            "type": "heatmap"
           }
          ],
          "heatmapgl": [
           {
            "colorbar": {
             "outlinewidth": 0,
             "ticks": ""
            },
            "colorscale": [
             [
              0,
              "#0d0887"
             ],
             [
              0.1111111111111111,
              "#46039f"
             ],
             [
              0.2222222222222222,
              "#7201a8"
             ],
             [
              0.3333333333333333,
              "#9c179e"
             ],
             [
              0.4444444444444444,
              "#bd3786"
             ],
             [
              0.5555555555555556,
              "#d8576b"
             ],
             [
              0.6666666666666666,
              "#ed7953"
             ],
             [
              0.7777777777777778,
              "#fb9f3a"
             ],
             [
              0.8888888888888888,
              "#fdca26"
             ],
             [
              1,
              "#f0f921"
             ]
            ],
            "type": "heatmapgl"
           }
          ],
          "histogram": [
           {
            "marker": {
             "pattern": {
              "fillmode": "overlay",
              "size": 10,
              "solidity": 0.2
             }
            },
            "type": "histogram"
           }
          ],
          "histogram2d": [
           {
            "colorbar": {
             "outlinewidth": 0,
             "ticks": ""
            },
            "colorscale": [
             [
              0,
              "#0d0887"
             ],
             [
              0.1111111111111111,
              "#46039f"
             ],
             [
              0.2222222222222222,
              "#7201a8"
             ],
             [
              0.3333333333333333,
              "#9c179e"
             ],
             [
              0.4444444444444444,
              "#bd3786"
             ],
             [
              0.5555555555555556,
              "#d8576b"
             ],
             [
              0.6666666666666666,
              "#ed7953"
             ],
             [
              0.7777777777777778,
              "#fb9f3a"
             ],
             [
              0.8888888888888888,
              "#fdca26"
             ],
             [
              1,
              "#f0f921"
             ]
            ],
            "type": "histogram2d"
           }
          ],
          "histogram2dcontour": [
           {
            "colorbar": {
             "outlinewidth": 0,
             "ticks": ""
            },
            "colorscale": [
             [
              0,
              "#0d0887"
             ],
             [
              0.1111111111111111,
              "#46039f"
             ],
             [
              0.2222222222222222,
              "#7201a8"
             ],
             [
              0.3333333333333333,
              "#9c179e"
             ],
             [
              0.4444444444444444,
              "#bd3786"
             ],
             [
              0.5555555555555556,
              "#d8576b"
             ],
             [
              0.6666666666666666,
              "#ed7953"
             ],
             [
              0.7777777777777778,
              "#fb9f3a"
             ],
             [
              0.8888888888888888,
              "#fdca26"
             ],
             [
              1,
              "#f0f921"
             ]
            ],
            "type": "histogram2dcontour"
           }
          ],
          "mesh3d": [
           {
            "colorbar": {
             "outlinewidth": 0,
             "ticks": ""
            },
            "type": "mesh3d"
           }
          ],
          "parcoords": [
           {
            "line": {
             "colorbar": {
              "outlinewidth": 0,
              "ticks": ""
             }
            },
            "type": "parcoords"
           }
          ],
          "pie": [
           {
            "automargin": true,
            "type": "pie"
           }
          ],
          "scatter": [
           {
            "marker": {
             "colorbar": {
              "outlinewidth": 0,
              "ticks": ""
             }
            },
            "type": "scatter"
           }
          ],
          "scatter3d": [
           {
            "line": {
             "colorbar": {
              "outlinewidth": 0,
              "ticks": ""
             }
            },
            "marker": {
             "colorbar": {
              "outlinewidth": 0,
              "ticks": ""
             }
            },
            "type": "scatter3d"
           }
          ],
          "scattercarpet": [
           {
            "marker": {
             "colorbar": {
              "outlinewidth": 0,
              "ticks": ""
             }
            },
            "type": "scattercarpet"
           }
          ],
          "scattergeo": [
           {
            "marker": {
             "colorbar": {
              "outlinewidth": 0,
              "ticks": ""
             }
            },
            "type": "scattergeo"
           }
          ],
          "scattergl": [
           {
            "marker": {
             "colorbar": {
              "outlinewidth": 0,
              "ticks": ""
             }
            },
            "type": "scattergl"
           }
          ],
          "scattermapbox": [
           {
            "marker": {
             "colorbar": {
              "outlinewidth": 0,
              "ticks": ""
             }
            },
            "type": "scattermapbox"
           }
          ],
          "scatterpolar": [
           {
            "marker": {
             "colorbar": {
              "outlinewidth": 0,
              "ticks": ""
             }
            },
            "type": "scatterpolar"
           }
          ],
          "scatterpolargl": [
           {
            "marker": {
             "colorbar": {
              "outlinewidth": 0,
              "ticks": ""
             }
            },
            "type": "scatterpolargl"
           }
          ],
          "scatterternary": [
           {
            "marker": {
             "colorbar": {
              "outlinewidth": 0,
              "ticks": ""
             }
            },
            "type": "scatterternary"
           }
          ],
          "surface": [
           {
            "colorbar": {
             "outlinewidth": 0,
             "ticks": ""
            },
            "colorscale": [
             [
              0,
              "#0d0887"
             ],
             [
              0.1111111111111111,
              "#46039f"
             ],
             [
              0.2222222222222222,
              "#7201a8"
             ],
             [
              0.3333333333333333,
              "#9c179e"
             ],
             [
              0.4444444444444444,
              "#bd3786"
             ],
             [
              0.5555555555555556,
              "#d8576b"
             ],
             [
              0.6666666666666666,
              "#ed7953"
             ],
             [
              0.7777777777777778,
              "#fb9f3a"
             ],
             [
              0.8888888888888888,
              "#fdca26"
             ],
             [
              1,
              "#f0f921"
             ]
            ],
            "type": "surface"
           }
          ],
          "table": [
           {
            "cells": {
             "fill": {
              "color": "#EBF0F8"
             },
             "line": {
              "color": "white"
             }
            },
            "header": {
             "fill": {
              "color": "#C8D4E3"
             },
             "line": {
              "color": "white"
             }
            },
            "type": "table"
           }
          ]
         },
         "layout": {
          "annotationdefaults": {
           "arrowcolor": "#2a3f5f",
           "arrowhead": 0,
           "arrowwidth": 1
          },
          "autotypenumbers": "strict",
          "coloraxis": {
           "colorbar": {
            "outlinewidth": 0,
            "ticks": ""
           }
          },
          "colorscale": {
           "diverging": [
            [
             0,
             "#8e0152"
            ],
            [
             0.1,
             "#c51b7d"
            ],
            [
             0.2,
             "#de77ae"
            ],
            [
             0.3,
             "#f1b6da"
            ],
            [
             0.4,
             "#fde0ef"
            ],
            [
             0.5,
             "#f7f7f7"
            ],
            [
             0.6,
             "#e6f5d0"
            ],
            [
             0.7,
             "#b8e186"
            ],
            [
             0.8,
             "#7fbc41"
            ],
            [
             0.9,
             "#4d9221"
            ],
            [
             1,
             "#276419"
            ]
           ],
           "sequential": [
            [
             0,
             "#0d0887"
            ],
            [
             0.1111111111111111,
             "#46039f"
            ],
            [
             0.2222222222222222,
             "#7201a8"
            ],
            [
             0.3333333333333333,
             "#9c179e"
            ],
            [
             0.4444444444444444,
             "#bd3786"
            ],
            [
             0.5555555555555556,
             "#d8576b"
            ],
            [
             0.6666666666666666,
             "#ed7953"
            ],
            [
             0.7777777777777778,
             "#fb9f3a"
            ],
            [
             0.8888888888888888,
             "#fdca26"
            ],
            [
             1,
             "#f0f921"
            ]
           ],
           "sequentialminus": [
            [
             0,
             "#0d0887"
            ],
            [
             0.1111111111111111,
             "#46039f"
            ],
            [
             0.2222222222222222,
             "#7201a8"
            ],
            [
             0.3333333333333333,
             "#9c179e"
            ],
            [
             0.4444444444444444,
             "#bd3786"
            ],
            [
             0.5555555555555556,
             "#d8576b"
            ],
            [
             0.6666666666666666,
             "#ed7953"
            ],
            [
             0.7777777777777778,
             "#fb9f3a"
            ],
            [
             0.8888888888888888,
             "#fdca26"
            ],
            [
             1,
             "#f0f921"
            ]
           ]
          },
          "colorway": [
           "#636efa",
           "#EF553B",
           "#00cc96",
           "#ab63fa",
           "#FFA15A",
           "#19d3f3",
           "#FF6692",
           "#B6E880",
           "#FF97FF",
           "#FECB52"
          ],
          "font": {
           "color": "#2a3f5f"
          },
          "geo": {
           "bgcolor": "white",
           "lakecolor": "white",
           "landcolor": "#E5ECF6",
           "showlakes": true,
           "showland": true,
           "subunitcolor": "white"
          },
          "hoverlabel": {
           "align": "left"
          },
          "hovermode": "closest",
          "mapbox": {
           "style": "light"
          },
          "paper_bgcolor": "white",
          "plot_bgcolor": "#E5ECF6",
          "polar": {
           "angularaxis": {
            "gridcolor": "white",
            "linecolor": "white",
            "ticks": ""
           },
           "bgcolor": "#E5ECF6",
           "radialaxis": {
            "gridcolor": "white",
            "linecolor": "white",
            "ticks": ""
           }
          },
          "scene": {
           "xaxis": {
            "backgroundcolor": "#E5ECF6",
            "gridcolor": "white",
            "gridwidth": 2,
            "linecolor": "white",
            "showbackground": true,
            "ticks": "",
            "zerolinecolor": "white"
           },
           "yaxis": {
            "backgroundcolor": "#E5ECF6",
            "gridcolor": "white",
            "gridwidth": 2,
            "linecolor": "white",
            "showbackground": true,
            "ticks": "",
            "zerolinecolor": "white"
           },
           "zaxis": {
            "backgroundcolor": "#E5ECF6",
            "gridcolor": "white",
            "gridwidth": 2,
            "linecolor": "white",
            "showbackground": true,
            "ticks": "",
            "zerolinecolor": "white"
           }
          },
          "shapedefaults": {
           "line": {
            "color": "#2a3f5f"
           }
          },
          "ternary": {
           "aaxis": {
            "gridcolor": "white",
            "linecolor": "white",
            "ticks": ""
           },
           "baxis": {
            "gridcolor": "white",
            "linecolor": "white",
            "ticks": ""
           },
           "bgcolor": "#E5ECF6",
           "caxis": {
            "gridcolor": "white",
            "linecolor": "white",
            "ticks": ""
           }
          },
          "title": {
           "x": 0.05
          },
          "xaxis": {
           "automargin": true,
           "gridcolor": "white",
           "linecolor": "white",
           "ticks": "",
           "title": {
            "standoff": 15
           },
           "zerolinecolor": "white",
           "zerolinewidth": 2
          },
          "yaxis": {
           "automargin": true,
           "gridcolor": "white",
           "linecolor": "white",
           "ticks": "",
           "title": {
            "standoff": 15
           },
           "zerolinecolor": "white",
           "zerolinewidth": 2
          }
         }
        }
       }
      },
      "image/png": "[encoded data removed]",
      "text/html": [
       "<div>                            <div id=\"0abab663-4f36-40fe-bc20-28886f9a34f6\" class=\"plotly-graph-div\" style=\"height:500px; width:100%;\"></div>            <script type=\"text/javascript\">                require([\"plotly\"], function(Plotly) {                    window.PLOTLYENV=window.PLOTLYENV || {};                                    if (document.getElementById(\"0abab663-4f36-40fe-bc20-28886f9a34f6\")) {                    Plotly.newPlot(                        \"0abab663-4f36-40fe-bc20-28886f9a34f6\",                        [{\"geo\":\"geo\",\"hovertemplate\":\"customer_lat=%{lat}<br>customer_long=%{lon}<extra></extra>\",\"lat\":[-37.8151052,-37.8027362,-37.8213016,-37.8114157,37.8238586,37.8202452,-37.8077429,-37.8063372,-37.8108099,-37.808675,-37.8113336,-37.8202279,-37.8054326,-37.8161657,-37.8094626,-37.8081254,-37.8042307,-37.8141139,-37.8091799,-37.8149171,-37.809311,-37.8028178,-37.8095956,-37.8069808,-37.7995959,-37.813288,-37.802871,-37.8200704,-37.812004,-37.8253426,-37.8201805,-37.8115241,-37.791144,-37.8076815,-37.7998828,-37.8069542,-37.8032831,-37.8095947,-37.8140167,-37.8119347,-37.8040253,-37.8200673,-37.8122134,-37.8121368,-37.8068782,-37.7990648,-37.8217934,-37.8240667,-37.8125043,-37.8210844,-37.8153678,-37.8113389,-37.8096114,-37.0266563,-37.8214213,-37.8221851,-37.8041871,-37.8248801,-37.8080577,-37.8147977,-37.8108227,-37.8039824,-37.8020319,-37.8146744,-37.8068633,-37.8207167,-37.8179057,-37.8066068,-37.8144836,-37.8023255,-37.8040911,-37.8248015,-37.8260331,-37.798879,-37.024913,-37.8062244,-37.8021972,-37.8125018,-37.8085633,-37.807841,-37.8204423,-37.8142701,-37.8176138,-37.818841,-37.8121236,-37.8144221,-37.8029953,-37.0916265,-37.8017591,-37.8009524,-37.808393,-37.818926,-37.8113504,-37.8004553,-37.8126057,-37.8103989,-37.7987935,-37.8154546,-37.8091486,-37.8122336,-37.8154669,-37.8228607,-37.8185923,-37.808839,-37.8069927,-37.8233794,-37.8201199,-37.8012858,-37.8214382,-37.8190391,-37.8173222,-37.8233588,-37.81703,-37.8053812,-37.809841,-37.8097225,-37.811881,-37.822806,-37.8182266,-37.8061754,-37.8097839,-37.8061658,-37.8050795,-37.8126709,-37.8175356,-37.8233446,-37.8244324,-37.8216013,-37.799787,-37.8161151,-37.8064775,-37.8219224,-37.8129752,-37.8087165,-37.8178333,-37.8095278,-37.8155841,-37.8082783,-37.8076984,-37.8203432,-37.8149433,-37.8165753,-37.7995098,-37.8041347,-37.8160065,-37.8133042,-37.8242254,-37.8180481,-37.8165205,-37.8168076,-37.8027598,-37.8143832,-37.8152578,-37.8150707,-37.8126386,-37.8228581,-37.8068271,-37.7891185,-37.8127283,-37.8239148,-37.8047366,-37.8114445,-37.8149718,-37.8127114,-37.8203616,-37.8127256,-37.8135169,-37.8138985,-37.8157863,-37.8155823,-37.8198852,-37.808701,-37.8113458,-37.8271233,-37.8064367,-37.8235366,-37.8094704,-37.806973,-37.8141653,-37.807684,-37.0449963,-37.814102,-37.8130127,-37.8047344,-37.8024492,-37.8049554,-37.8043182,-37.8032642,-37.8245985,-37.8200867,-37.8101542,-37.8223226,-37.8177896,-37.8125168,-37.8243601,-37.8084337,-37.8096666,-37.8016545,-37.8030333,-37.8036771,-37.8109126,-37.8033989,-37.8094864,-37.80348,-37.8012198,-37.8040317,-37.8070107,-37.8235722,-37.8240565,-37.8149579,-37.8148259,-37.8184877,-37.8252348,-37.0201952,-37.8049802,-37.8165343,-37.80231,-37.8158463,-37.0645635,-37.8055127,-37.814639,-37.8198853,-37.8256755,-37.817686,-37.8103235,-37.8147157,-37.8157484,-37.8123833,-37.814045,-37.8126201,-37.8013216,-37.8253884,-37.8141301,-37.8189215,-37.8244678,-37.8008011,-37.8016497,-37.8117454,-37.8164624,-37.815026,-37.8060043,-37.8054636,-37.8207552,-37.8079991,-37.8182368,37.8230927,-37.8106277,-37.8054323,-37.8127191,-37.8008617,-37.8038468,-37.823947,-37.8017388,-37.8188135,-37.8019703,-37.8047649,-37.8155951,-37.8176132,-37.8006194,-37.819329,-37.8024197,-37.7989968,-37.8254016,-37.8127528,-37.8063005,-37.8074988,-37.8183099,-37.8036241,-37.8094889,-37.8026405,-37.8025531,-37.8096417,-37.8233768,-37.8235063,-37.8019411,-37.8125849,-37.8206696,-37.811595,-37.8203732,-37.8146893,-37.8193442,-37.8148243,37.8045175,-37.802198,-37.8045436,-37.8100903,-37.8096284,-37.8187901,-37.8186293,-37.8012946,-37.8131438,-37.820842,-37.8134029,-37.8199587,-37.8063227,-37.8006466,-37.8071583,37.8263393,-37.8062538,-37.8192601,-37.8032475,-37.8012019,-37.8112736,-37.8056344,-37.821389,-37.8063268,-37.8027408,-37.8033314,-37.8007984,37.7914845,-37.8124005,-37.8131796,-37.8128124,-37.8184967,-37.8214422,-37.817826,-37.8174523,-37.8207881,-37.8192474,-37.8195758,-37.8020929,-37.818553,-37.821015,-37.8049082,-37.8003719,-37.8150464,-37.8136563,-37.8058336,-37.8075137,-37.8157195,-37.8243506,-37.8181279,-37.8072912,-37.7989897,-37.8246536,-37.8093685,-37.8008617,-37.8151119,-37.8024922,-37.826394,-37.8093611,-37.8105357,-37.8211126,-37.8162225,37.8081194,-37.8092623,-37.8007705,-37.8135412,-37.8181125,-37.8210654,-37.8088109,-37.8040695,-37.8087002,37.8102462,-37.8146899,-37.8182748,-37.8012547,-37.8061405,-37.8023661,-37.817826,-37.8209822,-37.818311,-37.8080795,-37.8183743,-37.8058582,-37.8184735,-37.8044309,-37.8019303,-37.8105551,-37.8132087,-37.8032857,-37.8142345,-37.8121827,-37.8002551,-37.8187778,-37.8065706,-37.8127164,-37.8192236,-37.8010132,-37.8155991,-37.8126201,-37.8140787,-37.8014968,-37.8179311,-37.8206783,-37.8125548,-37.8252835,-37.8117127,-37.808963,-37.8041173,-37.8048702,-37.8190572,-37.8000613,-37.8187231,-37.8083317,-37.8135027,37.8158973,-37.8108985,-37.8201111,-37.8119516,-37.815026,-37.8052239,-37.8010832,-37.8156977,-37.8092805,-37.8203826,-37.803208,-37.8156647,-37.8137364,-37.0548666,-37.8254825,-37.8038748,37.8074687,-37.8139812,-37.823736,-37.8126336,-37.8206252,-37.8001274,-37.8218441,-37.8196563,-37.803335,-37.8225159,-37.8211236,-37.8112924,-37.8215382,-37.8166074,-37.8137364,-37.8173281,-37.8092558,-37.8092064,-37.8164844,-37.8229997,-37.8004687,-37.8118633,-37.8241038,-37.8012586,-37.8262599,-37.8015275,-37.805314,-37.8220278,-37.8090833,-37.8244678,-37.8078693,-37.8101023,-37.8169681,-37.8120357,-37.8238772,-37.8043419,-37.8173149,-37.8176125,-37.8190869,-37.8223332,-37.8121475,-37.8152716,-37.8206574,-37.8046728,-37.8042012,-37.8210664,37.8235073,-37.8182207,-37.8074393,-37.8126977,-37.8197041,-37.808659,-37.821639,-37.8082928,-37.8198249,-37.801844,-37.8113898,-37.8185594,-37.8195942,-37.812587,-37.820156,-37.8134616,-37.8065224,-37.8003644,-37.8127111,-37.8114704,-37.8241714,-37.8217368,37.8040822,-37.8193638,-37.8198062,-37.8061546,-37.8064259,-37.810688,-37.802133,-37.8023916,-37.8164447,-37.8253564,-37.8080672,-37.8004308,-37.8105418,-37.8188878,-37.8162093,-37.817662,-37.8154693,-37.805979,37.8200711,-37.812231],\"legendgroup\":\"\",\"lon\":[144.9328434,144.9511178,144.9575809,144.9730729,144.9698923,145.0149442,144.9515704,144.9595445,145.0140735,144.9423368,145.0086784,144.9574109,144.9413327,144.9752775,144.9723672,144.9867964,144.9717294,144.9714122,144.9728744,144.9680205,145.0185951,144.992404,144.9638143,144.9942382,144.9605411,145.0104152,145.0166333,145.0117177,144.9636734,144.9513179,144.980577,144.9592206,144.9368632,144.9544519,144.9272705,144.9542763,145.007438,144.9636776,144.9654387,145.0134889,144.9528506,144.9586124,144.9519126,144.9739924,144.9560174,144.9454199,144.9907543,145.0163708,144.9374633,144.9550887,144.975339,145.0085819,144.9595749,144.9630777,144.9639248,144.9786566,145.0022771,144.9847117,144.9609388,145.0118159,145.0166183,145.0075865,144.9570706,144.963545,144.9589424,144.9707771,144.9706398,144.9324524,144.9619659,144.9777778,144.9619114,144.9690242,144.9835017,144.9516355,144.9842075,144.9554662,144.9630762,144.9632414,145.0001673,144.938431,144.9640738,144.9493838,144.9730313,144.9532845,144.9739868,145.0161351,144.9281069,144.9952241,144.9632047,145.0120941,144.9593275,144.9624821,144.9534781,144.9485174,145.0110143,144.9726914,144.9827307,144.9704567,144.9609023,144.9365521,145.0135513,144.9665714,145.0052383,144.9834904,144.9729476,144.9766338,144.9669823,144.9457072,144.9456191,144.9467214,145.0040415,144.9785671,144.9518402,144.987412,144.9763289,144.9903011,145.0120477,145.0093369,144.9651144,144.9445034,144.9932567,144.9995386,144.9745234,144.9426601,144.989861,144.9814779,144.988745,144.961298,144.9579614,144.9570842,144.9614999,144.9685203,144.9619223,144.9537162,144.9621506,144.972628,144.9452766,144.9826774,145.0194326,145.0144456,144.9450349,144.9666375,144.9353777,144.9833648,144.938349,145.0198375,144.9840358,145.0038283,144.9859039,144.9994885,145.0039589,145.0146498,144.9634694,144.9889123,144.9735827,145.0141013,144.9548986,144.9380617,145.0170324,144.9475744,144.9460673,145.0122973,144.9602405,144.9679761,144.979064,144.9402147,144.9855861,144.9617555,144.9582671,144.9867456,144.9577337,144.9729558,144.9669715,144.9851161,144.9520099,144.9808725,144.9727182,145.0055785,144.9632906,144.9400828,145.0058842,144.984733,144.9389462,144.9882562,144.9634453,144.9705524,144.9500493,144.9500603,144.9698135,144.9584,144.9577029,144.9334506,144.9688707,144.9740097,144.9440946,144.9454319,144.9926783,144.9785723,144.946302,144.9499644,144.9904296,144.9497761,144.963764,144.936364,144.9630195,144.9695353,144.9490826,144.9560719,145.0159049,144.9275311,144.9270956,144.99459,144.9567953,144.9633614,144.9249672,145.0089471,144.9803506,144.9724814,144.9534946,144.9661838,144.9690426,144.9650779,144.9979215,144.9662605,144.9530079,144.9400839,145.0091263,144.9620705,144.9396343,144.965171,145.0010984,145.0153092,144.949235,144.9548983,144.9565472,144.953491,144.9874269,144.9564037,144.9860256,144.9608825,144.9572258,144.9333753,144.9480634,144.9732055,144.9961532,144.9379385,144.9775804,144.9696279,144.9568527,144.9608163,144.9648389,144.9543146,144.9574225,144.9641165,144.9584927,144.9326798,144.9580329,144.9591096,145.0102248,144.9611237,144.934978,144.9778822,145.0142044,144.9374607,144.9416009,144.9421199,144.9669939,145.0079488,144.9679925,144.9577484,144.9565899,144.971036,144.969933,144.9675756,144.9487068,145.0155287,144.9411187,144.9456969,144.9793657,144.9504304,144.9320883,144.9376494,144.9694499,144.9604986,144.9487414,144.9785812,144.9725683,144.9529565,145.0039008,144.9457873,144.9553881,144.9695038,145.0025066,145.0127352,144.9594192,144.9357718,144.9749101,144.9859063,144.9417001,144.9575378,144.9890489,144.9699293,144.9729621,144.9668635,144.9839684,145.0097338,144.9734085,144.9591308,145.0054278,144.9367602,144.9366922,144.9515325,144.9657905,145.0154168,144.9580457,144.9923277,144.9459675,144.979309,144.9610481,144.9632486,144.9795497,144.9678922,144.9771755,144.9468264,144.9752763,144.9718458,144.9612615,145.0195185,144.9879565,144.9371449,144.9438143,144.9485845,144.9444704,144.9667971,144.9547414,144.9493415,144.9608163,144.9612114,144.9809522,145.0194182,144.9645195,144.9593008,144.9472811,144.9383605,144.9731848,144.9838244,144.9574101,144.9426636,144.9486411,144.9664847,144.9831656,144.9582857,144.9566447,144.9613499,144.9690651,144.9755146,144.9626936,144.9449158,144.9620569,144.9923277,144.9845129,145.0043774,144.9692773,144.9486428,145.0183945,144.9486815,144.9624253,144.9572928,145.0006641,144.9903708,144.9502708,144.9637244,144.9697962,144.9509615,144.9528494,144.9449806,144.9429385,144.9611303,144.9775605,144.9622488,144.965171,144.9641242,144.9548846,144.9673941,144.9793054,144.9650658,145.011873,144.9716148,144.9489466,144.9479909,144.961308,144.9614507,144.9611656,145.0037836,144.9547551,144.9656729,144.964698,144.9966202,144.9684911,144.9860757,144.9608825,145.0165925,144.9637813,144.9582655,144.9320471,144.9820358,144.9738755,144.9979117,144.936811,144.9344702,144.9962161,145.015497,144.9708683,144.971284,144.9761444,144.937464,144.9822383,144.98119,145.0153367,144.9716825,144.9899256,144.9477823,144.9549655,144.9637186,144.9671453,145.0056193,144.936811,144.990782,144.9915114,144.9606935,144.9442059,144.9644869,144.9807587,144.9638606,144.9905894,145.0051308,144.9288674,144.9622044,144.9416774,144.9475811,145.0116283,144.9565472,144.9919205,144.9641327,144.9901651,144.9668588,144.981668,144.9488589,144.9688801,145.0108561,144.9821753,144.9969724,144.9737734,144.9523118,144.9411965,144.9365014,144.9279658,144.9440588,144.9398909,144.9433514,144.9670156,144.990166,145.0144204,144.9493715,144.9450746,144.9766195,144.9954347,144.9813581,144.9714697,144.9991529,144.9901822,144.965275,144.9669682,144.944369,144.9317679,144.9792888,144.9688045,144.9375319,144.9537569,144.9306951,145.0052811,144.9902238,145.0016147,144.9583045,144.9439917,144.9855034,145.0041449,144.9981578,144.9458051,144.9462415,144.9692183,145.0095141,144.9720184,144.9538868,144.9640567,144.9704051,144.9680827,144.9661013,144.9844351,144.9886793],\"marker\":{\"color\":\"#636efa\",\"symbol\":\"circle\"},\"mode\":\"markers\",\"name\":\"\",\"showlegend\":false,\"type\":\"scattergeo\"}],                        {\"template\":{\"data\":{\"bar\":[{\"error_x\":{\"color\":\"#2a3f5f\"},\"error_y\":{\"color\":\"#2a3f5f\"},\"marker\":{\"line\":{\"color\":\"#E5ECF6\",\"width\":0.5},\"pattern\":{\"fillmode\":\"overlay\",\"size\":10,\"solidity\":0.2}},\"type\":\"bar\"}],\"barpolar\":[{\"marker\":{\"line\":{\"color\":\"#E5ECF6\",\"width\":0.5},\"pattern\":{\"fillmode\":\"overlay\",\"size\":10,\"solidity\":0.2}},\"type\":\"barpolar\"}],\"carpet\":[{\"aaxis\":{\"endlinecolor\":\"#2a3f5f\",\"gridcolor\":\"white\",\"linecolor\":\"white\",\"minorgridcolor\":\"white\",\"startlinecolor\":\"#2a3f5f\"},\"baxis\":{\"endlinecolor\":\"#2a3f5f\",\"gridcolor\":\"white\",\"linecolor\":\"white\",\"minorgridcolor\":\"white\",\"startlinecolor\":\"#2a3f5f\"},\"type\":\"carpet\"}],\"choropleth\":[{\"colorbar\":{\"outlinewidth\":0,\"ticks\":\"\"},\"type\":\"choropleth\"}],\"contour\":[{\"colorbar\":{\"outlinewidth\":0,\"ticks\":\"\"},\"colorscale\":[[0.0,\"#0d0887\"],[0.1111111111111111,\"#46039f\"],[0.2222222222222222,\"#7201a8\"],[0.3333333333333333,\"#9c179e\"],[0.4444444444444444,\"#bd3786\"],[0.5555555555555556,\"#d8576b\"],[0.6666666666666666,\"#ed7953\"],[0.7777777777777778,\"#fb9f3a\"],[0.8888888888888888,\"#fdca26\"],[1.0,\"#f0f921\"]],\"type\":\"contour\"}],\"contourcarpet\":[{\"colorbar\":{\"outlinewidth\":0,\"ticks\":\"\"},\"type\":\"contourcarpet\"}],\"heatmap\":[{\"colorbar\":{\"outlinewidth\":0,\"ticks\":\"\"},\"colorscale\":[[0.0,\"#0d0887\"],[0.1111111111111111,\"#46039f\"],[0.2222222222222222,\"#7201a8\"],[0.3333333333333333,\"#9c179e\"],[0.4444444444444444,\"#bd3786\"],[0.5555555555555556,\"#d8576b\"],[0.6666666666666666,\"#ed7953\"],[0.7777777777777778,\"#fb9f3a\"],[0.8888888888888888,\"#fdca26\"],[1.0,\"#f0f921\"]],\"type\":\"heatmap\"}],\"heatmapgl\":[{\"colorbar\":{\"outlinewidth\":0,\"ticks\":\"\"},\"colorscale\":[[0.0,\"#0d0887\"],[0.1111111111111111,\"#46039f\"],[0.2222222222222222,\"#7201a8\"],[0.3333333333333333,\"#9c179e\"],[0.4444444444444444,\"#bd3786\"],[0.5555555555555556,\"#d8576b\"],[0.6666666666666666,\"#ed7953\"],[0.7777777777777778,\"#fb9f3a\"],[0.8888888888888888,\"#fdca26\"],[1.0,\"#f0f921\"]],\"type\":\"heatmapgl\"}],\"histogram\":[{\"marker\":{\"pattern\":{\"fillmode\":\"overlay\",\"size\":10,\"solidity\":0.2}},\"type\":\"histogram\"}],\"histogram2d\":[{\"colorbar\":{\"outlinewidth\":0,\"ticks\":\"\"},\"colorscale\":[[0.0,\"#0d0887\"],[0.1111111111111111,\"#46039f\"],[0.2222222222222222,\"#7201a8\"],[0.3333333333333333,\"#9c179e\"],[0.4444444444444444,\"#bd3786\"],[0.5555555555555556,\"#d8576b\"],[0.6666666666666666,\"#ed7953\"],[0.7777777777777778,\"#fb9f3a\"],[0.8888888888888888,\"#fdca26\"],[1.0,\"#f0f921\"]],\"type\":\"histogram2d\"}],\"histogram2dcontour\":[{\"colorbar\":{\"outlinewidth\":0,\"ticks\":\"\"},\"colorscale\":[[0.0,\"#0d0887\"],[0.1111111111111111,\"#46039f\"],[0.2222222222222222,\"#7201a8\"],[0.3333333333333333,\"#9c179e\"],[0.4444444444444444,\"#bd3786\"],[0.5555555555555556,\"#d8576b\"],[0.6666666666666666,\"#ed7953\"],[0.7777777777777778,\"#fb9f3a\"],[0.8888888888888888,\"#fdca26\"],[1.0,\"#f0f921\"]],\"type\":\"histogram2dcontour\"}],\"mesh3d\":[{\"colorbar\":{\"outlinewidth\":0,\"ticks\":\"\"},\"type\":\"mesh3d\"}],\"parcoords\":[{\"line\":{\"colorbar\":{\"outlinewidth\":0,\"ticks\":\"\"}},\"type\":\"parcoords\"}],\"pie\":[{\"automargin\":true,\"type\":\"pie\"}],\"scatter\":[{\"marker\":{\"colorbar\":{\"outlinewidth\":0,\"ticks\":\"\"}},\"type\":\"scatter\"}],\"scatter3d\":[{\"line\":{\"colorbar\":{\"outlinewidth\":0,\"ticks\":\"\"}},\"marker\":{\"colorbar\":{\"outlinewidth\":0,\"ticks\":\"\"}},\"type\":\"scatter3d\"}],\"scattercarpet\":[{\"marker\":{\"colorbar\":{\"outlinewidth\":0,\"ticks\":\"\"}},\"type\":\"scattercarpet\"}],\"scattergeo\":[{\"marker\":{\"colorbar\":{\"outlinewidth\":0,\"ticks\":\"\"}},\"type\":\"scattergeo\"}],\"scattergl\":[{\"marker\":{\"colorbar\":{\"outlinewidth\":0,\"ticks\":\"\"}},\"type\":\"scattergl\"}],\"scattermapbox\":[{\"marker\":{\"colorbar\":{\"outlinewidth\":0,\"ticks\":\"\"}},\"type\":\"scattermapbox\"}],\"scatterpolar\":[{\"marker\":{\"colorbar\":{\"outlinewidth\":0,\"ticks\":\"\"}},\"type\":\"scatterpolar\"}],\"scatterpolargl\":[{\"marker\":{\"colorbar\":{\"outlinewidth\":0,\"ticks\":\"\"}},\"type\":\"scatterpolargl\"}],\"scatterternary\":[{\"marker\":{\"colorbar\":{\"outlinewidth\":0,\"ticks\":\"\"}},\"type\":\"scatterternary\"}],\"surface\":[{\"colorbar\":{\"outlinewidth\":0,\"ticks\":\"\"},\"colorscale\":[[0.0,\"#0d0887\"],[0.1111111111111111,\"#46039f\"],[0.2222222222222222,\"#7201a8\"],[0.3333333333333333,\"#9c179e\"],[0.4444444444444444,\"#bd3786\"],[0.5555555555555556,\"#d8576b\"],[0.6666666666666666,\"#ed7953\"],[0.7777777777777778,\"#fb9f3a\"],[0.8888888888888888,\"#fdca26\"],[1.0,\"#f0f921\"]],\"type\":\"surface\"}],\"table\":[{\"cells\":{\"fill\":{\"color\":\"#EBF0F8\"},\"line\":{\"color\":\"white\"}},\"header\":{\"fill\":{\"color\":\"#C8D4E3\"},\"line\":{\"color\":\"white\"}},\"type\":\"table\"}]},\"layout\":{\"annotationdefaults\":{\"arrowcolor\":\"#2a3f5f\",\"arrowhead\":0,\"arrowwidth\":1},\"autotypenumbers\":\"strict\",\"coloraxis\":{\"colorbar\":{\"outlinewidth\":0,\"ticks\":\"\"}},\"colorscale\":{\"diverging\":[[0,\"#8e0152\"],[0.1,\"#c51b7d\"],[0.2,\"#de77ae\"],[0.3,\"#f1b6da\"],[0.4,\"#fde0ef\"],[0.5,\"#f7f7f7\"],[0.6,\"#e6f5d0\"],[0.7,\"#b8e186\"],[0.8,\"#7fbc41\"],[0.9,\"#4d9221\"],[1,\"#276419\"]],\"sequential\":[[0.0,\"#0d0887\"],[0.1111111111111111,\"#46039f\"],[0.2222222222222222,\"#7201a8\"],[0.3333333333333333,\"#9c179e\"],[0.4444444444444444,\"#bd3786\"],[0.5555555555555556,\"#d8576b\"],[0.6666666666666666,\"#ed7953\"],[0.7777777777777778,\"#fb9f3a\"],[0.8888888888888888,\"#fdca26\"],[1.0,\"#f0f921\"]],\"sequentialminus\":[[0.0,\"#0d0887\"],[0.1111111111111111,\"#46039f\"],[0.2222222222222222,\"#7201a8\"],[0.3333333333333333,\"#9c179e\"],[0.4444444444444444,\"#bd3786\"],[0.5555555555555556,\"#d8576b\"],[0.6666666666666666,\"#ed7953\"],[0.7777777777777778,\"#fb9f3a\"],[0.8888888888888888,\"#fdca26\"],[1.0,\"#f0f921\"]]},\"colorway\":[\"#636efa\",\"#EF553B\",\"#00cc96\",\"#ab63fa\",\"#FFA15A\",\"#19d3f3\",\"#FF6692\",\"#B6E880\",\"#FF97FF\",\"#FECB52\"],\"font\":{\"color\":\"#2a3f5f\"},\"geo\":{\"bgcolor\":\"white\",\"lakecolor\":\"white\",\"landcolor\":\"#E5ECF6\",\"showlakes\":true,\"showland\":true,\"subunitcolor\":\"white\"},\"hoverlabel\":{\"align\":\"left\"},\"hovermode\":\"closest\",\"mapbox\":{\"style\":\"light\"},\"paper_bgcolor\":\"white\",\"plot_bgcolor\":\"#E5ECF6\",\"polar\":{\"angularaxis\":{\"gridcolor\":\"white\",\"linecolor\":\"white\",\"ticks\":\"\"},\"bgcolor\":\"#E5ECF6\",\"radialaxis\":{\"gridcolor\":\"white\",\"linecolor\":\"white\",\"ticks\":\"\"}},\"scene\":{\"xaxis\":{\"backgroundcolor\":\"#E5ECF6\",\"gridcolor\":\"white\",\"gridwidth\":2,\"linecolor\":\"white\",\"showbackground\":true,\"ticks\":\"\",\"zerolinecolor\":\"white\"},\"yaxis\":{\"backgroundcolor\":\"#E5ECF6\",\"gridcolor\":\"white\",\"gridwidth\":2,\"linecolor\":\"white\",\"showbackground\":true,\"ticks\":\"\",\"zerolinecolor\":\"white\"},\"zaxis\":{\"backgroundcolor\":\"#E5ECF6\",\"gridcolor\":\"white\",\"gridwidth\":2,\"linecolor\":\"white\",\"showbackground\":true,\"ticks\":\"\",\"zerolinecolor\":\"white\"}},\"shapedefaults\":{\"line\":{\"color\":\"#2a3f5f\"}},\"ternary\":{\"aaxis\":{\"gridcolor\":\"white\",\"linecolor\":\"white\",\"ticks\":\"\"},\"baxis\":{\"gridcolor\":\"white\",\"linecolor\":\"white\",\"ticks\":\"\"},\"bgcolor\":\"#E5ECF6\",\"caxis\":{\"gridcolor\":\"white\",\"linecolor\":\"white\",\"ticks\":\"\"}},\"title\":{\"x\":0.05},\"xaxis\":{\"automargin\":true,\"gridcolor\":\"white\",\"linecolor\":\"white\",\"ticks\":\"\",\"title\":{\"standoff\":15},\"zerolinecolor\":\"white\",\"zerolinewidth\":2},\"yaxis\":{\"automargin\":true,\"gridcolor\":\"white\",\"linecolor\":\"white\",\"ticks\":\"\",\"title\":{\"standoff\":15},\"zerolinecolor\":\"white\",\"zerolinewidth\":2}}},\"geo\":{\"domain\":{\"x\":[0.0,1.0],\"y\":[0.0,1.0]},\"center\":{\"lat\":-2,\"lon\":160},\"projection\":{\"scale\":2}},\"legend\":{\"tracegroupgap\":0},\"margin\":{\"t\":60},\"height\":500},                        {\"responsive\": true}                    ).then(function(){\n",
       "                            \n",
       "var gd = document.getElementById('0abab663-4f36-40fe-bc20-28886f9a34f6');\n",
       "var x = new MutationObserver(function (mutations, observer) {{\n",
       "        var display = window.getComputedStyle(gd).display;\n",
       "        if (!display || display === 'none') {{\n",
       "            console.log([gd, 'removed!']);\n",
       "            Plotly.purge(gd);\n",
       "            observer.disconnect();\n",
       "        }}\n",
       "}});\n",
       "\n",
       "// Listen for the removal of the full notebook cells\n",
       "var notebookContainer = gd.closest('#notebook-container');\n",
       "if (notebookContainer) {{\n",
       "    x.observe(notebookContainer, {childList: true});\n",
       "}}\n",
       "\n",
       "// Listen for the clearing of the current output cell\n",
       "var outputEl = gd.closest('.output');\n",
       "if (outputEl) {{\n",
       "    x.observe(outputEl, {childList: true});\n",
       "}}\n",
       "\n",
       "                        })                };                });            </script>        </div>"
      ]
     },
     "metadata": {},
     "output_type": "display_data"
    }
   ],
   "source": [
    "# map shows us there are coordinates off the cost of Japan , which seems incorrect\n",
    "# zoom on the map for closer inspection\n",
    "fig = px.scatter_geo(df_dirty_data, lat='customer_lat',lon='customer_long', height=500)\n",
    "fig.update_layout(geo = dict(projection_scale=2,center=dict(lat=-2, lon=160)))\n",
    "fig.show()\n",
    "\n",
    "fig = px.scatter_geo(df_dirty_data, lat='customer_lat',lon='customer_long', height=500)\n",
    "fig.update_layout(geo = dict(projection_scale=2,center=dict(lat=-2, lon=160)))\n",
    "fig.show()\n"
   ]
  },
  {
   "cell_type": "code",
   "execution_count": 183,
   "id": "3f65375c-dafb-4e99-b790-23a8655d45ea",
   "metadata": {},
   "outputs": [
    {
     "data": {
      "image/png": "[encoded data removed]",
      "text/plain": [
       "<Figure size 432x288 with 1 Axes>"
      ]
     },
     "metadata": {
      "needs_background": "light"
     },
     "output_type": "display_data"
    }
   ],
   "source": [
    "# here we can see thescatterplot contains an even distribution for negative latitude values\n",
    "sns.scatterplot(x='customer_lat', y='customer_long',data=df_missing_data)\n",
    "plt.title('df_missing_data Latitude and Longitude')\n",
    "# Set x-axis label\n",
    "plt.xlabel('Customer Longitude')\n",
    "# Set y-axis label\n",
    "plt.ylabel('Customer Latitude')\n",
    "plt.show()"
   ]
  },
  {
   "cell_type": "code",
   "execution_count": 209,
   "id": "f120fefa-3b93-4733-bca8-13441c821716",
   "metadata": {},
   "outputs": [
    {
     "data": {
      "application/vnd.plotly.v1+json": {
       "config": {
        "plotlyServerURL": "https://plot.ly"
       },
       "data": [
        {
         "geo": "geo",
         "hovertemplate": "customer_lat=%{lat}<br>customer_long=%{lon}<extra></extra>",
         "lat": [
          -37.8117825,
          -37.8082365,
          -37.8129413,
          -37.8117484,
          -37.8183928,
          -37.8015018,
          -37.8237,
          -37.8174124,
          -37.8070811,
          -37.8101638,
          -37.8244322,
          -37.8078471,
          -37.8067528,
          -37.8187471,
          -37.8210595,
          -37.8191715,
          -37.8011379,
          -37.8114868,
          -37.8167395,
          -37.81317,
          -37.8241101,
          -37.8040253,
          -37.8114219,
          -37.8117424,
          -37.8158995,
          null,
          -37.8189424,
          -37.8194063,
          -37.8019936,
          -37.8228754,
          -37.8057211,
          -37.804787,
          -37.8101377,
          -37.8223792,
          -37.8156484,
          -37.8257446,
          -37.8201538,
          -37.817031,
          -37.8070784,
          -37.81115,
          -37.7993218,
          -37.8139548,
          -37.8239999,
          -37.8196559,
          -37.8170235,
          -37.8123737,
          -37.8173643,
          -37.8064157,
          -37.8157298,
          -37.8032166,
          -37.8169827,
          -37.8179326,
          -37.818372,
          -37.8021155,
          -37.8110215,
          -37.8119751,
          -37.7988615,
          -37.8215275,
          -37.8020804,
          -37.810944,
          -37.8135696,
          -37.8199582,
          -37.799738,
          -37.8145441,
          -37.8132381,
          -37.8149579,
          -37.8204674,
          -37.8175294,
          -37.8209535,
          -37.816262,
          -37.8172742,
          -37.8176985,
          -37.7999603,
          -37.8243004,
          -37.8136163,
          null,
          -37.8224787,
          -37.8099896,
          -37.8110569,
          -37.8146506,
          -37.8152578,
          -37.8218698,
          -37.8029493,
          -37.8233453,
          -37.804139,
          -37.8004891,
          -37.8055792,
          -37.8149911,
          -37.8099215,
          -37.8006678,
          -37.8091486,
          -37.8026534,
          -37.8110334,
          -37.8222216,
          -37.8204016,
          -37.8002642,
          -37.8105582,
          -37.8150965,
          -37.8106759,
          -37.8100277,
          -37.8007919,
          -37.8152763,
          -37.8230989,
          -37.7993102,
          -37.8146759,
          -37.819355,
          -37.8206466,
          -37.8208542,
          -37.8102441,
          -37.7991681,
          -37.806362,
          -37.8146136,
          -37.8108968,
          -37.8100895,
          -37.822232,
          -37.8167483,
          -37.8005422,
          -37.8003085,
          -37.8214261,
          -37.8133795,
          -37.8158807,
          -37.8219186,
          -37.8120059,
          -37.8149101,
          -37.820783,
          -37.8025074,
          -37.8159881,
          -37.8242368,
          -37.8149802,
          -37.8021759,
          -37.8192464,
          -37.8127666,
          -37.8196704,
          null,
          -37.8252847,
          -37.8013402,
          -37.8097941,
          -37.8054164,
          -37.8092032,
          -37.8125191,
          -37.8130247,
          -37.823731,
          -37.816154,
          -37.7992037,
          -37.8033298,
          -37.8004608,
          -37.7994811,
          -37.8129222,
          -37.8263373,
          -37.8026534,
          -37.821195,
          -37.8146253,
          -37.8030248,
          -37.7990947,
          -37.8170411,
          -37.8114192,
          -37.8023566,
          -37.8083056,
          -37.8246357,
          -37.8154069,
          -37.8132344,
          -37.8168137,
          -37.812708,
          -37.8116706,
          -37.8188621,
          -37.8157078,
          -37.8239706,
          -37.8203966,
          -37.8065238,
          -37.8220787,
          -37.8097027,
          -37.8161105,
          -37.8174147,
          -37.8236861,
          -37.8012995,
          -37.8165074,
          -37.806771,
          -37.8118259,
          -37.8104621,
          -37.802017,
          -37.8217001,
          -37.8023765,
          -37.8120034,
          -37.8020824,
          -37.8134235,
          -37.8113359,
          -37.8007475,
          -37.8082834,
          -37.8208494,
          null,
          -37.8244373,
          -37.8147034,
          null,
          -37.8248994,
          -37.8100986,
          -37.8095586,
          -37.8199519,
          -37.8064734,
          -37.8031422,
          -37.8149767,
          -37.816024,
          -37.822573,
          -37.8258228,
          null,
          -37.8238541,
          -37.8154918,
          -37.8084946,
          -37.8161766,
          -37.825097,
          -37.8157682,
          -37.8220421,
          -37.8188826,
          -37.8242423,
          -37.813157,
          -37.8249668,
          -37.8096216,
          -37.8152518,
          -37.8222097,
          -37.8102312,
          -37.8109711,
          -37.8117446,
          -37.8255038,
          -37.8112445,
          -37.8100447,
          null,
          -37.8023697,
          -37.8220125,
          -37.8091174,
          -37.7990483,
          -37.814471,
          -37.8207274,
          -37.8154546,
          -37.8207051,
          -37.8185588,
          -37.8161821,
          -37.8063248,
          -37.8126038,
          -37.8077142,
          -37.8038804,
          -37.8181557,
          -37.825648,
          -37.7992511,
          -37.7997769,
          -37.8228688,
          -37.8155397,
          -37.8126669,
          -37.8151052,
          -37.8045747,
          -37.8064,
          -37.8098465,
          -37.8193406,
          -37.8029455,
          -37.8208848,
          -37.8141649,
          -37.8124114,
          -37.8051063,
          -37.802017,
          -37.8197642,
          -37.8209432,
          -37.8113501,
          -37.800105,
          -37.8232709,
          -37.8184561,
          -37.8206832,
          -37.8094529,
          -37.8040734,
          -37.8169838,
          -37.8101791,
          -37.8155076,
          -37.8164305,
          -37.8236149,
          -37.8204349,
          -37.8228089,
          -37.8083448,
          -37.806913,
          -37.8040822,
          -37.8140574,
          -37.8052677,
          -37.8001129,
          -37.8126496,
          -37.8189476,
          -37.8027124,
          -37.7991259,
          -37.812877,
          -37.8240561,
          -37.8026398,
          -37.8050314,
          -37.8022213,
          -37.8155614,
          -37.8078487,
          -37.8008765,
          -37.8107373,
          -37.7882653,
          -37.7991553,
          -37.804981,
          -37.8141197,
          -37.8119424,
          -37.8202619,
          -37.8038188,
          -37.8039972,
          -37.817132,
          -37.8208689,
          -37.824252,
          -37.8176132,
          -37.8187574,
          -37.8140479,
          -37.822615,
          -37.8130127,
          -37.8236459,
          -37.809982,
          -37.8113593,
          -37.8086792,
          -37.8133986,
          -37.8136923,
          -37.8130823,
          -37.7989598,
          -37.8094365,
          -37.8196958,
          -37.8139838,
          -37.8082091,
          -37.8119843,
          -37.8051492,
          -37.8035651,
          -37.8200677,
          null,
          -37.8148461,
          -37.8213116,
          -37.8108601,
          -37.8042012,
          -37.8023534,
          -37.8198783,
          -37.806898,
          -37.8157826,
          -37.8282162,
          -37.8088627,
          -37.8076947,
          -37.8059833,
          -37.8201466,
          -37.8172529,
          -37.8002551,
          -37.8151717,
          -37.8199451,
          -37.8152208,
          -37.8147213,
          -37.8186583,
          -37.801873,
          -37.8177713,
          -37.8078691,
          -37.807145,
          -37.8246873,
          -37.8071927,
          -37.8198072,
          -37.8100015,
          -37.8138614,
          -37.8162951,
          -37.8181254,
          -37.8187572,
          -37.8201307,
          -37.8034526,
          -37.8088949,
          -37.807636,
          -37.8068272,
          -37.8115747,
          -37.8226509,
          -37.8178474,
          -37.8143701,
          -37.810795,
          -37.8047938,
          -37.8087422,
          -37.8003501,
          -37.8206841,
          -37.7999827,
          -37.8067011,
          -37.8202395,
          -37.8207167,
          -37.8181279,
          -37.8225748,
          -37.8151573,
          -37.8119496,
          -37.8064308,
          -37.8101648,
          -37.8113706,
          -37.8204191,
          -37.8145453,
          -37.8190658,
          -37.8133238,
          -37.8152716,
          -37.8127823,
          -37.8180527,
          -37.8051798,
          -37.813381,
          -37.8055008,
          -37.814614,
          -37.8010756,
          -37.8120823,
          -37.8128713,
          -37.8056468,
          -37.80522,
          null,
          -37.8092351,
          -37.8204849,
          -37.8255051,
          -37.8120284,
          -37.8239578,
          -37.8236668,
          -37.8182368,
          -37.8160042,
          -37.8127348,
          -37.806982,
          -37.8094281,
          -37.8226366,
          -37.8143199,
          -37.8157678,
          -37.8122878,
          -37.8135784,
          -37.801189,
          -37.8106277,
          -37.7994564,
          -37.8130033,
          -37.8120906,
          -37.8179807,
          -37.8202827,
          -37.8187378,
          -37.8182824,
          -37.8057429,
          -37.8071098,
          -37.8209141,
          -37.8023282,
          -37.8040967,
          -37.8125165,
          -37.8207581,
          -37.8135942,
          -37.8153663,
          -37.8207339,
          -37.80542,
          -37.8234669,
          -37.8017911,
          -37.8097067,
          -37.8238515,
          -37.8045464,
          -37.8058707,
          -37.8149457,
          -37.7954792,
          -37.8245991,
          -37.81683,
          -37.7993462,
          -37.7987169,
          -37.8245429,
          -37.8150666,
          -37.820727,
          -37.815109,
          -37.8022885,
          -37.810906,
          -37.8155781,
          -37.8097638,
          -37.8188693,
          -37.8155933,
          -37.799783,
          -37.8003644,
          -37.8131701,
          null,
          -37.8211602,
          -37.8080901,
          -37.8048535,
          -37.8166491,
          -37.8002338,
          -37.8249498,
          -37.8121346,
          -37.7997592,
          -37.8060731,
          -37.8007455,
          -37.8161206,
          -37.8159547,
          -37.8031341,
          -37.8184937,
          -37.8200618,
          -37.8128141,
          -37.8250674,
          -37.8248132,
          -37.8208489,
          -37.806367,
          -37.8030068,
          -37.8093346,
          -37.7954792,
          -37.8110937,
          -37.803875,
          -37.8139995,
          -37.7988456,
          -37.805884,
          -37.8240925,
          -37.8222216,
          -37.7936094,
          -37.8248196,
          -37.805352,
          -37.8087418,
          -37.815309,
          -37.8025034,
          -37.8094457,
          -37.807649,
          -37.8129301
         ],
         "legendgroup": "",
         "lon": [
          144.9519722,
          144.9421811,
          144.9858829,
          144.9381916,
          144.9670339,
          144.9661038,
          144.9563143,
          144.96759,
          144.9672879,
          144.9668186,
          144.9757989,
          144.9744618,
          144.9463506,
          144.9678683,
          144.977085,
          144.9542421,
          144.9886054,
          144.9645604,
          144.9602506,
          144.95144,
          144.9820311,
          144.9528506,
          144.9366916,
          144.9702604,
          144.9852018,
          144.9212169,
          145.0023257,
          144.9638025,
          144.9443023,
          144.9765218,
          144.951488,
          144.9574515,
          144.9965834,
          144.9340469,
          144.9543811,
          144.9400985,
          144.9669628,
          144.9520465,
          144.9556666,
          144.9729569,
          144.9590309,
          144.92984,
          144.9537655,
          144.9686385,
          144.9515201,
          144.9623874,
          144.9460147,
          144.9440786,
          144.9380366,
          144.97398,
          144.9317622,
          144.9511252,
          145.0015339,
          144.9416163,
          145.015575,
          144.9574745,
          144.9578438,
          144.9617357,
          144.9950531,
          144.9589427,
          144.9912567,
          144.9587172,
          144.9573739,
          145.0141839,
          144.9715599,
          144.9275204,
          144.9663312,
          144.9959598,
          144.9570374,
          144.9835422,
          145.0132878,
          144.9692462,
          144.9736911,
          144.9369768,
          144.9656842,
          144.9908827,
          144.9399782,
          144.9477885,
          144.9503794,
          144.9593159,
          144.9634694,
          145.0103197,
          144.9619552,
          144.993547,
          144.9498345,
          144.9715618,
          144.9813172,
          144.9593497,
          144.9912177,
          144.9975125,
          144.9609023,
          144.9634908,
          144.9635955,
          144.949747,
          144.9826808,
          144.9635872,
          null,
          144.964039,
          144.9462069,
          144.9585231,
          144.9701024,
          144.9366486,
          144.9622591,
          144.963207,
          145.0015684,
          144.9895766,
          144.9793256,
          144.9549213,
          144.9614737,
          144.9724538,
          144.9466284,
          145.0091926,
          144.9668054,
          144.9478642,
          144.9559424,
          145.0074769,
          144.9459658,
          144.9629788,
          144.9918042,
          144.9647797,
          144.9338778,
          144.9375504,
          144.9386635,
          144.958935,
          144.9486473,
          145.0050736,
          144.9662227,
          145.0136894,
          144.9327877,
          145.0079513,
          145.005678,
          145.0127195,
          145.0100186,
          144.9509758,
          144.9827537,
          144.9561196,
          144.9931233,
          144.9615204,
          144.9477568,
          145.0132056,
          144.9521634,
          144.9826913,
          144.9454322,
          null,
          144.9480135,
          144.995272,
          144.9740965,
          144.9598423,
          144.9956165,
          144.9634908,
          144.9626465,
          145.0132485,
          144.9292043,
          144.9632954,
          144.9507927,
          null,
          144.9577629,
          144.9786866,
          144.959284,
          144.9911905,
          144.9627186,
          145.0088002,
          144.9831015,
          144.9830306,
          144.9534438,
          null,
          144.984788,
          144.9576584,
          144.9416147,
          144.9695825,
          144.9555035,
          144.9826099,
          144.9900874,
          144.982575,
          144.9458316,
          144.9685455,
          144.9734146,
          144.962038,
          145.0130671,
          145.006551,
          144.9629449,
          144.9631636,
          144.9908827,
          144.9781159,
          144.9381332,
          145.0084965,
          145.0034602,
          144.9321279,
          144.955155,
          144.9580148,
          144.9830501,
          144.9902214,
          144.9638606,
          144.9567484,
          144.9694982,
          144.9638384,
          144.9685132,
          144.9592133,
          144.9423665,
          144.9275019,
          144.9567376,
          144.9793059,
          144.9848095,
          144.9650712,
          144.9793442,
          144.9665306,
          144.9574687,
          144.960877,
          144.9928374,
          144.9801777,
          145.0032393,
          144.9534026,
          144.9538317,
          144.9588659,
          144.9577837,
          144.9914506,
          144.9663639,
          144.9678411,
          144.9614027,
          144.9631023,
          144.9671826,
          144.9516026,
          144.9618019,
          144.995853,
          144.9780233,
          145.0045989,
          144.9694765,
          144.9368711,
          144.9324169,
          144.9496471,
          144.9485635,
          null,
          144.9485447,
          144.9681662,
          144.963919,
          144.9423391,
          144.9571717,
          144.9524056,
          144.9882585,
          144.9689676,
          144.9846995,
          144.9471151,
          144.9655272,
          144.9557457,
          144.973457,
          144.9640858,
          144.9328434,
          144.9674681,
          144.9414891,
          145.0028962,
          145.0022538,
          144.9816988,
          null,
          144.9631526,
          144.9903432,
          144.9282488,
          145.006551,
          144.9616287,
          144.9551861,
          145.0009867,
          144.9625121,
          144.9885267,
          145.005315,
          144.993264,
          145.016066,
          144.9677909,
          144.977853,
          144.9698524,
          144.9548674,
          144.9382911,
          144.9902265,
          144.957499,
          144.9554073,
          144.9715553,
          144.9657827,
          145.0052811,
          144.9481379,
          144.9370948,
          144.9553604,
          144.9527667,
          144.972777,
          144.9651559,
          144.9602851,
          144.9740492,
          144.9557082,
          144.956068,
          144.9279056,
          144.9899001,
          144.9581634,
          144.9743784,
          144.9541201,
          144.9560504,
          144.9292018,
          144.9806399,
          144.9723384,
          144.9681146,
          144.9456933,
          144.9895993,
          144.9643945,
          144.9500263,
          144.96452,
          144.9671895,
          144.9900371,
          144.9591096,
          144.953426,
          144.9359943,
          144.9581003,
          144.9389462,
          144.9878827,
          144.9645405,
          144.9474612,
          145.0067071,
          144.9841776,
          144.9387978,
          144.959658,
          144.9842738,
          144.9473781,
          144.9468973,
          144.9604896,
          144.9604111,
          144.9533495,
          144.9294548,
          144.9672031,
          144.9660228,
          144.9809341,
          144.9506248,
          144.9832925,
          144.9760968,
          144.9279658,
          144.9305568,
          144.9849796,
          144.9541113,
          144.9791621,
          144.9839717,
          144.971177,
          144.9897434,
          144.9580873,
          144.9582521,
          144.9907953,
          144.9509615,
          144.9450809,
          144.9686021,
          144.9450228,
          144.9903858,
          144.9670254,
          144.9801786,
          145.0071218,
          144.9419796,
          144.9487854,
          144.9828852,
          144.9569986,
          144.9436479,
          144.9447414,
          145.0146704,
          144.960581,
          144.9909146,
          144.9532392,
          144.9583071,
          144.9628817,
          144.9421274,
          144.9417408,
          144.9378833,
          144.9529382,
          null,
          144.9514154,
          144.9390152,
          145.0029751,
          144.9508954,
          144.9422614,
          144.9501888,
          null,
          144.9547057,
          144.9560165,
          144.9576732,
          144.9707771,
          144.9485845,
          null,
          144.959592,
          145.0119796,
          144.9595923,
          144.9964801,
          144.9728774,
          144.926592,
          144.9639714,
          144.9466291,
          144.9384266,
          144.9523118,
          144.9479386,
          144.9946725,
          144.9451234,
          144.9738693,
          144.9522729,
          144.9498952,
          144.9529394,
          144.9383737,
          144.9908765,
          144.9682151,
          144.9255324,
          145.001089,
          144.9722247,
          144.966356,
          144.9803904,
          144.9722133,
          144.9826474,
          144.9770017,
          144.9961532,
          144.9996541,
          144.9771849,
          144.9589974,
          144.9726966,
          145.0140745,
          144.9762224,
          144.9498885,
          144.9710567,
          144.9740498,
          144.9697813,
          144.9904765,
          144.9350124,
          144.9609387,
          144.9276731,
          144.9319734,
          144.9825612,
          144.9670613,
          144.9964005,
          144.9558818,
          144.9659965,
          144.9521367,
          144.9435265,
          144.9585081,
          144.9651979,
          144.9618974,
          144.9478734,
          144.9746393,
          144.9669253,
          144.9282301,
          144.9675701,
          144.9800967,
          144.9930454,
          144.9815633,
          144.9999847,
          144.9466259,
          144.9647656,
          144.936073,
          144.9430126,
          145.0142511,
          144.9592682,
          144.9673523,
          144.9528863,
          144.9747849,
          144.9670761,
          144.9749588,
          144.9810357,
          null,
          144.9580985,
          144.9932051,
          145.0023381,
          144.9665773,
          144.9633493,
          144.9792888,
          145.0096895,
          144.9375989,
          144.98368,
          144.9751078,
          144.9545609,
          144.9869362,
          144.9770628,
          144.9490132,
          144.9414663,
          144.9576109,
          144.960031,
          144.9568467,
          144.9287575,
          144.9575096,
          145.003551,
          144.9642026,
          144.9450101,
          144.9682021,
          144.9537148,
          144.9490652,
          144.9946581,
          144.9416549,
          145.0170153,
          144.9608903,
          144.936073,
          144.9661285,
          144.9583647,
          144.9396713,
          144.9588918,
          144.9366626,
          145.0028527,
          144.949747,
          144.9736686,
          144.9282668,
          144.9736526,
          144.9470873,
          144.9459185,
          144.9674279,
          144.9727357,
          144.9713701,
          144.9372432
         ],
         "marker": {
          "color": "#636efa",
          "symbol": "circle"
         },
         "mode": "markers",
         "name": "",
         "showlegend": false,
         "type": "scattergeo"
        }
       ],
       "layout": {
        "autosize": true,
        "geo": {
         "center": {
          "lat": -2,
          "lon": 160
         },
         "domain": {
          "x": [
           0,
           1
          ],
          "y": [
           0,
           1
          ]
         },
         "projection": {
          "scale": 2
         }
        },
        "legend": {
         "tracegroupgap": 0
        },
        "margin": {
         "t": 60
        },
        "template": {
         "data": {
          "bar": [
           {
            "error_x": {
             "color": "#2a3f5f"
            },
            "error_y": {
             "color": "#2a3f5f"
            },
            "marker": {
             "line": {
              "color": "#E5ECF6",
              "width": 0.5
             },
             "pattern": {
              "fillmode": "overlay",
              "size": 10,
              "solidity": 0.2
             }
            },
            "type": "bar"
           }
          ],
          "barpolar": [
           {
            "marker": {
             "line": {
              "color": "#E5ECF6",
              "width": 0.5
             },
             "pattern": {
              "fillmode": "overlay",
              "size": 10,
              "solidity": 0.2
             }
            },
            "type": "barpolar"
           }
          ],
          "carpet": [
           {
            "aaxis": {
             "endlinecolor": "#2a3f5f",
             "gridcolor": "white",
             "linecolor": "white",
             "minorgridcolor": "white",
             "startlinecolor": "#2a3f5f"
            },
            "baxis": {
             "endlinecolor": "#2a3f5f",
             "gridcolor": "white",
             "linecolor": "white",
             "minorgridcolor": "white",
             "startlinecolor": "#2a3f5f"
            },
            "type": "carpet"
           }
          ],
          "choropleth": [
           {
            "colorbar": {
             "outlinewidth": 0,
             "ticks": ""
            },
            "type": "choropleth"
           }
          ],
          "contour": [
           {
            "colorbar": {
             "outlinewidth": 0,
             "ticks": ""
            },
            "colorscale": [
             [
              0,
              "#0d0887"
             ],
             [
              0.1111111111111111,
              "#46039f"
             ],
             [
              0.2222222222222222,
              "#7201a8"
             ],
             [
              0.3333333333333333,
              "#9c179e"
             ],
             [
              0.4444444444444444,
              "#bd3786"
             ],
             [
              0.5555555555555556,
              "#d8576b"
             ],
             [
              0.6666666666666666,
              "#ed7953"
             ],
             [
              0.7777777777777778,
              "#fb9f3a"
             ],
             [
              0.8888888888888888,
              "#fdca26"
             ],
             [
              1,
              "#f0f921"
             ]
            ],
            "type": "contour"
           }
          ],
          "contourcarpet": [
           {
            "colorbar": {
             "outlinewidth": 0,
             "ticks": ""
            },
            "type": "contourcarpet"
           }
          ],
          "heatmap": [
           {
            "colorbar": {
             "outlinewidth": 0,
             "ticks": ""
            },
            "colorscale": [
             [
              0,
              "#0d0887"
             ],
             [
              0.1111111111111111,
              "#46039f"
             ],
             [
              0.2222222222222222,
              "#7201a8"
             ],
             [
              0.3333333333333333,
              "#9c179e"
             ],
             [
              0.4444444444444444,
              "#bd3786"
             ],
             [
              0.5555555555555556,
              "#d8576b"
             ],
             [
              0.6666666666666666,
              "#ed7953"
             ],
             [
              0.7777777777777778,
              "#fb9f3a"
             ],
             [
              0.8888888888888888,
              "#fdca26"
             ],
             [
              1,
              "#f0f921"
             ]
            ],
            "type": "heatmap"
           }
          ],
          "heatmapgl": [
           {
            "colorbar": {
             "outlinewidth": 0,
             "ticks": ""
            },
            "colorscale": [
             [
              0,
              "#0d0887"
             ],
             [
              0.1111111111111111,
              "#46039f"
             ],
             [
              0.2222222222222222,
              "#7201a8"
             ],
             [
              0.3333333333333333,
              "#9c179e"
             ],
             [
              0.4444444444444444,
              "#bd3786"
             ],
             [
              0.5555555555555556,
              "#d8576b"
             ],
             [
              0.6666666666666666,
              "#ed7953"
             ],
             [
              0.7777777777777778,
              "#fb9f3a"
             ],
             [
              0.8888888888888888,
              "#fdca26"
             ],
             [
              1,
              "#f0f921"
             ]
            ],
            "type": "heatmapgl"
           }
          ],
          "histogram": [
           {
            "marker": {
             "pattern": {
              "fillmode": "overlay",
              "size": 10,
              "solidity": 0.2
             }
            },
            "type": "histogram"
           }
          ],
          "histogram2d": [
           {
            "colorbar": {
             "outlinewidth": 0,
             "ticks": ""
            },
            "colorscale": [
             [
              0,
              "#0d0887"
             ],
             [
              0.1111111111111111,
              "#46039f"
             ],
             [
              0.2222222222222222,
              "#7201a8"
             ],
             [
              0.3333333333333333,
              "#9c179e"
             ],
             [
              0.4444444444444444,
              "#bd3786"
             ],
             [
              0.5555555555555556,
              "#d8576b"
             ],
             [
              0.6666666666666666,
              "#ed7953"
             ],
             [
              0.7777777777777778,
              "#fb9f3a"
             ],
             [
              0.8888888888888888,
              "#fdca26"
             ],
             [
              1,
              "#f0f921"
             ]
            ],
            "type": "histogram2d"
           }
          ],
          "histogram2dcontour": [
           {
            "colorbar": {
             "outlinewidth": 0,
             "ticks": ""
            },
            "colorscale": [
             [
              0,
              "#0d0887"
             ],
             [
              0.1111111111111111,
              "#46039f"
             ],
             [
              0.2222222222222222,
              "#7201a8"
             ],
             [
              0.3333333333333333,
              "#9c179e"
             ],
             [
              0.4444444444444444,
              "#bd3786"
             ],
             [
              0.5555555555555556,
              "#d8576b"
             ],
             [
              0.6666666666666666,
              "#ed7953"
             ],
             [
              0.7777777777777778,
              "#fb9f3a"
             ],
             [
              0.8888888888888888,
              "#fdca26"
             ],
             [
              1,
              "#f0f921"
             ]
            ],
            "type": "histogram2dcontour"
           }
          ],
          "mesh3d": [
           {
            "colorbar": {
             "outlinewidth": 0,
             "ticks": ""
            },
            "type": "mesh3d"
           }
          ],
          "parcoords": [
           {
            "line": {
             "colorbar": {
              "outlinewidth": 0,
              "ticks": ""
             }
            },
            "type": "parcoords"
           }
          ],
          "pie": [
           {
            "automargin": true,
            "type": "pie"
           }
          ],
          "scatter": [
           {
            "marker": {
             "colorbar": {
              "outlinewidth": 0,
              "ticks": ""
             }
            },
            "type": "scatter"
           }
          ],
          "scatter3d": [
           {
            "line": {
             "colorbar": {
              "outlinewidth": 0,
              "ticks": ""
             }
            },
            "marker": {
             "colorbar": {
              "outlinewidth": 0,
              "ticks": ""
             }
            },
            "type": "scatter3d"
           }
          ],
          "scattercarpet": [
           {
            "marker": {
             "colorbar": {
              "outlinewidth": 0,
              "ticks": ""
             }
            },
            "type": "scattercarpet"
           }
          ],
          "scattergeo": [
           {
            "marker": {
             "colorbar": {
              "outlinewidth": 0,
              "ticks": ""
             }
            },
            "type": "scattergeo"
           }
          ],
          "scattergl": [
           {
            "marker": {
             "colorbar": {
              "outlinewidth": 0,
              "ticks": ""
             }
            },
            "type": "scattergl"
           }
          ],
          "scattermapbox": [
           {
            "marker": {
             "colorbar": {
              "outlinewidth": 0,
              "ticks": ""
             }
            },
            "type": "scattermapbox"
           }
          ],
          "scatterpolar": [
           {
            "marker": {
             "colorbar": {
              "outlinewidth": 0,
              "ticks": ""
             }
            },
            "type": "scatterpolar"
           }
          ],
          "scatterpolargl": [
           {
            "marker": {
             "colorbar": {
              "outlinewidth": 0,
              "ticks": ""
             }
            },
            "type": "scatterpolargl"
           }
          ],
          "scatterternary": [
           {
            "marker": {
             "colorbar": {
              "outlinewidth": 0,
              "ticks": ""
             }
            },
            "type": "scatterternary"
           }
          ],
          "surface": [
           {
            "colorbar": {
             "outlinewidth": 0,
             "ticks": ""
            },
            "colorscale": [
             [
              0,
              "#0d0887"
             ],
             [
              0.1111111111111111,
              "#46039f"
             ],
             [
              0.2222222222222222,
              "#7201a8"
             ],
             [
              0.3333333333333333,
              "#9c179e"
             ],
             [
              0.4444444444444444,
              "#bd3786"
             ],
             [
              0.5555555555555556,
              "#d8576b"
             ],
             [
              0.6666666666666666,
              "#ed7953"
             ],
             [
              0.7777777777777778,
              "#fb9f3a"
             ],
             [
              0.8888888888888888,
              "#fdca26"
             ],
             [
              1,
              "#f0f921"
             ]
            ],
            "type": "surface"
           }
          ],
          "table": [
           {
            "cells": {
             "fill": {
              "color": "#EBF0F8"
             },
             "line": {
              "color": "white"
             }
            },
            "header": {
             "fill": {
              "color": "#C8D4E3"
             },
             "line": {
              "color": "white"
             }
            },
            "type": "table"
           }
          ]
         },
         "layout": {
          "annotationdefaults": {
           "arrowcolor": "#2a3f5f",
           "arrowhead": 0,
           "arrowwidth": 1
          },
          "autotypenumbers": "strict",
          "coloraxis": {
           "colorbar": {
            "outlinewidth": 0,
            "ticks": ""
           }
          },
          "colorscale": {
           "diverging": [
            [
             0,
             "#8e0152"
            ],
            [
             0.1,
             "#c51b7d"
            ],
            [
             0.2,
             "#de77ae"
            ],
            [
             0.3,
             "#f1b6da"
            ],
            [
             0.4,
             "#fde0ef"
            ],
            [
             0.5,
             "#f7f7f7"
            ],
            [
             0.6,
             "#e6f5d0"
            ],
            [
             0.7,
             "#b8e186"
            ],
            [
             0.8,
             "#7fbc41"
            ],
            [
             0.9,
             "#4d9221"
            ],
            [
             1,
             "#276419"
            ]
           ],
           "sequential": [
            [
             0,
             "#0d0887"
            ],
            [
             0.1111111111111111,
             "#46039f"
            ],
            [
             0.2222222222222222,
             "#7201a8"
            ],
            [
             0.3333333333333333,
             "#9c179e"
            ],
            [
             0.4444444444444444,
             "#bd3786"
            ],
            [
             0.5555555555555556,
             "#d8576b"
            ],
            [
             0.6666666666666666,
             "#ed7953"
            ],
            [
             0.7777777777777778,
             "#fb9f3a"
            ],
            [
             0.8888888888888888,
             "#fdca26"
            ],
            [
             1,
             "#f0f921"
            ]
           ],
           "sequentialminus": [
            [
             0,
             "#0d0887"
            ],
            [
             0.1111111111111111,
             "#46039f"
            ],
            [
             0.2222222222222222,
             "#7201a8"
            ],
            [
             0.3333333333333333,
             "#9c179e"
            ],
            [
             0.4444444444444444,
             "#bd3786"
            ],
            [
             0.5555555555555556,
             "#d8576b"
            ],
            [
             0.6666666666666666,
             "#ed7953"
            ],
            [
             0.7777777777777778,
             "#fb9f3a"
            ],
            [
             0.8888888888888888,
             "#fdca26"
            ],
            [
             1,
             "#f0f921"
            ]
           ]
          },
          "colorway": [
           "#636efa",
           "#EF553B",
           "#00cc96",
           "#ab63fa",
           "#FFA15A",
           "#19d3f3",
           "#FF6692",
           "#B6E880",
           "#FF97FF",
           "#FECB52"
          ],
          "font": {
           "color": "#2a3f5f"
          },
          "geo": {
           "bgcolor": "white",
           "lakecolor": "white",
           "landcolor": "#E5ECF6",
           "showlakes": true,
           "showland": true,
           "subunitcolor": "white"
          },
          "hoverlabel": {
           "align": "left"
          },
          "hovermode": "closest",
          "mapbox": {
           "style": "light"
          },
          "paper_bgcolor": "white",
          "plot_bgcolor": "#E5ECF6",
          "polar": {
           "angularaxis": {
            "gridcolor": "white",
            "linecolor": "white",
            "ticks": ""
           },
           "bgcolor": "#E5ECF6",
           "radialaxis": {
            "gridcolor": "white",
            "linecolor": "white",
            "ticks": ""
           }
          },
          "scene": {
           "xaxis": {
            "backgroundcolor": "#E5ECF6",
            "gridcolor": "white",
            "gridwidth": 2,
            "linecolor": "white",
            "showbackground": true,
            "ticks": "",
            "zerolinecolor": "white"
           },
           "yaxis": {
            "backgroundcolor": "#E5ECF6",
            "gridcolor": "white",
            "gridwidth": 2,
            "linecolor": "white",
            "showbackground": true,
            "ticks": "",
            "zerolinecolor": "white"
           },
           "zaxis": {
            "backgroundcolor": "#E5ECF6",
            "gridcolor": "white",
            "gridwidth": 2,
            "linecolor": "white",
            "showbackground": true,
            "ticks": "",
            "zerolinecolor": "white"
           }
          },
          "shapedefaults": {
           "line": {
            "color": "#2a3f5f"
           }
          },
          "ternary": {
           "aaxis": {
            "gridcolor": "white",
            "linecolor": "white",
            "ticks": ""
           },
           "baxis": {
            "gridcolor": "white",
            "linecolor": "white",
            "ticks": ""
           },
           "bgcolor": "#E5ECF6",
           "caxis": {
            "gridcolor": "white",
            "linecolor": "white",
            "ticks": ""
           }
          },
          "title": {
           "x": 0.05
          },
          "xaxis": {
           "automargin": true,
           "gridcolor": "white",
           "linecolor": "white",
           "ticks": "",
           "title": {
            "standoff": 15
           },
           "zerolinecolor": "white",
           "zerolinewidth": 2
          },
          "yaxis": {
           "automargin": true,
           "gridcolor": "white",
           "linecolor": "white",
           "ticks": "",
           "title": {
            "standoff": 15
           },
           "zerolinecolor": "white",
           "zerolinewidth": 2
          }
         }
        }
       }
      },
      "image/png": "[encoded data removed]",
      "text/html": [
       "<div>                            <div id=\"e4184009-3744-4edf-acb6-a212fb23ff8c\" class=\"plotly-graph-div\" style=\"height:500px; width:100%;\"></div>            <script type=\"text/javascript\">                require([\"plotly\"], function(Plotly) {                    window.PLOTLYENV=window.PLOTLYENV || {};                                    if (document.getElementById(\"e4184009-3744-4edf-acb6-a212fb23ff8c\")) {                    Plotly.newPlot(                        \"e4184009-3744-4edf-acb6-a212fb23ff8c\",                        [{\"geo\":\"geo\",\"hovertemplate\":\"customer_lat=%{lat}<br>customer_long=%{lon}<extra></extra>\",\"lat\":[-37.8117825,-37.8082365,-37.8129413,-37.8117484,-37.8183928,-37.8015018,-37.8237,-37.8174124,-37.8070811,-37.8101638,-37.8244322,-37.8078471,-37.8067528,-37.8187471,-37.8210595,-37.8191715,-37.8011379,-37.8114868,-37.8167395,-37.81317,-37.8241101,-37.8040253,-37.8114219,-37.8117424,-37.8158995,null,-37.8189424,-37.8194063,-37.8019936,-37.8228754,-37.8057211,-37.804787,-37.8101377,-37.8223792,-37.8156484,-37.8257446,-37.8201538,-37.817031,-37.8070784,-37.81115,-37.7993218,-37.8139548,-37.8239999,-37.8196559,-37.8170235,-37.8123737,-37.8173643,-37.8064157,-37.8157298,-37.8032166,-37.8169827,-37.8179326,-37.818372,-37.8021155,-37.8110215,-37.8119751,-37.7988615,-37.8215275,-37.8020804,-37.810944,-37.8135696,-37.8199582,-37.799738,-37.8145441,-37.8132381,-37.8149579,-37.8204674,-37.8175294,-37.8209535,-37.816262,-37.8172742,-37.8176985,-37.7999603,-37.8243004,-37.8136163,null,-37.8224787,-37.8099896,-37.8110569,-37.8146506,-37.8152578,-37.8218698,-37.8029493,-37.8233453,-37.804139,-37.8004891,-37.8055792,-37.8149911,-37.8099215,-37.8006678,-37.8091486,-37.8026534,-37.8110334,-37.8222216,-37.8204016,-37.8002642,-37.8105582,-37.8150965,-37.8106759,-37.8100277,-37.8007919,-37.8152763,-37.8230989,-37.7993102,-37.8146759,-37.819355,-37.8206466,-37.8208542,-37.8102441,-37.7991681,-37.806362,-37.8146136,-37.8108968,-37.8100895,-37.822232,-37.8167483,-37.8005422,-37.8003085,-37.8214261,-37.8133795,-37.8158807,-37.8219186,-37.8120059,-37.8149101,-37.820783,-37.8025074,-37.8159881,-37.8242368,-37.8149802,-37.8021759,-37.8192464,-37.8127666,-37.8196704,null,-37.8252847,-37.8013402,-37.8097941,-37.8054164,-37.8092032,-37.8125191,-37.8130247,-37.823731,-37.816154,-37.7992037,-37.8033298,-37.8004608,-37.7994811,-37.8129222,-37.8263373,-37.8026534,-37.821195,-37.8146253,-37.8030248,-37.7990947,-37.8170411,-37.8114192,-37.8023566,-37.8083056,-37.8246357,-37.8154069,-37.8132344,-37.8168137,-37.812708,-37.8116706,-37.8188621,-37.8157078,-37.8239706,-37.8203966,-37.8065238,-37.8220787,-37.8097027,-37.8161105,-37.8174147,-37.8236861,-37.8012995,-37.8165074,-37.806771,-37.8118259,-37.8104621,-37.802017,-37.8217001,-37.8023765,-37.8120034,-37.8020824,-37.8134235,-37.8113359,-37.8007475,-37.8082834,-37.8208494,null,-37.8244373,-37.8147034,null,-37.8248994,-37.8100986,-37.8095586,-37.8199519,-37.8064734,-37.8031422,-37.8149767,-37.816024,-37.822573,-37.8258228,null,-37.8238541,-37.8154918,-37.8084946,-37.8161766,-37.825097,-37.8157682,-37.8220421,-37.8188826,-37.8242423,-37.813157,-37.8249668,-37.8096216,-37.8152518,-37.8222097,-37.8102312,-37.8109711,-37.8117446,-37.8255038,-37.8112445,-37.8100447,null,-37.8023697,-37.8220125,-37.8091174,-37.7990483,-37.814471,-37.8207274,-37.8154546,-37.8207051,-37.8185588,-37.8161821,-37.8063248,-37.8126038,-37.8077142,-37.8038804,-37.8181557,-37.825648,-37.7992511,-37.7997769,-37.8228688,-37.8155397,-37.8126669,-37.8151052,-37.8045747,-37.8064,-37.8098465,-37.8193406,-37.8029455,-37.8208848,-37.8141649,-37.8124114,-37.8051063,-37.802017,-37.8197642,-37.8209432,-37.8113501,-37.800105,-37.8232709,-37.8184561,-37.8206832,-37.8094529,-37.8040734,-37.8169838,-37.8101791,-37.8155076,-37.8164305,-37.8236149,-37.8204349,-37.8228089,-37.8083448,-37.806913,-37.8040822,-37.8140574,-37.8052677,-37.8001129,-37.8126496,-37.8189476,-37.8027124,-37.7991259,-37.812877,-37.8240561,-37.8026398,-37.8050314,-37.8022213,-37.8155614,-37.8078487,-37.8008765,-37.8107373,-37.7882653,-37.7991553,-37.804981,-37.8141197,-37.8119424,-37.8202619,-37.8038188,-37.8039972,-37.817132,-37.8208689,-37.824252,-37.8176132,-37.8187574,-37.8140479,-37.822615,-37.8130127,-37.8236459,-37.809982,-37.8113593,-37.8086792,-37.8133986,-37.8136923,-37.8130823,-37.7989598,-37.8094365,-37.8196958,-37.8139838,-37.8082091,-37.8119843,-37.8051492,-37.8035651,-37.8200677,null,-37.8148461,-37.8213116,-37.8108601,-37.8042012,-37.8023534,-37.8198783,-37.806898,-37.8157826,-37.8282162,-37.8088627,-37.8076947,-37.8059833,-37.8201466,-37.8172529,-37.8002551,-37.8151717,-37.8199451,-37.8152208,-37.8147213,-37.8186583,-37.801873,-37.8177713,-37.8078691,-37.807145,-37.8246873,-37.8071927,-37.8198072,-37.8100015,-37.8138614,-37.8162951,-37.8181254,-37.8187572,-37.8201307,-37.8034526,-37.8088949,-37.807636,-37.8068272,-37.8115747,-37.8226509,-37.8178474,-37.8143701,-37.810795,-37.8047938,-37.8087422,-37.8003501,-37.8206841,-37.7999827,-37.8067011,-37.8202395,-37.8207167,-37.8181279,-37.8225748,-37.8151573,-37.8119496,-37.8064308,-37.8101648,-37.8113706,-37.8204191,-37.8145453,-37.8190658,-37.8133238,-37.8152716,-37.8127823,-37.8180527,-37.8051798,-37.813381,-37.8055008,-37.814614,-37.8010756,-37.8120823,-37.8128713,-37.8056468,-37.80522,null,-37.8092351,-37.8204849,-37.8255051,-37.8120284,-37.8239578,-37.8236668,-37.8182368,-37.8160042,-37.8127348,-37.806982,-37.8094281,-37.8226366,-37.8143199,-37.8157678,-37.8122878,-37.8135784,-37.801189,-37.8106277,-37.7994564,-37.8130033,-37.8120906,-37.8179807,-37.8202827,-37.8187378,-37.8182824,-37.8057429,-37.8071098,-37.8209141,-37.8023282,-37.8040967,-37.8125165,-37.8207581,-37.8135942,-37.8153663,-37.8207339,-37.80542,-37.8234669,-37.8017911,-37.8097067,-37.8238515,-37.8045464,-37.8058707,-37.8149457,-37.7954792,-37.8245991,-37.81683,-37.7993462,-37.7987169,-37.8245429,-37.8150666,-37.820727,-37.815109,-37.8022885,-37.810906,-37.8155781,-37.8097638,-37.8188693,-37.8155933,-37.799783,-37.8003644,-37.8131701,null,-37.8211602,-37.8080901,-37.8048535,-37.8166491,-37.8002338,-37.8249498,-37.8121346,-37.7997592,-37.8060731,-37.8007455,-37.8161206,-37.8159547,-37.8031341,-37.8184937,-37.8200618,-37.8128141,-37.8250674,-37.8248132,-37.8208489,-37.806367,-37.8030068,-37.8093346,-37.7954792,-37.8110937,-37.803875,-37.8139995,-37.7988456,-37.805884,-37.8240925,-37.8222216,-37.7936094,-37.8248196,-37.805352,-37.8087418,-37.815309,-37.8025034,-37.8094457,-37.807649,-37.8129301],\"legendgroup\":\"\",\"lon\":[144.9519722,144.9421811,144.9858829,144.9381916,144.9670339,144.9661038,144.9563143,144.96759,144.9672879,144.9668186,144.9757989,144.9744618,144.9463506,144.9678683,144.977085,144.9542421,144.9886054,144.9645604,144.9602506,144.95144,144.9820311,144.9528506,144.9366916,144.9702604,144.9852018,144.9212169,145.0023257,144.9638025,144.9443023,144.9765218,144.951488,144.9574515,144.9965834,144.9340469,144.9543811,144.9400985,144.9669628,144.9520465,144.9556666,144.9729569,144.9590309,144.92984,144.9537655,144.9686385,144.9515201,144.9623874,144.9460147,144.9440786,144.9380366,144.97398,144.9317622,144.9511252,145.0015339,144.9416163,145.015575,144.9574745,144.9578438,144.9617357,144.9950531,144.9589427,144.9912567,144.9587172,144.9573739,145.0141839,144.9715599,144.9275204,144.9663312,144.9959598,144.9570374,144.9835422,145.0132878,144.9692462,144.9736911,144.9369768,144.9656842,144.9908827,144.9399782,144.9477885,144.9503794,144.9593159,144.9634694,145.0103197,144.9619552,144.993547,144.9498345,144.9715618,144.9813172,144.9593497,144.9912177,144.9975125,144.9609023,144.9634908,144.9635955,144.949747,144.9826808,144.9635872,null,144.964039,144.9462069,144.9585231,144.9701024,144.9366486,144.9622591,144.963207,145.0015684,144.9895766,144.9793256,144.9549213,144.9614737,144.9724538,144.9466284,145.0091926,144.9668054,144.9478642,144.9559424,145.0074769,144.9459658,144.9629788,144.9918042,144.9647797,144.9338778,144.9375504,144.9386635,144.958935,144.9486473,145.0050736,144.9662227,145.0136894,144.9327877,145.0079513,145.005678,145.0127195,145.0100186,144.9509758,144.9827537,144.9561196,144.9931233,144.9615204,144.9477568,145.0132056,144.9521634,144.9826913,144.9454322,null,144.9480135,144.995272,144.9740965,144.9598423,144.9956165,144.9634908,144.9626465,145.0132485,144.9292043,144.9632954,144.9507927,null,144.9577629,144.9786866,144.959284,144.9911905,144.9627186,145.0088002,144.9831015,144.9830306,144.9534438,null,144.984788,144.9576584,144.9416147,144.9695825,144.9555035,144.9826099,144.9900874,144.982575,144.9458316,144.9685455,144.9734146,144.962038,145.0130671,145.006551,144.9629449,144.9631636,144.9908827,144.9781159,144.9381332,145.0084965,145.0034602,144.9321279,144.955155,144.9580148,144.9830501,144.9902214,144.9638606,144.9567484,144.9694982,144.9638384,144.9685132,144.9592133,144.9423665,144.9275019,144.9567376,144.9793059,144.9848095,144.9650712,144.9793442,144.9665306,144.9574687,144.960877,144.9928374,144.9801777,145.0032393,144.9534026,144.9538317,144.9588659,144.9577837,144.9914506,144.9663639,144.9678411,144.9614027,144.9631023,144.9671826,144.9516026,144.9618019,144.995853,144.9780233,145.0045989,144.9694765,144.9368711,144.9324169,144.9496471,144.9485635,null,144.9485447,144.9681662,144.963919,144.9423391,144.9571717,144.9524056,144.9882585,144.9689676,144.9846995,144.9471151,144.9655272,144.9557457,144.973457,144.9640858,144.9328434,144.9674681,144.9414891,145.0028962,145.0022538,144.9816988,null,144.9631526,144.9903432,144.9282488,145.006551,144.9616287,144.9551861,145.0009867,144.9625121,144.9885267,145.005315,144.993264,145.016066,144.9677909,144.977853,144.9698524,144.9548674,144.9382911,144.9902265,144.957499,144.9554073,144.9715553,144.9657827,145.0052811,144.9481379,144.9370948,144.9553604,144.9527667,144.972777,144.9651559,144.9602851,144.9740492,144.9557082,144.956068,144.9279056,144.9899001,144.9581634,144.9743784,144.9541201,144.9560504,144.9292018,144.9806399,144.9723384,144.9681146,144.9456933,144.9895993,144.9643945,144.9500263,144.96452,144.9671895,144.9900371,144.9591096,144.953426,144.9359943,144.9581003,144.9389462,144.9878827,144.9645405,144.9474612,145.0067071,144.9841776,144.9387978,144.959658,144.9842738,144.9473781,144.9468973,144.9604896,144.9604111,144.9533495,144.9294548,144.9672031,144.9660228,144.9809341,144.9506248,144.9832925,144.9760968,144.9279658,144.9305568,144.9849796,144.9541113,144.9791621,144.9839717,144.971177,144.9897434,144.9580873,144.9582521,144.9907953,144.9509615,144.9450809,144.9686021,144.9450228,144.9903858,144.9670254,144.9801786,145.0071218,144.9419796,144.9487854,144.9828852,144.9569986,144.9436479,144.9447414,145.0146704,144.960581,144.9909146,144.9532392,144.9583071,144.9628817,144.9421274,144.9417408,144.9378833,144.9529382,null,144.9514154,144.9390152,145.0029751,144.9508954,144.9422614,144.9501888,null,144.9547057,144.9560165,144.9576732,144.9707771,144.9485845,null,144.959592,145.0119796,144.9595923,144.9964801,144.9728774,144.926592,144.9639714,144.9466291,144.9384266,144.9523118,144.9479386,144.9946725,144.9451234,144.9738693,144.9522729,144.9498952,144.9529394,144.9383737,144.9908765,144.9682151,144.9255324,145.001089,144.9722247,144.966356,144.9803904,144.9722133,144.9826474,144.9770017,144.9961532,144.9996541,144.9771849,144.9589974,144.9726966,145.0140745,144.9762224,144.9498885,144.9710567,144.9740498,144.9697813,144.9904765,144.9350124,144.9609387,144.9276731,144.9319734,144.9825612,144.9670613,144.9964005,144.9558818,144.9659965,144.9521367,144.9435265,144.9585081,144.9651979,144.9618974,144.9478734,144.9746393,144.9669253,144.9282301,144.9675701,144.9800967,144.9930454,144.9815633,144.9999847,144.9466259,144.9647656,144.936073,144.9430126,145.0142511,144.9592682,144.9673523,144.9528863,144.9747849,144.9670761,144.9749588,144.9810357,null,144.9580985,144.9932051,145.0023381,144.9665773,144.9633493,144.9792888,145.0096895,144.9375989,144.98368,144.9751078,144.9545609,144.9869362,144.9770628,144.9490132,144.9414663,144.9576109,144.960031,144.9568467,144.9287575,144.9575096,145.003551,144.9642026,144.9450101,144.9682021,144.9537148,144.9490652,144.9946581,144.9416549,145.0170153,144.9608903,144.936073,144.9661285,144.9583647,144.9396713,144.9588918,144.9366626,145.0028527,144.949747,144.9736686,144.9282668,144.9736526,144.9470873,144.9459185,144.9674279,144.9727357,144.9713701,144.9372432],\"marker\":{\"color\":\"#636efa\",\"symbol\":\"circle\"},\"mode\":\"markers\",\"name\":\"\",\"showlegend\":false,\"type\":\"scattergeo\"}],                        {\"template\":{\"data\":{\"bar\":[{\"error_x\":{\"color\":\"#2a3f5f\"},\"error_y\":{\"color\":\"#2a3f5f\"},\"marker\":{\"line\":{\"color\":\"#E5ECF6\",\"width\":0.5},\"pattern\":{\"fillmode\":\"overlay\",\"size\":10,\"solidity\":0.2}},\"type\":\"bar\"}],\"barpolar\":[{\"marker\":{\"line\":{\"color\":\"#E5ECF6\",\"width\":0.5},\"pattern\":{\"fillmode\":\"overlay\",\"size\":10,\"solidity\":0.2}},\"type\":\"barpolar\"}],\"carpet\":[{\"aaxis\":{\"endlinecolor\":\"#2a3f5f\",\"gridcolor\":\"white\",\"linecolor\":\"white\",\"minorgridcolor\":\"white\",\"startlinecolor\":\"#2a3f5f\"},\"baxis\":{\"endlinecolor\":\"#2a3f5f\",\"gridcolor\":\"white\",\"linecolor\":\"white\",\"minorgridcolor\":\"white\",\"startlinecolor\":\"#2a3f5f\"},\"type\":\"carpet\"}],\"choropleth\":[{\"colorbar\":{\"outlinewidth\":0,\"ticks\":\"\"},\"type\":\"choropleth\"}],\"contour\":[{\"colorbar\":{\"outlinewidth\":0,\"ticks\":\"\"},\"colorscale\":[[0.0,\"#0d0887\"],[0.1111111111111111,\"#46039f\"],[0.2222222222222222,\"#7201a8\"],[0.3333333333333333,\"#9c179e\"],[0.4444444444444444,\"#bd3786\"],[0.5555555555555556,\"#d8576b\"],[0.6666666666666666,\"#ed7953\"],[0.7777777777777778,\"#fb9f3a\"],[0.8888888888888888,\"#fdca26\"],[1.0,\"#f0f921\"]],\"type\":\"contour\"}],\"contourcarpet\":[{\"colorbar\":{\"outlinewidth\":0,\"ticks\":\"\"},\"type\":\"contourcarpet\"}],\"heatmap\":[{\"colorbar\":{\"outlinewidth\":0,\"ticks\":\"\"},\"colorscale\":[[0.0,\"#0d0887\"],[0.1111111111111111,\"#46039f\"],[0.2222222222222222,\"#7201a8\"],[0.3333333333333333,\"#9c179e\"],[0.4444444444444444,\"#bd3786\"],[0.5555555555555556,\"#d8576b\"],[0.6666666666666666,\"#ed7953\"],[0.7777777777777778,\"#fb9f3a\"],[0.8888888888888888,\"#fdca26\"],[1.0,\"#f0f921\"]],\"type\":\"heatmap\"}],\"heatmapgl\":[{\"colorbar\":{\"outlinewidth\":0,\"ticks\":\"\"},\"colorscale\":[[0.0,\"#0d0887\"],[0.1111111111111111,\"#46039f\"],[0.2222222222222222,\"#7201a8\"],[0.3333333333333333,\"#9c179e\"],[0.4444444444444444,\"#bd3786\"],[0.5555555555555556,\"#d8576b\"],[0.6666666666666666,\"#ed7953\"],[0.7777777777777778,\"#fb9f3a\"],[0.8888888888888888,\"#fdca26\"],[1.0,\"#f0f921\"]],\"type\":\"heatmapgl\"}],\"histogram\":[{\"marker\":{\"pattern\":{\"fillmode\":\"overlay\",\"size\":10,\"solidity\":0.2}},\"type\":\"histogram\"}],\"histogram2d\":[{\"colorbar\":{\"outlinewidth\":0,\"ticks\":\"\"},\"colorscale\":[[0.0,\"#0d0887\"],[0.1111111111111111,\"#46039f\"],[0.2222222222222222,\"#7201a8\"],[0.3333333333333333,\"#9c179e\"],[0.4444444444444444,\"#bd3786\"],[0.5555555555555556,\"#d8576b\"],[0.6666666666666666,\"#ed7953\"],[0.7777777777777778,\"#fb9f3a\"],[0.8888888888888888,\"#fdca26\"],[1.0,\"#f0f921\"]],\"type\":\"histogram2d\"}],\"histogram2dcontour\":[{\"colorbar\":{\"outlinewidth\":0,\"ticks\":\"\"},\"colorscale\":[[0.0,\"#0d0887\"],[0.1111111111111111,\"#46039f\"],[0.2222222222222222,\"#7201a8\"],[0.3333333333333333,\"#9c179e\"],[0.4444444444444444,\"#bd3786\"],[0.5555555555555556,\"#d8576b\"],[0.6666666666666666,\"#ed7953\"],[0.7777777777777778,\"#fb9f3a\"],[0.8888888888888888,\"#fdca26\"],[1.0,\"#f0f921\"]],\"type\":\"histogram2dcontour\"}],\"mesh3d\":[{\"colorbar\":{\"outlinewidth\":0,\"ticks\":\"\"},\"type\":\"mesh3d\"}],\"parcoords\":[{\"line\":{\"colorbar\":{\"outlinewidth\":0,\"ticks\":\"\"}},\"type\":\"parcoords\"}],\"pie\":[{\"automargin\":true,\"type\":\"pie\"}],\"scatter\":[{\"marker\":{\"colorbar\":{\"outlinewidth\":0,\"ticks\":\"\"}},\"type\":\"scatter\"}],\"scatter3d\":[{\"line\":{\"colorbar\":{\"outlinewidth\":0,\"ticks\":\"\"}},\"marker\":{\"colorbar\":{\"outlinewidth\":0,\"ticks\":\"\"}},\"type\":\"scatter3d\"}],\"scattercarpet\":[{\"marker\":{\"colorbar\":{\"outlinewidth\":0,\"ticks\":\"\"}},\"type\":\"scattercarpet\"}],\"scattergeo\":[{\"marker\":{\"colorbar\":{\"outlinewidth\":0,\"ticks\":\"\"}},\"type\":\"scattergeo\"}],\"scattergl\":[{\"marker\":{\"colorbar\":{\"outlinewidth\":0,\"ticks\":\"\"}},\"type\":\"scattergl\"}],\"scattermapbox\":[{\"marker\":{\"colorbar\":{\"outlinewidth\":0,\"ticks\":\"\"}},\"type\":\"scattermapbox\"}],\"scatterpolar\":[{\"marker\":{\"colorbar\":{\"outlinewidth\":0,\"ticks\":\"\"}},\"type\":\"scatterpolar\"}],\"scatterpolargl\":[{\"marker\":{\"colorbar\":{\"outlinewidth\":0,\"ticks\":\"\"}},\"type\":\"scatterpolargl\"}],\"scatterternary\":[{\"marker\":{\"colorbar\":{\"outlinewidth\":0,\"ticks\":\"\"}},\"type\":\"scatterternary\"}],\"surface\":[{\"colorbar\":{\"outlinewidth\":0,\"ticks\":\"\"},\"colorscale\":[[0.0,\"#0d0887\"],[0.1111111111111111,\"#46039f\"],[0.2222222222222222,\"#7201a8\"],[0.3333333333333333,\"#9c179e\"],[0.4444444444444444,\"#bd3786\"],[0.5555555555555556,\"#d8576b\"],[0.6666666666666666,\"#ed7953\"],[0.7777777777777778,\"#fb9f3a\"],[0.8888888888888888,\"#fdca26\"],[1.0,\"#f0f921\"]],\"type\":\"surface\"}],\"table\":[{\"cells\":{\"fill\":{\"color\":\"#EBF0F8\"},\"line\":{\"color\":\"white\"}},\"header\":{\"fill\":{\"color\":\"#C8D4E3\"},\"line\":{\"color\":\"white\"}},\"type\":\"table\"}]},\"layout\":{\"annotationdefaults\":{\"arrowcolor\":\"#2a3f5f\",\"arrowhead\":0,\"arrowwidth\":1},\"autotypenumbers\":\"strict\",\"coloraxis\":{\"colorbar\":{\"outlinewidth\":0,\"ticks\":\"\"}},\"colorscale\":{\"diverging\":[[0,\"#8e0152\"],[0.1,\"#c51b7d\"],[0.2,\"#de77ae\"],[0.3,\"#f1b6da\"],[0.4,\"#fde0ef\"],[0.5,\"#f7f7f7\"],[0.6,\"#e6f5d0\"],[0.7,\"#b8e186\"],[0.8,\"#7fbc41\"],[0.9,\"#4d9221\"],[1,\"#276419\"]],\"sequential\":[[0.0,\"#0d0887\"],[0.1111111111111111,\"#46039f\"],[0.2222222222222222,\"#7201a8\"],[0.3333333333333333,\"#9c179e\"],[0.4444444444444444,\"#bd3786\"],[0.5555555555555556,\"#d8576b\"],[0.6666666666666666,\"#ed7953\"],[0.7777777777777778,\"#fb9f3a\"],[0.8888888888888888,\"#fdca26\"],[1.0,\"#f0f921\"]],\"sequentialminus\":[[0.0,\"#0d0887\"],[0.1111111111111111,\"#46039f\"],[0.2222222222222222,\"#7201a8\"],[0.3333333333333333,\"#9c179e\"],[0.4444444444444444,\"#bd3786\"],[0.5555555555555556,\"#d8576b\"],[0.6666666666666666,\"#ed7953\"],[0.7777777777777778,\"#fb9f3a\"],[0.8888888888888888,\"#fdca26\"],[1.0,\"#f0f921\"]]},\"colorway\":[\"#636efa\",\"#EF553B\",\"#00cc96\",\"#ab63fa\",\"#FFA15A\",\"#19d3f3\",\"#FF6692\",\"#B6E880\",\"#FF97FF\",\"#FECB52\"],\"font\":{\"color\":\"#2a3f5f\"},\"geo\":{\"bgcolor\":\"white\",\"lakecolor\":\"white\",\"landcolor\":\"#E5ECF6\",\"showlakes\":true,\"showland\":true,\"subunitcolor\":\"white\"},\"hoverlabel\":{\"align\":\"left\"},\"hovermode\":\"closest\",\"mapbox\":{\"style\":\"light\"},\"paper_bgcolor\":\"white\",\"plot_bgcolor\":\"#E5ECF6\",\"polar\":{\"angularaxis\":{\"gridcolor\":\"white\",\"linecolor\":\"white\",\"ticks\":\"\"},\"bgcolor\":\"#E5ECF6\",\"radialaxis\":{\"gridcolor\":\"white\",\"linecolor\":\"white\",\"ticks\":\"\"}},\"scene\":{\"xaxis\":{\"backgroundcolor\":\"#E5ECF6\",\"gridcolor\":\"white\",\"gridwidth\":2,\"linecolor\":\"white\",\"showbackground\":true,\"ticks\":\"\",\"zerolinecolor\":\"white\"},\"yaxis\":{\"backgroundcolor\":\"#E5ECF6\",\"gridcolor\":\"white\",\"gridwidth\":2,\"linecolor\":\"white\",\"showbackground\":true,\"ticks\":\"\",\"zerolinecolor\":\"white\"},\"zaxis\":{\"backgroundcolor\":\"#E5ECF6\",\"gridcolor\":\"white\",\"gridwidth\":2,\"linecolor\":\"white\",\"showbackground\":true,\"ticks\":\"\",\"zerolinecolor\":\"white\"}},\"shapedefaults\":{\"line\":{\"color\":\"#2a3f5f\"}},\"ternary\":{\"aaxis\":{\"gridcolor\":\"white\",\"linecolor\":\"white\",\"ticks\":\"\"},\"baxis\":{\"gridcolor\":\"white\",\"linecolor\":\"white\",\"ticks\":\"\"},\"bgcolor\":\"#E5ECF6\",\"caxis\":{\"gridcolor\":\"white\",\"linecolor\":\"white\",\"ticks\":\"\"}},\"title\":{\"x\":0.05},\"xaxis\":{\"automargin\":true,\"gridcolor\":\"white\",\"linecolor\":\"white\",\"ticks\":\"\",\"title\":{\"standoff\":15},\"zerolinecolor\":\"white\",\"zerolinewidth\":2},\"yaxis\":{\"automargin\":true,\"gridcolor\":\"white\",\"linecolor\":\"white\",\"ticks\":\"\",\"title\":{\"standoff\":15},\"zerolinecolor\":\"white\",\"zerolinewidth\":2}}},\"geo\":{\"domain\":{\"x\":[0.0,1.0],\"y\":[0.0,1.0]},\"center\":{\"lat\":-2,\"lon\":160},\"projection\":{\"scale\":2}},\"legend\":{\"tracegroupgap\":0},\"margin\":{\"t\":60},\"height\":500},                        {\"responsive\": true}                    ).then(function(){\n",
       "                            \n",
       "var gd = document.getElementById('e4184009-3744-4edf-acb6-a212fb23ff8c');\n",
       "var x = new MutationObserver(function (mutations, observer) {{\n",
       "        var display = window.getComputedStyle(gd).display;\n",
       "        if (!display || display === 'none') {{\n",
       "            console.log([gd, 'removed!']);\n",
       "            Plotly.purge(gd);\n",
       "            observer.disconnect();\n",
       "        }}\n",
       "}});\n",
       "\n",
       "// Listen for the removal of the full notebook cells\n",
       "var notebookContainer = gd.closest('#notebook-container');\n",
       "if (notebookContainer) {{\n",
       "    x.observe(notebookContainer, {childList: true});\n",
       "}}\n",
       "\n",
       "// Listen for the clearing of the current output cell\n",
       "var outputEl = gd.closest('.output');\n",
       "if (outputEl) {{\n",
       "    x.observe(outputEl, {childList: true});\n",
       "}}\n",
       "\n",
       "                        })                };                });            </script>        </div>"
      ]
     },
     "metadata": {},
     "output_type": "display_data"
    }
   ],
   "source": [
    "fig = px.scatter_geo(df_missing_data, lat='customer_lat',lon='customer_long', height=500)\n",
    "fig.update_layout(geo = dict(projection_scale=2,center=dict(lat=-2, lon=160)))\n",
    "fig.show()"
   ]
  },
  {
   "cell_type": "code",
   "execution_count": null,
   "id": "90c39e92-5a88-4239-8947-1758908b3da8",
   "metadata": {},
   "outputs": [],
   "source": []
  },
  {
   "cell_type": "markdown",
   "id": "6aaed04d-fea8-45ce-a5f4-329b25a12af2",
   "metadata": {},
   "source": [
    "# Fix missing values in df_missing_data\n",
    "***"
   ]
  },
  {
   "cell_type": "code",
   "execution_count": null,
   "id": "c682db15-f5d6-409e-88b3-ca59aaeda673",
   "metadata": {},
   "outputs": [],
   "source": [
    "# show missing values\n",
    "print(df_missing_data.isna().sum())"
   ]
  },
  {
   "cell_type": "markdown",
   "id": "c564fe1e-7f75-46ce-bfc7-e2c84ff26133",
   "metadata": {},
   "source": [
    "### Fix missing 'nearest_warehouse' values"
   ]
  },
  {
   "cell_type": "code",
   "execution_count": null,
   "id": "d16e4cc3-f743-4648-90dc-9ba4b5db0581",
   "metadata": {},
   "outputs": [],
   "source": [
    "# getting rows for the missing values for 'nearest_warehouse'\n",
    "nearest_warehouse_to_update = df_missing_data[df_missing_data['nearest_warehouse'].isna()]\n",
    "\n",
    "# using display command for better formatting in Notebook , use print usually\n",
    "display(nearest_warehouse_to_update)"
   ]
  },
  {
   "cell_type": "code",
   "execution_count": null,
   "id": "6c51e5f4-b943-45a2-a488-6995860371f6",
   "metadata": {},
   "outputs": [],
   "source": [
    "# getting index for the the missing values for 'nearest_warehouse'\n",
    "nearest_warehouse_indexto_update = df_missing_data[df_missing_data['nearest_warehouse'].isna()].index\n",
    "print(nearest_warehouse_indexto_update)"
   ]
  },
  {
   "cell_type": "code",
   "execution_count": null,
   "id": "873f95bb-d899-4656-b359-9cfa29b68af3",
   "metadata": {},
   "outputs": [],
   "source": [
    "# updating missing values for 'nearest_warehouse'\n",
    "for i, row in nearest_warehouse_to_update.iterrows():\n",
    "    df_missing_data.at[i,'nearest_warehouse'] = get_missing_nearest_warehouse(df_missing_data.at[i,'customer_lat'],df_missing_data.at[i,'customer_long'])[0]"
   ]
  },
  {
   "cell_type": "code",
   "execution_count": null,
   "id": "169526c3-92d3-447f-b4ec-5d495d194be1",
   "metadata": {},
   "outputs": [],
   "source": [
    "# no more missing values for 'nearest_warehouse'\n",
    "print(df_missing_data[df_missing_data['nearest_warehouse'].isna()])"
   ]
  },
  {
   "cell_type": "code",
   "execution_count": null,
   "id": "f76da13d-41c2-4141-b2f7-66e9bd7c1f14",
   "metadata": {},
   "outputs": [],
   "source": [
    "#check the indexes for the update 'nearest_warehouse' --  all done\n",
    "display(df_missing_data[['nearest_warehouse']].loc[nearest_warehouse_indexto_update])"
   ]
  },
  {
   "cell_type": "markdown",
   "id": "8771f275-2b8e-4aff-90c5-307463969a02",
   "metadata": {},
   "source": [
    "### Fix missing 'order_price' values"
   ]
  },
  {
   "cell_type": "code",
   "execution_count": null,
   "id": "2caa14e7-b91c-4cf6-9fb1-76918d46a62d",
   "metadata": {},
   "outputs": [],
   "source": [
    "# getting rows for the missing values for 'order_price'\n",
    "order_price_to_update = df_missing_data[df_missing_data['order_price'].isna()]\n",
    "\n",
    "# using display command for better formatting in Notebook , use print usually\n",
    "display(order_price_to_update)"
   ]
  },
  {
   "cell_type": "code",
   "execution_count": null,
   "id": "8cfcc664-28ff-4cef-afc8-bada364e6f83",
   "metadata": {},
   "outputs": [],
   "source": [
    "# getting index for the the missing values for 'order_price'\n",
    "order_price_indexto_update = df_missing_data[df_missing_data['order_price'].isna()].index\n",
    "print(order_price_indexto_update)"
   ]
  },
  {
   "cell_type": "code",
   "execution_count": null,
   "id": "a66a1727-22d5-4af5-bb19-537e7fc3a1bb",
   "metadata": {},
   "outputs": [],
   "source": [
    "# updating missing values for 'order_price'\n",
    "for i, row in order_price_to_update.iterrows():\n",
    "    df_missing_data.at[i,'order_price'] = get_missing_order_price(df_missing_data.at[i,'order_total'],df_missing_data.at[i,'delivery_charges'],df_missing_data.at[i,'coupon_discount'])"
   ]
  },
  {
   "cell_type": "code",
   "execution_count": null,
   "id": "a1ba47c5-6d21-4d7d-a8fd-85fce7e8d873",
   "metadata": {},
   "outputs": [],
   "source": [
    "# no more missing values for 'order_price'\n",
    "print(df_missing_data[df_missing_data['order_price'].isna()])"
   ]
  },
  {
   "cell_type": "code",
   "execution_count": null,
   "id": "219ad6ad-84aa-49f7-b2b6-33a17e5aac74",
   "metadata": {
    "tags": []
   },
   "outputs": [],
   "source": [
    "#check the indexes for the update 'order_price' --  all done\n",
    "display(df_missing_data[['order_price']].loc[order_price_indexto_update])"
   ]
  },
  {
   "cell_type": "markdown",
   "id": "5e17d800-1f0f-411a-b0b7-8bdb9e514ff2",
   "metadata": {},
   "source": [
    "### Fix missing 'order_total' values"
   ]
  },
  {
   "cell_type": "code",
   "execution_count": null,
   "id": "6f80a97d-6b87-47b5-a7f3-fc440668862c",
   "metadata": {},
   "outputs": [],
   "source": [
    "# getting rows for the missing values for 'order_total'\n",
    "order_total_to_update = df_missing_data[df_missing_data['order_total'].isna()]\n",
    "\n",
    "# using display command for better formatting in Notebook , use print usually\n",
    "display(order_total_to_update)"
   ]
  },
  {
   "cell_type": "code",
   "execution_count": null,
   "id": "b2824bfe-568a-4bd6-b61c-b97794187c59",
   "metadata": {},
   "outputs": [],
   "source": [
    "# getting index for the the missing values for 'order_total'\n",
    "order_total_indexto_update = df_missing_data[df_missing_data['order_total'].isna()].index\n",
    "print(order_total_indexto_update)"
   ]
  },
  {
   "cell_type": "code",
   "execution_count": null,
   "id": "38f0b28a-84d1-4e24-aef4-fc237e17ff7b",
   "metadata": {},
   "outputs": [],
   "source": [
    "# updating missing values for 'order_total'\n",
    "for i, row in order_total_to_update.iterrows():\n",
    "    df_missing_data.at[i,'order_total'] = get_missing_order_price(df_missing_data.at[i,'order_price'],df_missing_data.at[i,'delivery_charges'],df_missing_data.at[i,'coupon_discount'])"
   ]
  },
  {
   "cell_type": "code",
   "execution_count": null,
   "id": "20f04507-5e90-40ba-b580-e47e3cf1e20c",
   "metadata": {},
   "outputs": [],
   "source": [
    "# no more missing values for 'order_total'\n",
    "print(df_missing_data[df_missing_data['order_total'].isna()])"
   ]
  },
  {
   "cell_type": "code",
   "execution_count": null,
   "id": "00ca30d4-1b82-473c-bb9a-72c32dd4395e",
   "metadata": {},
   "outputs": [],
   "source": [
    "#check the indexes for the update 'order_total' --  all done\n",
    "display(df_missing_data[['order_total']].loc[order_total_indexto_update])"
   ]
  },
  {
   "cell_type": "markdown",
   "id": "c7e2caaf-d480-49ba-b594-3eb381606793",
   "metadata": {},
   "source": [
    "### Fix missing 'season' values"
   ]
  },
  {
   "cell_type": "code",
   "execution_count": null,
   "id": "f9fb3dd8-ff34-419a-a18f-e240dbdc461a",
   "metadata": {
    "tags": []
   },
   "outputs": [],
   "source": [
    "# getting rows for the missing values for 'season'\n",
    "season_to_update = df_missing_data[df_missing_data['season'].isna()]\n",
    "\n",
    "# using display command for better formatting in Notebook , use print usually\n",
    "display(season_to_update)"
   ]
  },
  {
   "cell_type": "code",
   "execution_count": null,
   "id": "642a360b-a734-41a9-8a70-a6b86f80bf0e",
   "metadata": {},
   "outputs": [],
   "source": [
    "# getting index for the the missing values for 'order_total'\n",
    "season_indexto_update = df_missing_data[df_missing_data['season'].isna()].index\n",
    "print(season_indexto_update)"
   ]
  },
  {
   "cell_type": "code",
   "execution_count": null,
   "id": "c3ae807b-8e2d-40a6-8b34-1e22e1bece89",
   "metadata": {},
   "outputs": [],
   "source": [
    "# getting the unique values for 'season'\n",
    "seasons = df_missing_data['season'].sort_values().unique()\n",
    "print(seasons)"
   ]
  },
  {
   "cell_type": "code",
   "execution_count": null,
   "id": "17701abf-5888-46d5-aa16-f37e8d2a3cf9",
   "metadata": {},
   "outputs": [],
   "source": [
    "# get the season months from the grouping of the orders..obviously Southern hemisphere - a random lat long shows its Melbourne, Australia area\n",
    "season_months = df_missing_data.groupby([pd.Grouper(key='date', axis=0, freq='M'),'season']).sum().filter(items=['date','season'])\n",
    "(season_months)\n",
    "# summer = months 12,1,2\n",
    "# Autumn = months 3,4,5\n",
    "# Winter = months 6,7,8\n",
    "# Spring = months 9,10,11"
   ]
  },
  {
   "cell_type": "code",
   "execution_count": null,
   "id": "a4802be3-f005-43c9-a552-5ecb979d6360",
   "metadata": {},
   "outputs": [],
   "source": [
    "# updating missing values for 'season'\n",
    "for i, row in season_to_update.iterrows():\n",
    "    df_missing_data.at[i,'season'] = get_missing_season(df_missing_data.at[i,'date'])"
   ]
  },
  {
   "cell_type": "code",
   "execution_count": null,
   "id": "0d41b27c-5368-4cbf-92ca-9923feebf1eb",
   "metadata": {},
   "outputs": [],
   "source": [
    "# no more missing values for 'season'\n",
    "print(df_missing_data[df_missing_data['season'].isna()])"
   ]
  },
  {
   "cell_type": "code",
   "execution_count": null,
   "id": "ba1ad4df-c65e-4ee7-849a-4b830211c12e",
   "metadata": {},
   "outputs": [],
   "source": [
    "#check the indexes for the update 'season' --  all done\n",
    "display(df_missing_data[['season']].loc[order_total_indexto_update])"
   ]
  },
  {
   "cell_type": "markdown",
   "id": "684c7332-b8b5-431a-ab49-2cdaa1c08364",
   "metadata": {},
   "source": [
    "### Fix missing 'distance_to_nearest_warehouse' values"
   ]
  },
  {
   "cell_type": "code",
   "execution_count": null,
   "id": "43ef7bc8-7f6c-4fe8-b1b1-89a230c995b4",
   "metadata": {},
   "outputs": [],
   "source": [
    "# getting rows for the missing values for 'distance_to_nearest_warehouse'\n",
    "distance_to_nearest_warehouse_to_update = df_missing_data[df_missing_data['distance_to_nearest_warehouse'].isna()]\n",
    "\n",
    "# using display command for better formatting in Notebook , use print usually\n",
    "display(distance_to_nearest_warehouse_to_update)"
   ]
  },
  {
   "cell_type": "code",
   "execution_count": null,
   "id": "d5d0961d-5791-479b-9ee2-9c160cc420e4",
   "metadata": {},
   "outputs": [],
   "source": [
    "# getting index for the the missing values for 'distance_to_nearest_warehouse'\n",
    "distance_to_nearest_warehouse_indexto_update = df_missing_data[df_missing_data['distance_to_nearest_warehouse'].isna()].index\n",
    "print(distance_to_nearest_warehouse_indexto_update)"
   ]
  },
  {
   "cell_type": "code",
   "execution_count": null,
   "id": "d587097c-5386-44cc-96a4-c7c9bb96ba97",
   "metadata": {},
   "outputs": [],
   "source": [
    "# updating  missing values for 'nearest_warehouse'\n",
    "# for i in distance_to_nearest_warehouse_indexto_update:\n",
    "# df_missing_data.at[i,'distance_to_nearest_warehouse'] = get_missing_nearest_warehouse(df_missing_data.at[i,'customer_lat'],df_missing_data.at[i,'customer_long'])[1]\n",
    "\n",
    "# updating missing values for 'distance_to_nearest_warehouse'\n",
    "for i, row in distance_to_nearest_warehouse_to_update.iterrows():\n",
    "    df_missing_data.at[i,'distance_to_nearest_warehouse'] = get_missing_nearest_warehouse(df_missing_data.at[i,'customer_lat'],df_missing_data.at[i,'customer_long'])[1]"
   ]
  },
  {
   "cell_type": "code",
   "execution_count": null,
   "id": "f138eac8-9a8a-4491-8ac1-39b5fb3b07e9",
   "metadata": {},
   "outputs": [],
   "source": [
    "# no more missing values for 'distance_to_nearest_warehouse'\n",
    "print(df_missing_data[df_missing_data['distance_to_nearest_warehouse'].isna()])"
   ]
  },
  {
   "cell_type": "code",
   "execution_count": null,
   "id": "cb8eaa1e-d891-4612-9546-f840340c5673",
   "metadata": {},
   "outputs": [],
   "source": [
    "#check the indexes for the update 'season' --  all done\n",
    "display(df_missing_data[['distance_to_nearest_warehouse']].loc[order_total_indexto_update])"
   ]
  },
  {
   "cell_type": "markdown",
   "id": "bbb17f95-98c6-47f7-8b95-58cb14837edb",
   "metadata": {},
   "source": [
    "### Fix missing 'customer_lat' values"
   ]
  },
  {
   "cell_type": "code",
   "execution_count": null,
   "id": "bc29ba84-d4a3-469f-99be-8fd15bc04ae0",
   "metadata": {},
   "outputs": [],
   "source": [
    "# show missing 'customer_lat' rows\n",
    "df_missing_data[df_missing_data['customer_lat'].isna()]"
   ]
  },
  {
   "cell_type": "code",
   "execution_count": null,
   "id": "8d246860-e621-49b3-ba76-e6cd6c05ad4b",
   "metadata": {},
   "outputs": [],
   "source": [
    "# getting the index for the missing values for customer_lat\n",
    "customer_lat_indexto_update = df_missing_data[df_missing_data['customer_lat'].isna()].index\n",
    "customer_lat_indexto_update"
   ]
  },
  {
   "cell_type": "code",
   "execution_count": null,
   "id": "e77e92d3-e341-47e0-94e1-339a7f8661ff",
   "metadata": {},
   "outputs": [],
   "source": [
    "df_missing_data[df_missing_data.duplicated(['customer_id'])]"
   ]
  },
  {
   "cell_type": "markdown",
   "id": "39f52e65-7db4-478c-a247-3923d404436d",
   "metadata": {},
   "source": [
    "### Fix missing 'customer_long' values"
   ]
  },
  {
   "cell_type": "code",
   "execution_count": null,
   "id": "c98294fd-d5d5-413c-868e-97971dcfbd45",
   "metadata": {},
   "outputs": [],
   "source": [
    "# show missing 'customer_long' rows\n",
    "df_missing_data[df_missing_data['customer_long'].isna()]"
   ]
  },
  {
   "cell_type": "code",
   "execution_count": null,
   "id": "b1eeb048-9258-4b95-ab24-c4686b02a8da",
   "metadata": {},
   "outputs": [],
   "source": [
    "# getting the index for the missing values for customer_long\n",
    "customer_long_indexto_update = df_missing_data[df_missing_data['customer_long'].isna()].index\n",
    "customer_long_indexto_update"
   ]
  },
  {
   "cell_type": "code",
   "execution_count": null,
   "id": "9a7ccb12-7dea-4a6e-82e5-1eaa6f7773b3",
   "metadata": {},
   "outputs": [],
   "source": [
    "# show missing values\n",
    "print(df_missing_data.isna().sum())"
   ]
  },
  {
   "cell_type": "markdown",
   "id": "65f496f3-7ac8-4454-98c1-817e3fa0b80e",
   "metadata": {},
   "source": [
    "# Merge Dataframes"
   ]
  },
  {
   "cell_type": "code",
   "execution_count": null,
   "id": "09d23957-c6e4-4d95-b276-116fa29fa56e",
   "metadata": {},
   "outputs": [],
   "source": [
    "df_missing_data.shape"
   ]
  },
  {
   "cell_type": "code",
   "execution_count": null,
   "id": "41890901-d501-450c-b2cc-5ad6c5f99e0b",
   "metadata": {},
   "outputs": [],
   "source": [
    "df_dirty_data.shape"
   ]
  },
  {
   "cell_type": "code",
   "execution_count": 106,
   "id": "1f788b84-a3a7-4ddb-8fe5-3db41943eadf",
   "metadata": {},
   "outputs": [
    {
     "data": {
      "text/plain": [
       "(470, 15)"
      ]
     },
     "execution_count": 106,
     "metadata": {},
     "output_type": "execute_result"
    }
   ],
   "source": [
    "# remove NaN from 'customer_lat', 'customer_long' and 'is_happy_customer' from df_missing_data\n",
    "df_missing_data_NoNa = df_missing_data[(df_missing_data['customer_lat'].notnull()) & (df_missing_data['customer_long'].notnull()) & (df_missing_data['is_happy_customer'].notnull())]\n",
    "df_missing_data_NoNa.shape"
   ]
  },
  {
   "cell_type": "code",
   "execution_count": 107,
   "id": "cb81f007-098a-4102-970d-605a0e994d2e",
   "metadata": {},
   "outputs": [
    {
     "data": {
      "text/plain": [
       "(500, 15)"
      ]
     },
     "execution_count": 107,
     "metadata": {},
     "output_type": "execute_result"
    }
   ],
   "source": [
    "# remove NaN from 'customer_lat', 'customer_long' and 'is_happy_customer' from  df_dirty_data\n",
    "df_dirty_data_NoNa = df_dirty_data[(df_dirty_data['customer_lat'].notnull()) & (df_dirty_data['customer_long'].notnull()) & (df_dirty_data['is_happy_customer'].notnull())]\n",
    "df_dirty_data_NoNa.shape"
   ]
  },
  {
   "cell_type": "code",
   "execution_count": 110,
   "id": "d499b712-8f6f-4097-9624-bb0ece3b93f1",
   "metadata": {},
   "outputs": [
    {
     "data": {
      "text/plain": [
       "(970, 15)"
      ]
     },
     "execution_count": 110,
     "metadata": {},
     "output_type": "execute_result"
    }
   ],
   "source": [
    "# create a new dataframe from df_dirty_data_NoNa and df_missing_data_NoNa \n",
    "df_order_data = df_dirty_data_NoNa.append(df_missing_data_NoNa,ignore_index = False)\n",
    "df_order_data.shape"
   ]
  },
  {
   "cell_type": "code",
   "execution_count": null,
   "id": "ade8db0f-f6a5-47bf-a6e4-6eb78d0aca33",
   "metadata": {},
   "outputs": [],
   "source": []
  },
  {
   "cell_type": "code",
   "execution_count": null,
   "id": "dafc6de5-8d2a-48bc-99b7-99690e570ad7",
   "metadata": {},
   "outputs": [],
   "source": []
  },
  {
   "cell_type": "code",
   "execution_count": 120,
   "id": "452d19c8-7d1b-4177-b771-47da2567d767",
   "metadata": {},
   "outputs": [
    {
     "data": {
      "text/html": [
       "<div>\n",
       "<style scoped>\n",
       "    .dataframe tbody tr th:only-of-type {\n",
       "        vertical-align: middle;\n",
       "    }\n",
       "\n",
       "    .dataframe tbody tr th {\n",
       "        vertical-align: top;\n",
       "    }\n",
       "\n",
       "    .dataframe thead th {\n",
       "        text-align: right;\n",
       "    }\n",
       "</style>\n",
       "<table border=\"1\" class=\"dataframe\">\n",
       "  <thead>\n",
       "    <tr style=\"text-align: right;\">\n",
       "      <th></th>\n",
       "      <th>customer_id</th>\n",
       "      <th>customer_lat</th>\n",
       "      <th>customer_long</th>\n",
       "    </tr>\n",
       "    <tr>\n",
       "      <th>order_id</th>\n",
       "      <th></th>\n",
       "      <th></th>\n",
       "      <th></th>\n",
       "    </tr>\n",
       "  </thead>\n",
       "  <tbody>\n",
       "    <tr>\n",
       "      <th>ORD182494</th>\n",
       "      <td>ID6197211592</td>\n",
       "      <td>-37.815105</td>\n",
       "      <td>144.932843</td>\n",
       "    </tr>\n",
       "    <tr>\n",
       "      <th>ORD395518</th>\n",
       "      <td>ID0282825849</td>\n",
       "      <td>-37.802736</td>\n",
       "      <td>144.951118</td>\n",
       "    </tr>\n",
       "    <tr>\n",
       "      <th>ORD494479</th>\n",
       "      <td>ID0579391891</td>\n",
       "      <td>-37.821302</td>\n",
       "      <td>144.957581</td>\n",
       "    </tr>\n",
       "    <tr>\n",
       "      <th>ORD019224</th>\n",
       "      <td>ID4544561904</td>\n",
       "      <td>-37.811416</td>\n",
       "      <td>144.973073</td>\n",
       "    </tr>\n",
       "    <tr>\n",
       "      <th>ORD104032</th>\n",
       "      <td>ID6231506320</td>\n",
       "      <td>37.823859</td>\n",
       "      <td>144.969892</td>\n",
       "    </tr>\n",
       "    <tr>\n",
       "      <th>...</th>\n",
       "      <td>...</td>\n",
       "      <td>...</td>\n",
       "      <td>...</td>\n",
       "    </tr>\n",
       "    <tr>\n",
       "      <th>ORD289820</th>\n",
       "      <td>ID0711745634</td>\n",
       "      <td>-37.815309</td>\n",
       "      <td>144.945919</td>\n",
       "    </tr>\n",
       "    <tr>\n",
       "      <th>ORD425999</th>\n",
       "      <td>ID3208518274</td>\n",
       "      <td>-37.802503</td>\n",
       "      <td>144.967428</td>\n",
       "    </tr>\n",
       "    <tr>\n",
       "      <th>ORD252675</th>\n",
       "      <td>ID0589449505</td>\n",
       "      <td>-37.809446</td>\n",
       "      <td>144.972736</td>\n",
       "    </tr>\n",
       "    <tr>\n",
       "      <th>ORD215989</th>\n",
       "      <td>ID6167357842</td>\n",
       "      <td>-37.807649</td>\n",
       "      <td>144.971370</td>\n",
       "    </tr>\n",
       "    <tr>\n",
       "      <th>ORD414852</th>\n",
       "      <td>ID0634783923</td>\n",
       "      <td>-37.812930</td>\n",
       "      <td>144.937243</td>\n",
       "    </tr>\n",
       "  </tbody>\n",
       "</table>\n",
       "<p>970 rows × 3 columns</p>\n",
       "</div>"
      ],
      "text/plain": [
       "            customer_id  customer_lat  customer_long\n",
       "order_id                                            \n",
       "ORD182494  ID6197211592    -37.815105     144.932843\n",
       "ORD395518  ID0282825849    -37.802736     144.951118\n",
       "ORD494479  ID0579391891    -37.821302     144.957581\n",
       "ORD019224  ID4544561904    -37.811416     144.973073\n",
       "ORD104032  ID6231506320     37.823859     144.969892\n",
       "...                 ...           ...            ...\n",
       "ORD289820  ID0711745634    -37.815309     144.945919\n",
       "ORD425999  ID3208518274    -37.802503     144.967428\n",
       "ORD252675  ID0589449505    -37.809446     144.972736\n",
       "ORD215989  ID6167357842    -37.807649     144.971370\n",
       "ORD414852  ID0634783923    -37.812930     144.937243\n",
       "\n",
       "[970 rows x 3 columns]"
      ]
     },
     "execution_count": 120,
     "metadata": {},
     "output_type": "execute_result"
    }
   ],
   "source": [
    "df_order_data[['customer_id','customer_lat','customer_long']]"
   ]
  },
  {
   "cell_type": "code",
   "execution_count": null,
   "id": "31589ee8-f707-40b6-a3e2-6d0410e3d45d",
   "metadata": {},
   "outputs": [],
   "source": []
  },
  {
   "cell_type": "code",
   "execution_count": 126,
   "id": "34cd9d88-6212-4aa0-9840-140c8514ff2f",
   "metadata": {},
   "outputs": [
    {
     "data": {
      "text/html": [
       "<div>\n",
       "<style scoped>\n",
       "    .dataframe tbody tr th:only-of-type {\n",
       "        vertical-align: middle;\n",
       "    }\n",
       "\n",
       "    .dataframe tbody tr th {\n",
       "        vertical-align: top;\n",
       "    }\n",
       "\n",
       "    .dataframe thead th {\n",
       "        text-align: right;\n",
       "    }\n",
       "</style>\n",
       "<table border=\"1\" class=\"dataframe\">\n",
       "  <thead>\n",
       "    <tr style=\"text-align: right;\">\n",
       "      <th></th>\n",
       "      <th>customer_id</th>\n",
       "      <th>customer_lat</th>\n",
       "      <th>customer_long</th>\n",
       "    </tr>\n",
       "    <tr>\n",
       "      <th>order_id</th>\n",
       "      <th></th>\n",
       "      <th></th>\n",
       "      <th></th>\n",
       "    </tr>\n",
       "  </thead>\n",
       "  <tbody>\n",
       "    <tr>\n",
       "      <th>ORD182494</th>\n",
       "      <td>ID6197211592</td>\n",
       "      <td>-37.815105</td>\n",
       "      <td>144.932843</td>\n",
       "    </tr>\n",
       "    <tr>\n",
       "      <th>ORD395518</th>\n",
       "      <td>ID0282825849</td>\n",
       "      <td>-37.802736</td>\n",
       "      <td>144.951118</td>\n",
       "    </tr>\n",
       "    <tr>\n",
       "      <th>ORD494479</th>\n",
       "      <td>ID0579391891</td>\n",
       "      <td>-37.821302</td>\n",
       "      <td>144.957581</td>\n",
       "    </tr>\n",
       "    <tr>\n",
       "      <th>ORD019224</th>\n",
       "      <td>ID4544561904</td>\n",
       "      <td>-37.811416</td>\n",
       "      <td>144.973073</td>\n",
       "    </tr>\n",
       "    <tr>\n",
       "      <th>ORD104032</th>\n",
       "      <td>ID6231506320</td>\n",
       "      <td>37.823859</td>\n",
       "      <td>144.969892</td>\n",
       "    </tr>\n",
       "    <tr>\n",
       "      <th>ORD146760</th>\n",
       "      <td>ID0311654900</td>\n",
       "      <td>37.820245</td>\n",
       "      <td>145.014944</td>\n",
       "    </tr>\n",
       "    <tr>\n",
       "      <th>ORD337984</th>\n",
       "      <td>ID3394768956</td>\n",
       "      <td>-37.807743</td>\n",
       "      <td>144.951570</td>\n",
       "    </tr>\n",
       "    <tr>\n",
       "      <th>ORD072312</th>\n",
       "      <td>ID0774517121</td>\n",
       "      <td>-37.806337</td>\n",
       "      <td>144.959544</td>\n",
       "    </tr>\n",
       "    <tr>\n",
       "      <th>ORD377837</th>\n",
       "      <td>ID4769265355</td>\n",
       "      <td>-37.810810</td>\n",
       "      <td>145.014073</td>\n",
       "    </tr>\n",
       "    <tr>\n",
       "      <th>ORD462194</th>\n",
       "      <td>ID5301568579</td>\n",
       "      <td>-37.808675</td>\n",
       "      <td>144.942337</td>\n",
       "    </tr>\n",
       "  </tbody>\n",
       "</table>\n",
       "</div>"
      ],
      "text/plain": [
       "            customer_id  customer_lat  customer_long\n",
       "order_id                                            \n",
       "ORD182494  ID6197211592    -37.815105     144.932843\n",
       "ORD395518  ID0282825849    -37.802736     144.951118\n",
       "ORD494479  ID0579391891    -37.821302     144.957581\n",
       "ORD019224  ID4544561904    -37.811416     144.973073\n",
       "ORD104032  ID6231506320     37.823859     144.969892\n",
       "ORD146760  ID0311654900     37.820245     145.014944\n",
       "ORD337984  ID3394768956    -37.807743     144.951570\n",
       "ORD072312  ID0774517121    -37.806337     144.959544\n",
       "ORD377837  ID4769265355    -37.810810     145.014073\n",
       "ORD462194  ID5301568579    -37.808675     144.942337"
      ]
     },
     "execution_count": 126,
     "metadata": {},
     "output_type": "execute_result"
    }
   ],
   "source": [
    "# getting 'customer_lat' and 'customer_long'] for df_order_data\n",
    "customerid_lat_long = df_order_data[['customer_id','customer_lat','customer_long']]\n",
    "\n",
    "# using display command for better formatting in Notebook , use print usually\n",
    "customerid_lat_long.head(10)"
   ]
  },
  {
   "cell_type": "code",
   "execution_count": 127,
   "id": "72105191-004e-4131-8d53-abeeabe7ba0b",
   "metadata": {},
   "outputs": [
    {
     "name": "stdout",
     "output_type": "stream",
     "text": [
      "customer_id      ID6197211592\n",
      "customer_lat       -37.815105\n",
      "customer_long      144.932843\n",
      "Name: ORD182494, dtype: object\n",
      "customer_id      ID0282825849\n",
      "customer_lat       -37.802736\n",
      "customer_long      144.951118\n",
      "Name: ORD395518, dtype: object\n",
      "customer_id      ID0579391891\n",
      "customer_lat       -37.821302\n",
      "customer_long      144.957581\n",
      "Name: ORD494479, dtype: object\n",
      "customer_id      ID4544561904\n",
      "customer_lat       -37.811416\n",
      "customer_long      144.973073\n",
      "Name: ORD019224, dtype: object\n",
      "customer_id      ID6231506320\n",
      "customer_lat        37.823859\n",
      "customer_long      144.969892\n",
      "Name: ORD104032, dtype: object\n"
     ]
    },
    {
     "ename": "AttributeError",
     "evalue": "'NoneType' object has no attribute 'raw'",
     "output_type": "error",
     "traceback": [
      "\u001b[0;31m---------------------------------------------------------------------------\u001b[0m",
      "\u001b[0;31mAttributeError\u001b[0m                            Traceback (most recent call last)",
      "\u001b[0;32m/var/folders/rq/pvndszrn03s6dn5ckkn_v9d40000gn/T/ipykernel_51417/1407106723.py\u001b[0m in \u001b[0;36m<module>\u001b[0;34m\u001b[0m\n\u001b[1;32m      6\u001b[0m         \u001b[0mx\u001b[0m\u001b[0;34m+=\u001b[0m\u001b[0;36m1\u001b[0m\u001b[0;34m\u001b[0m\u001b[0;34m\u001b[0m\u001b[0m\n\u001b[1;32m      7\u001b[0m         \u001b[0mtime\u001b[0m\u001b[0;34m.\u001b[0m\u001b[0msleep\u001b[0m\u001b[0;34m(\u001b[0m\u001b[0;36m1\u001b[0m\u001b[0;34m)\u001b[0m\u001b[0;34m\u001b[0m\u001b[0;34m\u001b[0m\u001b[0m\n\u001b[0;32m----> 8\u001b[0;31m         df_customer_addresses = df_customer_addresses.append({'customer_id':get_geo_address(row[0],row[1],row[2])[0], \n\u001b[0m\u001b[1;32m      9\u001b[0m                     \u001b[0;34m'road'\u001b[0m\u001b[0;34m:\u001b[0m\u001b[0mget_geo_address\u001b[0m\u001b[0;34m(\u001b[0m\u001b[0mrow\u001b[0m\u001b[0;34m[\u001b[0m\u001b[0;36m0\u001b[0m\u001b[0;34m]\u001b[0m\u001b[0;34m,\u001b[0m\u001b[0mrow\u001b[0m\u001b[0;34m[\u001b[0m\u001b[0;36m1\u001b[0m\u001b[0;34m]\u001b[0m\u001b[0;34m,\u001b[0m\u001b[0mrow\u001b[0m\u001b[0;34m[\u001b[0m\u001b[0;36m2\u001b[0m\u001b[0;34m]\u001b[0m\u001b[0;34m)\u001b[0m\u001b[0;34m[\u001b[0m\u001b[0;36m1\u001b[0m\u001b[0;34m]\u001b[0m\u001b[0;34m,\u001b[0m\u001b[0;34m\u001b[0m\u001b[0;34m\u001b[0m\u001b[0m\n\u001b[1;32m     10\u001b[0m                     \u001b[0;34m'suburb'\u001b[0m\u001b[0;34m:\u001b[0m\u001b[0mget_geo_address\u001b[0m\u001b[0;34m(\u001b[0m\u001b[0mrow\u001b[0m\u001b[0;34m[\u001b[0m\u001b[0;36m0\u001b[0m\u001b[0;34m]\u001b[0m\u001b[0;34m,\u001b[0m\u001b[0mrow\u001b[0m\u001b[0;34m[\u001b[0m\u001b[0;36m1\u001b[0m\u001b[0;34m]\u001b[0m\u001b[0;34m,\u001b[0m\u001b[0mrow\u001b[0m\u001b[0;34m[\u001b[0m\u001b[0;36m2\u001b[0m\u001b[0;34m]\u001b[0m\u001b[0;34m)\u001b[0m\u001b[0;34m[\u001b[0m\u001b[0;36m2\u001b[0m\u001b[0;34m]\u001b[0m\u001b[0;34m,\u001b[0m\u001b[0;34m\u001b[0m\u001b[0;34m\u001b[0m\u001b[0m\n",
      "\u001b[0;32m/var/folders/rq/pvndszrn03s6dn5ckkn_v9d40000gn/T/ipykernel_51417/1094846489.py\u001b[0m in \u001b[0;36mget_geo_address\u001b[0;34m(customer_id, lat, long)\u001b[0m\n\u001b[1;32m      6\u001b[0m \u001b[0;34m\u001b[0m\u001b[0m\n\u001b[1;32m      7\u001b[0m     \u001b[0mlocation\u001b[0m \u001b[0;34m=\u001b[0m \u001b[0mgeolocator\u001b[0m\u001b[0;34m.\u001b[0m\u001b[0mreverse\u001b[0m\u001b[0;34m(\u001b[0m\u001b[0mcoordinates\u001b[0m\u001b[0;34m)\u001b[0m\u001b[0;34m\u001b[0m\u001b[0;34m\u001b[0m\u001b[0m\n\u001b[0;32m----> 8\u001b[0;31m     \u001b[0maddress\u001b[0m \u001b[0;34m=\u001b[0m \u001b[0mlocation\u001b[0m\u001b[0;34m.\u001b[0m\u001b[0mraw\u001b[0m\u001b[0;34m[\u001b[0m\u001b[0;34m'address'\u001b[0m\u001b[0;34m]\u001b[0m\u001b[0;34m\u001b[0m\u001b[0;34m\u001b[0m\u001b[0m\n\u001b[0m\u001b[1;32m      9\u001b[0m     \u001b[0mroad\u001b[0m \u001b[0;34m=\u001b[0m \u001b[0maddress\u001b[0m\u001b[0;34m.\u001b[0m\u001b[0mget\u001b[0m\u001b[0;34m(\u001b[0m\u001b[0;34m'road'\u001b[0m\u001b[0;34m,\u001b[0m \u001b[0;34m''\u001b[0m\u001b[0;34m)\u001b[0m\u001b[0;34m\u001b[0m\u001b[0;34m\u001b[0m\u001b[0m\n\u001b[1;32m     10\u001b[0m     \u001b[0msuburb\u001b[0m \u001b[0;34m=\u001b[0m \u001b[0maddress\u001b[0m\u001b[0;34m.\u001b[0m\u001b[0mget\u001b[0m\u001b[0;34m(\u001b[0m\u001b[0;34m'suburb'\u001b[0m\u001b[0;34m,\u001b[0m \u001b[0;34m''\u001b[0m\u001b[0;34m)\u001b[0m\u001b[0;34m\u001b[0m\u001b[0;34m\u001b[0m\u001b[0m\n",
      "\u001b[0;31mAttributeError\u001b[0m: 'NoneType' object has no attribute 'raw'"
     ]
    }
   ],
   "source": [
    "# get address for each customer and create a new Dataframe called df_customer_addresses\n",
    "df_customer_addresses = pd.DataFrame()\n",
    "x=1\n",
    "for i, row in customerid_lat_long.iterrows():\n",
    "        print(row)\n",
    "        x+=1\n",
    "        time.sleep(1)\n",
    "        df_customer_addresses = df_customer_addresses.append({'customer_id':get_geo_address(row[0],row[1],row[2])[0], \n",
    "                    'road':get_geo_address(row[0],row[1],row[2])[1],\n",
    "                    'suburb':get_geo_address(row[0],row[1],row[2])[2],\n",
    "                    'city':get_geo_address(row[0],row[1],row[2])[3],\n",
    "                    'postcode':get_geo_address(row[0],row[1],row[2])[4],                                 \n",
    "                    'state':get_geo_address(row[0],row[1],row[2])[5], \n",
    "                    'country':get_geo_address(row[0],row[1],row[2])[6]\n",
    "                   },ignore_index=True)"
   ]
  },
  {
   "cell_type": "code",
   "execution_count": 129,
   "id": "23275aa0-f6e9-4fe7-86cf-06ced388184f",
   "metadata": {},
   "outputs": [
    {
     "data": {
      "text/plain": [
       "('ID6231506320',\n",
       " 'Bourke Street',\n",
       " 'Melbourne',\n",
       " 'Melbourne',\n",
       " '3000',\n",
       " 'Victoria',\n",
       " 'Australia')"
      ]
     },
     "execution_count": 129,
     "metadata": {},
     "output_type": "execute_result"
    }
   ],
   "source": [
    "get_geo_address('ID6231506320',-37.811416, 144.969892)"
   ]
  },
  {
   "cell_type": "code",
   "execution_count": null,
   "id": "ed57c893-449b-4989-b72c-009d3b84059c",
   "metadata": {},
   "outputs": [],
   "source": []
  },
  {
   "cell_type": "markdown",
   "id": "30ad199b-54a9-47b7-9cce-eb5ce2b71791",
   "metadata": {},
   "source": [
    "## Analyse\n",
    "***"
   ]
  },
  {
   "cell_type": "code",
   "execution_count": null,
   "id": "cf37f7bd-48ce-41dc-9348-d7db1c2d436e",
   "metadata": {},
   "outputs": [],
   "source": [
    "print(df_missing_data.columns)"
   ]
  },
  {
   "cell_type": "markdown",
   "id": "78872474-40c1-445d-affa-63124884d8db",
   "metadata": {},
   "source": [
    "## Visualise\n",
    "***"
   ]
  },
  {
   "cell_type": "code",
   "execution_count": null,
   "id": "ab9f502e-25f5-48a5-a775-ff0410e7c33f",
   "metadata": {},
   "outputs": [],
   "source": []
  },
  {
   "cell_type": "code",
   "execution_count": null,
   "id": "736f8624-6f58-4860-a278-c568563225a9",
   "metadata": {},
   "outputs": [],
   "source": []
  },
  {
   "cell_type": "code",
   "execution_count": null,
   "id": "579fb73c-ee8c-42da-8e3e-eba2ec093e66",
   "metadata": {},
   "outputs": [],
   "source": [
    "lat = -37.802653\n",
    "long = 144.963491\n",
    "coordinates =  str(lat) + \" \" + str(long)\n",
    "get_geo_address('ID1492175313', coordinates)"
   ]
  },
  {
   "cell_type": "code",
   "execution_count": null,
   "id": "80812e36-9d9e-496a-a39b-d59afe867997",
   "metadata": {},
   "outputs": [],
   "source": []
  },
  {
   "cell_type": "code",
   "execution_count": null,
   "id": "b9a85b6c-0663-4476-a360-0c6da150f3e9",
   "metadata": {},
   "outputs": [],
   "source": [
    "!jt-l"
   ]
  },
  {
   "cell_type": "code",
   "execution_count": null,
   "id": "b9b25a1f-d05b-4982-9dab-7422bd4986b3",
   "metadata": {},
   "outputs": [],
   "source": []
  }
 ],
 "metadata": {
  "kernelspec": {
   "display_name": "Python 3 (ipykernel)",
   "language": "python",
   "name": "python3"
  },
  "language_info": {
   "codemirror_mode": {
    "name": "ipython",
    "version": 3
   },
   "file_extension": ".py",
   "mimetype": "text/x-python",
   "name": "python",
   "nbconvert_exporter": "python",
   "pygments_lexer": "ipython3",
   "version": "3.9.7"
  },
  "toc-autonumbering": true,
  "toc-showcode": false,
  "toc-showmarkdowntxt": true,
  "toc-showtags": false
 },
 "nbformat": 4,
 "nbformat_minor": 5
}
