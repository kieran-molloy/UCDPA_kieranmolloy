{
 "cells": [
  {
   "cell_type": "markdown",
   "id": "62b73650-40bf-4cf5-b0e1-add5e135416a",
   "metadata": {},
   "source": [
    "# Kieran Molloy UCDPA Project \n",
    "### Course CIDAB 2022-01-18\n",
    "***"
   ]
  },
  {
   "cell_type": "markdown",
   "id": "c778e28c-3ac9-4b69-9a21-a14a798d209b",
   "metadata": {},
   "source": [
    "### Environment Information\n",
    "<table align=\"left\">\n",
    "<tr>\n",
    "    <th>Environment Type</th>\n",
    "    <th>Anaconda Version</th>\n",
    "    <th>Anaconda Build Channel</th>\n",
    "    <th>Python Version</th>\n",
    "</tr>\n",
    "<tr>\n",
    "    <td>Anaconda </td>\n",
    "    <td>2021.11 </td>\n",
    "    <td>py39_0 </td>\n",
    "    <td>3.9.7 </td>\n",
    "</tr>\n",
    "</table>"
   ]
  },
  {
   "cell_type": "markdown",
   "id": "afe1772b-f4b1-4b51-a3a4-9c24f29ed8d3",
   "metadata": {
    "tags": []
   },
   "source": [
    "## Links to Kaggle Datasource: \n",
    "***\n",
    "\n",
    "#### _[Transactional Retail Dataset of Electronics Store](https://www.kaggle.com/datasets/muhammadshahrayar/transactional-retail-dataset-of-electronics-store)_\n",
    "\n",
    "*  _[dirty_data.csv](https://www.kaggle.com/datasets/muhammadshahrayar/transactional-retail-dataset-of-electronics-store?select=dirty_data.csv)_\n",
    "*  _[missing_data.csv](https://www.kaggle.com/datasets/muhammadshahrayar/transactional-retail-dataset-of-electronics-store?select=missing_data.csv)_\n",
    "*  _[warehouses.csv](https://www.kaggle.com/datasets/muhammadshahrayar/transactional-retail-dataset-of-electronics-store?select=warehouses.csv)_\n"
   ]
  },
  {
   "cell_type": "markdown",
   "id": "46c99b8e-b1e6-4b5c-9436-6e63806301af",
   "metadata": {},
   "source": [
    "## Install Modules"
   ]
  },
  {
   "cell_type": "code",
   "execution_count": null,
   "id": "879d252f-8f3c-4757-94e9-cdb84a520855",
   "metadata": {},
   "outputs": [],
   "source": [
    "# %pip install geopy"
   ]
  },
  {
   "cell_type": "markdown",
   "id": "e954165f-785e-469f-9d11-f464f7ce3008",
   "metadata": {},
   "source": [
    "## Import Modules\n",
    "***"
   ]
  },
  {
   "cell_type": "code",
   "execution_count": null,
   "id": "7fb5ef44-cccd-4c79-b53b-64ac594b15e3",
   "metadata": {},
   "outputs": [],
   "source": [
    "from matplotlib import pyplot as plt\n",
    "from IPython.display import display \n",
    "\n",
    "import pandas as pd\n",
    "import numpy as np\n",
    "import seaborn as sns\n",
    "\n",
    "from datetime import datetime\n",
    "\n",
    "from geopy.distance import geodesic"
   ]
  },
  {
   "cell_type": "markdown",
   "id": "aa0be544-123d-4dc7-9429-df54040e671b",
   "metadata": {},
   "source": [
    "## Set Variables\n",
    "***"
   ]
  },
  {
   "cell_type": "code",
   "execution_count": null,
   "id": "82297830-167e-46bc-83b0-36026355871b",
   "metadata": {},
   "outputs": [],
   "source": [
    "dirty_data = 'dirty_data.csv'\n",
    "missing_data = 'missing_data.csv'\n",
    "warehouses = 'warehouses.csv'"
   ]
  },
  {
   "cell_type": "markdown",
   "id": "b4a97a52-1f03-4cca-84ea-fc64d0b2c2e1",
   "metadata": {
    "tags": []
   },
   "source": [
    "## Functions\n",
    "***"
   ]
  },
  {
   "cell_type": "code",
   "execution_count": null,
   "id": "a0aee1ca-9eb0-4972-b84a-fe555c89e8b4",
   "metadata": {},
   "outputs": [],
   "source": [
    "def get_missing_nearest_warehouse(lat , Long ):\n",
    "    ''' use coordinates to find the closest warehouse (clrow flies)'''\n",
    "    \n",
    "    # customer coordinates are provided\n",
    "    coords_customer = lat, Long\n",
    "    \n",
    "    # get warehouse latitude and longitide from warehouse table\n",
    "    coords_Nickolson = df_warehouses['lat'].loc[df_warehouses.index[0]], df_warehouses['lon'].loc[df_warehouses.index[0]]\n",
    "    coords_Thompson = df_warehouses['lat'].loc[df_warehouses.index[1]], df_warehouses['lon'].loc[df_warehouses.index[1]]\n",
    "    coords_Bakers = df_warehouses['lat'].loc[df_warehouses.index[2]], df_warehouses['lon'].loc[df_warehouses.index[2]]\n",
    "    \n",
    "    # use geodesic to do a km distance comparison\n",
    "    Nickolson_cust_dist = geodesic(coords_customer, coords_Nickolson).km\n",
    "    Thompson_cust_dist = geodesic(coords_customer, coords_Thompson).km\n",
    "    Bakers_cust_dist = geodesic(coords_customer, coords_Bakers).km\n",
    "    \n",
    "    val = (Nickolson_cust_dist ,Thompson_cust_dist ,Bakers_cust_dist)\n",
    "    \n",
    "    x = val.index(min(val))\n",
    "    \n",
    "    if x == 0:\n",
    "        warehouse = 'Nickolson'\n",
    "        distance = Nickolson_cust_dist\n",
    "        return(warehouse , distance)\n",
    "    elif x == 1:\n",
    "        warehouse = 'Thompson'\n",
    "        distance = Nickolson_cust_dist\n",
    "        return(warehouse , distance)\n",
    "    else: \n",
    "        warehouse = 'Bakers'\n",
    "        distance = Nickolson_cust_dist\n",
    "        return(warehouse , distance)"
   ]
  },
  {
   "cell_type": "code",
   "execution_count": null,
   "id": "f9c3130b-999f-4a0a-b752-21265f8eb20c",
   "metadata": {},
   "outputs": [],
   "source": [
    "def get_missing_order_price(order_total, delivery_charges, coupon_discount):\n",
    "    ''' calculate order_price from order_total, delivery_charges and coupon_discount '''\n",
    "    order_price = (order_total - delivery_charges) / (100-coupon_discount) * 100\n",
    "    return(round(order_price, 2))"
   ]
  },
  {
   "cell_type": "code",
   "execution_count": null,
   "id": "24d8ad60-44ef-46bc-9465-a94ce7956f9a",
   "metadata": {},
   "outputs": [],
   "source": [
    "def get_missing_order_total(order_price, delivery_charges, coupon_discount):\n",
    "    ''' calculate order_total from order_price, delivery_charges and coupon_discount'''\n",
    "    order_total = order_price - (order_price / 100 * coupon_discount) + delivery_charges\n",
    "    return(round(order_total, 2))"
   ]
  },
  {
   "cell_type": "code",
   "execution_count": null,
   "id": "061ab880-0f9e-4ca1-ba42-0deb9082a277",
   "metadata": {},
   "outputs": [],
   "source": [
    "def get_missing_season(date):\n",
    "    '''calculate season from date'''\n",
    "    # Spring = months 9,10,11\n",
    "    # summer = months 12,1,2\n",
    "    # Autumn = months 3,4,5\n",
    "    # Winter = months 6,7,8\n",
    "\n",
    "    month = date.month\n",
    "\n",
    "    if month in [9,10,11]:\n",
    "        season = 'Spring'\n",
    "    elif month in [12,1,2]:\n",
    "        season = 'Summer'\n",
    "    elif month in [3,4,5]:\n",
    "        season = 'Autumn'\n",
    "    else:\n",
    "        season = 'Winter'\n",
    "    \n",
    "    return(season)"
   ]
  },
  {
   "cell_type": "markdown",
   "id": "2dfd0b92-8771-4163-af08-d7bceb0c567b",
   "metadata": {
    "tags": []
   },
   "source": [
    "## CSV import \n",
    "***"
   ]
  },
  {
   "cell_type": "code",
   "execution_count": null,
   "id": "c83e5fb3-0851-46c9-9bee-ecc62ccf1bda",
   "metadata": {},
   "outputs": [],
   "source": [
    "# read the CSV from the local Jupyter Notebook directory \n",
    "df_dirty_data = pd.read_csv(dirty_data)\n",
    "df_missing_data = pd.read_csv(missing_data)\n",
    "df_warehouses = pd.read_csv(warehouses)"
   ]
  },
  {
   "cell_type": "markdown",
   "id": "952b0116-adff-45ee-96bd-b089410d845a",
   "metadata": {
    "toc-hr-collapsed": true
   },
   "source": [
    "## Initial CSV Review\n",
    "***"
   ]
  },
  {
   "cell_type": "markdown",
   "id": "849d9fa2-d21f-4964-b2b7-98eef342b08a",
   "metadata": {},
   "source": [
    "### df_dirty_data dataframe"
   ]
  },
  {
   "cell_type": "code",
   "execution_count": null,
   "id": "388aeae0-cca8-4d2b-a240-4c0c09b1c40e",
   "metadata": {},
   "outputs": [],
   "source": [
    "type(df_dirty_data)"
   ]
  },
  {
   "cell_type": "code",
   "execution_count": null,
   "id": "bb2ae2d7-edcf-4cec-98d3-066e3a9f1f56",
   "metadata": {},
   "outputs": [],
   "source": [
    "print(df_dirty_data.columns)"
   ]
  },
  {
   "cell_type": "code",
   "execution_count": null,
   "id": "1720377b-2e41-439d-b8c9-e80a9688850d",
   "metadata": {
    "tags": []
   },
   "outputs": [],
   "source": [
    "df_dirty_data.head(10)"
   ]
  },
  {
   "cell_type": "code",
   "execution_count": null,
   "id": "10acd33b-e9ec-4111-8c62-8db0daa1861f",
   "metadata": {},
   "outputs": [],
   "source": [
    "# using display for better formatting in Notebook , use print usually\n",
    "display(df_dirty_data.describe())"
   ]
  },
  {
   "cell_type": "code",
   "execution_count": null,
   "id": "6a944981-e550-49b6-9203-a451ea533b9b",
   "metadata": {},
   "outputs": [],
   "source": [
    "print(df_dirty_data.info())"
   ]
  },
  {
   "cell_type": "code",
   "execution_count": null,
   "id": "7bc22bf2-f085-4b6d-bc84-1cdca978d4c5",
   "metadata": {},
   "outputs": [],
   "source": [
    "print(df_dirty_data.shape)"
   ]
  },
  {
   "cell_type": "code",
   "execution_count": null,
   "id": "e43166f6-aa90-45df-87f0-fdf5b3003015",
   "metadata": {},
   "outputs": [],
   "source": [
    "print(df_dirty_data.isna().any())"
   ]
  },
  {
   "cell_type": "code",
   "execution_count": null,
   "id": "65e724c4-939d-4ab8-a754-3013a745c859",
   "metadata": {},
   "outputs": [],
   "source": [
    "print(df_dirty_data.isnull().sum())"
   ]
  },
  {
   "cell_type": "markdown",
   "id": "6d52ed62-38b9-4c5d-bfd4-567f4267f1f0",
   "metadata": {},
   "source": [
    "### df_missing_data dataframe"
   ]
  },
  {
   "cell_type": "code",
   "execution_count": null,
   "id": "b7550627-ac18-4396-b32e-b842880fbd12",
   "metadata": {
    "jupyter": {
     "source_hidden": true
    },
    "tags": []
   },
   "outputs": [],
   "source": [
    "type(df_missing_data)"
   ]
  },
  {
   "cell_type": "code",
   "execution_count": null,
   "id": "627579ee-6649-4b88-bf58-0419e4de0e6e",
   "metadata": {},
   "outputs": [],
   "source": [
    "print(df_missing_data.columns)"
   ]
  },
  {
   "cell_type": "code",
   "execution_count": null,
   "id": "fccae01e-e519-444c-826d-ec912fe11314",
   "metadata": {
    "tags": []
   },
   "outputs": [],
   "source": [
    "df_missing_data.head(10)"
   ]
  },
  {
   "cell_type": "code",
   "execution_count": null,
   "id": "2ac9b672-f316-445e-8264-4c44199f7901",
   "metadata": {},
   "outputs": [],
   "source": [
    "# using display for better formatting in Notebook , use print usually\n",
    "display(df_missing_data.describe())"
   ]
  },
  {
   "cell_type": "code",
   "execution_count": null,
   "id": "53ab0018-fb3b-4122-b1be-82fa074d361c",
   "metadata": {},
   "outputs": [],
   "source": [
    "print(df_missing_data.info())"
   ]
  },
  {
   "cell_type": "code",
   "execution_count": null,
   "id": "fb757aae-f190-428d-80a8-8d7f7ef912f2",
   "metadata": {},
   "outputs": [],
   "source": [
    "print(df_missing_data.shape)"
   ]
  },
  {
   "cell_type": "code",
   "execution_count": null,
   "id": "60d385cb-8222-492a-a051-dc93aaa40e42",
   "metadata": {},
   "outputs": [],
   "source": [
    "print(df_missing_data.isna().any())"
   ]
  },
  {
   "cell_type": "code",
   "execution_count": null,
   "id": "6b889eec-f06f-4fe2-9ee6-a2d1ca19158a",
   "metadata": {},
   "outputs": [],
   "source": [
    "print(df_missing_data.isnull().sum())"
   ]
  },
  {
   "cell_type": "markdown",
   "id": "2991f09a-c51c-4b0b-bb18-22deb27bc6b9",
   "metadata": {
    "tags": []
   },
   "source": [
    "### df_warehouses dataframe"
   ]
  },
  {
   "cell_type": "code",
   "execution_count": null,
   "id": "081ae7ad-8b7f-4215-ae80-80958a0bf4b7",
   "metadata": {},
   "outputs": [],
   "source": [
    "type(df_warehouses)"
   ]
  },
  {
   "cell_type": "code",
   "execution_count": null,
   "id": "8cda7604-8aa6-406c-8fde-63c768656c33",
   "metadata": {},
   "outputs": [],
   "source": [
    "print(df_warehouses.columns)"
   ]
  },
  {
   "cell_type": "code",
   "execution_count": null,
   "id": "8177f7a7-e30c-4293-a2bf-3907d6b40ab4",
   "metadata": {},
   "outputs": [],
   "source": [
    "type(df_warehouses)"
   ]
  },
  {
   "cell_type": "code",
   "execution_count": null,
   "id": "6e38d688-feab-48fb-a875-da67a9a65db9",
   "metadata": {},
   "outputs": [],
   "source": [
    "df_warehouses.head()"
   ]
  },
  {
   "cell_type": "code",
   "execution_count": null,
   "id": "5fef5255-c30a-4ee0-b949-a435764888d1",
   "metadata": {},
   "outputs": [],
   "source": [
    "# using display for better formatting in Notebook , use print usually\n",
    "display(df_warehouses.describe())"
   ]
  },
  {
   "cell_type": "code",
   "execution_count": null,
   "id": "049279d6-671b-4c9b-b6e4-26b11891567a",
   "metadata": {},
   "outputs": [],
   "source": [
    "print(df_warehouses.info())"
   ]
  },
  {
   "cell_type": "code",
   "execution_count": null,
   "id": "acf81536-9f60-4800-96fb-b3533a8ec833",
   "metadata": {},
   "outputs": [],
   "source": [
    "print(df_warehouses.shape)"
   ]
  },
  {
   "cell_type": "code",
   "execution_count": null,
   "id": "e2c05942-e334-4370-987b-854ab9e2883f",
   "metadata": {},
   "outputs": [],
   "source": [
    "print(df_warehouses.isna().any())"
   ]
  },
  {
   "cell_type": "code",
   "execution_count": null,
   "id": "3e09a714-c0db-4e49-8587-0271437ab46e",
   "metadata": {},
   "outputs": [],
   "source": [
    "print(df_warehouses.isnull().sum())"
   ]
  },
  {
   "cell_type": "markdown",
   "id": "f08eaede-2702-4cc7-91fa-2872be90f16d",
   "metadata": {},
   "source": [
    "## Re-import from CSV \n",
    "***"
   ]
  },
  {
   "cell_type": "code",
   "execution_count": null,
   "id": "24b10824-6ca1-4477-99e0-9096847866ce",
   "metadata": {},
   "outputs": [],
   "source": [
    "# read the CSV from the local Jupyter Notebook directory \n",
    "# parsing dates on import since dates were objects\n",
    "df_dirty_data = pd.read_csv(dirty_data, parse_dates=['date'], dtype={'order_price': 'float'}) \n",
    "df_missing_data = pd.read_csv(missing_data, parse_dates=['date']) \n",
    "#  cant use dtype={'is_happy_customer': 'bool'} because is_happy_customer contains NaN "
   ]
  },
  {
   "cell_type": "code",
   "execution_count": null,
   "id": "9fa0e64d-20b0-4e0d-988d-d97d3de1bca7",
   "metadata": {},
   "outputs": [],
   "source": [
    "print(df_dirty_data.info())"
   ]
  },
  {
   "cell_type": "code",
   "execution_count": null,
   "id": "05179a25-d14f-4030-90d4-302bdcdcf323",
   "metadata": {},
   "outputs": [],
   "source": [
    "print(df_missing_data.info())"
   ]
  },
  {
   "cell_type": "code",
   "execution_count": null,
   "id": "1cf3a19d-1ef6-4abf-bd1b-29df3cd5a5dd",
   "metadata": {},
   "outputs": [],
   "source": [
    "# check for orderid uniqueness in df_dirty_data\n",
    "duplicate_dirty_data = df_dirty_data[df_dirty_data.duplicated(['order_id'])]\n",
    "print(duplicate_dirty_data)"
   ]
  },
  {
   "cell_type": "code",
   "execution_count": null,
   "id": "c2d466e4-8413-40de-b887-f9225fc55dce",
   "metadata": {},
   "outputs": [],
   "source": [
    "# check for orderid uniqueness in df_missing_data\n",
    "duplicate_missing_data = df_missing_data[df_missing_data.duplicated(['order_id'])]\n",
    "print(duplicate_missing_data)"
   ]
  },
  {
   "cell_type": "code",
   "execution_count": null,
   "id": "0fe0ba84-1b0f-4e6e-a8f3-fadf078a8222",
   "metadata": {},
   "outputs": [],
   "source": [
    "# create an order_id index on df_dirty_data\n",
    "df_dirty_data.set_index('order_id',inplace=True)"
   ]
  },
  {
   "cell_type": "code",
   "execution_count": null,
   "id": "65b49006-e9c6-4203-a52b-41a8c9ef66ae",
   "metadata": {},
   "outputs": [],
   "source": [
    "# create an order_id index on df_missing_data\n",
    "df_missing_data.set_index('order_id',inplace=True)"
   ]
  },
  {
   "cell_type": "code",
   "execution_count": null,
   "id": "dcf266b5-12a8-49d7-b16c-b6b02e7314a6",
   "metadata": {},
   "outputs": [],
   "source": [
    "df_dirty_data.index"
   ]
  },
  {
   "cell_type": "code",
   "execution_count": null,
   "id": "6e9cde49-6d1c-42c7-97a4-76566d5f5c7a",
   "metadata": {},
   "outputs": [],
   "source": [
    "df_missing_data.index"
   ]
  },
  {
   "cell_type": "markdown",
   "id": "68e00d95-1fe5-467d-a6fd-f6bac3e289ec",
   "metadata": {},
   "source": [
    "## Detect and fix errors in dirty_data\n",
    "***"
   ]
  },
  {
   "cell_type": "markdown",
   "id": "6aaed04d-fea8-45ce-a5f4-329b25a12af2",
   "metadata": {},
   "source": [
    "## Fix missing values in missing_data\n",
    "***"
   ]
  },
  {
   "cell_type": "code",
   "execution_count": null,
   "id": "c682db15-f5d6-409e-88b3-ca59aaeda673",
   "metadata": {},
   "outputs": [],
   "source": [
    "# show missing values\n",
    "print(df_missing_data.isnull().sum())"
   ]
  },
  {
   "cell_type": "markdown",
   "id": "c564fe1e-7f75-46ce-bfc7-e2c84ff26133",
   "metadata": {},
   "source": [
    "### missing 'nearest_warehouse'"
   ]
  },
  {
   "cell_type": "code",
   "execution_count": null,
   "id": "d16e4cc3-f743-4648-90dc-9ba4b5db0581",
   "metadata": {},
   "outputs": [],
   "source": [
    "# show missing 'nearest_warehouse' rows\n",
    "df_missing_data[df_missing_data['nearest_warehouse'].isnull()]"
   ]
  },
  {
   "cell_type": "code",
   "execution_count": null,
   "id": "6c51e5f4-b943-45a2-a488-6995860371f6",
   "metadata": {},
   "outputs": [],
   "source": [
    "# checking the missing values for nearest_warehouse\n",
    "nearest_warehouse_indexto_update = df_missing_data[df_missing_data['nearest_warehouse'].isnull()].index"
   ]
  },
  {
   "cell_type": "code",
   "execution_count": null,
   "id": "6ef80c5a-329b-4363-a9d2-541752044ebd",
   "metadata": {},
   "outputs": [],
   "source": [
    "# updating the missing values for nearest_warehouse\n",
    "for i in nearest_warehouse_indexto_update:\n",
    "    df_missing_data.at[i,'nearest_warehouse'] = get_missing_nearest_warehouse(df_missing_data.at[i,'customer_lat'],df_missing_data.at[i,'customer_long'])[0]"
   ]
  },
  {
   "cell_type": "code",
   "execution_count": null,
   "id": "73666fb1-ba1c-4887-8a4c-8a4f26fe2a5e",
   "metadata": {},
   "outputs": [],
   "source": [
    "# no more missing values for nearest_warehouse\n",
    "df_missing_data[df_missing_data['nearest_warehouse'].isnull()].index"
   ]
  },
  {
   "cell_type": "code",
   "execution_count": null,
   "id": "c0d2de29-962b-4750-b508-06b24566cbad",
   "metadata": {},
   "outputs": [],
   "source": [
    "# check the indexes 'nearest_warehouse' --  all done\n",
    "for i in nearest_warehouse_indexto_update:\n",
    "    print(df_missing_data.at[i,'nearest_warehouse'])"
   ]
  },
  {
   "cell_type": "code",
   "execution_count": null,
   "id": "96e1198e-84ac-4211-bed4-2d1154682308",
   "metadata": {},
   "outputs": [],
   "source": [
    "df_missing_data.filter(items=[\"nearest_warehouse\"])"
   ]
  },
  {
   "cell_type": "markdown",
   "id": "8771f275-2b8e-4aff-90c5-307463969a02",
   "metadata": {},
   "source": [
    "### missing 'order_price'"
   ]
  },
  {
   "cell_type": "code",
   "execution_count": null,
   "id": "2caa14e7-b91c-4cf6-9fb1-76918d46a62d",
   "metadata": {},
   "outputs": [],
   "source": [
    "# show missing 'order_price' rows\n",
    "df_missing_data[df_missing_data['order_price'].isnull()]"
   ]
  },
  {
   "cell_type": "code",
   "execution_count": null,
   "id": "8cfcc664-28ff-4cef-afc8-bada364e6f83",
   "metadata": {},
   "outputs": [],
   "source": [
    "# getting the index for the missing values for order_price\n",
    "order_price_indexto_update = df_missing_data[df_missing_data['order_price'].isnull()].index"
   ]
  },
  {
   "cell_type": "code",
   "execution_count": null,
   "id": "a66a1727-22d5-4af5-bb19-537e7fc3a1bb",
   "metadata": {},
   "outputs": [],
   "source": [
    "# updating the missing values for order_price\n",
    "for i in order_price_indexto_update:\n",
    "    df_missing_data.at[i,'order_price'] = get_missing_order_price(df_missing_data.at[i,'order_total'],df_missing_data.at[i,'delivery_charges'],df_missing_data.at[i,'coupon_discount'])"
   ]
  },
  {
   "cell_type": "code",
   "execution_count": null,
   "id": "a1ba47c5-6d21-4d7d-a8fd-85fce7e8d873",
   "metadata": {},
   "outputs": [],
   "source": [
    "# no more missing values for order_price\n",
    "df_missing_data[df_missing_data['order_price'].isnull()]"
   ]
  },
  {
   "cell_type": "code",
   "execution_count": null,
   "id": "219ad6ad-84aa-49f7-b2b6-33a17e5aac74",
   "metadata": {},
   "outputs": [],
   "source": [
    "# check the indexes 'order_price' --  all done\n",
    "for i in order_price_indexto_update:\n",
    "    print(df_missing_data.at[i,'order_price'])"
   ]
  },
  {
   "cell_type": "code",
   "execution_count": null,
   "id": "0534708b-e3d5-42c6-a89b-d621b8abda30",
   "metadata": {},
   "outputs": [],
   "source": [
    "df_missing_data.filter(items=[\"order_price\"])"
   ]
  },
  {
   "cell_type": "markdown",
   "id": "5e17d800-1f0f-411a-b0b7-8bdb9e514ff2",
   "metadata": {},
   "source": [
    "### missing 'order_total'"
   ]
  },
  {
   "cell_type": "code",
   "execution_count": null,
   "id": "6f80a97d-6b87-47b5-a7f3-fc440668862c",
   "metadata": {},
   "outputs": [],
   "source": [
    "# show missing 'order_total' rows\n",
    "df_missing_data[df_missing_data['order_total'].isnull()]"
   ]
  },
  {
   "cell_type": "code",
   "execution_count": null,
   "id": "b2824bfe-568a-4bd6-b61c-b97794187c59",
   "metadata": {},
   "outputs": [],
   "source": [
    "# getting the index for the missing values for order_total\n",
    "order_total_indexto_update = df_missing_data[df_missing_data['order_total'].isnull()].index"
   ]
  },
  {
   "cell_type": "code",
   "execution_count": null,
   "id": "38f0b28a-84d1-4e24-aef4-fc237e17ff7b",
   "metadata": {},
   "outputs": [],
   "source": [
    "# updating the missing values for order_total\n",
    "for i in order_total_indexto_update:\n",
    "    df_missing_data.at[i,'order_total'] = get_missing_order_price(df_missing_data.at[i,'order_price'],df_missing_data.at[i,'delivery_charges'],df_missing_data.at[i,'coupon_discount'])"
   ]
  },
  {
   "cell_type": "code",
   "execution_count": null,
   "id": "20f04507-5e90-40ba-b580-e47e3cf1e20c",
   "metadata": {},
   "outputs": [],
   "source": [
    "# no more missing values for order_total\n",
    "df_missing_data[df_missing_data['order_total'].isnull()]"
   ]
  },
  {
   "cell_type": "code",
   "execution_count": null,
   "id": "00ca30d4-1b82-473c-bb9a-72c32dd4395e",
   "metadata": {},
   "outputs": [],
   "source": [
    "# check the indexes 'order_total' --  all done\n",
    "for i in order_total_indexto_update:\n",
    "    print(df_missing_data.at[i,'order_total'])"
   ]
  },
  {
   "cell_type": "code",
   "execution_count": null,
   "id": "3e66e084-0e88-404c-8484-71d965666843",
   "metadata": {},
   "outputs": [],
   "source": [
    "df_missing_data.filter(items=[\"order_total\"])"
   ]
  },
  {
   "cell_type": "markdown",
   "id": "c7e2caaf-d480-49ba-b594-3eb381606793",
   "metadata": {},
   "source": [
    "### missing 'season'"
   ]
  },
  {
   "cell_type": "code",
   "execution_count": null,
   "id": "f9fb3dd8-ff34-419a-a18f-e240dbdc461a",
   "metadata": {},
   "outputs": [],
   "source": [
    "# show missing 'season' rows\n",
    "df_missing_data[df_missing_data['season'].isnull()]"
   ]
  },
  {
   "cell_type": "code",
   "execution_count": null,
   "id": "c3ae807b-8e2d-40a6-8b34-1e22e1bece89",
   "metadata": {},
   "outputs": [],
   "source": [
    "# getting the distinct values for season\n",
    "print(df_missing_data['season'].sort_values().unique())"
   ]
  },
  {
   "cell_type": "code",
   "execution_count": null,
   "id": "17701abf-5888-46d5-aa16-f37e8d2a3cf9",
   "metadata": {},
   "outputs": [],
   "source": [
    "# get the seasons months from the grouping of the orders..obviously Southern hemisphere - a random lat long shows its Melbourne, Australia area\n",
    "df_missing_data.groupby([pd.Grouper(key='date', axis=0, freq='M'),'season']).sum().filter(items=['date','season'])\n",
    "# summer = months 12,1,2\n",
    "# Autumn = months 3,4,5\n",
    "# Winter = months 6,7,8\n",
    "# Spring = months 9,10,11"
   ]
  },
  {
   "cell_type": "code",
   "execution_count": null,
   "id": "446c3cc1-de31-4eb2-a8cf-c9dea314f9d9",
   "metadata": {},
   "outputs": [],
   "source": [
    "# getting the index and rows for the missing values for season\n",
    "season_to_update = df_missing_data[df_missing_data['season'].isnull()]\n",
    "season_to_update_index = df_missing_data[df_missing_data['season'].isnull()].index"
   ]
  },
  {
   "cell_type": "code",
   "execution_count": null,
   "id": "a4802be3-f005-43c9-a552-5ecb979d6360",
   "metadata": {},
   "outputs": [],
   "source": [
    "# updating missing values for season\n",
    "for row in season_indexto_update.iterrows():\n",
    "    row['season'] = (get_missing_season([row['date'])"
   ]
  },
  {
   "cell_type": "code",
   "execution_count": null,
   "id": "0d41b27c-5368-4cbf-92ca-9923feebf1eb",
   "metadata": {},
   "outputs": [],
   "source": [
    "# no more missing values for season\n",
    "df_missing_data[df_missing_data['season'].isnull()]"
   ]
  },
  {
   "cell_type": "code",
   "execution_count": null,
   "id": "ba1ad4df-c65e-4ee7-849a-4b830211c12e",
   "metadata": {},
   "outputs": [],
   "source": [
    "#check the indexes for the update 'season' --  all done\n",
    "for row in season_to_update_index.iterrows():\n",
    "    row['season']"
   ]
  },
  {
   "cell_type": "markdown",
   "id": "684c7332-b8b5-431a-ab49-2cdaa1c08364",
   "metadata": {},
   "source": [
    "### missing 'distance_to_nearest_warehouse'"
   ]
  },
  {
   "cell_type": "code",
   "execution_count": null,
   "id": "43ef7bc8-7f6c-4fe8-b1b1-89a230c995b4",
   "metadata": {},
   "outputs": [],
   "source": [
    "# show missing 'distance_to_nearest_warehouse' rows\n",
    "df_missing_data[df_missing_data['distance_to_nearest_warehouse'].isnull()]"
   ]
  },
  {
   "cell_type": "code",
   "execution_count": null,
   "id": "d5d0961d-5791-479b-9ee2-9c160cc420e4",
   "metadata": {},
   "outputs": [],
   "source": [
    "# getting the index for the missing values for nearest_warehouse\n",
    "distance_to_nearest_warehouse_indexto_update = df_missing_data[df_missing_data['distance_to_nearest_warehouse'].isnull()].index"
   ]
  },
  {
   "cell_type": "code",
   "execution_count": null,
   "id": "d587097c-5386-44cc-96a4-c7c9bb96ba97",
   "metadata": {},
   "outputs": [],
   "source": [
    "# updating  missing values for nearest_warehouse\n",
    "for i in distance_to_nearest_warehouse_indexto_update:\n",
    "    df_missing_data.at[i,'distance_to_nearest_warehouse'] = get_missing_nearest_warehouse(df_missing_data.at[i,'customer_lat'],df_missing_data.at[i,'customer_long'])[1]"
   ]
  },
  {
   "cell_type": "code",
   "execution_count": null,
   "id": "f138eac8-9a8a-4491-8ac1-39b5fb3b07e9",
   "metadata": {},
   "outputs": [],
   "source": [
    "# no more missing values for nearest_warehouse\n",
    "df_missing_data[df_missing_data['distance_to_nearest_warehouse'].isnull()].index"
   ]
  },
  {
   "cell_type": "code",
   "execution_count": null,
   "id": "cb8eaa1e-d891-4612-9546-f840340c5673",
   "metadata": {},
   "outputs": [],
   "source": [
    "# check the indexes 'nearest_warehouse' --  all done\n",
    "for i in nearest_warehouse_indexto_update:\n",
    "    print(df_missing_data.at[i,'distance_to_nearest_warehouse'])"
   ]
  },
  {
   "cell_type": "code",
   "execution_count": null,
   "id": "8f8561d3-ec51-45fd-b9df-87c7152daee5",
   "metadata": {},
   "outputs": [],
   "source": [
    "df_missing_data.filter(items=[\"distance_to_nearest_warehouse\"])"
   ]
  },
  {
   "cell_type": "markdown",
   "id": "bbb17f95-98c6-47f7-8b95-58cb14837edb",
   "metadata": {},
   "source": [
    "### missing 'customer_lat'"
   ]
  },
  {
   "cell_type": "code",
   "execution_count": null,
   "id": "bc29ba84-d4a3-469f-99be-8fd15bc04ae0",
   "metadata": {},
   "outputs": [],
   "source": [
    "# show missing 'customer_lat' rows\n",
    "df_missing_data[df_missing_data['customer_lat'].isnull()]"
   ]
  },
  {
   "cell_type": "code",
   "execution_count": null,
   "id": "8d246860-e621-49b3-ba76-e6cd6c05ad4b",
   "metadata": {},
   "outputs": [],
   "source": [
    "# getting the index for the missing values for customer_lat\n",
    "customer_lat_indexto_update = df_missing_data[df_missing_data['customer_lat'].isnull()].index\n",
    "customer_lat_indexto_update"
   ]
  },
  {
   "cell_type": "code",
   "execution_count": null,
   "id": "e77e92d3-e341-47e0-94e1-339a7f8661ff",
   "metadata": {},
   "outputs": [],
   "source": [
    "df_missing_data[df_missing_data.duplicated(['customer_id'])]"
   ]
  },
  {
   "cell_type": "markdown",
   "id": "39f52e65-7db4-478c-a247-3923d404436d",
   "metadata": {},
   "source": [
    "### missing 'customer_long'"
   ]
  },
  {
   "cell_type": "code",
   "execution_count": null,
   "id": "c98294fd-d5d5-413c-868e-97971dcfbd45",
   "metadata": {},
   "outputs": [],
   "source": [
    "# show missing 'customer_long' rows\n",
    "df_missing_data[df_missing_data['customer_long'].isnull()]"
   ]
  },
  {
   "cell_type": "code",
   "execution_count": null,
   "id": "b1eeb048-9258-4b95-ab24-c4686b02a8da",
   "metadata": {},
   "outputs": [],
   "source": [
    "# getting the index for the missing values for customer_long\n",
    "customer_long_indexto_update = df_missing_data[df_missing_data['customer_long'].isnull()].index\n",
    "customer_long_indexto_update"
   ]
  },
  {
   "cell_type": "markdown",
   "id": "30ad199b-54a9-47b7-9cce-eb5ce2b71791",
   "metadata": {},
   "source": [
    "## Analyse\n",
    "***"
   ]
  },
  {
   "cell_type": "code",
   "execution_count": null,
   "id": "cf37f7bd-48ce-41dc-9348-d7db1c2d436e",
   "metadata": {},
   "outputs": [],
   "source": [
    "print(df_missing_data.columns)"
   ]
  },
  {
   "cell_type": "markdown",
   "id": "78872474-40c1-445d-affa-63124884d8db",
   "metadata": {},
   "source": [
    "## Visualise\n",
    "***"
   ]
  },
  {
   "cell_type": "code",
   "execution_count": null,
   "id": "ab9f502e-25f5-48a5-a775-ff0410e7c33f",
   "metadata": {},
   "outputs": [],
   "source": []
  }
 ],
 "metadata": {
  "kernelspec": {
   "display_name": "Python 3 (ipykernel)",
   "language": "python",
   "name": "python3"
  },
  "language_info": {
   "codemirror_mode": {
    "name": "ipython",
    "version": 3
   },
   "file_extension": ".py",
   "mimetype": "text/x-python",
   "name": "python",
   "nbconvert_exporter": "python",
   "pygments_lexer": "ipython3",
   "version": "3.9.7"
  }
 },
 "nbformat": 4,
 "nbformat_minor": 5
}
