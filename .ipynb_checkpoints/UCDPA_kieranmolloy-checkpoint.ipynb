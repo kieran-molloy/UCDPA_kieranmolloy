{
 "cells": [
  {
   "cell_type": "markdown",
   "id": "62b73650-40bf-4cf5-b0e1-add5e135416a",
   "metadata": {
    "tags": [],
    "toc-hr-collapsed": true
   },
   "source": [
    "# Kieran Molloy UCDPA Project \n",
    "### Course CIDAB 2022-01-18\n",
    "***"
   ]
  },
  {
   "cell_type": "markdown",
   "id": "c778e28c-3ac9-4b69-9a21-a14a798d209b",
   "metadata": {},
   "source": [
    "### Environment Information\n",
    "<table align=\"left\">\n",
    "<tr>\n",
    "    <th>Environment Type</th>\n",
    "    <th>Anaconda Version</th>\n",
    "    <th>Anaconda Build Channel</th>\n",
    "    <th>Python Version</th>\n",
    "</tr>\n",
    "<tr>\n",
    "    <td>Anaconda </td>\n",
    "    <td>2021.11 </td>\n",
    "    <td>py39_0 </td>\n",
    "    <td>3.9.7 </td>\n",
    "</tr>\n",
    "</table>"
   ]
  },
  {
   "cell_type": "markdown",
   "id": "afe1772b-f4b1-4b51-a3a4-9c24f29ed8d3",
   "metadata": {
    "tags": []
   },
   "source": [
    "## Links to Kaggle Datasource: \n",
    "***\n",
    "\n",
    "#### _[Transactional Retail Dataset of Electronics Store](https://www.kaggle.com/datasets/muhammadshahrayar/transactional-retail-dataset-of-electronics-store)_\n",
    "\n",
    "*  _[dirty_data.csv](https://www.kaggle.com/datasets/muhammadshahrayar/transactional-retail-dataset-of-electronics-store?select=dirty_data.csv)_\n",
    "*  _[missing_data.csv](https://www.kaggle.com/datasets/muhammadshahrayar/transactional-retail-dataset-of-electronics-store?select=missing_data.csv)_\n",
    "*  _[warehouses.csv](https://www.kaggle.com/datasets/muhammadshahrayar/transactional-retail-dataset-of-electronics-store?select=warehouses.csv)_\n"
   ]
  },
  {
   "cell_type": "markdown",
   "id": "46c99b8e-b1e6-4b5c-9436-6e63806301af",
   "metadata": {},
   "source": [
    "# Setup"
   ]
  },
  {
   "cell_type": "markdown",
   "id": "dd727cec-c3fc-41fa-afef-0c5489ff7e45",
   "metadata": {},
   "source": [
    "<div class=\"alert alert-block alert-info\"><b></b>installing an importing modules ,setting variables and functions </div>"
   ]
  },
  {
   "cell_type": "markdown",
   "id": "c1d223bc-06ca-42b9-83af-827a0ed51921",
   "metadata": {},
   "source": [
    "## Install Modules"
   ]
  },
  {
   "cell_type": "code",
   "execution_count": null,
   "id": "879d252f-8f3c-4757-94e9-cdb84a520855",
   "metadata": {},
   "outputs": [],
   "source": [
    "#commented out installers prevent re-run, uncomment if required \n",
    "#%pip install geopy\n",
    "#%pip install plotly"
   ]
  },
  {
   "cell_type": "markdown",
   "id": "e954165f-785e-469f-9d11-f464f7ce3008",
   "metadata": {},
   "source": [
    "## Import Modules\n",
    "***"
   ]
  },
  {
   "cell_type": "code",
   "execution_count": null,
   "id": "7fb5ef44-cccd-4c79-b53b-64ac594b15e3",
   "metadata": {},
   "outputs": [],
   "source": [
    "from matplotlib import pyplot as plt\n",
    "from IPython.display import display \n",
    "\n",
    "import pandas as pd\n",
    "import numpy as np\n",
    "import seaborn as sns\n",
    "# import itertools\n",
    "import time\n",
    "from datetime import datetime\n",
    "\n",
    "\n",
    "from geopy.distance import geodesic\n",
    "from geopy.geocoders import Nominatim\n",
    "import plotly.express as px "
   ]
  },
  {
   "cell_type": "markdown",
   "id": "aa0be544-123d-4dc7-9429-df54040e671b",
   "metadata": {},
   "source": [
    "## Set Variables\n",
    "***"
   ]
  },
  {
   "cell_type": "code",
   "execution_count": null,
   "id": "82297830-167e-46bc-83b0-36026355871b",
   "metadata": {},
   "outputs": [],
   "source": [
    "# set all csv variables\n",
    "dirty_data = 'dirty_data.csv'\n",
    "missing_data = 'missing_data.csv'\n",
    "warehouse_data = 'warehouses.csv'\n",
    "customer_addresses = 'customer_addresses.csv' \n",
    "warehouse_addresses = 'warehouse_addresses.csv'"
   ]
  },
  {
   "cell_type": "code",
   "execution_count": 180,
   "id": "4aba8082-e686-4da6-80ef-aa9fcb96a2ad",
   "metadata": {},
   "outputs": [
    {
     "data": {
      "text/plain": [
       "<Figure size 864x432 with 0 Axes>"
      ]
     },
     "metadata": {},
     "output_type": "display_data"
    }
   ],
   "source": [
    "# pd.set_option('display.max_columns' , 200 )\n",
    "# pd.set_option('display.max_columns' , 200 )"
   ]
  },
  {
   "cell_type": "markdown",
   "id": "b4a97a52-1f03-4cca-84ea-fc64d0b2c2e1",
   "metadata": {
    "tags": []
   },
   "source": [
    "## Functions\n",
    "***"
   ]
  },
  {
   "cell_type": "code",
   "execution_count": null,
   "id": "a0aee1ca-9eb0-4972-b84a-fe555c89e8b4",
   "metadata": {},
   "outputs": [],
   "source": [
    "def get_missing_nearest_warehouse(lat , Long ):\n",
    "    ''' use coordinates to find the closest warehouse (crow flies) using geodesic API'''\n",
    "    \n",
    "    # customer coordinates are provided\n",
    "    coords_customer = lat, Long\n",
    "    \n",
    "    # get warehouse latitude and longitide from warehouse table\n",
    "    coords_Nickolson = df_warehouse_data['lat'].loc[df_warehouse_data.index[0]], df_warehouse_data['lon'].loc[df_warehouse_data.index[0]]\n",
    "    coords_Thompson = df_warehouse_data['lat'].loc[df_warehouse_data.index[1]], df_warehouse_data['lon'].loc[df_warehouse_data.index[1]]\n",
    "    coords_Bakers = df_warehouse_data['lat'].loc[df_warehouse_data.index[2]], df_warehouse_data['lon'].loc[df_warehouse_data.index[2]]\n",
    "    \n",
    "    # use geodesic to do a km distance comparison\n",
    "    Nickolson_cust_dist = geodesic(coords_customer, coords_Nickolson).km\n",
    "    Thompson_cust_dist = geodesic(coords_customer, coords_Thompson).km\n",
    "    Bakers_cust_dist = geodesic(coords_customer, coords_Bakers).km\n",
    "    \n",
    "    val = (Nickolson_cust_dist ,Thompson_cust_dist ,Bakers_cust_dist)\n",
    "    \n",
    "    # get the min value distance value\n",
    "    min_dist = val.index(min(val))\n",
    "    \n",
    "     # convert min_dist to warehouse name and distance in km\n",
    "    if min_dist == 0:\n",
    "        warehouse = 'Nickolson'\n",
    "        distance = Nickolson_cust_dist\n",
    "        return(warehouse , distance)\n",
    "    elif min_dist == 1:\n",
    "        warehouse = 'Thompson'\n",
    "        distance = Nickolson_cust_dist\n",
    "        return(warehouse , distance)\n",
    "    else: \n",
    "        warehouse = 'Bakers'\n",
    "        distance = Nickolson_cust_dist\n",
    "        return(str(warehouse) , distance)\n",
    "        # test values : get_missing_nearest_warehouse(-37.815105 ,144.932843)"
   ]
  },
  {
   "cell_type": "code",
   "execution_count": null,
   "id": "f9c3130b-999f-4a0a-b752-21265f8eb20c",
   "metadata": {},
   "outputs": [],
   "source": [
    "def get_missing_order_price(order_total, delivery_charges, coupon_discount):\n",
    "    ''' calculate order_price from order_total, delivery_charges and coupon_discount '''\n",
    "    order_price = (order_total - delivery_charges) / (100-coupon_discount) * 100\n",
    "    return(round(order_price, 2))\n",
    "    # test : get_missing_order_price(11059.89 ,79.89 ,10 )"
   ]
  },
  {
   "cell_type": "code",
   "execution_count": null,
   "id": "24d8ad60-44ef-46bc-9465-a94ce7956f9a",
   "metadata": {},
   "outputs": [],
   "source": [
    "def get_missing_order_total(order_price, delivery_charges, coupon_discount):\n",
    "    ''' calculate order_total from order_price, delivery_charges and coupon_discount'''\n",
    "    order_total = order_price - (order_price / 100 * coupon_discount) + delivery_charges\n",
    "    return(round(order_total, 2))\n",
    "    # test values : get_missing_order_total(11059.89 ,79.89 ,10 )"
   ]
  },
  {
   "cell_type": "code",
   "execution_count": null,
   "id": "061ab880-0f9e-4ca1-ba42-0deb9082a277",
   "metadata": {},
   "outputs": [],
   "source": [
    "def get_missing_season(date):\n",
    "    '''calculate season from date'''\n",
    "    # Spring = months 9,10,11\n",
    "    # summer = months 12,1,2\n",
    "    # Autumn = months 3,4,5\n",
    "    # Winter = months 6,7,8\n",
    "\n",
    "    month = date.month\n",
    "\n",
    "    if month in [9,10,11]:\n",
    "        season = 'Spring'\n",
    "    elif month in [12,1,2]:\n",
    "        season = 'Summer'\n",
    "    elif month in [3,4,5]:\n",
    "        season = 'Autumn'\n",
    "    else:\n",
    "        season = 'Winter'\n",
    "    \n",
    "    return(season)\n",
    "    # test values : get_missing_season(datetime(2019, 6, 22))"
   ]
  },
  {
   "cell_type": "code",
   "execution_count": null,
   "id": "c1317990-e3c3-4bc5-9a51-cc9c3cd6709a",
   "metadata": {},
   "outputs": [],
   "source": [
    "def get_geo_address(customer_id, lat, long):\n",
    "    '''use  Nominatim API to get address data from customer_lat and customer_long'''\n",
    "    \n",
    "    # simple multiply by -1   \n",
    "    geolocator = Nominatim(user_agent=\"app\")\n",
    "    \n",
    "    # simple multiply by -1   \n",
    "    coordinates =  str(lat) + \" \" + str(long)\n",
    "\n",
    "    # select the required address \n",
    "    location = geolocator.reverse(coordinates,timeout=None)\n",
    "    address = location.raw['address']\n",
    "    road = address.get('road', '')\n",
    "    suburb = address.get('suburb', '')\n",
    "    city = address.get('city', '')\n",
    "    postcode = address.get('postcode', '')\n",
    "    state = address.get('state', '')\n",
    "    country = address.get('country', '')\n",
    "    \n",
    "    return(customer_id, road, suburb, city, postcode, state, country)\n",
    "    # test values : get_geo_address('ID6231506320' ,-37.8117454 ,144.9564037)"
   ]
  },
  {
   "cell_type": "code",
   "execution_count": null,
   "id": "1c1a44a7-bf83-432e-811c-94555aa66f5c",
   "metadata": {
    "tags": []
   },
   "outputs": [],
   "source": [
    "def convert_to_negative(val):\n",
    "    '''get the negative of a passed value'''\n",
    "    \n",
    "    # simple multiply by -1     \n",
    "    negative_val = val * (-1)\n",
    "    \n",
    "    return negative_val\n",
    "    # test values : convert_to_negative(37.8117454)"
   ]
  },
  {
   "cell_type": "markdown",
   "id": "2dfd0b92-8771-4163-af08-d7bceb0c567b",
   "metadata": {
    "tags": []
   },
   "source": [
    "# CSV Import and review \n",
    "***"
   ]
  },
  {
   "cell_type": "markdown",
   "id": "0d70b59e-0a46-44ab-833c-41e4cfbc5442",
   "metadata": {},
   "source": [
    "<div class=\"alert alert-block alert-info\"><b></b><strong>DataFrames df_dirty_data</strong> , <strong>df_missing_data</strong>, <strong>df_warehouse_data</strong> , <strong>df_customer_addresses</strong> and <strong>df_warehouse_addresses</strong> are created , imported from relevent CSV<br>Datatype changes are made on import where possible, some indexes set and columns selected</div>"
   ]
  },
  {
   "cell_type": "code",
   "execution_count": null,
   "id": "c83e5fb3-0851-46c9-9bee-ecc62ccf1bda",
   "metadata": {},
   "outputs": [],
   "source": [
    "# read the CSV from the local Jupyter Notebook directory \n",
    "# parsing dates on import since dates were objects also change datatype on order_price\n",
    "df_dirty_data = pd.read_csv(dirty_data, parse_dates=['date'], dtype={'order_price': 'float'}) \n",
    "df_missing_data = pd.read_csv(missing_data, parse_dates=['date']) \n",
    "df_warehouse_data = pd.read_csv(warehouse_data)\n",
    "df_customer_addresses = pd.read_csv(customer_addresses, dtype={'postcode': 'int'} ,usecols=['customer_id','road','suburb','city','postcode','state','country'],index_col='customer_id') #this csv is created for this assignment in Section 7\n",
    "df_warehouse_addresses = pd.read_csv(warehouse_addresses, dtype={'postcode': 'int'} ,usecols=['warehouse','road','suburb','city','postcode','state','country'], index_col='warehouse')  #this csv is created for this assignment in Section 8"
   ]
  },
  {
   "cell_type": "code",
   "execution_count": null,
   "id": "f648ad4b-e156-4568-9d62-e87bb20bfc18",
   "metadata": {},
   "outputs": [],
   "source": [
    "df_warehouse_addresses"
   ]
  },
  {
   "cell_type": "markdown",
   "id": "952b0116-adff-45ee-96bd-b089410d845a",
   "metadata": {
    "toc-hr-collapsed": true
   },
   "source": [
    "## Data Review\n",
    "***"
   ]
  },
  {
   "cell_type": "markdown",
   "id": "849d9fa2-d21f-4964-b2b7-98eef342b08a",
   "metadata": {},
   "source": [
    "### df_dirty_data dataframe review"
   ]
  },
  {
   "cell_type": "code",
   "execution_count": null,
   "id": "388aeae0-cca8-4d2b-a240-4c0c09b1c40e",
   "metadata": {},
   "outputs": [],
   "source": [
    "type(df_dirty_data)"
   ]
  },
  {
   "cell_type": "code",
   "execution_count": null,
   "id": "bb2ae2d7-edcf-4cec-98d3-066e3a9f1f56",
   "metadata": {
    "tags": []
   },
   "outputs": [],
   "source": [
    "print(df_dirty_data.columns)"
   ]
  },
  {
   "cell_type": "code",
   "execution_count": null,
   "id": "1720377b-2e41-439d-b8c9-e80a9688850d",
   "metadata": {
    "tags": []
   },
   "outputs": [],
   "source": [
    "# will use display command for better tabular formatting in jupyter Notebook\n",
    "display(df_dirty_data.head(10))"
   ]
  },
  {
   "cell_type": "code",
   "execution_count": null,
   "id": "10acd33b-e9ec-4111-8c62-8db0daa1861f",
   "metadata": {},
   "outputs": [],
   "source": [
    "# will use display command for better tabular formatting in jupyter Notebook\n",
    "display(df_dirty_data.describe())"
   ]
  },
  {
   "cell_type": "code",
   "execution_count": null,
   "id": "6a944981-e550-49b6-9203-a451ea533b9b",
   "metadata": {},
   "outputs": [],
   "source": [
    "print(df_dirty_data.info())"
   ]
  },
  {
   "cell_type": "code",
   "execution_count": null,
   "id": "7bc22bf2-f085-4b6d-bc84-1cdca978d4c5",
   "metadata": {},
   "outputs": [],
   "source": [
    "print(df_dirty_data.shape)"
   ]
  },
  {
   "cell_type": "code",
   "execution_count": null,
   "id": "e43166f6-aa90-45df-87f0-fdf5b3003015",
   "metadata": {},
   "outputs": [],
   "source": [
    "print(df_dirty_data.isna().any())"
   ]
  },
  {
   "cell_type": "code",
   "execution_count": null,
   "id": "65e724c4-939d-4ab8-a754-3013a745c859",
   "metadata": {},
   "outputs": [],
   "source": [
    "print(df_dirty_data.isna().sum())"
   ]
  },
  {
   "cell_type": "markdown",
   "id": "6d52ed62-38b9-4c5d-bfd4-567f4267f1f0",
   "metadata": {},
   "source": [
    "### df_missing_data dataframe review"
   ]
  },
  {
   "cell_type": "code",
   "execution_count": null,
   "id": "b7550627-ac18-4396-b32e-b842880fbd12",
   "metadata": {
    "tags": []
   },
   "outputs": [],
   "source": [
    "type(df_missing_data)"
   ]
  },
  {
   "cell_type": "code",
   "execution_count": null,
   "id": "627579ee-6649-4b88-bf58-0419e4de0e6e",
   "metadata": {},
   "outputs": [],
   "source": [
    "print(df_missing_data.columns)"
   ]
  },
  {
   "cell_type": "code",
   "execution_count": null,
   "id": "fccae01e-e519-444c-826d-ec912fe11314",
   "metadata": {
    "tags": []
   },
   "outputs": [],
   "source": [
    "display(df_missing_data.head(10))"
   ]
  },
  {
   "cell_type": "code",
   "execution_count": null,
   "id": "2ac9b672-f316-445e-8264-4c44199f7901",
   "metadata": {},
   "outputs": [],
   "source": [
    "display(df_missing_data.describe())"
   ]
  },
  {
   "cell_type": "code",
   "execution_count": null,
   "id": "53ab0018-fb3b-4122-b1be-82fa074d361c",
   "metadata": {},
   "outputs": [],
   "source": [
    "print(df_missing_data.info())"
   ]
  },
  {
   "cell_type": "code",
   "execution_count": null,
   "id": "fb757aae-f190-428d-80a8-8d7f7ef912f2",
   "metadata": {},
   "outputs": [],
   "source": [
    "print(df_missing_data.shape)"
   ]
  },
  {
   "cell_type": "code",
   "execution_count": null,
   "id": "60d385cb-8222-492a-a051-dc93aaa40e42",
   "metadata": {},
   "outputs": [],
   "source": [
    "print(df_missing_data.isna().any())"
   ]
  },
  {
   "cell_type": "code",
   "execution_count": null,
   "id": "6b889eec-f06f-4fe2-9ee6-a2d1ca19158a",
   "metadata": {},
   "outputs": [],
   "source": [
    "print(df_missing_data.isna().sum())"
   ]
  },
  {
   "cell_type": "markdown",
   "id": "2991f09a-c51c-4b0b-bb18-22deb27bc6b9",
   "metadata": {
    "tags": []
   },
   "source": [
    "### df_warehouse_data dataframe review"
   ]
  },
  {
   "cell_type": "code",
   "execution_count": null,
   "id": "081ae7ad-8b7f-4215-ae80-80958a0bf4b7",
   "metadata": {},
   "outputs": [],
   "source": [
    "type(df_warehouse_data)"
   ]
  },
  {
   "cell_type": "code",
   "execution_count": null,
   "id": "8cda7604-8aa6-406c-8fde-63c768656c33",
   "metadata": {},
   "outputs": [],
   "source": [
    "print(df_warehouse_data.columns)"
   ]
  },
  {
   "cell_type": "code",
   "execution_count": null,
   "id": "8177f7a7-e30c-4293-a2bf-3907d6b40ab4",
   "metadata": {},
   "outputs": [],
   "source": [
    "type(df_warehouse_data)"
   ]
  },
  {
   "cell_type": "code",
   "execution_count": null,
   "id": "6e38d688-feab-48fb-a875-da67a9a65db9",
   "metadata": {},
   "outputs": [],
   "source": [
    "display(df_warehouse_data.head())"
   ]
  },
  {
   "cell_type": "code",
   "execution_count": null,
   "id": "5fef5255-c30a-4ee0-b949-a435764888d1",
   "metadata": {},
   "outputs": [],
   "source": [
    "display(df_warehouse_data.describe())"
   ]
  },
  {
   "cell_type": "code",
   "execution_count": null,
   "id": "049279d6-671b-4c9b-b6e4-26b11891567a",
   "metadata": {},
   "outputs": [],
   "source": [
    "print(df_warehouse_data.info())"
   ]
  },
  {
   "cell_type": "code",
   "execution_count": null,
   "id": "acf81536-9f60-4800-96fb-b3533a8ec833",
   "metadata": {},
   "outputs": [],
   "source": [
    "print(df_warehouse_data.shape)"
   ]
  },
  {
   "cell_type": "code",
   "execution_count": null,
   "id": "e2c05942-e334-4370-987b-854ab9e2883f",
   "metadata": {},
   "outputs": [],
   "source": [
    "print(df_warehouse_data.isna().any())"
   ]
  },
  {
   "cell_type": "code",
   "execution_count": null,
   "id": "3e09a714-c0db-4e49-8587-0271437ab46e",
   "metadata": {},
   "outputs": [],
   "source": [
    "print(df_warehouse_data.isna().sum())"
   ]
  },
  {
   "cell_type": "markdown",
   "id": "71b30b67-14b1-4b96-bb7a-789f19abf164",
   "metadata": {
    "tags": []
   },
   "source": [
    "### df_customer_addresses dataframe review"
   ]
  },
  {
   "cell_type": "markdown",
   "id": "ca0522b1-a868-453a-b0a1-6bd3fe66f125",
   "metadata": {},
   "source": [
    "[This DataFrame is created in Section 7](#df_customer_addresses)"
   ]
  },
  {
   "cell_type": "code",
   "execution_count": null,
   "id": "5247a9ef-06bb-49fd-bb5d-95d187cddba2",
   "metadata": {},
   "outputs": [],
   "source": [
    "type(df_customer_addresses)"
   ]
  },
  {
   "cell_type": "code",
   "execution_count": null,
   "id": "775bd391-0a2b-4c69-bd6b-1c2702111e38",
   "metadata": {},
   "outputs": [],
   "source": [
    "print(df_customer_addresses.columns)"
   ]
  },
  {
   "cell_type": "code",
   "execution_count": null,
   "id": "203a16de-e1cd-42ac-abb5-0217097e816b",
   "metadata": {},
   "outputs": [],
   "source": [
    "type(df_customer_addresses)"
   ]
  },
  {
   "cell_type": "code",
   "execution_count": null,
   "id": "b84e827d-4323-42fb-bc0e-3799f1376d35",
   "metadata": {},
   "outputs": [],
   "source": [
    "display(df_customer_addresses.head())"
   ]
  },
  {
   "cell_type": "code",
   "execution_count": null,
   "id": "fe56fba0-921e-4044-9485-6d4dada27d56",
   "metadata": {},
   "outputs": [],
   "source": [
    "display(df_customer_addresses.describe())"
   ]
  },
  {
   "cell_type": "code",
   "execution_count": null,
   "id": "87b396c5-dfef-4ecb-89d2-dcdb43564b76",
   "metadata": {},
   "outputs": [],
   "source": [
    "print(df_customer_addresses.info())"
   ]
  },
  {
   "cell_type": "code",
   "execution_count": null,
   "id": "8b7f1a8c-5e54-4b6e-9af7-d6fd8e464a4d",
   "metadata": {},
   "outputs": [],
   "source": [
    "print(df_customer_addresses.shape)"
   ]
  },
  {
   "cell_type": "code",
   "execution_count": null,
   "id": "121c8937-b6a9-497f-8603-d1a52a993af3",
   "metadata": {},
   "outputs": [],
   "source": [
    "print(df_customer_addresses.isna().any())"
   ]
  },
  {
   "cell_type": "code",
   "execution_count": null,
   "id": "58d8482a-08c1-438c-b55b-b8900f8953eb",
   "metadata": {},
   "outputs": [],
   "source": [
    "print(df_customer_addresses.isna().sum())"
   ]
  },
  {
   "cell_type": "markdown",
   "id": "7eea741d-dc4d-4c2c-bb9e-f81c66c3c0df",
   "metadata": {
    "tags": []
   },
   "source": [
    "### df_warehouse_addresses dataframe review"
   ]
  },
  {
   "cell_type": "markdown",
   "id": "c95ce5bb-748a-41b3-ab87-6f13e4b5b652",
   "metadata": {},
   "source": [
    "[This DataFrame is created in Section 8](#df_warehouse_addresses)"
   ]
  },
  {
   "cell_type": "code",
   "execution_count": null,
   "id": "4fee9ba6-eb33-467e-9651-22dfce724ace",
   "metadata": {},
   "outputs": [],
   "source": [
    "type(df_warehouse_addresses)"
   ]
  },
  {
   "cell_type": "code",
   "execution_count": null,
   "id": "0d09318e-f175-4a79-9364-ba5ef0544d73",
   "metadata": {},
   "outputs": [],
   "source": [
    "print(df_warehouse_addresses.columns)"
   ]
  },
  {
   "cell_type": "code",
   "execution_count": null,
   "id": "a4f2d056-689a-45a0-a4a2-d2e94bf062b1",
   "metadata": {},
   "outputs": [],
   "source": [
    "type(df_warehouse_addresses)"
   ]
  },
  {
   "cell_type": "code",
   "execution_count": null,
   "id": "cfefc1c9-7e2a-4a28-91a5-4b6403d5852e",
   "metadata": {},
   "outputs": [],
   "source": [
    "display(df_warehouse_addresses.head())"
   ]
  },
  {
   "cell_type": "code",
   "execution_count": null,
   "id": "641b6742-941a-453c-812d-131e65cdd3d0",
   "metadata": {},
   "outputs": [],
   "source": [
    "display(df_warehouse_addresses.describe())"
   ]
  },
  {
   "cell_type": "code",
   "execution_count": null,
   "id": "f63e6289-e6ae-4ade-834a-08b04c69b651",
   "metadata": {},
   "outputs": [],
   "source": [
    "print(df_warehouse_addresses.info())"
   ]
  },
  {
   "cell_type": "code",
   "execution_count": null,
   "id": "85dfa1f7-847f-4757-9dee-655e6f872c07",
   "metadata": {},
   "outputs": [],
   "source": [
    "print(df_warehouse_addresses.shape)"
   ]
  },
  {
   "cell_type": "code",
   "execution_count": null,
   "id": "f89be3d8-d5d8-4cf1-ac96-cdc284565c06",
   "metadata": {},
   "outputs": [],
   "source": [
    "print(df_warehouse_addresses.isna().any())"
   ]
  },
  {
   "cell_type": "code",
   "execution_count": null,
   "id": "e7d05bbd-2346-483d-aaa2-27e74b3d5979",
   "metadata": {},
   "outputs": [],
   "source": [
    "print(df_warehouse_addresses.isna().sum())"
   ]
  },
  {
   "cell_type": "markdown",
   "id": "fb4272c9-8867-4bd9-a41f-10e73d30da47",
   "metadata": {},
   "source": [
    "## Create Indexes"
   ]
  },
  {
   "cell_type": "code",
   "execution_count": null,
   "id": "1cf3a19d-1ef6-4abf-bd1b-29df3cd5a5dd",
   "metadata": {},
   "outputs": [],
   "source": [
    "# check for orderid uniqueness in df_dirty_data\n",
    "duplicate_dirty_data = df_dirty_data[df_dirty_data.duplicated(['order_id'])]\n",
    "print(duplicate_dirty_data)"
   ]
  },
  {
   "cell_type": "code",
   "execution_count": null,
   "id": "c2d466e4-8413-40de-b887-f9225fc55dce",
   "metadata": {},
   "outputs": [],
   "source": [
    "# check for orderid uniqueness in df_missing_data \n",
    "duplicate_missing_data = df_missing_data[df_missing_data.duplicated(['order_id'])]\n",
    "print(duplicate_missing_data)"
   ]
  },
  {
   "cell_type": "code",
   "execution_count": null,
   "id": "0fe0ba84-1b0f-4e6e-a8f3-fadf078a8222",
   "metadata": {},
   "outputs": [],
   "source": [
    "# create an order_id index on df_dirty_data\n",
    "df_dirty_data.set_index('order_id',inplace=True)"
   ]
  },
  {
   "cell_type": "code",
   "execution_count": null,
   "id": "65b49006-e9c6-4203-a52b-41a8c9ef66ae",
   "metadata": {},
   "outputs": [],
   "source": [
    "# create an order_id index on df_missing_data\n",
    "df_missing_data.set_index('order_id',inplace=True)"
   ]
  },
  {
   "cell_type": "code",
   "execution_count": null,
   "id": "dcf266b5-12a8-49d7-b16c-b6b02e7314a6",
   "metadata": {},
   "outputs": [],
   "source": [
    "print(df_dirty_data.index)"
   ]
  },
  {
   "cell_type": "code",
   "execution_count": null,
   "id": "6e9cde49-6d1c-42c7-97a4-76566d5f5c7a",
   "metadata": {},
   "outputs": [],
   "source": [
    "print(df_missing_data.index)"
   ]
  },
  {
   "cell_type": "markdown",
   "id": "68e00d95-1fe5-467d-a6fd-f6bac3e289ec",
   "metadata": {
    "tags": []
   },
   "source": [
    "# Detect and fix errors in df_dirty_data DataFrame\n",
    "***"
   ]
  },
  {
   "cell_type": "markdown",
   "id": "2ed979e2-08f5-4f8d-833b-0ff1f8bd2293",
   "metadata": {},
   "source": [
    "<div class=\"alert alert-block alert-info\"><b></b>Fixing anomolous data issues with <strong>df_dirty_data</strong> DataFrame</div>"
   ]
  },
  {
   "cell_type": "code",
   "execution_count": null,
   "id": "9361a438-1305-4151-ac45-4c38e2e6422b",
   "metadata": {},
   "outputs": [],
   "source": [
    "# show missing values - none found\n",
    "print(df_dirty_data.isna().sum())"
   ]
  },
  {
   "cell_type": "code",
   "execution_count": null,
   "id": "ccc92a0b-3448-4273-87fa-2b46e92cafc1",
   "metadata": {},
   "outputs": [],
   "source": [
    "print(df_dirty_data.info())"
   ]
  },
  {
   "cell_type": "code",
   "execution_count": null,
   "id": "0e5aabd5-a1f0-456f-a6c2-e2f3dc1933d7",
   "metadata": {},
   "outputs": [],
   "source": [
    "display(df_dirty_data.head())"
   ]
  },
  {
   "cell_type": "code",
   "execution_count": null,
   "id": "2dc47964-f593-4e2b-81c0-50a0491bc831",
   "metadata": {},
   "outputs": [],
   "source": [
    "columns = df_dirty_data.columns\n",
    "print(len(columns))"
   ]
  },
  {
   "cell_type": "markdown",
   "id": "d810b761-6b69-4fc3-a933-b7dc6b42da2d",
   "metadata": {},
   "source": [
    "### Rename 'nearest_warehouse' values"
   ]
  },
  {
   "cell_type": "code",
   "execution_count": null,
   "id": "76849294-3b95-452a-b20c-1487f5c1ea13",
   "metadata": {},
   "outputs": [],
   "source": [
    "# getting the unique values for 'nearest_warehouse'\n",
    "nearest_warehouse = df_dirty_data['nearest_warehouse'].sort_values().unique()\n",
    "print(nearest_warehouse)"
   ]
  },
  {
   "cell_type": "code",
   "execution_count": null,
   "id": "ad7b1529-be5e-4704-b864-e60df248ab05",
   "metadata": {},
   "outputs": [],
   "source": [
    "df_dirty_data['nearest_warehouse'] = df_dirty_data['nearest_warehouse'].str.title()"
   ]
  },
  {
   "cell_type": "markdown",
   "id": "5268fe2e-5fb5-43c2-9fcc-cbbf3d2d8eee",
   "metadata": {},
   "source": [
    "### Rename 'season' values"
   ]
  },
  {
   "cell_type": "code",
   "execution_count": null,
   "id": "cefda4bb-ba21-444f-8954-dca0099c9ad0",
   "metadata": {},
   "outputs": [],
   "source": [
    "# getting the unique values for 'season'\n",
    "season = df_dirty_data['season'].sort_values().unique()\n",
    "print(season)"
   ]
  },
  {
   "cell_type": "code",
   "execution_count": null,
   "id": "7e990bdf-e85d-4f7b-be15-6a10dcee0654",
   "metadata": {},
   "outputs": [],
   "source": [
    "df_dirty_data['season'] = df_dirty_data['season'].str.title()"
   ]
  },
  {
   "cell_type": "markdown",
   "id": "b3916d84-e645-4438-b4e6-55464414b1ab",
   "metadata": {},
   "source": [
    "### Check 'order_price' and 'order_total' some values dont seem correct"
   ]
  },
  {
   "cell_type": "code",
   "execution_count": null,
   "id": "1b531c69-1e5c-43c2-8032-6cca59b5bd83",
   "metadata": {},
   "outputs": [],
   "source": [
    "arr = df_dirty_data['order_price']\n",
    "\n",
    "print(\"Q2 quantile of order_price : \", np.quantile(arr, .50))\n",
    "print(\"Q1 quantile of order_price : \", np.quantile(arr, .25))\n",
    "print(\"Q3 quantile of order_price : \", np.quantile(arr, .75))\n",
    "print(\"100th quantile of order_price : \", np.quantile(arr, .1))"
   ]
  },
  {
   "cell_type": "code",
   "execution_count": null,
   "id": "93d54746-631c-4f5e-b5e6-c888f49a5d63",
   "metadata": {},
   "outputs": [],
   "source": [
    "arr = df_dirty_data['order_total']\n",
    "\n",
    "print(\"Q2 quantile of order_total : \", np.quantile(arr, .50))\n",
    "print(\"Q1 quantile of order_total : \", np.quantile(arr, .25))\n",
    "print(\"Q3 quantile of order_total : \", np.quantile(arr, .75))\n",
    "print(\"100th quantile of order_total : \", np.quantile(arr, .1))"
   ]
  },
  {
   "cell_type": "markdown",
   "id": "a902ac28-3373-4228-802d-0799438f0c51",
   "metadata": {},
   "source": [
    "#### visually comparing 'shopping_cart'  'order_price'  'delivery_charges'  'coupon_discount'  'order_total' "
   ]
  },
  {
   "cell_type": "code",
   "execution_count": null,
   "id": "2b4e66fd-861f-45d7-87c4-1f674f5d3f59",
   "metadata": {},
   "outputs": [],
   "source": [
    "# sorted by 'order_total','order_price'\n",
    "df_dirty_data[['shopping_cart','order_price','delivery_charges','coupon_discount','order_total']].sort_values(ascending = False, by=['order_total','order_price']).head(10)"
   ]
  },
  {
   "cell_type": "code",
   "execution_count": null,
   "id": "429a8759-83c1-45fc-bd95-3dc52002b4b7",
   "metadata": {},
   "outputs": [],
   "source": [
    "# sorted by 'order_price','order_total'\n",
    "df_dirty_data[['shopping_cart','order_price','delivery_charges','coupon_discount','order_total']].sort_values(ascending = False, by=['order_price','order_total']).head(10)"
   ]
  },
  {
   "cell_type": "code",
   "execution_count": null,
   "id": "8a151a53-7a2f-419f-a7d8-39f12737f569",
   "metadata": {},
   "outputs": [],
   "source": [
    "# sorted by 'order_price','shopping_cart' perhaps anomolies are from items purchased \n",
    "df_dirty_data[['shopping_cart','order_price','delivery_charges','coupon_discount','order_total']].sort_values(ascending = False, by=['order_price','shopping_cart']).head(10)"
   ]
  },
  {
   "cell_type": "code",
   "execution_count": null,
   "id": "b172843e-dc29-4b00-bdd2-61e0d6495f9b",
   "metadata": {},
   "outputs": [],
   "source": [
    "pd.set_option('display.max_colwidth', 100)\n",
    "df_dirty_data[['shopping_cart','order_price','delivery_charges','coupon_discount','order_total']].sort_values(ascending = True, by=['order_price']).head(40)"
   ]
  },
  {
   "cell_type": "code",
   "execution_count": null,
   "id": "aacb9129-97dc-40e6-9a7c-0af3cd037fc1",
   "metadata": {},
   "outputs": [],
   "source": [
    "pd.set_option('max_colwidth', 100)\n",
    "df_shopping_cart = df_dirty_data[['shopping_cart','order_price']]\n",
    "\n",
    "# df_shopping_cart_filter = df_shopping_cart[lambda row : row['shopping_cart'].str.contains('Thunder line.*Lucent 330S' ,regex=True)]\n",
    "df_shopping_cart_filter = df_shopping_cart[lambda row : row['shopping_cart'].str.contains('Thunder line.*Lucent 330S|Lucent 330S.*Thunder line' ,regex=True)].head(40)\n",
    "\n",
    "df_shopping_cart_filter.sort_values('shopping_cart')\n",
    "# unique items 'Thunder line' ,'Lucent 330S' ,'Alcon 10', 'Universe Note', 'Olivia x460', 'Candle Inferno', 'iAssist Line', 'iStream', 'Toshika 750', 'pearTV'"
   ]
  },
  {
   "cell_type": "code",
   "execution_count": 187,
   "id": "61ba99cd-ee32-47eb-bfaa-a45d1d5e271a",
   "metadata": {},
   "outputs": [
    {
     "data": {
      "image/png": "[encoded data removed]",
      "text/plain": [
       "<Figure size 720x432 with 1 Axes>"
      ]
     },
     "metadata": {},
     "output_type": "display_data"
    }
   ],
   "source": [
    "# if we look at order_price versus order_total \n",
    "sns.scatterplot(data=df_dirty_data,y='order_total', x='order_price');"
   ]
  },
  {
   "cell_type": "code",
   "execution_count": null,
   "id": "317342b6-2268-4af6-9a18-dbea8ec17d61",
   "metadata": {},
   "outputs": [],
   "source": [
    "# Minimum and maximum order_price versus order_total \n",
    "print('Minimum order_price ' + str(df_dirty_data['order_price'].min()));\n",
    "print('Minimum order_total ' + str(df_dirty_data['order_total'].min()));\n",
    "print('Maximum order_price ' + str(df_dirty_data['order_price'].max()));\n",
    "print('Maximum order_total ' + str(df_dirty_data['order_total'].max()));"
   ]
  },
  {
   "cell_type": "markdown",
   "id": "fffafabd-8a97-4087-aee8-fa195dc24f69",
   "metadata": {},
   "source": [
    "#### calculating the actual order_total that dont add up from 'order_price' 'delivery_charges' 'coupon_discount' , listing those order_ids "
   ]
  },
  {
   "cell_type": "code",
   "execution_count": null,
   "id": "65b21b33-9f25-4353-b58f-87f3ff1d97af",
   "metadata": {},
   "outputs": [],
   "source": [
    "# lets find where (order_price - coupon_discount + delivery_charges != order_total) dont add up \n",
    "# we can use function get_missing_order_total to get order_id where they dont match \n",
    "# add incorrect rows to new dataframe df_incorrect_order_total\n",
    "\n",
    "df_incorrect_order_total = pd.DataFrame()\n",
    "\n",
    "for i, row in df_dirty_data.iterrows():\n",
    "    if df_dirty_data.at[i, 'order_total'] != get_missing_order_total(df_dirty_data.at[i,'order_price'],df_dirty_data.at[i,'delivery_charges'],df_dirty_data.at[i,'coupon_discount']):\n",
    "        df_incorrect_order_total = df_incorrect_order_total.append({'order_id':i,   \n",
    "                'order_price':df_dirty_data.at[i,'order_price'],                                 \n",
    "                'delivery_charges':df_dirty_data.at[i,'delivery_charges'],\n",
    "                'coupon_discount':df_dirty_data.at[i,'coupon_discount'], \n",
    "                'order_total':df_dirty_data.at[i,'order_total']\n",
    "               },ignore_index=True)"
   ]
  },
  {
   "cell_type": "code",
   "execution_count": null,
   "id": "db3338b8-fba2-4ac5-b505-85ab440a4088",
   "metadata": {},
   "outputs": [],
   "source": [
    "display(df_incorrect_order_total.sort_values('order_total', ascending=False))"
   ]
  },
  {
   "cell_type": "markdown",
   "id": "1cfaa8e9-b10c-481c-887f-003d83104d7a",
   "metadata": {},
   "source": [
    "#### calculating the actual order_price that dont add up from 'order_total' 'delivery_charges' 'coupon_discount' , listing those order_ids"
   ]
  },
  {
   "cell_type": "code",
   "execution_count": null,
   "id": "2f7b4795-57e7-48d6-9d0b-a19e329a16aa",
   "metadata": {},
   "outputs": [],
   "source": [
    "# lets find where (order_total - delivery_charges / coupon_discount != order_price) dont add up\n",
    "# we can use function get_missing_order_price to get order_id where they dont match\n",
    "# add incorrect rows dataframe df_incorrect_order_price\n",
    "\n",
    "df_incorrect_order_price = pd.DataFrame()\n",
    "\n",
    "for i, row in df_dirty_data.iterrows():\n",
    "    if df_dirty_data.at[i,'order_price'] != get_missing_order_price(df_dirty_data.at[i,'order_total'],df_dirty_data.at[i,'delivery_charges'],df_dirty_data.at[i,'coupon_discount']):\n",
    "        df_incorrect_order_price = df_incorrect_order_price.append({'order_id':i,                                               \n",
    "                'order_price':df_dirty_data.at[i,'order_price'],                                 \n",
    "                'delivery_charges':df_dirty_data.at[i,'delivery_charges'],\n",
    "                'coupon_discount':df_dirty_data.at[i,'coupon_discount'], \n",
    "                'order_total':df_dirty_data.at[i,'order_total']\n",
    "               },ignore_index=True)"
   ]
  },
  {
   "cell_type": "code",
   "execution_count": null,
   "id": "423a7e74-f9df-4498-92e1-5cdb94c41624",
   "metadata": {},
   "outputs": [],
   "source": [
    "display(df_incorrect_order_price.sort_values('order_total', ascending=False))"
   ]
  },
  {
   "cell_type": "code",
   "execution_count": null,
   "id": "f5e40aa5-d095-4d22-b5b8-66b304a9a7ce",
   "metadata": {},
   "outputs": [],
   "source": [
    "# we can conclude that 40 orders have incorrect calculations for either order_price or order_total,they will be removed \n",
    "# it makes sense that df_incorrect_order_price and df_incorrect_order_total contain the same rows \n",
    "df_incorrect_order_id = df_incorrect_order_price['order_id'] = df_incorrect_order_total['order_id']\n",
    "print(df_incorrect_order_id.count())"
   ]
  },
  {
   "cell_type": "code",
   "execution_count": null,
   "id": "47eaaaa6-0f28-4f69-b4b2-85085d14c0d1",
   "metadata": {},
   "outputs": [],
   "source": [
    "# list of order_id's that are incorrect\n",
    "list_incorrect_order_id = df_incorrect_order_id.tolist()\n",
    "print(list_incorrect_order_id)"
   ]
  },
  {
   "cell_type": "markdown",
   "id": "717dd3eb-76c9-4a85-b643-b62383b86120",
   "metadata": {
    "tags": []
   },
   "source": [
    "### remove list_incorrect_order_id from df_dirty_data "
   ]
  },
  {
   "cell_type": "code",
   "execution_count": null,
   "id": "5b4740a3-bf59-44e1-ba95-1bda1786eda9",
   "metadata": {},
   "outputs": [],
   "source": [
    "# use the list created above 'list_incorrect_order_id' to remove orders that have incorrect order_price and order_total's \n",
    "print(df_dirty_data.drop(df_dirty_data[df_dirty_data.index.isin(list_incorrect_order_id)].index,inplace=True))"
   ]
  },
  {
   "cell_type": "code",
   "execution_count": null,
   "id": "5a3ef7ec-bc62-4965-9c62-abd8e9f4bf44",
   "metadata": {},
   "outputs": [],
   "source": [
    "df_dirty_data"
   ]
  },
  {
   "cell_type": "markdown",
   "id": "4cd35de4-47cf-4043-ac0e-17c18cb01ca4",
   "metadata": {},
   "source": [
    "### Check Latitude and Longitude, some values seem incorrect , some latitude values are negative some are not"
   ]
  },
  {
   "cell_type": "markdown",
   "id": "b082dab7-e6d6-47d0-b407-f6b4026b42ac",
   "metadata": {},
   "source": [
    "#### Check Latitude and Longitude in df_dirty_data"
   ]
  },
  {
   "cell_type": "code",
   "execution_count": null,
   "id": "9f4116b3-a8fd-4241-a168-90624ff64eb9",
   "metadata": {},
   "outputs": [],
   "source": [
    "max_long = df_dirty_data['customer_long'].max();\n",
    "min_long = df_dirty_data['customer_long'].min()\n",
    "max_lat = df_dirty_data['customer_lat'].max();\n",
    "min_lat = df_dirty_data['customer_lat'].min()\n",
    "print('max_longitude:',max_long)\n",
    "print('max_latitude:',max_lat)\n",
    "print('min_longitude:',min_long)\n",
    "print('min_latitude:',min_lat)"
   ]
  },
  {
   "cell_type": "code",
   "execution_count": null,
   "id": "ee4a764e-861c-487d-ad80-6e23cd271ba7",
   "metadata": {},
   "outputs": [],
   "source": [
    "# getting index where 'customer_lat' is positive\n",
    "positive_customer_lat_indexto_update = df_dirty_data[df_dirty_data['customer_lat'] > 0 ].index\n",
    "print(positive_customer_lat_indexto_update)"
   ]
  },
  {
   "cell_type": "code",
   "execution_count": 186,
   "id": "1216baab-f2b3-4e5b-85e2-820629005fb0",
   "metadata": {},
   "outputs": [
    {
     "data": {
      "image/png": "[encoded data removed]",
      "text/plain": [
       "<Figure size 720x432 with 1 Axes>"
      ]
     },
     "metadata": {},
     "output_type": "display_data"
    }
   ],
   "source": [
    "#  using a scatterplot to visualise discrepancies in Latitude and Longitude in the df_dirty_data DataFrame\n",
    "#  the scatterplot shows there are some positive latitude values , we'll map these to see where they are\n",
    "plt.figure(figsize = (10,6))\n",
    "sns.set_theme(style=\"darkgrid\");\n",
    "\n",
    "ax = sns.scatterplot(x='customer_lat', y='customer_long' ,data=df_dirty_data, hue='customer_lat', palette = 'vlag')\n",
    "plt.title('Customer Coordinates')\n",
    "plt.xlabel('Longitude')\n",
    "plt.ylabel('Latitude')\n",
    "plt.show()  "
   ]
  },
  {
   "cell_type": "code",
   "execution_count": null,
   "id": "28e55de6-fb83-4729-926a-0eb3dfea873e",
   "metadata": {},
   "outputs": [],
   "source": [
    "# map shows coordinates are in the Melbourne area and off the Japanese coast , unless Captain Nemo ordered some supplies im assuming this to be incorrect\n",
    "# zoom on the map for closer inspection\n",
    "fig = px.scatter_mapbox(df_dirty_data, lat=\"customer_lat\", lon=\"customer_long\",color_discrete_sequence=[\"DarkRed\"], zoom=2, height=600, center=dict(lat=-4, lon=160), size='customer_long')\n",
    "fig.update_layout(mapbox_style='open-street-map',margin={'r':500,'t':0,'l':0,'b':0})\n",
    "fig.show()"
   ]
  },
  {
   "cell_type": "code",
   "execution_count": null,
   "id": "027c8fa2-8179-4b56-8e63-b358fdb927e5",
   "metadata": {},
   "outputs": [],
   "source": [
    "# df_dirty_data.describe shows the max value\n",
    "display(df_dirty_data.describe()[['customer_lat']])\n",
    "# min and percentiles are in the -37 decimal range with the exception of the max 37, I suggest these latitudes should be negative, will change and observe the difference \n",
    "# if making the values negative re-positions to Melbourne it is probably ok"
   ]
  },
  {
   "cell_type": "code",
   "execution_count": null,
   "id": "38d5f2f9-73ea-441d-86f6-1e56578c5314",
   "metadata": {},
   "outputs": [],
   "source": [
    "# list all rows where 'customer_lat' is positive\n",
    "positive_customer_lat_to_update = df_dirty_data[df_dirty_data['customer_lat'] > 0 ]\n",
    "display(positive_customer_lat_to_update[['customer_lat']])"
   ]
  },
  {
   "cell_type": "code",
   "execution_count": null,
   "id": "da8258bd-9799-4554-8eae-a033f78d2f04",
   "metadata": {},
   "outputs": [],
   "source": [
    "# getting index where 'customer_lat' is positive\n",
    "positive_customer_lat_indexto_update = df_dirty_data[df_dirty_data['customer_lat'] > 0 ].index\n",
    "print(positive_customer_lat_indexto_update)"
   ]
  },
  {
   "cell_type": "code",
   "execution_count": null,
   "id": "7a4957e6-cf1f-41a9-bba8-ed285fc737fb",
   "metadata": {},
   "outputs": [],
   "source": [
    "# updating missing values for 'nearest_warehouse'\n",
    "for i, row in positive_customer_lat_to_update.iterrows():\n",
    "    df_dirty_data.at[i,'customer_lat'] = convert_to_negative(df_dirty_data.at[i,'customer_lat'])"
   ]
  },
  {
   "cell_type": "code",
   "execution_count": null,
   "id": "d9b989bf-5bfa-491b-b95e-87fdd7e37b77",
   "metadata": {},
   "outputs": [],
   "source": [
    "# list all rows where 'customer_lat' is positive : all fixed\n",
    "positive_customer_lat_to_update = df_dirty_data[df_dirty_data['customer_lat'] > 0 ]\n",
    "display(positive_customer_lat_to_update)"
   ]
  },
  {
   "cell_type": "code",
   "execution_count": null,
   "id": "f48c0622-0671-49a7-975e-3133fc72f30f",
   "metadata": {},
   "outputs": [],
   "source": [
    "#check the indexes for the updated 'customer_lat' --  all done\n",
    "display(df_dirty_data[['customer_lat']].loc[positive_customer_lat_indexto_update])"
   ]
  },
  {
   "cell_type": "code",
   "execution_count": 184,
   "id": "bb2090cc-445a-4b55-8978-02302fc6405f",
   "metadata": {},
   "outputs": [
    {
     "data": {
      "image/png": "[encoded data removed]",
      "text/plain": [
       "<Figure size 720x432 with 1 Axes>"
      ]
     },
     "metadata": {},
     "output_type": "display_data"
    }
   ],
   "source": [
    "# using a scatterplot to visualise updated in Latitude and Longitude in the df_dirty_data DataFrame\n",
    "# all values are negative and all within -37\n",
    "plt.figure(figsize = (10,6))\n",
    "sns.set_theme(style=\"darkgrid\");\n",
    "\n",
    "sns.scatterplot(x='customer_lat', y='customer_long' ,data=df_dirty_data, hue='customer_lat', palette = 'vlag')\n",
    "plt.title('Customer Coordinates')\n",
    "plt.xlabel('Latitude')\n",
    "plt.ylabel('Longitude')\n",
    "plt.show()"
   ]
  },
  {
   "cell_type": "code",
   "execution_count": 179,
   "id": "96b7ecfd-1458-4968-b074-97a92c64257c",
   "metadata": {},
   "outputs": [
    {
     "data": {
      "application/vnd.plotly.v1+json": {
       "config": {
        "plotlyServerURL": "https://plot.ly"
       },
       "data": [
        {
         "hovertemplate": "customer_lat=%{lat}<br>customer_long=%{lon}<extra></extra>",
         "lat": [
          -37.8151052,
          -37.8027362,
          -37.8213016,
          -37.8114157,
          -37.8238586,
          -37.8202452,
          -37.8077429,
          -37.8108099,
          -37.808675,
          -37.8113336,
          -37.8202279,
          -37.8161657,
          -37.8094626,
          -37.8081254,
          -37.8042307,
          -37.8141139,
          -37.8091799,
          -37.8149171,
          -37.809311,
          -37.8028178,
          -37.8095956,
          -37.8069808,
          -37.7995959,
          -37.813288,
          -37.802871,
          -37.8200704,
          -37.812004,
          -37.8253426,
          -37.8201805,
          -37.791144,
          -37.8076815,
          -37.7998828,
          -37.8069542,
          -37.8032831,
          -37.8095947,
          -37.8140167,
          -37.8119347,
          -37.8040253,
          -37.8122134,
          -37.8121368,
          -37.8068782,
          -37.7990648,
          -37.8217934,
          -37.8240667,
          -37.8125043,
          -37.8210844,
          -37.8153678,
          -37.8113389,
          -37.8096114,
          -37.0266563,
          -37.8214213,
          -37.8221851,
          -37.8041871,
          -37.8080577,
          -37.8147977,
          -37.8108227,
          -37.8039824,
          -37.8020319,
          -37.8146744,
          -37.8068633,
          -37.8207167,
          -37.8179057,
          -37.8144836,
          -37.8023255,
          -37.8248015,
          -37.8260331,
          -37.798879,
          -37.024913,
          -37.8062244,
          -37.8021972,
          -37.8125018,
          -37.8085633,
          -37.807841,
          -37.8204423,
          -37.8176138,
          -37.818841,
          -37.8121236,
          -37.8144221,
          -37.8029953,
          -37.0916265,
          -37.8017591,
          -37.8009524,
          -37.808393,
          -37.818926,
          -37.8113504,
          -37.8004553,
          -37.8126057,
          -37.8103989,
          -37.7987935,
          -37.8154546,
          -37.8091486,
          -37.8122336,
          -37.8154669,
          -37.8228607,
          -37.8185923,
          -37.808839,
          -37.8069927,
          -37.8233794,
          -37.8201199,
          -37.8012858,
          -37.8214382,
          -37.8190391,
          -37.8173222,
          -37.8233588,
          -37.81703,
          -37.8053812,
          -37.809841,
          -37.8097225,
          -37.811881,
          -37.822806,
          -37.8182266,
          -37.8061754,
          -37.8061658,
          -37.8050795,
          -37.8126709,
          -37.8175356,
          -37.8233446,
          -37.8244324,
          -37.8216013,
          -37.799787,
          -37.8161151,
          -37.8064775,
          -37.8219224,
          -37.8129752,
          -37.8087165,
          -37.8178333,
          -37.8095278,
          -37.8155841,
          -37.8082783,
          -37.8076984,
          -37.8203432,
          -37.8149433,
          -37.8165753,
          -37.7995098,
          -37.8041347,
          -37.8160065,
          -37.8133042,
          -37.8242254,
          -37.8180481,
          -37.8165205,
          -37.8168076,
          -37.8027598,
          -37.8143832,
          -37.8152578,
          -37.8150707,
          -37.8126386,
          -37.8228581,
          -37.7891185,
          -37.8127283,
          -37.8239148,
          -37.8047366,
          -37.8114445,
          -37.8149718,
          -37.8127114,
          -37.8203616,
          -37.8127256,
          -37.8135169,
          -37.8138985,
          -37.8157863,
          -37.8155823,
          -37.8198852,
          -37.808701,
          -37.8113458,
          -37.8271233,
          -37.8064367,
          -37.8235366,
          -37.8094704,
          -37.806973,
          -37.8141653,
          -37.807684,
          -37.0449963,
          -37.814102,
          -37.8130127,
          -37.8047344,
          -37.8024492,
          -37.8049554,
          -37.8043182,
          -37.8032642,
          -37.8245985,
          -37.8200867,
          -37.8101542,
          -37.8223226,
          -37.8177896,
          -37.8125168,
          -37.8243601,
          -37.8084337,
          -37.8096666,
          -37.8016545,
          -37.8030333,
          -37.8036771,
          -37.8109126,
          -37.8033989,
          -37.8094864,
          -37.80348,
          -37.8040317,
          -37.8070107,
          -37.8235722,
          -37.8240565,
          -37.8149579,
          -37.8148259,
          -37.8184877,
          -37.8252348,
          -37.0201952,
          -37.8049802,
          -37.8165343,
          -37.80231,
          -37.8158463,
          -37.0645635,
          -37.8055127,
          -37.814639,
          -37.8198853,
          -37.8256755,
          -37.817686,
          -37.8103235,
          -37.8147157,
          -37.8157484,
          -37.8123833,
          -37.814045,
          -37.8126201,
          -37.8013216,
          -37.8253884,
          -37.8141301,
          -37.8189215,
          -37.8244678,
          -37.8008011,
          -37.8016497,
          -37.815026,
          -37.8060043,
          -37.8054636,
          -37.8207552,
          -37.8079991,
          -37.8182368,
          -37.8230927,
          -37.8106277,
          -37.8054323,
          -37.8127191,
          -37.8038468,
          -37.823947,
          -37.8017388,
          -37.8188135,
          -37.8019703,
          -37.8047649,
          -37.8155951,
          -37.8176132,
          -37.8006194,
          -37.819329,
          -37.8024197,
          -37.8254016,
          -37.8127528,
          -37.8063005,
          -37.8074988,
          -37.8183099,
          -37.8094889,
          -37.8026405,
          -37.8025531,
          -37.8096417,
          -37.8233768,
          -37.8235063,
          -37.8019411,
          -37.8125849,
          -37.8203732,
          -37.8146893,
          -37.8193442,
          -37.8148243,
          -37.8045175,
          -37.802198,
          -37.8045436,
          -37.8100903,
          -37.8096284,
          -37.8187901,
          -37.8186293,
          -37.8131438,
          -37.820842,
          -37.8199587,
          -37.8063227,
          -37.8006466,
          -37.8071583,
          -37.8263393,
          -37.8062538,
          -37.8032475,
          -37.8012019,
          -37.8112736,
          -37.8056344,
          -37.821389,
          -37.8027408,
          -37.7914845,
          -37.8131796,
          -37.8128124,
          -37.8214422,
          -37.817826,
          -37.8174523,
          -37.8207881,
          -37.8192474,
          -37.8195758,
          -37.8020929,
          -37.818553,
          -37.821015,
          -37.8049082,
          -37.8003719,
          -37.8150464,
          -37.8136563,
          -37.8058336,
          -37.8075137,
          -37.8157195,
          -37.8243506,
          -37.8181279,
          -37.8072912,
          -37.7989897,
          -37.8246536,
          -37.8008617,
          -37.8151119,
          -37.8024922,
          -37.826394,
          -37.8093611,
          -37.8105357,
          -37.8211126,
          -37.8162225,
          -37.8081194,
          -37.8092623,
          -37.8007705,
          -37.8135412,
          -37.8181125,
          -37.8210654,
          -37.8088109,
          -37.8087002,
          -37.8102462,
          -37.8146899,
          -37.8182748,
          -37.8012547,
          -37.8061405,
          -37.8023661,
          -37.817826,
          -37.8209822,
          -37.818311,
          -37.8058582,
          -37.8184735,
          -37.8044309,
          -37.8019303,
          -37.8105551,
          -37.8132087,
          -37.8032857,
          -37.8142345,
          -37.8121827,
          -37.8002551,
          -37.8187778,
          -37.8065706,
          -37.8127164,
          -37.8192236,
          -37.8155991,
          -37.8126201,
          -37.8140787,
          -37.8014968,
          -37.8179311,
          -37.8206783,
          -37.8252835,
          -37.8117127,
          -37.808963,
          -37.8041173,
          -37.8048702,
          -37.8190572,
          -37.8000613,
          -37.8187231,
          -37.8083317,
          -37.8135027,
          -37.8158973,
          -37.8201111,
          -37.8119516,
          -37.815026,
          -37.8052239,
          -37.8010832,
          -37.8156977,
          -37.8203826,
          -37.803208,
          -37.8156647,
          -37.8137364,
          -37.0548666,
          -37.8254825,
          -37.8038748,
          -37.8074687,
          -37.8139812,
          -37.823736,
          -37.8126336,
          -37.8206252,
          -37.8001274,
          -37.8218441,
          -37.8196563,
          -37.803335,
          -37.8225159,
          -37.8211236,
          -37.8112924,
          -37.8215382,
          -37.8166074,
          -37.8173281,
          -37.8092558,
          -37.8092064,
          -37.8164844,
          -37.8229997,
          -37.8004687,
          -37.8118633,
          -37.8241038,
          -37.8012586,
          -37.8262599,
          -37.8015275,
          -37.805314,
          -37.8220278,
          -37.8090833,
          -37.8244678,
          -37.8078693,
          -37.8101023,
          -37.8169681,
          -37.8238772,
          -37.8043419,
          -37.8173149,
          -37.8176125,
          -37.8190869,
          -37.8223332,
          -37.8121475,
          -37.8152716,
          -37.8206574,
          -37.8042012,
          -37.8210664,
          -37.8235073,
          -37.8182207,
          -37.8074393,
          -37.8126977,
          -37.8197041,
          -37.808659,
          -37.821639,
          -37.8082928,
          -37.8198249,
          -37.801844,
          -37.8113898,
          -37.8185594,
          -37.8195942,
          -37.812587,
          -37.8134616,
          -37.8003644,
          -37.8127111,
          -37.8114704,
          -37.8241714,
          -37.8217368,
          -37.8040822,
          -37.8193638,
          -37.8198062,
          -37.8061546,
          -37.8064259,
          -37.810688,
          -37.802133,
          -37.8023916,
          -37.8164447,
          -37.8253564,
          -37.8080672,
          -37.8004308,
          -37.8105418,
          -37.8188878,
          -37.8162093,
          -37.8154693,
          -37.805979,
          -37.8200711,
          -37.812231
         ],
         "legendgroup": "",
         "lon": [
          144.9328434,
          144.9511178,
          144.9575809,
          144.9730729,
          144.9698923,
          145.0149442,
          144.9515704,
          145.0140735,
          144.9423368,
          145.0086784,
          144.9574109,
          144.9752775,
          144.9723672,
          144.9867964,
          144.9717294,
          144.9714122,
          144.9728744,
          144.9680205,
          145.0185951,
          144.992404,
          144.9638143,
          144.9942382,
          144.9605411,
          145.0104152,
          145.0166333,
          145.0117177,
          144.9636734,
          144.9513179,
          144.980577,
          144.9368632,
          144.9544519,
          144.9272705,
          144.9542763,
          145.007438,
          144.9636776,
          144.9654387,
          145.0134889,
          144.9528506,
          144.9519126,
          144.9739924,
          144.9560174,
          144.9454199,
          144.9907543,
          145.0163708,
          144.9374633,
          144.9550887,
          144.975339,
          145.0085819,
          144.9595749,
          144.9630777,
          144.9639248,
          144.9786566,
          145.0022771,
          144.9609388,
          145.0118159,
          145.0166183,
          145.0075865,
          144.9570706,
          144.963545,
          144.9589424,
          144.9707771,
          144.9706398,
          144.9619659,
          144.9777778,
          144.9690242,
          144.9835017,
          144.9516355,
          144.9842075,
          144.9554662,
          144.9630762,
          144.9632414,
          145.0001673,
          144.938431,
          144.9640738,
          144.9730313,
          144.9532845,
          144.9739868,
          145.0161351,
          144.9281069,
          144.9952241,
          144.9632047,
          145.0120941,
          144.9593275,
          144.9624821,
          144.9534781,
          144.9485174,
          145.0110143,
          144.9726914,
          144.9827307,
          144.9704567,
          144.9609023,
          144.9365521,
          145.0135513,
          144.9665714,
          145.0052383,
          144.9834904,
          144.9729476,
          144.9766338,
          144.9669823,
          144.9457072,
          144.9456191,
          144.9467214,
          145.0040415,
          144.9785671,
          144.9518402,
          144.987412,
          144.9763289,
          144.9903011,
          145.0120477,
          145.0093369,
          144.9651144,
          144.9445034,
          144.9995386,
          144.9745234,
          144.9426601,
          144.989861,
          144.9814779,
          144.988745,
          144.961298,
          144.9579614,
          144.9570842,
          144.9614999,
          144.9685203,
          144.9619223,
          144.9537162,
          144.9621506,
          144.972628,
          144.9452766,
          144.9826774,
          145.0194326,
          145.0144456,
          144.9450349,
          144.9666375,
          144.9353777,
          144.9833648,
          144.938349,
          145.0198375,
          144.9840358,
          145.0038283,
          144.9859039,
          144.9994885,
          145.0039589,
          145.0146498,
          144.9634694,
          144.9889123,
          144.9735827,
          145.0141013,
          144.9380617,
          145.0170324,
          144.9475744,
          144.9460673,
          145.0122973,
          144.9602405,
          144.9679761,
          144.979064,
          144.9402147,
          144.9855861,
          144.9617555,
          144.9582671,
          144.9867456,
          144.9577337,
          144.9729558,
          144.9669715,
          144.9851161,
          144.9520099,
          144.9808725,
          144.9727182,
          145.0055785,
          144.9632906,
          144.9400828,
          145.0058842,
          144.984733,
          144.9389462,
          144.9882562,
          144.9634453,
          144.9705524,
          144.9500493,
          144.9500603,
          144.9698135,
          144.9584,
          144.9577029,
          144.9334506,
          144.9688707,
          144.9740097,
          144.9440946,
          144.9454319,
          144.9926783,
          144.9785723,
          144.946302,
          144.9499644,
          144.9904296,
          144.9497761,
          144.963764,
          144.936364,
          144.9695353,
          144.9490826,
          144.9560719,
          145.0159049,
          144.9275311,
          144.9270956,
          144.99459,
          144.9567953,
          144.9633614,
          144.9249672,
          145.0089471,
          144.9803506,
          144.9724814,
          144.9534946,
          144.9661838,
          144.9690426,
          144.9650779,
          144.9979215,
          144.9662605,
          144.9530079,
          144.9400839,
          145.0091263,
          144.9620705,
          144.9396343,
          144.965171,
          145.0010984,
          145.0153092,
          144.949235,
          144.9548983,
          144.9565472,
          144.953491,
          144.9874269,
          144.9608825,
          144.9572258,
          144.9333753,
          144.9480634,
          144.9732055,
          144.9961532,
          144.9379385,
          144.9775804,
          144.9696279,
          144.9568527,
          144.9648389,
          144.9543146,
          144.9574225,
          144.9641165,
          144.9584927,
          144.9326798,
          144.9580329,
          144.9591096,
          145.0102248,
          144.9611237,
          144.934978,
          145.0142044,
          144.9374607,
          144.9416009,
          144.9421199,
          144.9669939,
          144.9679925,
          144.9577484,
          144.9565899,
          144.971036,
          144.969933,
          144.9675756,
          144.9487068,
          145.0155287,
          144.9793657,
          144.9504304,
          144.9320883,
          144.9376494,
          144.9694499,
          144.9604986,
          144.9487414,
          144.9785812,
          144.9725683,
          144.9529565,
          145.0039008,
          144.9553881,
          144.9695038,
          145.0127352,
          144.9594192,
          144.9357718,
          144.9749101,
          144.9859063,
          144.9417001,
          144.9890489,
          144.9699293,
          144.9729621,
          144.9668635,
          144.9839684,
          144.9734085,
          144.9367602,
          144.9515325,
          144.9657905,
          144.9580457,
          144.9923277,
          144.9459675,
          144.979309,
          144.9610481,
          144.9632486,
          144.9795497,
          144.9678922,
          144.9771755,
          144.9468264,
          144.9752763,
          144.9718458,
          144.9612615,
          145.0195185,
          144.9879565,
          144.9371449,
          144.9438143,
          144.9485845,
          144.9444704,
          144.9667971,
          144.9547414,
          144.9608163,
          144.9612114,
          144.9809522,
          145.0194182,
          144.9645195,
          144.9593008,
          144.9472811,
          144.9383605,
          144.9731848,
          144.9838244,
          144.9574101,
          144.9426636,
          144.9486411,
          144.9664847,
          144.9831656,
          144.9566447,
          144.9613499,
          144.9690651,
          144.9755146,
          144.9626936,
          144.9449158,
          144.9620569,
          144.9923277,
          144.9845129,
          145.0043774,
          145.0183945,
          144.9486815,
          144.9624253,
          144.9572928,
          145.0006641,
          144.9903708,
          144.9502708,
          144.9637244,
          144.9697962,
          144.9509615,
          144.9528494,
          144.9449806,
          144.9429385,
          144.9611303,
          144.9622488,
          144.965171,
          144.9641242,
          144.9548846,
          144.9673941,
          144.9793054,
          145.011873,
          144.9716148,
          144.9489466,
          144.9479909,
          144.961308,
          144.9614507,
          144.9611656,
          145.0037836,
          144.9547551,
          144.9656729,
          144.964698,
          144.9684911,
          144.9860757,
          144.9608825,
          145.0165925,
          144.9637813,
          144.9582655,
          144.9820358,
          144.9738755,
          144.9979117,
          144.936811,
          144.9344702,
          144.9962161,
          145.015497,
          144.9708683,
          144.971284,
          144.9761444,
          144.937464,
          144.9822383,
          144.98119,
          145.0153367,
          144.9716825,
          144.9899256,
          144.9477823,
          144.9549655,
          144.9637186,
          144.9671453,
          145.0056193,
          144.990782,
          144.9915114,
          144.9606935,
          144.9442059,
          144.9644869,
          144.9807587,
          144.9638606,
          144.9905894,
          145.0051308,
          144.9288674,
          144.9622044,
          144.9416774,
          144.9475811,
          145.0116283,
          144.9565472,
          144.9919205,
          144.9641327,
          144.9901651,
          144.981668,
          144.9488589,
          144.9688801,
          145.0108561,
          144.9821753,
          144.9969724,
          144.9737734,
          144.9523118,
          144.9411965,
          144.9279658,
          144.9440588,
          144.9398909,
          144.9433514,
          144.9670156,
          144.990166,
          145.0144204,
          144.9493715,
          144.9450746,
          144.9766195,
          144.9954347,
          144.9813581,
          144.9714697,
          144.9991529,
          144.9901822,
          144.965275,
          144.944369,
          144.9792888,
          144.9688045,
          144.9375319,
          144.9537569,
          144.9306951,
          145.0052811,
          144.9902238,
          145.0016147,
          144.9583045,
          144.9439917,
          144.9855034,
          145.0041449,
          144.9981578,
          144.9458051,
          144.9462415,
          144.9692183,
          145.0095141,
          144.9720184,
          144.9538868,
          144.9640567,
          144.9680827,
          144.9661013,
          144.9844351,
          144.9886793
         ],
         "marker": {
          "color": "DarkRed"
         },
         "mode": "markers",
         "name": "",
         "showlegend": false,
         "subplot": "mapbox",
         "type": "scattermapbox"
        }
       ],
       "layout": {
        "legend": {
         "tracegroupgap": 0
        },
        "mapbox": {
         "center": {
          "lat": -37.5,
          "lon": 145
         },
         "domain": {
          "x": [
           0,
           1
          ],
          "y": [
           0,
           1
          ]
         },
         "style": "open-street-map",
         "zoom": 7
        },
        "margin": {
         "b": 0,
         "l": 0,
         "r": 500,
         "t": 0
        },
        "template": {
         "data": {
          "bar": [
           {
            "error_x": {
             "color": "#2a3f5f"
            },
            "error_y": {
             "color": "#2a3f5f"
            },
            "marker": {
             "line": {
              "color": "#E5ECF6",
              "width": 0.5
             },
             "pattern": {
              "fillmode": "overlay",
              "size": 10,
              "solidity": 0.2
             }
            },
            "type": "bar"
           }
          ],
          "barpolar": [
           {
            "marker": {
             "line": {
              "color": "#E5ECF6",
              "width": 0.5
             },
             "pattern": {
              "fillmode": "overlay",
              "size": 10,
              "solidity": 0.2
             }
            },
            "type": "barpolar"
           }
          ],
          "carpet": [
           {
            "aaxis": {
             "endlinecolor": "#2a3f5f",
             "gridcolor": "white",
             "linecolor": "white",
             "minorgridcolor": "white",
             "startlinecolor": "#2a3f5f"
            },
            "baxis": {
             "endlinecolor": "#2a3f5f",
             "gridcolor": "white",
             "linecolor": "white",
             "minorgridcolor": "white",
             "startlinecolor": "#2a3f5f"
            },
            "type": "carpet"
           }
          ],
          "choropleth": [
           {
            "colorbar": {
             "outlinewidth": 0,
             "ticks": ""
            },
            "type": "choropleth"
           }
          ],
          "contour": [
           {
            "colorbar": {
             "outlinewidth": 0,
             "ticks": ""
            },
            "colorscale": [
             [
              0,
              "#0d0887"
             ],
             [
              0.1111111111111111,
              "#46039f"
             ],
             [
              0.2222222222222222,
              "#7201a8"
             ],
             [
              0.3333333333333333,
              "#9c179e"
             ],
             [
              0.4444444444444444,
              "#bd3786"
             ],
             [
              0.5555555555555556,
              "#d8576b"
             ],
             [
              0.6666666666666666,
              "#ed7953"
             ],
             [
              0.7777777777777778,
              "#fb9f3a"
             ],
             [
              0.8888888888888888,
              "#fdca26"
             ],
             [
              1,
              "#f0f921"
             ]
            ],
            "type": "contour"
           }
          ],
          "contourcarpet": [
           {
            "colorbar": {
             "outlinewidth": 0,
             "ticks": ""
            },
            "type": "contourcarpet"
           }
          ],
          "heatmap": [
           {
            "colorbar": {
             "outlinewidth": 0,
             "ticks": ""
            },
            "colorscale": [
             [
              0,
              "#0d0887"
             ],
             [
              0.1111111111111111,
              "#46039f"
             ],
             [
              0.2222222222222222,
              "#7201a8"
             ],
             [
              0.3333333333333333,
              "#9c179e"
             ],
             [
              0.4444444444444444,
              "#bd3786"
             ],
             [
              0.5555555555555556,
              "#d8576b"
             ],
             [
              0.6666666666666666,
              "#ed7953"
             ],
             [
              0.7777777777777778,
              "#fb9f3a"
             ],
             [
              0.8888888888888888,
              "#fdca26"
             ],
             [
              1,
              "#f0f921"
             ]
            ],
            "type": "heatmap"
           }
          ],
          "heatmapgl": [
           {
            "colorbar": {
             "outlinewidth": 0,
             "ticks": ""
            },
            "colorscale": [
             [
              0,
              "#0d0887"
             ],
             [
              0.1111111111111111,
              "#46039f"
             ],
             [
              0.2222222222222222,
              "#7201a8"
             ],
             [
              0.3333333333333333,
              "#9c179e"
             ],
             [
              0.4444444444444444,
              "#bd3786"
             ],
             [
              0.5555555555555556,
              "#d8576b"
             ],
             [
              0.6666666666666666,
              "#ed7953"
             ],
             [
              0.7777777777777778,
              "#fb9f3a"
             ],
             [
              0.8888888888888888,
              "#fdca26"
             ],
             [
              1,
              "#f0f921"
             ]
            ],
            "type": "heatmapgl"
           }
          ],
          "histogram": [
           {
            "marker": {
             "pattern": {
              "fillmode": "overlay",
              "size": 10,
              "solidity": 0.2
             }
            },
            "type": "histogram"
           }
          ],
          "histogram2d": [
           {
            "colorbar": {
             "outlinewidth": 0,
             "ticks": ""
            },
            "colorscale": [
             [
              0,
              "#0d0887"
             ],
             [
              0.1111111111111111,
              "#46039f"
             ],
             [
              0.2222222222222222,
              "#7201a8"
             ],
             [
              0.3333333333333333,
              "#9c179e"
             ],
             [
              0.4444444444444444,
              "#bd3786"
             ],
             [
              0.5555555555555556,
              "#d8576b"
             ],
             [
              0.6666666666666666,
              "#ed7953"
             ],
             [
              0.7777777777777778,
              "#fb9f3a"
             ],
             [
              0.8888888888888888,
              "#fdca26"
             ],
             [
              1,
              "#f0f921"
             ]
            ],
            "type": "histogram2d"
           }
          ],
          "histogram2dcontour": [
           {
            "colorbar": {
             "outlinewidth": 0,
             "ticks": ""
            },
            "colorscale": [
             [
              0,
              "#0d0887"
             ],
             [
              0.1111111111111111,
              "#46039f"
             ],
             [
              0.2222222222222222,
              "#7201a8"
             ],
             [
              0.3333333333333333,
              "#9c179e"
             ],
             [
              0.4444444444444444,
              "#bd3786"
             ],
             [
              0.5555555555555556,
              "#d8576b"
             ],
             [
              0.6666666666666666,
              "#ed7953"
             ],
             [
              0.7777777777777778,
              "#fb9f3a"
             ],
             [
              0.8888888888888888,
              "#fdca26"
             ],
             [
              1,
              "#f0f921"
             ]
            ],
            "type": "histogram2dcontour"
           }
          ],
          "mesh3d": [
           {
            "colorbar": {
             "outlinewidth": 0,
             "ticks": ""
            },
            "type": "mesh3d"
           }
          ],
          "parcoords": [
           {
            "line": {
             "colorbar": {
              "outlinewidth": 0,
              "ticks": ""
             }
            },
            "type": "parcoords"
           }
          ],
          "pie": [
           {
            "automargin": true,
            "type": "pie"
           }
          ],
          "scatter": [
           {
            "marker": {
             "colorbar": {
              "outlinewidth": 0,
              "ticks": ""
             }
            },
            "type": "scatter"
           }
          ],
          "scatter3d": [
           {
            "line": {
             "colorbar": {
              "outlinewidth": 0,
              "ticks": ""
             }
            },
            "marker": {
             "colorbar": {
              "outlinewidth": 0,
              "ticks": ""
             }
            },
            "type": "scatter3d"
           }
          ],
          "scattercarpet": [
           {
            "marker": {
             "colorbar": {
              "outlinewidth": 0,
              "ticks": ""
             }
            },
            "type": "scattercarpet"
           }
          ],
          "scattergeo": [
           {
            "marker": {
             "colorbar": {
              "outlinewidth": 0,
              "ticks": ""
             }
            },
            "type": "scattergeo"
           }
          ],
          "scattergl": [
           {
            "marker": {
             "colorbar": {
              "outlinewidth": 0,
              "ticks": ""
             }
            },
            "type": "scattergl"
           }
          ],
          "scattermapbox": [
           {
            "marker": {
             "colorbar": {
              "outlinewidth": 0,
              "ticks": ""
             }
            },
            "type": "scattermapbox"
           }
          ],
          "scatterpolar": [
           {
            "marker": {
             "colorbar": {
              "outlinewidth": 0,
              "ticks": ""
             }
            },
            "type": "scatterpolar"
           }
          ],
          "scatterpolargl": [
           {
            "marker": {
             "colorbar": {
              "outlinewidth": 0,
              "ticks": ""
             }
            },
            "type": "scatterpolargl"
           }
          ],
          "scatterternary": [
           {
            "marker": {
             "colorbar": {
              "outlinewidth": 0,
              "ticks": ""
             }
            },
            "type": "scatterternary"
           }
          ],
          "surface": [
           {
            "colorbar": {
             "outlinewidth": 0,
             "ticks": ""
            },
            "colorscale": [
             [
              0,
              "#0d0887"
             ],
             [
              0.1111111111111111,
              "#46039f"
             ],
             [
              0.2222222222222222,
              "#7201a8"
             ],
             [
              0.3333333333333333,
              "#9c179e"
             ],
             [
              0.4444444444444444,
              "#bd3786"
             ],
             [
              0.5555555555555556,
              "#d8576b"
             ],
             [
              0.6666666666666666,
              "#ed7953"
             ],
             [
              0.7777777777777778,
              "#fb9f3a"
             ],
             [
              0.8888888888888888,
              "#fdca26"
             ],
             [
              1,
              "#f0f921"
             ]
            ],
            "type": "surface"
           }
          ],
          "table": [
           {
            "cells": {
             "fill": {
              "color": "#EBF0F8"
             },
             "line": {
              "color": "white"
             }
            },
            "header": {
             "fill": {
              "color": "#C8D4E3"
             },
             "line": {
              "color": "white"
             }
            },
            "type": "table"
           }
          ]
         },
         "layout": {
          "annotationdefaults": {
           "arrowcolor": "#2a3f5f",
           "arrowhead": 0,
           "arrowwidth": 1
          },
          "autotypenumbers": "strict",
          "coloraxis": {
           "colorbar": {
            "outlinewidth": 0,
            "ticks": ""
           }
          },
          "colorscale": {
           "diverging": [
            [
             0,
             "#8e0152"
            ],
            [
             0.1,
             "#c51b7d"
            ],
            [
             0.2,
             "#de77ae"
            ],
            [
             0.3,
             "#f1b6da"
            ],
            [
             0.4,
             "#fde0ef"
            ],
            [
             0.5,
             "#f7f7f7"
            ],
            [
             0.6,
             "#e6f5d0"
            ],
            [
             0.7,
             "#b8e186"
            ],
            [
             0.8,
             "#7fbc41"
            ],
            [
             0.9,
             "#4d9221"
            ],
            [
             1,
             "#276419"
            ]
           ],
           "sequential": [
            [
             0,
             "#0d0887"
            ],
            [
             0.1111111111111111,
             "#46039f"
            ],
            [
             0.2222222222222222,
             "#7201a8"
            ],
            [
             0.3333333333333333,
             "#9c179e"
            ],
            [
             0.4444444444444444,
             "#bd3786"
            ],
            [
             0.5555555555555556,
             "#d8576b"
            ],
            [
             0.6666666666666666,
             "#ed7953"
            ],
            [
             0.7777777777777778,
             "#fb9f3a"
            ],
            [
             0.8888888888888888,
             "#fdca26"
            ],
            [
             1,
             "#f0f921"
            ]
           ],
           "sequentialminus": [
            [
             0,
             "#0d0887"
            ],
            [
             0.1111111111111111,
             "#46039f"
            ],
            [
             0.2222222222222222,
             "#7201a8"
            ],
            [
             0.3333333333333333,
             "#9c179e"
            ],
            [
             0.4444444444444444,
             "#bd3786"
            ],
            [
             0.5555555555555556,
             "#d8576b"
            ],
            [
             0.6666666666666666,
             "#ed7953"
            ],
            [
             0.7777777777777778,
             "#fb9f3a"
            ],
            [
             0.8888888888888888,
             "#fdca26"
            ],
            [
             1,
             "#f0f921"
            ]
           ]
          },
          "colorway": [
           "#636efa",
           "#EF553B",
           "#00cc96",
           "#ab63fa",
           "#FFA15A",
           "#19d3f3",
           "#FF6692",
           "#B6E880",
           "#FF97FF",
           "#FECB52"
          ],
          "font": {
           "color": "#2a3f5f"
          },
          "geo": {
           "bgcolor": "white",
           "lakecolor": "white",
           "landcolor": "#E5ECF6",
           "showlakes": true,
           "showland": true,
           "subunitcolor": "white"
          },
          "hoverlabel": {
           "align": "left"
          },
          "hovermode": "closest",
          "mapbox": {
           "style": "light"
          },
          "paper_bgcolor": "white",
          "plot_bgcolor": "#E5ECF6",
          "polar": {
           "angularaxis": {
            "gridcolor": "white",
            "linecolor": "white",
            "ticks": ""
           },
           "bgcolor": "#E5ECF6",
           "radialaxis": {
            "gridcolor": "white",
            "linecolor": "white",
            "ticks": ""
           }
          },
          "scene": {
           "xaxis": {
            "backgroundcolor": "#E5ECF6",
            "gridcolor": "white",
            "gridwidth": 2,
            "linecolor": "white",
            "showbackground": true,
            "ticks": "",
            "zerolinecolor": "white"
           },
           "yaxis": {
            "backgroundcolor": "#E5ECF6",
            "gridcolor": "white",
            "gridwidth": 2,
            "linecolor": "white",
            "showbackground": true,
            "ticks": "",
            "zerolinecolor": "white"
           },
           "zaxis": {
            "backgroundcolor": "#E5ECF6",
            "gridcolor": "white",
            "gridwidth": 2,
            "linecolor": "white",
            "showbackground": true,
            "ticks": "",
            "zerolinecolor": "white"
           }
          },
          "shapedefaults": {
           "line": {
            "color": "#2a3f5f"
           }
          },
          "ternary": {
           "aaxis": {
            "gridcolor": "white",
            "linecolor": "white",
            "ticks": ""
           },
           "baxis": {
            "gridcolor": "white",
            "linecolor": "white",
            "ticks": ""
           },
           "bgcolor": "#E5ECF6",
           "caxis": {
            "gridcolor": "white",
            "linecolor": "white",
            "ticks": ""
           }
          },
          "title": {
           "x": 0.05
          },
          "xaxis": {
           "automargin": true,
           "gridcolor": "white",
           "linecolor": "white",
           "ticks": "",
           "title": {
            "standoff": 15
           },
           "zerolinecolor": "white",
           "zerolinewidth": 2
          },
          "yaxis": {
           "automargin": true,
           "gridcolor": "white",
           "linecolor": "white",
           "ticks": "",
           "title": {
            "standoff": 15
           },
           "zerolinecolor": "white",
           "zerolinewidth": 2
          }
         }
        }
       }
      },
      "text/html": [
       "<div>                            <div id=\"6c63cd87-252b-4570-9b52-2648a18b7a9a\" class=\"plotly-graph-div\" style=\"height:525px; width:100%;\"></div>            <script type=\"text/javascript\">                require([\"plotly\"], function(Plotly) {                    window.PLOTLYENV=window.PLOTLYENV || {};                                    if (document.getElementById(\"6c63cd87-252b-4570-9b52-2648a18b7a9a\")) {                    Plotly.newPlot(                        \"6c63cd87-252b-4570-9b52-2648a18b7a9a\",                        [{\"hovertemplate\":\"customer_lat=%{lat}<br>customer_long=%{lon}<extra></extra>\",\"lat\":[-37.8151052,-37.8027362,-37.8213016,-37.8114157,-37.8238586,-37.8202452,-37.8077429,-37.8108099,-37.808675,-37.8113336,-37.8202279,-37.8161657,-37.8094626,-37.8081254,-37.8042307,-37.8141139,-37.8091799,-37.8149171,-37.809311,-37.8028178,-37.8095956,-37.8069808,-37.7995959,-37.813288,-37.802871,-37.8200704,-37.812004,-37.8253426,-37.8201805,-37.791144,-37.8076815,-37.7998828,-37.8069542,-37.8032831,-37.8095947,-37.8140167,-37.8119347,-37.8040253,-37.8122134,-37.8121368,-37.8068782,-37.7990648,-37.8217934,-37.8240667,-37.8125043,-37.8210844,-37.8153678,-37.8113389,-37.8096114,-37.0266563,-37.8214213,-37.8221851,-37.8041871,-37.8080577,-37.8147977,-37.8108227,-37.8039824,-37.8020319,-37.8146744,-37.8068633,-37.8207167,-37.8179057,-37.8144836,-37.8023255,-37.8248015,-37.8260331,-37.798879,-37.024913,-37.8062244,-37.8021972,-37.8125018,-37.8085633,-37.807841,-37.8204423,-37.8176138,-37.818841,-37.8121236,-37.8144221,-37.8029953,-37.0916265,-37.8017591,-37.8009524,-37.808393,-37.818926,-37.8113504,-37.8004553,-37.8126057,-37.8103989,-37.7987935,-37.8154546,-37.8091486,-37.8122336,-37.8154669,-37.8228607,-37.8185923,-37.808839,-37.8069927,-37.8233794,-37.8201199,-37.8012858,-37.8214382,-37.8190391,-37.8173222,-37.8233588,-37.81703,-37.8053812,-37.809841,-37.8097225,-37.811881,-37.822806,-37.8182266,-37.8061754,-37.8061658,-37.8050795,-37.8126709,-37.8175356,-37.8233446,-37.8244324,-37.8216013,-37.799787,-37.8161151,-37.8064775,-37.8219224,-37.8129752,-37.8087165,-37.8178333,-37.8095278,-37.8155841,-37.8082783,-37.8076984,-37.8203432,-37.8149433,-37.8165753,-37.7995098,-37.8041347,-37.8160065,-37.8133042,-37.8242254,-37.8180481,-37.8165205,-37.8168076,-37.8027598,-37.8143832,-37.8152578,-37.8150707,-37.8126386,-37.8228581,-37.7891185,-37.8127283,-37.8239148,-37.8047366,-37.8114445,-37.8149718,-37.8127114,-37.8203616,-37.8127256,-37.8135169,-37.8138985,-37.8157863,-37.8155823,-37.8198852,-37.808701,-37.8113458,-37.8271233,-37.8064367,-37.8235366,-37.8094704,-37.806973,-37.8141653,-37.807684,-37.0449963,-37.814102,-37.8130127,-37.8047344,-37.8024492,-37.8049554,-37.8043182,-37.8032642,-37.8245985,-37.8200867,-37.8101542,-37.8223226,-37.8177896,-37.8125168,-37.8243601,-37.8084337,-37.8096666,-37.8016545,-37.8030333,-37.8036771,-37.8109126,-37.8033989,-37.8094864,-37.80348,-37.8040317,-37.8070107,-37.8235722,-37.8240565,-37.8149579,-37.8148259,-37.8184877,-37.8252348,-37.0201952,-37.8049802,-37.8165343,-37.80231,-37.8158463,-37.0645635,-37.8055127,-37.814639,-37.8198853,-37.8256755,-37.817686,-37.8103235,-37.8147157,-37.8157484,-37.8123833,-37.814045,-37.8126201,-37.8013216,-37.8253884,-37.8141301,-37.8189215,-37.8244678,-37.8008011,-37.8016497,-37.815026,-37.8060043,-37.8054636,-37.8207552,-37.8079991,-37.8182368,-37.8230927,-37.8106277,-37.8054323,-37.8127191,-37.8038468,-37.823947,-37.8017388,-37.8188135,-37.8019703,-37.8047649,-37.8155951,-37.8176132,-37.8006194,-37.819329,-37.8024197,-37.8254016,-37.8127528,-37.8063005,-37.8074988,-37.8183099,-37.8094889,-37.8026405,-37.8025531,-37.8096417,-37.8233768,-37.8235063,-37.8019411,-37.8125849,-37.8203732,-37.8146893,-37.8193442,-37.8148243,-37.8045175,-37.802198,-37.8045436,-37.8100903,-37.8096284,-37.8187901,-37.8186293,-37.8131438,-37.820842,-37.8199587,-37.8063227,-37.8006466,-37.8071583,-37.8263393,-37.8062538,-37.8032475,-37.8012019,-37.8112736,-37.8056344,-37.821389,-37.8027408,-37.7914845,-37.8131796,-37.8128124,-37.8214422,-37.817826,-37.8174523,-37.8207881,-37.8192474,-37.8195758,-37.8020929,-37.818553,-37.821015,-37.8049082,-37.8003719,-37.8150464,-37.8136563,-37.8058336,-37.8075137,-37.8157195,-37.8243506,-37.8181279,-37.8072912,-37.7989897,-37.8246536,-37.8008617,-37.8151119,-37.8024922,-37.826394,-37.8093611,-37.8105357,-37.8211126,-37.8162225,-37.8081194,-37.8092623,-37.8007705,-37.8135412,-37.8181125,-37.8210654,-37.8088109,-37.8087002,-37.8102462,-37.8146899,-37.8182748,-37.8012547,-37.8061405,-37.8023661,-37.817826,-37.8209822,-37.818311,-37.8058582,-37.8184735,-37.8044309,-37.8019303,-37.8105551,-37.8132087,-37.8032857,-37.8142345,-37.8121827,-37.8002551,-37.8187778,-37.8065706,-37.8127164,-37.8192236,-37.8155991,-37.8126201,-37.8140787,-37.8014968,-37.8179311,-37.8206783,-37.8252835,-37.8117127,-37.808963,-37.8041173,-37.8048702,-37.8190572,-37.8000613,-37.8187231,-37.8083317,-37.8135027,-37.8158973,-37.8201111,-37.8119516,-37.815026,-37.8052239,-37.8010832,-37.8156977,-37.8203826,-37.803208,-37.8156647,-37.8137364,-37.0548666,-37.8254825,-37.8038748,-37.8074687,-37.8139812,-37.823736,-37.8126336,-37.8206252,-37.8001274,-37.8218441,-37.8196563,-37.803335,-37.8225159,-37.8211236,-37.8112924,-37.8215382,-37.8166074,-37.8173281,-37.8092558,-37.8092064,-37.8164844,-37.8229997,-37.8004687,-37.8118633,-37.8241038,-37.8012586,-37.8262599,-37.8015275,-37.805314,-37.8220278,-37.8090833,-37.8244678,-37.8078693,-37.8101023,-37.8169681,-37.8238772,-37.8043419,-37.8173149,-37.8176125,-37.8190869,-37.8223332,-37.8121475,-37.8152716,-37.8206574,-37.8042012,-37.8210664,-37.8235073,-37.8182207,-37.8074393,-37.8126977,-37.8197041,-37.808659,-37.821639,-37.8082928,-37.8198249,-37.801844,-37.8113898,-37.8185594,-37.8195942,-37.812587,-37.8134616,-37.8003644,-37.8127111,-37.8114704,-37.8241714,-37.8217368,-37.8040822,-37.8193638,-37.8198062,-37.8061546,-37.8064259,-37.810688,-37.802133,-37.8023916,-37.8164447,-37.8253564,-37.8080672,-37.8004308,-37.8105418,-37.8188878,-37.8162093,-37.8154693,-37.805979,-37.8200711,-37.812231],\"legendgroup\":\"\",\"lon\":[144.9328434,144.9511178,144.9575809,144.9730729,144.9698923,145.0149442,144.9515704,145.0140735,144.9423368,145.0086784,144.9574109,144.9752775,144.9723672,144.9867964,144.9717294,144.9714122,144.9728744,144.9680205,145.0185951,144.992404,144.9638143,144.9942382,144.9605411,145.0104152,145.0166333,145.0117177,144.9636734,144.9513179,144.980577,144.9368632,144.9544519,144.9272705,144.9542763,145.007438,144.9636776,144.9654387,145.0134889,144.9528506,144.9519126,144.9739924,144.9560174,144.9454199,144.9907543,145.0163708,144.9374633,144.9550887,144.975339,145.0085819,144.9595749,144.9630777,144.9639248,144.9786566,145.0022771,144.9609388,145.0118159,145.0166183,145.0075865,144.9570706,144.963545,144.9589424,144.9707771,144.9706398,144.9619659,144.9777778,144.9690242,144.9835017,144.9516355,144.9842075,144.9554662,144.9630762,144.9632414,145.0001673,144.938431,144.9640738,144.9730313,144.9532845,144.9739868,145.0161351,144.9281069,144.9952241,144.9632047,145.0120941,144.9593275,144.9624821,144.9534781,144.9485174,145.0110143,144.9726914,144.9827307,144.9704567,144.9609023,144.9365521,145.0135513,144.9665714,145.0052383,144.9834904,144.9729476,144.9766338,144.9669823,144.9457072,144.9456191,144.9467214,145.0040415,144.9785671,144.9518402,144.987412,144.9763289,144.9903011,145.0120477,145.0093369,144.9651144,144.9445034,144.9995386,144.9745234,144.9426601,144.989861,144.9814779,144.988745,144.961298,144.9579614,144.9570842,144.9614999,144.9685203,144.9619223,144.9537162,144.9621506,144.972628,144.9452766,144.9826774,145.0194326,145.0144456,144.9450349,144.9666375,144.9353777,144.9833648,144.938349,145.0198375,144.9840358,145.0038283,144.9859039,144.9994885,145.0039589,145.0146498,144.9634694,144.9889123,144.9735827,145.0141013,144.9380617,145.0170324,144.9475744,144.9460673,145.0122973,144.9602405,144.9679761,144.979064,144.9402147,144.9855861,144.9617555,144.9582671,144.9867456,144.9577337,144.9729558,144.9669715,144.9851161,144.9520099,144.9808725,144.9727182,145.0055785,144.9632906,144.9400828,145.0058842,144.984733,144.9389462,144.9882562,144.9634453,144.9705524,144.9500493,144.9500603,144.9698135,144.9584,144.9577029,144.9334506,144.9688707,144.9740097,144.9440946,144.9454319,144.9926783,144.9785723,144.946302,144.9499644,144.9904296,144.9497761,144.963764,144.936364,144.9695353,144.9490826,144.9560719,145.0159049,144.9275311,144.9270956,144.99459,144.9567953,144.9633614,144.9249672,145.0089471,144.9803506,144.9724814,144.9534946,144.9661838,144.9690426,144.9650779,144.9979215,144.9662605,144.9530079,144.9400839,145.0091263,144.9620705,144.9396343,144.965171,145.0010984,145.0153092,144.949235,144.9548983,144.9565472,144.953491,144.9874269,144.9608825,144.9572258,144.9333753,144.9480634,144.9732055,144.9961532,144.9379385,144.9775804,144.9696279,144.9568527,144.9648389,144.9543146,144.9574225,144.9641165,144.9584927,144.9326798,144.9580329,144.9591096,145.0102248,144.9611237,144.934978,145.0142044,144.9374607,144.9416009,144.9421199,144.9669939,144.9679925,144.9577484,144.9565899,144.971036,144.969933,144.9675756,144.9487068,145.0155287,144.9793657,144.9504304,144.9320883,144.9376494,144.9694499,144.9604986,144.9487414,144.9785812,144.9725683,144.9529565,145.0039008,144.9553881,144.9695038,145.0127352,144.9594192,144.9357718,144.9749101,144.9859063,144.9417001,144.9890489,144.9699293,144.9729621,144.9668635,144.9839684,144.9734085,144.9367602,144.9515325,144.9657905,144.9580457,144.9923277,144.9459675,144.979309,144.9610481,144.9632486,144.9795497,144.9678922,144.9771755,144.9468264,144.9752763,144.9718458,144.9612615,145.0195185,144.9879565,144.9371449,144.9438143,144.9485845,144.9444704,144.9667971,144.9547414,144.9608163,144.9612114,144.9809522,145.0194182,144.9645195,144.9593008,144.9472811,144.9383605,144.9731848,144.9838244,144.9574101,144.9426636,144.9486411,144.9664847,144.9831656,144.9566447,144.9613499,144.9690651,144.9755146,144.9626936,144.9449158,144.9620569,144.9923277,144.9845129,145.0043774,145.0183945,144.9486815,144.9624253,144.9572928,145.0006641,144.9903708,144.9502708,144.9637244,144.9697962,144.9509615,144.9528494,144.9449806,144.9429385,144.9611303,144.9622488,144.965171,144.9641242,144.9548846,144.9673941,144.9793054,145.011873,144.9716148,144.9489466,144.9479909,144.961308,144.9614507,144.9611656,145.0037836,144.9547551,144.9656729,144.964698,144.9684911,144.9860757,144.9608825,145.0165925,144.9637813,144.9582655,144.9820358,144.9738755,144.9979117,144.936811,144.9344702,144.9962161,145.015497,144.9708683,144.971284,144.9761444,144.937464,144.9822383,144.98119,145.0153367,144.9716825,144.9899256,144.9477823,144.9549655,144.9637186,144.9671453,145.0056193,144.990782,144.9915114,144.9606935,144.9442059,144.9644869,144.9807587,144.9638606,144.9905894,145.0051308,144.9288674,144.9622044,144.9416774,144.9475811,145.0116283,144.9565472,144.9919205,144.9641327,144.9901651,144.981668,144.9488589,144.9688801,145.0108561,144.9821753,144.9969724,144.9737734,144.9523118,144.9411965,144.9279658,144.9440588,144.9398909,144.9433514,144.9670156,144.990166,145.0144204,144.9493715,144.9450746,144.9766195,144.9954347,144.9813581,144.9714697,144.9991529,144.9901822,144.965275,144.944369,144.9792888,144.9688045,144.9375319,144.9537569,144.9306951,145.0052811,144.9902238,145.0016147,144.9583045,144.9439917,144.9855034,145.0041449,144.9981578,144.9458051,144.9462415,144.9692183,145.0095141,144.9720184,144.9538868,144.9640567,144.9680827,144.9661013,144.9844351,144.9886793],\"marker\":{\"color\":\"DarkRed\"},\"mode\":\"markers\",\"name\":\"\",\"showlegend\":false,\"subplot\":\"mapbox\",\"type\":\"scattermapbox\"}],                        {\"template\":{\"data\":{\"bar\":[{\"error_x\":{\"color\":\"#2a3f5f\"},\"error_y\":{\"color\":\"#2a3f5f\"},\"marker\":{\"line\":{\"color\":\"#E5ECF6\",\"width\":0.5},\"pattern\":{\"fillmode\":\"overlay\",\"size\":10,\"solidity\":0.2}},\"type\":\"bar\"}],\"barpolar\":[{\"marker\":{\"line\":{\"color\":\"#E5ECF6\",\"width\":0.5},\"pattern\":{\"fillmode\":\"overlay\",\"size\":10,\"solidity\":0.2}},\"type\":\"barpolar\"}],\"carpet\":[{\"aaxis\":{\"endlinecolor\":\"#2a3f5f\",\"gridcolor\":\"white\",\"linecolor\":\"white\",\"minorgridcolor\":\"white\",\"startlinecolor\":\"#2a3f5f\"},\"baxis\":{\"endlinecolor\":\"#2a3f5f\",\"gridcolor\":\"white\",\"linecolor\":\"white\",\"minorgridcolor\":\"white\",\"startlinecolor\":\"#2a3f5f\"},\"type\":\"carpet\"}],\"choropleth\":[{\"colorbar\":{\"outlinewidth\":0,\"ticks\":\"\"},\"type\":\"choropleth\"}],\"contour\":[{\"colorbar\":{\"outlinewidth\":0,\"ticks\":\"\"},\"colorscale\":[[0.0,\"#0d0887\"],[0.1111111111111111,\"#46039f\"],[0.2222222222222222,\"#7201a8\"],[0.3333333333333333,\"#9c179e\"],[0.4444444444444444,\"#bd3786\"],[0.5555555555555556,\"#d8576b\"],[0.6666666666666666,\"#ed7953\"],[0.7777777777777778,\"#fb9f3a\"],[0.8888888888888888,\"#fdca26\"],[1.0,\"#f0f921\"]],\"type\":\"contour\"}],\"contourcarpet\":[{\"colorbar\":{\"outlinewidth\":0,\"ticks\":\"\"},\"type\":\"contourcarpet\"}],\"heatmap\":[{\"colorbar\":{\"outlinewidth\":0,\"ticks\":\"\"},\"colorscale\":[[0.0,\"#0d0887\"],[0.1111111111111111,\"#46039f\"],[0.2222222222222222,\"#7201a8\"],[0.3333333333333333,\"#9c179e\"],[0.4444444444444444,\"#bd3786\"],[0.5555555555555556,\"#d8576b\"],[0.6666666666666666,\"#ed7953\"],[0.7777777777777778,\"#fb9f3a\"],[0.8888888888888888,\"#fdca26\"],[1.0,\"#f0f921\"]],\"type\":\"heatmap\"}],\"heatmapgl\":[{\"colorbar\":{\"outlinewidth\":0,\"ticks\":\"\"},\"colorscale\":[[0.0,\"#0d0887\"],[0.1111111111111111,\"#46039f\"],[0.2222222222222222,\"#7201a8\"],[0.3333333333333333,\"#9c179e\"],[0.4444444444444444,\"#bd3786\"],[0.5555555555555556,\"#d8576b\"],[0.6666666666666666,\"#ed7953\"],[0.7777777777777778,\"#fb9f3a\"],[0.8888888888888888,\"#fdca26\"],[1.0,\"#f0f921\"]],\"type\":\"heatmapgl\"}],\"histogram\":[{\"marker\":{\"pattern\":{\"fillmode\":\"overlay\",\"size\":10,\"solidity\":0.2}},\"type\":\"histogram\"}],\"histogram2d\":[{\"colorbar\":{\"outlinewidth\":0,\"ticks\":\"\"},\"colorscale\":[[0.0,\"#0d0887\"],[0.1111111111111111,\"#46039f\"],[0.2222222222222222,\"#7201a8\"],[0.3333333333333333,\"#9c179e\"],[0.4444444444444444,\"#bd3786\"],[0.5555555555555556,\"#d8576b\"],[0.6666666666666666,\"#ed7953\"],[0.7777777777777778,\"#fb9f3a\"],[0.8888888888888888,\"#fdca26\"],[1.0,\"#f0f921\"]],\"type\":\"histogram2d\"}],\"histogram2dcontour\":[{\"colorbar\":{\"outlinewidth\":0,\"ticks\":\"\"},\"colorscale\":[[0.0,\"#0d0887\"],[0.1111111111111111,\"#46039f\"],[0.2222222222222222,\"#7201a8\"],[0.3333333333333333,\"#9c179e\"],[0.4444444444444444,\"#bd3786\"],[0.5555555555555556,\"#d8576b\"],[0.6666666666666666,\"#ed7953\"],[0.7777777777777778,\"#fb9f3a\"],[0.8888888888888888,\"#fdca26\"],[1.0,\"#f0f921\"]],\"type\":\"histogram2dcontour\"}],\"mesh3d\":[{\"colorbar\":{\"outlinewidth\":0,\"ticks\":\"\"},\"type\":\"mesh3d\"}],\"parcoords\":[{\"line\":{\"colorbar\":{\"outlinewidth\":0,\"ticks\":\"\"}},\"type\":\"parcoords\"}],\"pie\":[{\"automargin\":true,\"type\":\"pie\"}],\"scatter\":[{\"marker\":{\"colorbar\":{\"outlinewidth\":0,\"ticks\":\"\"}},\"type\":\"scatter\"}],\"scatter3d\":[{\"line\":{\"colorbar\":{\"outlinewidth\":0,\"ticks\":\"\"}},\"marker\":{\"colorbar\":{\"outlinewidth\":0,\"ticks\":\"\"}},\"type\":\"scatter3d\"}],\"scattercarpet\":[{\"marker\":{\"colorbar\":{\"outlinewidth\":0,\"ticks\":\"\"}},\"type\":\"scattercarpet\"}],\"scattergeo\":[{\"marker\":{\"colorbar\":{\"outlinewidth\":0,\"ticks\":\"\"}},\"type\":\"scattergeo\"}],\"scattergl\":[{\"marker\":{\"colorbar\":{\"outlinewidth\":0,\"ticks\":\"\"}},\"type\":\"scattergl\"}],\"scattermapbox\":[{\"marker\":{\"colorbar\":{\"outlinewidth\":0,\"ticks\":\"\"}},\"type\":\"scattermapbox\"}],\"scatterpolar\":[{\"marker\":{\"colorbar\":{\"outlinewidth\":0,\"ticks\":\"\"}},\"type\":\"scatterpolar\"}],\"scatterpolargl\":[{\"marker\":{\"colorbar\":{\"outlinewidth\":0,\"ticks\":\"\"}},\"type\":\"scatterpolargl\"}],\"scatterternary\":[{\"marker\":{\"colorbar\":{\"outlinewidth\":0,\"ticks\":\"\"}},\"type\":\"scatterternary\"}],\"surface\":[{\"colorbar\":{\"outlinewidth\":0,\"ticks\":\"\"},\"colorscale\":[[0.0,\"#0d0887\"],[0.1111111111111111,\"#46039f\"],[0.2222222222222222,\"#7201a8\"],[0.3333333333333333,\"#9c179e\"],[0.4444444444444444,\"#bd3786\"],[0.5555555555555556,\"#d8576b\"],[0.6666666666666666,\"#ed7953\"],[0.7777777777777778,\"#fb9f3a\"],[0.8888888888888888,\"#fdca26\"],[1.0,\"#f0f921\"]],\"type\":\"surface\"}],\"table\":[{\"cells\":{\"fill\":{\"color\":\"#EBF0F8\"},\"line\":{\"color\":\"white\"}},\"header\":{\"fill\":{\"color\":\"#C8D4E3\"},\"line\":{\"color\":\"white\"}},\"type\":\"table\"}]},\"layout\":{\"annotationdefaults\":{\"arrowcolor\":\"#2a3f5f\",\"arrowhead\":0,\"arrowwidth\":1},\"autotypenumbers\":\"strict\",\"coloraxis\":{\"colorbar\":{\"outlinewidth\":0,\"ticks\":\"\"}},\"colorscale\":{\"diverging\":[[0,\"#8e0152\"],[0.1,\"#c51b7d\"],[0.2,\"#de77ae\"],[0.3,\"#f1b6da\"],[0.4,\"#fde0ef\"],[0.5,\"#f7f7f7\"],[0.6,\"#e6f5d0\"],[0.7,\"#b8e186\"],[0.8,\"#7fbc41\"],[0.9,\"#4d9221\"],[1,\"#276419\"]],\"sequential\":[[0.0,\"#0d0887\"],[0.1111111111111111,\"#46039f\"],[0.2222222222222222,\"#7201a8\"],[0.3333333333333333,\"#9c179e\"],[0.4444444444444444,\"#bd3786\"],[0.5555555555555556,\"#d8576b\"],[0.6666666666666666,\"#ed7953\"],[0.7777777777777778,\"#fb9f3a\"],[0.8888888888888888,\"#fdca26\"],[1.0,\"#f0f921\"]],\"sequentialminus\":[[0.0,\"#0d0887\"],[0.1111111111111111,\"#46039f\"],[0.2222222222222222,\"#7201a8\"],[0.3333333333333333,\"#9c179e\"],[0.4444444444444444,\"#bd3786\"],[0.5555555555555556,\"#d8576b\"],[0.6666666666666666,\"#ed7953\"],[0.7777777777777778,\"#fb9f3a\"],[0.8888888888888888,\"#fdca26\"],[1.0,\"#f0f921\"]]},\"colorway\":[\"#636efa\",\"#EF553B\",\"#00cc96\",\"#ab63fa\",\"#FFA15A\",\"#19d3f3\",\"#FF6692\",\"#B6E880\",\"#FF97FF\",\"#FECB52\"],\"font\":{\"color\":\"#2a3f5f\"},\"geo\":{\"bgcolor\":\"white\",\"lakecolor\":\"white\",\"landcolor\":\"#E5ECF6\",\"showlakes\":true,\"showland\":true,\"subunitcolor\":\"white\"},\"hoverlabel\":{\"align\":\"left\"},\"hovermode\":\"closest\",\"mapbox\":{\"style\":\"light\"},\"paper_bgcolor\":\"white\",\"plot_bgcolor\":\"#E5ECF6\",\"polar\":{\"angularaxis\":{\"gridcolor\":\"white\",\"linecolor\":\"white\",\"ticks\":\"\"},\"bgcolor\":\"#E5ECF6\",\"radialaxis\":{\"gridcolor\":\"white\",\"linecolor\":\"white\",\"ticks\":\"\"}},\"scene\":{\"xaxis\":{\"backgroundcolor\":\"#E5ECF6\",\"gridcolor\":\"white\",\"gridwidth\":2,\"linecolor\":\"white\",\"showbackground\":true,\"ticks\":\"\",\"zerolinecolor\":\"white\"},\"yaxis\":{\"backgroundcolor\":\"#E5ECF6\",\"gridcolor\":\"white\",\"gridwidth\":2,\"linecolor\":\"white\",\"showbackground\":true,\"ticks\":\"\",\"zerolinecolor\":\"white\"},\"zaxis\":{\"backgroundcolor\":\"#E5ECF6\",\"gridcolor\":\"white\",\"gridwidth\":2,\"linecolor\":\"white\",\"showbackground\":true,\"ticks\":\"\",\"zerolinecolor\":\"white\"}},\"shapedefaults\":{\"line\":{\"color\":\"#2a3f5f\"}},\"ternary\":{\"aaxis\":{\"gridcolor\":\"white\",\"linecolor\":\"white\",\"ticks\":\"\"},\"baxis\":{\"gridcolor\":\"white\",\"linecolor\":\"white\",\"ticks\":\"\"},\"bgcolor\":\"#E5ECF6\",\"caxis\":{\"gridcolor\":\"white\",\"linecolor\":\"white\",\"ticks\":\"\"}},\"title\":{\"x\":0.05},\"xaxis\":{\"automargin\":true,\"gridcolor\":\"white\",\"linecolor\":\"white\",\"ticks\":\"\",\"title\":{\"standoff\":15},\"zerolinecolor\":\"white\",\"zerolinewidth\":2},\"yaxis\":{\"automargin\":true,\"gridcolor\":\"white\",\"linecolor\":\"white\",\"ticks\":\"\",\"title\":{\"standoff\":15},\"zerolinecolor\":\"white\",\"zerolinewidth\":2}}},\"mapbox\":{\"domain\":{\"x\":[0.0,1.0],\"y\":[0.0,1.0]},\"center\":{\"lat\":-37.5,\"lon\":145},\"zoom\":7,\"style\":\"open-street-map\"},\"legend\":{\"tracegroupgap\":0},\"margin\":{\"t\":0,\"r\":500,\"l\":0,\"b\":0}},                        {\"responsive\": true}                    ).then(function(){\n",
       "                            \n",
       "var gd = document.getElementById('6c63cd87-252b-4570-9b52-2648a18b7a9a');\n",
       "var x = new MutationObserver(function (mutations, observer) {{\n",
       "        var display = window.getComputedStyle(gd).display;\n",
       "        if (!display || display === 'none') {{\n",
       "            console.log([gd, 'removed!']);\n",
       "            Plotly.purge(gd);\n",
       "            observer.disconnect();\n",
       "        }}\n",
       "}});\n",
       "\n",
       "// Listen for the removal of the full notebook cells\n",
       "var notebookContainer = gd.closest('#notebook-container');\n",
       "if (notebookContainer) {{\n",
       "    x.observe(notebookContainer, {childList: true});\n",
       "}}\n",
       "\n",
       "// Listen for the clearing of the current output cell\n",
       "var outputEl = gd.closest('.output');\n",
       "if (outputEl) {{\n",
       "    x.observe(outputEl, {childList: true});\n",
       "}}\n",
       "\n",
       "                        })                };                });            </script>        </div>"
      ]
     },
     "metadata": {},
     "output_type": "display_data"
    }
   ],
   "source": [
    "# check the updated coordinates are in the Melbourne area , all seem to be good, all located downtown Melbourne and north of Melbourne\n",
    "# zoom on the map for closer inspection\n",
    "fig = px.scatter_mapbox(df_dirty_data, lat=\"customer_lat\", lon='customer_long',color_discrete_sequence=['DarkRed'],center=dict(lat=-37.5, lon=145), zoom=7)\n",
    "fig.update_layout(mapbox_style='open-street-map',margin={'r':500,'t':0,'l':0,'b':0})\n",
    "fig.show()"
   ]
  },
  {
   "cell_type": "markdown",
   "id": "02a1bf65-1abc-4a1e-af20-86132ce99539",
   "metadata": {},
   "source": [
    "#### Check Latitude and Longitude in df_missing_data"
   ]
  },
  {
   "cell_type": "code",
   "execution_count": null,
   "id": "3c987149-7be7-4829-8866-89dfa12c96bb",
   "metadata": {},
   "outputs": [],
   "source": [
    "max_long = df_missing_data['customer_long'].max();\n",
    "min_long = df_missing_data['customer_long'].min()\n",
    "max_lat = df_missing_data['customer_lat'].max();\n",
    "min_lat = df_missing_data['customer_lat'].min()\n",
    "print('max_longitude:',max_long)\n",
    "print('max_latitude:',max_lat)\n",
    "print('min_longitude:',min_long)\n",
    "print('min_latitude:',min_lat)"
   ]
  },
  {
   "cell_type": "code",
   "execution_count": 185,
   "id": "3f65375c-dafb-4e99-b790-23a8655d45ea",
   "metadata": {},
   "outputs": [
    {
     "data": {
      "image/png": "[encoded data removed]",
      "text/plain": [
       "<Figure size 720x432 with 1 Axes>"
      ]
     },
     "metadata": {},
     "output_type": "display_data"
    }
   ],
   "source": [
    "# here we can see the scatterplot contains an even distribution for negative latitude values in the df_missing_data DataFrame\n",
    "# all -37\n",
    "plt.figure(figsize = (10,6))\n",
    "sns.set_theme(style=\"darkgrid\");\n",
    "\n",
    "sns.scatterplot(x='customer_lat', y='customer_long',data=df_missing_data,  hue='customer_lat', palette = 'vlag')\n",
    "plt.title('Cutomer Coordinates',)\n",
    "# Set x-axis label\n",
    "plt.xlabel('Latitude')\n",
    "# Set y-axis label\n",
    "plt.ylabel('Longitude')\n",
    "plt.show()"
   ]
  },
  {
   "cell_type": "code",
   "execution_count": null,
   "id": "96d8b5ac-99e1-4b4a-9dc6-74338f4ef532",
   "metadata": {},
   "outputs": [],
   "source": [
    "# map shows all coordinates are in the Melbourne area in df_missing_data nothing seems out of order\n",
    "# zoom on the map for closer inspection\n",
    "fig = px.scatter_mapbox(df_missing_data, lat='customer_lat', lon='customer_long',color_discrete_sequence=['DarkRed'], zoom=11)\n",
    "fig.update_layout(mapbox_style='open-street-map',margin={'r':500,'t':0,'l':0,'b':0})\n",
    "fig.show()"
   ]
  },
  {
   "cell_type": "code",
   "execution_count": null,
   "id": "90c39e92-5a88-4239-8947-1758908b3da8",
   "metadata": {},
   "outputs": [],
   "source": []
  },
  {
   "cell_type": "markdown",
   "id": "6aaed04d-fea8-45ce-a5f4-329b25a12af2",
   "metadata": {
    "tags": []
   },
   "source": [
    "# Detect and Fix missing values in df_missing_data DataFrame\n",
    "***"
   ]
  },
  {
   "cell_type": "markdown",
   "id": "61607484-4a24-46dd-9b0b-990c2aa4cf5d",
   "metadata": {},
   "source": [
    "<div class=\"alert alert-block alert-info\"><b></b>Fixing missing data issues with <strong>df_missing_data</strong> DataFrame<br><strong>Not fixing missing data in customer_lat or customer_long or is_happy_customer</strong></div>"
   ]
  },
  {
   "cell_type": "code",
   "execution_count": null,
   "id": "c682db15-f5d6-409e-88b3-ca59aaeda673",
   "metadata": {},
   "outputs": [],
   "source": [
    "# show missing values\n",
    "print(df_missing_data.isna().sum())"
   ]
  },
  {
   "cell_type": "markdown",
   "id": "c564fe1e-7f75-46ce-bfc7-e2c84ff26133",
   "metadata": {},
   "source": [
    "### Fix missing 'nearest_warehouse' values"
   ]
  },
  {
   "cell_type": "code",
   "execution_count": null,
   "id": "d16e4cc3-f743-4648-90dc-9ba4b5db0581",
   "metadata": {},
   "outputs": [],
   "source": [
    "# getting rows for the missing values for 'nearest_warehouse'\n",
    "nearest_warehouse_to_update = df_missing_data[df_missing_data['nearest_warehouse'].isna()]\n",
    "\n",
    "display(nearest_warehouse_to_update[['nearest_warehouse']])"
   ]
  },
  {
   "cell_type": "code",
   "execution_count": null,
   "id": "6c51e5f4-b943-45a2-a488-6995860371f6",
   "metadata": {},
   "outputs": [],
   "source": [
    "# getting index for the the missing values for 'nearest_warehouse'\n",
    "nearest_warehouse_indexto_update = df_missing_data[df_missing_data['nearest_warehouse'].isna()].index\n",
    "print(nearest_warehouse_indexto_update)"
   ]
  },
  {
   "cell_type": "code",
   "execution_count": null,
   "id": "873f95bb-d899-4656-b359-9cfa29b68af3",
   "metadata": {},
   "outputs": [],
   "source": [
    "# updating missing values for 'nearest_warehouse'\n",
    "for i, row in nearest_warehouse_to_update.iterrows():\n",
    "    df_missing_data.at[i,'nearest_warehouse'] = get_missing_nearest_warehouse(df_missing_data.at[i,'customer_lat'],df_missing_data.at[i,'customer_long'])[0]"
   ]
  },
  {
   "cell_type": "code",
   "execution_count": null,
   "id": "169526c3-92d3-447f-b4ec-5d495d194be1",
   "metadata": {},
   "outputs": [],
   "source": [
    "# no more missing values for 'nearest_warehouse'\n",
    "print(df_missing_data[df_missing_data['nearest_warehouse'].isna()])"
   ]
  },
  {
   "cell_type": "code",
   "execution_count": null,
   "id": "f76da13d-41c2-4141-b2f7-66e9bd7c1f14",
   "metadata": {},
   "outputs": [],
   "source": [
    "#check the indexes for the update 'nearest_warehouse' --  all done\n",
    "display(df_missing_data[['nearest_warehouse']].loc[nearest_warehouse_indexto_update])"
   ]
  },
  {
   "cell_type": "markdown",
   "id": "8771f275-2b8e-4aff-90c5-307463969a02",
   "metadata": {
    "tags": []
   },
   "source": [
    "### Fix missing 'order_price' values"
   ]
  },
  {
   "cell_type": "code",
   "execution_count": null,
   "id": "2caa14e7-b91c-4cf6-9fb1-76918d46a62d",
   "metadata": {},
   "outputs": [],
   "source": [
    "# getting rows for the missing values for 'order_price'\n",
    "order_price_to_update = df_missing_data[df_missing_data['order_price'].isna()]\n",
    "\n",
    "display(order_price_to_update[['order_price']])"
   ]
  },
  {
   "cell_type": "code",
   "execution_count": null,
   "id": "8cfcc664-28ff-4cef-afc8-bada364e6f83",
   "metadata": {},
   "outputs": [],
   "source": [
    "# getting index for the the missing values for 'order_price'\n",
    "order_price_indexto_update = df_missing_data[df_missing_data['order_price'].isna()].index\n",
    "print(order_price_indexto_update)"
   ]
  },
  {
   "cell_type": "code",
   "execution_count": null,
   "id": "a66a1727-22d5-4af5-bb19-537e7fc3a1bb",
   "metadata": {},
   "outputs": [],
   "source": [
    "# updating missing values for 'order_price'\n",
    "for i, row in order_price_to_update.iterrows():\n",
    "    df_missing_data.at[i,'order_price'] = get_missing_order_price(df_missing_data.at[i,'order_total'],df_missing_data.at[i,'delivery_charges'],df_missing_data.at[i,'coupon_discount'])"
   ]
  },
  {
   "cell_type": "code",
   "execution_count": null,
   "id": "a1ba47c5-6d21-4d7d-a8fd-85fce7e8d873",
   "metadata": {},
   "outputs": [],
   "source": [
    "# no more missing values for 'order_price'\n",
    "print(df_missing_data[df_missing_data['order_price'].isna()])"
   ]
  },
  {
   "cell_type": "code",
   "execution_count": null,
   "id": "219ad6ad-84aa-49f7-b2b6-33a17e5aac74",
   "metadata": {
    "tags": []
   },
   "outputs": [],
   "source": [
    "#check the indexes for the update 'order_price' --  all done\n",
    "display(df_missing_data[['order_price']].loc[order_price_indexto_update])"
   ]
  },
  {
   "cell_type": "markdown",
   "id": "5e17d800-1f0f-411a-b0b7-8bdb9e514ff2",
   "metadata": {},
   "source": [
    "### Fix missing 'order_total' values"
   ]
  },
  {
   "cell_type": "code",
   "execution_count": null,
   "id": "6f80a97d-6b87-47b5-a7f3-fc440668862c",
   "metadata": {},
   "outputs": [],
   "source": [
    "# getting rows for the missing values for 'order_total'\n",
    "order_total_to_update = df_missing_data[df_missing_data['order_total'].isna()]\n",
    "\n",
    "display(order_total_to_update[['order_total']])"
   ]
  },
  {
   "cell_type": "code",
   "execution_count": null,
   "id": "b2824bfe-568a-4bd6-b61c-b97794187c59",
   "metadata": {},
   "outputs": [],
   "source": [
    "# getting index for the the missing values for 'order_total'\n",
    "order_total_indexto_update = df_missing_data[df_missing_data['order_total'].isna()].index\n",
    "print(order_total_indexto_update)"
   ]
  },
  {
   "cell_type": "code",
   "execution_count": null,
   "id": "38f0b28a-84d1-4e24-aef4-fc237e17ff7b",
   "metadata": {},
   "outputs": [],
   "source": [
    "# updating missing values for 'order_total'\n",
    "for i, row in order_total_to_update.iterrows():\n",
    "    df_missing_data.at[i,'order_total'] = get_missing_order_total(df_missing_data.at[i,'order_price'],df_missing_data.at[i,'delivery_charges'],df_missing_data.at[i,'coupon_discount'])"
   ]
  },
  {
   "cell_type": "code",
   "execution_count": null,
   "id": "20f04507-5e90-40ba-b580-e47e3cf1e20c",
   "metadata": {},
   "outputs": [],
   "source": [
    "# no more missing values for 'order_total'\n",
    "print(df_missing_data[df_missing_data['order_total'].isna()])"
   ]
  },
  {
   "cell_type": "code",
   "execution_count": null,
   "id": "00ca30d4-1b82-473c-bb9a-72c32dd4395e",
   "metadata": {},
   "outputs": [],
   "source": [
    "#check the indexes for the update 'order_total' --  all done\n",
    "display(df_missing_data[['order_total']].loc[order_total_indexto_update])"
   ]
  },
  {
   "cell_type": "markdown",
   "id": "c7e2caaf-d480-49ba-b594-3eb381606793",
   "metadata": {},
   "source": [
    "### Fix missing 'season' values"
   ]
  },
  {
   "cell_type": "code",
   "execution_count": 118,
   "id": "f9fb3dd8-ff34-419a-a18f-e240dbdc461a",
   "metadata": {
    "tags": []
   },
   "outputs": [
    {
     "data": {
      "text/html": [
       "<div>\n",
       "<style scoped>\n",
       "    .dataframe tbody tr th:only-of-type {\n",
       "        vertical-align: middle;\n",
       "    }\n",
       "\n",
       "    .dataframe tbody tr th {\n",
       "        vertical-align: top;\n",
       "    }\n",
       "\n",
       "    .dataframe thead th {\n",
       "        text-align: right;\n",
       "    }\n",
       "</style>\n",
       "<table border=\"1\" class=\"dataframe\">\n",
       "  <thead>\n",
       "    <tr style=\"text-align: right;\">\n",
       "      <th></th>\n",
       "      <th>season</th>\n",
       "    </tr>\n",
       "    <tr>\n",
       "      <th>order_id</th>\n",
       "      <th></th>\n",
       "    </tr>\n",
       "  </thead>\n",
       "  <tbody>\n",
       "    <tr>\n",
       "      <th>ORD279446</th>\n",
       "      <td>NaN</td>\n",
       "    </tr>\n",
       "    <tr>\n",
       "      <th>ORD083901</th>\n",
       "      <td>NaN</td>\n",
       "    </tr>\n",
       "    <tr>\n",
       "      <th>ORD250242</th>\n",
       "      <td>NaN</td>\n",
       "    </tr>\n",
       "    <tr>\n",
       "      <th>ORD078069</th>\n",
       "      <td>NaN</td>\n",
       "    </tr>\n",
       "    <tr>\n",
       "      <th>ORD016552</th>\n",
       "      <td>NaN</td>\n",
       "    </tr>\n",
       "    <tr>\n",
       "      <th>ORD429692</th>\n",
       "      <td>NaN</td>\n",
       "    </tr>\n",
       "    <tr>\n",
       "      <th>ORD434639</th>\n",
       "      <td>NaN</td>\n",
       "    </tr>\n",
       "    <tr>\n",
       "      <th>ORD032506</th>\n",
       "      <td>NaN</td>\n",
       "    </tr>\n",
       "    <tr>\n",
       "      <th>ORD027479</th>\n",
       "      <td>NaN</td>\n",
       "    </tr>\n",
       "    <tr>\n",
       "      <th>ORD437147</th>\n",
       "      <td>NaN</td>\n",
       "    </tr>\n",
       "  </tbody>\n",
       "</table>\n",
       "</div>"
      ],
      "text/plain": [
       "          season\n",
       "order_id        \n",
       "ORD279446    NaN\n",
       "ORD083901    NaN\n",
       "ORD250242    NaN\n",
       "ORD078069    NaN\n",
       "ORD016552    NaN\n",
       "ORD429692    NaN\n",
       "ORD434639    NaN\n",
       "ORD032506    NaN\n",
       "ORD027479    NaN\n",
       "ORD437147    NaN"
      ]
     },
     "metadata": {},
     "output_type": "display_data"
    }
   ],
   "source": [
    "# getting rows for the missing values for 'season'\n",
    "season_to_update = df_missing_data[df_missing_data['season'].isna()]\n",
    "\n",
    "display(season_to_update[['season']])"
   ]
  },
  {
   "cell_type": "code",
   "execution_count": 119,
   "id": "642a360b-a734-41a9-8a70-a6b86f80bf0e",
   "metadata": {},
   "outputs": [
    {
     "name": "stdout",
     "output_type": "stream",
     "text": [
      "Index(['ORD279446', 'ORD083901', 'ORD250242', 'ORD078069', 'ORD016552',\n",
      "       'ORD429692', 'ORD434639', 'ORD032506', 'ORD027479', 'ORD437147'],\n",
      "      dtype='object', name='order_id')\n"
     ]
    }
   ],
   "source": [
    "# getting index for the the missing values for 'order_total'\n",
    "season_indexto_update = df_missing_data[df_missing_data['season'].isna()].index\n",
    "print(season_indexto_update)"
   ]
  },
  {
   "cell_type": "code",
   "execution_count": 120,
   "id": "c3ae807b-8e2d-40a6-8b34-1e22e1bece89",
   "metadata": {},
   "outputs": [
    {
     "name": "stdout",
     "output_type": "stream",
     "text": [
      "['Autumn' 'Spring' 'Summer' 'Winter' nan]\n"
     ]
    }
   ],
   "source": [
    "# getting the unique values for 'season'\n",
    "seasons = df_missing_data['season'].sort_values().unique()\n",
    "print(seasons)"
   ]
  },
  {
   "cell_type": "code",
   "execution_count": 121,
   "id": "17701abf-5888-46d5-aa16-f37e8d2a3cf9",
   "metadata": {},
   "outputs": [
    {
     "data": {
      "text/html": [
       "<div>\n",
       "<style scoped>\n",
       "    .dataframe tbody tr th:only-of-type {\n",
       "        vertical-align: middle;\n",
       "    }\n",
       "\n",
       "    .dataframe tbody tr th {\n",
       "        vertical-align: top;\n",
       "    }\n",
       "\n",
       "    .dataframe thead th {\n",
       "        text-align: right;\n",
       "    }\n",
       "</style>\n",
       "<table border=\"1\" class=\"dataframe\">\n",
       "  <thead>\n",
       "    <tr style=\"text-align: right;\">\n",
       "      <th></th>\n",
       "      <th></th>\n",
       "    </tr>\n",
       "    <tr>\n",
       "      <th>date</th>\n",
       "      <th>season</th>\n",
       "    </tr>\n",
       "  </thead>\n",
       "  <tbody>\n",
       "    <tr>\n",
       "      <th>2019-01-31</th>\n",
       "      <th>Summer</th>\n",
       "    </tr>\n",
       "    <tr>\n",
       "      <th>2019-02-28</th>\n",
       "      <th>Summer</th>\n",
       "    </tr>\n",
       "    <tr>\n",
       "      <th>2019-03-31</th>\n",
       "      <th>Autumn</th>\n",
       "    </tr>\n",
       "    <tr>\n",
       "      <th>2019-04-30</th>\n",
       "      <th>Autumn</th>\n",
       "    </tr>\n",
       "    <tr>\n",
       "      <th>2019-05-31</th>\n",
       "      <th>Autumn</th>\n",
       "    </tr>\n",
       "    <tr>\n",
       "      <th>2019-06-30</th>\n",
       "      <th>Winter</th>\n",
       "    </tr>\n",
       "    <tr>\n",
       "      <th>2019-07-31</th>\n",
       "      <th>Winter</th>\n",
       "    </tr>\n",
       "    <tr>\n",
       "      <th>2019-08-31</th>\n",
       "      <th>Winter</th>\n",
       "    </tr>\n",
       "    <tr>\n",
       "      <th>2019-09-30</th>\n",
       "      <th>Spring</th>\n",
       "    </tr>\n",
       "    <tr>\n",
       "      <th>2019-10-31</th>\n",
       "      <th>Spring</th>\n",
       "    </tr>\n",
       "    <tr>\n",
       "      <th>2019-11-30</th>\n",
       "      <th>Spring</th>\n",
       "    </tr>\n",
       "    <tr>\n",
       "      <th>2019-12-31</th>\n",
       "      <th>Summer</th>\n",
       "    </tr>\n",
       "  </tbody>\n",
       "</table>\n",
       "</div>"
      ],
      "text/plain": [
       "Empty DataFrame\n",
       "Columns: []\n",
       "Index: [(2019-01-31 00:00:00, Summer), (2019-02-28 00:00:00, Summer), (2019-03-31 00:00:00, Autumn), (2019-04-30 00:00:00, Autumn), (2019-05-31 00:00:00, Autumn), (2019-06-30 00:00:00, Winter), (2019-07-31 00:00:00, Winter), (2019-08-31 00:00:00, Winter), (2019-09-30 00:00:00, Spring), (2019-10-31 00:00:00, Spring), (2019-11-30 00:00:00, Spring), (2019-12-31 00:00:00, Summer)]"
      ]
     },
     "metadata": {},
     "output_type": "display_data"
    }
   ],
   "source": [
    "# get the season months from the grouping of the orders..obviously Southern hemisphere - a random lat long shows its Melbourne, Australia area\n",
    "season_months = df_missing_data.groupby([pd.Grouper(key='date', axis=0, freq='M'),'season']).sum().filter(items=['date','season'])\n",
    "display(season_months)\n",
    "# summer = months 12,1,2\n",
    "# Autumn = months 3,4,5\n",
    "# Winter = months 6,7,8\n",
    "# Spring = months 9,10,11"
   ]
  },
  {
   "cell_type": "code",
   "execution_count": 190,
   "id": "a4802be3-f005-43c9-a552-5ecb979d6360",
   "metadata": {},
   "outputs": [],
   "source": [
    "# updating missing values for 'season'\n",
    "for i, row in df_missing_data.iterrows():\n",
    "    df_missing_data.at[i,'season'] = get_missing_season(df_missing_data.at[i,'date'])"
   ]
  },
  {
   "cell_type": "code",
   "execution_count": 189,
   "id": "0d41b27c-5368-4cbf-92ca-9923feebf1eb",
   "metadata": {},
   "outputs": [
    {
     "name": "stdout",
     "output_type": "stream",
     "text": [
      "Empty DataFrame\n",
      "Columns: [customer_id, date, nearest_warehouse, shopping_cart, order_price, delivery_charges, customer_lat, customer_long, coupon_discount, order_total, season, is_expedited_delivery, distance_to_nearest_warehouse, latest_customer_review, is_happy_customer]\n",
      "Index: []\n"
     ]
    }
   ],
   "source": [
    "# no more missing values for 'season'\n",
    "print(df_missing_data[df_missing_data['season'].isna()])"
   ]
  },
  {
   "cell_type": "code",
   "execution_count": 191,
   "id": "ba1ad4df-c65e-4ee7-849a-4b830211c12e",
   "metadata": {},
   "outputs": [
    {
     "data": {
      "text/html": [
       "<div>\n",
       "<style scoped>\n",
       "    .dataframe tbody tr th:only-of-type {\n",
       "        vertical-align: middle;\n",
       "    }\n",
       "\n",
       "    .dataframe tbody tr th {\n",
       "        vertical-align: top;\n",
       "    }\n",
       "\n",
       "    .dataframe thead th {\n",
       "        text-align: right;\n",
       "    }\n",
       "</style>\n",
       "<table border=\"1\" class=\"dataframe\">\n",
       "  <thead>\n",
       "    <tr style=\"text-align: right;\">\n",
       "      <th></th>\n",
       "      <th>season</th>\n",
       "    </tr>\n",
       "    <tr>\n",
       "      <th>order_id</th>\n",
       "      <th></th>\n",
       "    </tr>\n",
       "  </thead>\n",
       "  <tbody>\n",
       "    <tr>\n",
       "      <th>ORD177154</th>\n",
       "      <td>Winter</td>\n",
       "    </tr>\n",
       "    <tr>\n",
       "      <th>ORD467869</th>\n",
       "      <td>Spring</td>\n",
       "    </tr>\n",
       "    <tr>\n",
       "      <th>ORD386228</th>\n",
       "      <td>Spring</td>\n",
       "    </tr>\n",
       "    <tr>\n",
       "      <th>ORD323368</th>\n",
       "      <td>Spring</td>\n",
       "    </tr>\n",
       "    <tr>\n",
       "      <th>ORD481503</th>\n",
       "      <td>Summer</td>\n",
       "    </tr>\n",
       "    <tr>\n",
       "      <th>ORD355999</th>\n",
       "      <td>Summer</td>\n",
       "    </tr>\n",
       "    <tr>\n",
       "      <th>ORD246570</th>\n",
       "      <td>Spring</td>\n",
       "    </tr>\n",
       "    <tr>\n",
       "      <th>ORD109486</th>\n",
       "      <td>Autumn</td>\n",
       "    </tr>\n",
       "    <tr>\n",
       "      <th>ORD354308</th>\n",
       "      <td>Summer</td>\n",
       "    </tr>\n",
       "    <tr>\n",
       "      <th>ORD489113</th>\n",
       "      <td>Spring</td>\n",
       "    </tr>\n",
       "  </tbody>\n",
       "</table>\n",
       "</div>"
      ],
      "text/plain": [
       "           season\n",
       "order_id         \n",
       "ORD177154  Winter\n",
       "ORD467869  Spring\n",
       "ORD386228  Spring\n",
       "ORD323368  Spring\n",
       "ORD481503  Summer\n",
       "ORD355999  Summer\n",
       "ORD246570  Spring\n",
       "ORD109486  Autumn\n",
       "ORD354308  Summer\n",
       "ORD489113  Spring"
      ]
     },
     "metadata": {},
     "output_type": "display_data"
    }
   ],
   "source": [
    "#check the indexes for the update 'season' --  all done\n",
    "display(df_missing_data[['season']].loc[order_total_indexto_update])"
   ]
  },
  {
   "cell_type": "markdown",
   "id": "684c7332-b8b5-431a-ab49-2cdaa1c08364",
   "metadata": {},
   "source": [
    "### Fix missing 'distance_to_nearest_warehouse' values"
   ]
  },
  {
   "cell_type": "code",
   "execution_count": 127,
   "id": "43ef7bc8-7f6c-4fe8-b1b1-89a230c995b4",
   "metadata": {},
   "outputs": [
    {
     "data": {
      "text/html": [
       "<div>\n",
       "<style scoped>\n",
       "    .dataframe tbody tr th:only-of-type {\n",
       "        vertical-align: middle;\n",
       "    }\n",
       "\n",
       "    .dataframe tbody tr th {\n",
       "        vertical-align: top;\n",
       "    }\n",
       "\n",
       "    .dataframe thead th {\n",
       "        text-align: right;\n",
       "    }\n",
       "</style>\n",
       "<table border=\"1\" class=\"dataframe\">\n",
       "  <thead>\n",
       "    <tr style=\"text-align: right;\">\n",
       "      <th></th>\n",
       "      <th>distance_to_nearest_warehouse</th>\n",
       "    </tr>\n",
       "    <tr>\n",
       "      <th>order_id</th>\n",
       "      <th></th>\n",
       "    </tr>\n",
       "  </thead>\n",
       "  <tbody>\n",
       "    <tr>\n",
       "      <th>ORD265586</th>\n",
       "      <td>NaN</td>\n",
       "    </tr>\n",
       "    <tr>\n",
       "      <th>ORD224296</th>\n",
       "      <td>NaN</td>\n",
       "    </tr>\n",
       "    <tr>\n",
       "      <th>ORD247311</th>\n",
       "      <td>NaN</td>\n",
       "    </tr>\n",
       "    <tr>\n",
       "      <th>ORD465260</th>\n",
       "      <td>NaN</td>\n",
       "    </tr>\n",
       "    <tr>\n",
       "      <th>ORD160120</th>\n",
       "      <td>NaN</td>\n",
       "    </tr>\n",
       "    <tr>\n",
       "      <th>ORD174660</th>\n",
       "      <td>NaN</td>\n",
       "    </tr>\n",
       "    <tr>\n",
       "      <th>ORD048679</th>\n",
       "      <td>NaN</td>\n",
       "    </tr>\n",
       "    <tr>\n",
       "      <th>ORD392649</th>\n",
       "      <td>NaN</td>\n",
       "    </tr>\n",
       "    <tr>\n",
       "      <th>ORD137128</th>\n",
       "      <td>NaN</td>\n",
       "    </tr>\n",
       "    <tr>\n",
       "      <th>ORD132417</th>\n",
       "      <td>NaN</td>\n",
       "    </tr>\n",
       "  </tbody>\n",
       "</table>\n",
       "</div>"
      ],
      "text/plain": [
       "           distance_to_nearest_warehouse\n",
       "order_id                                \n",
       "ORD265586                            NaN\n",
       "ORD224296                            NaN\n",
       "ORD247311                            NaN\n",
       "ORD465260                            NaN\n",
       "ORD160120                            NaN\n",
       "ORD174660                            NaN\n",
       "ORD048679                            NaN\n",
       "ORD392649                            NaN\n",
       "ORD137128                            NaN\n",
       "ORD132417                            NaN"
      ]
     },
     "metadata": {},
     "output_type": "display_data"
    }
   ],
   "source": [
    "# getting rows for the missing values for 'distance_to_nearest_warehouse'\n",
    "distance_to_nearest_warehouse_to_update = df_missing_data[df_missing_data['distance_to_nearest_warehouse'].isna()]\n",
    "\n",
    "display(distance_to_nearest_warehouse_to_update[['distance_to_nearest_warehouse']])"
   ]
  },
  {
   "cell_type": "code",
   "execution_count": 128,
   "id": "d5d0961d-5791-479b-9ee2-9c160cc420e4",
   "metadata": {},
   "outputs": [
    {
     "name": "stdout",
     "output_type": "stream",
     "text": [
      "Index(['ORD265586', 'ORD224296', 'ORD247311', 'ORD465260', 'ORD160120',\n",
      "       'ORD174660', 'ORD048679', 'ORD392649', 'ORD137128', 'ORD132417'],\n",
      "      dtype='object', name='order_id')\n"
     ]
    }
   ],
   "source": [
    "# getting index for the the missing values for 'distance_to_nearest_warehouse'\n",
    "distance_to_nearest_warehouse_indexto_update = df_missing_data[df_missing_data['distance_to_nearest_warehouse'].isna()].index\n",
    "print(distance_to_nearest_warehouse_indexto_update)"
   ]
  },
  {
   "cell_type": "code",
   "execution_count": 129,
   "id": "d587097c-5386-44cc-96a4-c7c9bb96ba97",
   "metadata": {},
   "outputs": [],
   "source": [
    "# updating missing values for 'distance_to_nearest_warehouse'\n",
    "for i, row in distance_to_nearest_warehouse_to_update.iterrows():\n",
    "    df_missing_data.at[i,'distance_to_nearest_warehouse'] = get_missing_nearest_warehouse(df_missing_data.at[i,'customer_lat'],df_missing_data.at[i,'customer_long'])[1]"
   ]
  },
  {
   "cell_type": "code",
   "execution_count": 130,
   "id": "f138eac8-9a8a-4491-8ac1-39b5fb3b07e9",
   "metadata": {},
   "outputs": [
    {
     "name": "stdout",
     "output_type": "stream",
     "text": [
      "Empty DataFrame\n",
      "Columns: [customer_id, date, nearest_warehouse, shopping_cart, order_price, delivery_charges, customer_lat, customer_long, coupon_discount, order_total, season, is_expedited_delivery, distance_to_nearest_warehouse, latest_customer_review, is_happy_customer]\n",
      "Index: []\n"
     ]
    }
   ],
   "source": [
    "# no more missing values for 'distance_to_nearest_warehouse'\n",
    "print(df_missing_data[df_missing_data['distance_to_nearest_warehouse'].isna()])"
   ]
  },
  {
   "cell_type": "code",
   "execution_count": 131,
   "id": "cb8eaa1e-d891-4612-9546-f840340c5673",
   "metadata": {},
   "outputs": [
    {
     "data": {
      "text/html": [
       "<div>\n",
       "<style scoped>\n",
       "    .dataframe tbody tr th:only-of-type {\n",
       "        vertical-align: middle;\n",
       "    }\n",
       "\n",
       "    .dataframe tbody tr th {\n",
       "        vertical-align: top;\n",
       "    }\n",
       "\n",
       "    .dataframe thead th {\n",
       "        text-align: right;\n",
       "    }\n",
       "</style>\n",
       "<table border=\"1\" class=\"dataframe\">\n",
       "  <thead>\n",
       "    <tr style=\"text-align: right;\">\n",
       "      <th></th>\n",
       "      <th>distance_to_nearest_warehouse</th>\n",
       "    </tr>\n",
       "    <tr>\n",
       "      <th>order_id</th>\n",
       "      <th></th>\n",
       "    </tr>\n",
       "  </thead>\n",
       "  <tbody>\n",
       "    <tr>\n",
       "      <th>ORD177154</th>\n",
       "      <td>1.1751</td>\n",
       "    </tr>\n",
       "    <tr>\n",
       "      <th>ORD467869</th>\n",
       "      <td>1.5693</td>\n",
       "    </tr>\n",
       "    <tr>\n",
       "      <th>ORD386228</th>\n",
       "      <td>1.5685</td>\n",
       "    </tr>\n",
       "    <tr>\n",
       "      <th>ORD323368</th>\n",
       "      <td>1.5645</td>\n",
       "    </tr>\n",
       "    <tr>\n",
       "      <th>ORD481503</th>\n",
       "      <td>1.5146</td>\n",
       "    </tr>\n",
       "    <tr>\n",
       "      <th>ORD355999</th>\n",
       "      <td>0.8535</td>\n",
       "    </tr>\n",
       "    <tr>\n",
       "      <th>ORD246570</th>\n",
       "      <td>0.5281</td>\n",
       "    </tr>\n",
       "    <tr>\n",
       "      <th>ORD109486</th>\n",
       "      <td>1.6033</td>\n",
       "    </tr>\n",
       "    <tr>\n",
       "      <th>ORD354308</th>\n",
       "      <td>0.7148</td>\n",
       "    </tr>\n",
       "    <tr>\n",
       "      <th>ORD489113</th>\n",
       "      <td>0.8482</td>\n",
       "    </tr>\n",
       "  </tbody>\n",
       "</table>\n",
       "</div>"
      ],
      "text/plain": [
       "           distance_to_nearest_warehouse\n",
       "order_id                                \n",
       "ORD177154                         1.1751\n",
       "ORD467869                         1.5693\n",
       "ORD386228                         1.5685\n",
       "ORD323368                         1.5645\n",
       "ORD481503                         1.5146\n",
       "ORD355999                         0.8535\n",
       "ORD246570                         0.5281\n",
       "ORD109486                         1.6033\n",
       "ORD354308                         0.7148\n",
       "ORD489113                         0.8482"
      ]
     },
     "metadata": {},
     "output_type": "display_data"
    }
   ],
   "source": [
    "#check the indexes for the update 'season' --  all done\n",
    "display(df_missing_data[['distance_to_nearest_warehouse']].loc[order_total_indexto_update])"
   ]
  },
  {
   "cell_type": "markdown",
   "id": "bbb17f95-98c6-47f7-8b95-58cb14837edb",
   "metadata": {},
   "source": [
    "### Fix missing 'customer_lat' values - not progressing with this: out of scope for this assignment"
   ]
  },
  {
   "cell_type": "code",
   "execution_count": 132,
   "id": "bc29ba84-d4a3-469f-99be-8fd15bc04ae0",
   "metadata": {},
   "outputs": [
    {
     "data": {
      "text/html": [
       "<div>\n",
       "<style scoped>\n",
       "    .dataframe tbody tr th:only-of-type {\n",
       "        vertical-align: middle;\n",
       "    }\n",
       "\n",
       "    .dataframe tbody tr th {\n",
       "        vertical-align: top;\n",
       "    }\n",
       "\n",
       "    .dataframe thead th {\n",
       "        text-align: right;\n",
       "    }\n",
       "</style>\n",
       "<table border=\"1\" class=\"dataframe\">\n",
       "  <thead>\n",
       "    <tr style=\"text-align: right;\">\n",
       "      <th></th>\n",
       "      <th>customer_lat</th>\n",
       "    </tr>\n",
       "    <tr>\n",
       "      <th>order_id</th>\n",
       "      <th></th>\n",
       "    </tr>\n",
       "  </thead>\n",
       "  <tbody>\n",
       "    <tr>\n",
       "      <th>ORD006145</th>\n",
       "      <td>NaN</td>\n",
       "    </tr>\n",
       "    <tr>\n",
       "      <th>ORD225147</th>\n",
       "      <td>NaN</td>\n",
       "    </tr>\n",
       "    <tr>\n",
       "      <th>ORD387776</th>\n",
       "      <td>NaN</td>\n",
       "    </tr>\n",
       "    <tr>\n",
       "      <th>ORD008298</th>\n",
       "      <td>NaN</td>\n",
       "    </tr>\n",
       "    <tr>\n",
       "      <th>ORD417492</th>\n",
       "      <td>NaN</td>\n",
       "    </tr>\n",
       "    <tr>\n",
       "      <th>ORD296102</th>\n",
       "      <td>NaN</td>\n",
       "    </tr>\n",
       "    <tr>\n",
       "      <th>ORD452316</th>\n",
       "      <td>NaN</td>\n",
       "    </tr>\n",
       "    <tr>\n",
       "      <th>ORD285564</th>\n",
       "      <td>NaN</td>\n",
       "    </tr>\n",
       "    <tr>\n",
       "      <th>ORD297989</th>\n",
       "      <td>NaN</td>\n",
       "    </tr>\n",
       "    <tr>\n",
       "      <th>ORD157248</th>\n",
       "      <td>NaN</td>\n",
       "    </tr>\n",
       "  </tbody>\n",
       "</table>\n",
       "</div>"
      ],
      "text/plain": [
       "           customer_lat\n",
       "order_id               \n",
       "ORD006145           NaN\n",
       "ORD225147           NaN\n",
       "ORD387776           NaN\n",
       "ORD008298           NaN\n",
       "ORD417492           NaN\n",
       "ORD296102           NaN\n",
       "ORD452316           NaN\n",
       "ORD285564           NaN\n",
       "ORD297989           NaN\n",
       "ORD157248           NaN"
      ]
     },
     "metadata": {},
     "output_type": "display_data"
    }
   ],
   "source": [
    "# show missing 'customer_lat' rows\n",
    "customer_lat_to_update = df_missing_data[df_missing_data['customer_lat'].isna()]\n",
    "display(customer_lat_to_update[['customer_lat']])"
   ]
  },
  {
   "cell_type": "code",
   "execution_count": 133,
   "id": "8d246860-e621-49b3-ba76-e6cd6c05ad4b",
   "metadata": {},
   "outputs": [
    {
     "data": {
      "text/plain": [
       "Index(['ORD006145', 'ORD225147', 'ORD387776', 'ORD008298', 'ORD417492',\n",
       "       'ORD296102', 'ORD452316', 'ORD285564', 'ORD297989', 'ORD157248'],\n",
       "      dtype='object', name='order_id')"
      ]
     },
     "execution_count": 133,
     "metadata": {},
     "output_type": "execute_result"
    }
   ],
   "source": [
    "# getting the index for the missing values for customer_lat\n",
    "customer_lat_indexto_update = df_missing_data[df_missing_data['customer_lat'].isna()].index\n",
    "customer_lat_indexto_update"
   ]
  },
  {
   "cell_type": "markdown",
   "id": "39f52e65-7db4-478c-a247-3923d404436d",
   "metadata": {},
   "source": [
    "### Fix missing 'customer_long' values - not progressing with this: out of scope for this assignment"
   ]
  },
  {
   "cell_type": "code",
   "execution_count": 134,
   "id": "c98294fd-d5d5-413c-868e-97971dcfbd45",
   "metadata": {},
   "outputs": [
    {
     "data": {
      "text/html": [
       "<div>\n",
       "<style scoped>\n",
       "    .dataframe tbody tr th:only-of-type {\n",
       "        vertical-align: middle;\n",
       "    }\n",
       "\n",
       "    .dataframe tbody tr th {\n",
       "        vertical-align: top;\n",
       "    }\n",
       "\n",
       "    .dataframe thead th {\n",
       "        text-align: right;\n",
       "    }\n",
       "</style>\n",
       "<table border=\"1\" class=\"dataframe\">\n",
       "  <thead>\n",
       "    <tr style=\"text-align: right;\">\n",
       "      <th></th>\n",
       "      <th>customer_long</th>\n",
       "    </tr>\n",
       "    <tr>\n",
       "      <th>order_id</th>\n",
       "      <th></th>\n",
       "    </tr>\n",
       "  </thead>\n",
       "  <tbody>\n",
       "    <tr>\n",
       "      <th>ORD131598</th>\n",
       "      <td>NaN</td>\n",
       "    </tr>\n",
       "    <tr>\n",
       "      <th>ORD287765</th>\n",
       "      <td>NaN</td>\n",
       "    </tr>\n",
       "    <tr>\n",
       "      <th>ORD159527</th>\n",
       "      <td>NaN</td>\n",
       "    </tr>\n",
       "    <tr>\n",
       "      <th>ORD052599</th>\n",
       "      <td>NaN</td>\n",
       "    </tr>\n",
       "    <tr>\n",
       "      <th>ORD015960</th>\n",
       "      <td>NaN</td>\n",
       "    </tr>\n",
       "    <tr>\n",
       "      <th>ORD466918</th>\n",
       "      <td>NaN</td>\n",
       "    </tr>\n",
       "    <tr>\n",
       "      <th>ORD125582</th>\n",
       "      <td>NaN</td>\n",
       "    </tr>\n",
       "    <tr>\n",
       "      <th>ORD305340</th>\n",
       "      <td>NaN</td>\n",
       "    </tr>\n",
       "    <tr>\n",
       "      <th>ORD166029</th>\n",
       "      <td>NaN</td>\n",
       "    </tr>\n",
       "    <tr>\n",
       "      <th>ORD487171</th>\n",
       "      <td>NaN</td>\n",
       "    </tr>\n",
       "  </tbody>\n",
       "</table>\n",
       "</div>"
      ],
      "text/plain": [
       "           customer_long\n",
       "order_id                \n",
       "ORD131598            NaN\n",
       "ORD287765            NaN\n",
       "ORD159527            NaN\n",
       "ORD052599            NaN\n",
       "ORD015960            NaN\n",
       "ORD466918            NaN\n",
       "ORD125582            NaN\n",
       "ORD305340            NaN\n",
       "ORD166029            NaN\n",
       "ORD487171            NaN"
      ]
     },
     "metadata": {},
     "output_type": "display_data"
    }
   ],
   "source": [
    "# show missing 'customer_long' rows\n",
    "customer_lat_to_update = df_missing_data[df_missing_data['customer_long'].isna()]\n",
    "display(customer_lat_to_update[['customer_long']])"
   ]
  },
  {
   "cell_type": "code",
   "execution_count": 135,
   "id": "b1eeb048-9258-4b95-ab24-c4686b02a8da",
   "metadata": {},
   "outputs": [
    {
     "data": {
      "text/plain": [
       "Index(['ORD131598', 'ORD287765', 'ORD159527', 'ORD052599', 'ORD015960',\n",
       "       'ORD466918', 'ORD125582', 'ORD305340', 'ORD166029', 'ORD487171'],\n",
       "      dtype='object', name='order_id')"
      ]
     },
     "execution_count": 135,
     "metadata": {},
     "output_type": "execute_result"
    }
   ],
   "source": [
    "# getting the index for the missing values for customer_long\n",
    "customer_long_indexto_update = df_missing_data[df_missing_data['customer_long'].isna()].index\n",
    "customer_long_indexto_update"
   ]
  },
  {
   "cell_type": "code",
   "execution_count": 136,
   "id": "9a7ccb12-7dea-4a6e-82e5-1eaa6f7773b3",
   "metadata": {},
   "outputs": [
    {
     "name": "stdout",
     "output_type": "stream",
     "text": [
      "customer_id                       0\n",
      "date                              0\n",
      "nearest_warehouse                 0\n",
      "shopping_cart                     0\n",
      "order_price                       0\n",
      "delivery_charges                  0\n",
      "customer_lat                     10\n",
      "customer_long                    10\n",
      "coupon_discount                   0\n",
      "order_total                       0\n",
      "season                            0\n",
      "is_expedited_delivery             0\n",
      "distance_to_nearest_warehouse     0\n",
      "latest_customer_review            0\n",
      "is_happy_customer                10\n",
      "dtype: int64\n"
     ]
    }
   ],
   "source": [
    "# show missing values\n",
    "print(df_missing_data.isna().sum())"
   ]
  },
  {
   "cell_type": "markdown",
   "id": "4d89e215-f84c-4f4e-8e1d-2144884114f0",
   "metadata": {},
   "source": [
    "### Fix missing 'is_happy_customer' values - not progressing with this: out of scope for this assignment"
   ]
  },
  {
   "cell_type": "markdown",
   "id": "44c47a5d-fa1a-409b-b8cc-a27d312624a3",
   "metadata": {},
   "source": [
    "* would need sentiment analysis against the latest_customer_review column"
   ]
  },
  {
   "cell_type": "markdown",
   "id": "65f496f3-7ac8-4454-98c1-817e3fa0b80e",
   "metadata": {},
   "source": [
    "# Append cleaned Dataframes df_dirty_data and df_missing_data\n",
    "***"
   ]
  },
  {
   "cell_type": "markdown",
   "id": "525e78e9-b307-498c-bae6-d8a850be9560",
   "metadata": {},
   "source": [
    "<div class=\"alert alert-block alert-info\"><b></b>Work is complete on correcting issues with <strong>df_missing_data</strong> and <strong>df_dirty_data</strong> they are appended here to create <strong>df_order_data</strong><br> NaN are filtered from 'customer_lat', 'customer_long' and 'is_happy_customer'</div>"
   ]
  },
  {
   "cell_type": "code",
   "execution_count": 137,
   "id": "09d23957-c6e4-4d95-b276-116fa29fa56e",
   "metadata": {},
   "outputs": [
    {
     "data": {
      "text/plain": [
       "(500, 15)"
      ]
     },
     "execution_count": 137,
     "metadata": {},
     "output_type": "execute_result"
    }
   ],
   "source": [
    "df_missing_data.shape"
   ]
  },
  {
   "cell_type": "code",
   "execution_count": 138,
   "id": "b5f1c19a-a12a-4ba2-9f4e-54c2c4cab6fa",
   "metadata": {},
   "outputs": [
    {
     "name": "stdout",
     "output_type": "stream",
     "text": [
      "<class 'pandas.core.frame.DataFrame'>\n",
      "Index: 500 entries, ORD382112 to ORD414852\n",
      "Data columns (total 15 columns):\n",
      " #   Column                         Non-Null Count  Dtype         \n",
      "---  ------                         --------------  -----         \n",
      " 0   customer_id                    500 non-null    object        \n",
      " 1   date                           500 non-null    datetime64[ns]\n",
      " 2   nearest_warehouse              500 non-null    object        \n",
      " 3   shopping_cart                  500 non-null    object        \n",
      " 4   order_price                    500 non-null    float64       \n",
      " 5   delivery_charges               500 non-null    float64       \n",
      " 6   customer_lat                   490 non-null    float64       \n",
      " 7   customer_long                  490 non-null    float64       \n",
      " 8   coupon_discount                500 non-null    int64         \n",
      " 9   order_total                    500 non-null    float64       \n",
      " 10  season                         500 non-null    object        \n",
      " 11  is_expedited_delivery          500 non-null    bool          \n",
      " 12  distance_to_nearest_warehouse  500 non-null    float64       \n",
      " 13  latest_customer_review         500 non-null    object        \n",
      " 14  is_happy_customer              490 non-null    object        \n",
      "dtypes: bool(1), datetime64[ns](1), float64(6), int64(1), object(6)\n",
      "memory usage: 75.2+ KB\n"
     ]
    }
   ],
   "source": [
    "df_missing_data.info()"
   ]
  },
  {
   "cell_type": "code",
   "execution_count": 139,
   "id": "7e84b53d-cde2-40dc-b583-ebcbc4ede36c",
   "metadata": {},
   "outputs": [
    {
     "data": {
      "text/plain": [
       "Index(['ORD382112', 'ORD378488', 'ORD279446', 'ORD277196', 'ORD116193',\n",
       "       'ORD005004', 'ORD296379', 'ORD447851', 'ORD078449', 'ORD018258',\n",
       "       ...\n",
       "       'ORD273851', 'ORD329425', 'ORD277938', 'ORD297371', 'ORD218866',\n",
       "       'ORD289820', 'ORD425999', 'ORD252675', 'ORD215989', 'ORD414852'],\n",
       "      dtype='object', name='order_id', length=500)"
      ]
     },
     "execution_count": 139,
     "metadata": {},
     "output_type": "execute_result"
    }
   ],
   "source": [
    "df_missing_data.index"
   ]
  },
  {
   "cell_type": "code",
   "execution_count": 140,
   "id": "41890901-d501-450c-b2cc-5ad6c5f99e0b",
   "metadata": {},
   "outputs": [
    {
     "data": {
      "text/plain": [
       "(460, 15)"
      ]
     },
     "execution_count": 140,
     "metadata": {},
     "output_type": "execute_result"
    }
   ],
   "source": [
    "df_dirty_data.shape"
   ]
  },
  {
   "cell_type": "code",
   "execution_count": 141,
   "id": "5730aeb7-25a4-4b1b-86ee-87fe9dfdcc43",
   "metadata": {},
   "outputs": [
    {
     "name": "stdout",
     "output_type": "stream",
     "text": [
      "<class 'pandas.core.frame.DataFrame'>\n",
      "Index: 460 entries, ORD182494 to ORD085447\n",
      "Data columns (total 15 columns):\n",
      " #   Column                         Non-Null Count  Dtype         \n",
      "---  ------                         --------------  -----         \n",
      " 0   customer_id                    460 non-null    object        \n",
      " 1   date                           460 non-null    datetime64[ns]\n",
      " 2   nearest_warehouse              460 non-null    object        \n",
      " 3   shopping_cart                  460 non-null    object        \n",
      " 4   order_price                    460 non-null    float64       \n",
      " 5   delivery_charges               460 non-null    float64       \n",
      " 6   customer_lat                   460 non-null    float64       \n",
      " 7   customer_long                  460 non-null    float64       \n",
      " 8   coupon_discount                460 non-null    int64         \n",
      " 9   order_total                    460 non-null    float64       \n",
      " 10  season                         460 non-null    object        \n",
      " 11  is_expedited_delivery          460 non-null    bool          \n",
      " 12  distance_to_nearest_warehouse  460 non-null    float64       \n",
      " 13  latest_customer_review         460 non-null    object        \n",
      " 14  is_happy_customer              460 non-null    bool          \n",
      "dtypes: bool(2), datetime64[ns](1), float64(6), int64(1), object(5)\n",
      "memory usage: 67.4+ KB\n"
     ]
    }
   ],
   "source": [
    "df_dirty_data.info()"
   ]
  },
  {
   "cell_type": "code",
   "execution_count": 142,
   "id": "f79d0152-a5b5-4ffa-b278-0a562e669ba0",
   "metadata": {},
   "outputs": [
    {
     "data": {
      "text/plain": [
       "Index(['ORD182494', 'ORD395518', 'ORD494479', 'ORD019224', 'ORD104032',\n",
       "       'ORD146760', 'ORD337984', 'ORD377837', 'ORD462194', 'ORD034800',\n",
       "       ...\n",
       "       'ORD161955', 'ORD182549', 'ORD435271', 'ORD082002', 'ORD034351',\n",
       "       'ORD379700', 'ORD086060', 'ORD079320', 'ORD026546', 'ORD085447'],\n",
       "      dtype='object', name='order_id', length=460)"
      ]
     },
     "execution_count": 142,
     "metadata": {},
     "output_type": "execute_result"
    }
   ],
   "source": [
    "df_dirty_data.index"
   ]
  },
  {
   "cell_type": "code",
   "execution_count": 143,
   "id": "1f788b84-a3a7-4ddb-8fe5-3db41943eadf",
   "metadata": {},
   "outputs": [
    {
     "data": {
      "text/html": [
       "<div>\n",
       "<style scoped>\n",
       "    .dataframe tbody tr th:only-of-type {\n",
       "        vertical-align: middle;\n",
       "    }\n",
       "\n",
       "    .dataframe tbody tr th {\n",
       "        vertical-align: top;\n",
       "    }\n",
       "\n",
       "    .dataframe thead th {\n",
       "        text-align: right;\n",
       "    }\n",
       "</style>\n",
       "<table border=\"1\" class=\"dataframe\">\n",
       "  <thead>\n",
       "    <tr style=\"text-align: right;\">\n",
       "      <th></th>\n",
       "      <th>customer_id</th>\n",
       "      <th>date</th>\n",
       "      <th>nearest_warehouse</th>\n",
       "      <th>shopping_cart</th>\n",
       "      <th>order_price</th>\n",
       "      <th>delivery_charges</th>\n",
       "      <th>customer_lat</th>\n",
       "      <th>customer_long</th>\n",
       "      <th>coupon_discount</th>\n",
       "      <th>order_total</th>\n",
       "      <th>season</th>\n",
       "      <th>is_expedited_delivery</th>\n",
       "      <th>distance_to_nearest_warehouse</th>\n",
       "      <th>latest_customer_review</th>\n",
       "      <th>is_happy_customer</th>\n",
       "    </tr>\n",
       "    <tr>\n",
       "      <th>order_id</th>\n",
       "      <th></th>\n",
       "      <th></th>\n",
       "      <th></th>\n",
       "      <th></th>\n",
       "      <th></th>\n",
       "      <th></th>\n",
       "      <th></th>\n",
       "      <th></th>\n",
       "      <th></th>\n",
       "      <th></th>\n",
       "      <th></th>\n",
       "      <th></th>\n",
       "      <th></th>\n",
       "      <th></th>\n",
       "      <th></th>\n",
       "    </tr>\n",
       "  </thead>\n",
       "  <tbody>\n",
       "    <tr>\n",
       "      <th>ORD382112</th>\n",
       "      <td>ID0289597187</td>\n",
       "      <td>2019-03-06</td>\n",
       "      <td>Thompson</td>\n",
       "      <td>[('pearTV', 1), ('Candle Inferno', 2)]</td>\n",
       "      <td>7170.0</td>\n",
       "      <td>61.72</td>\n",
       "      <td>-37.811782</td>\n",
       "      <td>144.951972</td>\n",
       "      <td>15</td>\n",
       "      <td>6156.22</td>\n",
       "      <td>Autumn</td>\n",
       "      <td>True</td>\n",
       "      <td>0.4425</td>\n",
       "      <td>to many adds in ui it has adds, sends info to manufacture,</td>\n",
       "      <td>False</td>\n",
       "    </tr>\n",
       "    <tr>\n",
       "      <th>ORD378488</th>\n",
       "      <td>ID1668523020</td>\n",
       "      <td>2019-05-05</td>\n",
       "      <td>Thompson</td>\n",
       "      <td>[('Thunder line', 1), ('Lucent 330S', 2), ('Alcon 10', 1)]</td>\n",
       "      <td>13590.0</td>\n",
       "      <td>65.20</td>\n",
       "      <td>-37.808236</td>\n",
       "      <td>144.942181</td>\n",
       "      <td>10</td>\n",
       "      <td>12296.20</td>\n",
       "      <td>Autumn</td>\n",
       "      <td>False</td>\n",
       "      <td>0.6547</td>\n",
       "      <td>s10e haven't had this phone but a short time but i have fallen in love lol</td>\n",
       "      <td>True</td>\n",
       "    </tr>\n",
       "    <tr>\n",
       "      <th>ORD279446</th>\n",
       "      <td>ID0370751503</td>\n",
       "      <td>2019-03-24</td>\n",
       "      <td>Bakers</td>\n",
       "      <td>[('Candle Inferno', 2), ('Universe Note', 1)]</td>\n",
       "      <td>4310.0</td>\n",
       "      <td>78.75</td>\n",
       "      <td>-37.812941</td>\n",
       "      <td>144.985883</td>\n",
       "      <td>15</td>\n",
       "      <td>3742.25</td>\n",
       "      <td>Autumn</td>\n",
       "      <td>True</td>\n",
       "      <td>0.8852</td>\n",
       "      <td>best bang for your buck! great overall android phone, no damages during shipping and after a mon...</td>\n",
       "      <td>True</td>\n",
       "    </tr>\n",
       "    <tr>\n",
       "      <th>ORD277196</th>\n",
       "      <td>ID0634774947</td>\n",
       "      <td>2019-01-12</td>\n",
       "      <td>Thompson</td>\n",
       "      <td>[('pearTV', 1), ('Thunder line', 1), ('Olivia x460', 2)]</td>\n",
       "      <td>10940.0</td>\n",
       "      <td>92.59</td>\n",
       "      <td>-37.811748</td>\n",
       "      <td>144.938192</td>\n",
       "      <td>25</td>\n",
       "      <td>8297.59</td>\n",
       "      <td>Summer</td>\n",
       "      <td>True</td>\n",
       "      <td>0.7875</td>\n",
       "      <td>good it was a gift for my niece. it to her in jamaica.</td>\n",
       "      <td>True</td>\n",
       "    </tr>\n",
       "    <tr>\n",
       "      <th>ORD116193</th>\n",
       "      <td>ID3313210924</td>\n",
       "      <td>2019-09-02</td>\n",
       "      <td>Nickolson</td>\n",
       "      <td>[('pearTV', 2), ('Universe Note', 2), ('Thunder line', 1)]</td>\n",
       "      <td>21700.0</td>\n",
       "      <td>95.62</td>\n",
       "      <td>-37.818393</td>\n",
       "      <td>144.967034</td>\n",
       "      <td>5</td>\n",
       "      <td>20710.62</td>\n",
       "      <td>Spring</td>\n",
       "      <td>True</td>\n",
       "      <td>0.2225</td>\n",
       "      <td>excellent product excellent product, was received as described, was delivered at the correct time.</td>\n",
       "      <td>True</td>\n",
       "    </tr>\n",
       "    <tr>\n",
       "      <th>...</th>\n",
       "      <td>...</td>\n",
       "      <td>...</td>\n",
       "      <td>...</td>\n",
       "      <td>...</td>\n",
       "      <td>...</td>\n",
       "      <td>...</td>\n",
       "      <td>...</td>\n",
       "      <td>...</td>\n",
       "      <td>...</td>\n",
       "      <td>...</td>\n",
       "      <td>...</td>\n",
       "      <td>...</td>\n",
       "      <td>...</td>\n",
       "      <td>...</td>\n",
       "      <td>...</td>\n",
       "    </tr>\n",
       "    <tr>\n",
       "      <th>ORD289820</th>\n",
       "      <td>ID0711745634</td>\n",
       "      <td>2019-06-24</td>\n",
       "      <td>Thompson</td>\n",
       "      <td>[('Toshika 750', 1), ('Lucent 330S', 2), ('Candle Inferno', 1), ('Universe Note', 1)]</td>\n",
       "      <td>10660.0</td>\n",
       "      <td>46.20</td>\n",
       "      <td>-37.815309</td>\n",
       "      <td>144.945919</td>\n",
       "      <td>15</td>\n",
       "      <td>9107.20</td>\n",
       "      <td>Winter</td>\n",
       "      <td>False</td>\n",
       "      <td>0.3104</td>\n",
       "      <td>batería dañada hola. la batería se dañó. donde puedo solicitar su reemplazo o reparación?</td>\n",
       "      <td>False</td>\n",
       "    </tr>\n",
       "    <tr>\n",
       "      <th>ORD425999</th>\n",
       "      <td>ID3208518274</td>\n",
       "      <td>2019-02-12</td>\n",
       "      <td>Nickolson</td>\n",
       "      <td>[('pearTV', 2), ('Olivia x460', 1), ('iAssist Line', 1), ('Universe Note', 2)]</td>\n",
       "      <td>22970.0</td>\n",
       "      <td>83.03</td>\n",
       "      <td>-37.802503</td>\n",
       "      <td>144.967428</td>\n",
       "      <td>15</td>\n",
       "      <td>19607.53</td>\n",
       "      <td>Summer</td>\n",
       "      <td>False</td>\n",
       "      <td>1.8010</td>\n",
       "      <td>great phone for the money. the price was right. it works well and the battery easily lasts 2 days.</td>\n",
       "      <td>True</td>\n",
       "    </tr>\n",
       "    <tr>\n",
       "      <th>ORD252675</th>\n",
       "      <td>ID0589449505</td>\n",
       "      <td>2019-09-14</td>\n",
       "      <td>Nickolson</td>\n",
       "      <td>[('Alcon 10', 2), ('Thunder line', 2), ('Universe Note', 1), ('Toshika 750', 2)]</td>\n",
       "      <td>34350.0</td>\n",
       "      <td>78.57</td>\n",
       "      <td>-37.809446</td>\n",
       "      <td>144.972736</td>\n",
       "      <td>15</td>\n",
       "      <td>29276.07</td>\n",
       "      <td>Spring</td>\n",
       "      <td>False</td>\n",
       "      <td>1.0563</td>\n",
       "      <td>four stars very good olivia universe s5 , i would rate 4 stars</td>\n",
       "      <td>True</td>\n",
       "    </tr>\n",
       "    <tr>\n",
       "      <th>ORD215989</th>\n",
       "      <td>ID6167357842</td>\n",
       "      <td>2019-09-16</td>\n",
       "      <td>Nickolson</td>\n",
       "      <td>[('Candle Inferno', 2), ('Olivia x460', 1), ('Lucent 330S', 2), ('Thunder line', 1)]</td>\n",
       "      <td>6725.0</td>\n",
       "      <td>105.14</td>\n",
       "      <td>-37.807649</td>\n",
       "      <td>144.971370</td>\n",
       "      <td>15</td>\n",
       "      <td>5821.39</td>\n",
       "      <td>Spring</td>\n",
       "      <td>True</td>\n",
       "      <td>1.2289</td>\n",
       "      <td>great purchase!!! my twins love them!!</td>\n",
       "      <td>True</td>\n",
       "    </tr>\n",
       "    <tr>\n",
       "      <th>ORD414852</th>\n",
       "      <td>ID0634783923</td>\n",
       "      <td>2019-09-13</td>\n",
       "      <td>Thompson</td>\n",
       "      <td>[('Candle Inferno', 2), ('Alcon 10', 2), ('iAssist Line', 1)]</td>\n",
       "      <td>20985.0</td>\n",
       "      <td>76.99</td>\n",
       "      <td>-37.812930</td>\n",
       "      <td>144.937243</td>\n",
       "      <td>15</td>\n",
       "      <td>17914.24</td>\n",
       "      <td>Spring</td>\n",
       "      <td>False</td>\n",
       "      <td>0.8646</td>\n",
       "      <td>awesome perfect phone to keep connected with kids. it's small and lightweight so very easy to ca...</td>\n",
       "      <td>True</td>\n",
       "    </tr>\n",
       "  </tbody>\n",
       "</table>\n",
       "<p>470 rows × 15 columns</p>\n",
       "</div>"
      ],
      "text/plain": [
       "            customer_id       date nearest_warehouse  \\\n",
       "order_id                                               \n",
       "ORD382112  ID0289597187 2019-03-06          Thompson   \n",
       "ORD378488  ID1668523020 2019-05-05          Thompson   \n",
       "ORD279446  ID0370751503 2019-03-24            Bakers   \n",
       "ORD277196  ID0634774947 2019-01-12          Thompson   \n",
       "ORD116193  ID3313210924 2019-09-02         Nickolson   \n",
       "...                 ...        ...               ...   \n",
       "ORD289820  ID0711745634 2019-06-24          Thompson   \n",
       "ORD425999  ID3208518274 2019-02-12         Nickolson   \n",
       "ORD252675  ID0589449505 2019-09-14         Nickolson   \n",
       "ORD215989  ID6167357842 2019-09-16         Nickolson   \n",
       "ORD414852  ID0634783923 2019-09-13          Thompson   \n",
       "\n",
       "                                                                                   shopping_cart  \\\n",
       "order_id                                                                                           \n",
       "ORD382112                                                 [('pearTV', 1), ('Candle Inferno', 2)]   \n",
       "ORD378488                             [('Thunder line', 1), ('Lucent 330S', 2), ('Alcon 10', 1)]   \n",
       "ORD279446                                          [('Candle Inferno', 2), ('Universe Note', 1)]   \n",
       "ORD277196                               [('pearTV', 1), ('Thunder line', 1), ('Olivia x460', 2)]   \n",
       "ORD116193                             [('pearTV', 2), ('Universe Note', 2), ('Thunder line', 1)]   \n",
       "...                                                                                          ...   \n",
       "ORD289820  [('Toshika 750', 1), ('Lucent 330S', 2), ('Candle Inferno', 1), ('Universe Note', 1)]   \n",
       "ORD425999         [('pearTV', 2), ('Olivia x460', 1), ('iAssist Line', 1), ('Universe Note', 2)]   \n",
       "ORD252675       [('Alcon 10', 2), ('Thunder line', 2), ('Universe Note', 1), ('Toshika 750', 2)]   \n",
       "ORD215989   [('Candle Inferno', 2), ('Olivia x460', 1), ('Lucent 330S', 2), ('Thunder line', 1)]   \n",
       "ORD414852                          [('Candle Inferno', 2), ('Alcon 10', 2), ('iAssist Line', 1)]   \n",
       "\n",
       "           order_price  delivery_charges  customer_lat  customer_long  \\\n",
       "order_id                                                                \n",
       "ORD382112       7170.0             61.72    -37.811782     144.951972   \n",
       "ORD378488      13590.0             65.20    -37.808236     144.942181   \n",
       "ORD279446       4310.0             78.75    -37.812941     144.985883   \n",
       "ORD277196      10940.0             92.59    -37.811748     144.938192   \n",
       "ORD116193      21700.0             95.62    -37.818393     144.967034   \n",
       "...                ...               ...           ...            ...   \n",
       "ORD289820      10660.0             46.20    -37.815309     144.945919   \n",
       "ORD425999      22970.0             83.03    -37.802503     144.967428   \n",
       "ORD252675      34350.0             78.57    -37.809446     144.972736   \n",
       "ORD215989       6725.0            105.14    -37.807649     144.971370   \n",
       "ORD414852      20985.0             76.99    -37.812930     144.937243   \n",
       "\n",
       "           coupon_discount  order_total  season  is_expedited_delivery  \\\n",
       "order_id                                                                 \n",
       "ORD382112               15      6156.22  Autumn                   True   \n",
       "ORD378488               10     12296.20  Autumn                  False   \n",
       "ORD279446               15      3742.25  Autumn                   True   \n",
       "ORD277196               25      8297.59  Summer                   True   \n",
       "ORD116193                5     20710.62  Spring                   True   \n",
       "...                    ...          ...     ...                    ...   \n",
       "ORD289820               15      9107.20  Winter                  False   \n",
       "ORD425999               15     19607.53  Summer                  False   \n",
       "ORD252675               15     29276.07  Spring                  False   \n",
       "ORD215989               15      5821.39  Spring                   True   \n",
       "ORD414852               15     17914.24  Spring                  False   \n",
       "\n",
       "           distance_to_nearest_warehouse  \\\n",
       "order_id                                   \n",
       "ORD382112                         0.4425   \n",
       "ORD378488                         0.6547   \n",
       "ORD279446                         0.8852   \n",
       "ORD277196                         0.7875   \n",
       "ORD116193                         0.2225   \n",
       "...                                  ...   \n",
       "ORD289820                         0.3104   \n",
       "ORD425999                         1.8010   \n",
       "ORD252675                         1.0563   \n",
       "ORD215989                         1.2289   \n",
       "ORD414852                         0.8646   \n",
       "\n",
       "                                                                                        latest_customer_review  \\\n",
       "order_id                                                                                                         \n",
       "ORD382112                                           to many adds in ui it has adds, sends info to manufacture,   \n",
       "ORD378488                           s10e haven't had this phone but a short time but i have fallen in love lol   \n",
       "ORD279446  best bang for your buck! great overall android phone, no damages during shipping and after a mon...   \n",
       "ORD277196                                               good it was a gift for my niece. it to her in jamaica.   \n",
       "ORD116193   excellent product excellent product, was received as described, was delivered at the correct time.   \n",
       "...                                                                                                        ...   \n",
       "ORD289820            batería dañada hola. la batería se dañó. donde puedo solicitar su reemplazo o reparación?   \n",
       "ORD425999   great phone for the money. the price was right. it works well and the battery easily lasts 2 days.   \n",
       "ORD252675                                       four stars very good olivia universe s5 , i would rate 4 stars   \n",
       "ORD215989                                                               great purchase!!! my twins love them!!   \n",
       "ORD414852  awesome perfect phone to keep connected with kids. it's small and lightweight so very easy to ca...   \n",
       "\n",
       "          is_happy_customer  \n",
       "order_id                     \n",
       "ORD382112             False  \n",
       "ORD378488              True  \n",
       "ORD279446              True  \n",
       "ORD277196              True  \n",
       "ORD116193              True  \n",
       "...                     ...  \n",
       "ORD289820             False  \n",
       "ORD425999              True  \n",
       "ORD252675              True  \n",
       "ORD215989              True  \n",
       "ORD414852              True  \n",
       "\n",
       "[470 rows x 15 columns]"
      ]
     },
     "execution_count": 143,
     "metadata": {},
     "output_type": "execute_result"
    }
   ],
   "source": [
    "# remove NaN for 'customer_lat', 'customer_long' and 'is_happy_customer' from df_missing_data\n",
    "df_missing_data_NoNa = df_missing_data[(df_missing_data['customer_lat'].notna()) & (df_missing_data['customer_long'].notna()) & (df_missing_data['is_happy_customer'].notna())]\n",
    "df_missing_data_NoNa"
   ]
  },
  {
   "cell_type": "code",
   "execution_count": 144,
   "id": "d7aecb6c-8717-4dbb-af11-6ab7825dd0ed",
   "metadata": {},
   "outputs": [
    {
     "name": "stdout",
     "output_type": "stream",
     "text": [
      "<class 'pandas.core.frame.DataFrame'>\n",
      "Index: 470 entries, ORD382112 to ORD414852\n",
      "Data columns (total 15 columns):\n",
      " #   Column                         Non-Null Count  Dtype         \n",
      "---  ------                         --------------  -----         \n",
      " 0   customer_id                    470 non-null    object        \n",
      " 1   date                           470 non-null    datetime64[ns]\n",
      " 2   nearest_warehouse              470 non-null    object        \n",
      " 3   shopping_cart                  470 non-null    object        \n",
      " 4   order_price                    470 non-null    float64       \n",
      " 5   delivery_charges               470 non-null    float64       \n",
      " 6   customer_lat                   470 non-null    float64       \n",
      " 7   customer_long                  470 non-null    float64       \n",
      " 8   coupon_discount                470 non-null    int64         \n",
      " 9   order_total                    470 non-null    float64       \n",
      " 10  season                         470 non-null    object        \n",
      " 11  is_expedited_delivery          470 non-null    bool          \n",
      " 12  distance_to_nearest_warehouse  470 non-null    float64       \n",
      " 13  latest_customer_review         470 non-null    object        \n",
      " 14  is_happy_customer              470 non-null    object        \n",
      "dtypes: bool(1), datetime64[ns](1), float64(6), int64(1), object(6)\n",
      "memory usage: 55.5+ KB\n"
     ]
    },
    {
     "data": {
      "text/plain": [
       "None"
      ]
     },
     "metadata": {},
     "output_type": "display_data"
    }
   ],
   "source": [
    "display(df_missing_data_NoNa.info())"
   ]
  },
  {
   "cell_type": "code",
   "execution_count": 145,
   "id": "cb81f007-098a-4102-970d-605a0e994d2e",
   "metadata": {},
   "outputs": [
    {
     "data": {
      "text/html": [
       "<div>\n",
       "<style scoped>\n",
       "    .dataframe tbody tr th:only-of-type {\n",
       "        vertical-align: middle;\n",
       "    }\n",
       "\n",
       "    .dataframe tbody tr th {\n",
       "        vertical-align: top;\n",
       "    }\n",
       "\n",
       "    .dataframe thead th {\n",
       "        text-align: right;\n",
       "    }\n",
       "</style>\n",
       "<table border=\"1\" class=\"dataframe\">\n",
       "  <thead>\n",
       "    <tr style=\"text-align: right;\">\n",
       "      <th></th>\n",
       "      <th>customer_id</th>\n",
       "      <th>date</th>\n",
       "      <th>nearest_warehouse</th>\n",
       "      <th>shopping_cart</th>\n",
       "      <th>order_price</th>\n",
       "      <th>delivery_charges</th>\n",
       "      <th>customer_lat</th>\n",
       "      <th>customer_long</th>\n",
       "      <th>coupon_discount</th>\n",
       "      <th>order_total</th>\n",
       "      <th>season</th>\n",
       "      <th>is_expedited_delivery</th>\n",
       "      <th>distance_to_nearest_warehouse</th>\n",
       "      <th>latest_customer_review</th>\n",
       "      <th>is_happy_customer</th>\n",
       "    </tr>\n",
       "    <tr>\n",
       "      <th>order_id</th>\n",
       "      <th></th>\n",
       "      <th></th>\n",
       "      <th></th>\n",
       "      <th></th>\n",
       "      <th></th>\n",
       "      <th></th>\n",
       "      <th></th>\n",
       "      <th></th>\n",
       "      <th></th>\n",
       "      <th></th>\n",
       "      <th></th>\n",
       "      <th></th>\n",
       "      <th></th>\n",
       "      <th></th>\n",
       "      <th></th>\n",
       "    </tr>\n",
       "  </thead>\n",
       "  <tbody>\n",
       "    <tr>\n",
       "      <th>ORD182494</th>\n",
       "      <td>ID6197211592</td>\n",
       "      <td>2019-06-22</td>\n",
       "      <td>Thompson</td>\n",
       "      <td>[('Lucent 330S', 1), ('Thunder line', 2), ('iStream', 2), ('pearTV', 1)]</td>\n",
       "      <td>12200.0</td>\n",
       "      <td>79.89</td>\n",
       "      <td>-37.815105</td>\n",
       "      <td>144.932843</td>\n",
       "      <td>10</td>\n",
       "      <td>11059.89</td>\n",
       "      <td>Winter</td>\n",
       "      <td>True</td>\n",
       "      <td>1.2800</td>\n",
       "      <td>perfect phone and trusted seller. phone itself is amazing. i got this phone as shown here on the...</td>\n",
       "      <td>True</td>\n",
       "    </tr>\n",
       "    <tr>\n",
       "      <th>ORD395518</th>\n",
       "      <td>ID0282825849</td>\n",
       "      <td>2019-12-29</td>\n",
       "      <td>Thompson</td>\n",
       "      <td>[('Thunder line', 1), ('Universe Note', 2)]</td>\n",
       "      <td>9080.0</td>\n",
       "      <td>62.71</td>\n",
       "      <td>-37.802736</td>\n",
       "      <td>144.951118</td>\n",
       "      <td>0</td>\n",
       "      <td>9142.71</td>\n",
       "      <td>Summer</td>\n",
       "      <td>False</td>\n",
       "      <td>1.1621</td>\n",
       "      <td>it keeps dropping calls the wifi don't work this is a waste of money this phone is worthless, it...</td>\n",
       "      <td>False</td>\n",
       "    </tr>\n",
       "    <tr>\n",
       "      <th>ORD494479</th>\n",
       "      <td>ID0579391891</td>\n",
       "      <td>2019-03-02</td>\n",
       "      <td>Nickolson</td>\n",
       "      <td>[('Thunder line', 1), ('pearTV', 2)]</td>\n",
       "      <td>10670.0</td>\n",
       "      <td>65.87</td>\n",
       "      <td>-37.821302</td>\n",
       "      <td>144.957581</td>\n",
       "      <td>10</td>\n",
       "      <td>9668.87</td>\n",
       "      <td>Autumn</td>\n",
       "      <td>False</td>\n",
       "      <td>1.0949</td>\n",
       "      <td>five stars this is a great cheap phone.</td>\n",
       "      <td>True</td>\n",
       "    </tr>\n",
       "    <tr>\n",
       "      <th>ORD019224</th>\n",
       "      <td>ID4544561904</td>\n",
       "      <td>2019-01-12</td>\n",
       "      <td>Nickolson</td>\n",
       "      <td>[('Universe Note', 1), ('Alcon 10', 2), ('Olivia x460', 1), ('iAssist Line', 1)]</td>\n",
       "      <td>24800.0</td>\n",
       "      <td>57.61</td>\n",
       "      <td>-37.811416</td>\n",
       "      <td>144.973073</td>\n",
       "      <td>15</td>\n",
       "      <td>21137.61</td>\n",
       "      <td>Summer</td>\n",
       "      <td>False</td>\n",
       "      <td>0.8571</td>\n",
       "      <td>charger did not fit the charger didn't fit.</td>\n",
       "      <td>False</td>\n",
       "    </tr>\n",
       "    <tr>\n",
       "      <th>ORD104032</th>\n",
       "      <td>ID6231506320</td>\n",
       "      <td>2019-11-28</td>\n",
       "      <td>Nickolson</td>\n",
       "      <td>[('Universe Note', 1), ('Olivia x460', 1), ('iStream', 1), ('Toshika 750', 1)]</td>\n",
       "      <td>9145.0</td>\n",
       "      <td>75.54</td>\n",
       "      <td>-37.823859</td>\n",
       "      <td>144.969892</td>\n",
       "      <td>25</td>\n",
       "      <td>6934.29</td>\n",
       "      <td>Spring</td>\n",
       "      <td>False</td>\n",
       "      <td>0.5867</td>\n",
       "      <td>four stars good</td>\n",
       "      <td>True</td>\n",
       "    </tr>\n",
       "    <tr>\n",
       "      <th>...</th>\n",
       "      <td>...</td>\n",
       "      <td>...</td>\n",
       "      <td>...</td>\n",
       "      <td>...</td>\n",
       "      <td>...</td>\n",
       "      <td>...</td>\n",
       "      <td>...</td>\n",
       "      <td>...</td>\n",
       "      <td>...</td>\n",
       "      <td>...</td>\n",
       "      <td>...</td>\n",
       "      <td>...</td>\n",
       "      <td>...</td>\n",
       "      <td>...</td>\n",
       "      <td>...</td>\n",
       "    </tr>\n",
       "    <tr>\n",
       "      <th>ORD379700</th>\n",
       "      <td>ID2190564628</td>\n",
       "      <td>2019-08-05</td>\n",
       "      <td>Nickolson</td>\n",
       "      <td>[('Candle Inferno', 1), ('Alcon 10', 1), ('Lucent 330S', 1), ('Universe Note', 2)]</td>\n",
       "      <td>17510.0</td>\n",
       "      <td>75.37</td>\n",
       "      <td>-37.816209</td>\n",
       "      <td>144.964057</td>\n",
       "      <td>5</td>\n",
       "      <td>16709.87</td>\n",
       "      <td>Winter</td>\n",
       "      <td>True</td>\n",
       "      <td>0.5513</td>\n",
       "      <td>good quality price ratio bought it for my mom, she uses, she loves, yay! i am done.</td>\n",
       "      <td>True</td>\n",
       "    </tr>\n",
       "    <tr>\n",
       "      <th>ORD086060</th>\n",
       "      <td>ID0130015098</td>\n",
       "      <td>2019-03-28</td>\n",
       "      <td>Nickolson</td>\n",
       "      <td>[('pearTV', 2), ('Candle Inferno', 2), ('Toshika 750', 2)]</td>\n",
       "      <td>22120.0</td>\n",
       "      <td>62.29</td>\n",
       "      <td>-37.815469</td>\n",
       "      <td>144.968083</td>\n",
       "      <td>0</td>\n",
       "      <td>22182.29</td>\n",
       "      <td>Autumn</td>\n",
       "      <td>True</td>\n",
       "      <td>0.3711</td>\n",
       "      <td>one star it was the wrong phone</td>\n",
       "      <td>False</td>\n",
       "    </tr>\n",
       "    <tr>\n",
       "      <th>ORD079320</th>\n",
       "      <td>ID2707985442</td>\n",
       "      <td>2019-10-16</td>\n",
       "      <td>Nickolson</td>\n",
       "      <td>[('pearTV', 1), ('Alcon 10', 1), ('Lucent 330S', 1)]</td>\n",
       "      <td>16490.0</td>\n",
       "      <td>106.98</td>\n",
       "      <td>-37.805979</td>\n",
       "      <td>144.966101</td>\n",
       "      <td>0</td>\n",
       "      <td>16596.98</td>\n",
       "      <td>Spring</td>\n",
       "      <td>True</td>\n",
       "      <td>1.4368</td>\n",
       "      <td>love this phone! has many great features!</td>\n",
       "      <td>True</td>\n",
       "    </tr>\n",
       "    <tr>\n",
       "      <th>ORD026546</th>\n",
       "      <td>ID0060088412</td>\n",
       "      <td>2019-05-19</td>\n",
       "      <td>Nickolson</td>\n",
       "      <td>[('iStream', 1), ('Candle Inferno', 1), ('iAssist Line', 2)]</td>\n",
       "      <td>5030.0</td>\n",
       "      <td>79.89</td>\n",
       "      <td>-37.820071</td>\n",
       "      <td>144.984435</td>\n",
       "      <td>10</td>\n",
       "      <td>4606.89</td>\n",
       "      <td>Autumn</td>\n",
       "      <td>True</td>\n",
       "      <td>1.3191</td>\n",
       "      <td>spoiled son's birthday present son wanted one for his birthday. personally not a fan of pear pro...</td>\n",
       "      <td>True</td>\n",
       "    </tr>\n",
       "    <tr>\n",
       "      <th>ORD085447</th>\n",
       "      <td>ID5257193650</td>\n",
       "      <td>2019-05-25</td>\n",
       "      <td>Bakers</td>\n",
       "      <td>[('iStream', 1), ('Toshika 750', 1), ('Alcon 10', 2)]</td>\n",
       "      <td>22370.0</td>\n",
       "      <td>64.62</td>\n",
       "      <td>-37.812231</td>\n",
       "      <td>144.988679</td>\n",
       "      <td>15</td>\n",
       "      <td>19079.12</td>\n",
       "      <td>Autumn</td>\n",
       "      <td>True</td>\n",
       "      <td>0.6277</td>\n",
       "      <td>two stars the phone is way smaller then it looks. picture is not accurate</td>\n",
       "      <td>False</td>\n",
       "    </tr>\n",
       "  </tbody>\n",
       "</table>\n",
       "<p>460 rows × 15 columns</p>\n",
       "</div>"
      ],
      "text/plain": [
       "            customer_id       date nearest_warehouse  \\\n",
       "order_id                                               \n",
       "ORD182494  ID6197211592 2019-06-22          Thompson   \n",
       "ORD395518  ID0282825849 2019-12-29          Thompson   \n",
       "ORD494479  ID0579391891 2019-03-02         Nickolson   \n",
       "ORD019224  ID4544561904 2019-01-12         Nickolson   \n",
       "ORD104032  ID6231506320 2019-11-28         Nickolson   \n",
       "...                 ...        ...               ...   \n",
       "ORD379700  ID2190564628 2019-08-05         Nickolson   \n",
       "ORD086060  ID0130015098 2019-03-28         Nickolson   \n",
       "ORD079320  ID2707985442 2019-10-16         Nickolson   \n",
       "ORD026546  ID0060088412 2019-05-19         Nickolson   \n",
       "ORD085447  ID5257193650 2019-05-25            Bakers   \n",
       "\n",
       "                                                                                shopping_cart  \\\n",
       "order_id                                                                                        \n",
       "ORD182494            [('Lucent 330S', 1), ('Thunder line', 2), ('iStream', 2), ('pearTV', 1)]   \n",
       "ORD395518                                         [('Thunder line', 1), ('Universe Note', 2)]   \n",
       "ORD494479                                                [('Thunder line', 1), ('pearTV', 2)]   \n",
       "ORD019224    [('Universe Note', 1), ('Alcon 10', 2), ('Olivia x460', 1), ('iAssist Line', 1)]   \n",
       "ORD104032      [('Universe Note', 1), ('Olivia x460', 1), ('iStream', 1), ('Toshika 750', 1)]   \n",
       "...                                                                                       ...   \n",
       "ORD379700  [('Candle Inferno', 1), ('Alcon 10', 1), ('Lucent 330S', 1), ('Universe Note', 2)]   \n",
       "ORD086060                          [('pearTV', 2), ('Candle Inferno', 2), ('Toshika 750', 2)]   \n",
       "ORD079320                                [('pearTV', 1), ('Alcon 10', 1), ('Lucent 330S', 1)]   \n",
       "ORD026546                        [('iStream', 1), ('Candle Inferno', 1), ('iAssist Line', 2)]   \n",
       "ORD085447                               [('iStream', 1), ('Toshika 750', 1), ('Alcon 10', 2)]   \n",
       "\n",
       "           order_price  delivery_charges  customer_lat  customer_long  \\\n",
       "order_id                                                                \n",
       "ORD182494      12200.0             79.89    -37.815105     144.932843   \n",
       "ORD395518       9080.0             62.71    -37.802736     144.951118   \n",
       "ORD494479      10670.0             65.87    -37.821302     144.957581   \n",
       "ORD019224      24800.0             57.61    -37.811416     144.973073   \n",
       "ORD104032       9145.0             75.54    -37.823859     144.969892   \n",
       "...                ...               ...           ...            ...   \n",
       "ORD379700      17510.0             75.37    -37.816209     144.964057   \n",
       "ORD086060      22120.0             62.29    -37.815469     144.968083   \n",
       "ORD079320      16490.0            106.98    -37.805979     144.966101   \n",
       "ORD026546       5030.0             79.89    -37.820071     144.984435   \n",
       "ORD085447      22370.0             64.62    -37.812231     144.988679   \n",
       "\n",
       "           coupon_discount  order_total  season  is_expedited_delivery  \\\n",
       "order_id                                                                 \n",
       "ORD182494               10     11059.89  Winter                   True   \n",
       "ORD395518                0      9142.71  Summer                  False   \n",
       "ORD494479               10      9668.87  Autumn                  False   \n",
       "ORD019224               15     21137.61  Summer                  False   \n",
       "ORD104032               25      6934.29  Spring                  False   \n",
       "...                    ...          ...     ...                    ...   \n",
       "ORD379700                5     16709.87  Winter                   True   \n",
       "ORD086060                0     22182.29  Autumn                   True   \n",
       "ORD079320                0     16596.98  Spring                   True   \n",
       "ORD026546               10      4606.89  Autumn                   True   \n",
       "ORD085447               15     19079.12  Autumn                   True   \n",
       "\n",
       "           distance_to_nearest_warehouse  \\\n",
       "order_id                                   \n",
       "ORD182494                         1.2800   \n",
       "ORD395518                         1.1621   \n",
       "ORD494479                         1.0949   \n",
       "ORD019224                         0.8571   \n",
       "ORD104032                         0.5867   \n",
       "...                                  ...   \n",
       "ORD379700                         0.5513   \n",
       "ORD086060                         0.3711   \n",
       "ORD079320                         1.4368   \n",
       "ORD026546                         1.3191   \n",
       "ORD085447                         0.6277   \n",
       "\n",
       "                                                                                        latest_customer_review  \\\n",
       "order_id                                                                                                         \n",
       "ORD182494  perfect phone and trusted seller. phone itself is amazing. i got this phone as shown here on the...   \n",
       "ORD395518  it keeps dropping calls the wifi don't work this is a waste of money this phone is worthless, it...   \n",
       "ORD494479                                                              five stars this is a great cheap phone.   \n",
       "ORD019224                                                          charger did not fit the charger didn't fit.   \n",
       "ORD104032                                                                                      four stars good   \n",
       "...                                                                                                        ...   \n",
       "ORD379700                  good quality price ratio bought it for my mom, she uses, she loves, yay! i am done.   \n",
       "ORD086060                                                                      one star it was the wrong phone   \n",
       "ORD079320                                                            love this phone! has many great features!   \n",
       "ORD026546  spoiled son's birthday present son wanted one for his birthday. personally not a fan of pear pro...   \n",
       "ORD085447                            two stars the phone is way smaller then it looks. picture is not accurate   \n",
       "\n",
       "           is_happy_customer  \n",
       "order_id                      \n",
       "ORD182494               True  \n",
       "ORD395518              False  \n",
       "ORD494479               True  \n",
       "ORD019224              False  \n",
       "ORD104032               True  \n",
       "...                      ...  \n",
       "ORD379700               True  \n",
       "ORD086060              False  \n",
       "ORD079320               True  \n",
       "ORD026546               True  \n",
       "ORD085447              False  \n",
       "\n",
       "[460 rows x 15 columns]"
      ]
     },
     "execution_count": 145,
     "metadata": {},
     "output_type": "execute_result"
    }
   ],
   "source": [
    "# remove NaN for 'customer_lat', 'customer_long' and 'is_happy_customer' from  df_dirty_data\n",
    "df_dirty_data_NoNa = df_dirty_data[(df_dirty_data['customer_lat'].notna()) & (df_dirty_data['customer_long'].notna()) & (df_dirty_data['is_happy_customer'].notna())]\n",
    "df_dirty_data_NoNa"
   ]
  },
  {
   "cell_type": "code",
   "execution_count": 146,
   "id": "21d9b2a9-d0f3-4fab-975a-0efd1acbff6a",
   "metadata": {},
   "outputs": [
    {
     "name": "stdout",
     "output_type": "stream",
     "text": [
      "<class 'pandas.core.frame.DataFrame'>\n",
      "Index: 460 entries, ORD182494 to ORD085447\n",
      "Data columns (total 15 columns):\n",
      " #   Column                         Non-Null Count  Dtype         \n",
      "---  ------                         --------------  -----         \n",
      " 0   customer_id                    460 non-null    object        \n",
      " 1   date                           460 non-null    datetime64[ns]\n",
      " 2   nearest_warehouse              460 non-null    object        \n",
      " 3   shopping_cart                  460 non-null    object        \n",
      " 4   order_price                    460 non-null    float64       \n",
      " 5   delivery_charges               460 non-null    float64       \n",
      " 6   customer_lat                   460 non-null    float64       \n",
      " 7   customer_long                  460 non-null    float64       \n",
      " 8   coupon_discount                460 non-null    int64         \n",
      " 9   order_total                    460 non-null    float64       \n",
      " 10  season                         460 non-null    object        \n",
      " 11  is_expedited_delivery          460 non-null    bool          \n",
      " 12  distance_to_nearest_warehouse  460 non-null    float64       \n",
      " 13  latest_customer_review         460 non-null    object        \n",
      " 14  is_happy_customer              460 non-null    bool          \n",
      "dtypes: bool(2), datetime64[ns](1), float64(6), int64(1), object(5)\n",
      "memory usage: 51.2+ KB\n"
     ]
    },
    {
     "data": {
      "text/plain": [
       "None"
      ]
     },
     "metadata": {},
     "output_type": "display_data"
    }
   ],
   "source": [
    "display(df_dirty_data_NoNa.info())"
   ]
  },
  {
   "cell_type": "code",
   "execution_count": 147,
   "id": "d499b712-8f6f-4097-9624-bb0ece3b93f1",
   "metadata": {},
   "outputs": [],
   "source": [
    "# create a new dataframe from df_dirty_data_NoNa and df_missing_data_NoNa \n",
    "df_order_data = df_dirty_data_NoNa.append(df_missing_data_NoNa, ignore_index=False)\n",
    "# df_order_data = pd.concat([df_missing_data_NoNa, df_dirty_data_NoNa ], ignore_index=False)"
   ]
  },
  {
   "cell_type": "code",
   "execution_count": 148,
   "id": "abec8911-facf-44b3-8b67-16cfb259425e",
   "metadata": {},
   "outputs": [],
   "source": [
    "df_order_data = df_order_data.reset_index()"
   ]
  },
  {
   "cell_type": "code",
   "execution_count": 149,
   "id": "5ce6f4de-1747-4b92-8eff-6911f8233c9f",
   "metadata": {},
   "outputs": [
    {
     "data": {
      "text/html": [
       "<div>\n",
       "<style scoped>\n",
       "    .dataframe tbody tr th:only-of-type {\n",
       "        vertical-align: middle;\n",
       "    }\n",
       "\n",
       "    .dataframe tbody tr th {\n",
       "        vertical-align: top;\n",
       "    }\n",
       "\n",
       "    .dataframe thead th {\n",
       "        text-align: right;\n",
       "    }\n",
       "</style>\n",
       "<table border=\"1\" class=\"dataframe\">\n",
       "  <thead>\n",
       "    <tr style=\"text-align: right;\">\n",
       "      <th></th>\n",
       "      <th>order_id</th>\n",
       "      <th>customer_id</th>\n",
       "      <th>date</th>\n",
       "      <th>nearest_warehouse</th>\n",
       "      <th>shopping_cart</th>\n",
       "      <th>order_price</th>\n",
       "      <th>delivery_charges</th>\n",
       "      <th>customer_lat</th>\n",
       "      <th>customer_long</th>\n",
       "      <th>coupon_discount</th>\n",
       "      <th>order_total</th>\n",
       "      <th>season</th>\n",
       "      <th>is_expedited_delivery</th>\n",
       "      <th>distance_to_nearest_warehouse</th>\n",
       "      <th>latest_customer_review</th>\n",
       "      <th>is_happy_customer</th>\n",
       "    </tr>\n",
       "  </thead>\n",
       "  <tbody>\n",
       "    <tr>\n",
       "      <th>0</th>\n",
       "      <td>ORD182494</td>\n",
       "      <td>ID6197211592</td>\n",
       "      <td>2019-06-22</td>\n",
       "      <td>Thompson</td>\n",
       "      <td>[('Lucent 330S', 1), ('Thunder line', 2), ('iStream', 2), ('pearTV', 1)]</td>\n",
       "      <td>12200.0</td>\n",
       "      <td>79.89</td>\n",
       "      <td>-37.815105</td>\n",
       "      <td>144.932843</td>\n",
       "      <td>10</td>\n",
       "      <td>11059.89</td>\n",
       "      <td>Winter</td>\n",
       "      <td>True</td>\n",
       "      <td>1.2800</td>\n",
       "      <td>perfect phone and trusted seller. phone itself is amazing. i got this phone as shown here on the...</td>\n",
       "      <td>True</td>\n",
       "    </tr>\n",
       "    <tr>\n",
       "      <th>1</th>\n",
       "      <td>ORD395518</td>\n",
       "      <td>ID0282825849</td>\n",
       "      <td>2019-12-29</td>\n",
       "      <td>Thompson</td>\n",
       "      <td>[('Thunder line', 1), ('Universe Note', 2)]</td>\n",
       "      <td>9080.0</td>\n",
       "      <td>62.71</td>\n",
       "      <td>-37.802736</td>\n",
       "      <td>144.951118</td>\n",
       "      <td>0</td>\n",
       "      <td>9142.71</td>\n",
       "      <td>Summer</td>\n",
       "      <td>False</td>\n",
       "      <td>1.1621</td>\n",
       "      <td>it keeps dropping calls the wifi don't work this is a waste of money this phone is worthless, it...</td>\n",
       "      <td>False</td>\n",
       "    </tr>\n",
       "    <tr>\n",
       "      <th>2</th>\n",
       "      <td>ORD494479</td>\n",
       "      <td>ID0579391891</td>\n",
       "      <td>2019-03-02</td>\n",
       "      <td>Nickolson</td>\n",
       "      <td>[('Thunder line', 1), ('pearTV', 2)]</td>\n",
       "      <td>10670.0</td>\n",
       "      <td>65.87</td>\n",
       "      <td>-37.821302</td>\n",
       "      <td>144.957581</td>\n",
       "      <td>10</td>\n",
       "      <td>9668.87</td>\n",
       "      <td>Autumn</td>\n",
       "      <td>False</td>\n",
       "      <td>1.0949</td>\n",
       "      <td>five stars this is a great cheap phone.</td>\n",
       "      <td>True</td>\n",
       "    </tr>\n",
       "    <tr>\n",
       "      <th>3</th>\n",
       "      <td>ORD019224</td>\n",
       "      <td>ID4544561904</td>\n",
       "      <td>2019-01-12</td>\n",
       "      <td>Nickolson</td>\n",
       "      <td>[('Universe Note', 1), ('Alcon 10', 2), ('Olivia x460', 1), ('iAssist Line', 1)]</td>\n",
       "      <td>24800.0</td>\n",
       "      <td>57.61</td>\n",
       "      <td>-37.811416</td>\n",
       "      <td>144.973073</td>\n",
       "      <td>15</td>\n",
       "      <td>21137.61</td>\n",
       "      <td>Summer</td>\n",
       "      <td>False</td>\n",
       "      <td>0.8571</td>\n",
       "      <td>charger did not fit the charger didn't fit.</td>\n",
       "      <td>False</td>\n",
       "    </tr>\n",
       "    <tr>\n",
       "      <th>4</th>\n",
       "      <td>ORD104032</td>\n",
       "      <td>ID6231506320</td>\n",
       "      <td>2019-11-28</td>\n",
       "      <td>Nickolson</td>\n",
       "      <td>[('Universe Note', 1), ('Olivia x460', 1), ('iStream', 1), ('Toshika 750', 1)]</td>\n",
       "      <td>9145.0</td>\n",
       "      <td>75.54</td>\n",
       "      <td>-37.823859</td>\n",
       "      <td>144.969892</td>\n",
       "      <td>25</td>\n",
       "      <td>6934.29</td>\n",
       "      <td>Spring</td>\n",
       "      <td>False</td>\n",
       "      <td>0.5867</td>\n",
       "      <td>four stars good</td>\n",
       "      <td>True</td>\n",
       "    </tr>\n",
       "    <tr>\n",
       "      <th>...</th>\n",
       "      <td>...</td>\n",
       "      <td>...</td>\n",
       "      <td>...</td>\n",
       "      <td>...</td>\n",
       "      <td>...</td>\n",
       "      <td>...</td>\n",
       "      <td>...</td>\n",
       "      <td>...</td>\n",
       "      <td>...</td>\n",
       "      <td>...</td>\n",
       "      <td>...</td>\n",
       "      <td>...</td>\n",
       "      <td>...</td>\n",
       "      <td>...</td>\n",
       "      <td>...</td>\n",
       "      <td>...</td>\n",
       "    </tr>\n",
       "    <tr>\n",
       "      <th>925</th>\n",
       "      <td>ORD289820</td>\n",
       "      <td>ID0711745634</td>\n",
       "      <td>2019-06-24</td>\n",
       "      <td>Thompson</td>\n",
       "      <td>[('Toshika 750', 1), ('Lucent 330S', 2), ('Candle Inferno', 1), ('Universe Note', 1)]</td>\n",
       "      <td>10660.0</td>\n",
       "      <td>46.20</td>\n",
       "      <td>-37.815309</td>\n",
       "      <td>144.945919</td>\n",
       "      <td>15</td>\n",
       "      <td>9107.20</td>\n",
       "      <td>Winter</td>\n",
       "      <td>False</td>\n",
       "      <td>0.3104</td>\n",
       "      <td>batería dañada hola. la batería se dañó. donde puedo solicitar su reemplazo o reparación?</td>\n",
       "      <td>False</td>\n",
       "    </tr>\n",
       "    <tr>\n",
       "      <th>926</th>\n",
       "      <td>ORD425999</td>\n",
       "      <td>ID3208518274</td>\n",
       "      <td>2019-02-12</td>\n",
       "      <td>Nickolson</td>\n",
       "      <td>[('pearTV', 2), ('Olivia x460', 1), ('iAssist Line', 1), ('Universe Note', 2)]</td>\n",
       "      <td>22970.0</td>\n",
       "      <td>83.03</td>\n",
       "      <td>-37.802503</td>\n",
       "      <td>144.967428</td>\n",
       "      <td>15</td>\n",
       "      <td>19607.53</td>\n",
       "      <td>Summer</td>\n",
       "      <td>False</td>\n",
       "      <td>1.8010</td>\n",
       "      <td>great phone for the money. the price was right. it works well and the battery easily lasts 2 days.</td>\n",
       "      <td>True</td>\n",
       "    </tr>\n",
       "    <tr>\n",
       "      <th>927</th>\n",
       "      <td>ORD252675</td>\n",
       "      <td>ID0589449505</td>\n",
       "      <td>2019-09-14</td>\n",
       "      <td>Nickolson</td>\n",
       "      <td>[('Alcon 10', 2), ('Thunder line', 2), ('Universe Note', 1), ('Toshika 750', 2)]</td>\n",
       "      <td>34350.0</td>\n",
       "      <td>78.57</td>\n",
       "      <td>-37.809446</td>\n",
       "      <td>144.972736</td>\n",
       "      <td>15</td>\n",
       "      <td>29276.07</td>\n",
       "      <td>Spring</td>\n",
       "      <td>False</td>\n",
       "      <td>1.0563</td>\n",
       "      <td>four stars very good olivia universe s5 , i would rate 4 stars</td>\n",
       "      <td>True</td>\n",
       "    </tr>\n",
       "    <tr>\n",
       "      <th>928</th>\n",
       "      <td>ORD215989</td>\n",
       "      <td>ID6167357842</td>\n",
       "      <td>2019-09-16</td>\n",
       "      <td>Nickolson</td>\n",
       "      <td>[('Candle Inferno', 2), ('Olivia x460', 1), ('Lucent 330S', 2), ('Thunder line', 1)]</td>\n",
       "      <td>6725.0</td>\n",
       "      <td>105.14</td>\n",
       "      <td>-37.807649</td>\n",
       "      <td>144.971370</td>\n",
       "      <td>15</td>\n",
       "      <td>5821.39</td>\n",
       "      <td>Spring</td>\n",
       "      <td>True</td>\n",
       "      <td>1.2289</td>\n",
       "      <td>great purchase!!! my twins love them!!</td>\n",
       "      <td>True</td>\n",
       "    </tr>\n",
       "    <tr>\n",
       "      <th>929</th>\n",
       "      <td>ORD414852</td>\n",
       "      <td>ID0634783923</td>\n",
       "      <td>2019-09-13</td>\n",
       "      <td>Thompson</td>\n",
       "      <td>[('Candle Inferno', 2), ('Alcon 10', 2), ('iAssist Line', 1)]</td>\n",
       "      <td>20985.0</td>\n",
       "      <td>76.99</td>\n",
       "      <td>-37.812930</td>\n",
       "      <td>144.937243</td>\n",
       "      <td>15</td>\n",
       "      <td>17914.24</td>\n",
       "      <td>Spring</td>\n",
       "      <td>False</td>\n",
       "      <td>0.8646</td>\n",
       "      <td>awesome perfect phone to keep connected with kids. it's small and lightweight so very easy to ca...</td>\n",
       "      <td>True</td>\n",
       "    </tr>\n",
       "  </tbody>\n",
       "</table>\n",
       "<p>930 rows × 16 columns</p>\n",
       "</div>"
      ],
      "text/plain": [
       "      order_id   customer_id       date nearest_warehouse  \\\n",
       "0    ORD182494  ID6197211592 2019-06-22          Thompson   \n",
       "1    ORD395518  ID0282825849 2019-12-29          Thompson   \n",
       "2    ORD494479  ID0579391891 2019-03-02         Nickolson   \n",
       "3    ORD019224  ID4544561904 2019-01-12         Nickolson   \n",
       "4    ORD104032  ID6231506320 2019-11-28         Nickolson   \n",
       "..         ...           ...        ...               ...   \n",
       "925  ORD289820  ID0711745634 2019-06-24          Thompson   \n",
       "926  ORD425999  ID3208518274 2019-02-12         Nickolson   \n",
       "927  ORD252675  ID0589449505 2019-09-14         Nickolson   \n",
       "928  ORD215989  ID6167357842 2019-09-16         Nickolson   \n",
       "929  ORD414852  ID0634783923 2019-09-13          Thompson   \n",
       "\n",
       "                                                                             shopping_cart  \\\n",
       "0                 [('Lucent 330S', 1), ('Thunder line', 2), ('iStream', 2), ('pearTV', 1)]   \n",
       "1                                              [('Thunder line', 1), ('Universe Note', 2)]   \n",
       "2                                                     [('Thunder line', 1), ('pearTV', 2)]   \n",
       "3         [('Universe Note', 1), ('Alcon 10', 2), ('Olivia x460', 1), ('iAssist Line', 1)]   \n",
       "4           [('Universe Note', 1), ('Olivia x460', 1), ('iStream', 1), ('Toshika 750', 1)]   \n",
       "..                                                                                     ...   \n",
       "925  [('Toshika 750', 1), ('Lucent 330S', 2), ('Candle Inferno', 1), ('Universe Note', 1)]   \n",
       "926         [('pearTV', 2), ('Olivia x460', 1), ('iAssist Line', 1), ('Universe Note', 2)]   \n",
       "927       [('Alcon 10', 2), ('Thunder line', 2), ('Universe Note', 1), ('Toshika 750', 2)]   \n",
       "928   [('Candle Inferno', 2), ('Olivia x460', 1), ('Lucent 330S', 2), ('Thunder line', 1)]   \n",
       "929                          [('Candle Inferno', 2), ('Alcon 10', 2), ('iAssist Line', 1)]   \n",
       "\n",
       "     order_price  delivery_charges  customer_lat  customer_long  \\\n",
       "0        12200.0             79.89    -37.815105     144.932843   \n",
       "1         9080.0             62.71    -37.802736     144.951118   \n",
       "2        10670.0             65.87    -37.821302     144.957581   \n",
       "3        24800.0             57.61    -37.811416     144.973073   \n",
       "4         9145.0             75.54    -37.823859     144.969892   \n",
       "..           ...               ...           ...            ...   \n",
       "925      10660.0             46.20    -37.815309     144.945919   \n",
       "926      22970.0             83.03    -37.802503     144.967428   \n",
       "927      34350.0             78.57    -37.809446     144.972736   \n",
       "928       6725.0            105.14    -37.807649     144.971370   \n",
       "929      20985.0             76.99    -37.812930     144.937243   \n",
       "\n",
       "     coupon_discount  order_total  season  is_expedited_delivery  \\\n",
       "0                 10     11059.89  Winter                   True   \n",
       "1                  0      9142.71  Summer                  False   \n",
       "2                 10      9668.87  Autumn                  False   \n",
       "3                 15     21137.61  Summer                  False   \n",
       "4                 25      6934.29  Spring                  False   \n",
       "..               ...          ...     ...                    ...   \n",
       "925               15      9107.20  Winter                  False   \n",
       "926               15     19607.53  Summer                  False   \n",
       "927               15     29276.07  Spring                  False   \n",
       "928               15      5821.39  Spring                   True   \n",
       "929               15     17914.24  Spring                  False   \n",
       "\n",
       "     distance_to_nearest_warehouse  \\\n",
       "0                           1.2800   \n",
       "1                           1.1621   \n",
       "2                           1.0949   \n",
       "3                           0.8571   \n",
       "4                           0.5867   \n",
       "..                             ...   \n",
       "925                         0.3104   \n",
       "926                         1.8010   \n",
       "927                         1.0563   \n",
       "928                         1.2289   \n",
       "929                         0.8646   \n",
       "\n",
       "                                                                                  latest_customer_review  \\\n",
       "0    perfect phone and trusted seller. phone itself is amazing. i got this phone as shown here on the...   \n",
       "1    it keeps dropping calls the wifi don't work this is a waste of money this phone is worthless, it...   \n",
       "2                                                                five stars this is a great cheap phone.   \n",
       "3                                                            charger did not fit the charger didn't fit.   \n",
       "4                                                                                        four stars good   \n",
       "..                                                                                                   ...   \n",
       "925            batería dañada hola. la batería se dañó. donde puedo solicitar su reemplazo o reparación?   \n",
       "926   great phone for the money. the price was right. it works well and the battery easily lasts 2 days.   \n",
       "927                                       four stars very good olivia universe s5 , i would rate 4 stars   \n",
       "928                                                               great purchase!!! my twins love them!!   \n",
       "929  awesome perfect phone to keep connected with kids. it's small and lightweight so very easy to ca...   \n",
       "\n",
       "    is_happy_customer  \n",
       "0                True  \n",
       "1               False  \n",
       "2                True  \n",
       "3               False  \n",
       "4                True  \n",
       "..                ...  \n",
       "925             False  \n",
       "926              True  \n",
       "927              True  \n",
       "928              True  \n",
       "929              True  \n",
       "\n",
       "[930 rows x 16 columns]"
      ]
     },
     "metadata": {},
     "output_type": "display_data"
    }
   ],
   "source": [
    "display(df_order_data)"
   ]
  },
  {
   "cell_type": "markdown",
   "id": "f4b5f0cc-8edc-473d-910d-ed7a374d27bb",
   "metadata": {
    "tags": []
   },
   "source": [
    "<a id=\"df_customer_addresses\"></a>"
   ]
  },
  {
   "cell_type": "markdown",
   "id": "7eeef6ad-41dc-4603-a239-1f656d8d022b",
   "metadata": {
    "tags": []
   },
   "source": [
    "# Create new df_customer_addresses DataFrame and export to CSV\n",
    "***"
   ]
  },
  {
   "cell_type": "markdown",
   "id": "8f8c391c-ef06-4d85-ba27-ab1d04584402",
   "metadata": {},
   "source": [
    "<div class=\"alert alert-block alert-info\"><b></b><strong>df_customer_addresses</strong> is created here from <strong>df_order_data</strong>.<br><strong>df_customer_addresses</strong> contains addresses for customers by making an Nominatum API call using the <strong>get_geo_address</strong> function<br><strong>df_customer_addresses</strong> is exported to <strong>customer_addresses.csv</strong> for re-use</div>"
   ]
  },
  {
   "cell_type": "code",
   "execution_count": 150,
   "id": "34cd9d88-6212-4aa0-9840-140c8514ff2f",
   "metadata": {},
   "outputs": [
    {
     "data": {
      "text/html": [
       "<div>\n",
       "<style scoped>\n",
       "    .dataframe tbody tr th:only-of-type {\n",
       "        vertical-align: middle;\n",
       "    }\n",
       "\n",
       "    .dataframe tbody tr th {\n",
       "        vertical-align: top;\n",
       "    }\n",
       "\n",
       "    .dataframe thead th {\n",
       "        text-align: right;\n",
       "    }\n",
       "</style>\n",
       "<table border=\"1\" class=\"dataframe\">\n",
       "  <thead>\n",
       "    <tr style=\"text-align: right;\">\n",
       "      <th></th>\n",
       "      <th>customer_id</th>\n",
       "      <th>customer_lat</th>\n",
       "      <th>customer_long</th>\n",
       "    </tr>\n",
       "  </thead>\n",
       "  <tbody>\n",
       "    <tr>\n",
       "      <th>0</th>\n",
       "      <td>ID6197211592</td>\n",
       "      <td>-37.815105</td>\n",
       "      <td>144.932843</td>\n",
       "    </tr>\n",
       "    <tr>\n",
       "      <th>1</th>\n",
       "      <td>ID0282825849</td>\n",
       "      <td>-37.802736</td>\n",
       "      <td>144.951118</td>\n",
       "    </tr>\n",
       "    <tr>\n",
       "      <th>2</th>\n",
       "      <td>ID0579391891</td>\n",
       "      <td>-37.821302</td>\n",
       "      <td>144.957581</td>\n",
       "    </tr>\n",
       "    <tr>\n",
       "      <th>3</th>\n",
       "      <td>ID4544561904</td>\n",
       "      <td>-37.811416</td>\n",
       "      <td>144.973073</td>\n",
       "    </tr>\n",
       "    <tr>\n",
       "      <th>4</th>\n",
       "      <td>ID6231506320</td>\n",
       "      <td>-37.823859</td>\n",
       "      <td>144.969892</td>\n",
       "    </tr>\n",
       "    <tr>\n",
       "      <th>5</th>\n",
       "      <td>ID0311654900</td>\n",
       "      <td>-37.820245</td>\n",
       "      <td>145.014944</td>\n",
       "    </tr>\n",
       "    <tr>\n",
       "      <th>6</th>\n",
       "      <td>ID3394768956</td>\n",
       "      <td>-37.807743</td>\n",
       "      <td>144.951570</td>\n",
       "    </tr>\n",
       "    <tr>\n",
       "      <th>7</th>\n",
       "      <td>ID4769265355</td>\n",
       "      <td>-37.810810</td>\n",
       "      <td>145.014073</td>\n",
       "    </tr>\n",
       "    <tr>\n",
       "      <th>8</th>\n",
       "      <td>ID5301568579</td>\n",
       "      <td>-37.808675</td>\n",
       "      <td>144.942337</td>\n",
       "    </tr>\n",
       "    <tr>\n",
       "      <th>9</th>\n",
       "      <td>ID4283908179</td>\n",
       "      <td>-37.811334</td>\n",
       "      <td>145.008678</td>\n",
       "    </tr>\n",
       "  </tbody>\n",
       "</table>\n",
       "</div>"
      ],
      "text/plain": [
       "    customer_id  customer_lat  customer_long\n",
       "0  ID6197211592    -37.815105     144.932843\n",
       "1  ID0282825849    -37.802736     144.951118\n",
       "2  ID0579391891    -37.821302     144.957581\n",
       "3  ID4544561904    -37.811416     144.973073\n",
       "4  ID6231506320    -37.823859     144.969892\n",
       "5  ID0311654900    -37.820245     145.014944\n",
       "6  ID3394768956    -37.807743     144.951570\n",
       "7  ID4769265355    -37.810810     145.014073\n",
       "8  ID5301568579    -37.808675     144.942337\n",
       "9  ID4283908179    -37.811334     145.008678"
      ]
     },
     "metadata": {},
     "output_type": "display_data"
    }
   ],
   "source": [
    "# getting 'customer_lat' and 'customer_long'] for df_order_data\n",
    "customerid_lat_long = df_order_data[['customer_id','customer_lat','customer_long']]\n",
    "\n",
    "display(customerid_lat_long.head(10))"
   ]
  },
  {
   "cell_type": "code",
   "execution_count": 151,
   "id": "72105191-004e-4131-8d53-abeeabe7ba0b",
   "metadata": {},
   "outputs": [
    {
     "name": "stdout",
     "output_type": "stream",
     "text": [
      "Dataframe df_warehouse_addresses not required\n"
     ]
    }
   ],
   "source": [
    "# get address for each customer and create a new Dataframe called df_customer_addresses\n",
    "# create_df_customer_addresses = 0 so it doesnt run if 'All Cells are Run'\n",
    "# Change create_df_customer_addresses = 1 to create the df_customer_addresses Dataframe , estimated time 970 records @ 1 second each ~ 17mins.. more like 30mins\n",
    "\n",
    "create_df_customer_addresses = 0\n",
    "\n",
    "if create_df_customer_addresses == 1:\n",
    "    print('Creating df_customer_addresses Dataframe')\n",
    "    df_customer_addresses = pd.DataFrame()\n",
    "    x=1\n",
    "    for i, row in customerid_lat_long.iterrows():\n",
    "            #print to screen to get completion estimate from x     \n",
    "            print(row[0],row[1],row[2])\n",
    "            x+=1\n",
    "            #add 1 second delay from Nominatum rate limiting         \n",
    "            time.sleep(1)\n",
    "            # pass values to the get_geo_address function          \n",
    "            df_customer_addresses = df_customer_addresses.append({'customer_id':get_geo_address(row[0],row[1],row[2])[0], \n",
    "                        'road':get_geo_address(row[0],row[1],row[2])[1],\n",
    "                        'suburb':get_geo_address(row[0],row[1],row[2])[2],\n",
    "                        'city':get_geo_address(row[0],row[1],row[2])[3],\n",
    "                        'postcode':get_geo_address(row[0],row[1],row[2])[4],                                 \n",
    "                        'state':get_geo_address(row[0],row[1],row[2])[5], \n",
    "                        'country':get_geo_address(row[0],row[1],row[2])[6]\n",
    "                       },ignore_index=True)\n",
    "else:\n",
    "    print('Dataframe df_warehouse_addresses not required')\n"
   ]
  },
  {
   "cell_type": "code",
   "execution_count": 152,
   "id": "ed57c893-449b-4989-b72c-009d3b84059c",
   "metadata": {},
   "outputs": [
    {
     "data": {
      "text/html": [
       "<div>\n",
       "<style scoped>\n",
       "    .dataframe tbody tr th:only-of-type {\n",
       "        vertical-align: middle;\n",
       "    }\n",
       "\n",
       "    .dataframe tbody tr th {\n",
       "        vertical-align: top;\n",
       "    }\n",
       "\n",
       "    .dataframe thead th {\n",
       "        text-align: right;\n",
       "    }\n",
       "</style>\n",
       "<table border=\"1\" class=\"dataframe\">\n",
       "  <thead>\n",
       "    <tr style=\"text-align: right;\">\n",
       "      <th></th>\n",
       "      <th>road</th>\n",
       "      <th>suburb</th>\n",
       "      <th>city</th>\n",
       "      <th>postcode</th>\n",
       "      <th>state</th>\n",
       "      <th>country</th>\n",
       "    </tr>\n",
       "    <tr>\n",
       "      <th>customer_id</th>\n",
       "      <th></th>\n",
       "      <th></th>\n",
       "      <th></th>\n",
       "      <th></th>\n",
       "      <th></th>\n",
       "      <th></th>\n",
       "    </tr>\n",
       "  </thead>\n",
       "  <tbody>\n",
       "    <tr>\n",
       "      <th>ID3218293544</th>\n",
       "      <td>Queensberry Street</td>\n",
       "      <td>North Melbourne</td>\n",
       "      <td>Melbourne</td>\n",
       "      <td>3051</td>\n",
       "      <td>Victoria</td>\n",
       "      <td>Australia</td>\n",
       "    </tr>\n",
       "    <tr>\n",
       "      <th>ID0253027653</th>\n",
       "      <td>Main Yarra Trail Capital City Trail</td>\n",
       "      <td>Burnley</td>\n",
       "      <td>Melbourne</td>\n",
       "      <td>3121</td>\n",
       "      <td>Victoria</td>\n",
       "      <td>Australia</td>\n",
       "    </tr>\n",
       "    <tr>\n",
       "      <th>ID0589704716</th>\n",
       "      <td>Flinders Street</td>\n",
       "      <td>Melbourne</td>\n",
       "      <td>Melbourne</td>\n",
       "      <td>3000</td>\n",
       "      <td>Victoria</td>\n",
       "      <td>Australia</td>\n",
       "    </tr>\n",
       "    <tr>\n",
       "      <th>ID0277362770</th>\n",
       "      <td>Victoria Street</td>\n",
       "      <td>Abbotsford</td>\n",
       "      <td>Melbourne</td>\n",
       "      <td>3067</td>\n",
       "      <td>Victoria</td>\n",
       "      <td>Australia</td>\n",
       "    </tr>\n",
       "    <tr>\n",
       "      <th>ID2473002367</th>\n",
       "      <td>Main Yarra Trail Capital City Trail</td>\n",
       "      <td>Abbotsford</td>\n",
       "      <td>Melbourne</td>\n",
       "      <td>3067</td>\n",
       "      <td>Victoria</td>\n",
       "      <td>Australia</td>\n",
       "    </tr>\n",
       "    <tr>\n",
       "      <th>...</th>\n",
       "      <td>...</td>\n",
       "      <td>...</td>\n",
       "      <td>...</td>\n",
       "      <td>...</td>\n",
       "      <td>...</td>\n",
       "      <td>...</td>\n",
       "    </tr>\n",
       "    <tr>\n",
       "      <th>ID3215192035</th>\n",
       "      <td>Roden Street</td>\n",
       "      <td>West Melbourne</td>\n",
       "      <td>Melbourne</td>\n",
       "      <td>3003</td>\n",
       "      <td>Victoria</td>\n",
       "      <td>Australia</td>\n",
       "    </tr>\n",
       "    <tr>\n",
       "      <th>ID0711745634</th>\n",
       "      <td>Marvel Stadium External Concourse (Level 1)</td>\n",
       "      <td>Docklands</td>\n",
       "      <td>Melbourne</td>\n",
       "      <td>3008</td>\n",
       "      <td>Victoria</td>\n",
       "      <td>Australia</td>\n",
       "    </tr>\n",
       "    <tr>\n",
       "      <th>ID3208518274</th>\n",
       "      <td>Lygon Street</td>\n",
       "      <td>Carlton</td>\n",
       "      <td>Melbourne</td>\n",
       "      <td>3053</td>\n",
       "      <td>Victoria</td>\n",
       "      <td>Australia</td>\n",
       "    </tr>\n",
       "    <tr>\n",
       "      <th>ID0589449505</th>\n",
       "      <td>Nicholson Street</td>\n",
       "      <td>East Melbourne</td>\n",
       "      <td>Melbourne</td>\n",
       "      <td>3002</td>\n",
       "      <td>Victoria</td>\n",
       "      <td>Australia</td>\n",
       "    </tr>\n",
       "    <tr>\n",
       "      <th>ID0634783923</th>\n",
       "      <td>Star Circus</td>\n",
       "      <td>Docklands</td>\n",
       "      <td>Melbourne</td>\n",
       "      <td>3008</td>\n",
       "      <td>Victoria</td>\n",
       "      <td>Australia</td>\n",
       "    </tr>\n",
       "  </tbody>\n",
       "</table>\n",
       "<p>508 rows × 6 columns</p>\n",
       "</div>"
      ],
      "text/plain": [
       "                                                     road           suburb  \\\n",
       "customer_id                                                                  \n",
       "ID3218293544                           Queensberry Street  North Melbourne   \n",
       "ID0253027653          Main Yarra Trail Capital City Trail          Burnley   \n",
       "ID0589704716                              Flinders Street        Melbourne   \n",
       "ID0277362770                              Victoria Street       Abbotsford   \n",
       "ID2473002367          Main Yarra Trail Capital City Trail       Abbotsford   \n",
       "...                                                   ...              ...   \n",
       "ID3215192035                                 Roden Street   West Melbourne   \n",
       "ID0711745634  Marvel Stadium External Concourse (Level 1)        Docklands   \n",
       "ID3208518274                                 Lygon Street          Carlton   \n",
       "ID0589449505                             Nicholson Street   East Melbourne   \n",
       "ID0634783923                                  Star Circus        Docklands   \n",
       "\n",
       "                   city  postcode     state    country  \n",
       "customer_id                                             \n",
       "ID3218293544  Melbourne      3051  Victoria  Australia  \n",
       "ID0253027653  Melbourne      3121  Victoria  Australia  \n",
       "ID0589704716  Melbourne      3000  Victoria  Australia  \n",
       "ID0277362770  Melbourne      3067  Victoria  Australia  \n",
       "ID2473002367  Melbourne      3067  Victoria  Australia  \n",
       "...                 ...       ...       ...        ...  \n",
       "ID3215192035  Melbourne      3003  Victoria  Australia  \n",
       "ID0711745634  Melbourne      3008  Victoria  Australia  \n",
       "ID3208518274  Melbourne      3053  Victoria  Australia  \n",
       "ID0589449505  Melbourne      3002  Victoria  Australia  \n",
       "ID0634783923  Melbourne      3008  Victoria  Australia  \n",
       "\n",
       "[508 rows x 6 columns]"
      ]
     },
     "execution_count": 152,
     "metadata": {},
     "output_type": "execute_result"
    }
   ],
   "source": [
    "duplicate = df_customer_addresses[df_customer_addresses.duplicated()] \n",
    "duplicate"
   ]
  },
  {
   "cell_type": "code",
   "execution_count": 153,
   "id": "2535c493-c74c-4227-9091-3ac4b60d8b6c",
   "metadata": {},
   "outputs": [],
   "source": [
    "# we can safely drop duplicates , should be only one address per customer but duplicates may have occured because of multiple orders per customer\n",
    "df_customer_addresses.drop_duplicates(inplace=True)"
   ]
  },
  {
   "cell_type": "code",
   "execution_count": 154,
   "id": "421502fb-79d6-41e5-a54d-4cc083611f9f",
   "metadata": {},
   "outputs": [
    {
     "data": {
      "text/html": [
       "<div>\n",
       "<style scoped>\n",
       "    .dataframe tbody tr th:only-of-type {\n",
       "        vertical-align: middle;\n",
       "    }\n",
       "\n",
       "    .dataframe tbody tr th {\n",
       "        vertical-align: top;\n",
       "    }\n",
       "\n",
       "    .dataframe thead th {\n",
       "        text-align: right;\n",
       "    }\n",
       "</style>\n",
       "<table border=\"1\" class=\"dataframe\">\n",
       "  <thead>\n",
       "    <tr style=\"text-align: right;\">\n",
       "      <th></th>\n",
       "      <th>road</th>\n",
       "      <th>suburb</th>\n",
       "      <th>city</th>\n",
       "      <th>postcode</th>\n",
       "      <th>state</th>\n",
       "      <th>country</th>\n",
       "    </tr>\n",
       "    <tr>\n",
       "      <th>customer_id</th>\n",
       "      <th></th>\n",
       "      <th></th>\n",
       "      <th></th>\n",
       "      <th></th>\n",
       "      <th></th>\n",
       "      <th></th>\n",
       "    </tr>\n",
       "  </thead>\n",
       "  <tbody>\n",
       "    <tr>\n",
       "      <th>ID6197211592</th>\n",
       "      <td>CityLink</td>\n",
       "      <td>Docklands</td>\n",
       "      <td>Melbourne</td>\n",
       "      <td>3008</td>\n",
       "      <td>Victoria</td>\n",
       "      <td>Australia</td>\n",
       "    </tr>\n",
       "    <tr>\n",
       "      <th>ID0282825849</th>\n",
       "      <td>Queensberry Street</td>\n",
       "      <td>North Melbourne</td>\n",
       "      <td>Melbourne</td>\n",
       "      <td>3051</td>\n",
       "      <td>Victoria</td>\n",
       "      <td>Australia</td>\n",
       "    </tr>\n",
       "    <tr>\n",
       "      <th>ID0579391891</th>\n",
       "      <td>Rebecca Walk</td>\n",
       "      <td>Melbourne</td>\n",
       "      <td>Melbourne</td>\n",
       "      <td>3000</td>\n",
       "      <td>Victoria</td>\n",
       "      <td>Australia</td>\n",
       "    </tr>\n",
       "    <tr>\n",
       "      <th>ID4544561904</th>\n",
       "      <td>Bourke Street</td>\n",
       "      <td>East Melbourne</td>\n",
       "      <td>Melbourne</td>\n",
       "      <td>3000</td>\n",
       "      <td>Victoria</td>\n",
       "      <td>Australia</td>\n",
       "    </tr>\n",
       "    <tr>\n",
       "      <th>ID6231506320</th>\n",
       "      <td>Musicians lane</td>\n",
       "      <td>Southbank</td>\n",
       "      <td>Melbourne</td>\n",
       "      <td>3006</td>\n",
       "      <td>Victoria</td>\n",
       "      <td>Australia</td>\n",
       "    </tr>\n",
       "    <tr>\n",
       "      <th>...</th>\n",
       "      <td>...</td>\n",
       "      <td>...</td>\n",
       "      <td>...</td>\n",
       "      <td>...</td>\n",
       "      <td>...</td>\n",
       "      <td>...</td>\n",
       "    </tr>\n",
       "    <tr>\n",
       "      <th>ID6024224415</th>\n",
       "      <td>Buckley Walk</td>\n",
       "      <td>Docklands</td>\n",
       "      <td>Melbourne</td>\n",
       "      <td>3008</td>\n",
       "      <td>Victoria</td>\n",
       "      <td>Australia</td>\n",
       "    </tr>\n",
       "    <tr>\n",
       "      <th>ID0245537608</th>\n",
       "      <td>Constance Stone Lane</td>\n",
       "      <td>Melbourne</td>\n",
       "      <td>Melbourne</td>\n",
       "      <td>3000</td>\n",
       "      <td>Victoria</td>\n",
       "      <td>Australia</td>\n",
       "    </tr>\n",
       "    <tr>\n",
       "      <th>ID0250933641</th>\n",
       "      <td>Duke Street</td>\n",
       "      <td>Richmond</td>\n",
       "      <td>Melbourne</td>\n",
       "      <td>3121</td>\n",
       "      <td>Victoria</td>\n",
       "      <td>Australia</td>\n",
       "    </tr>\n",
       "    <tr>\n",
       "      <th>ID1808484519</th>\n",
       "      <td>Turner Street</td>\n",
       "      <td>Port Melbourne</td>\n",
       "      <td>Melbourne</td>\n",
       "      <td>3207</td>\n",
       "      <td>Victoria</td>\n",
       "      <td>Australia</td>\n",
       "    </tr>\n",
       "    <tr>\n",
       "      <th>ID6167357842</th>\n",
       "      <td>Hotham Street</td>\n",
       "      <td>Carlton</td>\n",
       "      <td>Melbourne</td>\n",
       "      <td>3053</td>\n",
       "      <td>Victoria</td>\n",
       "      <td>Australia</td>\n",
       "    </tr>\n",
       "  </tbody>\n",
       "</table>\n",
       "<p>440 rows × 6 columns</p>\n",
       "</div>"
      ],
      "text/plain": [
       "                              road           suburb       city  postcode  \\\n",
       "customer_id                                                                \n",
       "ID6197211592              CityLink        Docklands  Melbourne      3008   \n",
       "ID0282825849    Queensberry Street  North Melbourne  Melbourne      3051   \n",
       "ID0579391891          Rebecca Walk        Melbourne  Melbourne      3000   \n",
       "ID4544561904         Bourke Street   East Melbourne  Melbourne      3000   \n",
       "ID6231506320        Musicians lane        Southbank  Melbourne      3006   \n",
       "...                            ...              ...        ...       ...   \n",
       "ID6024224415          Buckley Walk        Docklands  Melbourne      3008   \n",
       "ID0245537608  Constance Stone Lane        Melbourne  Melbourne      3000   \n",
       "ID0250933641           Duke Street         Richmond  Melbourne      3121   \n",
       "ID1808484519         Turner Street   Port Melbourne  Melbourne      3207   \n",
       "ID6167357842         Hotham Street          Carlton  Melbourne      3053   \n",
       "\n",
       "                 state    country  \n",
       "customer_id                        \n",
       "ID6197211592  Victoria  Australia  \n",
       "ID0282825849  Victoria  Australia  \n",
       "ID0579391891  Victoria  Australia  \n",
       "ID4544561904  Victoria  Australia  \n",
       "ID6231506320  Victoria  Australia  \n",
       "...                ...        ...  \n",
       "ID6024224415  Victoria  Australia  \n",
       "ID0245537608  Victoria  Australia  \n",
       "ID0250933641  Victoria  Australia  \n",
       "ID1808484519  Victoria  Australia  \n",
       "ID6167357842  Victoria  Australia  \n",
       "\n",
       "[440 rows x 6 columns]"
      ]
     },
     "execution_count": 154,
     "metadata": {},
     "output_type": "execute_result"
    }
   ],
   "source": [
    "df_customer_addresses"
   ]
  },
  {
   "cell_type": "code",
   "execution_count": 155,
   "id": "29dc7b47-011f-414d-8a8d-84f7a2c3e8ea",
   "metadata": {},
   "outputs": [],
   "source": [
    "# output df_customer_addresses created in previous step to csv in local notebook path\n",
    "if create_df_customer_addresses == 1:\n",
    "    df_customer_addresses.to_csv(r'customer_addresses.csv')"
   ]
  },
  {
   "cell_type": "markdown",
   "id": "7f32fd29-e90d-401b-90f0-91027b8191b4",
   "metadata": {},
   "source": [
    "<a id=\"df_warehouse_addresses\"></a>"
   ]
  },
  {
   "cell_type": "markdown",
   "id": "6098bcfa-f076-496d-8596-c3561f043f07",
   "metadata": {},
   "source": [
    "# Create new df_warehouse_addresses DataFrame and export to CSV\n",
    "***"
   ]
  },
  {
   "cell_type": "markdown",
   "id": "a1af9ced-ccc9-48ba-820b-a6bbb3aa7e20",
   "metadata": {},
   "source": [
    "<div class=\"alert alert-block alert-info\"><b></b><strong>df_warehouse_addresses</strong> is created here from <strong>df_warehouses</strong>.<br><strong>df_warehouse_addresses</strong> contains addresses for warehouses by making an Nominatum API call using the <strong>get_geo_address</strong> function<br><strong>df_warehouse_addresses</strong> is exported to <strong>warehouse_addresses.csv</strong> for re-use</div>"
   ]
  },
  {
   "cell_type": "code",
   "execution_count": 156,
   "id": "79596025-2be6-4a03-925d-e50d05ccd989",
   "metadata": {},
   "outputs": [
    {
     "data": {
      "text/html": [
       "<div>\n",
       "<style scoped>\n",
       "    .dataframe tbody tr th:only-of-type {\n",
       "        vertical-align: middle;\n",
       "    }\n",
       "\n",
       "    .dataframe tbody tr th {\n",
       "        vertical-align: top;\n",
       "    }\n",
       "\n",
       "    .dataframe thead th {\n",
       "        text-align: right;\n",
       "    }\n",
       "</style>\n",
       "<table border=\"1\" class=\"dataframe\">\n",
       "  <thead>\n",
       "    <tr style=\"text-align: right;\">\n",
       "      <th></th>\n",
       "      <th>names</th>\n",
       "      <th>lat</th>\n",
       "      <th>lon</th>\n",
       "    </tr>\n",
       "  </thead>\n",
       "  <tbody>\n",
       "    <tr>\n",
       "      <th>0</th>\n",
       "      <td>Nickolson</td>\n",
       "      <td>-37.818595</td>\n",
       "      <td>144.969551</td>\n",
       "    </tr>\n",
       "    <tr>\n",
       "      <th>1</th>\n",
       "      <td>Thompson</td>\n",
       "      <td>-37.812673</td>\n",
       "      <td>144.947069</td>\n",
       "    </tr>\n",
       "    <tr>\n",
       "      <th>2</th>\n",
       "      <td>Bakers</td>\n",
       "      <td>-37.809996</td>\n",
       "      <td>144.995232</td>\n",
       "    </tr>\n",
       "  </tbody>\n",
       "</table>\n",
       "</div>"
      ],
      "text/plain": [
       "       names        lat         lon\n",
       "0  Nickolson -37.818595  144.969551\n",
       "1   Thompson -37.812673  144.947069\n",
       "2     Bakers -37.809996  144.995232"
      ]
     },
     "metadata": {},
     "output_type": "display_data"
    }
   ],
   "source": [
    "# getting '_lat' and 'customer_long'] for df_order_data\n",
    "warehouse_lat_long = df_warehouse_data[['names','lat','lon']]\n",
    "\n",
    "display(warehouse_lat_long)"
   ]
  },
  {
   "cell_type": "markdown",
   "id": "1e73d5ee-2a00-4ff5-aa00-2d979d6ecf55",
   "metadata": {},
   "source": [
    " Change create_df_customer_addresses = 1 to create the df_customer_addresses Dataframe , estimated time 970 records @ 1 second each ~ 17mins.. more like 30mins\n",
    "\n"
   ]
  },
  {
   "cell_type": "code",
   "execution_count": 157,
   "id": "1d86929c-dbd5-4733-8093-adc100e9c7ae",
   "metadata": {},
   "outputs": [
    {
     "name": "stdout",
     "output_type": "stream",
     "text": [
      "Dataframe df_warehouse_addresses not required\n"
     ]
    }
   ],
   "source": [
    "# get address for each customer and create a new Dataframe called df_customer_addresses\n",
    "create_df_warehouse_addresses = 0\n",
    "\n",
    "if create_df_warehouse_addresses == 1:\n",
    "    print('Creating df_warehouse_addresses Dataframe')\n",
    "    df_warehouse_addresses = pd.DataFrame()\n",
    "    x=1\n",
    "    for i, row in warehouse_lat_long.iterrows():\n",
    "            #print to screen to get completion estimate from x     \n",
    "            print(x,row[0],row[1],row[2])\n",
    "            x+=1\n",
    "            #add 1 second delay from Nominatum rate limiting         \n",
    "            time.sleep(1)\n",
    "            # pass values to the get_geo_address function          \n",
    "            df_warehouse_addresses = df_warehouse_addresses.append({'warehouse':get_geo_address(row[0],row[1],row[2])[0],\n",
    "                        'road':get_geo_address(row[0],row[1],row[2])[1],\n",
    "                        'suburb':get_geo_address(row[0],row[1],row[2])[2],\n",
    "                        'city':get_geo_address(row[0],row[1],row[2])[3],\n",
    "                        'postcode':get_geo_address(row[0],row[1],row[2])[4],                                 \n",
    "                        'state':get_geo_address(row[0],row[1],row[2])[5], \n",
    "                        'country':get_geo_address(row[0],row[1],row[2])[6]\n",
    "                       },ignore_index=True)\n",
    "else:\n",
    "    print('Dataframe df_warehouse_addresses not required')\n"
   ]
  },
  {
   "cell_type": "code",
   "execution_count": 158,
   "id": "220f2fe8-44b8-497d-999a-f8bb63358560",
   "metadata": {},
   "outputs": [],
   "source": [
    "# output df_customer_addresses created in previous step to csv in local notebook path\n",
    "if create_df_warehouse_addresses == 1:\n",
    "    df_warehouse_addresses.to_csv(r'warehouse_addresses.csv')"
   ]
  },
  {
   "cell_type": "code",
   "execution_count": 159,
   "id": "4347bd07-0cfe-4b50-8d60-28b093c8699a",
   "metadata": {},
   "outputs": [
    {
     "data": {
      "text/html": [
       "<div>\n",
       "<style scoped>\n",
       "    .dataframe tbody tr th:only-of-type {\n",
       "        vertical-align: middle;\n",
       "    }\n",
       "\n",
       "    .dataframe tbody tr th {\n",
       "        vertical-align: top;\n",
       "    }\n",
       "\n",
       "    .dataframe thead th {\n",
       "        text-align: right;\n",
       "    }\n",
       "</style>\n",
       "<table border=\"1\" class=\"dataframe\">\n",
       "  <thead>\n",
       "    <tr style=\"text-align: right;\">\n",
       "      <th></th>\n",
       "      <th>road</th>\n",
       "      <th>suburb</th>\n",
       "      <th>city</th>\n",
       "      <th>postcode</th>\n",
       "      <th>state</th>\n",
       "      <th>country</th>\n",
       "    </tr>\n",
       "    <tr>\n",
       "      <th>warehouse</th>\n",
       "      <th></th>\n",
       "      <th></th>\n",
       "      <th></th>\n",
       "      <th></th>\n",
       "      <th></th>\n",
       "      <th></th>\n",
       "    </tr>\n",
       "  </thead>\n",
       "  <tbody>\n",
       "    <tr>\n",
       "      <th>Nickolson</th>\n",
       "      <td>Princes Walk</td>\n",
       "      <td>Melbourne</td>\n",
       "      <td>Melbourne</td>\n",
       "      <td>3000</td>\n",
       "      <td>Victoria</td>\n",
       "      <td>Australia</td>\n",
       "    </tr>\n",
       "    <tr>\n",
       "      <th>Thompson</th>\n",
       "      <td>Dudley Street</td>\n",
       "      <td>Docklands</td>\n",
       "      <td>Melbourne</td>\n",
       "      <td>3008</td>\n",
       "      <td>Victoria</td>\n",
       "      <td>Australia</td>\n",
       "    </tr>\n",
       "    <tr>\n",
       "      <th>Bakers</th>\n",
       "      <td>Victoria Street</td>\n",
       "      <td>Abbotsford</td>\n",
       "      <td>Melbourne</td>\n",
       "      <td>3067</td>\n",
       "      <td>Victoria</td>\n",
       "      <td>Australia</td>\n",
       "    </tr>\n",
       "  </tbody>\n",
       "</table>\n",
       "</div>"
      ],
      "text/plain": [
       "                      road      suburb       city  postcode     state  \\\n",
       "warehouse                                                               \n",
       "Nickolson     Princes Walk   Melbourne  Melbourne      3000  Victoria   \n",
       "Thompson     Dudley Street   Docklands  Melbourne      3008  Victoria   \n",
       "Bakers     Victoria Street  Abbotsford  Melbourne      3067  Victoria   \n",
       "\n",
       "             country  \n",
       "warehouse             \n",
       "Nickolson  Australia  \n",
       "Thompson   Australia  \n",
       "Bakers     Australia  "
      ]
     },
     "metadata": {},
     "output_type": "display_data"
    }
   ],
   "source": [
    "display(df_warehouse_addresses)"
   ]
  },
  {
   "cell_type": "markdown",
   "id": "78872474-40c1-445d-affa-63124884d8db",
   "metadata": {},
   "source": [
    "## Merge df_order_data , df_customer_addresses and df_warehouse_addresses\n",
    "***"
   ]
  },
  {
   "cell_type": "code",
   "execution_count": 160,
   "id": "ab9f502e-25f5-48a5-a775-ff0410e7c33f",
   "metadata": {},
   "outputs": [],
   "source": [
    "# data in df_order_data is cleanso we can merge with df_customer_addresses and df_warehouse_addresses\n",
    "df_order_data_full = df_order_data.merge(df_customer_addresses , on=['customer_id'])\\\n",
    ".merge(df_warehouse_addresses ,left_on='nearest_warehouse' ,right_on='warehouse' ,suffixes=('_cust','_warehouse'))"
   ]
  },
  {
   "cell_type": "code",
   "execution_count": 213,
   "id": "e2e35dc3-8ed4-4b3f-bc3f-3a9f7138d5a8",
   "metadata": {},
   "outputs": [
    {
     "data": {
      "text/html": [
       "<div>\n",
       "<style scoped>\n",
       "    .dataframe tbody tr th:only-of-type {\n",
       "        vertical-align: middle;\n",
       "    }\n",
       "\n",
       "    .dataframe tbody tr th {\n",
       "        vertical-align: top;\n",
       "    }\n",
       "\n",
       "    .dataframe thead th {\n",
       "        text-align: right;\n",
       "    }\n",
       "</style>\n",
       "<table border=\"1\" class=\"dataframe\">\n",
       "  <thead>\n",
       "    <tr style=\"text-align: right;\">\n",
       "      <th></th>\n",
       "      <th>is_happy_customer</th>\n",
       "    </tr>\n",
       "  </thead>\n",
       "  <tbody>\n",
       "    <tr>\n",
       "      <th>0</th>\n",
       "      <td>True</td>\n",
       "    </tr>\n",
       "    <tr>\n",
       "      <th>1</th>\n",
       "      <td>True</td>\n",
       "    </tr>\n",
       "    <tr>\n",
       "      <th>2</th>\n",
       "      <td>False</td>\n",
       "    </tr>\n",
       "    <tr>\n",
       "      <th>3</th>\n",
       "      <td>True</td>\n",
       "    </tr>\n",
       "    <tr>\n",
       "      <th>4</th>\n",
       "      <td>False</td>\n",
       "    </tr>\n",
       "    <tr>\n",
       "      <th>...</th>\n",
       "      <td>...</td>\n",
       "    </tr>\n",
       "    <tr>\n",
       "      <th>420</th>\n",
       "      <td>True</td>\n",
       "    </tr>\n",
       "    <tr>\n",
       "      <th>421</th>\n",
       "      <td>True</td>\n",
       "    </tr>\n",
       "    <tr>\n",
       "      <th>422</th>\n",
       "      <td>True</td>\n",
       "    </tr>\n",
       "    <tr>\n",
       "      <th>423</th>\n",
       "      <td>False</td>\n",
       "    </tr>\n",
       "    <tr>\n",
       "      <th>424</th>\n",
       "      <td>True</td>\n",
       "    </tr>\n",
       "  </tbody>\n",
       "</table>\n",
       "<p>425 rows × 1 columns</p>\n",
       "</div>"
      ],
      "text/plain": [
       "    is_happy_customer\n",
       "0                True\n",
       "1                True\n",
       "2               False\n",
       "3                True\n",
       "4               False\n",
       "..                ...\n",
       "420              True\n",
       "421              True\n",
       "422              True\n",
       "423             False\n",
       "424              True\n",
       "\n",
       "[425 rows x 1 columns]"
      ]
     },
     "metadata": {},
     "output_type": "display_data"
    }
   ],
   "source": [
    "display(df_order_data_full[['is_happy_customer']])"
   ]
  },
  {
   "cell_type": "code",
   "execution_count": 203,
   "id": "363a306e-6ccc-43d0-91da-c416979f7c0f",
   "metadata": {},
   "outputs": [
    {
     "data": {
      "text/plain": [
       "Index(['order_id', 'customer_id', 'date', 'nearest_warehouse', 'shopping_cart',\n",
       "       'order_price', 'delivery_charges', 'customer_lat', 'customer_long',\n",
       "       'coupon_discount', 'order_total', 'season', 'is_expedited_delivery',\n",
       "       'distance_to_nearest_warehouse', 'latest_customer_review',\n",
       "       'is_happy_customer', 'road_cust', 'suburb_cust', 'city_cust',\n",
       "       'postcode_cust', 'state_cust', 'country_cust', 'road_warehouse',\n",
       "       'suburb_warehouse', 'city_warehouse', 'postcode_warehouse',\n",
       "       'state_warehouse', 'country_warehouse'],\n",
       "      dtype='object')"
      ]
     },
     "metadata": {},
     "output_type": "display_data"
    }
   ],
   "source": [
    "display(df_order_data_full.columns)"
   ]
  },
  {
   "cell_type": "markdown",
   "id": "9f5d77d5-842c-4aea-93b4-795e396bc4a0",
   "metadata": {},
   "source": [
    "# Visualisations\n",
    "***"
   ]
  },
  {
   "cell_type": "markdown",
   "id": "8532e2ad-1c76-406b-b34f-557ec5caad72",
   "metadata": {},
   "source": [
    "<div class=\"alert alert-block alert-info\"><b></b>Create Visualations for Analysis</div>"
   ]
  },
  {
   "cell_type": "code",
   "execution_count": 162,
   "id": "107e844c-3fcc-43b2-9ed1-f1052f37a57f",
   "metadata": {},
   "outputs": [
    {
     "data": {
      "image/png": "[encoded data removed]",
      "text/plain": [
       "<Figure size 432x288 with 1 Axes>"
      ]
     },
     "metadata": {
      "needs_background": "light"
     },
     "output_type": "display_data"
    }
   ],
   "source": [
    "# Get the total number of avocados sold of each size\n",
    "nb_sold_by_size = df_order_data_full.groupby(['nearest_warehouse'])['order_total'].sum()\n",
    "\n",
    "# Create a bar plot of the number of avocados sold by size\n",
    "nb_sold_by_size.plot(kind = \"bar\", title='Warehouse by Order Total')\n",
    "\n",
    "# Show the plot\n",
    "plt.show()"
   ]
  },
  {
   "cell_type": "code",
   "execution_count": 163,
   "id": "e0be58ab-83a3-4c98-94db-95b33eee777d",
   "metadata": {},
   "outputs": [
    {
     "data": {
      "image/png": "[encoded data removed]",
      "text/plain": [
       "<Figure size 432x288 with 1 Axes>"
      ]
     },
     "metadata": {},
     "output_type": "display_data"
    }
   ],
   "source": [
    "# Get the total number of avocados sold of each size\n",
    "nb_sold_by_size = df_order_data_full.groupby(['season'])['order_total'].sum()\n",
    "\n",
    "# Create a bar plot of the number of avocados sold by size\n",
    "nb_sold_by_size.plot(kind = \"pie\", title='Season by Order Total')\n",
    "\n",
    "# Show the plot\n",
    "plt.show()"
   ]
  },
  {
   "cell_type": "code",
   "execution_count": 175,
   "id": "00e6d7c2-6dad-43c6-899a-5b2540a46125",
   "metadata": {},
   "outputs": [
    {
     "data": {
      "image/png": "[encoded data removed]",
      "text/plain": [
       "<Figure size 720x432 with 1 Axes>"
      ]
     },
     "metadata": {},
     "output_type": "display_data"
    }
   ],
   "source": [
    "sns.scatterplot(data=df_order_data_full, x='date', y='order_total',hue='season')\n",
    "plt.show()"
   ]
  },
  {
   "cell_type": "code",
   "execution_count": 239,
   "id": "5625491b-3b3d-4943-bb17-92aa85b250f9",
   "metadata": {},
   "outputs": [
    {
     "data": {
      "image/png": "[encoded data removed]",
      "text/plain": [
       "<Figure size 432x288 with 1 Axes>"
      ]
     },
     "metadata": {},
     "output_type": "display_data"
    }
   ],
   "source": [
    "\n",
    "sns.set_theme(style=\"darkgrid\")\n",
    "\n",
    "# Draw a nested violinplot and split the violins for easier comparison\n",
    "sns.violinplot(data=df_order_data_full, x=\"nearest_warehouse\", y=\"order_total\", hue=\"is_happy_customer\",\n",
    "               split=True, inner=\"quart\", linewidth=1)\n",
    "               # palette={\"True\": \"b\", \"False\": \".85\"})\n",
    "sns.despine(left=True)"
   ]
  },
  {
   "cell_type": "code",
   "execution_count": 166,
   "id": "cdbe920e-1647-47fc-a545-15f37c4717ed",
   "metadata": {},
   "outputs": [
    {
     "data": {
      "image/png": "[encoded data removed]",
      "text/plain": [
       "<Figure size 432x288 with 1 Axes>"
      ]
     },
     "metadata": {
      "needs_background": "light"
     },
     "output_type": "display_data"
    }
   ],
   "source": [
    "# Scatter plot of nb_sold vs avg_price with title\n",
    "df_order_data_full.plot(x=\"order_total\",y=\"distance_to_nearest_warehouse\",kind = \"scatter\",title = \"Order Total by Distance to Warehouse\")\n",
    "\n",
    "# Show the plot\n",
    "plt.show()"
   ]
  },
  {
   "cell_type": "code",
   "execution_count": null,
   "id": "da4d51e8-eb3b-4c18-81f6-9531d864f034",
   "metadata": {},
   "outputs": [],
   "source": []
  }
 ],
 "metadata": {
  "kernelspec": {
   "display_name": "Python 3 (ipykernel)",
   "language": "python",
   "name": "python3"
  },
  "language_info": {
   "codemirror_mode": {
    "name": "ipython",
    "version": 3
   },
   "file_extension": ".py",
   "mimetype": "text/x-python",
   "name": "python",
   "nbconvert_exporter": "python",
   "pygments_lexer": "ipython3",
   "version": "3.9.7"
  },
  "toc-autonumbering": true,
  "toc-showcode": false,
  "toc-showmarkdowntxt": true,
  "toc-showtags": false
 },
 "nbformat": 4,
 "nbformat_minor": 5
}
