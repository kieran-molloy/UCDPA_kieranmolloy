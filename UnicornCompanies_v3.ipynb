{
 "cells": [
  {
   "cell_type": "markdown",
   "id": "4bc81fef-be34-4d43-afa7-ed884ecdddef",
   "metadata": {
    "tags": []
   },
   "source": [
    "# Kieran Molloy UCDPA Project CIDAB 2022-01-18\n",
    "***"
   ]
  },
  {
   "cell_type": "markdown",
   "id": "c65a50c9-f137-4f6a-905c-a9eb56e8a062",
   "metadata": {
    "tags": []
   },
   "source": [
    "## Environment Information\n",
    "***\n",
    "<table align=\"left\">\n",
    "<tr>\n",
    "    <th>Environment Type</th>\n",
    "    <th>Anaconda Version</th>\n",
    "    <th>Anaconda Build Channel</th>\n",
    "    <th>Python Version</th>\n",
    "</tr>\n",
    "<tr>\n",
    "    <td>Anaconda </td>\n",
    "    <td>2021.11 </td>\n",
    "    <td>py39_0 </td>\n",
    "    <td>3.9.7 </td>\n",
    "</tr>\n",
    "</table>    "
   ]
  },
  {
   "cell_type": "markdown",
   "id": "9da34455-eae0-4eeb-b8b0-db005e55dc3b",
   "metadata": {},
   "source": [
    "## Datasource\n",
    "***\n",
    "<table align=\"left\">\n",
    "<tr>\n",
    "    <td>https://www.kaggle.com/datasets/deepcontractor/unicorn-companies-dataset?select=Unicorn_Companies.csv</td>\n",
    "</tr>\n",
    "</table>"
   ]
  },
  {
   "cell_type": "markdown",
   "id": "d7c0e8a7-e5d5-4338-a912-c66f1133b981",
   "metadata": {
    "tags": []
   },
   "source": [
    "## Import Required Modules\n",
    "***"
   ]
  },
  {
   "cell_type": "code",
   "execution_count": null,
   "id": "06def53d",
   "metadata": {},
   "outputs": [],
   "source": [
    "#!pip install geonamescache\n",
    "#!pip install geotext\n",
    "\n",
    "#!pip install geopy"
   ]
  },
  {
   "cell_type": "code",
   "execution_count": null,
   "id": "d57a05f8-006b-4a00-9ca2-c83962bd5e70",
   "metadata": {},
   "outputs": [],
   "source": [
    "from matplotlib import pyplot as plt\n",
    "from IPython.display import display\n",
    "\n",
    "import pandas as pd\n",
    "import numpy as np\n",
    "import seaborn as sns\n",
    "import re\n",
    "\n",
    "import geonamescache #https://pypi.org/project/geonamescache/\n",
    "from geotext import GeoText"
   ]
  },
  {
   "cell_type": "markdown",
   "id": "f1486c01-ad12-43e7-a1f0-7fd06b243fc6",
   "metadata": {
    "tags": []
   },
   "source": [
    "## Variables\n",
    "***"
   ]
  },
  {
   "cell_type": "code",
   "execution_count": null,
   "id": "69766df6-dec2-429c-b004-3adba8958330",
   "metadata": {
    "tags": []
   },
   "outputs": [],
   "source": [
    "csv = 'Unicorn_Companies.csv'"
   ]
  },
  {
   "cell_type": "markdown",
   "id": "4c7f3f8c-2ec9-411d-af62-677983ff4005",
   "metadata": {
    "tags": []
   },
   "source": [
    "## Functions\n",
    "***"
   ]
  },
  {
   "cell_type": "code",
   "execution_count": null,
   "id": "58a8b311-1e88-4d39-8cd1-c01efc5ee232",
   "metadata": {},
   "outputs": [],
   "source": [
    "def fn_set_float(value):\n",
    "    \"\"\"remove non numeric string and convert numeric to float \"\"\"\n",
    "    if value == 'None' or value == 'NaN':\n",
    "      pass\n",
    "    elif re.search('[Mm]+',value):\n",
    "        stripped = float(re.search(r'\\d+',value).group())\n",
    "        return stripped/1000\n",
    "    elif re.search('[Kk]+',value):\n",
    "        stripped = float(re.search(r'\\d+',value).group())\n",
    "        return stripped/100000\n",
    "    else:\n",
    "        stripped = float(re.search(r'\\d+',value).group())\n",
    "        return stripped"
   ]
  },
  {
   "cell_type": "code",
   "execution_count": null,
   "id": "38ab81bc-f3e7-4f9e-9945-0bfb781ecdfa",
   "metadata": {},
   "outputs": [],
   "source": [
    "def fn_set_int(value):\n",
    "    \"\"\"convert float to int\"\"\"\n",
    "    if value == 'None' or value == 'NaN':\n",
    "      pass\n",
    "    else:\n",
    "        toint = int(value)\n",
    "        return toint"
   ]
  },
  {
   "cell_type": "code",
   "execution_count": null,
   "id": "1bc1e3bc-e10f-48f8-8a0a-13cb389b3c9e",
   "metadata": {},
   "outputs": [],
   "source": [
    "def converttobillions(value):\n",
    "      \n",
    "    pass"
   ]
  },
  {
   "cell_type": "code",
   "execution_count": null,
   "id": "238e9ac2-17d6-4781-bb3f-28070fbc1d59",
   "metadata": {},
   "outputs": [],
   "source": [
    "def function4():\n",
    "    \n",
    "    pass"
   ]
  },
  {
   "cell_type": "markdown",
   "id": "e66db364-b269-4b91-be27-0290d4f29dd1",
   "metadata": {},
   "source": [
    "## Initial CSV import \n",
    "***"
   ]
  },
  {
   "cell_type": "code",
   "execution_count": null,
   "id": "af264b0e-60d3-4646-8624-71164493da17",
   "metadata": {
    "tags": []
   },
   "outputs": [],
   "source": [
    "# read the CSV from the local Jupyter Notebook directory \n",
    "df_unicorn_companies_initial = pd.read_csv(csv)"
   ]
  },
  {
   "cell_type": "markdown",
   "id": "78828df2-aa5c-4733-94ca-8ee149c3f931",
   "metadata": {
    "tags": []
   },
   "source": [
    "## Inspect Data\n",
    "***"
   ]
  },
  {
   "cell_type": "code",
   "execution_count": null,
   "id": "31eac9ef-cab1-4fff-9ad6-93f302085ab3",
   "metadata": {
    "tags": []
   },
   "outputs": [],
   "source": [
    "display(df_unicorn_companies_initial.head(10))"
   ]
  },
  {
   "cell_type": "code",
   "execution_count": null,
   "id": "cbab87ea-f537-4d31-b3a3-00464e9e9361",
   "metadata": {},
   "outputs": [],
   "source": [
    "# all columns are imported as object datatypes\n",
    "print(df_unicorn_companies_initial.info())"
   ]
  },
  {
   "cell_type": "code",
   "execution_count": null,
   "id": "5714ba90-e9be-44d3-b790-7dbd8882ca5f",
   "metadata": {},
   "outputs": [],
   "source": [
    "# determine if there are any isna missing values , none found\n",
    "print(df_unicorn_companies_initial.isna().any())"
   ]
  },
  {
   "cell_type": "code",
   "execution_count": null,
   "id": "a0cc56d2-4f10-49af-a107-d5387e433415",
   "metadata": {},
   "outputs": [],
   "source": [
    "# determine if there are any isnull missing values , none found\n",
    "print(df_unicorn_companies_initial.isnull().sum())"
   ]
  },
  {
   "cell_type": "markdown",
   "id": "f90e5dc7-e59a-450e-bfe3-0fed94b9cf7c",
   "metadata": {
    "tags": []
   },
   "source": [
    "## Import CSV Data\n",
    "***"
   ]
  },
  {
   "cell_type": "code",
   "execution_count": null,
   "id": "5318deb0-cf9c-4515-823c-e84f157e4d34",
   "metadata": {},
   "outputs": [],
   "source": [
    "# read_csv with some data manupilation on import , remove unwanted characters, change datatypes , change 'None' to na_values\n",
    "df_unicorn_companies = pd.read_csv(csv, parse_dates=['Date Joined'], na_values='None',converters={'Valuation ($B)':fn_set_float,'Total Raised': fn_set_float}, dtype={'Founded Year': 'Int64','Investors Count': 'Int64','Deal Terms': 'Int64','Portfolio Exits': 'Int64'})"
   ]
  },
  {
   "cell_type": "code",
   "execution_count": null,
   "id": "e7c45c6d-4d6d-4391-a6ea-ccbfdff95616",
   "metadata": {
    "tags": []
   },
   "outputs": [],
   "source": [
    "# re-check datatypes , all seem preferred\n",
    "print(df_unicorn_companies.info())"
   ]
  },
  {
   "cell_type": "code",
   "execution_count": null,
   "id": "53bf9f19-db6e-4d8c-b251-4e812a825cb0",
   "metadata": {},
   "outputs": [],
   "source": [
    "# re-check for NaN / None\n",
    "print(df_unicorn_companies.isna().any())"
   ]
  },
  {
   "cell_type": "code",
   "execution_count": null,
   "id": "5bf4d97e-549f-4ba7-b872-2e8ad1972203",
   "metadata": {},
   "outputs": [],
   "source": [
    "# re-check count of NaN / None\n",
    "df_unicorn_companies.isnull().sum()"
   ]
  },
  {
   "cell_type": "code",
   "execution_count": null,
   "id": "e4ad5d84-4d04-47b1-aeaf-dac565455bc5",
   "metadata": {},
   "outputs": [],
   "source": [
    "# using display instead of print for better formatting in Notebook only .. understood print is preferable in commandline\n",
    "display(df_unicorn_companies)"
   ]
  },
  {
   "cell_type": "code",
   "execution_count": null,
   "id": "31919b53-6fc8-43a8-9640-95064ca00fd9",
   "metadata": {},
   "outputs": [],
   "source": [
    "df_unicorn_companies.describe"
   ]
  },
  {
   "cell_type": "markdown",
   "id": "fddd2e82-779f-4a09-839d-f08797a3948e",
   "metadata": {
    "tags": []
   },
   "source": [
    "## Clean Data\n",
    "***"
   ]
  },
  {
   "cell_type": "code",
   "execution_count": null,
   "id": "9d242ede-8342-4550-8d42-989ad0723738",
   "metadata": {},
   "outputs": [],
   "source": [
    "# get the index and row label of the Dataframe\n",
    "print(df_unicorn_companies.index)"
   ]
  },
  {
   "cell_type": "code",
   "execution_count": null,
   "id": "4050c745-5562-429d-b5b0-b45df601851c",
   "metadata": {},
   "outputs": [],
   "source": [
    "# using display instead for print for better formatting in Notebook only .. understood print is preferable in commandline\n",
    "# Company column showing as Index \n",
    "display(df_unicorn_companies)"
   ]
  },
  {
   "cell_type": "code",
   "execution_count": null,
   "id": "95d97ab1-615e-4dcb-b3d4-61464ed5e6bb",
   "metadata": {},
   "outputs": [],
   "source": [
    "# rename 'Select Inverstors' column name typo and 'Total Raised' added $B to column name in Dataframe \n",
    "df_unicorn_companies.rename(columns = {'Select Inverstors':'Select Investors','Total Raised':'Total Raised($B)'}, inplace = True)\n",
    "# show both renames successful\n",
    "display(df_unicorn_companies)"
   ]
  },
  {
   "cell_type": "code",
   "execution_count": null,
   "id": "7f82c0dc-b3cb-4c5c-8165-d6fc79abead2",
   "metadata": {},
   "outputs": [],
   "source": [
    "# determine if there are any full row duplicates\n",
    "duplicateRows = df_unicorn_companies[df_unicorn_companies.duplicated()]\n",
    "# None found\n",
    "display(duplicateRows)"
   ]
  },
  {
   "cell_type": "code",
   "execution_count": null,
   "id": "1b20b547-25ff-4ea5-8541-847cdf86775c",
   "metadata": {},
   "outputs": [],
   "source": [
    "# determine if there are any unicorn company name duplicates\n",
    "duplicateRows = df_unicorn_companies[df_unicorn_companies.duplicated(['Company'])]\n",
    "display(duplicateRows['Company'])"
   ]
  },
  {
   "cell_type": "code",
   "execution_count": null,
   "id": "920d675c-6daa-4039-aed7-697c1c7a1286",
   "metadata": {},
   "outputs": [],
   "source": [
    "# determine if there are Company Name duplicates \n",
    "duplicateCompanies = df_unicorn_companies['Company'].isin(['Bolt','Fabric'])\n",
    "display(df_unicorn_companies[duplicateCompanies])"
   ]
  },
  {
   "cell_type": "code",
   "execution_count": null,
   "id": "2cad87b5-4f52-4883-b937-bcc372a4a20c",
   "metadata": {},
   "outputs": [],
   "source": [
    "# rename Bolt to 'Bolt Financial' at index 37\n",
    "df_unicorn_companies.at[37,'Company'] = 'Bolt Financial'"
   ]
  },
  {
   "cell_type": "code",
   "execution_count": null,
   "id": "79e1b09d-d1ea-490d-aa7a-473f9df32819",
   "metadata": {},
   "outputs": [],
   "source": [
    "# rename Fabric to 'Get Fabric' at index 976\n",
    "df_unicorn_companies.at[976,'Company'] = 'Get Fabric'\n",
    "# re-run search for company duplicates"
   ]
  },
  {
   "cell_type": "code",
   "execution_count": null,
   "id": "e770c31d-5c30-4a0f-ab86-86ed79be04c7",
   "metadata": {},
   "outputs": [],
   "source": [
    "df_unicorn_companies"
   ]
  },
  {
   "cell_type": "code",
   "execution_count": null,
   "id": "73203577-f33e-48b4-8b1e-1ec02b1c4af1",
   "metadata": {},
   "outputs": [],
   "source": [
    "# check country names for spelling for accurate grouping\n",
    "countryname = df_unicorn_companies['Country'].sort_values().unique()\n",
    "display(countryname)"
   ]
  },
  {
   "cell_type": "code",
   "execution_count": null,
   "id": "fb13996c-0368-4fbd-b147-0c799890d087",
   "metadata": {},
   "outputs": [],
   "source": [
    "df_unicorn_companies[(df_unicorn_companies['Select Investors'].isnull()) & (~df_unicorn_companies['Country'].isin(['China','Bahamas']))]"
   ]
  },
  {
   "cell_type": "code",
   "execution_count": null,
   "id": "dfff4f59-7485-4daf-9742-bd9f7ade952e",
   "metadata": {},
   "outputs": [],
   "source": [
    "# check city names for accurate grouping\n",
    "# if we look at the values for city where 'Select Investors' are NaN , it looks like the data is left shifted i.e city value is Industry value etc.\n",
    "# it could be where City and Country are the same this issue arises i.e Hong Kong and Singapore : China and Bahamas are excepetions\n",
    "# if country value --> copied to City --> city value copied to Industry Value --> Industry Value copied to Select Investors\n",
    "nan_investors = df_unicorn_companies[(df_unicorn_companies['Select Investors'].isnull()) & (~df_unicorn_companies['Country'].isin(['China','Bahamas']))]\n",
    "# 'Country' --> 'City' , 'City' --> 'Industry' ,  Industry' --> 'Select Investors'\n",
    "display(nan_investors)"
   ]
  },
  {
   "cell_type": "code",
   "execution_count": null,
   "id": "e3ab1222-e35e-4476-8e57-c1e9b05ef2db",
   "metadata": {},
   "outputs": [],
   "source": [
    "# country - Bahamas , city - Nassau\n",
    "# country - Singapore , city - Singapore\n",
    "# country - Hong Kong , city - Hong Kong\n",
    "# change by country \n",
    "\n",
    "# do Singapore and Hong Kong first\n",
    "indexto_shift = shifted_columns[shifted_columns['Country'].isin(['Singapore','Hong Kong'])].index\n",
    "indexto_shift"
   ]
  },
  {
   "cell_type": "code",
   "execution_count": null,
   "id": "20a2aeb9-f8dd-48c5-bc6e-8c2d3d2e3e9f",
   "metadata": {},
   "outputs": [],
   "source": [
    "# Copy 'Industry' to 'Select Investors' \n",
    "for i in indexto_shift:\n",
    "    df_unicorn_companies.at[i,'Select Investors'] = df_unicorn_companies.at[i,'Industry']\n",
    "# Copy 'City' to 'Industry'\n",
    "for i in indexto_shift:\n",
    "    df_unicorn_companies.at[i,'Industry'] = df_unicorn_companies.at[i,'City']\n",
    "# Copy 'Country' to 'City'  \n",
    "for i in indexto_shift:\n",
    "    df_unicorn_companies.at[i,'City'] = df_unicorn_companies.at[i,'Country']"
   ]
  },
  {
   "cell_type": "code",
   "execution_count": null,
   "id": "afc75e8f-47ee-4a7e-88c1-4736f7c1c5b1",
   "metadata": {},
   "outputs": [],
   "source": [
    "# check singapore and Hong Kong are ok \n",
    "df_unicorn_companies[(df_unicorn_companies['Country'].isin(['Singapore','Hong Kong']))]\n",
    "# Country \tCity \tIndustry \tSelect Investors are all correct now. "
   ]
  },
  {
   "cell_type": "code",
   "execution_count": null,
   "id": "a664a7c3-e584-49c3-ac78-b060de7d159e",
   "metadata": {},
   "outputs": [],
   "source": [
    "df_unicorn_companies[(df_unicorn_companies['Select Investors'].isnull()) & (df_unicorn_companies['Country'].isin(['China','Bahamas']))]"
   ]
  },
  {
   "cell_type": "code",
   "execution_count": null,
   "id": "6a734ed8-df06-4de1-98cb-8d3e0d737943",
   "metadata": {},
   "outputs": [],
   "source": [
    "# googled investors for index 789 , company: LinkSure Network - 'Northern Light Venture Capital' \n",
    "df_unicorn_companies.at[789,'Select Investors'] = 'Northern Light Venture Capital'"
   ]
  },
  {
   "cell_type": "code",
   "execution_count": null,
   "id": "e1d1c8a8-4492-4518-862e-7c813efc81f3",
   "metadata": {},
   "outputs": [],
   "source": [
    "# next to update is index 10  , company: FTX \n",
    "# Country \tCity \tIndustry \t\n",
    "\n",
    "i = 10\n",
    "# Copy 'Industry' to 'Select Investors' \n",
    "df_unicorn_companies.at[i,'Select Investors'] = df_unicorn_companies.at[i,'Industry']\n",
    "\n",
    "# Copy 'City' to 'Industry'\n",
    "df_unicorn_companies.at[i,'Industry'] = df_unicorn_companies.at[i,'City']\n",
    "\n",
    "# set City to Nassau\n",
    "df_unicorn_companies.at[i,'City'] = 'Nassau'"
   ]
  },
  {
   "cell_type": "code",
   "execution_count": null,
   "id": "4b3e8137-e4d3-4d41-939d-59a64940f050",
   "metadata": {},
   "outputs": [],
   "source": [
    "# check if the above changes have been effective \n",
    "df_unicorn_companies[df_unicorn_companies['Country'].isin(['China','Bahamas','Singapore','Hong Kong'])]\n",
    "# Country \tCity \tIndustry \tSelect Investors are all correct now. "
   ]
  },
  {
   "cell_type": "code",
   "execution_count": null,
   "id": "8493c588-8267-4dab-99fc-6d1736017cfb",
   "metadata": {},
   "outputs": [],
   "source": [
    "# check country names for spelling for accurate grouping\n",
    "industryname = df_unicorn_companies['Industry'].sort_values().unique()\n",
    "display(industryname)\n",
    "#  shows Fintech and AI have two entries each"
   ]
  },
  {
   "cell_type": "code",
   "execution_count": null,
   "id": "9b91faa3-e25f-4377-9080-a808732c6baf",
   "metadata": {},
   "outputs": [],
   "source": [
    "# check country names for spelling for accurate grouping\n",
    "industryname = df_unicorn_companies['Industry'].sort_values().unique()\n",
    "display(industryname)\n",
    "#  shows Fintech and AI have spelling mistakes"
   ]
  },
  {
   "cell_type": "code",
   "execution_count": null,
   "id": "9004ecda-0a2c-4932-8ccf-278e4bc13fe0",
   "metadata": {},
   "outputs": [],
   "source": [
    "# df_unicorn_companies[df_unicorn_companies['Industry'].isin(['Artificial Intelligence','Artificial intelligence'])]\n",
    "\n",
    "df_unicorn_companies['Industry'] = df_unicorn_companies['Industry'].replace(to_replace=['Artificial Intelligence','Artificial intelligence'],  value='Artificial Intelligence')\n",
    "df_unicorn_companies['Industry'] = df_unicorn_companies['Industry'].replace(to_replace=['Fintech','Finttech'],  value='Fintech')"
   ]
  },
  {
   "cell_type": "code",
   "execution_count": null,
   "id": "b2be3a4c-e0cb-4227-bc56-3860bfcbfe1f",
   "metadata": {},
   "outputs": [],
   "source": [
    "df_unicorn_companies[df_unicorn_companies['Industry'].isin(['Artificial Intelligence','Artificial intelligence','Fintech','Finttech'])]\n",
    "# 'Artificial Intelligence','Artificial intelligence','Fintech','Finttech' have been replaced with 'Fintech' and 'Artificial Intelligence'"
   ]
  },
  {
   "cell_type": "code",
   "execution_count": null,
   "id": "41e46e65-4843-4959-b3c9-ce07836e05ca",
   "metadata": {},
   "outputs": [],
   "source": [
    "df_unicorn_companies[df_unicorn_companies['Founded Year'].isnull()]"
   ]
  },
  {
   "cell_type": "code",
   "execution_count": null,
   "id": "3d70d348-9754-4317-a099-7551deb9be6b",
   "metadata": {},
   "outputs": [],
   "source": [
    "for index, row in nan_investors.iterrows():\n",
    "    print(index, ': ', row['Country'], 'value should be copied to', row['City'], 'value should be copied to', row['Industry'],'value should be copied to', row['Select Investors'])"
   ]
  },
  {
   "cell_type": "code",
   "execution_count": null,
   "id": "6bc223b2-2359-4dc9-9445-2bbef1104201",
   "metadata": {},
   "outputs": [],
   "source": [
    "# check city names for accurate grouping\n",
    "countryname = df_unicorn_companies['City'].sort_values().unique()\n",
    "\n",
    "for name in countryname: \n",
    "    print(name)"
   ]
  },
  {
   "cell_type": "code",
   "execution_count": null,
   "id": "f396a503-8b8d-464a-974f-dda1ff90d1f7",
   "metadata": {},
   "outputs": [],
   "source": [
    "# check industry cvalues for grouping\n",
    "countryname = df_unicorn_companies['Industry'].sort_values().unique()\n",
    "display(countryname)"
   ]
  },
  {
   "cell_type": "code",
   "execution_count": null,
   "id": "42173579-e44a-4941-a43b-2c80a0be24b8",
   "metadata": {},
   "outputs": [],
   "source": [
    "# check industry cvalues for grouping\n",
    "df_unicorn_companies[df_unicorn_companies['Founded Year'].isna()]"
   ]
  },
  {
   "cell_type": "markdown",
   "id": "d528881a-c46c-4bae-95f9-72863d4b6c37",
   "metadata": {},
   "source": [
    "## Analyse\n",
    "***"
   ]
  },
  {
   "cell_type": "code",
   "execution_count": null,
   "id": "030eb955-1251-4cdf-838e-3ff81a82d25e",
   "metadata": {
    "tags": []
   },
   "outputs": [],
   "source": [
    "# set an index column\n",
    "df_unicorn_companies.set_index('Company',inplace=True)"
   ]
  },
  {
   "cell_type": "code",
   "execution_count": null,
   "id": "068f6ddd-6063-420e-9c28-db4d679cd8a8",
   "metadata": {},
   "outputs": [],
   "source": [
    "# sort Valuation descending \n",
    "df_unicorn_companies.sort_values('Valuation ($B)', ascending=False, inplace=True)"
   ]
  },
  {
   "cell_type": "code",
   "execution_count": null,
   "id": "5f311af7-519c-4834-bf75-3e79295acd35",
   "metadata": {},
   "outputs": [],
   "source": [
    "# sort sum of Valuation descending buy country\n",
    "df_unicorn_companies.groupby('Country')['Valuation ($B)'].sum().sort_values(ascending=False)"
   ]
  },
  {
   "cell_type": "code",
   "execution_count": null,
   "id": "193d1f18-a33b-4779-8492-e2eeb367b443",
   "metadata": {},
   "outputs": [],
   "source": [
    "# sort sum of Valuation descending buy country\n",
    "df_unicorn_companies.groupby('Industry')['Valuation ($B)'].sum().sort_values(ascending=False)"
   ]
  },
  {
   "cell_type": "markdown",
   "id": "104c4dd5-e3ba-4c82-abac-e2e942c00a02",
   "metadata": {},
   "source": [
    "## Visualise\n",
    "***"
   ]
  },
  {
   "cell_type": "code",
   "execution_count": null,
   "id": "b71ba23f-d1ea-4438-a256-88cafc7f8fa0",
   "metadata": {},
   "outputs": [],
   "source": []
  }
 ],
 "metadata": {
  "kernelspec": {
   "display_name": "Python 3 (ipykernel)",
   "language": "python",
   "name": "python3"
  },
  "language_info": {
   "codemirror_mode": {
    "name": "ipython",
    "version": 3
   },
   "file_extension": ".py",
   "mimetype": "text/x-python",
   "name": "python",
   "nbconvert_exporter": "python",
   "pygments_lexer": "ipython3",
   "version": "3.9.7"
  }
 },
 "nbformat": 4,
 "nbformat_minor": 5
}
