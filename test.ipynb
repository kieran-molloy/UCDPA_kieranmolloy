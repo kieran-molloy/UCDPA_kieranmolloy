{
 "cells": [
  {
   "cell_type": "code",
   "execution_count": null,
   "metadata": {},
   "outputs": [],
   "source": []
  }
 ],
 "metadata": {
  "interpreter": {
   "hash": "dbe42cb4c2793432dcadf28492a2988acbd5a49379c08cc63ce0c644e7c41a2c"
  },
  "kernelspec": {
   "display_name": "Python 3.9.7 ('ucdpa')",
   "language": "python",
   "name": "python3"
  },
  "language_info": {
   "name": "python",
   "version": "3.9.7"
  },
  "orig_nbformat": 4
 },
 "nbformat": 4,
 "nbformat_minor": 2
}
